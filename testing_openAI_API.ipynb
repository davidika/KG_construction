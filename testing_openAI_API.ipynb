{
 "cells": [
  {
   "cell_type": "markdown",
   "id": "207471af",
   "metadata": {},
   "source": [
    "# Libraries"
   ]
  },
  {
   "cell_type": "code",
   "execution_count": 1,
   "id": "f5b97276",
   "metadata": {},
   "outputs": [],
   "source": [
    "# using conda library 'ontogpt_fork'; naming irrelevant as this was previously going to be used to work on a different project.\n",
    "\n",
    "import pandas as pd\n",
    "import re\n",
    "import numpy as np\n",
    "import os\n",
    "import random\n",
    "from tqdm import tqdm # progress bar tracking\n",
    "\n",
    "import json\n",
    "\n",
    "\n",
    "pd.set_option('display.max_rows', None)\n",
    "pd.set_option('display.width', 50)\n",
    "pd.set_option('display.max_columns', None)\n",
    "pd.set_option('display.max_colwidth', 50)\n",
    "\n",
    "# pre-processing pipeline\n",
    "import pprint\n",
    "import nltk\n",
    "from nltk.corpus import stopwords\n",
    "from nltk.tokenize import word_tokenize\n",
    "from nltk.stem import PorterStemmer\n",
    "from nltk.stem import WordNetLemmatizer\n",
    "\n",
    "# NER & RE\n",
    "import spacy\n",
    "\n",
    "from spacy.tokens import DocBin\n",
    "from spacy.training import Example\n",
    "from spacy.util import minibatch\n",
    "\n",
    "from itertools import combinations\n",
    "\n",
    "import torch\n",
    "from transformers import BertTokenizer, BertModel, BertForSequenceClassification\n",
    "\n",
    "import torch\n",
    "import torch.nn as nn\n",
    "import torch.nn.functional as F\n",
    "\n",
    "# prompts for OpenAI\n",
    "import json\n",
    "import openai_secret_manager\n",
    "import openai\n",
    "\n",
    "import tiktoken\n",
    "from typing import List, Tuple"
   ]
  },
  {
   "cell_type": "markdown",
   "id": "214f5a82",
   "metadata": {},
   "source": [
    "# Import & explore dataset"
   ]
  },
  {
   "cell_type": "code",
   "execution_count": 2,
   "id": "1944d14f",
   "metadata": {},
   "outputs": [],
   "source": [
    "aylien = pd.read_pickle('./datasets/Aylien_68628.pickle')"
   ]
  },
  {
   "cell_type": "code",
   "execution_count": 3,
   "id": "046c5bda",
   "metadata": {},
   "outputs": [],
   "source": [
    "# rename id col.\n",
    "aylien.rename(columns={'id': 'article_id'}, inplace=True)"
   ]
  },
  {
   "cell_type": "code",
   "execution_count": 4,
   "id": "60dda0e5",
   "metadata": {},
   "outputs": [
    {
     "name": "stdout",
     "output_type": "stream",
     "text": [
      "68628\n",
      "<class 'pandas.core.frame.DataFrame'>\n",
      "Int64Index: 68628 entries, 0 to 68627\n",
      "Data columns (total 5 columns):\n",
      " #   Column        Non-Null Count  Dtype                  \n",
      "---  ------        --------------  -----                  \n",
      " 0   article_id    68628 non-null  int64                  \n",
      " 1   title         68628 non-null  object                 \n",
      " 2   published_at  68628 non-null  datetime64[ns, tzutc()]\n",
      " 3   source        68628 non-null  object                 \n",
      " 4   body          68628 non-null  object                 \n",
      "dtypes: datetime64[ns, tzutc()](1), int64(1), object(3)\n",
      "memory usage: 3.1+ MB\n"
     ]
    }
   ],
   "source": [
    "print(len(aylien))\n",
    "aylien.info()"
   ]
  },
  {
   "cell_type": "code",
   "execution_count": 5,
   "id": "0e58f403",
   "metadata": {
    "scrolled": true
   },
   "outputs": [
    {
     "data": {
      "text/html": [
       "<div>\n",
       "<style scoped>\n",
       "    .dataframe tbody tr th:only-of-type {\n",
       "        vertical-align: middle;\n",
       "    }\n",
       "\n",
       "    .dataframe tbody tr th {\n",
       "        vertical-align: top;\n",
       "    }\n",
       "\n",
       "    .dataframe thead th {\n",
       "        text-align: right;\n",
       "    }\n",
       "</style>\n",
       "<table border=\"1\" class=\"dataframe\">\n",
       "  <thead>\n",
       "    <tr style=\"text-align: right;\">\n",
       "      <th></th>\n",
       "      <th>article_id</th>\n",
       "      <th>title</th>\n",
       "      <th>published_at</th>\n",
       "      <th>source</th>\n",
       "      <th>body</th>\n",
       "    </tr>\n",
       "  </thead>\n",
       "  <tbody>\n",
       "    <tr>\n",
       "      <th>0</th>\n",
       "      <td>5594565918</td>\n",
       "      <td>Alcohol Is Creating, Not Fixing, Your Anxiety</td>\n",
       "      <td>2023-04-30 04:56:45+00:00</td>\n",
       "      <td>Medium</td>\n",
       "      <td>Opponent process theory and the self-regulatin...</td>\n",
       "    </tr>\n",
       "    <tr>\n",
       "      <th>1</th>\n",
       "      <td>5594560310</td>\n",
       "      <td>Petrol Subsidy Removal: Buhari hands over toug...</td>\n",
       "      <td>2023-04-30 04:55:40+00:00</td>\n",
       "      <td>Latest Nigerian News</td>\n",
       "      <td>Nigeria oil resources, especially petrol, seem...</td>\n",
       "    </tr>\n",
       "    <tr>\n",
       "      <th>2</th>\n",
       "      <td>5594561296</td>\n",
       "      <td>Ria Atayde on why losing weight is difficult f...</td>\n",
       "      <td>2023-04-30 04:53:55+00:00</td>\n",
       "      <td>Vietnam Explorer News Channel</td>\n",
       "      <td>Ria Atayde clapped back at body shamers as she...</td>\n",
       "    </tr>\n",
       "  </tbody>\n",
       "</table>\n",
       "</div>"
      ],
      "text/plain": [
       "   article_id  \\\n",
       "0  5594565918   \n",
       "1  5594560310   \n",
       "2  5594561296   \n",
       "\n",
       "                                               title  \\\n",
       "0      Alcohol Is Creating, Not Fixing, Your Anxiety   \n",
       "1  Petrol Subsidy Removal: Buhari hands over toug...   \n",
       "2  Ria Atayde on why losing weight is difficult f...   \n",
       "\n",
       "               published_at  \\\n",
       "0 2023-04-30 04:56:45+00:00   \n",
       "1 2023-04-30 04:55:40+00:00   \n",
       "2 2023-04-30 04:53:55+00:00   \n",
       "\n",
       "                          source  \\\n",
       "0                         Medium   \n",
       "1           Latest Nigerian News   \n",
       "2  Vietnam Explorer News Channel   \n",
       "\n",
       "                                                body  \n",
       "0  Opponent process theory and the self-regulatin...  \n",
       "1  Nigeria oil resources, especially petrol, seem...  \n",
       "2  Ria Atayde clapped back at body shamers as she...  "
      ]
     },
     "execution_count": 5,
     "metadata": {},
     "output_type": "execute_result"
    }
   ],
   "source": [
    "aylien.head(3)"
   ]
  },
  {
   "cell_type": "code",
   "execution_count": 6,
   "id": "c69b9585",
   "metadata": {},
   "outputs": [
    {
     "name": "stdout",
     "output_type": "stream",
     "text": [
      "100\n"
     ]
    },
    {
     "data": {
      "text/html": [
       "<div>\n",
       "<style scoped>\n",
       "    .dataframe tbody tr th:only-of-type {\n",
       "        vertical-align: middle;\n",
       "    }\n",
       "\n",
       "    .dataframe tbody tr th {\n",
       "        vertical-align: top;\n",
       "    }\n",
       "\n",
       "    .dataframe thead th {\n",
       "        text-align: right;\n",
       "    }\n",
       "</style>\n",
       "<table border=\"1\" class=\"dataframe\">\n",
       "  <thead>\n",
       "    <tr style=\"text-align: right;\">\n",
       "      <th></th>\n",
       "      <th>article_id</th>\n",
       "      <th>title</th>\n",
       "      <th>published_at</th>\n",
       "      <th>source</th>\n",
       "      <th>body</th>\n",
       "    </tr>\n",
       "  </thead>\n",
       "  <tbody>\n",
       "    <tr>\n",
       "      <th>26897</th>\n",
       "      <td>5541797339</td>\n",
       "      <td>5 warning signs of poor blood circulation</td>\n",
       "      <td>2023-04-14 20:34:46+00:00</td>\n",
       "      <td>Newsfounded</td>\n",
       "      <td>Heart attack, stroke or kidney failure: poor b...</td>\n",
       "    </tr>\n",
       "    <tr>\n",
       "      <th>60244</th>\n",
       "      <td>5451482089</td>\n",
       "      <td>Sultana's Death In Custody: She had head injur...</td>\n",
       "      <td>2023-03-28 01:22:10+00:00</td>\n",
       "      <td>The Daily Star - Bangladesh</td>\n",
       "      <td>Sultana Jasmine, a union-level land employee i...</td>\n",
       "    </tr>\n",
       "    <tr>\n",
       "      <th>7247</th>\n",
       "      <td>5580830636</td>\n",
       "      <td>MAGA-Obsessed GOP Rep. Ronny Jackson Mocked Af...</td>\n",
       "      <td>2023-04-26 09:03:19+00:00</td>\n",
       "      <td>Vietnam Explorer News Channel</td>\n",
       "      <td>Rep. Ronny Jackson (R-Tex.), already known for...</td>\n",
       "    </tr>\n",
       "    <tr>\n",
       "      <th>52028</th>\n",
       "      <td>5467485064</td>\n",
       "      <td>Helping families cope with mental illness</td>\n",
       "      <td>2023-03-31 21:46:30+00:00</td>\n",
       "      <td>WOAI News 4 Sanantonio</td>\n",
       "      <td>SAN ANTONIO - One in five U.S. adults experien...</td>\n",
       "    </tr>\n",
       "    <tr>\n",
       "      <th>18981</th>\n",
       "      <td>5557299621</td>\n",
       "      <td>As states cut Medicaid, some fear they'll mist...</td>\n",
       "      <td>2023-04-19 14:08:22+00:00</td>\n",
       "      <td>Vietnam Explorer News Channel</td>\n",
       "      <td>Tonya Moore, 49, relies on doctor visits and p...</td>\n",
       "    </tr>\n",
       "  </tbody>\n",
       "</table>\n",
       "</div>"
      ],
      "text/plain": [
       "       article_id  \\\n",
       "26897  5541797339   \n",
       "60244  5451482089   \n",
       "7247   5580830636   \n",
       "52028  5467485064   \n",
       "18981  5557299621   \n",
       "\n",
       "                                                   title  \\\n",
       "26897          5 warning signs of poor blood circulation   \n",
       "60244  Sultana's Death In Custody: She had head injur...   \n",
       "7247   MAGA-Obsessed GOP Rep. Ronny Jackson Mocked Af...   \n",
       "52028          Helping families cope with mental illness   \n",
       "18981  As states cut Medicaid, some fear they'll mist...   \n",
       "\n",
       "                   published_at  \\\n",
       "26897 2023-04-14 20:34:46+00:00   \n",
       "60244 2023-03-28 01:22:10+00:00   \n",
       "7247  2023-04-26 09:03:19+00:00   \n",
       "52028 2023-03-31 21:46:30+00:00   \n",
       "18981 2023-04-19 14:08:22+00:00   \n",
       "\n",
       "                              source  \\\n",
       "26897                    Newsfounded   \n",
       "60244    The Daily Star - Bangladesh   \n",
       "7247   Vietnam Explorer News Channel   \n",
       "52028         WOAI News 4 Sanantonio   \n",
       "18981  Vietnam Explorer News Channel   \n",
       "\n",
       "                                                    body  \n",
       "26897  Heart attack, stroke or kidney failure: poor b...  \n",
       "60244  Sultana Jasmine, a union-level land employee i...  \n",
       "7247   Rep. Ronny Jackson (R-Tex.), already known for...  \n",
       "52028  SAN ANTONIO - One in five U.S. adults experien...  \n",
       "18981  Tonya Moore, 49, relies on doctor visits and p...  "
      ]
     },
     "execution_count": 6,
     "metadata": {},
     "output_type": "execute_result"
    }
   ],
   "source": [
    "# Isolate 100 articles to work with:\n",
    "\n",
    "# Set the seed for reproducibility\n",
    "seed_value = 52\n",
    "\n",
    "# Set the seed\n",
    "aylien_100 = aylien.sample(n=100, random_state=seed_value)\n",
    "\n",
    "print(len(aylien_100))\n",
    "aylien_100.head()"
   ]
  },
  {
   "cell_type": "code",
   "execution_count": 7,
   "id": "6e1abbf9",
   "metadata": {},
   "outputs": [
    {
     "data": {
      "text/html": [
       "<div>\n",
       "<style scoped>\n",
       "    .dataframe tbody tr th:only-of-type {\n",
       "        vertical-align: middle;\n",
       "    }\n",
       "\n",
       "    .dataframe tbody tr th {\n",
       "        vertical-align: top;\n",
       "    }\n",
       "\n",
       "    .dataframe thead th {\n",
       "        text-align: right;\n",
       "    }\n",
       "</style>\n",
       "<table border=\"1\" class=\"dataframe\">\n",
       "  <thead>\n",
       "    <tr style=\"text-align: right;\">\n",
       "      <th></th>\n",
       "      <th>article_id</th>\n",
       "      <th>title</th>\n",
       "      <th>published_at</th>\n",
       "      <th>source</th>\n",
       "      <th>body</th>\n",
       "    </tr>\n",
       "  </thead>\n",
       "  <tbody>\n",
       "    <tr>\n",
       "      <th>26897</th>\n",
       "      <td>5541797339</td>\n",
       "      <td>5 warning signs of poor blood circulation</td>\n",
       "      <td>2023-04-14 20:34:46+00:00</td>\n",
       "      <td>Newsfounded</td>\n",
       "      <td>Heart attack, stroke or kidney failure: poor b...</td>\n",
       "    </tr>\n",
       "    <tr>\n",
       "      <th>60244</th>\n",
       "      <td>5451482089</td>\n",
       "      <td>Sultana's Death In Custody: She had head injur...</td>\n",
       "      <td>2023-03-28 01:22:10+00:00</td>\n",
       "      <td>The Daily Star - Bangladesh</td>\n",
       "      <td>Sultana Jasmine, a union-level land employee i...</td>\n",
       "    </tr>\n",
       "    <tr>\n",
       "      <th>7247</th>\n",
       "      <td>5580830636</td>\n",
       "      <td>MAGA-Obsessed GOP Rep. Ronny Jackson Mocked Af...</td>\n",
       "      <td>2023-04-26 09:03:19+00:00</td>\n",
       "      <td>Vietnam Explorer News Channel</td>\n",
       "      <td>Rep. Ronny Jackson (R-Tex.), already known for...</td>\n",
       "    </tr>\n",
       "    <tr>\n",
       "      <th>52028</th>\n",
       "      <td>5467485064</td>\n",
       "      <td>Helping families cope with mental illness</td>\n",
       "      <td>2023-03-31 21:46:30+00:00</td>\n",
       "      <td>WOAI News 4 Sanantonio</td>\n",
       "      <td>SAN ANTONIO - One in five U.S. adults experien...</td>\n",
       "    </tr>\n",
       "    <tr>\n",
       "      <th>18981</th>\n",
       "      <td>5557299621</td>\n",
       "      <td>As states cut Medicaid, some fear they'll mist...</td>\n",
       "      <td>2023-04-19 14:08:22+00:00</td>\n",
       "      <td>Vietnam Explorer News Channel</td>\n",
       "      <td>Tonya Moore, 49, relies on doctor visits and p...</td>\n",
       "    </tr>\n",
       "  </tbody>\n",
       "</table>\n",
       "</div>"
      ],
      "text/plain": [
       "       article_id  \\\n",
       "26897  5541797339   \n",
       "60244  5451482089   \n",
       "7247   5580830636   \n",
       "52028  5467485064   \n",
       "18981  5557299621   \n",
       "\n",
       "                                                   title  \\\n",
       "26897          5 warning signs of poor blood circulation   \n",
       "60244  Sultana's Death In Custody: She had head injur...   \n",
       "7247   MAGA-Obsessed GOP Rep. Ronny Jackson Mocked Af...   \n",
       "52028          Helping families cope with mental illness   \n",
       "18981  As states cut Medicaid, some fear they'll mist...   \n",
       "\n",
       "                   published_at  \\\n",
       "26897 2023-04-14 20:34:46+00:00   \n",
       "60244 2023-03-28 01:22:10+00:00   \n",
       "7247  2023-04-26 09:03:19+00:00   \n",
       "52028 2023-03-31 21:46:30+00:00   \n",
       "18981 2023-04-19 14:08:22+00:00   \n",
       "\n",
       "                              source  \\\n",
       "26897                    Newsfounded   \n",
       "60244    The Daily Star - Bangladesh   \n",
       "7247   Vietnam Explorer News Channel   \n",
       "52028         WOAI News 4 Sanantonio   \n",
       "18981  Vietnam Explorer News Channel   \n",
       "\n",
       "                                                    body  \n",
       "26897  Heart attack, stroke or kidney failure: poor b...  \n",
       "60244  Sultana Jasmine, a union-level land employee i...  \n",
       "7247   Rep. Ronny Jackson (R-Tex.), already known for...  \n",
       "52028  SAN ANTONIO - One in five U.S. adults experien...  \n",
       "18981  Tonya Moore, 49, relies on doctor visits and p...  "
      ]
     },
     "execution_count": 7,
     "metadata": {},
     "output_type": "execute_result"
    }
   ],
   "source": [
    "aylien_100.head()"
   ]
  },
  {
   "cell_type": "markdown",
   "id": "4def62d4",
   "metadata": {},
   "source": [
    "# Prompt generation"
   ]
  },
  {
   "cell_type": "markdown",
   "id": "353e8e84",
   "metadata": {},
   "source": [
    "## Investigating potential prompts\n",
    "\n",
    "1. \"give me an answer only in cypher language that i can paste into neo4j to create a graph. What is the single main event and relation described by the article regarding IIC Padmalochan Manigarahi?  The article is: Mayurbhanj: One person was killed, while two others sustained critical injuries when they were brutally attacked by a youth on suspicion of practising black magic on Sunday night.\\nThe incident has been reported from Kainal village in Jualibhanga panchayat under Morada police station limits in Odisha's Mayurbhanj district.\\n  The deceased has been identified as Gauri Tudu (70) and the injured as Kuni Tudu (42) and Kalicharan Tudu (47).\\n  According to reports, a youth named Durga Charan Tudu suddenly attacked the three while they were sitting in their home last night. Durga Charan Tudu allegedly attacked the three with a sharp weapon, which left septuagenarian Gauri Tudu dead on the spot, while two members of the family were severely injured and dropped unconscious. He bore a grudge against the Tudu family suspecting that they practised witchcraft and were responsible for several ills in the village.\\n  Soon after the gruesome incident, the three were rushed to the nearby community health center where doctors declared Gauri Tudu brought dead. Kuni Tudu and Kalicharan Tudu were shifted to the PRM Hospital in Baripada as their condition deteriorated. Currently, Kuni Tudu and Kalicharan Tudu are undergoing treatment in the hospital and their condition is said to be critical.\\n  On being informed, Morada police IIC Padmalochan Manigarahi and Chitrada outpost officer Niranjan Saren reached the spot with their teams. They sent Gauri's body for post-mortem and detained Durga Charan Tudu for interrogation. An investigation into the incident is underway.\"\n",
    "\n",
    "* Notes on above:\n",
    "    * only sometimes produces cypher query.\n",
    "    * and if it does, difficult to get in a clean plaintext format that can be piped out.\n",
    "    * cypher query often not accurate, if produced.\n",
    "    * response from CGPT too large/cumbersome. defeats purpose.\n",
    "    "
   ]
  },
  {
   "cell_type": "code",
   "execution_count": 8,
   "id": "4ceedb4b",
   "metadata": {},
   "outputs": [],
   "source": [
    "# Create a function to generate the prompt based on the row values\n",
    "def generate_prompt(row):\n",
    "\n",
    "    body = row['body']\n",
    "    article_id = row['article_id']\n",
    "    \n",
    "    prompt = f'''\n",
    "    For the main organisation discussed in this article (if any), give me information as follows and nothing else.\n",
    "    The article id should always be present for reference.\n",
    "    Include any government organisations discussed, if they are the main organisation discussed.\n",
    "    ###\n",
    "    <\n",
    "    article_id: {article_id}\n",
    "    org: <main organisation discussed/NA>.\n",
    "    location: <location_of_main_org/NA>\n",
    "    risk_type: <risk_type_faced_by_main_org/NA>.\n",
    "    items_sold: <comma_separated_list_of_items_sold_by_main_org/NA>.\n",
    "    service_provided: <comma_separated_list_of_services_provided_by_main_org/NA>.\n",
    "    business_relations: <comma_separated_list_of_orgs_with_business_relation_to_main_org/NA>.\n",
    "    >\n",
    "    ###\n",
    "    The article is: {body}.\n",
    "    ###\n",
    "    '''\n",
    "    \n",
    "    #return prompt.replace('\\n', '')\n",
    "    return prompt\n",
    "\n",
    "# Add a new 'prompt' column by applying the generate_prompt function to each row\n",
    "aylien_100['prompt'] = aylien_100.apply(generate_prompt, axis=1)"
   ]
  },
  {
   "cell_type": "code",
   "execution_count": 9,
   "id": "56b933e9",
   "metadata": {},
   "outputs": [
    {
     "data": {
      "text/html": [
       "<div>\n",
       "<style scoped>\n",
       "    .dataframe tbody tr th:only-of-type {\n",
       "        vertical-align: middle;\n",
       "    }\n",
       "\n",
       "    .dataframe tbody tr th {\n",
       "        vertical-align: top;\n",
       "    }\n",
       "\n",
       "    .dataframe thead th {\n",
       "        text-align: right;\n",
       "    }\n",
       "</style>\n",
       "<table border=\"1\" class=\"dataframe\">\n",
       "  <thead>\n",
       "    <tr style=\"text-align: right;\">\n",
       "      <th></th>\n",
       "      <th>article_id</th>\n",
       "      <th>title</th>\n",
       "      <th>published_at</th>\n",
       "      <th>source</th>\n",
       "      <th>body</th>\n",
       "      <th>prompt</th>\n",
       "    </tr>\n",
       "  </thead>\n",
       "  <tbody>\n",
       "    <tr>\n",
       "      <th>26897</th>\n",
       "      <td>5541797339</td>\n",
       "      <td>5 warning signs of poor blood circulation</td>\n",
       "      <td>2023-04-14 20:34:46+00:00</td>\n",
       "      <td>Newsfounded</td>\n",
       "      <td>Heart attack, stroke or kidney failure: poor b...</td>\n",
       "      <td>\\n    For the main organisation discussed in t...</td>\n",
       "    </tr>\n",
       "    <tr>\n",
       "      <th>60244</th>\n",
       "      <td>5451482089</td>\n",
       "      <td>Sultana's Death In Custody: She had head injur...</td>\n",
       "      <td>2023-03-28 01:22:10+00:00</td>\n",
       "      <td>The Daily Star - Bangladesh</td>\n",
       "      <td>Sultana Jasmine, a union-level land employee i...</td>\n",
       "      <td>\\n    For the main organisation discussed in t...</td>\n",
       "    </tr>\n",
       "    <tr>\n",
       "      <th>7247</th>\n",
       "      <td>5580830636</td>\n",
       "      <td>MAGA-Obsessed GOP Rep. Ronny Jackson Mocked Af...</td>\n",
       "      <td>2023-04-26 09:03:19+00:00</td>\n",
       "      <td>Vietnam Explorer News Channel</td>\n",
       "      <td>Rep. Ronny Jackson (R-Tex.), already known for...</td>\n",
       "      <td>\\n    For the main organisation discussed in t...</td>\n",
       "    </tr>\n",
       "    <tr>\n",
       "      <th>52028</th>\n",
       "      <td>5467485064</td>\n",
       "      <td>Helping families cope with mental illness</td>\n",
       "      <td>2023-03-31 21:46:30+00:00</td>\n",
       "      <td>WOAI News 4 Sanantonio</td>\n",
       "      <td>SAN ANTONIO - One in five U.S. adults experien...</td>\n",
       "      <td>\\n    For the main organisation discussed in t...</td>\n",
       "    </tr>\n",
       "    <tr>\n",
       "      <th>18981</th>\n",
       "      <td>5557299621</td>\n",
       "      <td>As states cut Medicaid, some fear they'll mist...</td>\n",
       "      <td>2023-04-19 14:08:22+00:00</td>\n",
       "      <td>Vietnam Explorer News Channel</td>\n",
       "      <td>Tonya Moore, 49, relies on doctor visits and p...</td>\n",
       "      <td>\\n    For the main organisation discussed in t...</td>\n",
       "    </tr>\n",
       "  </tbody>\n",
       "</table>\n",
       "</div>"
      ],
      "text/plain": [
       "       article_id  \\\n",
       "26897  5541797339   \n",
       "60244  5451482089   \n",
       "7247   5580830636   \n",
       "52028  5467485064   \n",
       "18981  5557299621   \n",
       "\n",
       "                                                   title  \\\n",
       "26897          5 warning signs of poor blood circulation   \n",
       "60244  Sultana's Death In Custody: She had head injur...   \n",
       "7247   MAGA-Obsessed GOP Rep. Ronny Jackson Mocked Af...   \n",
       "52028          Helping families cope with mental illness   \n",
       "18981  As states cut Medicaid, some fear they'll mist...   \n",
       "\n",
       "                   published_at  \\\n",
       "26897 2023-04-14 20:34:46+00:00   \n",
       "60244 2023-03-28 01:22:10+00:00   \n",
       "7247  2023-04-26 09:03:19+00:00   \n",
       "52028 2023-03-31 21:46:30+00:00   \n",
       "18981 2023-04-19 14:08:22+00:00   \n",
       "\n",
       "                              source  \\\n",
       "26897                    Newsfounded   \n",
       "60244    The Daily Star - Bangladesh   \n",
       "7247   Vietnam Explorer News Channel   \n",
       "52028         WOAI News 4 Sanantonio   \n",
       "18981  Vietnam Explorer News Channel   \n",
       "\n",
       "                                                    body  \\\n",
       "26897  Heart attack, stroke or kidney failure: poor b...   \n",
       "60244  Sultana Jasmine, a union-level land employee i...   \n",
       "7247   Rep. Ronny Jackson (R-Tex.), already known for...   \n",
       "52028  SAN ANTONIO - One in five U.S. adults experien...   \n",
       "18981  Tonya Moore, 49, relies on doctor visits and p...   \n",
       "\n",
       "                                                  prompt  \n",
       "26897  \\n    For the main organisation discussed in t...  \n",
       "60244  \\n    For the main organisation discussed in t...  \n",
       "7247   \\n    For the main organisation discussed in t...  \n",
       "52028  \\n    For the main organisation discussed in t...  \n",
       "18981  \\n    For the main organisation discussed in t...  "
      ]
     },
     "execution_count": 9,
     "metadata": {},
     "output_type": "execute_result"
    }
   ],
   "source": [
    "aylien_100.head()"
   ]
  },
  {
   "cell_type": "code",
   "execution_count": 10,
   "id": "4590ea26",
   "metadata": {},
   "outputs": [],
   "source": [
    "all_prompts = aylien_100['prompt'].tolist()"
   ]
  },
  {
   "cell_type": "code",
   "execution_count": 11,
   "id": "b56706d1",
   "metadata": {},
   "outputs": [
    {
     "data": {
      "text/plain": [
       "\"\\n    For the main organisation discussed in this article (if any), give me information as follows and nothing else.\\n    The article id should always be present for reference.\\n    Include any government organisations discussed, if they are the main organisation discussed.\\n    ###\\n    <\\n    article_id: 5541797339\\n    org: <main organisation discussed/NA>.\\n    location: <location_of_main_org/NA>\\n    risk_type: <risk_type_faced_by_main_org/NA>.\\n    items_sold: <comma_separated_list_of_items_sold_by_main_org/NA>.\\n    service_provided: <comma_separated_list_of_services_provided_by_main_org/NA>.\\n    business_relations: <comma_separated_list_of_orgs_with_business_relation_to_main_org/NA>.\\n    >\\n    ###\\n    The article is: Heart attack, stroke or kidney failure: poor blood circulation can have serious consequences. While some signs make it easy to recognize, such as cold feet and hands, others are less well known.\\nA British vascular surgeon, Alun Davies, reported five in an article on Everyday Mail\\n  Blood circulation: how can the skin help identify venous insufficiency?\\n  This specialist explains that the condition of the skin can be an indicator. If it is shiny and there is a feeling of tension, in the legs and feet, it can be a sign of poor blood circulation, because this change leads to skin breakdown. “ Although these symptoms do not seem alarming, the restriction of blood flow can be caused by blockages in the arteries, which can be fatal.” , explains Professor Alun Davies. He adds that the numbness caused by the pathology can be serious in itself: “ The tingling and pins and needles that accompany foot numbness can not only be uncomfortable, but can also cause balance issues and mask possible foot injuries. “\\n  Lack of hair on the legs, another sign of venous insufficiency\\n  When it comes to the legs, a lack of hair can also be a warning sign. Hair loss can be a result of lack of blood in these areas leading to death of hair follicles due to lack of nutrients. “ It's more noticeable in men, many of whom can see a line in their socks, with no hair.” , continued the specialist. This symptom must be fully reported to a health professional, as it may result in gangrene of the lower extremities, the consequence of which may be amputation.\\n  Poor blood circulation: this causes leg ulcers\\n  Non-healing wounds on the legs also indicate poor blood circulation. The vascular surgeon explained that these lesions are usually located on the inside of the leg, between the ankle and the knee. The skin is sometimes hard and discolored around. For some people, it's not painful, but it's important to take care of these ulcers quickly to prevent infection.\\n  Venous insufficiency can cause abdominal pain\\n  The doctor reminds us that poor blood circulation has consequences for the whole organism, and even for vital organs. Poor blood circulation can cause abdominal pain or diarrhea. “ Like all vital organs, the stomach needs oxygen-rich blood flow to function properly.” he says.\\n  Memory loss: an unrecognized symptom of venous insufficiency\\n  Often associated with Alzheimer's disease or dementia, memory loss can also indicate a blood circulation disorder. According to this specialist, the lack of blood in the brain can cause memory lapses.\\n  Venous insufficiency: what are the treatments?\\n  There are several methods to get rid of these symptoms. First, compression: this consists of wearing stockings or surrounding the legs with bands to promote venous return. When that's not enough, doctors may suggest surgery to remove the diseased veins. According to the French Cardiology Federation, 18 million people suffer from venous circulation problems..\\n    ###\\n    \""
      ]
     },
     "execution_count": 11,
     "metadata": {},
     "output_type": "execute_result"
    }
   ],
   "source": [
    "# observe single prompt as example.\n",
    "\n",
    "all_prompts[0]"
   ]
  },
  {
   "cell_type": "markdown",
   "id": "b8f8f872",
   "metadata": {},
   "source": [
    "# Investigate average length of tokens\n",
    "\n",
    "* Important for pricing forecast and LLM API restrictions"
   ]
  },
  {
   "cell_type": "markdown",
   "id": "b6f25096",
   "metadata": {},
   "source": [
    "### with nltk"
   ]
  },
  {
   "cell_type": "code",
   "execution_count": 12,
   "id": "ebb12394",
   "metadata": {},
   "outputs": [
    {
     "name": "stdout",
     "output_type": "stream",
     "text": [
      "Number of tokens on the smallest prompt: 110\n",
      "Number of tokens on the largest prompt: 21715\n",
      "Total number of tokens for all prompts: 102247\n",
      "Average number of tokens in all_prompts: 1022.47\n"
     ]
    }
   ],
   "source": [
    "total_tokens = sum(len(nltk.word_tokenize(prompt)) for prompt in all_prompts)\n",
    "average_tokens = total_tokens / len(all_prompts)\n",
    "max_tokens = max(len(nltk.word_tokenize(prompt)) for prompt in all_prompts)\n",
    "min_tokens = min(len(nltk.word_tokenize(prompt)) for prompt in all_prompts)\n",
    "\n",
    "print(f\"Number of tokens on the smallest prompt: {min_tokens}\")\n",
    "print(f\"Number of tokens on the largest prompt: {max_tokens}\")\n",
    "print(f\"Total number of tokens for all prompts: {total_tokens}\")\n",
    "print(f\"Average number of tokens in all_prompts: {average_tokens}\")"
   ]
  },
  {
   "cell_type": "markdown",
   "id": "d8829216",
   "metadata": {},
   "source": [
    "### with tiktoken"
   ]
  },
  {
   "cell_type": "code",
   "execution_count": 13,
   "id": "300088e3",
   "metadata": {},
   "outputs": [],
   "source": [
    "encoding = tiktoken.encoding_for_model(\"gpt-3.5-turbo\")\n",
    "#encoding = tiktoken.get_encoding(\"cl100k_base\")"
   ]
  },
  {
   "cell_type": "code",
   "execution_count": 14,
   "id": "09f259c4",
   "metadata": {},
   "outputs": [],
   "source": [
    "# fns to count strings in list of prompts:\n",
    "\n",
    "def num_tokens_from_string(string: str, encoding_name: str) -> int:\n",
    "    \"\"\"Returns the number of tokens in a text string.\"\"\"\n",
    "    encoding = tiktoken.get_encoding(encoding_name)\n",
    "    num_tokens = len(encoding.encode(string))\n",
    "    return num_tokens\n",
    "\n",
    "def count_tokens_in_list(prompt_list: list, encoding_name: str) -> list:\n",
    "    \"\"\"Returns a list of integers representing the number of tokens in each string in the input list.\"\"\"\n",
    "    token_counts = []\n",
    "    for prompt in prompt_list:\n",
    "        num_tokens = num_tokens_from_string(prompt, encoding_name)\n",
    "        token_counts.append(num_tokens)\n",
    "    return token_counts\n"
   ]
  },
  {
   "cell_type": "code",
   "execution_count": 15,
   "id": "aec8734b",
   "metadata": {},
   "outputs": [],
   "source": [
    "encoding_name = \"cl100k_base\" # used for gpt-3.5-turbo\n",
    "token_counts = count_tokens_in_list(all_prompts, encoding_name)"
   ]
  },
  {
   "cell_type": "code",
   "execution_count": 16,
   "id": "ab58f212",
   "metadata": {},
   "outputs": [
    {
     "name": "stdout",
     "output_type": "stream",
     "text": [
      "Number of tokens on the smallest prompt: 180\n",
      "Number of tokens on the largest prompt: 29939\n",
      "Total number of tokens for all prompts: 128837\n",
      "Average number of tokens in all_prompts: 1288.37\n"
     ]
    }
   ],
   "source": [
    "min_tokens = min(token_counts)\n",
    "max_tokens = max(token_counts)\n",
    "total_tokens = sum(i for i in token_counts if isinstance(i, int))\n",
    "average_tokens = total_tokens / len(all_prompts)\n",
    "\n",
    "print(f\"Number of tokens on the smallest prompt: {min_tokens}\")\n",
    "print(f\"Number of tokens on the largest prompt: {max_tokens}\")\n",
    "print(f\"Total number of tokens for all prompts: {total_tokens}\")\n",
    "print(f\"Average number of tokens in all_prompts: {average_tokens}\")"
   ]
  },
  {
   "cell_type": "code",
   "execution_count": 17,
   "id": "07607a84",
   "metadata": {},
   "outputs": [
    {
     "data": {
      "text/plain": [
       "105"
      ]
     },
     "execution_count": 17,
     "metadata": {},
     "output_type": "execute_result"
    }
   ],
   "source": [
    "# Estimating max response tokens if prompt works correctly (update to reflect prompt used)\n",
    "\n",
    "#num_tokens_from_string(\"facing risk: yes. type of risk: thisis some text for a risk type.\", \"cl100k_base\")\n",
    "\n",
    "num_tokens_from_string(\n",
    "    \n",
    "    '''\n",
    "    article_id: {article_id}\n",
    "    org: <main organisation discussed/NA>.\n",
    "    location: <location_of_main_org/NA>\n",
    "    risk_type: <risk_type_faced_by_main_org/NA>.\n",
    "    items_sold: <comma_separated_list_of_items_sold_by_main_org/NA>.\n",
    "    service_provided: <comma_separated_list_of_services_provided_by_main_org/NA>.\n",
    "    business_relations: <comma_separated_list_of_orgs_with_business_relation_to_main_org/NA>.\n",
    "    '''\n",
    "                       ,\"cl100k_base\" )"
   ]
  },
  {
   "cell_type": "markdown",
   "id": "b8ece9ae",
   "metadata": {},
   "source": [
    "### Truncate tokens of long prompts\n",
    "\n",
    "* gpt-3.5-turbo has max tokens of 4,096 tokens\n",
    "* This includes prompt and response tokens combined.\n",
    "* response tokens should be short due to the attempt at prompt restrictions;\n",
    "    * i.e. Provide answers only in the format of <facing risk: <'yes'/'no'>. type of risk: < risk type >.> and nothing else.\n",
    "* so a generous estimate of response tokens would be 100, providing gpt-3.5-turbo successfully adheres to above prompting.\n",
    "* Therefore truncate prompt tokens to 3500 to be safe."
   ]
  },
  {
   "cell_type": "code",
   "execution_count": 18,
   "id": "66c4eeb9",
   "metadata": {},
   "outputs": [],
   "source": [
    "def truncate_prompt(prompt: str, encoding_name: str, max_tokens: int) -> str:\n",
    "    \"\"\"Truncates a text string to the specified number of tokens.\"\"\"\n",
    "    encoding = tiktoken.get_encoding(encoding_name)\n",
    "    tokens = encoding.encode(prompt)[:max_tokens]\n",
    "    return encoding.decode(tokens)\n",
    "\n",
    "\n",
    "def count_tokens_for_truncating(prompt_list: list, encoding_name: str, max_tokens: int) -> list:\n",
    "    \"\"\"Returns a list of strings with a maximum of max_tokens tokens.\"\"\"\n",
    "    token_counts = []\n",
    "    truncated_prompts = []\n",
    "    for prompt in prompt_list:\n",
    "        num_tokens = num_tokens_from_string(prompt, encoding_name)\n",
    "        if num_tokens > max_tokens:\n",
    "            truncated_prompt = truncate_prompt(prompt, encoding_name, max_tokens)\n",
    "            token_counts.append(max_tokens)\n",
    "        else:\n",
    "            truncated_prompt = prompt\n",
    "            token_counts.append(num_tokens)\n",
    "        truncated_prompts.append(truncated_prompt)\n",
    "    return truncated_prompts, token_counts\n"
   ]
  },
  {
   "cell_type": "code",
   "execution_count": 19,
   "id": "af8d00e3",
   "metadata": {},
   "outputs": [],
   "source": [
    "encoding_name = \"cl100k_base\" # used for gpt-3.5-turbo\n",
    "# encoding_name = \"r50k_base\" # used for GPT-3 models. todo check this.\n",
    "max_tokens = 3500 # Update this based on model to be used in 'Generating responses' section to correspond to token limitations.\n",
    "#all_prompts = # your list of prompts here\n",
    "\n",
    "truncated_prompts, token_counts = count_tokens_for_truncating(all_prompts, encoding_name, max_tokens)"
   ]
  },
  {
   "cell_type": "code",
   "execution_count": 20,
   "id": "76de2e2a",
   "metadata": {},
   "outputs": [
    {
     "name": "stdout",
     "output_type": "stream",
     "text": [
      "Number of tokens on the smallest prompt: 180\n",
      "Number of tokens on the largest prompt: 3500\n",
      "Total number of tokens for all prompts: 90654\n",
      "Average number of tokens in all_prompts: 906.54\n"
     ]
    }
   ],
   "source": [
    "# Compare output to previous token counts.\n",
    "\n",
    "token_counts_truncated_prompts = count_tokens_in_list(truncated_prompts, encoding_name)\n",
    "min_tokens_truncated_prompts = min(token_counts_truncated_prompts)\n",
    "max_tokens_truncated_prompts = max(token_counts_truncated_prompts)\n",
    "total_tokens_truncated_prompts = sum(i for i in token_counts_truncated_prompts if isinstance(i, int))\n",
    "average_tokens_truncated_prompts = total_tokens_truncated_prompts / len(truncated_prompts)\n",
    "\n",
    "print(f\"Number of tokens on the smallest prompt: {min_tokens_truncated_prompts}\")\n",
    "print(f\"Number of tokens on the largest prompt: {max_tokens_truncated_prompts}\")\n",
    "print(f\"Total number of tokens for all prompts: {total_tokens_truncated_prompts}\")\n",
    "print(f\"Average number of tokens in all_prompts: {average_tokens_truncated_prompts}\")\n",
    "\n",
    "# Compare output to previous output (prior to truncation)."
   ]
  },
  {
   "cell_type": "code",
   "execution_count": 21,
   "id": "b393c4fb",
   "metadata": {},
   "outputs": [
    {
     "name": "stdout",
     "output_type": "stream",
     "text": [
      "Total number of prompts:  100\n",
      "[\"\\n    For the main organisation discussed in this article (if any), give me information as follows and nothing else.\\n    The article id should always be present for reference.\\n    Include any government organisations discussed, if they are the main organisation discussed.\\n    ###\\n    <\\n    article_id: 5541797339\\n    org: <main organisation discussed/NA>.\\n    location: <location_of_main_org/NA>\\n    risk_type: <risk_type_faced_by_main_org/NA>.\\n    items_sold: <comma_separated_list_of_items_sold_by_main_org/NA>.\\n    service_provided: <comma_separated_list_of_services_provided_by_main_org/NA>.\\n    business_relations: <comma_separated_list_of_orgs_with_business_relation_to_main_org/NA>.\\n    >\\n    ###\\n    The article is: Heart attack, stroke or kidney failure: poor blood circulation can have serious consequences. While some signs make it easy to recognize, such as cold feet and hands, others are less well known.\\nA British vascular surgeon, Alun Davies, reported five in an article on Everyday Mail\\n  Blood circulation: how can the skin help identify venous insufficiency?\\n  This specialist explains that the condition of the skin can be an indicator. If it is shiny and there is a feeling of tension, in the legs and feet, it can be a sign of poor blood circulation, because this change leads to skin breakdown. “ Although these symptoms do not seem alarming, the restriction of blood flow can be caused by blockages in the arteries, which can be fatal.” , explains Professor Alun Davies. He adds that the numbness caused by the pathology can be serious in itself: “ The tingling and pins and needles that accompany foot numbness can not only be uncomfortable, but can also cause balance issues and mask possible foot injuries. “\\n  Lack of hair on the legs, another sign of venous insufficiency\\n  When it comes to the legs, a lack of hair can also be a warning sign. Hair loss can be a result of lack of blood in these areas leading to death of hair follicles due to lack of nutrients. “ It's more noticeable in men, many of whom can see a line in their socks, with no hair.” , continued the specialist. This symptom must be fully reported to a health professional, as it may result in gangrene of the lower extremities, the consequence of which may be amputation.\\n  Poor blood circulation: this causes leg ulcers\\n  Non-healing wounds on the legs also indicate poor blood circulation. The vascular surgeon explained that these lesions are usually located on the inside of the leg, between the ankle and the knee. The skin is sometimes hard and discolored around. For some people, it's not painful, but it's important to take care of these ulcers quickly to prevent infection.\\n  Venous insufficiency can cause abdominal pain\\n  The doctor reminds us that poor blood circulation has consequences for the whole organism, and even for vital organs. Poor blood circulation can cause abdominal pain or diarrhea. “ Like all vital organs, the stomach needs oxygen-rich blood flow to function properly.” he says.\\n  Memory loss: an unrecognized symptom of venous insufficiency\\n  Often associated with Alzheimer's disease or dementia, memory loss can also indicate a blood circulation disorder. According to this specialist, the lack of blood in the brain can cause memory lapses.\\n  Venous insufficiency: what are the treatments?\\n  There are several methods to get rid of these symptoms. First, compression: this consists of wearing stockings or surrounding the legs with bands to promote venous return. When that's not enough, doctors may suggest surgery to remove the diseased veins. According to the French Cardiology Federation, 18 million people suffer from venous circulation problems..\\n    ###\\n    \"]\n"
     ]
    }
   ],
   "source": [
    "print(\"Total number of prompts: \",len(truncated_prompts))\n",
    "\n",
    "print(truncated_prompts[:1])"
   ]
  },
  {
   "cell_type": "markdown",
   "id": "02ff3c4b",
   "metadata": {},
   "source": [
    "### GPT-3.5-turbo\n",
    "\n",
    "* Initially (prior v1 notebook) was testing  GPT-3 models with aim to reduce pricing.\n",
    "* After reviewing pricing documentation, determined not necessary."
   ]
  },
  {
   "cell_type": "code",
   "execution_count": 22,
   "id": "19118fd6",
   "metadata": {
    "scrolled": true
   },
   "outputs": [
    {
     "name": "stdout",
     "output_type": "stream",
     "text": [
      "\n",
      "    For the main organisation discussed in this article (if any), give me information as follows and nothing else.\n",
      "    The article id should always be present for reference.\n",
      "    Include any government organisations discussed, if they are the main organisation discussed.\n",
      "    ###\n",
      "    <\n",
      "    article_id: 5526656871\n",
      "    org: <main organisation discussed/NA>.\n",
      "    location: <location_of_main_org/NA>\n",
      "    risk_type: <risk_type_faced_by_main_org/NA>.\n",
      "    items_sold: <comma_separated_list_of_items_sold_by_main_org/NA>.\n",
      "    service_provided: <comma_separated_list_of_services_provided_by_main_org/NA>.\n",
      "    business_relations: <comma_separated_list_of_orgs_with_business_relation_to_main_org/NA>.\n",
      "    >\n",
      "    ###\n",
      "    The article is: Gonoshasthaya Kendra founder and valiant freedom fighter Dr Zafrullah Chowdhury passed away at the Gonoshasthaya Nagar Hospital in the capital last night.\n",
      " He was 81.\n",
      "  Dr Zafrullah, the recipient of Swadhinata Padak, the highest civilian award of Bangladesh, was taken to the hospital in Dhanmondi after he fell seriously ill on April 5.\n",
      "  Prof Brig Gen (retd) Mamun Mostafi, who led the medical board formed for Zafrullah's treatment, declared his death at 11:00pm.\n",
      "  Zafrullah was suffering various health complications with dysfunctional immune system leading to many infections, Mohibullah Khondoker, vice-principal of Gonoshasthaya Samaj Vittik Medical College, told The Daily Star.\n",
      "  Doctors said his liver and kidneys suffered much since he was infected with Covid-19. Zafrullah was alive with almost two dysfunctional kidneys and had to go through dialysis thrice a week.\n",
      "  On April 7, a medical board, led by Mamun, was formed with the renowned doctors of the country for his treatment. On April 10, he was put on life support.\n",
      "  Defying his fragile health, Zafrullah remained active -- participating in seminars, and political and social events. His condition worsened several times, yet he bounced back.\n",
      "  But this time this brave man lost the battle.\n",
      "  Born in Raozan upazila of Chattogram on December 27, 1941, Zafrullah was the eldest among 10 siblings. He passed matriculation from Nabakumar Institution in the capital's Bakshibazar and intermediate exams from Dhaka College.\n",
      "  He completed MBBS from Dhaka Medical College in 1964 and went to London to study FRCS. When the four-year FRCS course was about to be completed, the Liberation War broke out in Bangladesh.\n",
      "  He chose to abort the exams and dedicated himself in mobilising the people for the independence of the nation, setting an example of unparalleled patriotism.\n",
      "  Zafrullah also tore apart the Pakistani passport during a rally in London, protesting the massacre of Bangalees by the Pakistan occupation army. In May 1971, without any passport, Zafrullah and Dr MA Mobin decided to fly to Kolkata.\n",
      "  They collected travel permits and started for Kolkata on a Syrian Airlines flight. Damuscus was their stopover. The Pakistan government was watching their every step and tried to arrest them with the help of the Syrian government.\n",
      "  All the passengers left the aircraft. However, sensing the danger, the duo did not move as they knew the police cannot arrest anyone from an international flight.\n",
      "  At the end of May, they reached Agartola. There, he built Bangladesh Field Hospital, which primarily took shape in Bisramganj village of Agartola, India.\n",
      "  It was the seed of Gonoshasthaya Kendra, which would revolutionise the public health sector after independence.\n",
      "  During the war, freedom fighters wounded in battle were treated in that field hospital -- a structure made of bamboo and grass that had 480 beds and an operation theatre.\n",
      "  Zafrullah and Mobin provided paramedical training to a group of volunteers who worked as nurses for the hospital.\n",
      "  In a heavily conservative society, Zafrullah took the challenge to break the stereotype by empowering women and engaging them in his workforce.\n",
      "  The total number of staffers at the Gonoshasthaya Kendra is now around 2,500. Of them, 40 percent are women.\n",
      "  Zafrullah's most remarkable contribution after the Liberation War was formulating the drug policy that served as a cornerstone of today's robust pharmaceutical industry..\n",
      "    ###\n",
      "    \n"
     ]
    }
   ],
   "source": [
    "print(truncated_prompts[50])"
   ]
  },
  {
   "cell_type": "code",
   "execution_count": 23,
   "id": "c970ce53",
   "metadata": {},
   "outputs": [
    {
     "name": "stdout",
     "output_type": "stream",
     "text": [
      "Response: <article_id: 5526656871\n",
      "org: Gonoshasthaya Kendra.\n",
      "location: Bangladesh.\n",
      "risk_type: N/A.\n",
      "items_sold: N/A.\n",
      "service_provided: N/A.\n",
      "business_relations: N/A.\n",
      "> \n",
      "\n",
      "Number of tokens: 49\n"
     ]
    }
   ],
   "source": [
    "# Structure to test for GPT-3.5-turbo (Chat completion model)\n",
    "\n",
    "openai.api_key = os.getenv('OPENAI_KEY')\n",
    "# if no key, gives error: cannot convert int to str.\n",
    "\n",
    "#query = \"Is NHS facing any business risks based on this article? Provide answers only in the format of <facing risk: <'yes'/'no'>. type of risk: <risk type>.> and nothing else. The article is: Infected Blood: This is the worst treatment disaster in the NHS\"\n",
    "# query = \"Answer with yes or no. Is NHS facing any business risk based on this text? 'Infected Blood: This is the worst treatment disaster in the NHS'\"\n",
    "#query = \"what is 2+1?\"\n",
    "#query = \"Based on the article 'Infected Blood: This is the worst treatment disaster in the NHS,' is the NHS facing any business risks? Please answer 'Y' for yes or 'N' for no.\"\n",
    "query = truncated_prompts[50]\n",
    "\n",
    "gpt_model = \"gpt-3.5-turbo\"\n",
    "\n",
    "try:\n",
    "    response = openai.ChatCompletion.create(\n",
    "        messages=[\n",
    "        {'role': 'system', 'content': 'You answer questions in the specified format about the article I give you.'}, # content tokens are included in pricing & TPM limit.\n",
    "        {'role': 'user', 'content': query},\n",
    "    ]\n",
    "        ,model = gpt_model\n",
    "        ,temperature = 0\n",
    "        ,max_tokens = 400 # limit response tokens.\n",
    "        ,n = 1 # number of responses generated. Affects pricing.\n",
    "    )\n",
    "except Exception as e:\n",
    "    print(f\"Error generating response for prompt {i+1}: {e}\")\n",
    "\n",
    "    \n",
    "response_content = response['choices'][0]['message']['content']\n",
    "\n",
    "print(\"Response:\", response_content, '\\n')\n",
    "print(\"Number of tokens:\", num_tokens_from_string(response_content,\"cl100k_base\"))"
   ]
  },
  {
   "cell_type": "markdown",
   "id": "5f2db20b",
   "metadata": {},
   "source": [
    "# Feed prompts into LLM and populate output schema directly\n",
    "* Above was populating to a dataframe.\n",
    "* May be more beneficial to populate a nested schema."
   ]
  },
  {
   "cell_type": "markdown",
   "id": "61ecb873",
   "metadata": {},
   "source": [
    "### Simple output schema to test end-to-end process"
   ]
  },
  {
   "cell_type": "code",
   "execution_count": 24,
   "id": "3da65c31",
   "metadata": {},
   "outputs": [
    {
     "data": {
      "text/plain": [
       "20"
      ]
     },
     "execution_count": 24,
     "metadata": {},
     "output_type": "execute_result"
    }
   ],
   "source": [
    "reduced_trunc_prompts = truncated_prompts[:20]\n",
    "\n",
    "len(reduced_trunc_prompts)\n",
    "\n",
    "#print(reduced_trunc_prompts[:6])"
   ]
  },
  {
   "cell_type": "code",
   "execution_count": 25,
   "id": "e5609dce",
   "metadata": {},
   "outputs": [
    {
     "name": "stderr",
     "output_type": "stream",
     "text": [
      "Processing prompts:  90%|█████████ | 18/20 [02:10<00:25, 12.73s/it]"
     ]
    },
    {
     "name": "stdout",
     "output_type": "stream",
     "text": [
      "Error generating response for prompt \n",
      "    For the main organisation discussed in this article (if any), give me information as follows and nothing else.\n",
      "    The article id should always be present for reference.\n",
      "    Include any government organisations discussed, if they are the main organisation discussed.\n",
      "    ###\n",
      "    <\n",
      "    article_id: 5586472947\n",
      "    org: <main organisation discussed/NA>.\n",
      "    location: <location_of_main_org/NA>\n",
      "    risk_type: <risk_type_faced_by_main_org/NA>.\n",
      "    items_sold: <comma_separated_list_of_items_sold_by_main_org/NA>.\n",
      "    service_provided: <comma_separated_list_of_services_provided_by_main_org/NA>.\n",
      "    business_relations: <comma_separated_list_of_orgs_with_business_relation_to_main_org/NA>.\n",
      "    >\n",
      "    ###\n",
      "    The article is: Present at the launch were Engr. Bien Mateo, Senior Vice President of SM Supermalls, Arch.\n",
      "Jaime Silva from the Philippine Foundation for the Rehabilitation of the Disabled, Inc., Marlo Lucas from the Resources for the Blind Inc. , and Jayme Marino of the National Council on Disability Affairs . Also present during the launch are Dr. Florencio Costa of the Tanza National Comprehensive High School Mr. Joebert Guzon of FEAPITSAT , and Coralyn Perez of Tanza Municipal Social Welfare and Development representing Mayor Yuri Pacumio\n",
      "  “The Blackout Zone” is the first exhibit simulating the blind experience in the Philippines which is mounted inside a mall, promising an immersive and experiential tour of a day in the life of a blind person for free. Participants get to fulfill simple tasks, like tying a shoe, creating a sandwich, making coffee, and watching movies in a safe setting without sight. At the end of the tour, the participants are debriefed by the blind master, a representative of the blind community who shares their personal insights and how the challenges within the exhibit reflect the daily experience of blind people. In this way, mall-goers, tenants, and employees are encouraged to have a deeper understanding and affection for members of the blind community.\n",
      "  “ We at SM Cares firmly believe that empathy and awareness are crucial to enabling a barrier-free and disability inclusive environment ,” said Mateo during the launch. “ As such, we humbly invite everyone to visit ‘The Blackout Zone' to show solidarity, appreciation, and inspired action to the blind community .”\n",
      "  Following the success of “The Blackout Zone” from previous legs in SM Southmall and SM City Clark, SM City Tanza's setup is the biggest one to date. First launched in October of last year, “The Blackout Zone” has been visited by almost 2,000 attendees. The Tanza exhibit will be open until May 14, and plans for future exhibits in different SM malls around the country are already underway.\n",
      "  The Blackout Zone is just one of the many initiatives of SM Cares under its Program on Persons with Disabilities. Others include the annual Emergency Preparedness Forum for PWDs and senior citizens; the annual Happy Walk for Down Syndrome in partnership with the Down Syndrome Association of the Philippines; and the annual Angels Walk for Autism in partnership with Autism Society Philippines.\n",
      "  Through The Blackout Zone, SM Cares supports the United Nations' Sustainable Development Goals (SDGs), particularly “SDG 10: Reduced Inequalities.”\n",
      "  SM Cares is the corporate social responsibility arm of SM Supermalls, supporting initiatives focused on communities and the environment. Aside from the program on PWDs, its advocacies include Programs for the Environment, Women & Breastfeeding Mothers, Children & Youth, Senior Citizens, and the SM Bike-friendly initiative.\n",
      "  Team Orange\n",
      "  Leave A Reply.\n",
      "    ###\n",
      "    : module 'openai' has no attribute 'errors'\n"
     ]
    },
    {
     "name": "stderr",
     "output_type": "stream",
     "text": [
      "Processing prompts: 100%|██████████| 20/20 [02:19<00:00,  6.99s/it]\n"
     ]
    }
   ],
   "source": [
    "# additional code to handle possible rate limits.\n",
    "import openai\n",
    "import time\n",
    "\n",
    "prompts = reduced_trunc_prompts\n",
    "GPT_MODEL = \"gpt-3.5-turbo\"\n",
    "openai.api_key = os.getenv('OPENAI_KEY')\n",
    "\n",
    "responses = []\n",
    "\n",
    "for query in tqdm(prompts, desc=\"Processing prompts\"):\n",
    "    try:\n",
    "        response = None\n",
    "\n",
    "        while response is None:\n",
    "            try:\n",
    "                response = openai.ChatCompletion.create(\n",
    "                    messages=[\n",
    "                        {\"role\": \"system\", \"content\": \"You answer questions in the specified format about the article I give you.\"},\n",
    "                        {\"role\": \"user\", \"content\": query},\n",
    "                    ],\n",
    "                    model=GPT_MODEL,\n",
    "                    temperature=0.5,\n",
    "                    max_tokens=400, # max tokens in response.\n",
    "                    n=1,\n",
    "                )\n",
    "            except openai.errors.TooManyRequestsError as e:\n",
    "                # Sleep for the recommended duration\n",
    "                time.sleep(e.response['Retry-After'])\n",
    "                continue\n",
    "\n",
    "        response_content = response[\"choices\"][0][\"message\"][\"content\"]\n",
    "        responses.append(response_content)\n",
    "\n",
    "    except Exception as e:\n",
    "        print(f\"Error generating response for prompt {query}: {e}\")"
   ]
  },
  {
   "cell_type": "code",
   "execution_count": 37,
   "id": "55a01874",
   "metadata": {},
   "outputs": [
    {
     "name": "stdout",
     "output_type": "stream",
     "text": [
      "19\n"
     ]
    },
    {
     "data": {
      "text/plain": [
       "['<article_id: 5541797339\\norg: NA\\nlocation: NA\\nrisk_type: Poor blood circulation leading to serious consequences such as heart attack, stroke, kidney failure, and even amputation.\\nitems_sold: NA\\nservice_provided: NA\\nbusiness_relations: NA>',\n",
       " '<article_id: 5451482089\\norg: Rapid Action Battalion (RAB), Naogaon Municipality-Chandipur Union Land Office.\\nlocation: Rajshahi Medical College (RMC), Naogaon, Bogura.\\nrisk_type: Death of a union-level land employee in custody.\\nitems_sold: NA.\\nservice_provided: NA.\\nbusiness_relations: NA.>',\n",
       " '<article_id: 5580830636\\norg: NA\\nlocation: NA\\nrisk_type: NA\\nitems_sold: NA\\nservice_provided: NA\\nbusiness_relations: NA>',\n",
       " '<article_id: 5467485064\\norg: NAMI (The National Alliance on Mental Health).\\nlocation: U.S.\\nrisk_type: NA.\\nitems_sold: NA.\\nservice_provided: Advocacy and classes to help families cope with loved ones struggling with mental illness.\\nbusiness_relations: Sinclair Cares Mental Health Support and Hope (partner organization).>',\n",
       " '<article_id: 5557299621\\norg: Medicaid health insurance program.\\nlocation: Arkansas, Arizona, Idaho, New Hampshire, South Dakota, Florida, Indiana, Iowa, Kansas, Nebraska, New Mexico, Ohio, Oklahoma, Pennsylvania, Utah, Virginia, West Virginia, Wyoming, and Oregon.\\nrisk_type: Disenrollment of eligible people due to Medicaid cuts.\\nitems_sold: NA.\\nservice_provided: Health insurance coverage for low-income and disabled residents.\\nbusiness_relations: NA.',\n",
       " '<article_id: 5554697450\\norg: Centers for Medicare and Medicaid Services (CMS)\\nlocation: United States\\nrisk_type: NA\\nitems_sold: NA\\nservice_provided: NA\\nbusiness_relations: NA>',\n",
       " '<article_id: 5503050532>\\norg: NA\\nlocation: NA\\nrisk_type: Lifestyle diseases caused by bad daily habits\\nitems_sold: NA\\nservice_provided: NA\\nbusiness_relations: NA',\n",
       " '<article_id: 5585950290\\norg: Charlotte Lozier Institute.\\nlocation: NA\\nrisk_type: Risks associated with the use of mifepristone, an abortion drug.\\nitems_sold: NA.\\nservice_provided: NA.\\nbusiness_relations: NA.\\n>',\n",
       " '<article_id: 5543289147>\\norg: GlucoTru\\nlocation: United States\\nrisk_type: NA\\nitems_sold: NA\\nservice_provided: Daily supplement to regulate blood sugar levels\\nbusiness_relations: NA\\n</article_id: 5543289147>',\n",
       " '<article_id: 5486035480\\norg: CaraKit\\nlocation: NA\\nrisk_type: NA\\nitems_sold: Products for cancer patients such as cozy blankets, aromatherapy socks, button-down pajamas, inspirational books, cooling aloe spray, notebooks, electrolyte hydration drops, and more.\\nservice_provided: Providing thoughtful and unique gifts for chemo patients.\\nbusiness_relations: NA\\n>',\n",
       " '<article_id: 5545328253\\norg: Union Health Ministry\\nlocation: India\\nrisk_type: facing Covid-19 pandemic\\nitems_sold: NA\\nservice_provided: NA\\nbusiness_relations: NA>',\n",
       " '<article_id: 5494294296\\norg: QC Kinetix (Fort Mill)\\nlocation: Fort Mill, SC\\nrisk_type: NA\\nitems_sold: NA\\nservice_provided: Natural regenerative medicine for chronic pain, knee, shoulder, elbow pain, pain due to arthritis, pain due to sports injuries, back pain, and hair loss treatment.\\nbusiness_relations: NA\\n>',\n",
       " '<article_id: 5542807471>\\norg: NA\\nlocation: NA\\nrisk_type: NA\\nitems_sold: NA\\nservice_provided: NA\\nbusiness_relations: NA',\n",
       " '<article_id: 5558248801\\norg: Netflix\\nlocation: NA\\nrisk_type: Facing financial risk due to declining DVD service usage\\nitems_sold: DVDs, Blu-ray discs\\nservice_provided: DVD rental service\\nbusiness_relations: NA>',\n",
       " '<article_id: 5439843255>\\norg: NA\\nlocation: NA\\nrisk_type: NA\\nitems_sold: NA\\nservice_provided: NA\\nbusiness_relations: NA',\n",
       " '<article_id: 5523853545\\norg: NA\\nlocation: NA\\nrisk_type: Skin cancer\\nitems_sold: NA\\nservice_provided: NA\\nbusiness_relations: NA\\n>',\n",
       " '<article_id: 5570530420\\norg: Royal Devon and Exeter Hospital\\nlocation: Devon, UK\\nrisk_type: NA\\nitems_sold: NA\\nservice_provided: NA\\nbusiness_relations: NA>',\n",
       " '<article_id: 5575676452\\norg: Duke University Medical School and Harvard University Medical School\\nlocation: NA\\nrisk_type: NA\\nitems_sold: NA\\nservice_provided: NA\\nbusiness_relations: NA>',\n",
       " '<article_id: 5569246417\\norg: Department of Health (DOH)\\nlocation: Philippines\\nrisk_type: Delayed COVID-19 benefits for healthcare workers\\nitems_sold: NA\\nservice_provided: NA\\nbusiness_relations: NA>']"
      ]
     },
     "execution_count": 37,
     "metadata": {},
     "output_type": "execute_result"
    }
   ],
   "source": [
    "print(len(responses))\n",
    "responses"
   ]
  },
  {
   "cell_type": "code",
   "execution_count": null,
   "id": "6804d8b1",
   "metadata": {},
   "outputs": [],
   "source": []
  }
 ],
 "metadata": {
  "kernelspec": {
   "display_name": "Python 3 (ipykernel)",
   "language": "python",
   "name": "python3"
  },
  "language_info": {
   "codemirror_mode": {
    "name": "ipython",
    "version": 3
   },
   "file_extension": ".py",
   "mimetype": "text/x-python",
   "name": "python",
   "nbconvert_exporter": "python",
   "pygments_lexer": "ipython3",
   "version": "3.8.16"
  },
  "toc": {
   "base_numbering": 1,
   "nav_menu": {},
   "number_sections": true,
   "sideBar": true,
   "skip_h1_title": false,
   "title_cell": "Table of Contents",
   "title_sidebar": "Contents",
   "toc_cell": false,
   "toc_position": {
    "height": "calc(100% - 180px)",
    "left": "10px",
    "top": "150px",
    "width": "426.656px"
   },
   "toc_section_display": true,
   "toc_window_display": true
  },
  "varInspector": {
   "cols": {
    "lenName": 16,
    "lenType": 16,
    "lenVar": 40
   },
   "kernels_config": {
    "python": {
     "delete_cmd_postfix": "",
     "delete_cmd_prefix": "del ",
     "library": "var_list.py",
     "varRefreshCmd": "print(var_dic_list())"
    },
    "r": {
     "delete_cmd_postfix": ") ",
     "delete_cmd_prefix": "rm(",
     "library": "var_list.r",
     "varRefreshCmd": "cat(var_dic_list()) "
    }
   },
   "position": {
    "height": "316.844px",
    "left": "1583px",
    "right": "20px",
    "top": "120px",
    "width": "317px"
   },
   "types_to_exclude": [
    "module",
    "function",
    "builtin_function_or_method",
    "instance",
    "_Feature"
   ],
   "window_display": false
  }
 },
 "nbformat": 4,
 "nbformat_minor": 5
}
