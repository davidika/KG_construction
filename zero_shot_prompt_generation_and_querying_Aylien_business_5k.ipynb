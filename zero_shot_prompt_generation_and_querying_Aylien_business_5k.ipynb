{
 "cells": [
  {
   "cell_type": "markdown",
   "id": "207471af",
   "metadata": {},
   "source": [
    "# Libraries"
   ]
  },
  {
   "cell_type": "code",
   "execution_count": 1,
   "id": "f5b97276",
   "metadata": {},
   "outputs": [],
   "source": [
    "# using conda library 'ontogpt_fork'; naming irrelevant as this was previously going to be used to work on a different project.\n",
    "\n",
    "# increase cell-width\n",
    "from IPython.display import display, HTML\n",
    "# display(HTML(\"<style>.container { width:100% !important; }</style>\"))\n",
    "\n",
    "import pandas as pd\n",
    "import re\n",
    "import numpy as np\n",
    "import os\n",
    "import glob\n",
    "from tqdm import tqdm # progress bar tracking\n",
    "\n",
    "# API keys:\n",
    "from dotenv import load_dotenv\n",
    "load_dotenv()\n",
    "\n",
    "pd.set_option('display.max_rows', None)\n",
    "pd.set_option('display.width', 50)\n",
    "pd.set_option('display.max_columns', None)\n",
    "pd.set_option('display.max_colwidth', 50)\n",
    "\n",
    "import json\n",
    "import jsonschema\n",
    "from jsonschema import validate\n",
    "\n",
    "# prompts for OpenAI\n",
    "\n",
    "import openai_secret_manager\n",
    "import openai\n",
    "import time\n",
    "import random\n",
    "\n",
    "import tiktoken\n",
    "from typing import List, Tuple\n",
    "\n",
    "from collections import Counter"
   ]
  },
  {
   "cell_type": "markdown",
   "id": "214f5a82",
   "metadata": {},
   "source": [
    "# Import & explore dataset"
   ]
  },
  {
   "cell_type": "code",
   "execution_count": 2,
   "id": "1944d14f",
   "metadata": {},
   "outputs": [],
   "source": [
    "aylien = pd.read_pickle('./datasets/Aylien/Aylien_business_articles_10k.pickle')"
   ]
  },
  {
   "cell_type": "code",
   "execution_count": 3,
   "id": "046c5bda",
   "metadata": {},
   "outputs": [],
   "source": [
    "# rename id col.\n",
    "aylien.rename(columns={'id': 'article_id'}, inplace=True)"
   ]
  },
  {
   "cell_type": "code",
   "execution_count": 4,
   "id": "60dda0e5",
   "metadata": {},
   "outputs": [
    {
     "name": "stdout",
     "output_type": "stream",
     "text": [
      "10000\n",
      "<class 'pandas.core.frame.DataFrame'>\n",
      "Int64Index: 10000 entries, 0 to 9999\n",
      "Data columns (total 5 columns):\n",
      " #   Column        Non-Null Count  Dtype                  \n",
      "---  ------        --------------  -----                  \n",
      " 0   article_id    10000 non-null  int64                  \n",
      " 1   title         10000 non-null  object                 \n",
      " 2   published_at  10000 non-null  datetime64[ns, tzutc()]\n",
      " 3   source        10000 non-null  object                 \n",
      " 4   body          10000 non-null  object                 \n",
      "dtypes: datetime64[ns, tzutc()](1), int64(1), object(3)\n",
      "memory usage: 468.8+ KB\n"
     ]
    }
   ],
   "source": [
    "print(len(aylien))\n",
    "aylien.info()"
   ]
  },
  {
   "cell_type": "code",
   "execution_count": 5,
   "id": "0e58f403",
   "metadata": {
    "scrolled": false
   },
   "outputs": [
    {
     "data": {
      "text/html": [
       "<div>\n",
       "<style scoped>\n",
       "    .dataframe tbody tr th:only-of-type {\n",
       "        vertical-align: middle;\n",
       "    }\n",
       "\n",
       "    .dataframe tbody tr th {\n",
       "        vertical-align: top;\n",
       "    }\n",
       "\n",
       "    .dataframe thead th {\n",
       "        text-align: right;\n",
       "    }\n",
       "</style>\n",
       "<table border=\"1\" class=\"dataframe\">\n",
       "  <thead>\n",
       "    <tr style=\"text-align: right;\">\n",
       "      <th></th>\n",
       "      <th>article_id</th>\n",
       "      <th>title</th>\n",
       "      <th>published_at</th>\n",
       "      <th>source</th>\n",
       "      <th>body</th>\n",
       "    </tr>\n",
       "  </thead>\n",
       "  <tbody>\n",
       "    <tr>\n",
       "      <th>0</th>\n",
       "      <td>5709294677</td>\n",
       "      <td>: Nike stock jumps to lead the Dow's premarket...</td>\n",
       "      <td>2023-06-02 12:52:39+00:00</td>\n",
       "      <td>Finanzen.ch</td>\n",
       "      <td>Nike  96.41 CHF -1.99%  Charts  News  Analysen...</td>\n",
       "    </tr>\n",
       "    <tr>\n",
       "      <th>1</th>\n",
       "      <td>5709292390</td>\n",
       "      <td>Renault Customers Planning Criminal Complaint ...</td>\n",
       "      <td>2023-06-02 12:52:02+00:00</td>\n",
       "      <td>MarketScreener</td>\n",
       "      <td>Financials EUR USD GBP Sales 2023 50 468 M 54 ...</td>\n",
       "    </tr>\n",
       "    <tr>\n",
       "      <th>2</th>\n",
       "      <td>5709276868</td>\n",
       "      <td>Mersana Therapeutics Inc. (MRSN) last month vo...</td>\n",
       "      <td>2023-06-02 12:46:55+00:00</td>\n",
       "      <td>Newsdaemon.com</td>\n",
       "      <td>Search  Search   Search  Search  Sana Meer  Ju...</td>\n",
       "    </tr>\n",
       "  </tbody>\n",
       "</table>\n",
       "</div>"
      ],
      "text/plain": [
       "   article_id  \\\n",
       "0  5709294677   \n",
       "1  5709292390   \n",
       "2  5709276868   \n",
       "\n",
       "                                               title  \\\n",
       "0  : Nike stock jumps to lead the Dow's premarket...   \n",
       "1  Renault Customers Planning Criminal Complaint ...   \n",
       "2  Mersana Therapeutics Inc. (MRSN) last month vo...   \n",
       "\n",
       "               published_at          source  \\\n",
       "0 2023-06-02 12:52:39+00:00     Finanzen.ch   \n",
       "1 2023-06-02 12:52:02+00:00  MarketScreener   \n",
       "2 2023-06-02 12:46:55+00:00  Newsdaemon.com   \n",
       "\n",
       "                                                body  \n",
       "0  Nike  96.41 CHF -1.99%  Charts  News  Analysen...  \n",
       "1  Financials EUR USD GBP Sales 2023 50 468 M 54 ...  \n",
       "2  Search  Search   Search  Search  Sana Meer  Ju...  "
      ]
     },
     "execution_count": 5,
     "metadata": {},
     "output_type": "execute_result"
    }
   ],
   "source": [
    "aylien.head(3)"
   ]
  },
  {
   "cell_type": "markdown",
   "id": "34d1d016",
   "metadata": {},
   "source": [
    "## Reduced subset:"
   ]
  },
  {
   "cell_type": "code",
   "execution_count": 6,
   "id": "c69b9585",
   "metadata": {},
   "outputs": [
    {
     "name": "stdout",
     "output_type": "stream",
     "text": [
      "5000\n"
     ]
    },
    {
     "data": {
      "text/html": [
       "<div>\n",
       "<style scoped>\n",
       "    .dataframe tbody tr th:only-of-type {\n",
       "        vertical-align: middle;\n",
       "    }\n",
       "\n",
       "    .dataframe tbody tr th {\n",
       "        vertical-align: top;\n",
       "    }\n",
       "\n",
       "    .dataframe thead th {\n",
       "        text-align: right;\n",
       "    }\n",
       "</style>\n",
       "<table border=\"1\" class=\"dataframe\">\n",
       "  <thead>\n",
       "    <tr style=\"text-align: right;\">\n",
       "      <th></th>\n",
       "      <th>article_id</th>\n",
       "      <th>title</th>\n",
       "      <th>published_at</th>\n",
       "      <th>source</th>\n",
       "      <th>body</th>\n",
       "    </tr>\n",
       "  </thead>\n",
       "  <tbody>\n",
       "    <tr>\n",
       "      <th>0</th>\n",
       "      <td>5709294677</td>\n",
       "      <td>: Nike stock jumps to lead the Dow's premarket...</td>\n",
       "      <td>2023-06-02 12:52:39+00:00</td>\n",
       "      <td>Finanzen.ch</td>\n",
       "      <td>Nike  96.41 CHF -1.99%  Charts  News  Analysen...</td>\n",
       "    </tr>\n",
       "    <tr>\n",
       "      <th>1</th>\n",
       "      <td>5709292390</td>\n",
       "      <td>Renault Customers Planning Criminal Complaint ...</td>\n",
       "      <td>2023-06-02 12:52:02+00:00</td>\n",
       "      <td>MarketScreener</td>\n",
       "      <td>Financials EUR USD GBP Sales 2023 50 468 M 54 ...</td>\n",
       "    </tr>\n",
       "    <tr>\n",
       "      <th>2</th>\n",
       "      <td>5709276868</td>\n",
       "      <td>Mersana Therapeutics Inc. (MRSN) last month vo...</td>\n",
       "      <td>2023-06-02 12:46:55+00:00</td>\n",
       "      <td>Newsdaemon.com</td>\n",
       "      <td>Search  Search   Search  Search  Sana Meer  Ju...</td>\n",
       "    </tr>\n",
       "    <tr>\n",
       "      <th>3</th>\n",
       "      <td>5709269010</td>\n",
       "      <td>Mike Novogratz Says Crypto is Lackadaisical Ri...</td>\n",
       "      <td>2023-06-02 12:46:28+00:00</td>\n",
       "      <td>Crypto Potato</td>\n",
       "      <td>Michael Novogratz, the founder and CEO of Gala...</td>\n",
       "    </tr>\n",
       "    <tr>\n",
       "      <th>4</th>\n",
       "      <td>5709271283</td>\n",
       "      <td>Another Soft Market Is Inevitable</td>\n",
       "      <td>2023-06-02 12:46:23+00:00</td>\n",
       "      <td>Carrier Management</td>\n",
       "      <td>New You can now listen to Carrier Management a...</td>\n",
       "    </tr>\n",
       "  </tbody>\n",
       "</table>\n",
       "</div>"
      ],
      "text/plain": [
       "   article_id  \\\n",
       "0  5709294677   \n",
       "1  5709292390   \n",
       "2  5709276868   \n",
       "3  5709269010   \n",
       "4  5709271283   \n",
       "\n",
       "                                               title  \\\n",
       "0  : Nike stock jumps to lead the Dow's premarket...   \n",
       "1  Renault Customers Planning Criminal Complaint ...   \n",
       "2  Mersana Therapeutics Inc. (MRSN) last month vo...   \n",
       "3  Mike Novogratz Says Crypto is Lackadaisical Ri...   \n",
       "4                  Another Soft Market Is Inevitable   \n",
       "\n",
       "               published_at              source  \\\n",
       "0 2023-06-02 12:52:39+00:00         Finanzen.ch   \n",
       "1 2023-06-02 12:52:02+00:00      MarketScreener   \n",
       "2 2023-06-02 12:46:55+00:00      Newsdaemon.com   \n",
       "3 2023-06-02 12:46:28+00:00       Crypto Potato   \n",
       "4 2023-06-02 12:46:23+00:00  Carrier Management   \n",
       "\n",
       "                                                body  \n",
       "0  Nike  96.41 CHF -1.99%  Charts  News  Analysen...  \n",
       "1  Financials EUR USD GBP Sales 2023 50 468 M 54 ...  \n",
       "2  Search  Search   Search  Search  Sana Meer  Ju...  \n",
       "3  Michael Novogratz, the founder and CEO of Gala...  \n",
       "4  New You can now listen to Carrier Management a...  "
      ]
     },
     "execution_count": 6,
     "metadata": {},
     "output_type": "execute_result"
    }
   ],
   "source": [
    "aylien_5k = aylien[:5000].copy()\n",
    "\n",
    "print(len(aylien_5k))\n",
    "aylien_5k.head()"
   ]
  },
  {
   "cell_type": "markdown",
   "id": "4def62d4",
   "metadata": {},
   "source": [
    "# Prompt generation"
   ]
  },
  {
   "cell_type": "markdown",
   "id": "353e8e84",
   "metadata": {},
   "source": [
    "## Investigating potential prompts\n",
    "\n",
    "1. \"give me an answer only in cypher language that i can paste into neo4j to create a graph. What is the single main event and relation described by the article regarding IIC Padmalochan Manigarahi?  The article is: Mayurbhanj: One person was killed, while two others sustained critical injuries when they were brutally attacked by a youth on suspicion of practising black magic on Sunday night.\\nThe incident has been reported from Kainal village in Jualibhanga panchayat under Morada police station limits in Odisha's Mayurbhanj district.\\n  The deceased has been identified as Gauri Tudu (70) and the injured as Kuni Tudu (42) and Kalicharan Tudu (47).\\n  According to reports, a youth named Durga Charan Tudu suddenly attacked the three while they were sitting in their home last night. Durga Charan Tudu allegedly attacked the three with a sharp weapon, which left septuagenarian Gauri Tudu dead on the spot, while two members of the family were severely injured and dropped unconscious. He bore a grudge against the Tudu family suspecting that they practised witchcraft and were responsible for several ills in the village.\\n  Soon after the gruesome incident, the three were rushed to the nearby community health center where doctors declared Gauri Tudu brought dead. Kuni Tudu and Kalicharan Tudu were shifted to the PRM Hospital in Baripada as their condition deteriorated. Currently, Kuni Tudu and Kalicharan Tudu are undergoing treatment in the hospital and their condition is said to be critical.\\n  On being informed, Morada police IIC Padmalochan Manigarahi and Chitrada outpost officer Niranjan Saren reached the spot with their teams. They sent Gauri's body for post-mortem and detained Durga Charan Tudu for interrogation. An investigation into the incident is underway.\"\n",
    "\n",
    "* Notes on above:\n",
    "    * only sometimes produces cypher query.\n",
    "    * and if it does, difficult to get in a clean plaintext format that can be piped out.\n",
    "    * cypher query often not accurate, if produced.\n",
    "    * response from CGPT too large/cumbersome. defeats purpose.\n",
    "    "
   ]
  },
  {
   "cell_type": "code",
   "execution_count": 7,
   "id": "e0853b7b",
   "metadata": {},
   "outputs": [],
   "source": [
    "\n",
    "# Create a function to generate the prompt based on the row values\n",
    "def generate_prompt(row):\n",
    "\n",
    "    body = row['body']\n",
    "    \n",
    "    prompt = f'''For the main organisation discussed in this article (if any), give me information as follows and nothing else. If there is no organiastion discussed, respond with \"NA\".\n",
    "    ###\n",
    "    Desired response format:\n",
    "    ###\n",
    "    org: <main organisation discussed>\n",
    "    country: <country of main organisation>\n",
    "    state: <state/province of main organisation>\n",
    "    city: <city/town of main organisation>\n",
    "    industry: <industry of the organisation>\n",
    "    risks: <semi-colon-separated list of risks faced by main organisation> Summarise each risk in a phrase of up to 3 words.\n",
    "    items_sold: <semicolon-separated list of items sold by main organisation>\n",
    "    service_provided: <semi-colon-separated list of services provided by organisation>\n",
    "    business_relations: <semi-colon-separated list of organisations with a business relation to the main organisation>\n",
    "    ###\n",
    "    The provided article is:\n",
    "    ###\n",
    "    {body}\n",
    "    ###'''\n",
    "    \n",
    "    return prompt\n",
    "\n",
    "# Add a new 'prompt' column by applying the generate_prompt function to each row\n",
    "aylien_5k['prompt'] = aylien_5k.apply(generate_prompt, axis=1)\n",
    "aylien_5k['prompt'] = aylien_5k['prompt'].astype(str)\n"
   ]
  },
  {
   "cell_type": "code",
   "execution_count": 8,
   "id": "56b933e9",
   "metadata": {},
   "outputs": [
    {
     "data": {
      "text/html": [
       "<div>\n",
       "<style scoped>\n",
       "    .dataframe tbody tr th:only-of-type {\n",
       "        vertical-align: middle;\n",
       "    }\n",
       "\n",
       "    .dataframe tbody tr th {\n",
       "        vertical-align: top;\n",
       "    }\n",
       "\n",
       "    .dataframe thead th {\n",
       "        text-align: right;\n",
       "    }\n",
       "</style>\n",
       "<table border=\"1\" class=\"dataframe\">\n",
       "  <thead>\n",
       "    <tr style=\"text-align: right;\">\n",
       "      <th></th>\n",
       "      <th>article_id</th>\n",
       "      <th>title</th>\n",
       "      <th>published_at</th>\n",
       "      <th>source</th>\n",
       "      <th>body</th>\n",
       "      <th>prompt</th>\n",
       "    </tr>\n",
       "  </thead>\n",
       "  <tbody>\n",
       "    <tr>\n",
       "      <th>0</th>\n",
       "      <td>5709294677</td>\n",
       "      <td>: Nike stock jumps to lead the Dow's premarket...</td>\n",
       "      <td>2023-06-02 12:52:39+00:00</td>\n",
       "      <td>Finanzen.ch</td>\n",
       "      <td>Nike  96.41 CHF -1.99%  Charts  News  Analysen...</td>\n",
       "      <td>For the main organisation discussed in this ar...</td>\n",
       "    </tr>\n",
       "    <tr>\n",
       "      <th>1</th>\n",
       "      <td>5709292390</td>\n",
       "      <td>Renault Customers Planning Criminal Complaint ...</td>\n",
       "      <td>2023-06-02 12:52:02+00:00</td>\n",
       "      <td>MarketScreener</td>\n",
       "      <td>Financials EUR USD GBP Sales 2023 50 468 M 54 ...</td>\n",
       "      <td>For the main organisation discussed in this ar...</td>\n",
       "    </tr>\n",
       "    <tr>\n",
       "      <th>2</th>\n",
       "      <td>5709276868</td>\n",
       "      <td>Mersana Therapeutics Inc. (MRSN) last month vo...</td>\n",
       "      <td>2023-06-02 12:46:55+00:00</td>\n",
       "      <td>Newsdaemon.com</td>\n",
       "      <td>Search  Search   Search  Search  Sana Meer  Ju...</td>\n",
       "      <td>For the main organisation discussed in this ar...</td>\n",
       "    </tr>\n",
       "    <tr>\n",
       "      <th>3</th>\n",
       "      <td>5709269010</td>\n",
       "      <td>Mike Novogratz Says Crypto is Lackadaisical Ri...</td>\n",
       "      <td>2023-06-02 12:46:28+00:00</td>\n",
       "      <td>Crypto Potato</td>\n",
       "      <td>Michael Novogratz, the founder and CEO of Gala...</td>\n",
       "      <td>For the main organisation discussed in this ar...</td>\n",
       "    </tr>\n",
       "    <tr>\n",
       "      <th>4</th>\n",
       "      <td>5709271283</td>\n",
       "      <td>Another Soft Market Is Inevitable</td>\n",
       "      <td>2023-06-02 12:46:23+00:00</td>\n",
       "      <td>Carrier Management</td>\n",
       "      <td>New You can now listen to Carrier Management a...</td>\n",
       "      <td>For the main organisation discussed in this ar...</td>\n",
       "    </tr>\n",
       "  </tbody>\n",
       "</table>\n",
       "</div>"
      ],
      "text/plain": [
       "   article_id  \\\n",
       "0  5709294677   \n",
       "1  5709292390   \n",
       "2  5709276868   \n",
       "3  5709269010   \n",
       "4  5709271283   \n",
       "\n",
       "                                               title  \\\n",
       "0  : Nike stock jumps to lead the Dow's premarket...   \n",
       "1  Renault Customers Planning Criminal Complaint ...   \n",
       "2  Mersana Therapeutics Inc. (MRSN) last month vo...   \n",
       "3  Mike Novogratz Says Crypto is Lackadaisical Ri...   \n",
       "4                  Another Soft Market Is Inevitable   \n",
       "\n",
       "               published_at              source  \\\n",
       "0 2023-06-02 12:52:39+00:00         Finanzen.ch   \n",
       "1 2023-06-02 12:52:02+00:00      MarketScreener   \n",
       "2 2023-06-02 12:46:55+00:00      Newsdaemon.com   \n",
       "3 2023-06-02 12:46:28+00:00       Crypto Potato   \n",
       "4 2023-06-02 12:46:23+00:00  Carrier Management   \n",
       "\n",
       "                                                body  \\\n",
       "0  Nike  96.41 CHF -1.99%  Charts  News  Analysen...   \n",
       "1  Financials EUR USD GBP Sales 2023 50 468 M 54 ...   \n",
       "2  Search  Search   Search  Search  Sana Meer  Ju...   \n",
       "3  Michael Novogratz, the founder and CEO of Gala...   \n",
       "4  New You can now listen to Carrier Management a...   \n",
       "\n",
       "                                              prompt  \n",
       "0  For the main organisation discussed in this ar...  \n",
       "1  For the main organisation discussed in this ar...  \n",
       "2  For the main organisation discussed in this ar...  \n",
       "3  For the main organisation discussed in this ar...  \n",
       "4  For the main organisation discussed in this ar...  "
      ]
     },
     "execution_count": 8,
     "metadata": {},
     "output_type": "execute_result"
    }
   ],
   "source": [
    "aylien_5k.head()"
   ]
  },
  {
   "cell_type": "markdown",
   "id": "d88de39a",
   "metadata": {},
   "source": [
    "## Export df with prompts to serve as input reference"
   ]
  },
  {
   "cell_type": "code",
   "execution_count": 9,
   "id": "29aab831",
   "metadata": {},
   "outputs": [],
   "source": [
    "# Export DataFrame to pickle file\n",
    "pickle_file_path = './datasets/Aylien/zero_shot_aylien_business_5k_with_prompts.pickle'\n",
    "aylien_5k.to_pickle(pickle_file_path)"
   ]
  },
  {
   "cell_type": "code",
   "execution_count": 10,
   "id": "90c6c6eb",
   "metadata": {},
   "outputs": [],
   "source": [
    "# convert published_at to be timezone-unaware, to export to excel\n",
    "\n",
    "aylien_5k['published_at'] = pd.to_datetime(aylien_5k['published_at']).dt.tz_localize(None)\n",
    "\n",
    "# Convert 'published_at' column to 'DD-Month-YYYY' format\n",
    "aylien_5k['published_at'] = aylien_5k['published_at'].dt.strftime('%d-%B-%Y')"
   ]
  },
  {
   "cell_type": "code",
   "execution_count": 11,
   "id": "b443aa9b",
   "metadata": {},
   "outputs": [],
   "source": [
    "# Export DataFrame to Excel file\n",
    "excel_file_path = './datasets/Aylien/zero_shot_aylien_business_5k_with_prompts.xlsx'\n",
    "aylien_5k.to_excel(excel_file_path, index=False)"
   ]
  },
  {
   "cell_type": "markdown",
   "id": "49f8b3fb",
   "metadata": {},
   "source": [
    "### Convert to prompts to all_prompts list to explore."
   ]
  },
  {
   "cell_type": "code",
   "execution_count": 12,
   "id": "4590ea26",
   "metadata": {},
   "outputs": [],
   "source": [
    "all_prompts = aylien_5k['prompt'].tolist()"
   ]
  },
  {
   "cell_type": "code",
   "execution_count": 13,
   "id": "b56706d1",
   "metadata": {},
   "outputs": [
    {
     "data": {
      "text/plain": [
       "'For the main organisation discussed in this article (if any), give me information as follows and nothing else. If there is no organiastion discussed, respond with \"NA\".\\n    ###\\n    Desired response format:\\n    ###\\n    org: <main organisation discussed>\\n    country: <country of main organisation>\\n    state: <state/province of main organisation>\\n    city: <city/town of main organisation>\\n    industry: <industry of the organisation>\\n    risks: <semi-colon-separated list of risks faced by main organisation> Summarise each risk in a phrase of up to 3 words.\\n    items_sold: <semicolon-separated list of items sold by main organisation>\\n    service_provided: <semi-colon-separated list of services provided by organisation>\\n    business_relations: <semi-colon-separated list of organisations with a business relation to the main organisation>\\n    ###\\n    The provided article is:\\n    ###\\n    Nike  96.41 CHF -1.99%  Charts  News  Analysen  Kaufen  Verkaufen Shares of Nike Inc.\\nNKE jumped 3.0% to pace all of the Dow Jones Industrial Average\\'s DJIA premarket gainers, putting them on track to snap a four-day losing streak. The athletic apparel giant\\'s stock had actually dropped in nine of the past 10 sessions, to close Thursday at the lowest price since Dec. 20, 2022. It has lost 13.1% during the 10-day stretch, while the Dow has slipped 1.4% over the same time. During that losing stretch, Nike received a rare “sell” recommendation from Williams Trading\\'s Sam Poser, who said the company\\'s footwear has run “stale.” The stock\\'s bounce Friday comes a day after Macy\\'s Inc. M said it will bring Nike products back to certain stores and e-commerce operations in the fall, with plans to scale to additional stores in 2024.Market Pulse Stories are Rapid-fire, short news bursts on stocks and markets as they move. Visit MarketWatch.com for more information on this news.\\n  Weiter zum vollständigen Artikel bei \"Market Watch\"\\n  Die Produktdokumentation, d.h. der Prospekt und das Basisinformationsblatt (BIB), sowie Informationen zu Chancen und Risiken, finden Sie unter: https://keyinvest-ch.ubs.com\\n    ###'"
      ]
     },
     "execution_count": 13,
     "metadata": {},
     "output_type": "execute_result"
    }
   ],
   "source": [
    "# observe single prompt as example.\n",
    "all_prompts[0]"
   ]
  },
  {
   "cell_type": "markdown",
   "id": "b7358ddd",
   "metadata": {},
   "source": [
    "# Exploring prompts"
   ]
  },
  {
   "cell_type": "markdown",
   "id": "b8f8f872",
   "metadata": {},
   "source": [
    "## Investigate average length of tokens\n",
    "\n",
    "* Important for pricing forecast and LLM API restrictions\n",
    "* must use tiktoken (and not nltk), with the correct encoder."
   ]
  },
  {
   "cell_type": "markdown",
   "id": "d8829216",
   "metadata": {},
   "source": [
    "### with tiktoken"
   ]
  },
  {
   "cell_type": "code",
   "execution_count": 14,
   "id": "300088e3",
   "metadata": {},
   "outputs": [],
   "source": [
    "encoding = tiktoken.encoding_for_model(\"gpt-3.5-turbo\")\n",
    "#encoding = tiktoken.get_encoding(\"cl100k_base\")"
   ]
  },
  {
   "cell_type": "code",
   "execution_count": 15,
   "id": "09f259c4",
   "metadata": {},
   "outputs": [],
   "source": [
    "# fns to count strings in list of prompts:\n",
    "\n",
    "def num_tokens_from_string(string: str, encoding_name: str) -> int:\n",
    "    \"\"\"Returns the number of tokens in a text string.\"\"\"\n",
    "    encoding = tiktoken.get_encoding(encoding_name)\n",
    "    num_tokens = len(encoding.encode(string))\n",
    "    return num_tokens\n",
    "\n",
    "def count_tokens_in_list(prompt_list: list, encoding_name: str) -> list:\n",
    "    \"\"\"Returns a list of integers representing the number of tokens in each string in the input list.\"\"\"\n",
    "    token_counts = []\n",
    "    for prompt in prompt_list:\n",
    "        num_tokens = num_tokens_from_string(prompt, encoding_name)\n",
    "        token_counts.append(num_tokens)\n",
    "    return token_counts\n"
   ]
  },
  {
   "cell_type": "code",
   "execution_count": 16,
   "id": "aec8734b",
   "metadata": {},
   "outputs": [],
   "source": [
    "encoding_name = \"cl100k_base\" # used for gpt-3.5-turbo\n",
    "token_counts = count_tokens_in_list(all_prompts, encoding_name)"
   ]
  },
  {
   "cell_type": "code",
   "execution_count": 17,
   "id": "ab58f212",
   "metadata": {},
   "outputs": [
    {
     "name": "stdout",
     "output_type": "stream",
     "text": [
      "Number of tokens on the smallest prompt: 195\n",
      "Number of tokens on the largest prompt: 14303\n",
      "Total number of tokens for all prompts: 4402221\n",
      "Average number of tokens in all_prompts: 880.4442\n"
     ]
    }
   ],
   "source": [
    "min_tokens = min(token_counts)\n",
    "max_tokens = max(token_counts)\n",
    "total_tokens = sum(i for i in token_counts if isinstance(i, int))\n",
    "average_tokens = total_tokens / len(all_prompts)\n",
    "\n",
    "print(f\"Number of tokens on the smallest prompt: {min_tokens}\")\n",
    "print(f\"Number of tokens on the largest prompt: {max_tokens}\")\n",
    "print(f\"Total number of tokens for all prompts: {total_tokens}\")\n",
    "print(f\"Average number of tokens in all_prompts: {average_tokens}\")"
   ]
  },
  {
   "cell_type": "markdown",
   "id": "6098d44d",
   "metadata": {},
   "source": [
    "#### Cross-check above count against count in 'prompt' col of df."
   ]
  },
  {
   "cell_type": "code",
   "execution_count": 18,
   "id": "eae0d0eb",
   "metadata": {},
   "outputs": [
    {
     "name": "stdout",
     "output_type": "stream",
     "text": [
      "Number of tokens on the smallest prompt: 195\n",
      "Number of tokens on the largest prompt: 14303\n",
      "Total number of tokens for all prompts: 4402221\n",
      "Average number of tokens in all prompts: 880.4442\n"
     ]
    }
   ],
   "source": [
    "\n",
    "# Apply the num_tokens_from_string function to each row in the 'prompt' column\n",
    "aylien_5k['token_count'] = aylien_5k['prompt'].apply(lambda x: num_tokens_from_string(x, \"cl100k_base\"))\n",
    "\n",
    "# Get summary statistics\n",
    "min_tokens = aylien_5k['token_count'].min()\n",
    "max_tokens = aylien_5k['token_count'].max()\n",
    "total_tokens = aylien_5k['token_count'].sum()\n",
    "average_tokens = total_tokens / len(aylien_5k)\n",
    "\n",
    "print(f\"Number of tokens on the smallest prompt: {min_tokens}\")\n",
    "print(f\"Number of tokens on the largest prompt: {max_tokens}\")\n",
    "print(f\"Total number of tokens for all prompts: {total_tokens}\")\n",
    "print(f\"Average number of tokens in all prompts: {average_tokens}\")"
   ]
  },
  {
   "cell_type": "markdown",
   "id": "b7f3508c",
   "metadata": {},
   "source": [
    "### Estimating max response tokens if prompt works correctly (update to reflect prompt used)"
   ]
  },
  {
   "cell_type": "code",
   "execution_count": 19,
   "id": "07607a84",
   "metadata": {},
   "outputs": [
    {
     "data": {
      "text/plain": [
       "216"
      ]
     },
     "execution_count": 19,
     "metadata": {},
     "output_type": "execute_result"
    }
   ],
   "source": [
    "#num_tokens_from_string(\"facing risk: yes. type of risk: thisis some text for a risk type.\", \"cl100k_base\")\n",
    "\n",
    "num_tokens_from_string(\n",
    "    \n",
    "    '''\n",
    "    \"You will be extracting information from the provided article in the specified format.\"\n",
    "    org: Silicon Valley Bank\n",
    "    country: U.S.\n",
    "    state: California\n",
    "    city: Santa Clara\n",
    "    industry: tech erogih eroigh erogih ergohi ergohi\n",
    "    risks: political; financial; mismanagement; regulatory, eorigherogi, oeirhgoerihg , eorigheriogh\n",
    "    items_sold: NA, peiorgherhg, eoirgh eroighj er, oierhg, eioprj, eighjowh, rijgio, oeirgjerj ,eoirgj\n",
    "    service_provided: tech-lending; ergoiperg, eorigheropigh, oeighioerhg, oergheroig\n",
    "    business_relations: Credit Suisse, eoprgje, oeirhgerhgho, woiejh, wioehr, fjkr we  d f f, wejfj r \n",
    "    '''\n",
    "                       ,\"cl100k_base\" )"
   ]
  },
  {
   "cell_type": "markdown",
   "id": "b8ece9ae",
   "metadata": {},
   "source": [
    "### Truncate tokens of long prompts\n",
    "\n",
    "* gpt-3.5-turbo has max tokens of 4,096 tokens\n",
    "* This includes prompt and response tokens combined.\n",
    "* response tokens should be short due to the attempt at prompt restrictions;\n",
    "    * i.e. Provide answers only in the format of <facing risk: <'yes'/'no'>. type of risk: < risk type >.> and nothing else.\n",
    "* so a generous estimate of response tokens would be 400, providing gpt-3.5-turbo successfully adheres to above prompting.\n",
    "* Therefore truncate prompt tokens to 3500 to be safe (truncating from the end backwards)."
   ]
  },
  {
   "cell_type": "code",
   "execution_count": 20,
   "id": "66c4eeb9",
   "metadata": {},
   "outputs": [],
   "source": [
    "def truncate_prompt(prompt: str, encoding_name: str, max_tokens: int) -> str:\n",
    "    \"\"\"Truncates a text string to the specified number of tokens.\"\"\"\n",
    "    encoding = tiktoken.get_encoding(encoding_name)\n",
    "    tokens = encoding.encode(prompt)[:max_tokens]\n",
    "    return encoding.decode(tokens)\n",
    "\n",
    "\n",
    "def count_tokens_for_truncating(prompt_list: list, encoding_name: str, max_tokens: int) -> list:\n",
    "    \"\"\"Returns a list of strings with a maximum of max_tokens tokens.\"\"\"\n",
    "    token_counts = []\n",
    "    truncated_prompts = []\n",
    "    for prompt in prompt_list:\n",
    "        num_tokens = num_tokens_from_string(prompt, encoding_name)\n",
    "        if num_tokens > max_tokens:\n",
    "            truncated_prompt = truncate_prompt(prompt, encoding_name, max_tokens)\n",
    "            token_counts.append(max_tokens)\n",
    "        else:\n",
    "            truncated_prompt = prompt\n",
    "            token_counts.append(num_tokens)\n",
    "        truncated_prompts.append(truncated_prompt)\n",
    "    return truncated_prompts, token_counts\n"
   ]
  },
  {
   "cell_type": "code",
   "execution_count": 21,
   "id": "af8d00e3",
   "metadata": {},
   "outputs": [],
   "source": [
    "encoding_name = \"cl100k_base\" # used for gpt-3.5-turbo\n",
    "max_tokens = 3500 # Update this based on model to be used in 'Generating responses' section to correspond to token limitations.\n",
    "\n",
    "truncated_prompts, token_counts = count_tokens_for_truncating(all_prompts, encoding_name, max_tokens)"
   ]
  },
  {
   "cell_type": "code",
   "execution_count": 22,
   "id": "76de2e2a",
   "metadata": {},
   "outputs": [
    {
     "name": "stdout",
     "output_type": "stream",
     "text": [
      "Number of tokens on the smallest prompt: 195\n",
      "Number of tokens on the largest prompt: 3500\n",
      "Total number of tokens for all prompts: 4306044\n",
      "Average number of tokens in all_prompts: 861.2088\n"
     ]
    }
   ],
   "source": [
    "# Compare output to previous token counts.\n",
    "\n",
    "token_counts_truncated_prompts = count_tokens_in_list(truncated_prompts, encoding_name)\n",
    "min_tokens_truncated_prompts = min(token_counts_truncated_prompts)\n",
    "max_tokens_truncated_prompts = max(token_counts_truncated_prompts)\n",
    "total_tokens_truncated_prompts = sum(i for i in token_counts_truncated_prompts if isinstance(i, int))\n",
    "average_tokens_truncated_prompts = total_tokens_truncated_prompts / len(truncated_prompts)\n",
    "\n",
    "print(f\"Number of tokens on the smallest prompt: {min_tokens_truncated_prompts}\")\n",
    "print(f\"Number of tokens on the largest prompt: {max_tokens_truncated_prompts}\")\n",
    "print(f\"Total number of tokens for all prompts: {total_tokens_truncated_prompts}\")\n",
    "print(f\"Average number of tokens in all_prompts: {average_tokens_truncated_prompts}\")\n",
    "\n",
    "# Compare output to previous output (prior to truncation)."
   ]
  },
  {
   "cell_type": "markdown",
   "id": "8633d143",
   "metadata": {},
   "source": [
    "### Above truncation was applied to the all_prompts list of strings.\n",
    "* Need to now apply to the aylien_5k['prompt'] col"
   ]
  },
  {
   "cell_type": "code",
   "execution_count": 23,
   "id": "911a7472",
   "metadata": {},
   "outputs": [
    {
     "data": {
      "text/html": [
       "<div>\n",
       "<style scoped>\n",
       "    .dataframe tbody tr th:only-of-type {\n",
       "        vertical-align: middle;\n",
       "    }\n",
       "\n",
       "    .dataframe tbody tr th {\n",
       "        vertical-align: top;\n",
       "    }\n",
       "\n",
       "    .dataframe thead th {\n",
       "        text-align: right;\n",
       "    }\n",
       "</style>\n",
       "<table border=\"1\" class=\"dataframe\">\n",
       "  <thead>\n",
       "    <tr style=\"text-align: right;\">\n",
       "      <th></th>\n",
       "      <th>article_id</th>\n",
       "      <th>title</th>\n",
       "      <th>published_at</th>\n",
       "      <th>source</th>\n",
       "      <th>body</th>\n",
       "      <th>prompt</th>\n",
       "      <th>token_count</th>\n",
       "    </tr>\n",
       "  </thead>\n",
       "  <tbody>\n",
       "    <tr>\n",
       "      <th>0</th>\n",
       "      <td>5709294677</td>\n",
       "      <td>: Nike stock jumps to lead the Dow's premarket...</td>\n",
       "      <td>02-June-2023</td>\n",
       "      <td>Finanzen.ch</td>\n",
       "      <td>Nike  96.41 CHF -1.99%  Charts  News  Analysen...</td>\n",
       "      <td>For the main organisation discussed in this ar...</td>\n",
       "      <td>491</td>\n",
       "    </tr>\n",
       "    <tr>\n",
       "      <th>1</th>\n",
       "      <td>5709292390</td>\n",
       "      <td>Renault Customers Planning Criminal Complaint ...</td>\n",
       "      <td>02-June-2023</td>\n",
       "      <td>MarketScreener</td>\n",
       "      <td>Financials EUR USD GBP Sales 2023 50 468 M 54 ...</td>\n",
       "      <td>For the main organisation discussed in this ar...</td>\n",
       "      <td>592</td>\n",
       "    </tr>\n",
       "  </tbody>\n",
       "</table>\n",
       "</div>"
      ],
      "text/plain": [
       "   article_id  \\\n",
       "0  5709294677   \n",
       "1  5709292390   \n",
       "\n",
       "                                               title  \\\n",
       "0  : Nike stock jumps to lead the Dow's premarket...   \n",
       "1  Renault Customers Planning Criminal Complaint ...   \n",
       "\n",
       "   published_at          source  \\\n",
       "0  02-June-2023     Finanzen.ch   \n",
       "1  02-June-2023  MarketScreener   \n",
       "\n",
       "                                                body  \\\n",
       "0  Nike  96.41 CHF -1.99%  Charts  News  Analysen...   \n",
       "1  Financials EUR USD GBP Sales 2023 50 468 M 54 ...   \n",
       "\n",
       "                                              prompt  \\\n",
       "0  For the main organisation discussed in this ar...   \n",
       "1  For the main organisation discussed in this ar...   \n",
       "\n",
       "   token_count  \n",
       "0          491  \n",
       "1          592  "
      ]
     },
     "execution_count": 23,
     "metadata": {},
     "output_type": "execute_result"
    }
   ],
   "source": [
    "aylien_5k.head(2)"
   ]
  },
  {
   "cell_type": "code",
   "execution_count": 24,
   "id": "909c1559",
   "metadata": {},
   "outputs": [
    {
     "data": {
      "text/html": [
       "<div>\n",
       "<style scoped>\n",
       "    .dataframe tbody tr th:only-of-type {\n",
       "        vertical-align: middle;\n",
       "    }\n",
       "\n",
       "    .dataframe tbody tr th {\n",
       "        vertical-align: top;\n",
       "    }\n",
       "\n",
       "    .dataframe thead th {\n",
       "        text-align: right;\n",
       "    }\n",
       "</style>\n",
       "<table border=\"1\" class=\"dataframe\">\n",
       "  <thead>\n",
       "    <tr style=\"text-align: right;\">\n",
       "      <th></th>\n",
       "      <th>article_id</th>\n",
       "      <th>title</th>\n",
       "      <th>published_at</th>\n",
       "      <th>source</th>\n",
       "      <th>body</th>\n",
       "      <th>prompt</th>\n",
       "      <th>token_count</th>\n",
       "    </tr>\n",
       "  </thead>\n",
       "  <tbody>\n",
       "    <tr>\n",
       "      <th>0</th>\n",
       "      <td>5709294677</td>\n",
       "      <td>: Nike stock jumps to lead the Dow's premarket...</td>\n",
       "      <td>02-June-2023</td>\n",
       "      <td>Finanzen.ch</td>\n",
       "      <td>Nike  96.41 CHF -1.99%  Charts  News  Analysen...</td>\n",
       "      <td>For the main organisation discussed in this ar...</td>\n",
       "      <td>491</td>\n",
       "    </tr>\n",
       "    <tr>\n",
       "      <th>1</th>\n",
       "      <td>5709292390</td>\n",
       "      <td>Renault Customers Planning Criminal Complaint ...</td>\n",
       "      <td>02-June-2023</td>\n",
       "      <td>MarketScreener</td>\n",
       "      <td>Financials EUR USD GBP Sales 2023 50 468 M 54 ...</td>\n",
       "      <td>For the main organisation discussed in this ar...</td>\n",
       "      <td>592</td>\n",
       "    </tr>\n",
       "    <tr>\n",
       "      <th>2</th>\n",
       "      <td>5709276868</td>\n",
       "      <td>Mersana Therapeutics Inc. (MRSN) last month vo...</td>\n",
       "      <td>02-June-2023</td>\n",
       "      <td>Newsdaemon.com</td>\n",
       "      <td>Search  Search   Search  Search  Sana Meer  Ju...</td>\n",
       "      <td>For the main organisation discussed in this ar...</td>\n",
       "      <td>1479</td>\n",
       "    </tr>\n",
       "    <tr>\n",
       "      <th>3</th>\n",
       "      <td>5709269010</td>\n",
       "      <td>Mike Novogratz Says Crypto is Lackadaisical Ri...</td>\n",
       "      <td>02-June-2023</td>\n",
       "      <td>Crypto Potato</td>\n",
       "      <td>Michael Novogratz, the founder and CEO of Gala...</td>\n",
       "      <td>For the main organisation discussed in this ar...</td>\n",
       "      <td>703</td>\n",
       "    </tr>\n",
       "    <tr>\n",
       "      <th>4</th>\n",
       "      <td>5709271283</td>\n",
       "      <td>Another Soft Market Is Inevitable</td>\n",
       "      <td>02-June-2023</td>\n",
       "      <td>Carrier Management</td>\n",
       "      <td>New You can now listen to Carrier Management a...</td>\n",
       "      <td>For the main organisation discussed in this ar...</td>\n",
       "      <td>1851</td>\n",
       "    </tr>\n",
       "  </tbody>\n",
       "</table>\n",
       "</div>"
      ],
      "text/plain": [
       "   article_id  \\\n",
       "0  5709294677   \n",
       "1  5709292390   \n",
       "2  5709276868   \n",
       "3  5709269010   \n",
       "4  5709271283   \n",
       "\n",
       "                                               title  \\\n",
       "0  : Nike stock jumps to lead the Dow's premarket...   \n",
       "1  Renault Customers Planning Criminal Complaint ...   \n",
       "2  Mersana Therapeutics Inc. (MRSN) last month vo...   \n",
       "3  Mike Novogratz Says Crypto is Lackadaisical Ri...   \n",
       "4                  Another Soft Market Is Inevitable   \n",
       "\n",
       "   published_at              source  \\\n",
       "0  02-June-2023         Finanzen.ch   \n",
       "1  02-June-2023      MarketScreener   \n",
       "2  02-June-2023      Newsdaemon.com   \n",
       "3  02-June-2023       Crypto Potato   \n",
       "4  02-June-2023  Carrier Management   \n",
       "\n",
       "                                                body  \\\n",
       "0  Nike  96.41 CHF -1.99%  Charts  News  Analysen...   \n",
       "1  Financials EUR USD GBP Sales 2023 50 468 M 54 ...   \n",
       "2  Search  Search   Search  Search  Sana Meer  Ju...   \n",
       "3  Michael Novogratz, the founder and CEO of Gala...   \n",
       "4  New You can now listen to Carrier Management a...   \n",
       "\n",
       "                                              prompt  \\\n",
       "0  For the main organisation discussed in this ar...   \n",
       "1  For the main organisation discussed in this ar...   \n",
       "2  For the main organisation discussed in this ar...   \n",
       "3  For the main organisation discussed in this ar...   \n",
       "4  For the main organisation discussed in this ar...   \n",
       "\n",
       "   token_count  \n",
       "0          491  \n",
       "1          592  \n",
       "2         1479  \n",
       "3          703  \n",
       "4         1851  "
      ]
     },
     "execution_count": 24,
     "metadata": {},
     "output_type": "execute_result"
    }
   ],
   "source": [
    "def num_tokens_from_string(text: str, encoding_name: str) -> int:\n",
    "    encoding = tiktoken.get_encoding(encoding_name)\n",
    "    return len(encoding.encode(text))\n",
    "\n",
    "def truncate_prompt(prompt: str, encoding_name: str, max_tokens: int) -> str:\n",
    "    \"\"\"Truncates a text string to the specified number of tokens.\"\"\"\n",
    "    encoding = tiktoken.get_encoding(encoding_name)\n",
    "    tokens = encoding.encode(prompt)[:max_tokens]\n",
    "    return encoding.decode(tokens)\n",
    "\n",
    "def truncate_prompts_in_df(df: pd.DataFrame, encoding_name: str, max_tokens: int):\n",
    "    \"\"\"Truncates prompts in the DataFrame if their token count exceeds the max limit.\"\"\"\n",
    "    df.loc[df['token_count'] > max_tokens, 'prompt'] = df.loc[df['token_count'] > max_tokens, 'prompt'].apply(\n",
    "        lambda x: truncate_prompt(x, encoding_name, max_tokens)\n",
    "    )\n",
    "    df.loc[df['token_count'] > max_tokens, 'token_count'] = max_tokens  # Update token_count\n",
    "\n",
    "# Apply truncation\n",
    "truncate_prompts_in_df(aylien_5k, \"cl100k_base\", 3500)\n",
    "\n",
    "aylien_5k.head()"
   ]
  },
  {
   "cell_type": "code",
   "execution_count": 25,
   "id": "8204be34",
   "metadata": {},
   "outputs": [
    {
     "name": "stdout",
     "output_type": "stream",
     "text": [
      "Number of tokens on the smallest prompt: 195\n",
      "Number of tokens on the largest prompt: 3500\n",
      "Total number of tokens for all prompts: 4306044\n",
      "Average number of tokens in all prompts: 861.2088\n",
      "Number of prompts:  5000\n"
     ]
    }
   ],
   "source": [
    "# Get truncated summary statistics:\n",
    "\n",
    "min_tokens = aylien_5k['token_count'].min()\n",
    "max_tokens = aylien_5k['token_count'].max()\n",
    "total_tokens = aylien_5k['token_count'].sum()\n",
    "average_tokens = total_tokens / len(aylien_5k)\n",
    "\n",
    "print(f\"Number of tokens on the smallest prompt: {min_tokens}\")\n",
    "print(f\"Number of tokens on the largest prompt: {max_tokens}\")\n",
    "print(f\"Total number of tokens for all prompts: {total_tokens}\")\n",
    "print(f\"Average number of tokens in all prompts: {average_tokens}\")\n",
    "print(\"Number of prompts: \", len(aylien_5k))"
   ]
  },
  {
   "cell_type": "markdown",
   "id": "5f2db20b",
   "metadata": {},
   "source": [
    "# Prompt structure"
   ]
  },
  {
   "cell_type": "code",
   "execution_count": 26,
   "id": "b7e2c26d",
   "metadata": {},
   "outputs": [],
   "source": [
    "# define / restrict input size:\n",
    "aylien_5k_input = aylien_5k.head(1000).copy()"
   ]
  },
  {
   "cell_type": "code",
   "execution_count": 28,
   "id": "5a9dee2c",
   "metadata": {},
   "outputs": [
    {
     "name": "stdout",
     "output_type": "stream",
     "text": [
      "1000\n"
     ]
    }
   ],
   "source": [
    "print(len(aylien_5k_input))"
   ]
  },
  {
   "cell_type": "code",
   "execution_count": 29,
   "id": "8f7c0e0b",
   "metadata": {},
   "outputs": [],
   "source": [
    "openai.api_key = os.getenv('OPENAI_KEY')"
   ]
  },
  {
   "cell_type": "code",
   "execution_count": 30,
   "id": "e5609dce",
   "metadata": {},
   "outputs": [],
   "source": [
    "# model:\n",
    "GPT_MODEL = \"gpt-3.5-turbo\"\n",
    "\n",
    "# Retry parameters\n",
    "max_retries = 3\n",
    "retry_delay = 5  # in seconds\n",
    "\n",
    "# Initialize a new column 'responses' in the dataframe\n",
    "aylien_5k_input.loc[:, 'responses'] = ''\n",
    "\n",
    "def generate_responses(input_df):\n",
    "    for idx, row in tqdm(input_df.iterrows(), total=len(input_df), desc=\"Generating responses\"):\n",
    "        try:\n",
    "            query = row['prompt']\n",
    "\n",
    "            if query is None or query.strip() == '':\n",
    "                print(f\"Empty prompt at index {idx}. Skipping this row.\")\n",
    "                continue\n",
    "\n",
    "            retries = 0\n",
    "            while retries < max_retries:\n",
    "                try:\n",
    "                    response = openai.ChatCompletion.create(\n",
    "                        model=GPT_MODEL,\n",
    "                        messages=[\n",
    "                            {\"role\": \"system\", \"content\": \"You will be extracting information from the provided article in the specified format.\"},\n",
    "                            {\"role\": \"user\", \"content\": query}, # In general, gpt-3.5-turbo-0301 does not pay strong attention to the system message, and therefore important instructions are often better placed in a user message.\n",
    "                        ],\n",
    "                        temperature=0,\n",
    "                        max_tokens=400,  # max tokens in response. token limit (4096) must be < largest query + message content + max_tokens\n",
    "                    )\n",
    "\n",
    "                    response_content = response['choices'][0]['message']['content']\n",
    "                    print(response_content)  # Print just the message content\n",
    "\n",
    "                    # Add the response to the 'responses' column of the dataframe\n",
    "                    input_df.loc[idx, 'responses'] = response_content\n",
    "\n",
    "                    break  # Break out of the retry loop if successful\n",
    "\n",
    "                except Exception as e:\n",
    "                    print(f\"Error generating response for prompt at index {idx}: {str(e)}\")\n",
    "                    print(f\"Query: {query}\")\n",
    "                    retries += 1\n",
    "                    print(f\"Retrying in {retry_delay} seconds...\")\n",
    "                    time.sleep(retry_delay)\n",
    "\n",
    "            if retries == max_retries:\n",
    "                print(f\"Max retries reached for prompt at index {idx}. Skipping this row.\")\n",
    "\n",
    "            # Add a delay between requests to avoid overwhelming the API\n",
    "            time.sleep(random.uniform(0.5, 1.5))\n",
    "\n",
    "        except Exception as e:\n",
    "            print(f\"Error generating response for prompt at index {idx}: {str(e)}\")\n",
    "            print(f\"Query: {query}\")"
   ]
  },
  {
   "cell_type": "markdown",
   "id": "38af4f09",
   "metadata": {},
   "source": [
    "## Run prompts"
   ]
  },
  {
   "cell_type": "code",
   "execution_count": 31,
   "id": "a744edf1",
   "metadata": {},
   "outputs": [
    {
     "name": "stderr",
     "output_type": "stream",
     "text": [
      "\r",
      "Generating responses:   0%|          | 0/1000 [00:00<?, ?it/s]"
     ]
    },
    {
     "name": "stdout",
     "output_type": "stream",
     "text": [
      "org: Nike Inc.\n",
      "country: NA\n",
      "state: NA\n",
      "city: NA\n",
      "industry: Athletic apparel\n",
      "risks: Stale footwear\n",
      "items_sold: NA\n",
      "service_provided: NA\n",
      "business_relations: Macy's Inc.\n"
     ]
    },
    {
     "name": "stderr",
     "output_type": "stream",
     "text": [
      "\r",
      "Generating responses:   0%|          | 1/1000 [00:04<1:11:50,  4.32s/it]"
     ]
    },
    {
     "name": "stdout",
     "output_type": "stream",
     "text": [
      "org: RENAULT\n",
      "country: NA\n",
      "state: NA\n",
      "city: NA\n",
      "industry: Automotive\n",
      "risks: Supply chain; Economic downturn; Competition\n",
      "items_sold: Cars; Commercial vehicles\n",
      "service_provided: NA\n",
      "business_relations: NA\n"
     ]
    },
    {
     "name": "stderr",
     "output_type": "stream",
     "text": [
      "\r",
      "Generating responses:   0%|          | 2/1000 [00:08<1:13:20,  4.41s/it]"
     ]
    },
    {
     "name": "stdout",
     "output_type": "stream",
     "text": [
      "org: Mersana Therapeutics Inc.\n",
      "country: NA\n",
      "state: NA\n",
      "city: NA\n",
      "industry: Biotechnology\n",
      "risks: Volatility; Low profitability\n",
      "items_sold: NA\n",
      "service_provided: NA\n",
      "business_relations: NA\n"
     ]
    },
    {
     "name": "stderr",
     "output_type": "stream",
     "text": [
      "\r",
      "Generating responses:   0%|          | 3/1000 [00:13<1:13:38,  4.43s/it]"
     ]
    },
    {
     "name": "stdout",
     "output_type": "stream",
     "text": [
      "org: Galaxy Digital\n",
      "country: NA\n",
      "state: NA\n",
      "city: NA\n",
      "industry: Crypto\n",
      "risks: Lack of institutional participation\n",
      "items_sold: NA\n",
      "service_provided: NA\n",
      "business_relations: NA\n"
     ]
    },
    {
     "name": "stderr",
     "output_type": "stream",
     "text": [
      "\r",
      "Generating responses:   0%|          | 4/1000 [00:17<1:10:49,  4.27s/it]"
     ]
    },
    {
     "name": "stdout",
     "output_type": "stream",
     "text": [
      "org: RLI Corp.\n",
      "country: NA\n",
      "state: NA\n",
      "city: NA\n",
      "industry: Insurance\n",
      "risks: Softening D&O; Workers compensation market changes; Classic competition in auto space; Reinsurance market changes\n",
      "items_sold: NA\n",
      "service_provided: NA\n",
      "business_relations: NA\n"
     ]
    },
    {
     "name": "stderr",
     "output_type": "stream",
     "text": [
      "\r",
      "Generating responses:   0%|          | 5/1000 [00:21<1:11:49,  4.33s/it]"
     ]
    },
    {
     "name": "stdout",
     "output_type": "stream",
     "text": [
      "org: OKB\n",
      "country: NA\n",
      "state: NA\n",
      "city: NA\n",
      "industry: cryptocurrency exchange\n",
      "risks: NA\n",
      "items_sold: OKB tokens\n",
      "service_provided: trading fee discounts, exclusive access within the ecosystem, earning passive income, participating in token sales\n",
      "business_relations: NA\n"
     ]
    },
    {
     "name": "stderr",
     "output_type": "stream",
     "text": [
      "\r",
      "Generating responses:   1%|          | 6/1000 [00:26<1:11:42,  4.33s/it]"
     ]
    },
    {
     "name": "stdout",
     "output_type": "stream",
     "text": [
      "org: TBC\n",
      "country: USA\n",
      "state: Florida\n",
      "city: Palm Beach Gardens\n",
      "industry: Automotive replacement tires\n",
      "risks: NA\n",
      "items_sold: Automotive replacement tires\n",
      "service_provided: Multi-channel marketing strategy including automotive retail, wholesale and distribution, and franchise operations\n",
      "business_relations: Mavis\n"
     ]
    },
    {
     "name": "stderr",
     "output_type": "stream",
     "text": [
      "\r",
      "Generating responses:   1%|          | 7/1000 [00:30<1:11:22,  4.31s/it]"
     ]
    },
    {
     "name": "stdout",
     "output_type": "stream",
     "text": [
      "org: Wegmans Food Markets\n",
      "country: NA\n",
      "state: NA\n",
      "city: NA\n",
      "industry: Supermarket\n",
      "risks: Low customer attraction\n",
      "items_sold: NA\n",
      "service_provided: NA\n",
      "business_relations: NA\n"
     ]
    },
    {
     "name": "stderr",
     "output_type": "stream",
     "text": [
      "\r",
      "Generating responses:   1%|          | 8/1000 [00:35<1:13:22,  4.44s/it]"
     ]
    },
    {
     "name": "stdout",
     "output_type": "stream",
     "text": [
      "NA\n"
     ]
    },
    {
     "name": "stderr",
     "output_type": "stream",
     "text": [
      "\r",
      "Generating responses:   1%|          | 9/1000 [00:36<1:00:23,  3.66s/it]"
     ]
    },
    {
     "name": "stdout",
     "output_type": "stream",
     "text": [
      "org: Walmart Inc.\n",
      "country: United States\n",
      "state: Arkansas\n",
      "city: NA\n",
      "industry: Retail\n",
      "risks: NA\n",
      "items_sold: NA\n",
      "service_provided: NA\n",
      "business_relations: Beyond the Bag Initiative; Closed Loop Partners\n"
     ]
    },
    {
     "name": "stderr",
     "output_type": "stream",
     "text": [
      "\r",
      "Generating responses:   1%|          | 10/1000 [00:41<1:03:16,  3.83s/it]"
     ]
    },
    {
     "name": "stdout",
     "output_type": "stream",
     "text": [
      "org: Nostra Terra Oil and Gas Company\n",
      "country: NA\n",
      "state: NA\n",
      "city: NA\n",
      "industry: Oil and Gas Exploration and Production\n",
      "risks: NA\n",
      "items_sold: NA\n",
      "service_provided: NA\n",
      "business_relations: NA\n"
     ]
    },
    {
     "name": "stderr",
     "output_type": "stream",
     "text": [
      "\r",
      "Generating responses:   1%|          | 11/1000 [00:45<1:06:49,  4.05s/it]"
     ]
    },
    {
     "name": "stdout",
     "output_type": "stream",
     "text": [
      "org: BILL\n",
      "country: NA\n",
      "state: NA\n",
      "city: NA\n",
      "industry: NA\n",
      "risks: NA\n",
      "items_sold: NA\n",
      "service_provided: NA\n",
      "business_relations: NA\n"
     ]
    },
    {
     "name": "stderr",
     "output_type": "stream",
     "text": [
      "\r",
      "Generating responses:   1%|          | 12/1000 [00:50<1:08:04,  4.13s/it]"
     ]
    },
    {
     "name": "stdout",
     "output_type": "stream",
     "text": [
      "org: NA\n"
     ]
    },
    {
     "name": "stderr",
     "output_type": "stream",
     "text": [
      "\r",
      "Generating responses:   1%|▏         | 13/1000 [00:52<57:57,  3.52s/it]  "
     ]
    },
    {
     "name": "stdout",
     "output_type": "stream",
     "text": [
      "org: Kia and Hyundai\n",
      "country: NA\n",
      "state: NA\n",
      "city: NA\n",
      "industry: Automotive\n",
      "risks: Software compatibility issues\n",
      "items_sold: Vehicles\n",
      "service_provided: NA\n",
      "business_relations: Dealers\n"
     ]
    },
    {
     "name": "stderr",
     "output_type": "stream",
     "text": [
      "\r",
      "Generating responses:   1%|▏         | 14/1000 [00:55<57:42,  3.51s/it]"
     ]
    },
    {
     "name": "stdout",
     "output_type": "stream",
     "text": [
      "org: NA\n"
     ]
    },
    {
     "name": "stderr",
     "output_type": "stream",
     "text": [
      "\r",
      "Generating responses:   2%|▏         | 15/1000 [00:57<49:08,  2.99s/it]"
     ]
    },
    {
     "name": "stdout",
     "output_type": "stream",
     "text": [
      "org: Jeff\n",
      "country: NA\n",
      "state: NA\n",
      "city: Valencia\n",
      "industry: entrepreneurship-for-all\n",
      "risks: NA\n",
      "items_sold: NA\n",
      "service_provided: NA\n",
      "business_relations: DX Ventures; Clean Ventures; Stelco; Prism Venture Management; Nalpa\n"
     ]
    },
    {
     "name": "stderr",
     "output_type": "stream",
     "text": [
      "\r",
      "Generating responses:   2%|▏         | 16/1000 [01:01<55:12,  3.37s/it]"
     ]
    },
    {
     "name": "stdout",
     "output_type": "stream",
     "text": [
      "NA\n"
     ]
    },
    {
     "name": "stderr",
     "output_type": "stream",
     "text": [
      "\r",
      "Generating responses:   2%|▏         | 17/1000 [01:03<45:26,  2.77s/it]"
     ]
    },
    {
     "name": "stdout",
     "output_type": "stream",
     "text": [
      "org: ChargePoint\n",
      "country: NA\n",
      "state: NA\n",
      "city: NA\n",
      "industry: Electric-vehicle charging\n",
      "risks: Competition; Technological advancements\n",
      "items_sold: NA\n",
      "service_provided: Electric-vehicle charging services\n",
      "business_relations: NA\n"
     ]
    },
    {
     "name": "stderr",
     "output_type": "stream",
     "text": [
      "\r",
      "Generating responses:   2%|▏         | 18/1000 [01:07<54:53,  3.35s/it]"
     ]
    },
    {
     "name": "stdout",
     "output_type": "stream",
     "text": [
      "org: TBC Corporation\n",
      "country: USA\n",
      "state: Florida\n",
      "city: Palm Beach Gardens\n",
      "industry: Automotive replacement tires\n",
      "risks: NA\n",
      "items_sold: Automotive replacement tires\n",
      "service_provided: Automotive retail, wholesale and distribution, and franchise operations\n",
      "business_relations: Mavis Tire Express Services Corp.\n"
     ]
    },
    {
     "name": "stderr",
     "output_type": "stream",
     "text": [
      "\r",
      "Generating responses:   2%|▏         | 19/1000 [01:13<1:07:48,  4.15s/it]"
     ]
    },
    {
     "name": "stdout",
     "output_type": "stream",
     "text": [
      "org: TBC Corporation\n",
      "country: USA\n",
      "state: Florida\n",
      "city: Palm Beach Gardens\n",
      "industry: Automotive replacement tires\n",
      "risks: NA\n",
      "items_sold: Automotive replacement tires\n",
      "service_provided: Automotive retail, wholesale and distribution and franchise operations\n",
      "business_relations: Mavis Tire Express Services\n"
     ]
    },
    {
     "name": "stderr",
     "output_type": "stream",
     "text": [
      "\r",
      "Generating responses:   2%|▏         | 20/1000 [01:18<1:10:30,  4.32s/it]"
     ]
    },
    {
     "name": "stdout",
     "output_type": "stream",
     "text": [
      "org: Mechel\n",
      "country: Russia\n",
      "state: NA\n",
      "city: NA\n",
      "industry: Metals and Mining\n",
      "risks: NA\n",
      "items_sold: NA\n",
      "service_provided: NA\n",
      "business_relations: NA\n"
     ]
    },
    {
     "name": "stderr",
     "output_type": "stream",
     "text": [
      "\r",
      "Generating responses:   2%|▏         | 21/1000 [01:22<1:09:08,  4.24s/it]"
     ]
    },
    {
     "name": "stdout",
     "output_type": "stream",
     "text": [
      "org: Myntra\n",
      "country: NA\n",
      "state: NA\n",
      "city: NA\n",
      "industry: E-commerce\n",
      "risks: NA\n",
      "items_sold: NA\n",
      "service_provided: NA\n",
      "business_relations: UClean\n"
     ]
    },
    {
     "name": "stderr",
     "output_type": "stream",
     "text": [
      "\r",
      "Generating responses:   2%|▏         | 22/1000 [01:25<1:05:08,  4.00s/it]"
     ]
    },
    {
     "name": "stdout",
     "output_type": "stream",
     "text": [
      "org: TBC Corporation\n",
      "country: United States\n",
      "state: Florida\n",
      "city: Palm Beach Gardens\n",
      "industry: Automotive replacement tires\n",
      "risks: NA\n",
      "items_sold: Automotive replacement tires\n",
      "service_provided: Automotive retail, wholesale and distribution, and franchise operations\n",
      "business_relations: Mavis Tire Express Services Corp.\n"
     ]
    },
    {
     "name": "stderr",
     "output_type": "stream",
     "text": [
      "\r",
      "Generating responses:   2%|▏         | 23/1000 [01:30<1:07:06,  4.12s/it]"
     ]
    },
    {
     "name": "stdout",
     "output_type": "stream",
     "text": [
      "org: Samsara\n",
      "country: NA\n",
      "state: NA\n",
      "city: NA\n",
      "industry: Connected operations vendor\n",
      "risks: NA\n",
      "items_sold: Fleet management solutions; AI-enabled video solutions; workflow technologies\n",
      "service_provided: Connected Operations Cloud using AI and machine learning to provide intelligence for safer, sustainable, or efficient operations\n",
      "business_relations: United Rentals, Iron Mountain, Werner Enterprises\n"
     ]
    },
    {
     "name": "stderr",
     "output_type": "stream",
     "text": [
      "\r",
      "Generating responses:   2%|▏         | 24/1000 [01:36<1:14:55,  4.61s/it]"
     ]
    },
    {
     "name": "stdout",
     "output_type": "stream",
     "text": [
      "org: TBC Corporation\n",
      "country: United States\n",
      "state: Florida\n",
      "city: Palm Beach Gardens\n",
      "industry: Automotive replacement tires\n",
      "risks: NA\n",
      "items_sold: Automotive replacement tires\n",
      "service_provided: Automotive retail, wholesale and distribution, and franchise operations\n",
      "business_relations: Mavis Tire Express Services Corp.\n"
     ]
    },
    {
     "name": "stderr",
     "output_type": "stream",
     "text": [
      "\r",
      "Generating responses:   2%|▎         | 25/1000 [01:40<1:13:20,  4.51s/it]"
     ]
    },
    {
     "name": "stdout",
     "output_type": "stream",
     "text": [
      "org: NA\n"
     ]
    },
    {
     "name": "stderr",
     "output_type": "stream",
     "text": [
      "\r",
      "Generating responses:   3%|▎         | 26/1000 [01:42<1:02:50,  3.87s/it]"
     ]
    },
    {
     "name": "stdout",
     "output_type": "stream",
     "text": [
      "org: Kee Wee Hup Kee Food Manufacture\n",
      "country: Singapore\n",
      "state: NA\n",
      "city: NA\n",
      "industry: Food Manufacturing\n",
      "risks: Allergic Reactions; Recall\n",
      "items_sold: EGO Honey Dates\n",
      "service_provided: NA\n",
      "business_relations: NA\n"
     ]
    },
    {
     "name": "stderr",
     "output_type": "stream",
     "text": [
      "\r",
      "Generating responses:   3%|▎         | 27/1000 [01:46<1:01:54,  3.82s/it]"
     ]
    },
    {
     "name": "stdout",
     "output_type": "stream",
     "text": [
      "org: Revolution Beauty\n",
      "country: United Kingdom\n",
      "state: Kent\n",
      "city: NA\n",
      "industry: Beauty and cosmetics\n",
      "risks: auditing problems; decline in online sales; excess stock\n",
      "items_sold: hair, skincare, and makeup products\n",
      "service_provided: NA\n",
      "business_relations: ASOS, Superdrug, Target, Boots, Walgreens\n"
     ]
    },
    {
     "name": "stderr",
     "output_type": "stream",
     "text": [
      "\r",
      "Generating responses:   3%|▎         | 28/1000 [01:51<1:08:52,  4.25s/it]"
     ]
    },
    {
     "name": "stdout",
     "output_type": "stream",
     "text": [
      "org: Transcenta Holding Limited\n",
      "country: China\n",
      "state: NA\n",
      "city: Suzhou, Hangzhou, Princeton, Beijing, Shanghai, Guangzhou, Boston, Los Angeles\n",
      "industry: Biopharmaceuticals\n",
      "risks: NA\n",
      "items_sold: Therapeutic antibody molecules\n",
      "service_provided: Biotherapeutics discovery, research, development and manufacturing\n",
      "business_relations: NA\n"
     ]
    },
    {
     "name": "stderr",
     "output_type": "stream",
     "text": [
      "\r",
      "Generating responses:   3%|▎         | 29/1000 [01:57<1:14:40,  4.61s/it]"
     ]
    },
    {
     "name": "stdout",
     "output_type": "stream",
     "text": [
      "org: NA\n"
     ]
    },
    {
     "name": "stderr",
     "output_type": "stream",
     "text": [
      "\r",
      "Generating responses:   3%|▎         | 30/1000 [01:59<1:02:03,  3.84s/it]"
     ]
    },
    {
     "name": "stdout",
     "output_type": "stream",
     "text": [
      "org: Dicker Data\n",
      "country: NA\n",
      "state: NA\n",
      "city: NA\n",
      "industry: computer hardware and software distribution\n",
      "risks: underperforming NZ arm; acquisition hangovers; computer chip shortages\n",
      "items_sold: computer hardware and software\n",
      "service_provided: NA\n",
      "business_relations: NA\n"
     ]
    },
    {
     "name": "stderr",
     "output_type": "stream",
     "text": [
      "\r",
      "Generating responses:   3%|▎         | 31/1000 [02:04<1:06:34,  4.12s/it]"
     ]
    },
    {
     "name": "stdout",
     "output_type": "stream",
     "text": [
      "org: Transcenta Holding Limited\n",
      "country: China\n",
      "state: NA\n",
      "city: Suzhou (Headquarters and Discovery, Clinical and Translational Research Center), Hangzhou (Process and Product Development Center and Manufacturing Facility), Princeton (Clinical Development Center), Beijing, Shanghai, Guangzhou (Clinical Development Centers), Boston and Los Angeles (External Partnering Center)\n",
      "industry: biopharmaceutical\n",
      "risks: NA\n",
      "items_sold: NA\n",
      "service_provided: discovery, research, development, and manufacture of antibodies-based therapeutics\n",
      "business_relations: NA\n"
     ]
    },
    {
     "name": "stderr",
     "output_type": "stream",
     "text": [
      "\r",
      "Generating responses:   3%|▎         | 32/1000 [02:10<1:18:28,  4.86s/it]"
     ]
    },
    {
     "name": "stdout",
     "output_type": "stream",
     "text": [
      "org: Canada Goose Holdings Inc.\n",
      "country: NA\n",
      "state: NA\n",
      "city: NA\n",
      "industry: Apparel Manufacturing\n",
      "risks: NA\n",
      "items_sold: NA\n",
      "service_provided: NA\n",
      "business_relations: NA\n"
     ]
    },
    {
     "name": "stderr",
     "output_type": "stream",
     "text": [
      "\r",
      "Generating responses:   3%|▎         | 33/1000 [02:14<1:15:10,  4.66s/it]"
     ]
    },
    {
     "name": "stdout",
     "output_type": "stream",
     "text": [
      "org: NA\n"
     ]
    },
    {
     "name": "stderr",
     "output_type": "stream",
     "text": [
      "\r",
      "Generating responses:   3%|▎         | 34/1000 [02:16<1:00:51,  3.78s/it]"
     ]
    },
    {
     "name": "stdout",
     "output_type": "stream",
     "text": [
      "org: TBC Corporation\n",
      "country: United States\n",
      "state: Florida\n",
      "city: Palm Beach Gardens\n",
      "industry: Automotive replacement tires\n",
      "risks: NA\n",
      "items_sold: Automotive replacement tires and related services\n",
      "service_provided: Automotive retail, wholesale and distribution, and franchise operations\n",
      "business_relations: Mavis Tire Express Services Corp.\n"
     ]
    },
    {
     "name": "stderr",
     "output_type": "stream",
     "text": [
      "\r",
      "Generating responses:   4%|▎         | 35/1000 [02:22<1:08:57,  4.29s/it]"
     ]
    },
    {
     "name": "stdout",
     "output_type": "stream",
     "text": [
      "org: Transcenta Holding Limited\n",
      "country: China\n",
      "state: NA\n",
      "city: Suzhou, Hangzhou, Princeton, Beijing, Shanghai, Guangzhou, Boston, Los Angeles\n",
      "industry: Biopharmaceuticals\n",
      "risks: NA\n",
      "items_sold: Therapeutic antibody molecules\n",
      "service_provided: Discovery, research, development, and manufacture of antibodies-based therapeutics\n",
      "business_relations: NA\n"
     ]
    },
    {
     "name": "stderr",
     "output_type": "stream",
     "text": [
      "\r",
      "Generating responses:   4%|▎         | 36/1000 [02:28<1:17:49,  4.84s/it]"
     ]
    },
    {
     "name": "stdout",
     "output_type": "stream",
     "text": [
      "org: Tui\n",
      "country: NA\n",
      "state: NA\n",
      "city: NA\n",
      "industry: Travel\n",
      "risks: NA\n",
      "items_sold: Holidays\n",
      "service_provided: NA\n",
      "business_relations: Marella Cruises\n"
     ]
    },
    {
     "name": "stderr",
     "output_type": "stream",
     "text": [
      "\r",
      "Generating responses:   4%|▎         | 37/1000 [02:31<1:12:11,  4.50s/it]"
     ]
    },
    {
     "name": "stdout",
     "output_type": "stream",
     "text": [
      "org: TBC Corporation\n",
      "country: USA\n",
      "state: Florida\n",
      "city: Palm Beach Gardens\n",
      "industry: automotive replacement tires\n",
      "risks: NA\n",
      "items_sold: automotive replacement tires\n",
      "service_provided: automotive retail, wholesale and distribution, and franchise operations\n",
      "business_relations: Mavis Tire Express Services Corp.\n"
     ]
    },
    {
     "name": "stderr",
     "output_type": "stream",
     "text": [
      "\r",
      "Generating responses:   4%|▍         | 38/1000 [02:36<1:11:06,  4.44s/it]"
     ]
    },
    {
     "name": "stdout",
     "output_type": "stream",
     "text": [
      "org: Transcenta Holding Limited\n",
      "country: China\n",
      "state: NA\n",
      "city: Suzhou (Headquarters and Discovery, Clinical and Translational Research Center), Hangzhou (Process and Product Development Center and Manufacturing Facility), Princeton (Clinical Development Center), Beijing, Shanghai and Guangzhou (Clinical Development Centers), Boston and Los Angeles (External Partnering Center)\n",
      "industry: biopharmaceutical\n",
      "risks: NA\n",
      "items_sold: therapeutic antibody molecules\n",
      "service_provided: discovery, research, development and manufacturing of biotherapeutics\n",
      "business_relations: NA\n"
     ]
    },
    {
     "name": "stderr",
     "output_type": "stream",
     "text": [
      "\r",
      "Generating responses:   4%|▍         | 39/1000 [02:43<1:25:08,  5.32s/it]"
     ]
    },
    {
     "name": "stdout",
     "output_type": "stream",
     "text": [
      "org: NA\n"
     ]
    },
    {
     "name": "stderr",
     "output_type": "stream",
     "text": [
      "\r",
      "Generating responses:   4%|▍         | 40/1000 [02:45<1:10:45,  4.42s/it]"
     ]
    },
    {
     "name": "stdout",
     "output_type": "stream",
     "text": [
      "org: Bursa Malaysia\n",
      "country: Malaysia\n",
      "state: NA\n",
      "city: Kuala Lumpur\n",
      "industry: Stock Exchange\n",
      "risks: Economic downturn\n",
      "items_sold: NA\n",
      "service_provided: NA\n",
      "business_relations: NA\n"
     ]
    },
    {
     "name": "stderr",
     "output_type": "stream",
     "text": [
      "\r",
      "Generating responses:   4%|▍         | 41/1000 [02:50<1:09:42,  4.36s/it]"
     ]
    },
    {
     "name": "stdout",
     "output_type": "stream",
     "text": [
      "org: Dominion Energy\n",
      "country: United States\n",
      "state: NA\n",
      "city: NA\n",
      "industry: regulated utilities\n",
      "risks: strategic business review\n",
      "items_sold: NA\n",
      "service_provided: NA\n",
      "business_relations: NA\n"
     ]
    },
    {
     "name": "stderr",
     "output_type": "stream",
     "text": [
      "\r",
      "Generating responses:   4%|▍         | 42/1000 [02:53<1:06:28,  4.16s/it]"
     ]
    },
    {
     "name": "stdout",
     "output_type": "stream",
     "text": [
      "org: Amkor Technology Inc.\n",
      "country: NA\n",
      "state: NA\n",
      "city: NA\n",
      "industry: Semiconductors\n",
      "risks: NA\n",
      "items_sold: NA\n",
      "service_provided: NA\n",
      "business_relations: NA\n"
     ]
    },
    {
     "name": "stderr",
     "output_type": "stream",
     "text": [
      "\r",
      "Generating responses:   4%|▍         | 43/1000 [02:57<1:05:06,  4.08s/it]"
     ]
    },
    {
     "name": "stdout",
     "output_type": "stream",
     "text": [
      "org: Service Properties Trust\n",
      "country: NA\n",
      "state: NA\n",
      "city: NA\n",
      "industry: Real Estate - REIT - Hotel & Motel\n",
      "risks: NA\n",
      "items_sold: NA\n",
      "service_provided: NA\n",
      "business_relations: NA\n"
     ]
    },
    {
     "name": "stderr",
     "output_type": "stream",
     "text": [
      "\r",
      "Generating responses:   4%|▍         | 44/1000 [03:02<1:07:44,  4.25s/it]"
     ]
    },
    {
     "name": "stdout",
     "output_type": "stream",
     "text": [
      "org: HP\n",
      "country: NA\n",
      "state: NA\n",
      "city: NA\n",
      "industry: computer and printer\n",
      "risks: decline in PC sales\n",
      "items_sold: computers and printers\n",
      "service_provided: NA\n",
      "business_relations: NA\n"
     ]
    },
    {
     "name": "stderr",
     "output_type": "stream",
     "text": [
      "\r",
      "Generating responses:   4%|▍         | 45/1000 [03:06<1:08:51,  4.33s/it]"
     ]
    },
    {
     "name": "stdout",
     "output_type": "stream",
     "text": [
      "org: Nose Slap\n",
      "country: NA\n",
      "state: Idaho\n",
      "city: Meridian\n",
      "industry: Smelling salts\n",
      "risks: seizures; diarrhea; migraines; vomiting; fainting\n",
      "items_sold: wake up stick; Soul Slap\n",
      "service_provided: NA\n",
      "business_relations: NA\n"
     ]
    },
    {
     "name": "stderr",
     "output_type": "stream",
     "text": [
      "\r",
      "Generating responses:   5%|▍         | 46/1000 [03:11<1:09:12,  4.35s/it]"
     ]
    },
    {
     "name": "stdout",
     "output_type": "stream",
     "text": [
      "org: NA\n"
     ]
    },
    {
     "name": "stderr",
     "output_type": "stream",
     "text": [
      "\r",
      "Generating responses:   5%|▍         | 47/1000 [03:12<56:31,  3.56s/it]  "
     ]
    },
    {
     "name": "stdout",
     "output_type": "stream",
     "text": [
      "org: Microsoft, NVIDIA, Google, Apple\n",
      "country: NA\n",
      "state: NA\n",
      "city: NA\n",
      "industry: Technology\n",
      "risks: Market manipulation\n",
      "items_sold: NA\n",
      "service_provided: NA\n",
      "business_relations: NA\n"
     ]
    },
    {
     "name": "stderr",
     "output_type": "stream",
     "text": [
      "\r",
      "Generating responses:   5%|▍         | 48/1000 [03:16<57:28,  3.62s/it]"
     ]
    },
    {
     "name": "stdout",
     "output_type": "stream",
     "text": [
      "org: Copper 360\n",
      "country: NA\n",
      "state: NA\n",
      "city: NA\n",
      "industry: Mining\n",
      "risks: Power shortages; Safety stoppages; Plant stoppage\n",
      "items_sold: Copper\n",
      "service_provided: NA\n",
      "business_relations: NA\n"
     ]
    },
    {
     "name": "stderr",
     "output_type": "stream",
     "text": [
      "\r",
      "Generating responses:   5%|▍         | 49/1000 [03:20<58:12,  3.67s/it]"
     ]
    },
    {
     "name": "stdout",
     "output_type": "stream",
     "text": [
      "org: NA\n"
     ]
    },
    {
     "name": "stderr",
     "output_type": "stream",
     "text": [
      "\r",
      "Generating responses:   5%|▌         | 50/1000 [03:22<50:49,  3.21s/it]"
     ]
    },
    {
     "name": "stdout",
     "output_type": "stream",
     "text": [
      "org: Dole plc\n",
      "country: NA\n",
      "state: NA\n",
      "city: NA\n",
      "industry: Farm Products\n",
      "risks: NA\n",
      "items_sold: NA\n",
      "service_provided: NA\n",
      "business_relations: NA\n"
     ]
    },
    {
     "name": "stderr",
     "output_type": "stream",
     "text": [
      "\r",
      "Generating responses:   5%|▌         | 51/1000 [03:26<56:09,  3.55s/it]"
     ]
    },
    {
     "name": "stdout",
     "output_type": "stream",
     "text": [
      "org: M Lambe Construction\n",
      "country: NA\n",
      "state: Midlands\n",
      "city: NA\n",
      "industry: civil engineering\n",
      "risks: NA\n",
      "items_sold: NA\n",
      "service_provided: NA\n",
      "business_relations: NA\n"
     ]
    },
    {
     "name": "stderr",
     "output_type": "stream",
     "text": [
      "\r",
      "Generating responses:   5%|▌         | 52/1000 [03:31<58:46,  3.72s/it]"
     ]
    },
    {
     "name": "stdout",
     "output_type": "stream",
     "text": [
      "org: NA\n"
     ]
    },
    {
     "name": "stderr",
     "output_type": "stream",
     "text": [
      "\r",
      "Generating responses:   5%|▌         | 53/1000 [03:32<49:55,  3.16s/it]"
     ]
    },
    {
     "name": "stdout",
     "output_type": "stream",
     "text": [
      "NA\n"
     ]
    },
    {
     "name": "stderr",
     "output_type": "stream",
     "text": [
      "\r",
      "Generating responses:   5%|▌         | 54/1000 [03:34<42:35,  2.70s/it]"
     ]
    },
    {
     "name": "stdout",
     "output_type": "stream",
     "text": [
      "org: Advance Auto Parts, Inc.\n",
      "country: NA\n",
      "state: NC\n",
      "city: Raleigh\n",
      "industry: aftermarket automotive products\n",
      "risks: lower-than-expected earnings\n",
      "items_sold: aftermarket automotive products\n",
      "service_provided: supply and distribution of aftermarket automotive products\n",
      "business_relations: NA\n"
     ]
    },
    {
     "name": "stderr",
     "output_type": "stream",
     "text": [
      "\r",
      "Generating responses:   6%|▌         | 55/1000 [03:39<51:43,  3.28s/it]"
     ]
    },
    {
     "name": "stdout",
     "output_type": "stream",
     "text": [
      "NA\n"
     ]
    },
    {
     "name": "stderr",
     "output_type": "stream",
     "text": [
      "\r",
      "Generating responses:   6%|▌         | 56/1000 [03:41<44:40,  2.84s/it]"
     ]
    },
    {
     "name": "stdout",
     "output_type": "stream",
     "text": [
      "org: NA\n"
     ]
    },
    {
     "name": "stderr",
     "output_type": "stream",
     "text": [
      "\r",
      "Generating responses:   6%|▌         | 57/1000 [03:42<38:25,  2.44s/it]"
     ]
    },
    {
     "name": "stdout",
     "output_type": "stream",
     "text": [
      "org: Frasers Group\n",
      "country: NA\n",
      "state: NA\n",
      "city: NA\n",
      "industry: Retail\n",
      "risks: Economic downturn\n",
      "items_sold: Clothing; Footwear; Sports equipment\n",
      "service_provided: Retail sales\n",
      "business_relations: House of Fraser; Flannels; USC; Jack Wills\n"
     ]
    },
    {
     "name": "stderr",
     "output_type": "stream",
     "text": [
      "\r",
      "Generating responses:   6%|▌         | 58/1000 [03:47<50:39,  3.23s/it]"
     ]
    },
    {
     "name": "stdout",
     "output_type": "stream",
     "text": [
      "org: Mat Tech Industrial Services\n",
      "country: NA\n",
      "state: NA\n",
      "city: NA\n",
      "industry: Waste and environmental services and specialty rental products\n",
      "risks: NA\n",
      "items_sold: Specialty rental products\n",
      "service_provided: Waste and environmental services and specialty rental products\n",
      "business_relations: Allied Industrial Partners (AIP)\n"
     ]
    },
    {
     "name": "stderr",
     "output_type": "stream",
     "text": [
      "\r",
      "Generating responses:   6%|▌         | 59/1000 [03:52<1:00:16,  3.84s/it]"
     ]
    },
    {
     "name": "stdout",
     "output_type": "stream",
     "text": [
      "org: Jeff\n",
      "country: Spain\n",
      "state: Valencia\n",
      "city: Valencia\n",
      "industry: Laundry and dry cleaning\n",
      "risks: Lawsuits; Funding failure; Debt\n",
      "items_sold: NA\n",
      "service_provided: Laundry and dry cleaning services\n",
      "business_relations: DX Ventures; Clean Ventures; Stelco; Prism Venture Management; Nalpa; Alcor Ocean\n"
     ]
    },
    {
     "name": "stderr",
     "output_type": "stream",
     "text": [
      "\r",
      "Generating responses:   6%|▌         | 60/1000 [03:58<1:06:36,  4.25s/it]"
     ]
    },
    {
     "name": "stdout",
     "output_type": "stream",
     "text": [
      "org: Edwards Lifesciences Corp.\n",
      "country: NA\n",
      "state: NA\n",
      "city: NA\n",
      "industry: Medical research\n",
      "risks: NA\n",
      "items_sold: NA\n",
      "service_provided: Patient-focused medical innovations for heart disease and critical care monitoring\n",
      "business_relations: NA\n"
     ]
    },
    {
     "name": "stderr",
     "output_type": "stream",
     "text": [
      "\r",
      "Generating responses:   6%|▌         | 61/1000 [04:02<1:07:28,  4.31s/it]"
     ]
    },
    {
     "name": "stdout",
     "output_type": "stream",
     "text": [
      "org: NA\n"
     ]
    },
    {
     "name": "stderr",
     "output_type": "stream",
     "text": [
      "\r",
      "Generating responses:   6%|▌         | 62/1000 [04:04<56:50,  3.64s/it]  "
     ]
    },
    {
     "name": "stdout",
     "output_type": "stream",
     "text": [
      "org: Macerich\n",
      "country: NA\n",
      "state: NA\n",
      "city: NA\n",
      "industry: Real estate investment trust (REIT)\n",
      "risks: pandemic impact; competition; balance sheet strength\n",
      "items_sold: NA\n",
      "service_provided: NA\n",
      "business_relations: Tanger Factory Outlets; Simon Property Group\n"
     ]
    },
    {
     "name": "stderr",
     "output_type": "stream",
     "text": [
      "\r",
      "Generating responses:   6%|▋         | 63/1000 [04:09<1:03:18,  4.05s/it]"
     ]
    },
    {
     "name": "stdout",
     "output_type": "stream",
     "text": [
      "org: NA\n"
     ]
    },
    {
     "name": "stderr",
     "output_type": "stream",
     "text": [
      "\r",
      "Generating responses:   6%|▋         | 64/1000 [04:11<54:02,  3.46s/it]  "
     ]
    },
    {
     "name": "stdout",
     "output_type": "stream",
     "text": [
      "org: HKBN\n",
      "country: Hong Kong\n",
      "state: NA\n",
      "city: NA\n",
      "industry: Telecommunications\n",
      "risks: Valuation; Market uncertainty\n",
      "items_sold: Fixed voice, broadband, and TV services\n",
      "service_provided: Fixed voice, broadband, and TV services for both residential and business customers; operates as an MVNO\n",
      "business_relations: I Squared Capital; HGC Global Communications; TPG; MBK Partners\n"
     ]
    },
    {
     "name": "stderr",
     "output_type": "stream",
     "text": [
      "\r",
      "Generating responses:   6%|▋         | 65/1000 [04:17<1:04:09,  4.12s/it]"
     ]
    },
    {
     "name": "stdout",
     "output_type": "stream",
     "text": [
      "org: Macerich\n",
      "country: NA\n",
      "state: NA\n",
      "city: NA\n",
      "industry: Real estate investment trust (REIT)\n",
      "risks: pandemic impact; competition strength\n",
      "items_sold: NA\n",
      "service_provided: NA\n",
      "business_relations: Tanger Factory Outlets, Simon Property Group\n"
     ]
    },
    {
     "name": "stderr",
     "output_type": "stream",
     "text": [
      "\r",
      "Generating responses:   7%|▋         | 66/1000 [04:21<1:04:07,  4.12s/it]"
     ]
    },
    {
     "name": "stdout",
     "output_type": "stream",
     "text": [
      "org: 3D Systems Corporation\n",
      "country: NA\n",
      "state: NA\n",
      "city: NA\n",
      "industry: Technology\n",
      "risks: NA\n",
      "items_sold: NA\n",
      "service_provided: NA\n",
      "business_relations: NA\n"
     ]
    },
    {
     "name": "stderr",
     "output_type": "stream",
     "text": [
      "\r",
      "Generating responses:   7%|▋         | 67/1000 [04:24<1:00:43,  3.91s/it]"
     ]
    },
    {
     "name": "stdout",
     "output_type": "stream",
     "text": [
      "org: FleetCare\n",
      "country: NA\n",
      "state: NA\n",
      "city: NA\n",
      "industry: Transportation\n",
      "risks: Emergencies; Multimodal transportation; Vehicle malfunctions\n",
      "items_sold: NA\n",
      "service_provided: Dispatch services for fleet of trucks\n",
      "business_relations: NA\n"
     ]
    },
    {
     "name": "stderr",
     "output_type": "stream",
     "text": [
      "\r",
      "Generating responses:   7%|▋         | 68/1000 [04:29<1:04:50,  4.17s/it]"
     ]
    },
    {
     "name": "stdout",
     "output_type": "stream",
     "text": [
      "NA\n"
     ]
    },
    {
     "name": "stderr",
     "output_type": "stream",
     "text": [
      "\r",
      "Generating responses:   7%|▋         | 69/1000 [04:31<53:11,  3.43s/it]  "
     ]
    },
    {
     "name": "stdout",
     "output_type": "stream",
     "text": [
      "org: Clear Comfort Night Guards\n",
      "country: USA\n",
      "state: California\n",
      "city: Los Angeles County\n",
      "industry: Dental\n",
      "risks: NA\n",
      "items_sold: Custom dental guards, soft night guards, thin night guards, hard night guards, sports mouth guards\n",
      "service_provided: Relief from jaw pain, custom-fit dental guards\n",
      "business_relations: NA\n"
     ]
    },
    {
     "name": "stderr",
     "output_type": "stream",
     "text": [
      "\r",
      "Generating responses:   7%|▋         | 70/1000 [04:35<57:56,  3.74s/it]"
     ]
    },
    {
     "name": "stdout",
     "output_type": "stream",
     "text": [
      "org: Toronto Regional Real Estate Board\n",
      "country: NA\n",
      "state: NA\n",
      "city: Toronto\n",
      "industry: Real Estate\n",
      "risks: NA\n",
      "items_sold: Homes\n",
      "service_provided: NA\n",
      "business_relations: NA\n"
     ]
    },
    {
     "name": "stderr",
     "output_type": "stream",
     "text": [
      "\r",
      "Generating responses:   7%|▋         | 71/1000 [04:39<56:08,  3.63s/it]"
     ]
    },
    {
     "name": "stdout",
     "output_type": "stream",
     "text": [
      "Error generating response for prompt at index 71: That model is currently overloaded with other requests. You can retry your request, or contact us through our help center at help.openai.com if the error persists. (Please include the request ID 20f1ca6c52170cff20850218b5207f44 in your message.)\n",
      "Query: For the main organisation discussed in this article (if any), give me information as follows and nothing else. If there is no organiastion discussed, respond with \"NA\".\n",
      "    ###\n",
      "    Desired response format:\n",
      "    ###\n",
      "    org: <main organisation discussed>\n",
      "    country: <country of main organisation>\n",
      "    state: <state/province of main organisation>\n",
      "    city: <city/town of main organisation>\n",
      "    industry: <industry of the organisation>\n",
      "    risks: <semi-colon-separated list of risks faced by main organisation> Summarise each risk in a phrase of up to 3 words.\n",
      "    items_sold: <semicolon-separated list of items sold by main organisation>\n",
      "    service_provided: <semi-colon-separated list of services provided by organisation>\n",
      "    business_relations: <semi-colon-separated list of organisations with a business relation to the main organisation>\n",
      "    ###\n",
      "    The provided article is:\n",
      "    ###\n",
      "    Description  New Research Study Oat Drink Market 2023 Analysis by Market Trends (Drivers, Constraints, Opportunities, Threats, Challenges, and\n",
      "Investment Opportunities), Size, Share, and Outlook❝ has been added to Coherent Market insight\n",
      "  As the operating environment becomes more complex, global organizations must continually adopt innovative business strategies. This, in turn, has created a growing demand for consulting services that align with these strategies. Every industry can benefit from transforming its functional areas, and at Coherent Market Insights, we work closely with our clients to fully understand their consulting needs. Using our unparalleled business insights and analytics, we provide customized solutions to help them achieve their goals.\n",
      "  Oat Drink Market Overview:\n",
      "  A comprehensive report titled “Global Oat Drink Market Size, Manufacturers, Supply Chain, Sales Channel and Clients, 2023-2030” has been recently published by Coherent Market Insights. The report provides a detailed overview of the Oat Drink market, including growth factors, recent trends, developments, opportunities, and competitive landscape. To analyze the global Oat Drink market, market analysts and researchers have utilized research methodologies such as PESTLE and Porter's Five Forces analysis. The report offers accurate and reliable market data and valuable recommendations to help players gain insights into the current and future market scenario. Additionally, the report thoroughly examines potential market segments, including product type, application, and end-user, and their contribution to the overall market size.\n",
      "  A sample report can be viewed by visiting (Use Corporate eMail ID to Get Higher Priority) at: https://www.coherentmarketinsights.com/insight/request-sample/2393\n",
      "  Some of the Prominent Players Reviewed in the Research Report include:\n",
      "  ✤ Oatly AB\n",
      "  ✤ Alpro\n",
      "  ✤ Rude Health\n",
      "  ✤ LIMA\n",
      "  ✤ Hain Daniels (Brand Dream)\n",
      "  ✤ Innocent Drinks\n",
      "  ✤ Pureharvest\n",
      "  ✤ Drinks Brokers Ltd.\n",
      "  Global Oat Drink Market: Segment Analysis\n",
      "  This chapter analyzes different segments of the market in order to understand consumer needs and behaviors toward the consumption of the same. The Oat Drink market is segmented into type, application, product, service, and end users. It also assesses the improving purchasing power and the economic recession and progression that is likely to impact the segments of the global Oat Drink market.\n",
      "  Detailed Segmentation\n",
      "  On the basis of flavor, the global oat drink market is segmented into:\n",
      "  Coffee\n",
      "  Chocolate\n",
      "  Strawberry\n",
      "  Mango\n",
      "  Orange\n",
      "  Lemon\n",
      "  On the basis of distribution channel, the global oat drink market is segmented into:\n",
      "  Supermarket\n",
      "  Hypermarket\n",
      "  Convenience Stores\n",
      "  Specialty Stores\n",
      "  Online Stores\n",
      "  Report Scope\n",
      "  The objective of this report is to deliver a detailed overview of the worldwide Oat Drink market, incorporating both quantitative and qualitative analysis. Its purpose is to aid readers in formulating business and growth strategies, evaluating the competitive landscape, examining their current market position, and making informed decisions related to Oat Drink .\n",
      "  This report presents estimates and projections of the sales volume and revenue of the Oat Drink market, with 2030 as the baseline year and historical and forecast data spanning from 2023 to 2030. The global Oat Drink market is segmented in a comprehensive manner, with regional market sizes provided for different product types, applications, and players. Furthermore, the impact of the COVID-19 pandemic and the Russia-Ukraine War was taken into account when estimating market sizes.\n",
      "  To enhance comprehension of the market, this report offers profiles of the competitive landscape, key competitors, and their market rankings. Additionally, it examines technological trends and recent product advancements.\n",
      "  This report provides Oat Drink manufacturers, new market entrants, and industry chain-related companies with valuable insights into the revenues, sales volume, and average prices of the overall market and its sub-segments, categorized by company, product type, application, and region.\n",
      "  Key Companies & Oat Drink Market Share Insights\n",
      "  In this section, readers will gain insight into the key players competing in the market. The report examines the various growth strategies employed by these participants, including innovative trends and developments, portfolio expansion, mergers and acquisitions, collaborations, new product innovation, and geographic expansion, to maintain their market presence. In addition to business strategies, the study covers current developments and key financials. Readers will also have access to data on global revenue, price, and sales by manufacturers from 2023 to 2030. This comprehensive report is a valuable resource for clients seeking to remain informed and make effective business decisions.\n",
      "  For in-depth competitive analysis, buy now and Get Best Discount At @ https://www.coherentmarketinsights.com/insight/buy-now/2393\n",
      "  Global Oat Drink Market: Regional Segmentation\n",
      "  To enhance comprehension, this research report includes a geographical segmentation of the global Oat Drink market. It evaluates the potential impact of political scenarios and regulatory changes on market volatility. This analysis provides an accurate assessment of regional growth trends in the global Oat Drink market.\n",
      "  » The Middle East and Africa (GCC Countries and Egypt)\n",
      "  » North America (the United States, Mexico, and Canada)\n",
      "  » South America (Brazil etc.)\n",
      "  » Europe (Turkey, Germany, Russia UK, Italy, France, etc.)\n",
      "  » Asia-Pacific (Vietnam, China, Malaysia, Japan, Philippines, Korea, Thailand, India, Indonesia, and Australia)\n",
      "  Oat Drink Market Most Critical Questions [FAQ]\n",
      "  1. What is the scope of this report?\n",
      "  2. Does this report estimate the current market size?\n",
      "  3. Does the report provides market size in terms of – Value (US$ Mn) and Volume (thousand ton/metric ton/cubic meter) – of the market?\n",
      "  4. Which segments are covered in this report?\n",
      "  5. What are the key factors covered in this report?\n",
      "  6. Does this report offer customization?\n",
      "  Reasons to Purchase Oat Drink Market Report:\n",
      "  ✦ Both current and future prospects for the Oat Drink Market in developed and emerging markets.\n",
      "  ✦ Analysis of various perspectives of the market with the help of Porter's five forces analysis.\n",
      "  ✦ During the forecast period, major regions are expected to see the most rapid increase.\n",
      "  ✦ Identify the most recent advancements, Oat Drink Market shares, and top market players' strategies.\n",
      "  We Offer Customized Report, Click Here @ https://www.coherentmarketinsights.com/insight/request-customization/2393\n",
      "  Our consulting services are designed to help our clients achieve a competitive advantage in the market. We offer a wide range of services, including but not limited to:\n",
      "  Develop digital business strategies\n",
      "  Offering governance, risk, fraud, and compliance consulting\n",
      "  About Us:\n",
      "  Coherent Market Insights is a global market intelligence and consulting organization that provides syndicated research reports, customized research reports, and consulting services. We are known for our actionable insights and authentic reports in various domains including aerospace and defense, agriculture, food and beverages, automotive, chemicals and materials, and virtually all domains and an exhaustive list of sub-domains under the sun. We create value for clients through our highly reliable and accurate reports. We are also committed in playing a leading role in offering insights in various sectors post-COVID-19 and continue to deliver measurable, sustainable results for our clients.\n",
      "  Contact Us:\n",
      "  Mr. Shah\n",
      "  Coherent Market Insights Pvt Ltd,\n",
      "  533 Airport Boulevard, Suite 400, Burlingame, CA 94010, United States\n",
      "  Email: sales@coherentmarketinsights.com\n",
      "    ###\n",
      "Retrying in 5 seconds...\n"
     ]
    },
    {
     "name": "stdout",
     "output_type": "stream",
     "text": [
      "org: Coherent Market Insights\n",
      "country: NA\n",
      "state: NA\n",
      "city: NA\n",
      "industry: Market intelligence and consulting\n",
      "risks: NA\n",
      "items_sold: NA\n",
      "service_provided: Syndicated research reports, customized research reports, and consulting services\n",
      "business_relations: NA\n"
     ]
    },
    {
     "name": "stderr",
     "output_type": "stream",
     "text": [
      "\r",
      "Generating responses:   7%|▋         | 72/1000 [05:18<3:42:49, 14.41s/it]"
     ]
    },
    {
     "name": "stdout",
     "output_type": "stream",
     "text": [
      "org: Coherent Market Insights\n",
      "country: NA\n",
      "state: NA\n",
      "city: Burlingame\n",
      "industry: Consulting services\n",
      "risks: NA\n",
      "items_sold: NA\n",
      "service_provided: Develop digital business strategies; Offering governance, risk, fraud, and compliance consulting\n",
      "business_relations: NA\n"
     ]
    },
    {
     "name": "stderr",
     "output_type": "stream",
     "text": [
      "\r",
      "Generating responses:   7%|▋         | 73/1000 [05:23<2:59:09, 11.60s/it]"
     ]
    },
    {
     "name": "stdout",
     "output_type": "stream",
     "text": [
      "NA\n"
     ]
    },
    {
     "name": "stderr",
     "output_type": "stream",
     "text": [
      "\r",
      "Generating responses:   7%|▋         | 74/1000 [05:25<2:11:50,  8.54s/it]"
     ]
    },
    {
     "name": "stdout",
     "output_type": "stream",
     "text": [
      "org: NA\n"
     ]
    },
    {
     "name": "stderr",
     "output_type": "stream",
     "text": [
      "\r",
      "Generating responses:   8%|▊         | 75/1000 [05:26<1:39:37,  6.46s/it]"
     ]
    },
    {
     "name": "stdout",
     "output_type": "stream",
     "text": [
      "org: Telstra\n",
      "country: NA\n",
      "state: NA\n",
      "city: Geraldton\n",
      "industry: Telecommunications\n",
      "risks: Network outage\n",
      "items_sold: NA\n",
      "service_provided: Telecommunications services\n",
      "business_relations: NA\n"
     ]
    },
    {
     "name": "stderr",
     "output_type": "stream",
     "text": [
      "\r",
      "Generating responses:   8%|▊         | 76/1000 [05:31<1:29:33,  5.82s/it]"
     ]
    },
    {
     "name": "stdout",
     "output_type": "stream",
     "text": [
      "org: Salta Properties\n",
      "country: NA\n",
      "state: NA\n",
      "city: Melbourne\n",
      "industry: Real estate development\n",
      "risks: Closure; Loss of revenue; Community backlash\n",
      "items_sold: NA\n",
      "service_provided: NA\n",
      "business_relations: NA\n"
     ]
    },
    {
     "name": "stderr",
     "output_type": "stream",
     "text": [
      "\r",
      "Generating responses:   8%|▊         | 77/1000 [05:36<1:26:27,  5.62s/it]"
     ]
    },
    {
     "name": "stdout",
     "output_type": "stream",
     "text": [
      "NA\n"
     ]
    },
    {
     "name": "stderr",
     "output_type": "stream",
     "text": [
      "\r",
      "Generating responses:   8%|▊         | 78/1000 [05:38<1:10:31,  4.59s/it]"
     ]
    },
    {
     "name": "stdout",
     "output_type": "stream",
     "text": [
      "org: NA\n"
     ]
    },
    {
     "name": "stderr",
     "output_type": "stream",
     "text": [
      "\r",
      "Generating responses:   8%|▊         | 79/1000 [05:40<57:17,  3.73s/it]  "
     ]
    },
    {
     "name": "stdout",
     "output_type": "stream",
     "text": [
      "NA\n"
     ]
    },
    {
     "name": "stderr",
     "output_type": "stream",
     "text": [
      "\r",
      "Generating responses:   8%|▊         | 80/1000 [05:42<52:16,  3.41s/it]"
     ]
    },
    {
     "name": "stdout",
     "output_type": "stream",
     "text": [
      "org: Ex Ordo\n",
      "country: Ireland\n",
      "state: NA\n",
      "city: NA\n",
      "industry: Scholarly Communications\n",
      "risks: NA\n",
      "items_sold: Conference management solutions\n",
      "service_provided: NA\n",
      "business_relations: Enterprise Ireland, Paul Peters, Ahmed Hindawi, Nagwa Abdelmottaleb, Sven Fund, James Douglas\n"
     ]
    },
    {
     "name": "stderr",
     "output_type": "stream",
     "text": [
      "\r",
      "Generating responses:   8%|▊         | 81/1000 [05:47<56:25,  3.68s/it]"
     ]
    },
    {
     "name": "stdout",
     "output_type": "stream",
     "text": [
      "org: Leicester City Council\n",
      "country: NA\n",
      "state: NA\n",
      "city: Leicester\n",
      "industry: Government/Public Services\n",
      "risks: NA\n",
      "items_sold: NA\n",
      "service_provided: Government/Public Services\n",
      "business_relations: NA\n"
     ]
    },
    {
     "name": "stderr",
     "output_type": "stream",
     "text": [
      "\r",
      "Generating responses:   8%|▊         | 82/1000 [05:51<58:25,  3.82s/it]"
     ]
    },
    {
     "name": "stdout",
     "output_type": "stream",
     "text": [
      "org: Advance Auto Parts, Inc.\n",
      "country: NA\n",
      "state: NC\n",
      "city: Raleigh\n",
      "industry: Automotive aftermarket products\n",
      "risks: NA\n",
      "items_sold: Aftermarket automotive products\n",
      "service_provided: Supply and distribution of automotive products\n",
      "business_relations: NA\n"
     ]
    },
    {
     "name": "stderr",
     "output_type": "stream",
     "text": [
      "\r",
      "Generating responses:   8%|▊         | 83/1000 [05:55<1:00:23,  3.95s/it]"
     ]
    },
    {
     "name": "stdout",
     "output_type": "stream",
     "text": [
      "org: Advance Auto Parts, Inc.\n",
      "country: NA\n",
      "state: NA\n",
      "city: Raleigh\n",
      "industry: Automotive aftermarket products\n",
      "risks: Dissappointing earnings\n",
      "items_sold: Automotive parts and accessories\n",
      "service_provided: Supply and distribution of aftermarket automotive products\n",
      "business_relations: NA\n"
     ]
    },
    {
     "name": "stderr",
     "output_type": "stream",
     "text": [
      "\r",
      "Generating responses:   8%|▊         | 84/1000 [05:59<1:00:50,  3.99s/it]"
     ]
    },
    {
     "name": "stdout",
     "output_type": "stream",
     "text": [
      "org: Manufacturing Growth Programme (MGP)\n",
      "country: NA\n",
      "state: NA\n",
      "city: NA\n",
      "industry: Manufacturing\n",
      "risks: NA\n",
      "items_sold: NA\n",
      "service_provided: grant funding for business improvement/capital projects and specialist mentoring from industry experts\n",
      "business_relations: Oxford Innovation Advice\n"
     ]
    },
    {
     "name": "stderr",
     "output_type": "stream",
     "text": [
      "\r",
      "Generating responses:   8%|▊         | 85/1000 [06:03<1:02:20,  4.09s/it]"
     ]
    },
    {
     "name": "stdout",
     "output_type": "stream",
     "text": [
      "org: Coherent Market Insights\n",
      "country: NA\n",
      "state: NA\n",
      "city: NA\n",
      "industry: Market Research\n",
      "risks: NA\n",
      "items_sold: NA\n",
      "service_provided: Syndicated research reports, customized research reports, and consulting services\n",
      "business_relations: Archer Daniels Midland Company, Bp Plc., Cargill, Incorporated, Deinove SAS, Enerkem, Honeywell UOP, Novozymes A/S, Oleon N.V., Renmatix,Inc., Valero Energy Corporation.\n"
     ]
    },
    {
     "name": "stderr",
     "output_type": "stream",
     "text": [
      "\r",
      "Generating responses:   9%|▊         | 86/1000 [06:11<1:16:03,  4.99s/it]"
     ]
    },
    {
     "name": "stdout",
     "output_type": "stream",
     "text": [
      "org: NA\n"
     ]
    },
    {
     "name": "stderr",
     "output_type": "stream",
     "text": [
      "\r",
      "Generating responses:   9%|▊         | 87/1000 [06:12<1:00:14,  3.96s/it]"
     ]
    },
    {
     "name": "stdout",
     "output_type": "stream",
     "text": [
      "org: SM Entertainment; HYBE\n",
      "country: South Korea\n",
      "state: NA\n",
      "city: NA\n",
      "industry: K-Pop\n",
      "risks: Contracts dispute; Insider trading\n",
      "items_sold: NA\n",
      "service_provided: NA\n",
      "business_relations: NA\n"
     ]
    },
    {
     "name": "stderr",
     "output_type": "stream",
     "text": [
      "\r",
      "Generating responses:   9%|▉         | 88/1000 [06:16<1:01:24,  4.04s/it]"
     ]
    },
    {
     "name": "stdout",
     "output_type": "stream",
     "text": [
      "org: NS and ProRail\n",
      "country: NA\n",
      "state: NA\n",
      "city: Den Haag\n",
      "industry: Transportation\n",
      "risks: Property crime; Aggression towards passengers and staff; General nuisance\n",
      "items_sold: NA\n",
      "service_provided: NA\n",
      "business_relations: Municipality of The Hague\n"
     ]
    },
    {
     "name": "stderr",
     "output_type": "stream",
     "text": [
      "\r",
      "Generating responses:   9%|▉         | 89/1000 [06:21<1:03:08,  4.16s/it]"
     ]
    },
    {
     "name": "stdout",
     "output_type": "stream",
     "text": [
      "org: Toronto Regional Real Estate Board (TRREB)\n",
      "country: NA\n",
      "state: NA\n",
      "city: Toronto\n",
      "industry: Real Estate\n",
      "risks: Lack of housing supply; High borrowing costs; Short supply; High cost of living\n",
      "items_sold: Homes for sale\n",
      "service_provided: Real estate services\n",
      "business_relations: NA\n"
     ]
    },
    {
     "name": "stderr",
     "output_type": "stream",
     "text": [
      "\r",
      "Generating responses:   9%|▉         | 90/1000 [06:26<1:06:07,  4.36s/it]"
     ]
    },
    {
     "name": "stdout",
     "output_type": "stream",
     "text": [
      "org: NA\n"
     ]
    },
    {
     "name": "stderr",
     "output_type": "stream",
     "text": [
      "\r",
      "Generating responses:   9%|▉         | 91/1000 [06:27<54:00,  3.56s/it]  "
     ]
    },
    {
     "name": "stdout",
     "output_type": "stream",
     "text": [
      "org: Toronto Regional Real Estate Board\n",
      "country: NA\n",
      "state: NA\n",
      "city: Toronto\n",
      "industry: Real Estate\n",
      "risks: NA\n",
      "items_sold: Homes\n",
      "service_provided: NA\n",
      "business_relations: NA\n"
     ]
    },
    {
     "name": "stderr",
     "output_type": "stream",
     "text": [
      "\r",
      "Generating responses:   9%|▉         | 92/1000 [06:31<55:59,  3.70s/it]"
     ]
    },
    {
     "name": "stdout",
     "output_type": "stream",
     "text": [
      "org: Rambus\n",
      "country: NA\n",
      "state: NA\n",
      "city: NA\n",
      "industry: Technology\n",
      "risks: NA\n",
      "items_sold: RDRAM memory chips\n",
      "service_provided: NA\n",
      "business_relations: Intel\n"
     ]
    },
    {
     "name": "stderr",
     "output_type": "stream",
     "text": [
      "\r",
      "Generating responses:   9%|▉         | 93/1000 [06:35<56:41,  3.75s/it]"
     ]
    },
    {
     "name": "stdout",
     "output_type": "stream",
     "text": [
      "org: Toronto Regional Real Estate Board\n",
      "country: NA\n",
      "state: NA\n",
      "city: Toronto\n",
      "industry: Real Estate\n",
      "risks: Low supply; High prices\n",
      "items_sold: Homes\n",
      "service_provided: NA\n",
      "business_relations: NA\n"
     ]
    },
    {
     "name": "stderr",
     "output_type": "stream",
     "text": [
      "\r",
      "Generating responses:   9%|▉         | 94/1000 [06:39<57:02,  3.78s/it]"
     ]
    },
    {
     "name": "stdout",
     "output_type": "stream",
     "text": [
      "org: Toronto Regional Real Estate Board (TRREB)\n",
      "country: Canada\n",
      "state: Ontario\n",
      "city: Toronto\n",
      "industry: Real Estate\n",
      "risks: Lack of housing supply; High borrowing costs; Unreasonable property tax hikes\n",
      "items_sold: NA\n",
      "service_provided: NA\n",
      "business_relations: Canadian Real Estate Association (CREA)\n"
     ]
    },
    {
     "name": "stderr",
     "output_type": "stream",
     "text": [
      "\r",
      "Generating responses:  10%|▉         | 95/1000 [06:44<1:03:54,  4.24s/it]"
     ]
    },
    {
     "name": "stdout",
     "output_type": "stream",
     "text": [
      "org: Plumblink\n",
      "country: NA\n",
      "state: NA\n",
      "city: NA\n",
      "industry: plumbing\n",
      "risks: NA\n",
      "items_sold: plumbing products; DIY products\n",
      "service_provided: NA\n",
      "business_relations: over 600 local and international manufacturers\n"
     ]
    },
    {
     "name": "stderr",
     "output_type": "stream",
     "text": [
      "\r",
      "Generating responses:  10%|▉         | 96/1000 [06:49<1:05:38,  4.36s/it]"
     ]
    },
    {
     "name": "stdout",
     "output_type": "stream",
     "text": [
      "org: Toray Industries\n",
      "country: Japan\n",
      "state: NA\n",
      "city: Tokyo\n",
      "industry: Manufacturing\n",
      "risks: NA\n",
      "items_sold: PPS resins\n",
      "service_provided: NA\n",
      "business_relations: MKV Kunststoffgranulate\n"
     ]
    },
    {
     "name": "stderr",
     "output_type": "stream",
     "text": [
      "\r",
      "Generating responses:  10%|▉         | 97/1000 [06:52<1:01:28,  4.08s/it]"
     ]
    },
    {
     "name": "stdout",
     "output_type": "stream",
     "text": [
      "org: TRREB\n",
      "country: NA\n",
      "state: NA\n",
      "city: Toronto\n",
      "industry: Real Estate\n",
      "risks: Lack of housing supply; High borrowing costs; Unreasonable property tax hikes\n",
      "items_sold: NA\n",
      "service_provided: NA\n",
      "business_relations: NA\n"
     ]
    },
    {
     "name": "stderr",
     "output_type": "stream",
     "text": [
      "\r",
      "Generating responses:  10%|▉         | 98/1000 [06:57<1:02:48,  4.18s/it]"
     ]
    },
    {
     "name": "stdout",
     "output_type": "stream",
     "text": [
      "org: Toronto Regional Real Estate Board (TRREB)\n",
      "country: NA\n",
      "state: NA\n",
      "city: Toronto\n",
      "industry: Real Estate\n",
      "risks: NA\n",
      "items_sold: Homes\n",
      "service_provided: NA\n",
      "business_relations: NA\n"
     ]
    },
    {
     "name": "stderr",
     "output_type": "stream",
     "text": [
      "\r",
      "Generating responses:  10%|▉         | 99/1000 [07:00<1:00:11,  4.01s/it]"
     ]
    },
    {
     "name": "stdout",
     "output_type": "stream",
     "text": [
      "org: Toronto Regional Real Estate Board (TRREB)\n",
      "country: NA\n",
      "state: NA\n",
      "city: Toronto\n",
      "industry: Real Estate\n",
      "risks: Lack of housing supply; High borrowing costs; Short supply; Unreasonable property tax hikes\n",
      "items_sold: Residential and commercial properties\n",
      "service_provided: Connecting people, property and communities\n",
      "business_relations: Canadian Real Estate Association (CREA)\n"
     ]
    },
    {
     "name": "stderr",
     "output_type": "stream",
     "text": [
      "\r",
      "Generating responses:  10%|█         | 100/1000 [07:05<1:04:09,  4.28s/it]"
     ]
    },
    {
     "name": "stdout",
     "output_type": "stream",
     "text": [
      "org: NA\n"
     ]
    },
    {
     "name": "stderr",
     "output_type": "stream",
     "text": [
      "\r",
      "Generating responses:  10%|█         | 101/1000 [07:08<55:06,  3.68s/it]  "
     ]
    },
    {
     "name": "stdout",
     "output_type": "stream",
     "text": [
      "org: TRREB (Toronto Regional Real Estate Board)\n",
      "country: NA\n",
      "state: NA\n",
      "city: Toronto\n",
      "industry: Real Estate\n",
      "risks: Lack of housing supply; High borrowing costs; Unreasonable property tax hikes\n",
      "items_sold: NA\n",
      "service_provided: NA\n",
      "business_relations: NA\n"
     ]
    },
    {
     "name": "stderr",
     "output_type": "stream",
     "text": [
      "\r",
      "Generating responses:  10%|█         | 102/1000 [07:12<1:00:21,  4.03s/it]"
     ]
    },
    {
     "name": "stdout",
     "output_type": "stream",
     "text": [
      "org: Stratasys\n",
      "country: NA\n",
      "state: NA\n",
      "city: NA\n",
      "industry: 3D printing\n",
      "risks: regulatory changes; competition; market demand\n",
      "items_sold: 3D printers; 3D printing materials\n",
      "service_provided: 3D printing services\n",
      "business_relations: Desktop Metal; JP Morgan\n"
     ]
    },
    {
     "name": "stderr",
     "output_type": "stream",
     "text": [
      "\r",
      "Generating responses:  10%|█         | 103/1000 [07:17<1:04:11,  4.29s/it]"
     ]
    },
    {
     "name": "stdout",
     "output_type": "stream",
     "text": [
      "org: Toronto Regional Real Estate Board (TRREB)\n",
      "country: NA\n",
      "state: NA\n",
      "city: Toronto\n",
      "industry: Real Estate\n",
      "risks: Lack of housing supply; High borrowing costs; Short supply; High cost of living\n",
      "items_sold: Homes for sale\n",
      "service_provided: Real estate services\n",
      "business_relations: NA\n"
     ]
    },
    {
     "name": "stderr",
     "output_type": "stream",
     "text": [
      "\r",
      "Generating responses:  10%|█         | 104/1000 [07:22<1:06:38,  4.46s/it]"
     ]
    },
    {
     "name": "stdout",
     "output_type": "stream",
     "text": [
      "org: Toronto Regional Real Estate Board (TRREB)\n",
      "country: NA\n",
      "state: NA\n",
      "city: Toronto\n",
      "industry: Real Estate\n",
      "risks: Lack of housing supply; High borrowing costs; Unreasonable property tax hikes\n",
      "items_sold: NA\n",
      "service_provided: NA\n",
      "business_relations: NA\n"
     ]
    },
    {
     "name": "stderr",
     "output_type": "stream",
     "text": [
      "\r",
      "Generating responses:  10%|█         | 105/1000 [07:27<1:10:05,  4.70s/it]"
     ]
    },
    {
     "name": "stdout",
     "output_type": "stream",
     "text": [
      "org: Norwegian Seafood Council (NSC)\n",
      "country: Norway\n",
      "state: NA\n",
      "city: NA\n",
      "industry: Seafood\n",
      "risks: NA\n",
      "items_sold: Frozen herring; Herring fillet; Mackerel\n",
      "service_provided: NA\n",
      "business_relations: NA\n"
     ]
    },
    {
     "name": "stderr",
     "output_type": "stream",
     "text": [
      "\r",
      "Generating responses:  11%|█         | 106/1000 [07:31<1:06:10,  4.44s/it]"
     ]
    },
    {
     "name": "stdout",
     "output_type": "stream",
     "text": [
      "NA\n"
     ]
    },
    {
     "name": "stderr",
     "output_type": "stream",
     "text": [
      "\r",
      "Generating responses:  11%|█         | 107/1000 [07:33<53:51,  3.62s/it]  "
     ]
    },
    {
     "name": "stdout",
     "output_type": "stream",
     "text": [
      "NA\n"
     ]
    },
    {
     "name": "stderr",
     "output_type": "stream",
     "text": [
      "\r",
      "Generating responses:  11%|█         | 108/1000 [07:35<46:58,  3.16s/it]"
     ]
    },
    {
     "name": "stdout",
     "output_type": "stream",
     "text": [
      "org: Chervon North America Inc.\n",
      "country: United States\n",
      "state: Illinois\n",
      "city: Naperville\n",
      "industry: Manufacturing\n",
      "risks: Laceration hazard\n",
      "items_sold: EGO Power+ Cordless Brushless Hedge Trimmers\n",
      "service_provided: NA\n",
      "business_relations: Acehardware.com, Acmetools.com, Homedepot.com (authorized dealers and distributors)\n"
     ]
    },
    {
     "name": "stderr",
     "output_type": "stream",
     "text": [
      "\r",
      "Generating responses:  11%|█         | 109/1000 [07:41<57:35,  3.88s/it]"
     ]
    },
    {
     "name": "stdout",
     "output_type": "stream",
     "text": [
      "org: Crown Holdings, Inc\n",
      "country: NA\n",
      "state: NA\n",
      "city: NA\n",
      "industry: Packaging products and equipment\n",
      "risks: NA\n",
      "items_sold: Aerosol cans; beverage, promotional, and transit packaging; closures and capping; and food cans\n",
      "service_provided: NA\n",
      "business_relations: NA\n"
     ]
    },
    {
     "name": "stderr",
     "output_type": "stream",
     "text": [
      "\r",
      "Generating responses:  11%|█         | 110/1000 [07:45<59:10,  3.99s/it]"
     ]
    },
    {
     "name": "stdout",
     "output_type": "stream",
     "text": [
      "org: Adient\n",
      "country: NA\n",
      "state: NA\n",
      "city: Plymouth\n",
      "industry: Automotive seating systems\n",
      "risks: NA\n",
      "items_sold: NA\n",
      "service_provided: NA\n",
      "business_relations: NA\n"
     ]
    },
    {
     "name": "stderr",
     "output_type": "stream",
     "text": [
      "\r",
      "Generating responses:  11%|█         | 111/1000 [07:49<58:26,  3.94s/it]"
     ]
    },
    {
     "name": "stdout",
     "output_type": "stream",
     "text": [
      "org: Adient plc\n",
      "country: NA\n",
      "state: NA\n",
      "city: Plymouth\n",
      "industry: Automotive seating systems\n",
      "risks: NA\n",
      "items_sold: NA\n",
      "service_provided: NA\n",
      "business_relations: NA\n"
     ]
    },
    {
     "name": "stderr",
     "output_type": "stream",
     "text": [
      "\r",
      "Generating responses:  11%|█         | 112/1000 [07:52<57:06,  3.86s/it]"
     ]
    },
    {
     "name": "stdout",
     "output_type": "stream",
     "text": [
      "NA\n"
     ]
    },
    {
     "name": "stderr",
     "output_type": "stream",
     "text": [
      "\r",
      "Generating responses:  11%|█▏        | 113/1000 [07:55<50:38,  3.43s/it]"
     ]
    },
    {
     "name": "stdout",
     "output_type": "stream",
     "text": [
      "org: NA\n"
     ]
    },
    {
     "name": "stderr",
     "output_type": "stream",
     "text": [
      "\r",
      "Generating responses:  11%|█▏        | 114/1000 [07:57<46:10,  3.13s/it]"
     ]
    },
    {
     "name": "stdout",
     "output_type": "stream",
     "text": [
      "org: NA\n"
     ]
    },
    {
     "name": "stderr",
     "output_type": "stream",
     "text": [
      "\r",
      "Generating responses:  12%|█▏        | 115/1000 [08:00<42:47,  2.90s/it]"
     ]
    },
    {
     "name": "stdout",
     "output_type": "stream",
     "text": [
      "org: Dalata Hotel Group plc\n",
      "country: Ireland\n",
      "state: NA\n",
      "city: NA\n",
      "industry: Hospitality\n",
      "risks: Economic downturn; Competition; Cybersecurity\n",
      "items_sold: NA\n",
      "service_provided: Hotel accommodation\n",
      "business_relations: NA\n"
     ]
    },
    {
     "name": "stderr",
     "output_type": "stream",
     "text": [
      "\r",
      "Generating responses:  12%|█▏        | 116/1000 [08:04<47:51,  3.25s/it]"
     ]
    },
    {
     "name": "stdout",
     "output_type": "stream",
     "text": [
      "org: NA\n"
     ]
    },
    {
     "name": "stderr",
     "output_type": "stream",
     "text": [
      "\r",
      "Generating responses:  12%|█▏        | 117/1000 [08:06<42:37,  2.90s/it]"
     ]
    },
    {
     "name": "stdout",
     "output_type": "stream",
     "text": [
      "org: Growth Plus Reports\n",
      "country: USA\n",
      "state: Delaware\n",
      "city: Newark\n",
      "industry: Healthcare market research\n",
      "risks: NA\n",
      "items_sold: NA\n",
      "service_provided: Market research services\n",
      "business_relations: Fresenius Kabi AG, Cardinal Health, Inc., Baxter, Pfizer Inc., Merck & Co., Inc., Apotex Inc., Teva Pharmaceutical Industries Ltd., Bayer AG, Astra Zeneca Plc, Hikma Pharmaceuticals Plc (all mentioned as leading players in the Tocolytic Agents market)\n"
     ]
    },
    {
     "name": "stderr",
     "output_type": "stream",
     "text": [
      "\r",
      "Generating responses:  12%|█▏        | 118/1000 [08:12<58:30,  3.98s/it]"
     ]
    },
    {
     "name": "stdout",
     "output_type": "stream",
     "text": [
      "org: Goldman Sachs Group Inc\n",
      "country: NA\n",
      "state: NA\n",
      "city: NA\n",
      "industry: Financial Services\n",
      "risks: earnings concerns; currency concerns; bearish sentiment; light positioning; investors' positioning in Chinese assets\n",
      "items_sold: NA\n",
      "service_provided: NA\n",
      "business_relations: NA\n"
     ]
    },
    {
     "name": "stderr",
     "output_type": "stream",
     "text": [
      "\r",
      "Generating responses:  12%|█▏        | 119/1000 [08:17<1:02:28,  4.26s/it]"
     ]
    },
    {
     "name": "stdout",
     "output_type": "stream",
     "text": [
      "org: Revolution Beauty\n",
      "country: NA\n",
      "state: NA\n",
      "city: NA\n",
      "industry: Health and Beauty\n",
      "risks: NA\n",
      "items_sold: Beauty products\n",
      "service_provided: NA\n",
      "business_relations: Boots, Superdrug\n"
     ]
    },
    {
     "name": "stderr",
     "output_type": "stream",
     "text": [
      "\r",
      "Generating responses:  12%|█▏        | 120/1000 [08:20<57:42,  3.94s/it]  "
     ]
    },
    {
     "name": "stdout",
     "output_type": "stream",
     "text": [
      "org: Revolut\n",
      "country: NA\n",
      "state: NA\n",
      "city: London\n",
      "industry: Banking\n",
      "risks: Regulatory compliance; Cybersecurity; Reputation damage\n",
      "items_sold: NA\n",
      "service_provided: Banking services\n",
      "business_relations: NA\n"
     ]
    },
    {
     "name": "stderr",
     "output_type": "stream",
     "text": [
      "\r",
      "Generating responses:  12%|█▏        | 121/1000 [08:25<58:31,  4.00s/it]"
     ]
    },
    {
     "name": "stdout",
     "output_type": "stream",
     "text": [
      "org: Mobileye Global\n",
      "country: NA\n",
      "state: NA\n",
      "city: NA\n",
      "industry: NA\n",
      "risks: NA\n",
      "items_sold: NA\n",
      "service_provided: NA\n",
      "business_relations: NA\n"
     ]
    },
    {
     "name": "stderr",
     "output_type": "stream",
     "text": [
      "\r",
      "Generating responses:  12%|█▏        | 122/1000 [08:28<58:15,  3.98s/it]"
     ]
    },
    {
     "name": "stdout",
     "output_type": "stream",
     "text": [
      "org: NestAway\n",
      "country: India\n",
      "state: NA\n",
      "city: NA\n",
      "industry: PropTech\n",
      "risks: NA\n",
      "items_sold: NA\n",
      "service_provided: NA\n",
      "business_relations: Aurum\n"
     ]
    },
    {
     "name": "stderr",
     "output_type": "stream",
     "text": [
      "\r",
      "Generating responses:  12%|█▏        | 123/1000 [08:32<55:23,  3.79s/it]"
     ]
    },
    {
     "name": "stdout",
     "output_type": "stream",
     "text": [
      "org: Revolution Beauty\n",
      "country: NA\n",
      "state: NA\n",
      "city: NA\n",
      "industry: Beauty\n",
      "risks: NA\n",
      "items_sold: Beauty products\n",
      "service_provided: NA\n",
      "business_relations: Boots, Superdrug\n"
     ]
    },
    {
     "name": "stderr",
     "output_type": "stream",
     "text": [
      "\r",
      "Generating responses:  12%|█▏        | 124/1000 [08:36<56:05,  3.84s/it]"
     ]
    },
    {
     "name": "stdout",
     "output_type": "stream",
     "text": [
      "NA\n"
     ]
    },
    {
     "name": "stderr",
     "output_type": "stream",
     "text": [
      "\r",
      "Generating responses:  12%|█▎        | 125/1000 [08:38<47:06,  3.23s/it]"
     ]
    },
    {
     "name": "stdout",
     "output_type": "stream",
     "text": [
      "org: TOTALogistix\n",
      "country: NA\n",
      "state: New Jersey\n",
      "city: Sparta\n",
      "industry: Supply Chain Solutions\n",
      "risks: NA\n",
      "items_sold: NA\n",
      "service_provided: Supply chain design; Procurement; Freight audit and payment; Freight brokerage\n",
      "business_relations: Aptean\n"
     ]
    },
    {
     "name": "stderr",
     "output_type": "stream",
     "text": [
      "\r",
      "Generating responses:  13%|█▎        | 126/1000 [08:43<56:01,  3.85s/it]"
     ]
    },
    {
     "name": "stdout",
     "output_type": "stream",
     "text": [
      "org: OffSec\n",
      "country: NA\n",
      "state: NA\n",
      "city: NA\n",
      "industry: Cybersecurity workforce development and learning\n",
      "risks: Cyber threats\n",
      "items_sold: NA\n",
      "service_provided: NA\n",
      "business_relations: Distributors, Managed Security Service Providers (MSSPs), government resellers, learning partners, prime contractors, global financial and consulting organizations, large global enterprise customers.\n"
     ]
    },
    {
     "name": "stderr",
     "output_type": "stream",
     "text": [
      "\r",
      "Generating responses:  13%|█▎        | 127/1000 [08:48<1:02:19,  4.28s/it]"
     ]
    },
    {
     "name": "stdout",
     "output_type": "stream",
     "text": [
      "org: Ingka Group\n",
      "country: NA\n",
      "state: NA\n",
      "city: NA\n",
      "industry: Retail\n",
      "risks: NA\n",
      "items_sold: NA\n",
      "service_provided: NA\n",
      "business_relations: Made4net\n"
     ]
    },
    {
     "name": "stderr",
     "output_type": "stream",
     "text": [
      "\r",
      "Generating responses:  13%|█▎        | 128/1000 [08:52<58:26,  4.02s/it]  "
     ]
    },
    {
     "name": "stdout",
     "output_type": "stream",
     "text": [
      "org: Macy's Inc.\n",
      "country: NA\n",
      "state: NA\n",
      "city: New York\n",
      "industry: Retail\n",
      "risks: high inflation; economic challenges; consumer slowdown\n",
      "items_sold: clothes and other discretionary items; fragrances; women's career sportswear; men's tailored items; housewares\n",
      "service_provided: NA\n",
      "business_relations: Bloomingdale's; Bluemercury\n"
     ]
    },
    {
     "name": "stderr",
     "output_type": "stream",
     "text": [
      "\r",
      "Generating responses:  13%|█▎        | 129/1000 [08:57<1:03:43,  4.39s/it]"
     ]
    },
    {
     "name": "stdout",
     "output_type": "stream",
     "text": [
      "org: Rosneft\n",
      "country: Russia\n",
      "state: NA\n",
      "city: NA\n",
      "industry: Oil and Gas\n",
      "risks: Western sanctions; Technical conditions; Fluctuations in oil prices\n",
      "items_sold: NA\n",
      "service_provided: NA\n",
      "business_relations: ExxonMobil\n"
     ]
    },
    {
     "name": "stderr",
     "output_type": "stream",
     "text": [
      "\r",
      "Generating responses:  13%|█▎        | 130/1000 [09:01<1:03:52,  4.41s/it]"
     ]
    },
    {
     "name": "stdout",
     "output_type": "stream",
     "text": [
      "org: NA\n"
     ]
    },
    {
     "name": "stderr",
     "output_type": "stream",
     "text": [
      "\r",
      "Generating responses:  13%|█▎        | 131/1000 [09:03<52:51,  3.65s/it]  "
     ]
    },
    {
     "name": "stdout",
     "output_type": "stream",
     "text": [
      "org: NA\n"
     ]
    },
    {
     "name": "stderr",
     "output_type": "stream",
     "text": [
      "\r",
      "Generating responses:  13%|█▎        | 132/1000 [09:05<45:14,  3.13s/it]"
     ]
    },
    {
     "name": "stdout",
     "output_type": "stream",
     "text": [
      "org: Lloyds Banking Group\n",
      "country: NA\n",
      "state: NA\n",
      "city: NA\n",
      "industry: Banking\n",
      "risks: Closure of branches\n",
      "items_sold: NA\n",
      "service_provided: Banking services\n",
      "business_relations: NA\n"
     ]
    },
    {
     "name": "stderr",
     "output_type": "stream",
     "text": [
      "\r",
      "Generating responses:  13%|█▎        | 133/1000 [09:09<47:20,  3.28s/it]"
     ]
    },
    {
     "name": "stdout",
     "output_type": "stream",
     "text": [
      "org: Republic Services\n",
      "country: NA\n",
      "state: NA\n",
      "city: NA\n",
      "industry: Waste Management\n",
      "risks: NA\n",
      "items_sold: Waste and recycling services\n",
      "service_provided: Waste and recycling services\n",
      "business_relations: NA\n"
     ]
    },
    {
     "name": "stderr",
     "output_type": "stream",
     "text": [
      "\r",
      "Generating responses:  13%|█▎        | 134/1000 [09:13<52:17,  3.62s/it]"
     ]
    },
    {
     "name": "stdout",
     "output_type": "stream",
     "text": [
      "org: Speedy Hire\n",
      "country: NA\n",
      "state: NA\n",
      "city: NA\n",
      "industry: Equipment rental\n",
      "risks: Delayed publication\n",
      "items_sold: NA\n",
      "service_provided: NA\n",
      "business_relations: PwC\n"
     ]
    },
    {
     "name": "stderr",
     "output_type": "stream",
     "text": [
      "\r",
      "Generating responses:  14%|█▎        | 135/1000 [09:17<53:07,  3.69s/it]"
     ]
    },
    {
     "name": "stdout",
     "output_type": "stream",
     "text": [
      "org: Ormax Media and Tulsea\n",
      "country: NA\n",
      "state: NA\n",
      "city: NA\n",
      "industry: Entertainment\n",
      "risks: NA\n",
      "items_sold: NA\n",
      "service_provided: NA\n",
      "business_relations: NA\n"
     ]
    },
    {
     "name": "stderr",
     "output_type": "stream",
     "text": [
      "\r",
      "Generating responses:  14%|█▎        | 136/1000 [09:20<51:42,  3.59s/it]"
     ]
    },
    {
     "name": "stdout",
     "output_type": "stream",
     "text": [
      "org: Chervon North America\n",
      "country: NA\n",
      "state: NA\n",
      "city: NA\n",
      "industry: Manufacturing\n",
      "risks: Laceration hazard\n",
      "items_sold: EGO Power+ Model HT2410 Cordless Brushless Hedge Trimmers\n",
      "service_provided: NA\n",
      "business_relations: CPSC\n"
     ]
    },
    {
     "name": "stderr",
     "output_type": "stream",
     "text": [
      "\r",
      "Generating responses:  14%|█▎        | 137/1000 [09:25<57:23,  3.99s/it]"
     ]
    },
    {
     "name": "stdout",
     "output_type": "stream",
     "text": [
      "org: Gateley Holdings PLC\n",
      "country: England\n",
      "state: West Midlands\n",
      "city: Birmingham\n",
      "industry: Legal and professional services\n",
      "risks: NA\n",
      "items_sold: NA\n",
      "service_provided: Legal and professional services\n",
      "business_relations: NA\n"
     ]
    },
    {
     "name": "stderr",
     "output_type": "stream",
     "text": [
      "\r",
      "Generating responses:  14%|█▍        | 138/1000 [09:29<56:02,  3.90s/it]"
     ]
    },
    {
     "name": "stdout",
     "output_type": "stream",
     "text": [
      "org: Supermicro\n",
      "country: NA\n",
      "state: NA\n",
      "city: NA\n",
      "industry: Technology\n",
      "risks: NA\n",
      "items_sold: Rackscale systems\n",
      "service_provided: Custom datacenter infrastructure\n",
      "business_relations: Lenovo, Dell, HPE\n"
     ]
    },
    {
     "name": "stderr",
     "output_type": "stream",
     "text": [
      "\r",
      "Generating responses:  14%|█▍        | 139/1000 [09:34<1:00:04,  4.19s/it]"
     ]
    },
    {
     "name": "stdout",
     "output_type": "stream",
     "text": [
      "org: Anheuser-Busch InBev SA (AB InBev)\n",
      "country: NA\n",
      "state: NA\n",
      "city: NA\n",
      "industry: Beverages\n",
      "risks: Boycott; Reputation damage\n",
      "items_sold: NA\n",
      "service_provided: NA\n",
      "business_relations: NA\n"
     ]
    },
    {
     "name": "stderr",
     "output_type": "stream",
     "text": [
      "\r",
      "Generating responses:  14%|█▍        | 140/1000 [09:38<59:02,  4.12s/it]  "
     ]
    },
    {
     "name": "stdout",
     "output_type": "stream",
     "text": [
      "org: Educational Testing Service (ETS)\n",
      "country: NA\n",
      "state: NA\n",
      "city: NA\n",
      "industry: Education\n",
      "risks: NA\n",
      "items_sold: GRE General Test\n",
      "service_provided: Admission test for graduate and professional programmes\n",
      "business_relations: NA\n"
     ]
    },
    {
     "name": "stderr",
     "output_type": "stream",
     "text": [
      "\r",
      "Generating responses:  14%|█▍        | 141/1000 [09:42<59:09,  4.13s/it]"
     ]
    },
    {
     "name": "stdout",
     "output_type": "stream",
     "text": [
      "org: Roku Inc.\n",
      "country: NA\n",
      "state: NA\n",
      "city: NA\n",
      "industry: Streaming\n",
      "risks: Advertising slowdown\n",
      "items_sold: NA\n",
      "service_provided: NA\n",
      "business_relations: NA\n"
     ]
    },
    {
     "name": "stderr",
     "output_type": "stream",
     "text": [
      "\r",
      "Generating responses:  14%|█▍        | 142/1000 [09:46<58:51,  4.12s/it]"
     ]
    },
    {
     "name": "stdout",
     "output_type": "stream",
     "text": [
      "NA\n"
     ]
    },
    {
     "name": "stderr",
     "output_type": "stream",
     "text": [
      "\r",
      "Generating responses:  14%|█▍        | 143/1000 [09:48<51:21,  3.60s/it]"
     ]
    },
    {
     "name": "stdout",
     "output_type": "stream",
     "text": [
      "org: The Insight Partners\n",
      "country: NA\n",
      "state: NA\n",
      "city: NA\n",
      "industry: Healthcare\n",
      "risks: NA\n",
      "items_sold: NA\n",
      "service_provided: Syndicated and consulting research services\n",
      "business_relations: EndoChoice, Olympus Corporation, Merit Medical Systems, TaeWoong Medical, Medtronic, Cook Medical, Becton, Dickinson and Company, Boston Scientific Corporation, Diagmed Healthcare Ltd, Conmed Corporation\n"
     ]
    },
    {
     "name": "stderr",
     "output_type": "stream",
     "text": [
      "\r",
      "Generating responses:  14%|█▍        | 144/1000 [09:54<1:01:08,  4.29s/it]"
     ]
    },
    {
     "name": "stdout",
     "output_type": "stream",
     "text": [
      "org: NA\n"
     ]
    },
    {
     "name": "stderr",
     "output_type": "stream",
     "text": [
      "\r",
      "Generating responses:  14%|█▍        | 145/1000 [09:56<49:39,  3.49s/it]  "
     ]
    },
    {
     "name": "stdout",
     "output_type": "stream",
     "text": [
      "org: NA\n"
     ]
    },
    {
     "name": "stderr",
     "output_type": "stream",
     "text": [
      "\r",
      "Generating responses:  15%|█▍        | 146/1000 [09:58<43:51,  3.08s/it]"
     ]
    },
    {
     "name": "stdout",
     "output_type": "stream",
     "text": [
      "NA\n"
     ]
    },
    {
     "name": "stderr",
     "output_type": "stream",
     "text": [
      "\r",
      "Generating responses:  15%|█▍        | 147/1000 [09:59<36:54,  2.60s/it]"
     ]
    },
    {
     "name": "stdout",
     "output_type": "stream",
     "text": [
      "org: Ethan Allen Interiors\n",
      "country: NA\n",
      "state: NA\n",
      "city: NA\n",
      "industry: Home furnishings and accessories\n",
      "risks: NA\n",
      "items_sold: Home furnishings and accents\n",
      "service_provided: Home decorating and design solutions\n",
      "business_relations: NA\n"
     ]
    },
    {
     "name": "stderr",
     "output_type": "stream",
     "text": [
      "\r",
      "Generating responses:  15%|█▍        | 148/1000 [10:06<53:16,  3.75s/it]"
     ]
    },
    {
     "name": "stdout",
     "output_type": "stream",
     "text": [
      "org: Ardmore Shipping Corp.\n",
      "country: NA\n",
      "state: NA\n",
      "city: NA\n",
      "industry: Shipping\n",
      "risks: NA\n",
      "items_sold: Tankers\n",
      "service_provided: Seaborne transportation of petroleum products and chemicals\n",
      "business_relations: Oil majors, national oil companies, oil and chemical traders, and chemical companies\n"
     ]
    },
    {
     "name": "stderr",
     "output_type": "stream",
     "text": [
      "\r",
      "Generating responses:  15%|█▍        | 149/1000 [10:11<57:37,  4.06s/it]"
     ]
    },
    {
     "name": "stdout",
     "output_type": "stream",
     "text": [
      "org: NA\n"
     ]
    },
    {
     "name": "stderr",
     "output_type": "stream",
     "text": [
      "\r",
      "Generating responses:  15%|█▌        | 150/1000 [10:13<48:36,  3.43s/it]"
     ]
    },
    {
     "name": "stdout",
     "output_type": "stream",
     "text": [
      "org: Institute of Banking Personnel Selection (IBPS)\n",
      "country: NA\n",
      "state: NA\n",
      "city: NA\n",
      "industry: Banking\n",
      "risks: NA\n",
      "items_sold: NA\n",
      "service_provided: NA\n",
      "business_relations: NA\n"
     ]
    },
    {
     "name": "stderr",
     "output_type": "stream",
     "text": [
      "\r",
      "Generating responses:  15%|█▌        | 151/1000 [10:16<49:18,  3.49s/it]"
     ]
    },
    {
     "name": "stdout",
     "output_type": "stream",
     "text": [
      "org: Siqalo Foods\n",
      "country: NA\n",
      "state: NA\n",
      "city: NA\n",
      "industry: NA\n",
      "risks: NA\n",
      "items_sold: Stork Butter Spread\n",
      "service_provided: NA\n",
      "business_relations: Clover SA\n"
     ]
    },
    {
     "name": "stderr",
     "output_type": "stream",
     "text": [
      "\r",
      "Generating responses:  15%|█▌        | 152/1000 [10:21<53:06,  3.76s/it]"
     ]
    },
    {
     "name": "stdout",
     "output_type": "stream",
     "text": [
      "org: HELL Pizza\n",
      "country: New Zealand\n",
      "state: NA\n",
      "city: multiple locations\n",
      "industry: food and beverage\n",
      "risks: NA\n",
      "items_sold: pizza\n",
      "service_provided: food service\n",
      "business_relations: 'buy now, pay later' providers\n"
     ]
    },
    {
     "name": "stderr",
     "output_type": "stream",
     "text": [
      "\r",
      "Generating responses:  15%|█▌        | 153/1000 [10:25<54:34,  3.87s/it]"
     ]
    },
    {
     "name": "stdout",
     "output_type": "stream",
     "text": [
      "org: Fortune Business InsightsTM\n",
      "country: NA\n",
      "state: NA\n",
      "city: Pune\n",
      "industry: lead acid battery\n",
      "risks: shorter lifespan\n",
      "items_sold: lead acid batteries\n",
      "service_provided: NA\n",
      "business_relations: EnerSys, TravelCenter of America\n"
     ]
    },
    {
     "name": "stderr",
     "output_type": "stream",
     "text": [
      "\r",
      "Generating responses:  15%|█▌        | 154/1000 [10:29<56:13,  3.99s/it]"
     ]
    },
    {
     "name": "stdout",
     "output_type": "stream",
     "text": [
      "org: Any-Kind-A-Wear\n",
      "country: NA\n",
      "state: NA\n",
      "city: Monessen\n",
      "industry: NA\n",
      "risks: Fire\n",
      "items_sold: NA\n",
      "service_provided: NA\n",
      "business_relations: NA\n"
     ]
    },
    {
     "name": "stderr",
     "output_type": "stream",
     "text": [
      "\r",
      "Generating responses:  16%|█▌        | 155/1000 [10:33<53:54,  3.83s/it]"
     ]
    },
    {
     "name": "stdout",
     "output_type": "stream",
     "text": [
      "org: What's Cooking?\n",
      "country: Belgium\n",
      "state: NA\n",
      "city: Lievegem\n",
      "industry: Food\n",
      "risks: Competition; Regulatory\n",
      "items_sold: Food products\n",
      "service_provided: NA\n",
      "business_relations: Sigma's operations in Belgium (Imperial) and the Netherlands (Stegeman)\n"
     ]
    },
    {
     "name": "stderr",
     "output_type": "stream",
     "text": [
      "\r",
      "Generating responses:  16%|█▌        | 156/1000 [10:37<58:27,  4.16s/it]"
     ]
    },
    {
     "name": "stdout",
     "output_type": "stream",
     "text": [
      "org: Growth Plus Reports\n",
      "country: USA\n",
      "state: Delaware\n",
      "city: Newark\n",
      "industry: Healthcare Market Research\n",
      "risks: NA\n",
      "items_sold: NA\n",
      "service_provided: Market research services\n",
      "business_relations: CVS Health Corporation, Cigna Corporation, Giant Eagle Inc., Optum Rx Inc., The Kroger Co., Walgreen Boots Alliance, Amazon.com Inc., Axelia Solutions, Apex Healthcare Berhad, Apollo Pharmacy, DocMorris, Netmeds.com\n"
     ]
    },
    {
     "name": "stderr",
     "output_type": "stream",
     "text": [
      "\r",
      "Generating responses:  16%|█▌        | 157/1000 [10:44<1:07:30,  4.81s/it]"
     ]
    },
    {
     "name": "stdout",
     "output_type": "stream",
     "text": [
      "org: NA\n"
     ]
    },
    {
     "name": "stderr",
     "output_type": "stream",
     "text": [
      "\r",
      "Generating responses:  16%|█▌        | 158/1000 [10:45<53:51,  3.84s/it]  "
     ]
    },
    {
     "name": "stdout",
     "output_type": "stream",
     "text": [
      "org: Hyundai and Kia\n",
      "country: South Korea\n",
      "state: NA\n",
      "city: NA\n",
      "industry: Automotive\n",
      "risks: Dealer markups; Lackluster power and fuel economy; Coming up short on fundamentals\n",
      "items_sold: Cars and SUVs\n",
      "service_provided: NA\n",
      "business_relations: NA\n"
     ]
    },
    {
     "name": "stderr",
     "output_type": "stream",
     "text": [
      "\r",
      "Generating responses:  16%|█▌        | 159/1000 [10:49<53:48,  3.84s/it]"
     ]
    },
    {
     "name": "stdout",
     "output_type": "stream",
     "text": [
      "org: Fortune Business Insights\n",
      "country: NA\n",
      "state: NA\n",
      "city: Pune\n",
      "industry: lead acid battery\n",
      "risks: shorter lifespan\n",
      "items_sold: lead acid batteries\n",
      "service_provided: NA\n",
      "business_relations: Brookfield Business Partners, GS Yuasa, EnerSys, Exide Industries Ltd., East Penn Manufacturing, FENGFAN, Luminous Power Technologies Pvt. Ltd., FIAMM, HBL Power Systems Ltd., Amara Raja Batteries Ltd., Su-Kam Power Systems Ltd.\n"
     ]
    },
    {
     "name": "stderr",
     "output_type": "stream",
     "text": [
      "\r",
      "Generating responses:  16%|█▌        | 160/1000 [10:56<1:05:35,  4.69s/it]"
     ]
    },
    {
     "name": "stdout",
     "output_type": "stream",
     "text": [
      "Error generating response for prompt at index 160: That model is currently overloaded with other requests. You can retry your request, or contact us through our help center at help.openai.com if the error persists. (Please include the request ID 1e4d991208799cebd40ba1b1d86a0052 in your message.)\n",
      "Query: For the main organisation discussed in this article (if any), give me information as follows and nothing else. If there is no organiastion discussed, respond with \"NA\".\n",
      "    ###\n",
      "    Desired response format:\n",
      "    ###\n",
      "    org: <main organisation discussed>\n",
      "    country: <country of main organisation>\n",
      "    state: <state/province of main organisation>\n",
      "    city: <city/town of main organisation>\n",
      "    industry: <industry of the organisation>\n",
      "    risks: <semi-colon-separated list of risks faced by main organisation> Summarise each risk in a phrase of up to 3 words.\n",
      "    items_sold: <semicolon-separated list of items sold by main organisation>\n",
      "    service_provided: <semi-colon-separated list of services provided by organisation>\n",
      "    business_relations: <semi-colon-separated list of organisations with a business relation to the main organisation>\n",
      "    ###\n",
      "    The provided article is:\n",
      "    ###\n",
      "    'The contract was terminated due to poor performance'\n",
      "ANC benefactor Edwin Sodi’s company has had yet another tender terminated for poor performance, but he had already pocketed R130m on the incomplete project.\n",
      " The department of public works yesterday confirmed that it had dumped Sodi’s company NJR Projects which was awarded a R282m contract to upgrade and extend the 65-bed Parys Correctional Services in the Free State to a 240-bed facility...\n",
      "    ###\n",
      "Retrying in 5 seconds...\n",
      "org: NJR Projects\n",
      "country: South Africa\n",
      "state: Free State\n",
      "city: Parys\n",
      "industry: Construction\n",
      "risks: Poor performance\n",
      "items_sold: NA\n",
      "service_provided: NA\n",
      "business_relations: NA\n"
     ]
    },
    {
     "name": "stderr",
     "output_type": "stream",
     "text": [
      "\r",
      "Generating responses:  16%|█▌        | 161/1000 [11:35<3:30:28, 15.05s/it]"
     ]
    },
    {
     "name": "stdout",
     "output_type": "stream",
     "text": [
      "org: Vertical Commercial\n",
      "country: NA\n",
      "state: NA\n",
      "city: Chattanooga\n",
      "industry: commercial real estate services\n",
      "risks: NA\n",
      "items_sold: NA\n",
      "service_provided: retail representation\n",
      "business_relations: NA\n"
     ]
    },
    {
     "name": "stderr",
     "output_type": "stream",
     "text": [
      "\r",
      "Generating responses:  16%|█▌        | 162/1000 [11:40<2:46:06, 11.89s/it]"
     ]
    },
    {
     "name": "stdout",
     "output_type": "stream",
     "text": [
      "org: NA\n"
     ]
    },
    {
     "name": "stderr",
     "output_type": "stream",
     "text": [
      "\r",
      "Generating responses:  16%|█▋        | 163/1000 [11:41<2:04:03,  8.89s/it]"
     ]
    },
    {
     "name": "stdout",
     "output_type": "stream",
     "text": [
      "org: Greater Vancouver Board of Trade\n",
      "country: Canada\n",
      "state: British Columbia\n",
      "city: Vancouver\n",
      "industry: NA\n",
      "risks: NA\n",
      "items_sold: NA\n",
      "service_provided: NA\n",
      "business_relations: NA\n"
     ]
    },
    {
     "name": "stderr",
     "output_type": "stream",
     "text": [
      "\r",
      "Generating responses:  16%|█▋        | 164/1000 [11:45<1:41:02,  7.25s/it]"
     ]
    },
    {
     "name": "stdout",
     "output_type": "stream",
     "text": [
      "org: NA\n"
     ]
    },
    {
     "name": "stderr",
     "output_type": "stream",
     "text": [
      "\r",
      "Generating responses:  16%|█▋        | 165/1000 [11:47<1:21:16,  5.84s/it]"
     ]
    },
    {
     "name": "stdout",
     "output_type": "stream",
     "text": [
      "NA\n"
     ]
    },
    {
     "name": "stderr",
     "output_type": "stream",
     "text": [
      "\r",
      "Generating responses:  17%|█▋        | 166/1000 [11:49<1:03:18,  4.55s/it]"
     ]
    },
    {
     "name": "stdout",
     "output_type": "stream",
     "text": [
      "org: Supermicro\n",
      "country: NA\n",
      "state: NA\n",
      "city: NA\n",
      "industry: Technology\n",
      "risks: NA\n",
      "items_sold: Rackscale systems\n",
      "service_provided: NA\n",
      "business_relations: NA\n"
     ]
    },
    {
     "name": "stderr",
     "output_type": "stream",
     "text": [
      "\r",
      "Generating responses:  17%|█▋        | 167/1000 [11:53<59:27,  4.28s/it]  "
     ]
    },
    {
     "name": "stdout",
     "output_type": "stream",
     "text": [
      "org: NA\n"
     ]
    },
    {
     "name": "stderr",
     "output_type": "stream",
     "text": [
      "\r",
      "Generating responses:  17%|█▋        | 168/1000 [11:55<51:00,  3.68s/it]"
     ]
    },
    {
     "name": "stdout",
     "output_type": "stream",
     "text": [
      "org: Cresswell Barn Farm\n",
      "country: NA\n",
      "state: NA\n",
      "city: NA\n",
      "industry: Agriculture\n",
      "risks: Fluctuating input costs\n",
      "items_sold: Potatoes; Carrots\n",
      "service_provided: NA\n",
      "business_relations: NA\n"
     ]
    },
    {
     "name": "stderr",
     "output_type": "stream",
     "text": [
      "\r",
      "Generating responses:  17%|█▋        | 169/1000 [11:59<52:35,  3.80s/it]"
     ]
    },
    {
     "name": "stdout",
     "output_type": "stream",
     "text": [
      "org: Liquid Intelligent Technologies\n",
      "country: NA\n",
      "state: NA\n",
      "city: NA\n",
      "industry: Technology\n",
      "risks: NA\n",
      "items_sold: NA\n",
      "service_provided: NA\n",
      "business_relations: INOVO\n"
     ]
    },
    {
     "name": "stderr",
     "output_type": "stream",
     "text": [
      "\r",
      "Generating responses:  17%|█▋        | 170/1000 [12:02<50:37,  3.66s/it]"
     ]
    },
    {
     "name": "stdout",
     "output_type": "stream",
     "text": [
      "org: Amp\n",
      "country: NA\n",
      "state: NA\n",
      "city: NA\n",
      "industry: Cryptocurrency\n",
      "risks: Irreversibility; Loss of collateral\n",
      "items_sold: NA\n",
      "service_provided: Fast and secure value transfer\n",
      "business_relations: Flexa\n"
     ]
    },
    {
     "name": "stderr",
     "output_type": "stream",
     "text": [
      "\r",
      "Generating responses:  17%|█▋        | 171/1000 [12:06<50:49,  3.68s/it]"
     ]
    },
    {
     "name": "stdout",
     "output_type": "stream",
     "text": [
      "org: Association of Ghana Industries (AGI)\n",
      "country: Ghana\n",
      "state: NA\n",
      "city: NA\n",
      "industry: Manufacturing\n",
      "risks: High electricity tariffs; Closure of industries; Unemployment\n",
      "items_sold: NA\n",
      "service_provided: NA\n",
      "business_relations: NA\n"
     ]
    },
    {
     "name": "stderr",
     "output_type": "stream",
     "text": [
      "\r",
      "Generating responses:  17%|█▋        | 172/1000 [12:11<56:37,  4.10s/it]"
     ]
    },
    {
     "name": "stdout",
     "output_type": "stream",
     "text": [
      "org: Managed Service Providers (MSPs)\n",
      "country: Australia\n",
      "state: NA\n",
      "city: NA\n",
      "industry: Cybersecurity\n",
      "risks: Competition; Attracting talent; Keeping up with technology and security trends\n",
      "items_sold: NA\n",
      "service_provided: Cybersecurity services\n",
      "business_relations: NA\n"
     ]
    },
    {
     "name": "stderr",
     "output_type": "stream",
     "text": [
      "\r",
      "Generating responses:  17%|█▋        | 173/1000 [12:16<59:25,  4.31s/it]"
     ]
    },
    {
     "name": "stdout",
     "output_type": "stream",
     "text": [
      "org: Bubs\n",
      "country: NA\n",
      "state: NA\n",
      "city: NA\n",
      "industry: infant formula\n",
      "risks: pandemic impact; exclusive distribution agreement; debt repayment\n",
      "items_sold: infant milk formula; adult nutrition\n",
      "service_provided: NA\n",
      "business_relations: AZ Global\n"
     ]
    },
    {
     "name": "stderr",
     "output_type": "stream",
     "text": [
      "\r",
      "Generating responses:  17%|█▋        | 174/1000 [12:20<57:35,  4.18s/it]"
     ]
    },
    {
     "name": "stdout",
     "output_type": "stream",
     "text": [
      "org: Dell\n",
      "country: NA\n",
      "state: NA\n",
      "city: NA\n",
      "industry: Technology\n",
      "risks: Cautious IT spending; Uncertain economic outlook; Inventory pile-up\n",
      "items_sold: PCs, servers, storage devices, networking hardware\n",
      "service_provided: NA\n",
      "business_relations: HP Inc; Lenovo Group\n"
     ]
    },
    {
     "name": "stderr",
     "output_type": "stream",
     "text": [
      "\r",
      "Generating responses:  18%|█▊        | 175/1000 [12:25<1:02:42,  4.56s/it]"
     ]
    },
    {
     "name": "stdout",
     "output_type": "stream",
     "text": [
      "org: Performance Floors & Coating\n",
      "country: United States\n",
      "state: Florida\n",
      "city: Tampa\n",
      "industry: commercial coatings\n",
      "risks: NA\n",
      "items_sold: commercial coatings\n",
      "service_provided: installation of commercial coatings on floors, countertops, walls, and decks\n",
      "business_relations: NA\n"
     ]
    },
    {
     "name": "stderr",
     "output_type": "stream",
     "text": [
      "\r",
      "Generating responses:  18%|█▊        | 176/1000 [12:30<1:01:36,  4.49s/it]"
     ]
    },
    {
     "name": "stdout",
     "output_type": "stream",
     "text": [
      "org: Sky\n",
      "country: NA\n",
      "state: NA\n",
      "city: NA\n",
      "industry: Broadcasting and Telecommunications\n",
      "risks: NA\n",
      "items_sold: Sky packages (which may include Netflix)\n",
      "service_provided: Broadcasting and Telecommunications services\n",
      "business_relations: Netflix\n"
     ]
    },
    {
     "name": "stderr",
     "output_type": "stream",
     "text": [
      "\r",
      "Generating responses:  18%|█▊        | 177/1000 [12:34<1:00:17,  4.40s/it]"
     ]
    },
    {
     "name": "stdout",
     "output_type": "stream",
     "text": [
      "org: AVEVA\n",
      "country: NA\n",
      "state: NA\n",
      "city: NA\n",
      "industry: industrial software\n",
      "risks: NA\n",
      "items_sold: NA\n",
      "service_provided: Manufacturing Execution System\n",
      "business_relations: Danone, Henkel, Valmet Automotive, Barry Callebaut, and Borg Manufacturing.\n"
     ]
    },
    {
     "name": "stderr",
     "output_type": "stream",
     "text": [
      "\r",
      "Generating responses:  18%|█▊        | 178/1000 [12:38<59:52,  4.37s/it]  "
     ]
    },
    {
     "name": "stdout",
     "output_type": "stream",
     "text": [
      "org: Turkish Airlines\n",
      "country: NA\n",
      "state: NA\n",
      "city: NA\n",
      "industry: Airline\n",
      "risks: NA\n",
      "items_sold: NA\n",
      "service_provided: NA\n",
      "business_relations: NA\n"
     ]
    },
    {
     "name": "stderr",
     "output_type": "stream",
     "text": [
      "\r",
      "Generating responses:  18%|█▊        | 179/1000 [12:41<54:45,  4.00s/it]"
     ]
    },
    {
     "name": "stdout",
     "output_type": "stream",
     "text": [
      "org: Aergo\n",
      "country: N/A\n",
      "state: N/A\n",
      "city: N/A\n",
      "industry: Blockchain technology\n",
      "risks: N/A\n",
      "items_sold: N/A\n",
      "service_provided: Decentralized platform for building, deploying, and operating blockchain applications\n",
      "business_relations: Blocko (developer of Aergo)\n"
     ]
    },
    {
     "name": "stderr",
     "output_type": "stream",
     "text": [
      "\r",
      "Generating responses:  18%|█▊        | 180/1000 [12:46<57:32,  4.21s/it]"
     ]
    },
    {
     "name": "stdout",
     "output_type": "stream",
     "text": [
      "NA\n"
     ]
    },
    {
     "name": "stderr",
     "output_type": "stream",
     "text": [
      "\r",
      "Generating responses:  18%|█▊        | 181/1000 [12:48<48:17,  3.54s/it]"
     ]
    },
    {
     "name": "stdout",
     "output_type": "stream",
     "text": [
      "org: NA\n"
     ]
    },
    {
     "name": "stderr",
     "output_type": "stream",
     "text": [
      "\r",
      "Generating responses:  18%|█▊        | 182/1000 [12:49<39:37,  2.91s/it]"
     ]
    },
    {
     "name": "stdout",
     "output_type": "stream",
     "text": [
      "NA\n"
     ]
    },
    {
     "name": "stderr",
     "output_type": "stream",
     "text": [
      "\r",
      "Generating responses:  18%|█▊        | 183/1000 [12:52<37:02,  2.72s/it]"
     ]
    },
    {
     "name": "stdout",
     "output_type": "stream",
     "text": [
      "org: Persistence Market Research\n",
      "country: NA\n",
      "state: NA\n",
      "city: NA\n",
      "industry: market research\n",
      "risks: NA\n",
      "items_sold: NA\n",
      "service_provided: syndicated research, custom research, and consulting services\n",
      "business_relations: NA\n"
     ]
    },
    {
     "name": "stderr",
     "output_type": "stream",
     "text": [
      "\r",
      "Generating responses:  18%|█▊        | 184/1000 [12:55<40:32,  2.98s/it]"
     ]
    },
    {
     "name": "stdout",
     "output_type": "stream",
     "text": [
      "org: Canadian Tire\n",
      "country: Canada\n",
      "state: NA\n",
      "city: NA\n",
      "industry: Retail\n",
      "risks: Product recall\n",
      "items_sold: Automotive products, hardware, sports and leisure products, home products\n",
      "service_provided: Automotive service, financial services, home services\n",
      "business_relations: NA\n"
     ]
    },
    {
     "name": "stderr",
     "output_type": "stream",
     "text": [
      "\r",
      "Generating responses:  18%|█▊        | 185/1000 [13:00<46:29,  3.42s/it]"
     ]
    },
    {
     "name": "stdout",
     "output_type": "stream",
     "text": [
      "org: Lithium Energy\n",
      "country: NA\n",
      "state: Queensland\n",
      "city: NA\n",
      "industry: Battery anode material manufacturing\n",
      "risks: NA\n",
      "items_sold: Graphite-flake concentrate\n",
      "service_provided: NA\n",
      "business_relations: Wave International; Measured Group\n"
     ]
    },
    {
     "name": "stderr",
     "output_type": "stream",
     "text": [
      "\r",
      "Generating responses:  19%|█▊        | 186/1000 [13:04<51:11,  3.77s/it]"
     ]
    },
    {
     "name": "stdout",
     "output_type": "stream",
     "text": [
      "org: Apple and Goldman Sachs\n",
      "country: NA\n",
      "state: NA\n",
      "city: NA\n",
      "industry: Financial technology\n",
      "risks: Security measures; Delays in transfers\n",
      "items_sold: NA\n",
      "service_provided: High-yield savings account\n",
      "business_relations: NA\n"
     ]
    },
    {
     "name": "stderr",
     "output_type": "stream",
     "text": [
      "\r",
      "Generating responses:  19%|█▊        | 187/1000 [13:09<53:14,  3.93s/it]"
     ]
    },
    {
     "name": "stdout",
     "output_type": "stream",
     "text": [
      "NA\n"
     ]
    },
    {
     "name": "stderr",
     "output_type": "stream",
     "text": [
      "\r",
      "Generating responses:  19%|█▉        | 188/1000 [13:11<49:09,  3.63s/it]"
     ]
    },
    {
     "name": "stdout",
     "output_type": "stream",
     "text": [
      "org: NA\n"
     ]
    },
    {
     "name": "stderr",
     "output_type": "stream",
     "text": [
      "\r",
      "Generating responses:  19%|█▉        | 189/1000 [13:13<42:03,  3.11s/it]"
     ]
    },
    {
     "name": "stdout",
     "output_type": "stream",
     "text": [
      "org: NA\n"
     ]
    },
    {
     "name": "stderr",
     "output_type": "stream",
     "text": [
      "\r",
      "Generating responses:  19%|█▉        | 190/1000 [13:16<39:10,  2.90s/it]"
     ]
    },
    {
     "name": "stdout",
     "output_type": "stream",
     "text": [
      "org: Swiggy Instamart\n",
      "country: NA\n",
      "state: NA\n",
      "city: NA\n",
      "industry: Grocery delivery\n",
      "risks: NA\n",
      "items_sold: Milk; Curd; Ice cream; Buttermilk; Lassi; Paneer; Butter; A2 milk; Plant-based milk\n",
      "service_provided: Grocery delivery\n",
      "business_relations: NA\n"
     ]
    },
    {
     "name": "stderr",
     "output_type": "stream",
     "text": [
      "\r",
      "Generating responses:  19%|█▉        | 191/1000 [13:22<50:33,  3.75s/it]"
     ]
    },
    {
     "name": "stdout",
     "output_type": "stream",
     "text": [
      "org: Canadian Tire\n",
      "country: Canada\n",
      "state: NA\n",
      "city: NA\n",
      "industry: Retail\n",
      "risks: Product safety\n",
      "items_sold: Automotive, hardware, sports and leisure, and home products\n",
      "service_provided: Retail sales\n",
      "business_relations: NA\n"
     ]
    },
    {
     "name": "stderr",
     "output_type": "stream",
     "text": [
      "\r",
      "Generating responses:  19%|█▉        | 192/1000 [13:26<52:21,  3.89s/it]"
     ]
    },
    {
     "name": "stdout",
     "output_type": "stream",
     "text": [
      "org: NA\n"
     ]
    },
    {
     "name": "stderr",
     "output_type": "stream",
     "text": [
      "\r",
      "Generating responses:  19%|█▉        | 193/1000 [13:28<47:25,  3.53s/it]"
     ]
    },
    {
     "name": "stdout",
     "output_type": "stream",
     "text": [
      "org: NA\n"
     ]
    },
    {
     "name": "stderr",
     "output_type": "stream",
     "text": [
      "\r",
      "Generating responses:  19%|█▉        | 194/1000 [13:30<40:20,  3.00s/it]"
     ]
    },
    {
     "name": "stdout",
     "output_type": "stream",
     "text": [
      "org: MillerKnoll\n",
      "country: NA\n",
      "state: NA\n",
      "city: Zeeland\n",
      "industry: Furniture and Design\n",
      "risks: NA\n",
      "items_sold: Furniture and Design products\n",
      "service_provided: Design services\n",
      "business_relations: Herman Miller, Knoll, Colebrook Bosson Saunders, DatesWeiser, Design Within Reach, Edelman Leather, Geiger, HAY, Holly Hunt, KnollTextiles, Maars Living Walls, Maharam, Muuto, NaughtOne, and Spinneybeck|FilzFelt.\n"
     ]
    },
    {
     "name": "stderr",
     "output_type": "stream",
     "text": [
      "\r",
      "Generating responses:  20%|█▉        | 195/1000 [13:36<53:05,  3.96s/it]"
     ]
    },
    {
     "name": "stdout",
     "output_type": "stream",
     "text": [
      "org: ABGC\n",
      "country: NA\n",
      "state: NA\n",
      "city: NA\n",
      "industry: agriculture\n",
      "risks: NA\n",
      "items_sold: bananas\n",
      "service_provided: NA\n",
      "business_relations: NA\n"
     ]
    },
    {
     "name": "stderr",
     "output_type": "stream",
     "text": [
      "\r",
      "Generating responses:  20%|█▉        | 196/1000 [13:40<53:05,  3.96s/it]"
     ]
    },
    {
     "name": "stdout",
     "output_type": "stream",
     "text": [
      "org: Commercial Vehicle’s Safety Alliance (CVSA)\n",
      "country: NA\n",
      "state: NA\n",
      "city: NA\n",
      "industry: Transportation\n",
      "risks: Vehicle safety\n",
      "items_sold: NA\n",
      "service_provided: NA\n",
      "business_relations: NA\n"
     ]
    },
    {
     "name": "stderr",
     "output_type": "stream",
     "text": [
      "\r",
      "Generating responses:  20%|█▉        | 197/1000 [13:44<52:28,  3.92s/it]"
     ]
    },
    {
     "name": "stdout",
     "output_type": "stream",
     "text": [
      "org: PVH Corp.\n",
      "country: NA\n",
      "state: NA\n",
      "city: NA\n",
      "industry: Textile\n",
      "risks: NA\n",
      "items_sold: Dress shirts; Neckwear; Sportswear; Jeans wear; Intimate apparel; Swim products; Handbags; Footwear\n",
      "service_provided: Design and marketing of clothing and related products\n",
      "business_relations: NA\n"
     ]
    },
    {
     "name": "stderr",
     "output_type": "stream",
     "text": [
      "\r",
      "Generating responses:  20%|█▉        | 198/1000 [13:49<57:34,  4.31s/it]"
     ]
    },
    {
     "name": "stdout",
     "output_type": "stream",
     "text": [
      "org: Advance Auto Parts\n",
      "country: NA\n",
      "state: NA\n",
      "city: Raleigh\n",
      "industry: Automotive aftermarket products\n",
      "risks: NA\n",
      "items_sold: Aftermarket automotive products\n",
      "service_provided: Supply and distribution of automotive products\n",
      "business_relations: NA\n"
     ]
    },
    {
     "name": "stderr",
     "output_type": "stream",
     "text": [
      "\r",
      "Generating responses:  20%|█▉        | 199/1000 [13:54<1:00:10,  4.51s/it]"
     ]
    },
    {
     "name": "stdout",
     "output_type": "stream",
     "text": [
      "org: Dell Technologies Inc\n",
      "country: NA\n",
      "state: NA\n",
      "city: NA\n",
      "industry: Technology\n",
      "risks: Uncertain economic outlook; Cratering demand; Weak earnings\n",
      "items_sold: Laptops; Desktops; Servers; Storage devices; Networking hardware\n",
      "service_provided: NA\n",
      "business_relations: HP Inc; Lenovo Group\n"
     ]
    },
    {
     "name": "stderr",
     "output_type": "stream",
     "text": [
      "\r",
      "Generating responses:  20%|██        | 200/1000 [13:59<1:00:24,  4.53s/it]"
     ]
    },
    {
     "name": "stdout",
     "output_type": "stream",
     "text": [
      "org: PADINI\n",
      "country: Malaysia\n",
      "state: NA\n",
      "city: NA\n",
      "industry: Apparel and Footwear Retail\n",
      "risks: competition; inflation; rising textile prices\n",
      "items_sold: NA\n",
      "service_provided: NA\n",
      "business_relations: NA\n"
     ]
    },
    {
     "name": "stderr",
     "output_type": "stream",
     "text": [
      "\r",
      "Generating responses:  20%|██        | 201/1000 [14:02<55:47,  4.19s/it]  "
     ]
    },
    {
     "name": "stdout",
     "output_type": "stream",
     "text": [
      "org: NA\n"
     ]
    },
    {
     "name": "stderr",
     "output_type": "stream",
     "text": [
      "\r",
      "Generating responses:  20%|██        | 202/1000 [14:04<46:16,  3.48s/it]"
     ]
    },
    {
     "name": "stdout",
     "output_type": "stream",
     "text": [
      "org: Frax\n",
      "country: NA\n",
      "state: NA\n",
      "city: NA\n",
      "industry: Cryptocurrency\n",
      "risks: NA\n",
      "items_sold: Frax stablecoin (FRAX)\n",
      "service_provided: Scalability, decentralization, and on-chain transactions\n",
      "business_relations: NA\n"
     ]
    },
    {
     "name": "stderr",
     "output_type": "stream",
     "text": [
      "\r",
      "Generating responses:  20%|██        | 203/1000 [14:09<52:12,  3.93s/it]"
     ]
    },
    {
     "name": "stdout",
     "output_type": "stream",
     "text": [
      "org: Frax\n",
      "country: NA\n",
      "state: NA\n",
      "city: NA\n",
      "industry: Cryptocurrency\n",
      "risks: Volatility\n",
      "items_sold: NA\n",
      "service_provided: Stablecoin\n",
      "business_relations: Changelly, GDAX\n"
     ]
    },
    {
     "name": "stderr",
     "output_type": "stream",
     "text": [
      "\r",
      "Generating responses:  20%|██        | 204/1000 [14:13<53:07,  4.00s/it]"
     ]
    },
    {
     "name": "stdout",
     "output_type": "stream",
     "text": [
      "org: Microsoft\n",
      "country: NA\n",
      "state: NA\n",
      "city: NA\n",
      "industry: Technology\n",
      "risks: Skilling-up; Tight labour market\n",
      "items_sold: NA\n",
      "service_provided: NA\n",
      "business_relations: CareerTrackers; Adecco; Generation Australia\n"
     ]
    },
    {
     "name": "stderr",
     "output_type": "stream",
     "text": [
      "\r",
      "Generating responses:  20%|██        | 205/1000 [14:18<55:25,  4.18s/it]"
     ]
    },
    {
     "name": "stdout",
     "output_type": "stream",
     "text": [
      "org: Visa\n",
      "country: Philippines\n",
      "state: NA\n",
      "city: NA\n",
      "industry: Payment Services\n",
      "risks: NA\n",
      "items_sold: NA\n",
      "service_provided: NA\n",
      "business_relations: NA\n"
     ]
    },
    {
     "name": "stderr",
     "output_type": "stream",
     "text": [
      "\r",
      "Generating responses:  21%|██        | 206/1000 [14:21<51:15,  3.87s/it]"
     ]
    },
    {
     "name": "stdout",
     "output_type": "stream",
     "text": [
      "org: Canadian Tire\n",
      "country: Canada\n",
      "state: NA\n",
      "city: NA\n",
      "industry: Retail\n",
      "risks: Product recall\n",
      "items_sold: MotoMaster Chain Lube\n",
      "service_provided: NA\n",
      "business_relations: NA\n"
     ]
    },
    {
     "name": "stderr",
     "output_type": "stream",
     "text": [
      "\r",
      "Generating responses:  21%|██        | 207/1000 [14:24<48:55,  3.70s/it]"
     ]
    },
    {
     "name": "stdout",
     "output_type": "stream",
     "text": [
      "NA\n"
     ]
    },
    {
     "name": "stderr",
     "output_type": "stream",
     "text": [
      "\r",
      "Generating responses:  21%|██        | 208/1000 [14:26<41:27,  3.14s/it]"
     ]
    },
    {
     "name": "stdout",
     "output_type": "stream",
     "text": [
      "org: National Highway Traffic Safety Administration’s Office of Defects Investigation\n",
      "country: USA\n",
      "state: NA\n",
      "city: NA\n",
      "industry: Transportation\n",
      "risks: Slow investigations; Limited ability; Weaknesses in meeting goals\n",
      "items_sold: NA\n",
      "service_provided: NA\n",
      "business_relations: NA\n"
     ]
    },
    {
     "name": "stderr",
     "output_type": "stream",
     "text": [
      "\r",
      "Generating responses:  21%|██        | 209/1000 [14:31<48:47,  3.70s/it]"
     ]
    },
    {
     "name": "stdout",
     "output_type": "stream",
     "text": [
      "NA\n"
     ]
    },
    {
     "name": "stderr",
     "output_type": "stream",
     "text": [
      "\r",
      "Generating responses:  21%|██        | 210/1000 [14:32<38:54,  2.95s/it]"
     ]
    },
    {
     "name": "stdout",
     "output_type": "stream",
     "text": [
      "org: ON2IT\n",
      "country: NA\n",
      "state: Texas\n",
      "city: Plano\n",
      "industry: managed cybersecurity services\n",
      "risks: cyber threats; data breaches\n",
      "items_sold: NA\n",
      "service_provided: managed cybersecurity services\n",
      "business_relations: NA\n"
     ]
    },
    {
     "name": "stderr",
     "output_type": "stream",
     "text": [
      "\r",
      "Generating responses:  21%|██        | 211/1000 [14:36<42:11,  3.21s/it]"
     ]
    },
    {
     "name": "stdout",
     "output_type": "stream",
     "text": [
      "org: Canadian Tire\n",
      "country: Canada\n",
      "state: NA\n",
      "city: NA\n",
      "industry: Retail\n",
      "risks: Lack of child-resistant packaging\n",
      "items_sold: MotoMaster Chain Lube\n",
      "service_provided: NA\n",
      "business_relations: NA\n"
     ]
    },
    {
     "name": "stderr",
     "output_type": "stream",
     "text": [
      "\r",
      "Generating responses:  21%|██        | 212/1000 [14:40<45:36,  3.47s/it]"
     ]
    },
    {
     "name": "stdout",
     "output_type": "stream",
     "text": [
      "org: Markel Specialty\n",
      "country: NA\n",
      "state: NA\n",
      "city: NA\n",
      "industry: Insurance\n",
      "risks: NA\n",
      "items_sold: NA\n",
      "service_provided: NA\n",
      "business_relations: Markel Group Inc., Markel Specialty, Markel International, Markel Global Reinsurance, State National, Nephila\n"
     ]
    },
    {
     "name": "stderr",
     "output_type": "stream",
     "text": [
      "\r",
      "Generating responses:  21%|██▏       | 213/1000 [14:45<50:45,  3.87s/it]"
     ]
    },
    {
     "name": "stdout",
     "output_type": "stream",
     "text": [
      "org: Trulieve Cannabis Corp.\n",
      "country: United States\n",
      "state: Florida\n",
      "city: Tallahassee\n",
      "industry: Cannabis\n",
      "risks: NA\n",
      "items_sold: Cannabis products\n",
      "service_provided: Providing innovative, high-quality cannabis products across its brand portfolio\n",
      "business_relations: NA\n"
     ]
    },
    {
     "name": "stderr",
     "output_type": "stream",
     "text": [
      "\r",
      "Generating responses:  21%|██▏       | 214/1000 [14:49<51:45,  3.95s/it]"
     ]
    },
    {
     "name": "stdout",
     "output_type": "stream",
     "text": [
      "org: Horizons Optical\n",
      "country: Spain\n",
      "state: NA\n",
      "city: NA\n",
      "industry: Lens manufacturing\n",
      "risks: NA\n",
      "items_sold: Progressive lenses\n",
      "service_provided: NA\n",
      "business_relations: NA\n"
     ]
    },
    {
     "name": "stderr",
     "output_type": "stream",
     "text": [
      "\r",
      "Generating responses:  22%|██▏       | 215/1000 [14:53<50:28,  3.86s/it]"
     ]
    },
    {
     "name": "stdout",
     "output_type": "stream",
     "text": [
      "org: Ridgeline Roofers Columbia\n",
      "country: NA\n",
      "state: Maryland\n",
      "city: Columbia\n",
      "industry: Roofing\n",
      "risks: NA\n",
      "items_sold: Residential Roof Installation; Asphalt Shingle Roofing; Roof Inspections; Roof Repair; New Gutters and Downspouts; Commercial Roofing; Emergency Roof Repairs; Flat Roof Replacement; Skylight Roof Repair and Installation; Metal Roofs; Tile Roofs; Cedar Shake Roofs; Low Slope Standing Seam Metal Roofs\n",
      "service_provided: Roofing services; Emergency roof repairs; Skylight roof repair and installation\n",
      "business_relations: NA\n"
     ]
    },
    {
     "name": "stderr",
     "output_type": "stream",
     "text": [
      "\r",
      "Generating responses:  22%|██▏       | 216/1000 [15:00<1:01:11,  4.68s/it]"
     ]
    },
    {
     "name": "stdout",
     "output_type": "stream",
     "text": [
      "org: Invicta Stores\n",
      "country: United States\n",
      "state: Florida\n",
      "city: Davie\n",
      "industry: Watch retailing\n",
      "risks: Disputes with landlords; Debt restructuring\n",
      "items_sold: Watches\n",
      "service_provided: NA\n",
      "business_relations: Invicta Watch Company of America, National Football League, Disney\n"
     ]
    },
    {
     "name": "stderr",
     "output_type": "stream",
     "text": [
      "\r",
      "Generating responses:  22%|██▏       | 217/1000 [15:04<59:07,  4.53s/it]  "
     ]
    },
    {
     "name": "stdout",
     "output_type": "stream",
     "text": [
      "org: National Highway Traffic Safety Administration's Office of Defects Investigation\n",
      "country: NA\n",
      "state: NA\n",
      "city: NA\n",
      "industry: NA\n",
      "risks: slow investigation; limited ability; lack of integrated computer system; missed timeliness targets\n",
      "items_sold: NA\n",
      "service_provided: NA\n",
      "business_relations: NA\n"
     ]
    },
    {
     "name": "stderr",
     "output_type": "stream",
     "text": [
      "\r",
      "Generating responses:  22%|██▏       | 218/1000 [15:09<1:02:33,  4.80s/it]"
     ]
    },
    {
     "name": "stdout",
     "output_type": "stream",
     "text": [
      "org: Green Packet Bhd\n",
      "country: NA\n",
      "state: NA\n",
      "city: NA\n",
      "industry: NA\n",
      "risks: Bankruptcy\n",
      "items_sold: NA\n",
      "service_provided: NA\n",
      "business_relations: NA\n"
     ]
    },
    {
     "name": "stderr",
     "output_type": "stream",
     "text": [
      "\r",
      "Generating responses:  22%|██▏       | 219/1000 [15:13<58:11,  4.47s/it]  "
     ]
    },
    {
     "name": "stdout",
     "output_type": "stream",
     "text": [
      "org: Diamond Sports Group\n",
      "country: NA\n",
      "state: NA\n",
      "city: NA\n",
      "industry: Broadcasting\n",
      "risks: Bankruptcy\n",
      "items_sold: NA\n",
      "service_provided: NA\n",
      "business_relations: Major League Baseball\n"
     ]
    },
    {
     "name": "stderr",
     "output_type": "stream",
     "text": [
      "\r",
      "Generating responses:  22%|██▏       | 220/1000 [15:17<58:07,  4.47s/it]"
     ]
    },
    {
     "name": "stdout",
     "output_type": "stream",
     "text": [
      "org: Netflix Australia\n",
      "country: Australia\n",
      "state: NA\n",
      "city: NA\n",
      "industry: Streaming\n",
      "risks: NA\n",
      "items_sold: NA\n",
      "service_provided: Streaming service\n",
      "business_relations: NA\n"
     ]
    },
    {
     "name": "stderr",
     "output_type": "stream",
     "text": [
      "\r",
      "Generating responses:  22%|██▏       | 221/1000 [15:21<54:54,  4.23s/it]"
     ]
    },
    {
     "name": "stdout",
     "output_type": "stream",
     "text": [
      "org: National Highway Traffic Safety Administration's Office of Defects Investigation\n",
      "country: USA\n",
      "state: NA\n",
      "city: NA\n",
      "industry: Automotive safety\n",
      "risks: Slow investigations; Weaknesses in meeting goals; Lack of timeliness\n",
      "items_sold: NA\n",
      "service_provided: NA\n",
      "business_relations: NA\n"
     ]
    },
    {
     "name": "stderr",
     "output_type": "stream",
     "text": [
      "\r",
      "Generating responses:  22%|██▏       | 222/1000 [15:25<55:20,  4.27s/it]"
     ]
    },
    {
     "name": "stdout",
     "output_type": "stream",
     "text": [
      "org: Ward Plaza\n",
      "country: NA\n",
      "state: NA\n",
      "city: Winchester\n",
      "industry: Retail\n",
      "risks: Decline; Outdated facility; Poorly maintained\n",
      "items_sold: NA\n",
      "service_provided: NA\n",
      "business_relations: NA\n"
     ]
    },
    {
     "name": "stderr",
     "output_type": "stream",
     "text": [
      "\r",
      "Generating responses:  22%|██▏       | 223/1000 [15:29<52:09,  4.03s/it]"
     ]
    },
    {
     "name": "stdout",
     "output_type": "stream",
     "text": [
      "org: National Highway Traffic Safety Administration's Office of Defects Investigation\n",
      "country: USA\n",
      "state: NA\n",
      "city: NA\n",
      "industry: Automotive safety\n",
      "risks: Slow investigations; Lack of integrated computer system; Inconsistent procedures\n",
      "items_sold: NA\n",
      "service_provided: NA\n",
      "business_relations: NA\n"
     ]
    },
    {
     "name": "stderr",
     "output_type": "stream",
     "text": [
      "\r",
      "Generating responses:  22%|██▏       | 224/1000 [15:33<53:08,  4.11s/it]"
     ]
    },
    {
     "name": "stdout",
     "output_type": "stream",
     "text": [
      "org: Gallagher Re\n",
      "country: NA\n",
      "state: NA\n",
      "city: NA\n",
      "industry: reinsurance broker\n",
      "risks: attracting capital\n",
      "items_sold: NA\n",
      "service_provided: NA\n",
      "business_relations: NA\n"
     ]
    },
    {
     "name": "stderr",
     "output_type": "stream",
     "text": [
      "\r",
      "Generating responses:  22%|██▎       | 225/1000 [15:38<54:46,  4.24s/it]"
     ]
    },
    {
     "name": "stdout",
     "output_type": "stream",
     "text": [
      "org: NA\n"
     ]
    },
    {
     "name": "stderr",
     "output_type": "stream",
     "text": [
      "\r",
      "Generating responses:  23%|██▎       | 226/1000 [15:40<48:58,  3.80s/it]"
     ]
    },
    {
     "name": "stdout",
     "output_type": "stream",
     "text": [
      "org: National Highway Traffic Safety Administration's Office of Defects Investigation\n",
      "country: NA\n",
      "state: NA\n",
      "city: NA\n",
      "industry: NA\n",
      "risks: Limited investigations; Weaknesses in meeting goals; Lack of timeliness\n",
      "items_sold: NA\n",
      "service_provided: NA\n",
      "business_relations: NA\n"
     ]
    },
    {
     "name": "stderr",
     "output_type": "stream",
     "text": [
      "\r",
      "Generating responses:  23%|██▎       | 227/1000 [15:45<52:00,  4.04s/it]"
     ]
    },
    {
     "name": "stdout",
     "output_type": "stream",
     "text": [
      "org: Aegon N.V.\n",
      "country: NA\n",
      "state: NA\n",
      "city: NA\n",
      "industry: Insurance - Diversified\n",
      "risks: NA\n",
      "items_sold: NA\n",
      "service_provided: NA\n",
      "business_relations: NA\n"
     ]
    },
    {
     "name": "stderr",
     "output_type": "stream",
     "text": [
      "\r",
      "Generating responses:  23%|██▎       | 228/1000 [15:49<51:31,  4.01s/it]"
     ]
    },
    {
     "name": "stdout",
     "output_type": "stream",
     "text": [
      "org: National Highway Traffic Safety Administration's Office of Defects Investigation\n",
      "country: USA\n",
      "state: NA\n",
      "city: NA\n",
      "industry: Automotive safety\n",
      "risks: Slow investigations; Weaknesses in meeting goals; Lack of timeliness\n",
      "items_sold: NA\n",
      "service_provided: NA\n",
      "business_relations: NA\n"
     ]
    },
    {
     "name": "stderr",
     "output_type": "stream",
     "text": [
      "\r",
      "Generating responses:  23%|██▎       | 229/1000 [15:53<53:17,  4.15s/it]"
     ]
    },
    {
     "name": "stdout",
     "output_type": "stream",
     "text": [
      "org: Brick Buy Brick\n",
      "country: NA\n",
      "state: Washington\n",
      "city: Spokane\n",
      "industry: Retail\n",
      "risks: NA\n",
      "items_sold: new and used LEGO sets and pieces\n",
      "service_provided: birthday party hosting\n",
      "business_relations: SCORE (nonprofit that provides free business mentoring and workshops)\n"
     ]
    },
    {
     "name": "stderr",
     "output_type": "stream",
     "text": [
      "\r",
      "Generating responses:  23%|██▎       | 230/1000 [15:58<55:05,  4.29s/it]"
     ]
    },
    {
     "name": "stdout",
     "output_type": "stream",
     "text": [
      "org: U.S. Small Business Administration\n",
      "country: NA\n",
      "state: Texas\n",
      "city: NA\n",
      "industry: NA\n",
      "risks: Natural disaster\n",
      "items_sold: NA\n",
      "service_provided: Disaster loans\n",
      "business_relations: NA\n"
     ]
    },
    {
     "name": "stderr",
     "output_type": "stream",
     "text": [
      "\r",
      "Generating responses:  23%|██▎       | 231/1000 [16:02<51:55,  4.05s/it]"
     ]
    },
    {
     "name": "stdout",
     "output_type": "stream",
     "text": [
      "org: Brick Buy Brick\n",
      "country: NA\n",
      "state: NA\n",
      "city: Spokane\n",
      "industry: Retail\n",
      "risks: NA\n",
      "items_sold: New and used LEGO sets and pieces\n",
      "service_provided: Consignment program; Birthday party hosting\n",
      "business_relations: SCORE (nonprofit that provides free business mentoring and workshops)\n"
     ]
    },
    {
     "name": "stderr",
     "output_type": "stream",
     "text": [
      "\r",
      "Generating responses:  23%|██▎       | 232/1000 [16:06<52:41,  4.12s/it]"
     ]
    },
    {
     "name": "stdout",
     "output_type": "stream",
     "text": [
      "org: National Highway Traffic Safety Administration's Office of Defects Investigation\n",
      "country: NA\n",
      "state: NA\n",
      "city: NA\n",
      "industry: NA\n",
      "risks: Lack of timeliness; Inconsistent procedures; Failure to update public files\n",
      "items_sold: NA\n",
      "service_provided: NA\n",
      "business_relations: NA\n"
     ]
    },
    {
     "name": "stderr",
     "output_type": "stream",
     "text": [
      "\r",
      "Generating responses:  23%|██▎       | 233/1000 [16:10<54:11,  4.24s/it]"
     ]
    },
    {
     "name": "stdout",
     "output_type": "stream",
     "text": [
      "org: National Highway Traffic Safety Administration\n",
      "country: USA\n",
      "state: NA\n",
      "city: NA\n",
      "industry: Transportation\n",
      "risks: Slow defect investigation\n",
      "items_sold: NA\n",
      "service_provided: Road safety regulation\n",
      "business_relations: NA\n"
     ]
    },
    {
     "name": "stderr",
     "output_type": "stream",
     "text": [
      "\r",
      "Generating responses:  23%|██▎       | 234/1000 [16:15<55:40,  4.36s/it]"
     ]
    },
    {
     "name": "stdout",
     "output_type": "stream",
     "text": [
      "org: Salter Brothers\n",
      "country: Australia\n",
      "state: NA\n",
      "city: NA\n",
      "industry: Alternative assets\n",
      "risks: NA\n",
      "items_sold: NA\n",
      "service_provided: NA\n",
      "business_relations: Holds positions in the ASX medtech companies discussed in the article.\n"
     ]
    },
    {
     "name": "stderr",
     "output_type": "stream",
     "text": [
      "\r",
      "Generating responses:  24%|██▎       | 235/1000 [16:20<56:30,  4.43s/it]"
     ]
    },
    {
     "name": "stdout",
     "output_type": "stream",
     "text": [
      "org: The Wendy's Company\n",
      "country: NA\n",
      "state: NA\n",
      "city: NA\n",
      "industry: Restaurants\n",
      "risks: NA\n",
      "items_sold: NA\n",
      "service_provided: NA\n",
      "business_relations: NA\n"
     ]
    },
    {
     "name": "stderr",
     "output_type": "stream",
     "text": [
      "\r",
      "Generating responses:  24%|██▎       | 236/1000 [16:23<51:51,  4.07s/it]"
     ]
    },
    {
     "name": "stdout",
     "output_type": "stream",
     "text": [
      "org: Guidewire Software Inc.\n",
      "country: NA\n",
      "state: NA\n",
      "city: NA\n",
      "industry: insurance-industry software provider\n",
      "risks: NA\n",
      "items_sold: NA\n",
      "service_provided: NA\n",
      "business_relations: NA\n"
     ]
    },
    {
     "name": "stderr",
     "output_type": "stream",
     "text": [
      "\r",
      "Generating responses:  24%|██▎       | 237/1000 [16:27<51:21,  4.04s/it]"
     ]
    },
    {
     "name": "stdout",
     "output_type": "stream",
     "text": [
      "org: National Highway Traffic Safety Administration\n",
      "country: USA\n",
      "state: NA\n",
      "city: NA\n",
      "industry: Automotive safety\n",
      "risks: Slow defect investigation; Limited risk handling\n",
      "items_sold: NA\n",
      "service_provided: NA\n",
      "business_relations: NA\n"
     ]
    },
    {
     "name": "stderr",
     "output_type": "stream",
     "text": [
      "\r",
      "Generating responses:  24%|██▍       | 238/1000 [16:31<53:48,  4.24s/it]"
     ]
    },
    {
     "name": "stdout",
     "output_type": "stream",
     "text": [
      "org: NA\n"
     ]
    },
    {
     "name": "stderr",
     "output_type": "stream",
     "text": [
      "\r",
      "Generating responses:  24%|██▍       | 239/1000 [16:34<47:07,  3.72s/it]"
     ]
    },
    {
     "name": "stdout",
     "output_type": "stream",
     "text": [
      "NA\n"
     ]
    },
    {
     "name": "stderr",
     "output_type": "stream",
     "text": [
      "\r",
      "Generating responses:  24%|██▍       | 240/1000 [16:36<41:26,  3.27s/it]"
     ]
    },
    {
     "name": "stdout",
     "output_type": "stream",
     "text": [
      "org: NA\n"
     ]
    },
    {
     "name": "stderr",
     "output_type": "stream",
     "text": [
      "\r",
      "Generating responses:  24%|██▍       | 241/1000 [16:38<36:14,  2.86s/it]"
     ]
    },
    {
     "name": "stdout",
     "output_type": "stream",
     "text": [
      "org: NA\n"
     ]
    },
    {
     "name": "stderr",
     "output_type": "stream",
     "text": [
      "\r",
      "Generating responses:  24%|██▍       | 242/1000 [16:40<31:27,  2.49s/it]"
     ]
    },
    {
     "name": "stdout",
     "output_type": "stream",
     "text": [
      "org: U.S. agency\n",
      "    country: United States\n",
      "    state: NA\n",
      "    city: NA\n",
      "    industry: Transportation\n",
      "    risks: Slow investigation; Limited ability\n",
      "    items_sold: NA\n",
      "    service_provided: Automobile safety regulation\n",
      "    business_relations: NA\n"
     ]
    },
    {
     "name": "stderr",
     "output_type": "stream",
     "text": [
      "\r",
      "Generating responses:  24%|██▍       | 243/1000 [16:44<37:26,  2.97s/it]"
     ]
    },
    {
     "name": "stdout",
     "output_type": "stream",
     "text": [
      "org: Salter Brothers\n",
      "country: Australia\n",
      "state: NA\n",
      "city: NA\n",
      "industry: Alternative asset management\n",
      "risks: NA\n",
      "items_sold: NA\n",
      "service_provided: Concentrates on alternate assets including property and microcap listed companies, along with unlisted private equity\n",
      "business_relations: NA\n"
     ]
    },
    {
     "name": "stderr",
     "output_type": "stream",
     "text": [
      "\r",
      "Generating responses:  24%|██▍       | 244/1000 [16:48<43:07,  3.42s/it]"
     ]
    },
    {
     "name": "stdout",
     "output_type": "stream",
     "text": [
      "org: National Highway Traffic Safety Administration's Office of Defects Investigation\n",
      "country: USA\n",
      "state: NA\n",
      "city: NA\n",
      "industry: Automotive safety\n",
      "risks: Slow defect investigation; Limited ability; Inconsistent procedures\n",
      "items_sold: NA\n",
      "service_provided: NA\n",
      "business_relations: NA\n"
     ]
    },
    {
     "name": "stderr",
     "output_type": "stream",
     "text": [
      "\r",
      "Generating responses:  24%|██▍       | 245/1000 [16:53<48:34,  3.86s/it]"
     ]
    },
    {
     "name": "stdout",
     "output_type": "stream",
     "text": [
      "org: National Highway Traffic Safety Administration's Office of Defects Investigation\n",
      "country: USA\n",
      "state: NA\n",
      "city: NA\n",
      "industry: Automotive safety\n",
      "risks: Slow defect investigation; Limited ability; No integrated computer system; Inconsistent procedures\n",
      "items_sold: NA\n",
      "service_provided: NA\n",
      "business_relations: NA\n"
     ]
    },
    {
     "name": "stderr",
     "output_type": "stream",
     "text": [
      "\r",
      "Generating responses:  25%|██▍       | 246/1000 [16:58<51:56,  4.13s/it]"
     ]
    },
    {
     "name": "stdout",
     "output_type": "stream",
     "text": [
      "NA\n"
     ]
    },
    {
     "name": "stderr",
     "output_type": "stream",
     "text": [
      "\r",
      "Generating responses:  25%|██▍       | 247/1000 [17:00<42:58,  3.42s/it]"
     ]
    },
    {
     "name": "stdout",
     "output_type": "stream",
     "text": [
      "org: Salter Brothers\n",
      "country: Australia\n",
      "state: NA\n",
      "city: NA\n",
      "industry: Alternative asset management\n",
      "risks: NA\n",
      "items_sold: NA\n",
      "service_provided: Concentrates on alternate assets including property and microcap listed companies, along with unlisted private equity\n",
      "business_relations: NA\n"
     ]
    },
    {
     "name": "stderr",
     "output_type": "stream",
     "text": [
      "\r",
      "Generating responses:  25%|██▍       | 248/1000 [17:04<47:01,  3.75s/it]"
     ]
    },
    {
     "name": "stdout",
     "output_type": "stream",
     "text": [
      "org: National Highway Traffic Safety Administration's Office of Defects Investigation\n",
      "country: NA\n",
      "state: NA\n",
      "city: NA\n",
      "industry: NA\n",
      "risks: Limited investigation ability; Delayed investigations; Weaknesses in meeting goals\n",
      "items_sold: NA\n",
      "service_provided: NA\n",
      "business_relations: NA\n"
     ]
    },
    {
     "name": "stderr",
     "output_type": "stream",
     "text": [
      "\r",
      "Generating responses:  25%|██▍       | 249/1000 [17:09<50:24,  4.03s/it]"
     ]
    },
    {
     "name": "stdout",
     "output_type": "stream",
     "text": [
      "org: Repligen Corporation\n",
      "country: NA\n",
      "state: NA\n",
      "city: NA\n",
      "industry: Medical Instruments & Supplies\n",
      "risks: NA\n",
      "items_sold: NA\n",
      "service_provided: NA\n",
      "business_relations: NA\n"
     ]
    },
    {
     "name": "stderr",
     "output_type": "stream",
     "text": [
      "\r",
      "Generating responses:  25%|██▌       | 250/1000 [17:13<49:23,  3.95s/it]"
     ]
    },
    {
     "name": "stdout",
     "output_type": "stream",
     "text": [
      "org: Nomadix\n",
      "country: NA\n",
      "state: NA\n",
      "city: NA\n",
      "industry: Technology\n",
      "risks: NA\n",
      "items_sold: Internet gateways\n",
      "service_provided: Visitor Wi-Fi onboarding and management service\n",
      "business_relations: GlobalReach Technology (sister company)\n"
     ]
    },
    {
     "name": "stderr",
     "output_type": "stream",
     "text": [
      "\r",
      "Generating responses:  25%|██▌       | 251/1000 [17:17<51:27,  4.12s/it]"
     ]
    },
    {
     "name": "stdout",
     "output_type": "stream",
     "text": [
      "org: National Highway Traffic Safety Administration’s Office of Defects Investigation\n",
      "country: USA\n",
      "state: NA\n",
      "city: NA\n",
      "industry: Transportation\n",
      "risks: Slow investigations; Limited ability; Weaknesses in meeting goals\n",
      "items_sold: NA\n",
      "service_provided: NA\n",
      "business_relations: NA\n"
     ]
    },
    {
     "name": "stderr",
     "output_type": "stream",
     "text": [
      "\r",
      "Generating responses:  25%|██▌       | 252/1000 [17:22<53:00,  4.25s/it]"
     ]
    },
    {
     "name": "stdout",
     "output_type": "stream",
     "text": [
      "org: NA\n"
     ]
    },
    {
     "name": "stderr",
     "output_type": "stream",
     "text": [
      "\r",
      "Generating responses:  25%|██▌       | 253/1000 [17:24<44:37,  3.58s/it]"
     ]
    },
    {
     "name": "stdout",
     "output_type": "stream",
     "text": [
      "org: National Highway Traffic Safety Administration’s Office of Defects Investigation\n",
      "country: NA\n",
      "state: NA\n",
      "city: NA\n",
      "industry: NA\n",
      "risks: Slow investigations; Limited ability; Weaknesses in meeting goals\n",
      "items_sold: NA\n",
      "service_provided: NA\n",
      "business_relations: NA\n"
     ]
    },
    {
     "name": "stderr",
     "output_type": "stream",
     "text": [
      "\r",
      "Generating responses:  25%|██▌       | 254/1000 [17:28<47:12,  3.80s/it]"
     ]
    },
    {
     "name": "stdout",
     "output_type": "stream",
     "text": [
      "NA\n"
     ]
    },
    {
     "name": "stderr",
     "output_type": "stream",
     "text": [
      "\r",
      "Generating responses:  26%|██▌       | 255/1000 [17:30<41:31,  3.34s/it]"
     ]
    },
    {
     "name": "stdout",
     "output_type": "stream",
     "text": [
      "NA\n"
     ]
    },
    {
     "name": "stderr",
     "output_type": "stream",
     "text": [
      "\r",
      "Generating responses:  26%|██▌       | 256/1000 [17:32<35:36,  2.87s/it]"
     ]
    },
    {
     "name": "stdout",
     "output_type": "stream",
     "text": [
      "NA\n"
     ]
    },
    {
     "name": "stderr",
     "output_type": "stream",
     "text": [
      "\r",
      "Generating responses:  26%|██▌       | 257/1000 [17:34<32:04,  2.59s/it]"
     ]
    },
    {
     "name": "stdout",
     "output_type": "stream",
     "text": [
      "org: Macy's; Dollar General\n",
      "country: United States\n",
      "state: NA\n",
      "city: NA\n",
      "industry: Retail\n",
      "risks: High inflation; Weak demand trends; Challenging macroeconomic environment\n",
      "items_sold: Macy's - Seasonal merchandise; Dollar General - Discounted products\n",
      "service_provided: NA\n",
      "business_relations: NA\n"
     ]
    },
    {
     "name": "stderr",
     "output_type": "stream",
     "text": [
      "\r",
      "Generating responses:  26%|██▌       | 258/1000 [17:39<39:11,  3.17s/it]"
     ]
    },
    {
     "name": "stdout",
     "output_type": "stream",
     "text": [
      "org: Dell Technologies Inc\n",
      "country: NA\n",
      "state: NA\n",
      "city: NA\n",
      "industry: Technology\n",
      "risks: Cautious IT spending; Uncertain economic outlook; Pile-up in inventory\n",
      "items_sold: Personal computers, servers, storage devices, networking hardware\n",
      "service_provided: NA\n",
      "business_relations: NA\n"
     ]
    },
    {
     "name": "stderr",
     "output_type": "stream",
     "text": [
      "\r",
      "Generating responses:  26%|██▌       | 259/1000 [17:43<43:37,  3.53s/it]"
     ]
    },
    {
     "name": "stdout",
     "output_type": "stream",
     "text": [
      "NA\n"
     ]
    },
    {
     "name": "stderr",
     "output_type": "stream",
     "text": [
      "\r",
      "Generating responses:  26%|██▌       | 260/1000 [17:44<34:26,  2.79s/it]"
     ]
    },
    {
     "name": "stdout",
     "output_type": "stream",
     "text": [
      "org: Tilly's Inc.\n",
      "country: NA\n",
      "state: NA\n",
      "city: NA\n",
      "industry: Clothing and accessories retail\n",
      "risks: Rising prices impact; potential recession\n",
      "items_sold: NA\n",
      "service_provided: NA\n",
      "business_relations: NA\n"
     ]
    },
    {
     "name": "stderr",
     "output_type": "stream",
     "text": [
      "\r",
      "Generating responses:  26%|██▌       | 261/1000 [17:48<36:59,  3.00s/it]"
     ]
    },
    {
     "name": "stdout",
     "output_type": "stream",
     "text": [
      "NA\n"
     ]
    },
    {
     "name": "stderr",
     "output_type": "stream",
     "text": [
      "\r",
      "Generating responses:  26%|██▌       | 262/1000 [17:49<33:05,  2.69s/it]"
     ]
    },
    {
     "name": "stdout",
     "output_type": "stream",
     "text": [
      "org: NA\n"
     ]
    },
    {
     "name": "stderr",
     "output_type": "stream",
     "text": [
      "\r",
      "Generating responses:  26%|██▋       | 263/1000 [17:51<28:22,  2.31s/it]"
     ]
    },
    {
     "name": "stdout",
     "output_type": "stream",
     "text": [
      "org: ARC Automotive\n",
      "country: NA\n",
      "state: NA\n",
      "city: NA\n",
      "industry: Automotive\n",
      "risks: Exploding airbags\n",
      "items_sold: Automotive airbag inflators\n",
      "service_provided: NA\n",
      "business_relations: NA\n"
     ]
    },
    {
     "name": "stderr",
     "output_type": "stream",
     "text": [
      "\r",
      "Generating responses:  26%|██▋       | 264/1000 [17:55<36:03,  2.94s/it]"
     ]
    },
    {
     "name": "stdout",
     "output_type": "stream",
     "text": [
      "org: Purepoint Uranium Group\n",
      "country: NA\n",
      "state: Saskatchewan\n",
      "city: Athabasca basin\n",
      "industry: Uranium exploration\n",
      "risks: Regulatory; Market volatility; Environmental\n",
      "items_sold: NA\n",
      "service_provided: Uranium exploration\n",
      "business_relations: NA\n"
     ]
    },
    {
     "name": "stderr",
     "output_type": "stream",
     "text": [
      "\r",
      "Generating responses:  26%|██▋       | 265/1000 [18:00<40:54,  3.34s/it]"
     ]
    },
    {
     "name": "stdout",
     "output_type": "stream",
     "text": [
      "org: Macy's; Dollar General\n",
      "country: United States\n",
      "state: NA\n",
      "city: NA\n",
      "industry: Retail\n",
      "risks: High inflation; Weak demand trends; Challenging macroeconomic environment; Near-term pressure; Sluggish consumer spending\n",
      "items_sold: NA\n",
      "service_provided: NA\n",
      "business_relations: NA\n"
     ]
    },
    {
     "name": "stderr",
     "output_type": "stream",
     "text": [
      "\r",
      "Generating responses:  27%|██▋       | 266/1000 [18:05<47:10,  3.86s/it]"
     ]
    },
    {
     "name": "stdout",
     "output_type": "stream",
     "text": [
      "org: General Dynamics\n",
      "country: USA\n",
      "state: NA\n",
      "city: NA\n",
      "industry: Defense\n",
      "risks: NA\n",
      "items_sold: NA\n",
      "service_provided: NA\n",
      "business_relations: U.S. Army\n"
     ]
    },
    {
     "name": "stderr",
     "output_type": "stream",
     "text": [
      "\r",
      "Generating responses:  27%|██▋       | 267/1000 [18:08<44:11,  3.62s/it]"
     ]
    },
    {
     "name": "stdout",
     "output_type": "stream",
     "text": [
      "org: Lululemon\n",
      "country: NA\n",
      "state: NA\n",
      "city: NA\n",
      "industry: athletics apparel retail\n",
      "risks: NA\n",
      "items_sold: NA\n",
      "service_provided: NA\n",
      "business_relations: NA\n"
     ]
    },
    {
     "name": "stderr",
     "output_type": "stream",
     "text": [
      "\r",
      "Generating responses:  27%|██▋       | 268/1000 [18:12<46:25,  3.81s/it]"
     ]
    },
    {
     "name": "stdout",
     "output_type": "stream",
     "text": [
      "org: Macy's; Dollar General\n",
      "country: United States\n",
      "state: NA\n",
      "city: NA\n",
      "industry: Retail\n",
      "risks: High inflation; Sluggish consumer spending; Downgraded outlooks\n",
      "items_sold: Macy's: Seasonal merchandise; Dollar General: Discounted items\n",
      "service_provided: NA\n",
      "business_relations: NA\n"
     ]
    },
    {
     "name": "stderr",
     "output_type": "stream",
     "text": [
      "\r",
      "Generating responses:  27%|██▋       | 269/1000 [18:17<50:36,  4.15s/it]"
     ]
    },
    {
     "name": "stdout",
     "output_type": "stream",
     "text": [
      "org: Dollar General\n",
      "country: NA\n",
      "state: Tennessee\n",
      "city: Goodlettsville\n",
      "industry: Retail\n",
      "risks: mounting consumer pressure; reduction in SNAP benefits; challenging macroeconomic environment\n",
      "items_sold: NA\n",
      "service_provided: NA\n",
      "business_relations: NA\n"
     ]
    },
    {
     "name": "stderr",
     "output_type": "stream",
     "text": [
      "\r",
      "Generating responses:  27%|██▋       | 270/1000 [18:21<49:17,  4.05s/it]"
     ]
    },
    {
     "name": "stdout",
     "output_type": "stream",
     "text": [
      "org: Target\n",
      "country: NA\n",
      "state: NA\n",
      "city: NA\n",
      "industry: Retail\n",
      "risks: Sales decline; Boycott; Alienating core customers\n",
      "items_sold: Clothing for children; Women's swimwear; Onesies; Children's books; T-shirts\n",
      "service_provided: NA\n",
      "business_relations: NA\n"
     ]
    },
    {
     "name": "stderr",
     "output_type": "stream",
     "text": [
      "\r",
      "Generating responses:  27%|██▋       | 271/1000 [18:25<51:09,  4.21s/it]"
     ]
    },
    {
     "name": "stdout",
     "output_type": "stream",
     "text": [
      "org: Macy's; Dollar General\n",
      "country: United States\n",
      "state: NA\n",
      "city: NA\n",
      "industry: Retail\n",
      "risks: high inflation; sluggish consumer spending; downgraded outlooks\n",
      "items_sold: NA\n",
      "service_provided: NA\n",
      "business_relations: NA\n"
     ]
    },
    {
     "name": "stderr",
     "output_type": "stream",
     "text": [
      "\r",
      "Generating responses:  27%|██▋       | 272/1000 [18:30<52:02,  4.29s/it]"
     ]
    },
    {
     "name": "stdout",
     "output_type": "stream",
     "text": [
      "org: NA\n"
     ]
    },
    {
     "name": "stderr",
     "output_type": "stream",
     "text": [
      "\r",
      "Generating responses:  27%|██▋       | 273/1000 [18:32<44:18,  3.66s/it]"
     ]
    },
    {
     "name": "stdout",
     "output_type": "stream",
     "text": [
      "org: ACAMS\n",
      "country: NA\n",
      "state: NA\n",
      "city: Sydney\n",
      "industry: Anti-financial crime (AFC) education\n",
      "risks: Illicit finance; Sanctions evasion; Criminal methodologies\n",
      "items_sold: NA\n",
      "service_provided: AFC education, best practices, and peer-to-peer networking to AFC professionals globally\n",
      "business_relations: Asia/Pacific Group on Money Laundering (APG), Australian Transaction Reports and Analysis Centre (AUSTRAC), Australian Attorney-General's Department, Australian Federal Police, Crown Resorts, Star Entertainment Group, Westpac Group, Commonwealth Bank, ANZ Bank, National Australia Bank (NAB), ASB Bank, Mastercard, American Express, World Wide Fund for Nature (WWF)\n"
     ]
    },
    {
     "name": "stderr",
     "output_type": "stream",
     "text": [
      "\r",
      "Generating responses:  27%|██▋       | 274/1000 [18:41<1:04:42,  5.35s/it]"
     ]
    },
    {
     "name": "stdout",
     "output_type": "stream",
     "text": [
      "org: Automation Anywhere\n",
      "country: NA\n",
      "state: California\n",
      "city: San Jose\n",
      "industry: Cloud-native intelligent automation\n",
      "risks: NA\n",
      "items_sold: NA\n",
      "service_provided: Intelligent automation services\n",
      "business_relations: Amazon Web Services (AWS)\n"
     ]
    },
    {
     "name": "stderr",
     "output_type": "stream",
     "text": [
      "\r",
      "Generating responses:  28%|██▊       | 275/1000 [18:45<58:31,  4.84s/it]  "
     ]
    },
    {
     "name": "stdout",
     "output_type": "stream",
     "text": [
      "org: B.A.D. Etf\n",
      "country: NA\n",
      "state: NA\n",
      "city: NA\n",
      "industry: Exchange-traded fund\n",
      "risks: NA\n",
      "items_sold: NA\n",
      "service_provided: NA\n",
      "business_relations: The BAD Investment Company\n"
     ]
    },
    {
     "name": "stderr",
     "output_type": "stream",
     "text": [
      "\r",
      "Generating responses:  28%|██▊       | 276/1000 [18:49<56:13,  4.66s/it]"
     ]
    },
    {
     "name": "stdout",
     "output_type": "stream",
     "text": [
      "org: Macy's; Dollar General\n",
      "country: United States\n",
      "state: NA\n",
      "city: NA\n",
      "industry: Retail\n",
      "risks: high inflation; sluggish consumer spending; downgraded outlooks\n",
      "items_sold: NA\n",
      "service_provided: NA\n",
      "business_relations: NA\n"
     ]
    },
    {
     "name": "stderr",
     "output_type": "stream",
     "text": [
      "\r",
      "Generating responses:  28%|██▊       | 277/1000 [18:53<54:14,  4.50s/it]"
     ]
    },
    {
     "name": "stdout",
     "output_type": "stream",
     "text": [
      "org: Q2 Holdings Inc.\n",
      "country: NA\n",
      "state: NA\n",
      "city: NA\n",
      "industry: Software - Application\n",
      "risks: NA\n",
      "items_sold: NA\n",
      "service_provided: NA\n",
      "business_relations: NA\n"
     ]
    },
    {
     "name": "stderr",
     "output_type": "stream",
     "text": [
      "\r",
      "Generating responses:  28%|██▊       | 278/1000 [18:57<51:02,  4.24s/it]"
     ]
    },
    {
     "name": "stdout",
     "output_type": "stream",
     "text": [
      "org: New Jersey Department of the Treasury\n",
      "country: NA\n",
      "state: New Jersey\n",
      "city: NA\n",
      "industry: Government\n",
      "risks: NA\n",
      "items_sold: NA\n",
      "service_provided: NA\n",
      "business_relations: NA\n"
     ]
    },
    {
     "name": "stderr",
     "output_type": "stream",
     "text": [
      "\r",
      "Generating responses:  28%|██▊       | 279/1000 [19:02<52:15,  4.35s/it]"
     ]
    },
    {
     "name": "stdout",
     "output_type": "stream",
     "text": [
      "org: Ontario Securities Commission\n",
      "country: NA\n",
      "state: Ontario\n",
      "city: Toronto\n",
      "industry: Securities regulation\n",
      "risks: NA\n",
      "items_sold: NA\n",
      "service_provided: NA\n",
      "business_relations: NA\n"
     ]
    },
    {
     "name": "stderr",
     "output_type": "stream",
     "text": [
      "\r",
      "Generating responses:  28%|██▊       | 280/1000 [19:05<49:10,  4.10s/it]"
     ]
    },
    {
     "name": "stdout",
     "output_type": "stream",
     "text": [
      "org: CURO Group Holdings Corp.\n",
      "country: NA\n",
      "state: NA\n",
      "city: NA\n",
      "industry: Financial sector/Credit Services industry\n",
      "risks: Volatility; low sales growth; negative EPS; low income per employee\n",
      "items_sold: NA\n",
      "service_provided: NA\n",
      "business_relations: NA\n"
     ]
    },
    {
     "name": "stderr",
     "output_type": "stream",
     "text": [
      "\r",
      "Generating responses:  28%|██▊       | 281/1000 [19:09<49:52,  4.16s/it]"
     ]
    },
    {
     "name": "stdout",
     "output_type": "stream",
     "text": [
      "org: Dollar General\n",
      "country: NA\n",
      "state: NA\n",
      "city: NA\n",
      "industry: Retail\n",
      "risks: Financial strain; Reduced benefits; Smaller-than-expected tax refunds\n",
      "items_sold: NA\n",
      "service_provided: NA\n",
      "business_relations: NA\n"
     ]
    },
    {
     "name": "stderr",
     "output_type": "stream",
     "text": [
      "\r",
      "Generating responses:  28%|██▊       | 282/1000 [19:14<50:09,  4.19s/it]"
     ]
    },
    {
     "name": "stdout",
     "output_type": "stream",
     "text": [
      "NA\n"
     ]
    },
    {
     "name": "stderr",
     "output_type": "stream",
     "text": [
      "\r",
      "Generating responses:  28%|██▊       | 283/1000 [19:15<40:05,  3.36s/it]"
     ]
    },
    {
     "name": "stdout",
     "output_type": "stream",
     "text": [
      "org: TOTALogistix\n",
      "country: United States\n",
      "state: New Jersey\n",
      "city: Sparta\n",
      "industry: Supply Chain\n",
      "risks: NA\n",
      "items_sold: NA\n",
      "service_provided: Supply chain technology solutions\n",
      "business_relations: Aptean\n"
     ]
    },
    {
     "name": "stderr",
     "output_type": "stream",
     "text": [
      "\r",
      "Generating responses:  28%|██▊       | 284/1000 [19:19<42:25,  3.55s/it]"
     ]
    },
    {
     "name": "stdout",
     "output_type": "stream",
     "text": [
      "NA\n"
     ]
    },
    {
     "name": "stderr",
     "output_type": "stream",
     "text": [
      "\r",
      "Generating responses:  28%|██▊       | 285/1000 [19:21<35:49,  3.01s/it]"
     ]
    },
    {
     "name": "stdout",
     "output_type": "stream",
     "text": [
      "org: Salesforce\n",
      "country: NA\n",
      "state: NA\n",
      "city: NA\n",
      "industry: Cloud software\n",
      "risks: macroeconomic pressures\n",
      "items_sold: NA\n",
      "service_provided: NA\n",
      "business_relations: Amazon; Microsoft; Google\n"
     ]
    },
    {
     "name": "stderr",
     "output_type": "stream",
     "text": [
      "\r",
      "Generating responses:  29%|██▊       | 286/1000 [19:25<39:24,  3.31s/it]"
     ]
    },
    {
     "name": "stdout",
     "output_type": "stream",
     "text": [
      "org: Vuori\n",
      "country: United States\n",
      "state: California\n",
      "city: Encinitas\n",
      "industry: Athletic clothing\n",
      "risks: Financial risk; Market competition\n",
      "items_sold: Men's fitness apparel\n",
      "service_provided: NA\n",
      "business_relations: Nordstrom JWN, REI, Equinox, Selfridges, and Harrods.\n"
     ]
    },
    {
     "name": "stderr",
     "output_type": "stream",
     "text": [
      "\r",
      "Generating responses:  29%|██▊       | 287/1000 [19:30<45:40,  3.84s/it]"
     ]
    },
    {
     "name": "stdout",
     "output_type": "stream",
     "text": [
      "org: NA\n"
     ]
    },
    {
     "name": "stderr",
     "output_type": "stream",
     "text": [
      "\r",
      "Generating responses:  29%|██▉       | 288/1000 [19:32<38:50,  3.27s/it]"
     ]
    },
    {
     "name": "stdout",
     "output_type": "stream",
     "text": [
      "NA\n"
     ]
    },
    {
     "name": "stderr",
     "output_type": "stream",
     "text": [
      "\r",
      "Generating responses:  29%|██▉       | 289/1000 [19:34<34:10,  2.88s/it]"
     ]
    },
    {
     "name": "stdout",
     "output_type": "stream",
     "text": [
      "org: Amazon\n",
      "country: NA\n",
      "state: NA\n",
      "city: NA\n",
      "industry: Technology\n",
      "risks: privacy breach; legal action\n",
      "items_sold: NA\n",
      "service_provided: Voice assistant\n",
      "business_relations: NA\n"
     ]
    },
    {
     "name": "stderr",
     "output_type": "stream",
     "text": [
      "\r",
      "Generating responses:  29%|██▉       | 290/1000 [19:38<38:17,  3.24s/it]"
     ]
    },
    {
     "name": "stdout",
     "output_type": "stream",
     "text": [
      "org: Builders FirstSource, Inc.\n",
      "country: NA\n",
      "state: Texas\n",
      "city: Dallas\n",
      "industry: Building products\n",
      "risks: Weaker housing market; Commodity deflation\n",
      "items_sold: Building products; Prefabricated components\n",
      "service_provided: Value-added services\n",
      "business_relations: NA\n"
     ]
    },
    {
     "name": "stderr",
     "output_type": "stream",
     "text": [
      "\r",
      "Generating responses:  29%|██▉       | 291/1000 [19:42<41:54,  3.55s/it]"
     ]
    },
    {
     "name": "stdout",
     "output_type": "stream",
     "text": [
      "org: Diageo\n",
      "country: NA\n",
      "state: NA\n",
      "city: NA\n",
      "industry: alcohol\n",
      "risks: discriminatory practices; breach of contract; neglect\n",
      "items_sold: Ciroc vodka; DeLeon tequila\n",
      "service_provided: NA\n",
      "business_relations: Casamigos; Aviation Gin\n"
     ]
    },
    {
     "name": "stderr",
     "output_type": "stream",
     "text": [
      "\r",
      "Generating responses:  29%|██▉       | 292/1000 [19:47<46:34,  3.95s/it]"
     ]
    },
    {
     "name": "stdout",
     "output_type": "stream",
     "text": [
      "org: Wegmans\n",
      "country: NA\n",
      "state: Massachusetts\n",
      "city: Natick\n",
      "industry: Grocery store\n",
      "risks: Lack of shoppers\n",
      "items_sold: NA\n",
      "service_provided: NA\n",
      "business_relations: NA\n"
     ]
    },
    {
     "name": "stderr",
     "output_type": "stream",
     "text": [
      "\r",
      "Generating responses:  29%|██▉       | 293/1000 [19:51<45:49,  3.89s/it]"
     ]
    },
    {
     "name": "stdout",
     "output_type": "stream",
     "text": [
      "org: Macy's; Dollar General\n",
      "country: United States\n",
      "state: NA\n",
      "city: NA\n",
      "industry: Retail\n",
      "risks: High inflation; Sluggish consumer spending; Downgraded outlooks\n",
      "items_sold: Macy's: NA; Dollar General: Discounted merchandise, household essentials, groceries, and beauty products\n",
      "service_provided: Macy's: NA; Dollar General: Discount retail stores\n",
      "business_relations: NA\n"
     ]
    },
    {
     "name": "stderr",
     "output_type": "stream",
     "text": [
      "\r",
      "Generating responses:  29%|██▉       | 294/1000 [19:56<51:21,  4.36s/it]"
     ]
    },
    {
     "name": "stdout",
     "output_type": "stream",
     "text": [
      "org: Dollar General\n",
      "country: NA\n",
      "state: NA\n",
      "city: Goodlettsville\n",
      "industry: Retail\n",
      "risks: Competition; Economic slowdown\n",
      "items_sold: Discounted products\n",
      "service_provided: Discount retail\n",
      "business_relations: NA\n"
     ]
    },
    {
     "name": "stderr",
     "output_type": "stream",
     "text": [
      "\r",
      "Generating responses:  30%|██▉       | 295/1000 [20:00<50:42,  4.32s/it]"
     ]
    },
    {
     "name": "stdout",
     "output_type": "stream",
     "text": [
      "org: Waste Management, Inc.\n",
      "country: NA\n",
      "state: NA\n",
      "city: NA\n",
      "industry: waste management environmental services\n",
      "risks: NA\n",
      "items_sold: NA\n",
      "service_provided: waste management environmental services\n",
      "business_relations: Acadian Asset Management LLC; Blair William & Co. IL; Baird Financial Group Inc.; Covestor Ltd; NewEdge Advisors LLC\n"
     ]
    },
    {
     "name": "stderr",
     "output_type": "stream",
     "text": [
      "\r",
      "Generating responses:  30%|██▉       | 296/1000 [20:05<51:56,  4.43s/it]"
     ]
    },
    {
     "name": "stdout",
     "output_type": "stream",
     "text": [
      "NA\n"
     ]
    },
    {
     "name": "stderr",
     "output_type": "stream",
     "text": [
      "\r",
      "Generating responses:  30%|██▉       | 297/1000 [20:07<41:26,  3.54s/it]"
     ]
    },
    {
     "name": "stdout",
     "output_type": "stream",
     "text": [
      "org: ARC Automotive\n",
      "country: NA\n",
      "state: NA\n",
      "city: NA\n",
      "industry: Automotive\n",
      "risks: Exploding inflators\n",
      "items_sold: Automotive inflators\n",
      "service_provided: NA\n",
      "business_relations: NA\n"
     ]
    },
    {
     "name": "stderr",
     "output_type": "stream",
     "text": [
      "\r",
      "Generating responses:  30%|██▉       | 298/1000 [20:10<42:02,  3.59s/it]"
     ]
    },
    {
     "name": "stdout",
     "output_type": "stream",
     "text": [
      "org: Tupperware\n",
      "country: USA\n",
      "state: Florida\n",
      "city: Orlando\n",
      "industry: Kitchen storage\n",
      "risks: Changing consumer preferences; Competition; Dependence on direct selling\n",
      "items_sold: Food storage containers; Kitchen preparation tools; Cookware\n",
      "service_provided: Direct selling\n",
      "business_relations: NA\n"
     ]
    },
    {
     "name": "stderr",
     "output_type": "stream",
     "text": [
      "\r",
      "Generating responses:  30%|██▉       | 299/1000 [20:15<44:52,  3.84s/it]"
     ]
    },
    {
     "name": "stdout",
     "output_type": "stream",
     "text": [
      "org: ARC Automotive Inc.\n",
      "country: United States\n",
      "state: Tennessee\n",
      "city: Knoxville\n",
      "industry: Automotive\n",
      "risks: Exploding inflators; Safety defects\n",
      "items_sold: Air bag inflators\n",
      "service_provided: NA\n",
      "business_relations: NA\n"
     ]
    },
    {
     "name": "stderr",
     "output_type": "stream",
     "text": [
      "\r",
      "Generating responses:  30%|███       | 300/1000 [20:19<47:24,  4.06s/it]"
     ]
    },
    {
     "name": "stdout",
     "output_type": "stream",
     "text": [
      "org: ARC Automotive Inc.\n",
      "country: USA\n",
      "state: Tennessee\n",
      "city: Knoxville\n",
      "industry: Automotive manufacturing\n",
      "risks: Exploding inflators; Shrapnel hazards\n",
      "items_sold: Not mentioned\n",
      "service_provided: Not mentioned\n",
      "business_relations: Not mentioned\n"
     ]
    },
    {
     "name": "stderr",
     "output_type": "stream",
     "text": [
      "\r",
      "Generating responses:  30%|███       | 301/1000 [20:23<47:01,  4.04s/it]"
     ]
    },
    {
     "name": "stdout",
     "output_type": "stream",
     "text": [
      "org: SentinelOne\n",
      "country: USA\n",
      "state: California\n",
      "city: Mountain View\n",
      "industry: Cybersecurity\n",
      "risks: Cyber attacks; Competition; Data breaches\n",
      "items_sold: NA\n",
      "service_provided: Cybersecurity solutions\n",
      "business_relations: NA\n"
     ]
    },
    {
     "name": "stderr",
     "output_type": "stream",
     "text": [
      "\r",
      "Generating responses:  30%|███       | 302/1000 [20:27<47:19,  4.07s/it]"
     ]
    },
    {
     "name": "stdout",
     "output_type": "stream",
     "text": [
      "org: Dollar General\n",
      "country: NA\n",
      "state: NA\n",
      "city: NA\n",
      "industry: Retail\n",
      "risks: Economic downturn; Competition; Supply chain disruptions\n",
      "items_sold: Household essentials; Groceries; Clothing; Seasonal items\n",
      "service_provided: NA\n",
      "business_relations: NA\n"
     ]
    },
    {
     "name": "stderr",
     "output_type": "stream",
     "text": [
      "\r",
      "Generating responses:  30%|███       | 303/1000 [20:32<48:02,  4.14s/it]"
     ]
    },
    {
     "name": "stdout",
     "output_type": "stream",
     "text": [
      "org: NA\n"
     ]
    },
    {
     "name": "stderr",
     "output_type": "stream",
     "text": [
      "\r",
      "Generating responses:  30%|███       | 304/1000 [20:34<41:44,  3.60s/it]"
     ]
    },
    {
     "name": "stdout",
     "output_type": "stream",
     "text": [
      "org: NA\n"
     ]
    },
    {
     "name": "stderr",
     "output_type": "stream",
     "text": [
      "\r",
      "Generating responses:  30%|███       | 305/1000 [20:36<34:30,  2.98s/it]"
     ]
    },
    {
     "name": "stdout",
     "output_type": "stream",
     "text": [
      "NA\n"
     ]
    },
    {
     "name": "stderr",
     "output_type": "stream",
     "text": [
      "\r",
      "Generating responses:  31%|███       | 306/1000 [20:37<29:29,  2.55s/it]"
     ]
    },
    {
     "name": "stdout",
     "output_type": "stream",
     "text": [
      "org: Efforce\n",
      "country: NA\n",
      "state: NA\n",
      "city: NA\n",
      "industry: cryptocurrency\n",
      "risks: NA\n",
      "items_sold: WOZX tokens\n",
      "service_provided: blockchain-based platform for funding energy-efficient projects\n",
      "business_relations: NA\n"
     ]
    },
    {
     "name": "stderr",
     "output_type": "stream",
     "text": [
      "\r",
      "Generating responses:  31%|███       | 307/1000 [20:41<34:13,  2.96s/it]"
     ]
    },
    {
     "name": "stdout",
     "output_type": "stream",
     "text": [
      "org: GraceKennedy Group\n",
      "country: Jamaica\n",
      "state: NA\n",
      "city: Kingston\n",
      "industry: Food and financial services conglomerate\n",
      "risks: Supply chain issues; Expenses\n",
      "items_sold: Drink crystals, cereals, and dry mixes for soups, canned vegetables, sauces, and beverages including Tropical Rhythms\n",
      "service_provided: Financial services\n",
      "business_relations: NA\n"
     ]
    },
    {
     "name": "stderr",
     "output_type": "stream",
     "text": [
      "\r",
      "Generating responses:  31%|███       | 308/1000 [20:45<39:05,  3.39s/it]"
     ]
    },
    {
     "name": "stdout",
     "output_type": "stream",
     "text": [
      "org: MillerKnoll\n",
      "country: NA\n",
      "state: Michigan\n",
      "city: Zeeland\n",
      "industry: NA\n",
      "risks: NA\n",
      "items_sold: NA\n",
      "service_provided: NA\n",
      "business_relations: Herman Miller, Knoll, Colebrook Bosson Saunders, DatesWeiser, Design Within Reach, Edelman Leather, Geiger, HAY, Holly Hunt, KnollTextiles, Maars Living Walls, Maharam, Muuto, NaughtOne, and Spinneybeck|FilzFelt.\n"
     ]
    },
    {
     "name": "stderr",
     "output_type": "stream",
     "text": [
      "\r",
      "Generating responses:  31%|███       | 309/1000 [20:51<46:44,  4.06s/it]"
     ]
    },
    {
     "name": "stdout",
     "output_type": "stream",
     "text": [
      "org: TOTALogistix\n",
      "country: United States\n",
      "state: New Jersey\n",
      "city: Sparta\n",
      "industry: Supply Chain Technology\n",
      "risks: NA\n",
      "items_sold: NA\n",
      "service_provided: Supply chain technology solutions\n",
      "business_relations: Aptean\n"
     ]
    },
    {
     "name": "stderr",
     "output_type": "stream",
     "text": [
      "\r",
      "Generating responses:  31%|███       | 310/1000 [20:58<57:50,  5.03s/it]"
     ]
    },
    {
     "name": "stdout",
     "output_type": "stream",
     "text": [
      "NA\n"
     ]
    },
    {
     "name": "stderr",
     "output_type": "stream",
     "text": [
      "\r",
      "Generating responses:  31%|███       | 311/1000 [21:00<47:45,  4.16s/it]"
     ]
    },
    {
     "name": "stdout",
     "output_type": "stream",
     "text": [
      "org: Liquid Intelligent Technologies\n",
      "country: NA\n",
      "state: NA\n",
      "city: NA\n",
      "industry: Technology\n",
      "risks: NA\n",
      "items_sold: NA\n",
      "service_provided: NA\n",
      "business_relations: INOVO\n"
     ]
    },
    {
     "name": "stderr",
     "output_type": "stream",
     "text": [
      "\r",
      "Generating responses:  31%|███       | 312/1000 [21:05<47:14,  4.12s/it]"
     ]
    },
    {
     "name": "stdout",
     "output_type": "stream",
     "text": [
      "org: NA\n"
     ]
    },
    {
     "name": "stderr",
     "output_type": "stream",
     "text": [
      "\r",
      "Generating responses:  31%|███▏      | 313/1000 [21:06<37:40,  3.29s/it]"
     ]
    },
    {
     "name": "stdout",
     "output_type": "stream",
     "text": [
      "org: Department of Economic Opportunity\n",
      "country: Florida\n",
      "state: NA\n",
      "city: NA\n",
      "industry: NA\n",
      "risks: NA\n",
      "items_sold: NA\n",
      "service_provided: NA\n",
      "business_relations: NA\n"
     ]
    },
    {
     "name": "stderr",
     "output_type": "stream",
     "text": [
      "\r",
      "Generating responses:  31%|███▏      | 314/1000 [21:10<40:20,  3.53s/it]"
     ]
    },
    {
     "name": "stdout",
     "output_type": "stream",
     "text": [
      "org: Bot Libre\n",
      "country: NA\n",
      "state: NA\n",
      "city: NA\n",
      "industry: Conversational AI\n",
      "risks: NA\n",
      "items_sold: NA\n",
      "service_provided: Conversational AI solutions\n",
      "business_relations: NA\n"
     ]
    },
    {
     "name": "stderr",
     "output_type": "stream",
     "text": [
      "\r",
      "Generating responses:  32%|███▏      | 315/1000 [21:13<39:37,  3.47s/it]"
     ]
    },
    {
     "name": "stdout",
     "output_type": "stream",
     "text": [
      "org: Mitsubishi UFJ Financial Group Inc.\n",
      "country: NA\n",
      "state: NA\n",
      "city: NA\n",
      "industry: Financial Services\n",
      "risks: NA\n",
      "items_sold: NA\n",
      "service_provided: NA\n",
      "business_relations: Aristotle Capital Management, LLC; Bank of America Corporation; Vanguard/Windsor II; Harbor Large Cap Value Fund\n"
     ]
    },
    {
     "name": "stderr",
     "output_type": "stream",
     "text": [
      "\r",
      "Generating responses:  32%|███▏      | 316/1000 [21:18<44:38,  3.92s/it]"
     ]
    },
    {
     "name": "stdout",
     "output_type": "stream",
     "text": [
      "org: Ovintiv Inc.\n",
      "country: NA\n",
      "state: NA\n",
      "city: NA\n",
      "industry: Energy Sector\n",
      "risks: NA\n",
      "items_sold: NA\n",
      "service_provided: NA\n",
      "business_relations: NA\n"
     ]
    },
    {
     "name": "stderr",
     "output_type": "stream",
     "text": [
      "\r",
      "Generating responses:  32%|███▏      | 317/1000 [21:22<45:14,  3.97s/it]"
     ]
    },
    {
     "name": "stdout",
     "output_type": "stream",
     "text": [
      "org: Bot Libre\n",
      "country: NA\n",
      "state: NA\n",
      "city: NA\n",
      "industry: conversational AI solutions\n",
      "risks: NA\n",
      "items_sold: NA\n",
      "service_provided: conversational AI solutions\n",
      "business_relations: NA\n"
     ]
    },
    {
     "name": "stderr",
     "output_type": "stream",
     "text": [
      "\r",
      "Generating responses:  32%|███▏      | 318/1000 [21:28<50:07,  4.41s/it]"
     ]
    },
    {
     "name": "stdout",
     "output_type": "stream",
     "text": [
      "org: Salter Brothers\n",
      "country: Australia\n",
      "state: NA\n",
      "city: NA\n",
      "industry: Alternative asset management\n",
      "risks: NA\n",
      "items_sold: NA\n",
      "service_provided: NA\n",
      "business_relations: Nova Eye Medical, NUH, MDR\n"
     ]
    },
    {
     "name": "stderr",
     "output_type": "stream",
     "text": [
      "\r",
      "Generating responses:  32%|███▏      | 319/1000 [21:31<47:26,  4.18s/it]"
     ]
    },
    {
     "name": "stdout",
     "output_type": "stream",
     "text": [
      "org: Dell\n",
      "country: NA\n",
      "state: NA\n",
      "city: NA\n",
      "industry: Technology\n",
      "risks: Uncertain economy; Inventory pile-ups\n",
      "items_sold: NA\n",
      "service_provided: NA\n",
      "business_relations: HP Inc; Lenovo Group\n"
     ]
    },
    {
     "name": "stderr",
     "output_type": "stream",
     "text": [
      "\r",
      "Generating responses:  32%|███▏      | 320/1000 [21:36<48:05,  4.24s/it]"
     ]
    },
    {
     "name": "stdout",
     "output_type": "stream",
     "text": [
      "NA\n"
     ]
    },
    {
     "name": "stderr",
     "output_type": "stream",
     "text": [
      "\r",
      "Generating responses:  32%|███▏      | 321/1000 [21:37<39:11,  3.46s/it]"
     ]
    },
    {
     "name": "stdout",
     "output_type": "stream",
     "text": [
      "org: Genuine Parts Company\n",
      "country: NA\n",
      "state: NA\n",
      "city: NA\n",
      "industry: Consumer Cyclical\n",
      "risks: NA\n",
      "items_sold: NA\n",
      "service_provided: NA\n",
      "business_relations: NA\n"
     ]
    },
    {
     "name": "stderr",
     "output_type": "stream",
     "text": [
      "\r",
      "Generating responses:  32%|███▏      | 322/1000 [21:42<44:05,  3.90s/it]"
     ]
    },
    {
     "name": "stdout",
     "output_type": "stream",
     "text": [
      "org: Siemens Digital Industries Software\n",
      "country: NA\n",
      "state: NA\n",
      "city: NA\n",
      "industry: Manufacturing Execution Systems (MES) software\n",
      "risks: NA\n",
      "items_sold: Opcenter™ Execution software\n",
      "service_provided: software, hardware and services for digital transformation\n",
      "business_relations: NA\n"
     ]
    },
    {
     "name": "stderr",
     "output_type": "stream",
     "text": [
      "\r",
      "Generating responses:  32%|███▏      | 323/1000 [21:47<46:08,  4.09s/it]"
     ]
    },
    {
     "name": "stdout",
     "output_type": "stream",
     "text": [
      "org: NA\n"
     ]
    },
    {
     "name": "stderr",
     "output_type": "stream",
     "text": [
      "\r",
      "Generating responses:  32%|███▏      | 324/1000 [21:49<39:03,  3.47s/it]"
     ]
    },
    {
     "name": "stdout",
     "output_type": "stream",
     "text": [
      "org: TOTALogistix\n",
      "country: USA\n",
      "state: New Jersey\n",
      "city: Sparta\n",
      "industry: Supply Chain Technology\n",
      "risks: NA\n",
      "items_sold: NA\n",
      "service_provided: Supply chain technology solutions\n",
      "business_relations: Aptean\n"
     ]
    },
    {
     "name": "stderr",
     "output_type": "stream",
     "text": [
      "\r",
      "Generating responses:  32%|███▎      | 325/1000 [21:52<39:22,  3.50s/it]"
     ]
    },
    {
     "name": "stdout",
     "output_type": "stream",
     "text": [
      "org: Waste Management, Inc.\n",
      "country: NA\n",
      "state: NA\n",
      "city: NA\n",
      "industry: waste management environmental services\n",
      "risks: NA\n",
      "items_sold: NA\n",
      "service_provided: waste management environmental services\n",
      "business_relations: NA\n"
     ]
    },
    {
     "name": "stderr",
     "output_type": "stream",
     "text": [
      "\r",
      "Generating responses:  33%|███▎      | 326/1000 [21:57<42:37,  3.80s/it]"
     ]
    },
    {
     "name": "stdout",
     "output_type": "stream",
     "text": [
      "org: Meta\n",
      "country: NA\n",
      "state: NA\n",
      "city: NA\n",
      "industry: Virtual Reality\n",
      "risks: NA\n",
      "items_sold: VR headsets\n",
      "service_provided: NA\n",
      "business_relations: NA\n"
     ]
    },
    {
     "name": "stderr",
     "output_type": "stream",
     "text": [
      "\r",
      "Generating responses:  33%|███▎      | 327/1000 [22:00<41:11,  3.67s/it]"
     ]
    },
    {
     "name": "stdout",
     "output_type": "stream",
     "text": [
      "org: Weibo Corporation\n",
      "country: NA\n",
      "state: NA\n",
      "city: NA\n",
      "industry: Internet Content & Information\n",
      "risks: NA\n",
      "items_sold: NA\n",
      "service_provided: NA\n",
      "business_relations: NA\n"
     ]
    },
    {
     "name": "stderr",
     "output_type": "stream",
     "text": [
      "\r",
      "Generating responses:  33%|███▎      | 328/1000 [22:05<44:30,  3.97s/it]"
     ]
    },
    {
     "name": "stdout",
     "output_type": "stream",
     "text": [
      "org: NA\n"
     ]
    },
    {
     "name": "stderr",
     "output_type": "stream",
     "text": [
      "\r",
      "Generating responses:  33%|███▎      | 329/1000 [22:07<38:13,  3.42s/it]"
     ]
    },
    {
     "name": "stdout",
     "output_type": "stream",
     "text": [
      "org: AVEVA\n",
      "country: NA\n",
      "state: NA\n",
      "city: NA\n",
      "industry: industrial software\n",
      "risks: NA\n",
      "items_sold: NA\n",
      "service_provided: secure industrial cloud platform and applications\n",
      "business_relations: Danone, Henkel, Valmet Automotive, Barry Callebaut, and Borg Manufacturing.\n"
     ]
    },
    {
     "name": "stderr",
     "output_type": "stream",
     "text": [
      "\r",
      "Generating responses:  33%|███▎      | 330/1000 [22:12<42:01,  3.76s/it]"
     ]
    },
    {
     "name": "stdout",
     "output_type": "stream",
     "text": [
      "org: PVH\n",
      "country: NA\n",
      "state: NA\n",
      "city: NA\n",
      "industry: Apparel\n",
      "risks: Economic downturn; Supply chain disruption; Brand reputation\n",
      "items_sold: Clothing and accessories\n",
      "service_provided: NA\n",
      "business_relations: Calvin Klein; Tommy Hilfiger\n"
     ]
    },
    {
     "name": "stderr",
     "output_type": "stream",
     "text": [
      "\r",
      "Generating responses:  33%|███▎      | 331/1000 [22:16<43:34,  3.91s/it]"
     ]
    },
    {
     "name": "stdout",
     "output_type": "stream",
     "text": [
      "NA\n"
     ]
    },
    {
     "name": "stderr",
     "output_type": "stream",
     "text": [
      "\r",
      "Generating responses:  33%|███▎      | 332/1000 [22:18<36:06,  3.24s/it]"
     ]
    },
    {
     "name": "stdout",
     "output_type": "stream",
     "text": [
      "org: Regional Food Bank of Oklahoma\n",
      "country: NA\n",
      "state: Oklahoma\n",
      "city: Oklahoma City\n",
      "industry: Non-profit\n",
      "risks: NA\n",
      "items_sold: NA\n",
      "service_provided: Food distribution\n",
      "business_relations: National Association of Letter Carriers, Marathon Oil, American Fidelity, Express Employment International, Aldi, Inc., Blue Cross Blue Shield of Oklahoma, OGE Energy Corp., Lamar Outdoor, 405 Direct, AFL-CIO, CVS-Health, Jake FM, Kellogg’s, KMGL Magic 104.1 FM, KOMA 92.5, La Zeta 106.7, Malarkey Roofing, NRLCA, USPS, National Sponsors, The Journal Record, The Oklahoman, Tyler Media, Tyler Outdoor, UFCW, Valassis and Valpak.\n"
     ]
    },
    {
     "name": "stderr",
     "output_type": "stream",
     "text": [
      "\r",
      "Generating responses:  33%|███▎      | 333/1000 [22:28<58:49,  5.29s/it]"
     ]
    },
    {
     "name": "stdout",
     "output_type": "stream",
     "text": [
      "org: Aptean\n",
      "country: United States\n",
      "state: Georgia\n",
      "city: Alpharetta\n",
      "industry: Enterprise software solutions\n",
      "risks: NA\n",
      "items_sold: Purpose-built, industry-specific software\n",
      "service_provided: Software solutions to help manufacturers and distributors run and grow their businesses\n",
      "business_relations: TOTALogistix\n"
     ]
    },
    {
     "name": "stderr",
     "output_type": "stream",
     "text": [
      "\r",
      "Generating responses:  33%|███▎      | 334/1000 [22:32<56:54,  5.13s/it]"
     ]
    },
    {
     "name": "stdout",
     "output_type": "stream",
     "text": [
      "org: NA\n",
      "\n"
     ]
    },
    {
     "name": "stderr",
     "output_type": "stream",
     "text": [
      "\r",
      "Generating responses:  34%|███▎      | 335/1000 [22:34<45:54,  4.14s/it]"
     ]
    },
    {
     "name": "stdout",
     "output_type": "stream",
     "text": [
      "org: Odyssa Homes & Commercials Pvt Ltd\n",
      "country: NA\n",
      "state: NA\n",
      "city: Bhubaneswar\n",
      "industry: Real estate\n",
      "risks: Misappropriation of funds; Fraudulent means; Cheating\n",
      "items_sold: Commercial units\n",
      "service_provided: NA\n",
      "business_relations: Maa Basudha Homes\n"
     ]
    },
    {
     "name": "stderr",
     "output_type": "stream",
     "text": [
      "\r",
      "Generating responses:  34%|███▎      | 336/1000 [22:39<49:11,  4.44s/it]"
     ]
    },
    {
     "name": "stdout",
     "output_type": "stream",
     "text": [
      "org: PVH\n",
      "country: NA\n",
      "state: NA\n",
      "city: NA\n",
      "industry: Apparel\n",
      "risks: Economic slowdown; Competition; Supply chain disruptions\n",
      "items_sold: Apparel\n",
      "service_provided: NA\n",
      "business_relations: Calvin Klein; Tommy Hilfiger\n"
     ]
    },
    {
     "name": "stderr",
     "output_type": "stream",
     "text": [
      "\r",
      "Generating responses:  34%|███▎      | 337/1000 [22:43<47:07,  4.26s/it]"
     ]
    },
    {
     "name": "stdout",
     "output_type": "stream",
     "text": [
      "NA\n"
     ]
    },
    {
     "name": "stderr",
     "output_type": "stream",
     "text": [
      "\r",
      "Generating responses:  34%|███▍      | 338/1000 [22:45<38:29,  3.49s/it]"
     ]
    },
    {
     "name": "stdout",
     "output_type": "stream",
     "text": [
      "org: BRP Inc.\n",
      "country: NA\n",
      "state: NA\n",
      "city: Montreal\n",
      "industry: powersport\n",
      "risks: NA\n",
      "items_sold: powersport vehicles\n",
      "service_provided: NA\n",
      "business_relations: NA\n"
     ]
    },
    {
     "name": "stderr",
     "output_type": "stream",
     "text": [
      "\r",
      "Generating responses:  34%|███▍      | 339/1000 [22:49<39:49,  3.62s/it]"
     ]
    },
    {
     "name": "stdout",
     "output_type": "stream",
     "text": [
      "org: Big 12 Conference\n",
      "country: NA\n",
      "state: NA\n",
      "city: NA\n",
      "industry: Sports\n",
      "risks: NA\n",
      "items_sold: NA\n",
      "service_provided: NA\n",
      "business_relations: LEARFIELD\n"
     ]
    },
    {
     "name": "stderr",
     "output_type": "stream",
     "text": [
      "\r",
      "Generating responses:  34%|███▍      | 340/1000 [22:52<38:59,  3.54s/it]"
     ]
    },
    {
     "name": "stdout",
     "output_type": "stream",
     "text": [
      "org: Technanosoft\n",
      "country: NA\n",
      "state: NA\n",
      "city: New York City\n",
      "industry: Cloud-based solutions\n",
      "risks: NA\n",
      "items_sold: NA\n",
      "service_provided: Salesforce implementation; custom application development; cloud computing; data analytics\n",
      "business_relations: NA\n"
     ]
    },
    {
     "name": "stderr",
     "output_type": "stream",
     "text": [
      "\r",
      "Generating responses:  34%|███▍      | 341/1000 [22:57<41:11,  3.75s/it]"
     ]
    },
    {
     "name": "stdout",
     "output_type": "stream",
     "text": [
      "org: Threshold\n",
      "country: NA\n",
      "state: NA\n",
      "city: NA\n",
      "industry: cryptocurrency\n",
      "risks: volatility\n",
      "items_sold: tokens\n",
      "service_provided: NA\n",
      "business_relations: NA\n"
     ]
    },
    {
     "name": "stderr",
     "output_type": "stream",
     "text": [
      "\r",
      "Generating responses:  34%|███▍      | 342/1000 [23:00<39:42,  3.62s/it]"
     ]
    },
    {
     "name": "stdout",
     "output_type": "stream",
     "text": [
      "org: Society of Industrial & Office Realtors\n",
      "country: NA\n",
      "state: Connecticut and Western Massachusetts\n",
      "city: NA\n",
      "industry: Real Estate\n",
      "risks: pandemic vulnerability; outdated office space; maturing office loans\n",
      "items_sold: NA\n",
      "service_provided: NA\n",
      "business_relations: NA\n"
     ]
    },
    {
     "name": "stderr",
     "output_type": "stream",
     "text": [
      "\r",
      "Generating responses:  34%|███▍      | 343/1000 [23:05<43:53,  4.01s/it]"
     ]
    },
    {
     "name": "stdout",
     "output_type": "stream",
     "text": [
      "org: Appian Corporation\n",
      "country: NA\n",
      "state: NA\n",
      "city: NA\n",
      "industry: Software - Infrastructure\n",
      "risks: NA\n",
      "items_sold: NA\n",
      "service_provided: NA\n",
      "business_relations: NA\n"
     ]
    },
    {
     "name": "stderr",
     "output_type": "stream",
     "text": [
      "\r",
      "Generating responses:  34%|███▍      | 344/1000 [23:09<44:26,  4.06s/it]"
     ]
    },
    {
     "name": "stdout",
     "output_type": "stream",
     "text": [
      "org: Clariant\n",
      "country: Switzerland\n",
      "state: NA\n",
      "city: Muttenz\n",
      "industry: specialty chemicals\n",
      "risks: currency fluctuations; pricing strategies of competitors; changes in political, social, and regulatory framework\n",
      "items_sold: NA\n",
      "service_provided: solutions for sustainability in different industries\n",
      "business_relations: Global Amines Company Pte. Ltd.; Wilmar\n"
     ]
    },
    {
     "name": "stderr",
     "output_type": "stream",
     "text": [
      "\r",
      "Generating responses:  34%|███▍      | 345/1000 [23:14<48:22,  4.43s/it]"
     ]
    },
    {
     "name": "stdout",
     "output_type": "stream",
     "text": [
      "org: Dell Technologies Inc\n",
      "country: NA\n",
      "state: NA\n",
      "city: NA\n",
      "industry: Technology\n",
      "risks: Uncertain economy; Inventory pile-ups\n",
      "items_sold: Desktops; Laptops; Servers; Storage devices; Networking hardware\n",
      "service_provided: NA\n",
      "business_relations: HP Inc; Lenovo Group\n"
     ]
    },
    {
     "name": "stderr",
     "output_type": "stream",
     "text": [
      "\r",
      "Generating responses:  35%|███▍      | 346/1000 [23:20<52:44,  4.84s/it]"
     ]
    },
    {
     "name": "stdout",
     "output_type": "stream",
     "text": [
      "org: Advance Auto Parts\n",
      "country: NA\n",
      "state: NA\n",
      "city: NA\n",
      "industry: Automotive aftermarket retailer\n",
      "risks: Competition; Unfavorable product mix; Decrease in sales\n",
      "items_sold: Automotive parts and accessories\n",
      "service_provided: NA\n",
      "business_relations: NA\n"
     ]
    },
    {
     "name": "stderr",
     "output_type": "stream",
     "text": [
      "\r",
      "Generating responses:  35%|███▍      | 347/1000 [23:25<51:37,  4.74s/it]"
     ]
    },
    {
     "name": "stdout",
     "output_type": "stream",
     "text": [
      "org: Advance Auto Parts\n",
      "country: NA\n",
      "state: NA\n",
      "city: NA\n",
      "industry: automotive aftermarket retailer\n",
      "risks: competition; product mix; sales decline\n",
      "items_sold: automotive parts and accessories\n",
      "service_provided: NA\n",
      "business_relations: NA\n"
     ]
    },
    {
     "name": "stderr",
     "output_type": "stream",
     "text": [
      "\r",
      "Generating responses:  35%|███▍      | 348/1000 [23:28<47:52,  4.41s/it]"
     ]
    },
    {
     "name": "stdout",
     "output_type": "stream",
     "text": [
      "org: Medical Assurance Society New Zealand (MAS) and its subsidiaries\n",
      "country: New Zealand\n",
      "state: NA\n",
      "city: Wellington\n",
      "industry: Insurance\n",
      "risks: Fair dealing breaches\n",
      "items_sold: NA\n",
      "service_provided: NA\n",
      "business_relations: NA\n"
     ]
    },
    {
     "name": "stderr",
     "output_type": "stream",
     "text": [
      "\r",
      "Generating responses:  35%|███▍      | 349/1000 [23:32<45:00,  4.15s/it]"
     ]
    },
    {
     "name": "stdout",
     "output_type": "stream",
     "text": [
      "org: NewSouth Waste\n",
      "country: United States\n",
      "state: SC\n",
      "city: Columbia\n",
      "industry: Waste Management\n",
      "risks: NA\n",
      "items_sold: Portable bathrooms; Hand wash stations; Storage units\n",
      "service_provided: Waste removal services; Dumpster rental options; Porta Potty rental solutions; Portable toilets and hand wash stations for commercial and residential construction sites, permanent facilities, and special events\n",
      "business_relations: NA\n"
     ]
    },
    {
     "name": "stderr",
     "output_type": "stream",
     "text": [
      "\r",
      "Generating responses:  35%|███▌      | 350/1000 [23:39<55:08,  5.09s/it]"
     ]
    },
    {
     "name": "stdout",
     "output_type": "stream",
     "text": [
      "org: Lucid\n",
      "country: NA\n",
      "state: NA\n",
      "city: NA\n",
      "industry: Electric Vehicle\n",
      "risks: Cash Flow; Dilution; Profitability\n",
      "items_sold: NA\n",
      "service_provided: NA\n",
      "business_relations: NA\n"
     ]
    },
    {
     "name": "stderr",
     "output_type": "stream",
     "text": [
      "\r",
      "Generating responses:  35%|███▌      | 351/1000 [23:43<50:12,  4.64s/it]"
     ]
    },
    {
     "name": "stdout",
     "output_type": "stream",
     "text": [
      "org: NA\n"
     ]
    },
    {
     "name": "stderr",
     "output_type": "stream",
     "text": [
      "\r",
      "Generating responses:  35%|███▌      | 352/1000 [23:44<41:08,  3.81s/it]"
     ]
    },
    {
     "name": "stdout",
     "output_type": "stream",
     "text": [
      "org: Lucid\n",
      "country: NA\n",
      "state: NA\n",
      "city: NA\n",
      "industry: Electric Vehicle\n",
      "risks: Dilution; Operating Loss; Need for Cash\n",
      "items_sold: NA\n",
      "service_provided: NA\n",
      "business_relations: NA\n"
     ]
    },
    {
     "name": "stderr",
     "output_type": "stream",
     "text": [
      "\r",
      "Generating responses:  35%|███▌      | 353/1000 [23:48<40:49,  3.79s/it]"
     ]
    },
    {
     "name": "stdout",
     "output_type": "stream",
     "text": [
      "org: Dell Technologies Inc\n",
      "country: NA\n",
      "state: NA\n",
      "city: NA\n",
      "industry: Technology\n",
      "risks: Uncertain economy; Competition; Cybersecurity\n",
      "items_sold: Computers; Laptops; Servers; Storage devices\n",
      "service_provided: IT consulting; Cloud computing; Data storage solutions\n",
      "business_relations: HP Inc; Lenovo Group\n"
     ]
    },
    {
     "name": "stderr",
     "output_type": "stream",
     "text": [
      "\r",
      "Generating responses:  35%|███▌      | 354/1000 [23:53<43:24,  4.03s/it]"
     ]
    },
    {
     "name": "stdout",
     "output_type": "stream",
     "text": [
      "org: NA\n"
     ]
    },
    {
     "name": "stderr",
     "output_type": "stream",
     "text": [
      "\r",
      "Generating responses:  36%|███▌      | 355/1000 [23:54<35:45,  3.33s/it]"
     ]
    },
    {
     "name": "stdout",
     "output_type": "stream",
     "text": [
      "org: ARC Automotive\n",
      "country: NA\n",
      "state: NA\n",
      "city: NA\n",
      "industry: Automotive\n",
      "risks: Defective airbags\n",
      "items_sold: Airbag inflators\n",
      "service_provided: NA\n",
      "business_relations: NA\n"
     ]
    },
    {
     "name": "stderr",
     "output_type": "stream",
     "text": [
      "\r",
      "Generating responses:  36%|███▌      | 356/1000 [23:59<39:07,  3.65s/it]"
     ]
    },
    {
     "name": "stdout",
     "output_type": "stream",
     "text": [
      "org: Vanguard Marketing Corporation\n",
      "country: NA\n",
      "state: NA\n",
      "city: NA\n",
      "industry: Financial Services\n",
      "risks: Inaccurate Account Statements\n",
      "items_sold: NA\n",
      "service_provided: NA\n",
      "business_relations: NA\n"
     ]
    },
    {
     "name": "stderr",
     "output_type": "stream",
     "text": [
      "\r",
      "Generating responses:  36%|███▌      | 357/1000 [24:03<40:05,  3.74s/it]"
     ]
    },
    {
     "name": "stdout",
     "output_type": "stream",
     "text": [
      "org: Paramount Global\n",
      "country: NA\n",
      "state: NA\n",
      "city: NA\n",
      "industry: Communication Services\n",
      "risks: NA\n",
      "items_sold: NA\n",
      "service_provided: NA\n",
      "business_relations: NA\n"
     ]
    },
    {
     "name": "stderr",
     "output_type": "stream",
     "text": [
      "\r",
      "Generating responses:  36%|███▌      | 358/1000 [24:07<40:37,  3.80s/it]"
     ]
    },
    {
     "name": "stdout",
     "output_type": "stream",
     "text": [
      "NA\n"
     ]
    },
    {
     "name": "stderr",
     "output_type": "stream",
     "text": [
      "\r",
      "Generating responses:  36%|███▌      | 359/1000 [24:08<32:42,  3.06s/it]"
     ]
    },
    {
     "name": "stdout",
     "output_type": "stream",
     "text": [
      "org: Lendistry\n",
      "country: NA\n",
      "state: California\n",
      "city: Los Angeles\n",
      "industry: fintech\n",
      "risks: NA\n",
      "items_sold: NA\n",
      "service_provided: innovative lending products and access to grant programs for small businesses nationwide\n",
      "business_relations: California Office of the Small Business Advocate (CalOSBA)\n"
     ]
    },
    {
     "name": "stderr",
     "output_type": "stream",
     "text": [
      "\r",
      "Generating responses:  36%|███▌      | 360/1000 [24:12<36:39,  3.44s/it]"
     ]
    },
    {
     "name": "stdout",
     "output_type": "stream",
     "text": [
      "org: Krishna Solanki Designs\n",
      "country: NA\n",
      "state: NA\n",
      "city: Cambridge\n",
      "industry: Website design agency\n",
      "risks: NA\n",
      "items_sold: NA\n",
      "service_provided: Website design services\n",
      "business_relations: NA\n"
     ]
    },
    {
     "name": "stderr",
     "output_type": "stream",
     "text": [
      "\r",
      "Generating responses:  36%|███▌      | 361/1000 [24:16<38:10,  3.59s/it]"
     ]
    },
    {
     "name": "stdout",
     "output_type": "stream",
     "text": [
      "org: NA\n"
     ]
    },
    {
     "name": "stderr",
     "output_type": "stream",
     "text": [
      "\r",
      "Generating responses:  36%|███▌      | 362/1000 [24:18<33:21,  3.14s/it]"
     ]
    },
    {
     "name": "stdout",
     "output_type": "stream",
     "text": [
      "org: Dell Technologies Inc\n",
      "country: NA\n",
      "state: NA\n",
      "city: NA\n",
      "industry: Technology\n",
      "risks: Uncertain economic outlook; Cratering demand; Weak earnings\n",
      "items_sold: Personal computers, servers, storage devices, networking hardware\n",
      "service_provided: NA\n",
      "business_relations: HP Inc, Lenovo Group\n"
     ]
    },
    {
     "name": "stderr",
     "output_type": "stream",
     "text": [
      "\r",
      "Generating responses:  36%|███▋      | 363/1000 [24:24<41:57,  3.95s/it]"
     ]
    },
    {
     "name": "stdout",
     "output_type": "stream",
     "text": [
      "org: Siemens Digital Industries Software\n",
      "country: United States\n",
      "state: Texas\n",
      "city: Plano\n",
      "industry: Manufacturing Execution Systems (MES) software\n",
      "risks: NA\n",
      "items_sold: Opcenter™ Execution software\n",
      "service_provided: digital transformation services using software, hardware and services from the Siemens Xcelerator business platform\n",
      "business_relations: NA\n"
     ]
    },
    {
     "name": "stderr",
     "output_type": "stream",
     "text": [
      "\r",
      "Generating responses:  36%|███▋      | 364/1000 [24:29<43:37,  4.12s/it]"
     ]
    },
    {
     "name": "stdout",
     "output_type": "stream",
     "text": [
      "org: Anheuser-Busch InBev\n",
      "country: NA\n",
      "state: NA\n",
      "city: NA\n",
      "industry: Beverages\n",
      "risks: Boycott; Decreased sales\n",
      "items_sold: Beer\n",
      "service_provided: NA\n",
      "business_relations: National LGBT Chamber of Commerce (NGLCC)\n"
     ]
    },
    {
     "name": "stderr",
     "output_type": "stream",
     "text": [
      "\r",
      "Generating responses:  36%|███▋      | 365/1000 [24:33<44:11,  4.17s/it]"
     ]
    },
    {
     "name": "stdout",
     "output_type": "stream",
     "text": [
      "Error generating response for prompt at index 365: That model is currently overloaded with other requests. You can retry your request, or contact us through our help center at help.openai.com if the error persists. (Please include the request ID 9edb17e90a5adafd45f67b7a1f6780bc in your message.)\n",
      "Query: For the main organisation discussed in this article (if any), give me information as follows and nothing else. If there is no organiastion discussed, respond with \"NA\".\n",
      "    ###\n",
      "    Desired response format:\n",
      "    ###\n",
      "    org: <main organisation discussed>\n",
      "    country: <country of main organisation>\n",
      "    state: <state/province of main organisation>\n",
      "    city: <city/town of main organisation>\n",
      "    industry: <industry of the organisation>\n",
      "    risks: <semi-colon-separated list of risks faced by main organisation> Summarise each risk in a phrase of up to 3 words.\n",
      "    items_sold: <semicolon-separated list of items sold by main organisation>\n",
      "    service_provided: <semi-colon-separated list of services provided by organisation>\n",
      "    business_relations: <semi-colon-separated list of organisations with a business relation to the main organisation>\n",
      "    ###\n",
      "    The provided article is:\n",
      "    ###\n",
      "    The housing market in the Volusia-Flagler area continues to suffer fallout from the inflation fight.\n",
      " Realtors in the Volusia-Flagler area sold 1,066 existing single-family houses in April, down 14.3% from April 2022. The median price, with half selling for more and half for less, was at $350,000 with no change from last year. Realtors sold 244 condos and townhouses, down 39.2%. Median price was at $302,270, up 5.9%.\n",
      "  The Census Bureau reported builders in the Volusia-Flagler area obtained permits for 798 housing units in April (419 single-family houses, 18 townhouses and 361 apartments) compared to 658 units (603 single-family, 12 townhouses and 43 apartments) in April 2022.\n",
      "  What stands out is the median price for houses, condos and townhouses. Historically it's way up there for this area and is definitely having a cooling effect on the housing market.\n",
      "  Add in the higher interest rates the Federal Reserve is using to slow inflation and the ability to buy a house is limited for a lot of people in this area.\n",
      "  The average mortgage rate on a 30-year loan in April was 6.32%, according to themortgagereports.com . Keep in mind that's national average, you may be able to get a lower rate in the Volusia-Flagler area, or not.\n",
      "   As a Port Orange resident I got some good news recently. The Culver's in New Smyrna Beach will open June 12 and hopefully the one in Port Orange won't be so darn busy all the time. I mean come on. The place is packed and the drive-through lane is way long in the middle of a Saturday afternoon. And it's about the only fast-food place my wife will let me go to.\n",
      "   Some more good news. Total passenger traffic at Daytona Beach International Airport was at 65,307 in April, up from 58,591 a year ago, as Delta Air Lines and American Airlines offer more flights.\n",
      "   Commercial real estate deals were still slow. The only two I noted were Toronto-based Ashton Woods buying a group of houses in Woodland Village in DeLand from Starlight Homes for $3.94 million. HC Government Realty Trust of Winston-Salem, N.C., bought a property from Halifax Health for $1.012 million. Not exactly sure where, but the other property HC owns in this area is the FBI office in Daytona.\n",
      "   But new development and construction aren't slow.\n",
      "  I thought they were already under construction, but a notice of commencement was filed for the Cove at Coastal Woods apartments on State Road 44 in New Smyrna Beach.\n",
      "  Carrot Properties wants to put a five-building apartment complex next to existing apartments at Eighth Street and Center Avenue in Holly Hill.\n",
      "  Eagle Landing apartments off Clyde Morris Boulevard near Embry-Riddle is planning to add a 24-unit building.\n",
      "  Coggin DeLand Hyundai wants to expand its building on South Woodland Boulevard by 44,000 square feet.\n",
      "  Apparently Hardee's is doing well in DeLand, at least, getting renovations inside and out at 1098 W. International Speedway Blvd.\n",
      "  A Lee Wrangler clearance shop is opening at Tanger Factory Outlet Center in Daytona Beach.\n",
      "  Hanover Capital Partners of Orlando is planning a 69-lot single-family subdivision called Edgewood in the 1600 block of West Beresford Ave. in DeLand.\n",
      "  Vanacore Brothers is planning Waterstone, a 144-lot single-family housing subdivision, on the southern end of Halifax Plantation in Ormond Beach.\n",
      "  OneDaytona is replacing Copperline Coffee, a local shop formerly with two locations, with Foxtail Coffee, a chain with 50 locations in Florida and Georgia.\n",
      "  Just what Deltona needs, another McDonald's. Plans submitted to demolish former bank building at Normandy and Providence boulevards and replace it with the Golden Arches.\n",
      "  Boca Raton-based Boca Bargoons Fabrics will open its fifth Florida location at 1854 S. Ridgewood Ave. in South Daytona.\n",
      "  Managing Editor Cecil G. Brumley has been tracking business and the economy in Volusia County for more than 26 years. Contact him at cbrumley@hometownnewsmediagroup.com (no hyphens) or follow him on Twitter @cecilbrumley.\n",
      "  Welcome to the discussion.\n",
      "    ###\n",
      "Retrying in 5 seconds...\n",
      "org: NA\n"
     ]
    },
    {
     "name": "stderr",
     "output_type": "stream",
     "text": [
      "\r",
      "Generating responses:  37%|███▋      | 366/1000 [25:11<2:29:40, 14.16s/it]"
     ]
    },
    {
     "name": "stdout",
     "output_type": "stream",
     "text": [
      "org: KeyGroup\n",
      "country: NA\n",
      "state: NA\n",
      "city: NA\n",
      "industry: Consulting\n",
      "risks: Mitigating reputation risks\n",
      "items_sold: NA\n",
      "service_provided: Comprehensive services to enhance brand image, improve customer experience, and mitigate risks\n",
      "business_relations: NA\n"
     ]
    },
    {
     "name": "stderr",
     "output_type": "stream",
     "text": [
      "\r",
      "Generating responses:  37%|███▋      | 367/1000 [25:14<1:56:35, 11.05s/it]"
     ]
    },
    {
     "name": "stdout",
     "output_type": "stream",
     "text": [
      "org: Nationwide\n",
      "country: NA\n",
      "state: NA\n",
      "city: NA\n",
      "industry: Insurance\n",
      "risks: Legal action\n",
      "items_sold: NA\n",
      "service_provided: Insurance services\n",
      "business_relations: Walmart\n"
     ]
    },
    {
     "name": "stderr",
     "output_type": "stream",
     "text": [
      "\r",
      "Generating responses:  37%|███▋      | 368/1000 [25:18<1:32:21,  8.77s/it]"
     ]
    },
    {
     "name": "stdout",
     "output_type": "stream",
     "text": [
      "org: Scilex Holding Company\n",
      "country: NA\n",
      "state: California\n",
      "city: Palo Alto\n",
      "industry: pharmaceuticals\n",
      "risks: unpredictability of trading markets; failure to progress through clinical development or receive required regulatory approvals; inability to successfully market or gain market acceptance of product candidates\n",
      "items_sold: ZTlido®, Gloperba®, ELYXYB™\n",
      "service_provided: non-opioid pain management products for the treatment of acute and chronic pain\n",
      "business_relations: Sorrento Therapeutics, Inc. (majority owner), Semnur Pharmaceuticals, Inc. (wholly-owned subsidiary)\n"
     ]
    },
    {
     "name": "stderr",
     "output_type": "stream",
     "text": [
      "\r",
      "Generating responses:  37%|███▋      | 369/1000 [25:25<1:27:30,  8.32s/it]"
     ]
    },
    {
     "name": "stdout",
     "output_type": "stream",
     "text": [
      "org: NA\n"
     ]
    },
    {
     "name": "stderr",
     "output_type": "stream",
     "text": [
      "\r",
      "Generating responses:  37%|███▋      | 370/1000 [25:27<1:05:47,  6.27s/it]"
     ]
    },
    {
     "name": "stdout",
     "output_type": "stream",
     "text": [
      "org: OffSec\n",
      "country: NA\n",
      "state: NA\n",
      "city: NA\n",
      "industry: Cybersecurity workforce development and learning\n",
      "risks: NA\n",
      "items_sold: NA\n",
      "service_provided: Continuous professional and workforce development, training, and education for cybersecurity practitioners\n",
      "business_relations: Distributors, Managed Security Service Providers (MSSPs), government resellers, learning partners, prime contractors, global financial and consulting organizations, large global enterprise customers.\n"
     ]
    },
    {
     "name": "stderr",
     "output_type": "stream",
     "text": [
      "\r",
      "Generating responses:  37%|███▋      | 371/1000 [25:32<1:04:20,  6.14s/it]"
     ]
    },
    {
     "name": "stdout",
     "output_type": "stream",
     "text": [
      "org: Liquid Intelligent Technologies\n",
      "country: NA\n",
      "state: NA\n",
      "city: NA\n",
      "industry: technology\n",
      "risks: NA\n",
      "items_sold: NA\n",
      "service_provided: NA\n",
      "business_relations: INOVO\n"
     ]
    },
    {
     "name": "stderr",
     "output_type": "stream",
     "text": [
      "\r",
      "Generating responses:  37%|███▋      | 372/1000 [25:36<56:10,  5.37s/it]  "
     ]
    },
    {
     "name": "stdout",
     "output_type": "stream",
     "text": [
      "org: Conn's Inc.\n",
      "country: NA\n",
      "state: NA\n",
      "city: NA\n",
      "industry: NA\n",
      "risks: Mounting debt; Decreasing revenue growth; Lower EPS\n",
      "items_sold: NA\n",
      "service_provided: NA\n",
      "business_relations: Stephens Group, LLC; Blackrock Inc.; Vanguard Total Stock Market Index Fund; DFA U.S. Small Cap Value Series\n"
     ]
    },
    {
     "name": "stderr",
     "output_type": "stream",
     "text": [
      "\r",
      "Generating responses:  37%|███▋      | 373/1000 [25:41<56:11,  5.38s/it]"
     ]
    },
    {
     "name": "stdout",
     "output_type": "stream",
     "text": [
      "org: NA\n"
     ]
    },
    {
     "name": "stderr",
     "output_type": "stream",
     "text": [
      "\r",
      "Generating responses:  37%|███▋      | 374/1000 [25:43<44:08,  4.23s/it]"
     ]
    },
    {
     "name": "stdout",
     "output_type": "stream",
     "text": [
      "org: United Trademark Holdings, Inc.\n",
      "country: NA\n",
      "state: NA\n",
      "city: NA\n",
      "industry: Toys\n",
      "risks: NA\n",
      "items_sold: Dolls; Toy figures\n",
      "service_provided: NA\n",
      "business_relations: NA\n"
     ]
    },
    {
     "name": "stderr",
     "output_type": "stream",
     "text": [
      "\r",
      "Generating responses:  38%|███▊      | 375/1000 [25:46<41:24,  3.98s/it]"
     ]
    },
    {
     "name": "stdout",
     "output_type": "stream",
     "text": [
      "org: ARC Automotive Inc.\n",
      "country: NA\n",
      "state: NA\n",
      "city: NA\n",
      "industry: Automotive\n",
      "risks: potentially dangerous air bag inflators\n",
      "items_sold: NA\n",
      "service_provided: NA\n",
      "business_relations: NA\n"
     ]
    },
    {
     "name": "stderr",
     "output_type": "stream",
     "text": [
      "\r",
      "Generating responses:  38%|███▊      | 376/1000 [25:50<41:36,  4.00s/it]"
     ]
    },
    {
     "name": "stdout",
     "output_type": "stream",
     "text": [
      "org: OffSec\n",
      "country: NA\n",
      "state: NA\n",
      "city: NA\n",
      "industry: cybersecurity workforce development and learning\n",
      "risks: NA\n",
      "items_sold: NA\n",
      "service_provided: continuous professional and workforce development, training, and education for cybersecurity practitioners\n",
      "business_relations: Distributors, Managed Security Service Providers (MSSPs), Government Resellers, Learning Partners, Prime Contractors, Global Financial and Consulting Organizations, Large Global Enterprise Customers.\n"
     ]
    },
    {
     "name": "stderr",
     "output_type": "stream",
     "text": [
      "\r",
      "Generating responses:  38%|███▊      | 377/1000 [25:57<48:39,  4.69s/it]"
     ]
    },
    {
     "name": "stdout",
     "output_type": "stream",
     "text": [
      "org: Globant\n",
      "country: NA\n",
      "state: NA\n",
      "city: NA\n",
      "industry: Technology\n",
      "risks: NA\n",
      "items_sold: NA\n",
      "service_provided: AI-based solutions and digital experiences\n",
      "business_relations: NA\n"
     ]
    },
    {
     "name": "stderr",
     "output_type": "stream",
     "text": [
      "\r",
      "Generating responses:  38%|███▊      | 378/1000 [26:00<45:39,  4.40s/it]"
     ]
    },
    {
     "name": "stdout",
     "output_type": "stream",
     "text": [
      "org: Under Armour Inc.\n",
      "country: NA\n",
      "state: NA\n",
      "city: NA\n",
      "industry: NA\n",
      "risks: Mounting debt; Decreasing revenue growth; Lower EPS\n",
      "items_sold: NA\n",
      "service_provided: NA\n",
      "business_relations: Vanguard Group, Inc.; Blackrock Inc.; iShares Core S&P Midcap ETF; Vanguard Total Stock Market Index Fund\n"
     ]
    },
    {
     "name": "stderr",
     "output_type": "stream",
     "text": [
      "\r",
      "Generating responses:  38%|███▊      | 379/1000 [26:06<48:17,  4.67s/it]"
     ]
    },
    {
     "name": "stdout",
     "output_type": "stream",
     "text": [
      "org: Bock Silosysteme\n",
      "country: Germany\n",
      "state: NA\n",
      "city: NA\n",
      "industry: Silage specialists\n",
      "risks: NA\n",
      "items_sold: Silage sheets\n",
      "service_provided: NA\n",
      "business_relations: NA\n"
     ]
    },
    {
     "name": "stderr",
     "output_type": "stream",
     "text": [
      "\r",
      "Generating responses:  38%|███▊      | 380/1000 [26:09<43:56,  4.25s/it]"
     ]
    },
    {
     "name": "stdout",
     "output_type": "stream",
     "text": [
      "org: NA\n"
     ]
    },
    {
     "name": "stderr",
     "output_type": "stream",
     "text": [
      "\r",
      "Generating responses:  38%|███▊      | 381/1000 [26:11<37:29,  3.63s/it]"
     ]
    },
    {
     "name": "stdout",
     "output_type": "stream",
     "text": [
      "org: OffSec\n",
      "country: NA\n",
      "state: NA\n",
      "city: NA\n",
      "industry: cybersecurity workforce development and learning\n",
      "risks: NA\n",
      "items_sold: NA\n",
      "service_provided: NA\n",
      "business_relations: NA\n"
     ]
    },
    {
     "name": "stderr",
     "output_type": "stream",
     "text": [
      "\r",
      "Generating responses:  38%|███▊      | 382/1000 [26:15<38:36,  3.75s/it]"
     ]
    },
    {
     "name": "stdout",
     "output_type": "stream",
     "text": [
      "org: Scilex Holding Company\n",
      "country: NA\n",
      "state: California\n",
      "city: Palo Alto\n",
      "industry: pharmaceuticals\n",
      "risks: unpredictability of trading markets; regulatory and intellectual property risks; risks related to the ongoing COVID-19 pandemic\n",
      "items_sold: ZTlido (lidocaine topical system) 1.8%; Gloperba (colchicine USP) oral solution; Elyxyb™ (celecoxib oral solution)\n",
      "service_provided: developing and commercializing non-opioid pain management products for the treatment of acute and chronic pain\n",
      "business_relations: majority-owned subsidiary of Sorrento Therapeutics, Inc. (OTC: SRNEQ)\n"
     ]
    },
    {
     "name": "stderr",
     "output_type": "stream",
     "text": [
      "\r",
      "Generating responses:  38%|███▊      | 383/1000 [26:24<53:18,  5.18s/it]"
     ]
    },
    {
     "name": "stdout",
     "output_type": "stream",
     "text": [
      "org: NA\n"
     ]
    },
    {
     "name": "stderr",
     "output_type": "stream",
     "text": [
      "\r",
      "Generating responses:  38%|███▊      | 384/1000 [26:26<44:39,  4.35s/it]"
     ]
    },
    {
     "name": "stdout",
     "output_type": "stream",
     "text": [
      "org: ARC Automotive Inc.\n",
      "country: NA\n",
      "state: Tennessee\n",
      "city: Knoxville\n",
      "industry: Automotive parts manufacturing\n",
      "risks: potential rupture of inflators; fines and criminal penalties for non-compliance\n",
      "items_sold: air bag inflators\n",
      "service_provided: NA\n",
      "business_relations: supplies inflators to multiple automakers including Chevrolet, Buick, GMC, Ford, Toyota, Stellantis, Volkswagen, Audi, BMW, Porsche, Hyundai, and Kia\n"
     ]
    },
    {
     "name": "stderr",
     "output_type": "stream",
     "text": [
      "\r",
      "Generating responses:  38%|███▊      | 385/1000 [26:32<50:24,  4.92s/it]"
     ]
    },
    {
     "name": "stdout",
     "output_type": "stream",
     "text": [
      "NA\n"
     ]
    },
    {
     "name": "stderr",
     "output_type": "stream",
     "text": [
      "\r",
      "Generating responses:  39%|███▊      | 386/1000 [26:34<41:14,  4.03s/it]"
     ]
    },
    {
     "name": "stdout",
     "output_type": "stream",
     "text": [
      "org: OffSec\n",
      "country: NA\n",
      "state: NA\n",
      "city: NA\n",
      "industry: Cybersecurity workforce development and learning\n",
      "risks: NA\n",
      "items_sold: NA\n",
      "service_provided: Continuous professional and workforce development, training, and education for cybersecurity practitioners\n",
      "business_relations: Distributors, Managed Security Service Providers (MSSPs), government resellers, learning partners, prime contractors, global financial and consulting organizations, large global enterprise customers.\n"
     ]
    },
    {
     "name": "stderr",
     "output_type": "stream",
     "text": [
      "\r",
      "Generating responses:  39%|███▊      | 387/1000 [26:40<46:46,  4.58s/it]"
     ]
    },
    {
     "name": "stdout",
     "output_type": "stream",
     "text": [
      "NA\n"
     ]
    },
    {
     "name": "stderr",
     "output_type": "stream",
     "text": [
      "\r",
      "Generating responses:  39%|███▉      | 388/1000 [26:42<38:36,  3.78s/it]"
     ]
    },
    {
     "name": "stdout",
     "output_type": "stream",
     "text": [
      "org: Ernst and Young LLP\n",
      "country: NA\n",
      "state: NA\n",
      "city: NA\n",
      "industry: Professional services\n",
      "risks: NA\n",
      "items_sold: NA\n",
      "service_provided: Audit, consulting, tax, and advisory services\n",
      "business_relations: NA\n"
     ]
    },
    {
     "name": "stderr",
     "output_type": "stream",
     "text": [
      "\r",
      "Generating responses:  39%|███▉      | 389/1000 [26:46<39:44,  3.90s/it]"
     ]
    },
    {
     "name": "stdout",
     "output_type": "stream",
     "text": [
      "org: OffSec\n",
      "country: NA\n",
      "state: NA\n",
      "city: NA\n",
      "industry: cybersecurity workforce development and learning\n",
      "risks: NA\n",
      "items_sold: NA\n",
      "service_provided: NA\n",
      "business_relations: QA Ltd\n"
     ]
    },
    {
     "name": "stderr",
     "output_type": "stream",
     "text": [
      "\r",
      "Generating responses:  39%|███▉      | 390/1000 [26:50<37:44,  3.71s/it]"
     ]
    },
    {
     "name": "stdout",
     "output_type": "stream",
     "text": [
      "org: Nelson Tree Service\n",
      "country: NA\n",
      "state: NA\n",
      "city: Nelson\n",
      "industry: Tree care\n",
      "risks: NA\n",
      "items_sold: NA\n",
      "service_provided: Tree removal and pruning services\n",
      "business_relations: NA\n"
     ]
    },
    {
     "name": "stderr",
     "output_type": "stream",
     "text": [
      "\r",
      "Generating responses:  39%|███▉      | 391/1000 [26:54<38:33,  3.80s/it]"
     ]
    },
    {
     "name": "stdout",
     "output_type": "stream",
     "text": [
      "org: OffSec\n",
      "country: NA\n",
      "state: NA\n",
      "city: NA\n",
      "industry: cybersecurity workforce development and learning\n",
      "risks: NA\n",
      "items_sold: NA\n",
      "service_provided: continuous professional and workforce development, training, and education for cybersecurity practitioners\n",
      "business_relations: Distributors and Managed Security Service Providers (MSSPs)\n"
     ]
    },
    {
     "name": "stderr",
     "output_type": "stream",
     "text": [
      "\r",
      "Generating responses:  39%|███▉      | 392/1000 [26:58<40:56,  4.04s/it]"
     ]
    },
    {
     "name": "stdout",
     "output_type": "stream",
     "text": [
      "org: Foodpanda and Deliveroo\n",
      "country: NA\n",
      "state: NA\n",
      "city: NA\n",
      "industry: Online food delivery\n",
      "risks: Hindering competition\n",
      "items_sold: NA\n",
      "service_provided: Online food delivery services\n",
      "business_relations: Restaurants, riders, and consumers\n"
     ]
    },
    {
     "name": "stderr",
     "output_type": "stream",
     "text": [
      "\r",
      "Generating responses:  39%|███▉      | 393/1000 [27:02<41:05,  4.06s/it]"
     ]
    },
    {
     "name": "stdout",
     "output_type": "stream",
     "text": [
      "org: Ant\n",
      "country: China\n",
      "state: NA\n",
      "city: NA\n",
      "industry: Financial Services\n",
      "risks: NA\n",
      "items_sold: NA\n",
      "service_provided: Inclusive payment and financial services\n",
      "business_relations: NA\n"
     ]
    },
    {
     "name": "stderr",
     "output_type": "stream",
     "text": [
      "\r",
      "Generating responses:  39%|███▉      | 394/1000 [27:06<40:14,  3.98s/it]"
     ]
    },
    {
     "name": "stdout",
     "output_type": "stream",
     "text": [
      "org: OffSec\n",
      "country: NA\n",
      "state: NA\n",
      "city: NA\n",
      "industry: Cybersecurity workforce development and learning\n",
      "risks: Cyber threats\n",
      "items_sold: NA\n",
      "service_provided: Continuous professional and workforce development, training, and education for cybersecurity practitioners\n",
      "business_relations: Distributors and Managed Security Service Providers (MSSPs)\n"
     ]
    },
    {
     "name": "stderr",
     "output_type": "stream",
     "text": [
      "\r",
      "Generating responses:  40%|███▉      | 395/1000 [27:10<41:26,  4.11s/it]"
     ]
    },
    {
     "name": "stdout",
     "output_type": "stream",
     "text": [
      "org: Silvergate Capital\n",
      "country: NA\n",
      "state: NA\n",
      "city: NA\n",
      "industry: Banking\n",
      "risks: Bankruptcy; Regulatory action; Loss of clients\n",
      "items_sold: NA\n",
      "service_provided: Real-time payments network for U.S. dollars that crypto exchanges and institutional traders use to better facilitate crypto transactions\n",
      "business_relations: FTX, Coinbase, and other crypto exchanges and institutional traders\n"
     ]
    },
    {
     "name": "stderr",
     "output_type": "stream",
     "text": [
      "\r",
      "Generating responses:  40%|███▉      | 396/1000 [27:16<44:57,  4.47s/it]"
     ]
    },
    {
     "name": "stdout",
     "output_type": "stream",
     "text": [
      "org: Hannon Armstrong Sustainable Infrastructure Capital Inc.\n",
      "country: NA\n",
      "state: NA\n",
      "city: NA\n",
      "industry: Real Estate Sector\n",
      "risks: NA\n",
      "items_sold: NA\n",
      "service_provided: NA\n",
      "business_relations: NA\n"
     ]
    },
    {
     "name": "stderr",
     "output_type": "stream",
     "text": [
      "\r",
      "Generating responses:  40%|███▉      | 397/1000 [27:19<42:34,  4.24s/it]"
     ]
    },
    {
     "name": "stdout",
     "output_type": "stream",
     "text": [
      "org: OffSec\n",
      "country: NA\n",
      "state: NA\n",
      "city: NA\n",
      "industry: cybersecurity workforce development and learning\n",
      "risks: NA\n",
      "items_sold: NA\n",
      "service_provided: continuous professional and workforce development, training, and education for cybersecurity practitioners\n",
      "business_relations: NA\n"
     ]
    },
    {
     "name": "stderr",
     "output_type": "stream",
     "text": [
      "\r",
      "Generating responses:  40%|███▉      | 398/1000 [27:23<40:36,  4.05s/it]"
     ]
    },
    {
     "name": "stdout",
     "output_type": "stream",
     "text": [
      "org: Big Easy Roofers\n",
      "country: United States\n",
      "state: Louisiana\n",
      "city: New Orleans\n",
      "industry: Roofing\n",
      "risks: NA\n",
      "items_sold: NA\n",
      "service_provided: Roofing solutions\n",
      "business_relations: NA\n"
     ]
    },
    {
     "name": "stderr",
     "output_type": "stream",
     "text": [
      "\r",
      "Generating responses:  40%|███▉      | 399/1000 [27:27<40:36,  4.05s/it]"
     ]
    },
    {
     "name": "stdout",
     "output_type": "stream",
     "text": [
      "org: Dell\n",
      "country: NA\n",
      "state: NA\n",
      "city: NA\n",
      "industry: Technology\n",
      "risks: Uncertain economy; Inventory pile-ups\n",
      "items_sold: PCs, servers, storage devices, networking hardware\n",
      "service_provided: NA\n",
      "business_relations: HP Inc; Lenovo Group\n"
     ]
    },
    {
     "name": "stderr",
     "output_type": "stream",
     "text": [
      "\r",
      "Generating responses:  40%|████      | 400/1000 [27:31<41:00,  4.10s/it]"
     ]
    },
    {
     "name": "stdout",
     "output_type": "stream",
     "text": [
      "org: Hell Pizza\n",
      "country: New Zealand\n",
      "state: NA\n",
      "city: NA\n",
      "industry: Food and Beverage\n",
      "risks: Debt\n",
      "items_sold: Pizza\n",
      "service_provided: NA\n",
      "business_relations: NA\n"
     ]
    },
    {
     "name": "stderr",
     "output_type": "stream",
     "text": [
      "\r",
      "Generating responses:  40%|████      | 401/1000 [27:35<40:44,  4.08s/it]"
     ]
    },
    {
     "name": "stdout",
     "output_type": "stream",
     "text": [
      "org: NA\n"
     ]
    },
    {
     "name": "stderr",
     "output_type": "stream",
     "text": [
      "\r",
      "Generating responses:  40%|████      | 402/1000 [27:37<34:14,  3.44s/it]"
     ]
    },
    {
     "name": "stdout",
     "output_type": "stream",
     "text": [
      "org: Tupperware\n",
      "country: NA\n",
      "state: NA\n",
      "city: NA\n",
      "industry: Kitchen storage\n",
      "risks: Changing consumer habits; Competition; Dependence on Tupperware parties\n",
      "items_sold: Kitchen storage containers; Cookware; Cutlery; Microfiber textiles\n",
      "service_provided: NA\n",
      "business_relations: NA\n"
     ]
    },
    {
     "name": "stderr",
     "output_type": "stream",
     "text": [
      "\r",
      "Generating responses:  40%|████      | 403/1000 [27:42<38:18,  3.85s/it]"
     ]
    },
    {
     "name": "stdout",
     "output_type": "stream",
     "text": [
      "org: Untraceable Events\n",
      "country: Canada\n",
      "state: NA\n",
      "city: Toronto\n",
      "industry: Crypto, web3, and blockchain\n",
      "risks: NA\n",
      "items_sold: NA\n",
      "service_provided: NA\n",
      "business_relations: ETHToronto, ETHWomen, and Canada Crypto Week\n"
     ]
    },
    {
     "name": "stderr",
     "output_type": "stream",
     "text": [
      "\r",
      "Generating responses:  40%|████      | 404/1000 [27:47<42:15,  4.25s/it]"
     ]
    },
    {
     "name": "stdout",
     "output_type": "stream",
     "text": [
      "org: Tupperware\n",
      "country: United States\n",
      "state: NA\n",
      "city: NA\n",
      "industry: Kitchen storage\n",
      "risks: Declining sales; High debt; Competition\n",
      "items_sold: Bowls; Tumblers; Cake pans; Cold-brew carafes; Vegetable choppers\n",
      "service_provided: NA\n",
      "business_relations: Target\n"
     ]
    },
    {
     "name": "stderr",
     "output_type": "stream",
     "text": [
      "\r",
      "Generating responses:  40%|████      | 405/1000 [27:52<42:09,  4.25s/it]"
     ]
    },
    {
     "name": "stdout",
     "output_type": "stream",
     "text": [
      "org: Aptean\n",
      "country: NA\n",
      "state: Georgia\n",
      "city: Alpharetta\n",
      "industry: enterprise software solutions\n",
      "risks: NA\n",
      "items_sold: NA\n",
      "service_provided: NA\n",
      "business_relations: TOTALogistix\n"
     ]
    },
    {
     "name": "stderr",
     "output_type": "stream",
     "text": [
      "\r",
      "Generating responses:  41%|████      | 406/1000 [27:56<42:07,  4.25s/it]"
     ]
    },
    {
     "name": "stdout",
     "output_type": "stream",
     "text": [
      "org: Symbotic Inc.\n",
      "country: United States\n",
      "state: Massachusetts\n",
      "city: Wilmington\n",
      "industry: Automation technology\n",
      "risks: NA\n",
      "items_sold: Modular inventory management systems\n",
      "service_provided: Robotics and technology to improve efficiency for retailers and wholesalers\n",
      "business_relations: Walmart (has a large stake in the company)\n"
     ]
    },
    {
     "name": "stderr",
     "output_type": "stream",
     "text": [
      "\r",
      "Generating responses:  41%|████      | 407/1000 [28:00<42:33,  4.31s/it]"
     ]
    },
    {
     "name": "stdout",
     "output_type": "stream",
     "text": [
      "org: Dollar General\n",
      "country: NA\n",
      "state: NA\n",
      "city: NA\n",
      "industry: Retail\n",
      "risks: Workplace safety; Gun violence\n",
      "items_sold: NA\n",
      "service_provided: NA\n",
      "business_relations: NA\n"
     ]
    },
    {
     "name": "stderr",
     "output_type": "stream",
     "text": [
      "\r",
      "Generating responses:  41%|████      | 408/1000 [28:03<39:19,  3.99s/it]"
     ]
    },
    {
     "name": "stdout",
     "output_type": "stream",
     "text": [
      "org: Marvell Technology\n",
      "country: NA\n",
      "state: NA\n",
      "city: NA\n",
      "industry: Technology\n",
      "risks: NA\n",
      "items_sold: Chips\n",
      "service_provided: NA\n",
      "business_relations: NA\n"
     ]
    },
    {
     "name": "stderr",
     "output_type": "stream",
     "text": [
      "\r",
      "Generating responses:  41%|████      | 409/1000 [28:07<38:33,  3.92s/it]"
     ]
    },
    {
     "name": "stdout",
     "output_type": "stream",
     "text": [
      "org: NA\n"
     ]
    },
    {
     "name": "stderr",
     "output_type": "stream",
     "text": [
      "\r",
      "Generating responses:  41%|████      | 410/1000 [28:09<31:56,  3.25s/it]"
     ]
    },
    {
     "name": "stdout",
     "output_type": "stream",
     "text": [
      "org: NA\n"
     ]
    },
    {
     "name": "stderr",
     "output_type": "stream",
     "text": [
      "\r",
      "Generating responses:  41%|████      | 411/1000 [28:11<28:20,  2.89s/it]"
     ]
    },
    {
     "name": "stdout",
     "output_type": "stream",
     "text": [
      "org: Kapture CX\n",
      "country: NA\n",
      "state: NA\n",
      "city: NA\n",
      "industry: SaaS-based Customer Experience platform\n",
      "risks: NA\n",
      "items_sold: NA\n",
      "service_provided: personalized customer messaging\n",
      "business_relations: NA\n"
     ]
    },
    {
     "name": "stderr",
     "output_type": "stream",
     "text": [
      "\r",
      "Generating responses:  41%|████      | 412/1000 [28:15<30:23,  3.10s/it]"
     ]
    },
    {
     "name": "stdout",
     "output_type": "stream",
     "text": [
      "org: BRP Inc.\n",
      "country: NA\n",
      "state: NA\n",
      "city: NA\n",
      "industry: powersport\n",
      "risks: NA\n",
      "items_sold: Sea-Doo, off-road vehicles, side-by-side vehicles, three-wheeled motorcycles, snowmobiles, electric motorcycles, electric hydrofoil board\n",
      "service_provided: NA\n",
      "business_relations: NA\n"
     ]
    },
    {
     "name": "stderr",
     "output_type": "stream",
     "text": [
      "\r",
      "Generating responses:  41%|████▏     | 413/1000 [28:20<35:47,  3.66s/it]"
     ]
    },
    {
     "name": "stdout",
     "output_type": "stream",
     "text": [
      "NA\n"
     ]
    },
    {
     "name": "stderr",
     "output_type": "stream",
     "text": [
      "\r",
      "Generating responses:  41%|████▏     | 414/1000 [28:21<29:21,  3.01s/it]"
     ]
    },
    {
     "name": "stdout",
     "output_type": "stream",
     "text": [
      "org: BRP Inc.\n",
      "country: NA\n",
      "state: NA\n",
      "city: Montreal\n",
      "industry: powersport\n",
      "risks: NA\n",
      "items_sold: Sea-Doo, off-road vehicles, side-by-side vehicles, three-wheeled motorcycles, snowmobiles, electric snowmobiles, electric motorcycles, electric hydrofoil board\n",
      "service_provided: NA\n",
      "business_relations: NA\n"
     ]
    },
    {
     "name": "stderr",
     "output_type": "stream",
     "text": [
      "\r",
      "Generating responses:  42%|████▏     | 415/1000 [28:26<35:10,  3.61s/it]"
     ]
    },
    {
     "name": "stdout",
     "output_type": "stream",
     "text": [
      "org: Aptean\n",
      "country: NA\n",
      "state: Georgia\n",
      "city: Alpharetta\n",
      "industry: enterprise software solutions\n",
      "risks: NA\n",
      "items_sold: NA\n",
      "service_provided: NA\n",
      "business_relations: TOTALogistix\n"
     ]
    },
    {
     "name": "stderr",
     "output_type": "stream",
     "text": [
      "\r",
      "Generating responses:  42%|████▏     | 416/1000 [28:30<35:15,  3.62s/it]"
     ]
    },
    {
     "name": "stdout",
     "output_type": "stream",
     "text": [
      "org: Aptean\n",
      "country: NA\n",
      "state: Georgia\n",
      "city: Alpharetta\n",
      "industry: enterprise software solutions\n",
      "risks: NA\n",
      "items_sold: NA\n",
      "service_provided: cloud-based transportation management systems\n",
      "business_relations: TOTALogistix\n"
     ]
    },
    {
     "name": "stderr",
     "output_type": "stream",
     "text": [
      "\r",
      "Generating responses:  42%|████▏     | 417/1000 [28:34<37:59,  3.91s/it]"
     ]
    },
    {
     "name": "stdout",
     "output_type": "stream",
     "text": [
      "org: Mattel\n",
      "country: NA\n",
      "state: NA\n",
      "city: NA\n",
      "industry: Toy manufacturing\n",
      "risks: Competition; changing consumer preferences\n",
      "items_sold: Toys and games\n",
      "service_provided: NA\n",
      "business_relations: NA\n"
     ]
    },
    {
     "name": "stderr",
     "output_type": "stream",
     "text": [
      "\r",
      "Generating responses:  42%|████▏     | 418/1000 [28:38<36:29,  3.76s/it]"
     ]
    },
    {
     "name": "stdout",
     "output_type": "stream",
     "text": [
      "org: Aptean\n",
      "country: NA\n",
      "state: NA\n",
      "city: Alpharetta\n",
      "industry: Enterprise software solutions\n",
      "risks: NA\n",
      "items_sold: NA\n",
      "service_provided: NA\n",
      "business_relations: TOTALogistix\n"
     ]
    },
    {
     "name": "stderr",
     "output_type": "stream",
     "text": [
      "\r",
      "Generating responses:  42%|████▏     | 419/1000 [28:42<37:13,  3.84s/it]"
     ]
    },
    {
     "name": "stdout",
     "output_type": "stream",
     "text": [
      "org: Aptean\n",
      "country: NA\n",
      "state: NA\n",
      "city: Alpharetta\n",
      "industry: Enterprise software solutions\n",
      "risks: NA\n",
      "items_sold: NA\n",
      "service_provided: Cloud-based transportation management systems (TMS)\n",
      "business_relations: TOTALogistix\n"
     ]
    },
    {
     "name": "stderr",
     "output_type": "stream",
     "text": [
      "\r",
      "Generating responses:  42%|████▏     | 420/1000 [28:46<37:51,  3.92s/it]"
     ]
    },
    {
     "name": "stdout",
     "output_type": "stream",
     "text": [
      "org: Aptean\n",
      "country: NA\n",
      "state: Georgia\n",
      "city: Alpharetta\n",
      "industry: enterprise software solutions\n",
      "risks: NA\n",
      "items_sold: NA\n",
      "service_provided: supply chain software solutions\n",
      "business_relations: TOTALogistix\n"
     ]
    },
    {
     "name": "stderr",
     "output_type": "stream",
     "text": [
      "\r",
      "Generating responses:  42%|████▏     | 421/1000 [28:50<38:22,  3.98s/it]"
     ]
    },
    {
     "name": "stdout",
     "output_type": "stream",
     "text": [
      "org: Aptean\n",
      "country: United States\n",
      "state: Georgia\n",
      "city: Alpharetta\n",
      "industry: Enterprise software solutions\n",
      "risks: NA\n",
      "items_sold: NA\n",
      "service_provided: NA\n",
      "business_relations: TOTALogistix\n"
     ]
    },
    {
     "name": "stderr",
     "output_type": "stream",
     "text": [
      "\r",
      "Generating responses:  42%|████▏     | 422/1000 [28:54<37:38,  3.91s/it]"
     ]
    },
    {
     "name": "stdout",
     "output_type": "stream",
     "text": [
      "NA\n"
     ]
    },
    {
     "name": "stderr",
     "output_type": "stream",
     "text": [
      "\r",
      "Generating responses:  42%|████▏     | 423/1000 [28:55<30:36,  3.18s/it]"
     ]
    },
    {
     "name": "stdout",
     "output_type": "stream",
     "text": [
      "org: ARC Automotive\n",
      "country: NA\n",
      "state: NA\n",
      "city: NA\n",
      "industry: Automotive\n",
      "risks: Safety defect\n",
      "items_sold: Air bag inflators\n",
      "service_provided: NA\n",
      "business_relations: NA\n"
     ]
    },
    {
     "name": "stderr",
     "output_type": "stream",
     "text": [
      "\r",
      "Generating responses:  42%|████▏     | 424/1000 [28:59<31:45,  3.31s/it]"
     ]
    },
    {
     "name": "stdout",
     "output_type": "stream",
     "text": [
      "org: Toast Inc.\n",
      "country: NA\n",
      "state: NA\n",
      "city: NA\n",
      "industry: NA\n",
      "risks: NA\n",
      "items_sold: NA\n",
      "service_provided: NA\n",
      "business_relations: NA\n"
     ]
    },
    {
     "name": "stderr",
     "output_type": "stream",
     "text": [
      "\r",
      "Generating responses:  42%|████▎     | 425/1000 [29:02<31:55,  3.33s/it]"
     ]
    },
    {
     "name": "stdout",
     "output_type": "stream",
     "text": [
      "org: C3.ai\n",
      "country: NA\n",
      "state: NA\n",
      "city: NA\n",
      "industry: enterprise artificial intelligence (AI) software solutions\n",
      "risks: competition; slow adoption; cybersecurity\n",
      "items_sold: NA\n",
      "service_provided: enterprise AI software solutions\n",
      "business_relations: NA\n"
     ]
    },
    {
     "name": "stderr",
     "output_type": "stream",
     "text": [
      "\r",
      "Generating responses:  43%|████▎     | 426/1000 [29:06<32:47,  3.43s/it]"
     ]
    },
    {
     "name": "stdout",
     "output_type": "stream",
     "text": [
      "org: C3.ai\n",
      "country: NA\n",
      "state: NA\n",
      "city: NA\n",
      "industry: enterprise artificial intelligence (AI) software solutions\n",
      "risks: competition; market saturation; technological disruption\n",
      "items_sold: NA\n",
      "service_provided: enterprise AI software solutions\n",
      "business_relations: NA\n"
     ]
    },
    {
     "name": "stderr",
     "output_type": "stream",
     "text": [
      "\r",
      "Generating responses:  43%|████▎     | 427/1000 [29:10<33:57,  3.56s/it]"
     ]
    },
    {
     "name": "stdout",
     "output_type": "stream",
     "text": [
      "org: OWC\n",
      "country: NA\n",
      "state: NA\n",
      "city: NA\n",
      "industry: Data storage\n",
      "risks: Data loss; Corrupted files\n",
      "items_sold: Storage cards\n",
      "service_provided: NA\n",
      "business_relations: NA\n"
     ]
    },
    {
     "name": "stderr",
     "output_type": "stream",
     "text": [
      "\r",
      "Generating responses:  43%|████▎     | 428/1000 [29:13<33:21,  3.50s/it]"
     ]
    },
    {
     "name": "stdout",
     "output_type": "stream",
     "text": [
      "org: Boost Media Agency\n",
      "country: NA\n",
      "state: NA\n",
      "city: NA\n",
      "industry: Marketing/Advertising\n",
      "risks: NA\n",
      "items_sold: NA\n",
      "service_provided: Marketing/Advertising services\n",
      "business_relations: NA\n"
     ]
    },
    {
     "name": "stderr",
     "output_type": "stream",
     "text": [
      "\r",
      "Generating responses:  43%|████▎     | 429/1000 [29:17<34:56,  3.67s/it]"
     ]
    },
    {
     "name": "stdout",
     "output_type": "stream",
     "text": [
      "org: Snapchat\n",
      "country: NA\n",
      "state: NA\n",
      "city: NA\n",
      "industry: Social Media\n",
      "risks: Rising Costs; Declining Returns; Slow User Growth\n",
      "items_sold: NA\n",
      "service_provided: Social Media Platform\n",
      "business_relations: NA\n"
     ]
    },
    {
     "name": "stderr",
     "output_type": "stream",
     "text": [
      "\r",
      "Generating responses:  43%|████▎     | 430/1000 [29:21<36:08,  3.80s/it]"
     ]
    },
    {
     "name": "stdout",
     "output_type": "stream",
     "text": [
      "org: CONNEX\n",
      "country: NA\n",
      "state: NA\n",
      "city: NA\n",
      "industry: NA\n",
      "risks: NA\n",
      "items_sold: NA\n",
      "service_provided: Marketplace for manufacturers and buyers to connect\n",
      "business_relations: NA\n"
     ]
    },
    {
     "name": "stderr",
     "output_type": "stream",
     "text": [
      "\r",
      "Generating responses:  43%|████▎     | 431/1000 [29:25<37:09,  3.92s/it]"
     ]
    },
    {
     "name": "stdout",
     "output_type": "stream",
     "text": [
      "org: NA\n"
     ]
    },
    {
     "name": "stderr",
     "output_type": "stream",
     "text": [
      "\r",
      "Generating responses:  43%|████▎     | 432/1000 [29:27<30:08,  3.18s/it]"
     ]
    },
    {
     "name": "stdout",
     "output_type": "stream",
     "text": [
      "NA\n"
     ]
    },
    {
     "name": "stderr",
     "output_type": "stream",
     "text": [
      "\r",
      "Generating responses:  43%|████▎     | 433/1000 [29:29<26:02,  2.76s/it]"
     ]
    },
    {
     "name": "stdout",
     "output_type": "stream",
     "text": [
      "org: Lucid Group\n",
      "country: NA\n",
      "state: NA\n",
      "city: NA\n",
      "industry: NA\n",
      "risks: Capital raising\n",
      "items_sold: NA\n",
      "service_provided: NA\n",
      "business_relations: NA\n"
     ]
    },
    {
     "name": "stderr",
     "output_type": "stream",
     "text": [
      "\r",
      "Generating responses:  43%|████▎     | 434/1000 [29:32<28:28,  3.02s/it]"
     ]
    },
    {
     "name": "stdout",
     "output_type": "stream",
     "text": [
      "org: NA\n"
     ]
    },
    {
     "name": "stderr",
     "output_type": "stream",
     "text": [
      "\r",
      "Generating responses:  44%|████▎     | 435/1000 [29:34<24:06,  2.56s/it]"
     ]
    },
    {
     "name": "stdout",
     "output_type": "stream",
     "text": [
      "org: ARC Automotive Inc.\n",
      "country: NA\n",
      "state: Tennessee\n",
      "city: Knoxville\n",
      "industry: Automotive\n",
      "risks: Explosions; Shrapnel; Safety\n",
      "items_sold: NA\n",
      "service_provided: NA\n",
      "business_relations: NA\n"
     ]
    },
    {
     "name": "stderr",
     "output_type": "stream",
     "text": [
      "\r",
      "Generating responses:  44%|████▎     | 436/1000 [29:37<26:31,  2.82s/it]"
     ]
    },
    {
     "name": "stdout",
     "output_type": "stream",
     "text": [
      "org: NA\n"
     ]
    },
    {
     "name": "stderr",
     "output_type": "stream",
     "text": [
      "\r",
      "Generating responses:  44%|████▎     | 437/1000 [29:40<25:26,  2.71s/it]"
     ]
    },
    {
     "name": "stdout",
     "output_type": "stream",
     "text": [
      "org: Salesforce, Inc.\n",
      "country: NA\n",
      "state: NA\n",
      "city: NA\n",
      "industry: Cloud-based software solutions\n",
      "risks: Uncertain economy; Reduced demand\n",
      "items_sold: NA\n",
      "service_provided: Cloud-based software solutions\n",
      "business_relations: NA\n"
     ]
    },
    {
     "name": "stderr",
     "output_type": "stream",
     "text": [
      "\r",
      "Generating responses:  44%|████▍     | 438/1000 [29:43<28:20,  3.03s/it]"
     ]
    },
    {
     "name": "stdout",
     "output_type": "stream",
     "text": [
      "org: NA\n"
     ]
    },
    {
     "name": "stderr",
     "output_type": "stream",
     "text": [
      "\r",
      "Generating responses:  44%|████▍     | 439/1000 [29:45<24:24,  2.61s/it]"
     ]
    },
    {
     "name": "stdout",
     "output_type": "stream",
     "text": [
      "org: Waste Management, Inc.\n",
      "country: NA\n",
      "state: NA\n",
      "city: NA\n",
      "industry: waste management environmental services\n",
      "risks: NA\n",
      "items_sold: NA\n",
      "service_provided: waste management environmental services\n",
      "business_relations: NA\n"
     ]
    },
    {
     "name": "stderr",
     "output_type": "stream",
     "text": [
      "\r",
      "Generating responses:  44%|████▍     | 440/1000 [29:49<29:10,  3.13s/it]"
     ]
    },
    {
     "name": "stdout",
     "output_type": "stream",
     "text": [
      "org: Vanguard Group\n",
      "country: NA\n",
      "state: NA\n",
      "city: NA\n",
      "industry: Financial Services\n",
      "risks: Regulatory Compliance\n",
      "items_sold: Mutual Funds\n",
      "service_provided: NA\n",
      "business_relations: NA\n"
     ]
    },
    {
     "name": "stderr",
     "output_type": "stream",
     "text": [
      "\r",
      "Generating responses:  44%|████▍     | 441/1000 [29:54<32:10,  3.45s/it]"
     ]
    },
    {
     "name": "stdout",
     "output_type": "stream",
     "text": [
      "org: NA\n"
     ]
    },
    {
     "name": "stderr",
     "output_type": "stream",
     "text": [
      "\r",
      "Generating responses:  44%|████▍     | 442/1000 [29:55<27:14,  2.93s/it]"
     ]
    },
    {
     "name": "stdout",
     "output_type": "stream",
     "text": [
      "org: Virtua Health\n",
      "country: NA\n",
      "state: New Jersey\n",
      "city: Marlton\n",
      "industry: Healthcare\n",
      "risks: NA\n",
      "items_sold: NA\n",
      "service_provided: NA\n",
      "business_relations: NA\n"
     ]
    },
    {
     "name": "stderr",
     "output_type": "stream",
     "text": [
      "\r",
      "Generating responses:  44%|████▍     | 443/1000 [29:59<28:43,  3.09s/it]"
     ]
    },
    {
     "name": "stdout",
     "output_type": "stream",
     "text": [
      "org: Sodexo Engage\n",
      "country: NA\n",
      "state: NA\n",
      "city: NA\n",
      "industry: Employee engagement\n",
      "risks: NA\n",
      "items_sold: Pre-paid cards; Voucher schemes; Employee benefits\n",
      "service_provided: Employee benefits; Rewards and recognition\n",
      "business_relations: Crown Commercial Service (CCS)\n"
     ]
    },
    {
     "name": "stderr",
     "output_type": "stream",
     "text": [
      "\r",
      "Generating responses:  44%|████▍     | 444/1000 [30:03<32:42,  3.53s/it]"
     ]
    },
    {
     "name": "stdout",
     "output_type": "stream",
     "text": [
      "org: Sensata Technologies Holding plc\n",
      "country: NA\n",
      "state: NA\n",
      "city: NA\n",
      "industry: Scientific & Technical Instruments\n",
      "risks: NA\n",
      "items_sold: NA\n",
      "service_provided: NA\n",
      "business_relations: NA\n"
     ]
    },
    {
     "name": "stderr",
     "output_type": "stream",
     "text": [
      "\r",
      "Generating responses:  44%|████▍     | 445/1000 [30:07<33:47,  3.65s/it]"
     ]
    },
    {
     "name": "stdout",
     "output_type": "stream",
     "text": [
      "org: NA\n"
     ]
    },
    {
     "name": "stderr",
     "output_type": "stream",
     "text": [
      "\r",
      "Generating responses:  45%|████▍     | 446/1000 [30:09<27:14,  2.95s/it]"
     ]
    },
    {
     "name": "stdout",
     "output_type": "stream",
     "text": [
      "org: Society of Industrial & Office Realtors\n",
      "country: NA\n",
      "state: Connecticut and Western Massachusetts\n",
      "city: NA\n",
      "industry: Real Estate\n",
      "risks: pandemic vulnerability; outdated office space\n",
      "items_sold: NA\n",
      "service_provided: NA\n",
      "business_relations: NA\n"
     ]
    },
    {
     "name": "stderr",
     "output_type": "stream",
     "text": [
      "\r",
      "Generating responses:  45%|████▍     | 447/1000 [30:13<32:09,  3.49s/it]"
     ]
    },
    {
     "name": "stdout",
     "output_type": "stream",
     "text": [
      "org: NA\n"
     ]
    },
    {
     "name": "stderr",
     "output_type": "stream",
     "text": [
      "\r",
      "Generating responses:  45%|████▍     | 448/1000 [30:15<26:17,  2.86s/it]"
     ]
    },
    {
     "name": "stdout",
     "output_type": "stream",
     "text": [
      "org: NA\n"
     ]
    },
    {
     "name": "stderr",
     "output_type": "stream",
     "text": [
      "\r",
      "Generating responses:  45%|████▍     | 449/1000 [30:17<24:25,  2.66s/it]"
     ]
    },
    {
     "name": "stdout",
     "output_type": "stream",
     "text": [
      "org: Wounded Warrior Project's Warrior Care Network\n",
      "country: NA\n",
      "state: NA\n",
      "city: NA\n",
      "industry: Non-profit\n",
      "risks: NA\n",
      "items_sold: NA\n",
      "service_provided: Treatment for Post Traumatic Stress Disorder\n",
      "business_relations: NA\n"
     ]
    },
    {
     "name": "stderr",
     "output_type": "stream",
     "text": [
      "\r",
      "Generating responses:  45%|████▌     | 450/1000 [30:22<31:39,  3.45s/it]"
     ]
    },
    {
     "name": "stdout",
     "output_type": "stream",
     "text": [
      "org: NA\n"
     ]
    },
    {
     "name": "stderr",
     "output_type": "stream",
     "text": [
      "\r",
      "Generating responses:  45%|████▌     | 451/1000 [30:23<25:26,  2.78s/it]"
     ]
    },
    {
     "name": "stdout",
     "output_type": "stream",
     "text": [
      "org: Waste Management, Inc.\n",
      "country: NA\n",
      "state: NA\n",
      "city: NA\n",
      "industry: waste management environmental services\n",
      "risks: NA\n",
      "items_sold: NA\n",
      "service_provided: NA\n",
      "business_relations: NA\n"
     ]
    },
    {
     "name": "stderr",
     "output_type": "stream",
     "text": [
      "\r",
      "Generating responses:  45%|████▌     | 452/1000 [30:27<28:41,  3.14s/it]"
     ]
    },
    {
     "name": "stdout",
     "output_type": "stream",
     "text": [
      "org: Riskified Ltd.\n",
      "country: NA\n",
      "state: NA\n",
      "city: NA\n",
      "industry: NA\n",
      "risks: mounting debt\n",
      "items_sold: NA\n",
      "service_provided: NA\n",
      "business_relations: NA\n"
     ]
    },
    {
     "name": "stderr",
     "output_type": "stream",
     "text": [
      "\r",
      "Generating responses:  45%|████▌     | 453/1000 [30:31<30:11,  3.31s/it]"
     ]
    },
    {
     "name": "stdout",
     "output_type": "stream",
     "text": [
      "org: Sodexo Engage\n",
      "country: NA\n",
      "state: NA\n",
      "city: NA\n",
      "industry: Employee engagement\n",
      "risks: NA\n",
      "items_sold: Pre-paid cards; Closed looped voucher schemes\n",
      "service_provided: Employee benefits, rewards and recognition; Employee experience solutions\n",
      "business_relations: Crown Commercial Service (CCS)\n"
     ]
    },
    {
     "name": "stderr",
     "output_type": "stream",
     "text": [
      "\r",
      "Generating responses:  45%|████▌     | 454/1000 [30:36<33:38,  3.70s/it]"
     ]
    },
    {
     "name": "stdout",
     "output_type": "stream",
     "text": [
      "org: Automation Anywhere\n",
      "country: NA\n",
      "state: NA\n",
      "city: San Jose\n",
      "industry: Cloud-native intelligent automation\n",
      "risks: NA\n",
      "items_sold: Cloud automation platform\n",
      "service_provided: Automation and process intelligence solutions\n",
      "business_relations: Amazon Web Services (AWS)\n"
     ]
    },
    {
     "name": "stderr",
     "output_type": "stream",
     "text": [
      "\r",
      "Generating responses:  46%|████▌     | 455/1000 [30:40<34:53,  3.84s/it]"
     ]
    },
    {
     "name": "stdout",
     "output_type": "stream",
     "text": [
      "org: Macy's\n",
      "country: NA\n",
      "state: NA\n",
      "city: NA\n",
      "industry: Retail\n",
      "risks: Consumer pressures; merchandising missteps; shift in priorities towards experiences and services\n",
      "items_sold: NA\n",
      "service_provided: NA\n",
      "business_relations: NA\n"
     ]
    },
    {
     "name": "stderr",
     "output_type": "stream",
     "text": [
      "\r",
      "Generating responses:  46%|████▌     | 456/1000 [30:44<35:36,  3.93s/it]"
     ]
    },
    {
     "name": "stdout",
     "output_type": "stream",
     "text": [
      "org: Vanguard Group\n",
      "country: NA\n",
      "state: NA\n",
      "city: NA\n",
      "industry: Financial Services\n",
      "risks: Errors in statements\n",
      "items_sold: Mutual funds\n",
      "service_provided: NA\n",
      "business_relations: NA\n"
     ]
    },
    {
     "name": "stderr",
     "output_type": "stream",
     "text": [
      "\r",
      "Generating responses:  46%|████▌     | 457/1000 [30:47<34:12,  3.78s/it]"
     ]
    },
    {
     "name": "stdout",
     "output_type": "stream",
     "text": [
      "org: ARC Automotive Inc.\n",
      "country: NA\n",
      "state: NA\n",
      "city: NA\n",
      "industry: Automotive\n",
      "risks: Defective airbags\n",
      "items_sold: Airbag inflators\n",
      "service_provided: NA\n",
      "business_relations: NA\n"
     ]
    },
    {
     "name": "stderr",
     "output_type": "stream",
     "text": [
      "\r",
      "Generating responses:  46%|████▌     | 458/1000 [30:51<34:25,  3.81s/it]"
     ]
    },
    {
     "name": "stdout",
     "output_type": "stream",
     "text": [
      "org: Automation Anywhere\n",
      "country: NA\n",
      "state: NA\n",
      "city: San Jose\n",
      "industry: Cloud automation platform\n",
      "risks: NA\n",
      "items_sold: Automation and process intelligence solutions\n",
      "service_provided: Automation and process intelligence solutions\n",
      "business_relations: Amazon Web Services (AWS)\n"
     ]
    },
    {
     "name": "stderr",
     "output_type": "stream",
     "text": [
      "\r",
      "Generating responses:  46%|████▌     | 459/1000 [30:56<37:25,  4.15s/it]"
     ]
    },
    {
     "name": "stdout",
     "output_type": "stream",
     "text": [
      "org: NA\n"
     ]
    },
    {
     "name": "stderr",
     "output_type": "stream",
     "text": [
      "\r",
      "Generating responses:  46%|████▌     | 460/1000 [30:58<31:03,  3.45s/it]"
     ]
    },
    {
     "name": "stdout",
     "output_type": "stream",
     "text": [
      "org: Revolut\n",
      "country: NA\n",
      "state: NA\n",
      "city: NA\n",
      "industry: Financial technology\n",
      "risks: Regulatory compliance; Cybersecurity; Competition\n",
      "items_sold: NA\n",
      "service_provided: Financial services\n",
      "business_relations: PayPal\n"
     ]
    },
    {
     "name": "stderr",
     "output_type": "stream",
     "text": [
      "\r",
      "Generating responses:  46%|████▌     | 461/1000 [31:02<31:09,  3.47s/it]"
     ]
    },
    {
     "name": "stdout",
     "output_type": "stream",
     "text": [
      "org: NA\n"
     ]
    },
    {
     "name": "stderr",
     "output_type": "stream",
     "text": [
      "\r",
      "Generating responses:  46%|████▌     | 462/1000 [31:04<27:11,  3.03s/it]"
     ]
    },
    {
     "name": "stdout",
     "output_type": "stream",
     "text": [
      "org: NA\n"
     ]
    },
    {
     "name": "stderr",
     "output_type": "stream",
     "text": [
      "\r",
      "Generating responses:  46%|████▋     | 463/1000 [31:06<24:26,  2.73s/it]"
     ]
    },
    {
     "name": "stdout",
     "output_type": "stream",
     "text": [
      "org: TransUnion\n",
      "country: NA\n",
      "state: NA\n",
      "city: NA\n",
      "industry: Financial and commerce systems\n",
      "risks: Difficulty in identification and stoppage of synthetic identity fraud\n",
      "items_sold: NA\n",
      "service_provided: NA\n",
      "business_relations: Sontiq, Aura, Experian, Ikata, Identity Guard, Kount, LifeLock, IdentityForce, IdentityIQ, Telesign\n"
     ]
    },
    {
     "name": "stderr",
     "output_type": "stream",
     "text": [
      "\r",
      "Generating responses:  46%|████▋     | 464/1000 [31:11<32:07,  3.60s/it]"
     ]
    },
    {
     "name": "stdout",
     "output_type": "stream",
     "text": [
      "org: U.S. Consumer Product Safety Commission (CPSC)\n",
      "country: United States\n",
      "state: NA\n",
      "city: NA\n",
      "industry: Consumer product safety\n",
      "risks: Burns; Smoke inhalation; Failure to extinguish fires\n",
      "items_sold: Fire extinguisher balls\n",
      "service_provided: NA\n",
      "business_relations: NA\n"
     ]
    },
    {
     "name": "stderr",
     "output_type": "stream",
     "text": [
      "\r",
      "Generating responses:  46%|████▋     | 465/1000 [31:15<33:08,  3.72s/it]"
     ]
    },
    {
     "name": "stdout",
     "output_type": "stream",
     "text": [
      "org: Alcove\n",
      "country: NA\n",
      "state: Massachusetts\n",
      "city: Boston\n",
      "industry: Hospitality\n",
      "risks: NA\n",
      "items_sold: NA\n",
      "service_provided: NA\n",
      "business_relations: NA\n"
     ]
    },
    {
     "name": "stderr",
     "output_type": "stream",
     "text": [
      "\r",
      "Generating responses:  47%|████▋     | 466/1000 [31:20<36:04,  4.05s/it]"
     ]
    },
    {
     "name": "stdout",
     "output_type": "stream",
     "text": [
      "org: China Securities Regulatory Commission\n",
      "country: China\n",
      "state: NA\n",
      "city: Shenzhen\n",
      "industry: Finance\n",
      "risks: NA\n",
      "items_sold: NA\n",
      "service_provided: NA\n",
      "business_relations: NA\n"
     ]
    },
    {
     "name": "stderr",
     "output_type": "stream",
     "text": [
      "\r",
      "Generating responses:  47%|████▋     | 467/1000 [31:23<33:30,  3.77s/it]"
     ]
    },
    {
     "name": "stdout",
     "output_type": "stream",
     "text": [
      "NA\n"
     ]
    },
    {
     "name": "stderr",
     "output_type": "stream",
     "text": [
      "\r",
      "Generating responses:  47%|████▋     | 468/1000 [31:25<29:24,  3.32s/it]"
     ]
    },
    {
     "name": "stdout",
     "output_type": "stream",
     "text": [
      "org: Dream Unlimited\n",
      "country: NA\n",
      "state: NA\n",
      "city: Toronto\n",
      "industry: Real estate\n",
      "risks: Above-guideline rent increases\n",
      "items_sold: NA\n",
      "service_provided: NA\n",
      "business_relations: NA\n"
     ]
    },
    {
     "name": "stderr",
     "output_type": "stream",
     "text": [
      "\r",
      "Generating responses:  47%|████▋     | 469/1000 [31:30<32:27,  3.67s/it]"
     ]
    },
    {
     "name": "stdout",
     "output_type": "stream",
     "text": [
      "org: Customer Management Practice\n",
      "country: NA\n",
      "state: NA\n",
      "city: New York City\n",
      "industry: Customer management\n",
      "risks: NA\n",
      "items_sold: NA\n",
      "service_provided: Research, marketing and business development services to the customer management sector\n",
      "business_relations: Intelligent Enterprise Leaders Alliance (IELA)\n"
     ]
    },
    {
     "name": "stderr",
     "output_type": "stream",
     "text": [
      "\r",
      "Generating responses:  47%|████▋     | 470/1000 [31:35<35:23,  4.01s/it]"
     ]
    },
    {
     "name": "stdout",
     "output_type": "stream",
     "text": [
      "org: OffSec\n",
      "country: NA\n",
      "state: NA\n",
      "city: NA\n",
      "industry: cybersecurity workforce development and learning\n",
      "risks: cyber threats\n",
      "items_sold: NA\n",
      "service_provided: continuous professional and workforce development, training, and education for cybersecurity practitioners\n",
      "business_relations: NA\n"
     ]
    },
    {
     "name": "stderr",
     "output_type": "stream",
     "text": [
      "\r",
      "Generating responses:  47%|████▋     | 471/1000 [31:39<35:18,  4.00s/it]"
     ]
    },
    {
     "name": "stdout",
     "output_type": "stream",
     "text": [
      "org: Lucidworks\n",
      "country: NA\n",
      "state: NA\n",
      "city: San Francisco\n",
      "industry: Search solutions provider\n",
      "risks: NA\n",
      "items_sold: Suite of products for commerce, customer service, and workplace applications\n",
      "service_provided: Search and browse solutions\n",
      "business_relations: Google Cloud\n"
     ]
    },
    {
     "name": "stderr",
     "output_type": "stream",
     "text": [
      "\r",
      "Generating responses:  47%|████▋     | 472/1000 [31:42<34:22,  3.91s/it]"
     ]
    },
    {
     "name": "stdout",
     "output_type": "stream",
     "text": [
      "org: Harford County Public Schools\n",
      "country: NA\n",
      "state: Maryland\n",
      "city: Harford County\n",
      "industry: Education\n",
      "risks: Mental health crisis; Burden on school districts\n",
      "items_sold: NA\n",
      "service_provided: Education services\n",
      "business_relations: Meta; Google; ByteDance; Snap Inc.\n"
     ]
    },
    {
     "name": "stderr",
     "output_type": "stream",
     "text": [
      "\r",
      "Generating responses:  47%|████▋     | 473/1000 [31:47<35:39,  4.06s/it]"
     ]
    },
    {
     "name": "stdout",
     "output_type": "stream",
     "text": [
      "org: V.F. Corporation\n",
      "country: NA\n",
      "state: NA\n",
      "city: NA\n",
      "industry: NA\n",
      "risks: NA\n",
      "items_sold: NA\n",
      "service_provided: NA\n",
      "business_relations: NA\n"
     ]
    },
    {
     "name": "stderr",
     "output_type": "stream",
     "text": [
      "\r",
      "Generating responses:  47%|████▋     | 474/1000 [31:51<34:54,  3.98s/it]"
     ]
    },
    {
     "name": "stdout",
     "output_type": "stream",
     "text": [
      "org: MultiPlan Corporation\n",
      "country: NA\n",
      "state: NA\n",
      "city: NA\n",
      "industry: NA\n",
      "risks: mounting debt\n",
      "items_sold: NA\n",
      "service_provided: NA\n",
      "business_relations: NA\n"
     ]
    },
    {
     "name": "stderr",
     "output_type": "stream",
     "text": [
      "\r",
      "Generating responses:  48%|████▊     | 475/1000 [31:55<34:33,  3.95s/it]"
     ]
    },
    {
     "name": "stdout",
     "output_type": "stream",
     "text": [
      "org: U.S. Consumer Product Safety Commission (CPSC)\n",
      "country: United States\n",
      "state: Washington\n",
      "city: Washington\n",
      "industry: Consumer Product Safety\n",
      "risks: Failure to extinguish fires; Risk of serious injury or death\n",
      "items_sold: Fire Extinguisher Balls\n",
      "service_provided: NA\n",
      "business_relations: Amazon.com\n"
     ]
    },
    {
     "name": "stderr",
     "output_type": "stream",
     "text": [
      "\r",
      "Generating responses:  48%|████▊     | 476/1000 [31:59<35:13,  4.03s/it]"
     ]
    },
    {
     "name": "stdout",
     "output_type": "stream",
     "text": [
      "NA\n"
     ]
    },
    {
     "name": "stderr",
     "output_type": "stream",
     "text": [
      "\r",
      "Generating responses:  48%|████▊     | 477/1000 [32:00<28:09,  3.23s/it]"
     ]
    },
    {
     "name": "stdout",
     "output_type": "stream",
     "text": [
      "org: COUNTY COMMISSIONER-VIHIGA COUNTY\n",
      "country: Kenya\n",
      "state: NA\n",
      "city: Vihiga\n",
      "industry: NA\n",
      "risks: NA\n",
      "items_sold: promotional material, t-shirts, caps, carrier bags, umbrellas and banners\n",
      "service_provided: NA\n",
      "business_relations: NA\n"
     ]
    },
    {
     "name": "stderr",
     "output_type": "stream",
     "text": [
      "\r",
      "Generating responses:  48%|████▊     | 478/1000 [32:04<31:09,  3.58s/it]"
     ]
    },
    {
     "name": "stdout",
     "output_type": "stream",
     "text": [
      "org: U.S. Consumer Product Safety Commission (CPSC)\n",
      "country: NA\n",
      "state: NA\n",
      "city: NA\n",
      "industry: NA\n",
      "risks: Burns; Smoke inhalation; Failure to extinguish\n",
      "items_sold: Fire extinguisher balls\n",
      "service_provided: NA\n",
      "business_relations: Amazon.com\n"
     ]
    },
    {
     "name": "stderr",
     "output_type": "stream",
     "text": [
      "\r",
      "Generating responses:  48%|████▊     | 479/1000 [32:09<32:19,  3.72s/it]"
     ]
    },
    {
     "name": "stdout",
     "output_type": "stream",
     "text": [
      "org: C3.ai Inc.\n",
      "country: NA\n",
      "state: NA\n",
      "city: Redwood City\n",
      "industry: Artificial Intelligence software\n",
      "risks: NA\n",
      "items_sold: NA\n",
      "service_provided: NA\n",
      "business_relations: NA\n"
     ]
    },
    {
     "name": "stderr",
     "output_type": "stream",
     "text": [
      "\r",
      "Generating responses:  48%|████▊     | 480/1000 [32:13<33:10,  3.83s/it]"
     ]
    },
    {
     "name": "stdout",
     "output_type": "stream",
     "text": [
      "org: Activision Blizzard Media\n",
      "country: NA\n",
      "state: NA\n",
      "city: NA\n",
      "industry: Gaming\n",
      "risks: Privacy breaches; Cyber attacks; Competition\n",
      "items_sold: NA\n",
      "service_provided: Advertising services\n",
      "business_relations: NA\n"
     ]
    },
    {
     "name": "stderr",
     "output_type": "stream",
     "text": [
      "\r",
      "Generating responses:  48%|████▊     | 481/1000 [32:16<31:57,  3.69s/it]"
     ]
    },
    {
     "name": "stdout",
     "output_type": "stream",
     "text": [
      "org: Dollar General Corp.\n",
      "country: NA\n",
      "state: NA\n",
      "city: NA\n",
      "industry: Retail\n",
      "risks: Competition; Economic slowdown; Supply chain disruptions\n",
      "items_sold: Household essentials; Groceries; Clothing; Seasonal items\n",
      "service_provided: NA\n",
      "business_relations: NA\n"
     ]
    },
    {
     "name": "stderr",
     "output_type": "stream",
     "text": [
      "\r",
      "Generating responses:  48%|████▊     | 482/1000 [32:20<33:37,  3.90s/it]"
     ]
    },
    {
     "name": "stdout",
     "output_type": "stream",
     "text": [
      "org: CrowdStrike Holdings Inc\n",
      "country: NA\n",
      "state: NA\n",
      "city: NA\n",
      "industry: Technology\n",
      "risks: Cybersecurity breaches; Competition; Dependence on cloud technology\n",
      "items_sold: Cybersecurity software\n",
      "service_provided: Cybersecurity services\n",
      "business_relations: NA\n"
     ]
    },
    {
     "name": "stderr",
     "output_type": "stream",
     "text": [
      "\r",
      "Generating responses:  48%|████▊     | 483/1000 [32:25<36:22,  4.22s/it]"
     ]
    },
    {
     "name": "stdout",
     "output_type": "stream",
     "text": [
      "org: Valero Energy Corporation\n",
      "country: United States\n",
      "state: NA\n",
      "city: NA\n",
      "industry: Energy & Environment\n",
      "risks: regulations; flammability\n",
      "items_sold: NA\n",
      "service_provided: NA\n",
      "business_relations: Archer Daniels Midland Company, Cargill, Incorporated, Greenfield Global, ExxonMobil Corporation, LyondellBasell Industries N.V., BP plc, Royal Dutch Shell plc, Indian Oil Corporation Limited, Cosan S.A.\n"
     ]
    },
    {
     "name": "stderr",
     "output_type": "stream",
     "text": [
      "\r",
      "Generating responses:  48%|████▊     | 484/1000 [32:32<41:33,  4.83s/it]"
     ]
    },
    {
     "name": "stdout",
     "output_type": "stream",
     "text": [
      "org: ARC Automotive Inc.\n",
      "country: United States\n",
      "state: Tennessee\n",
      "city: Knoxville\n",
      "industry: Automotive manufacturing\n",
      "risks: Exploding inflators; Shrapnel expulsion\n",
      "items_sold: N/A\n",
      "service_provided: N/A\n",
      "business_relations: N/A\n"
     ]
    },
    {
     "name": "stderr",
     "output_type": "stream",
     "text": [
      "\r",
      "Generating responses:  48%|████▊     | 485/1000 [32:35<39:00,  4.55s/it]"
     ]
    },
    {
     "name": "stdout",
     "output_type": "stream",
     "text": [
      "org: U.S. Consumer Product Safety Commission (CPSC)\n",
      "country: United States\n",
      "state: NA\n",
      "city: Washington\n",
      "industry: Consumer product safety\n",
      "risks: Burns; Smoke inhalation; Unintentional discharge\n",
      "items_sold: Fire extinguisher balls\n",
      "service_provided: NA\n",
      "business_relations: Amazon.com\n"
     ]
    },
    {
     "name": "stderr",
     "output_type": "stream",
     "text": [
      "\r",
      "Generating responses:  49%|████▊     | 486/1000 [32:41<40:32,  4.73s/it]"
     ]
    },
    {
     "name": "stdout",
     "output_type": "stream",
     "text": [
      "org: Eramet\n",
      "country: France\n",
      "state: NA\n",
      "city: NA\n",
      "industry: Mining\n",
      "risks: NA\n",
      "items_sold: Ferronickel\n",
      "service_provided: NA\n",
      "business_relations: Shanghai Metals Market\n"
     ]
    },
    {
     "name": "stderr",
     "output_type": "stream",
     "text": [
      "\r",
      "Generating responses:  49%|████▊     | 487/1000 [32:45<38:45,  4.53s/it]"
     ]
    },
    {
     "name": "stdout",
     "output_type": "stream",
     "text": [
      "org: Anheuser-Busch InBev SA (AB InBev)\n",
      "country: NA\n",
      "state: NA\n",
      "city: NA\n",
      "industry: Beverages\n",
      "risks: Boycott; Decreased earnings; Devaluation\n",
      "items_sold: Beer\n",
      "service_provided: NA\n",
      "business_relations: NA\n"
     ]
    },
    {
     "name": "stderr",
     "output_type": "stream",
     "text": [
      "\r",
      "Generating responses:  49%|████▉     | 488/1000 [32:49<36:55,  4.33s/it]"
     ]
    },
    {
     "name": "stdout",
     "output_type": "stream",
     "text": [
      "org: Waitrose\n",
      "country: UK\n",
      "state: NA\n",
      "city: NA\n",
      "industry: Grocery\n",
      "risks: NA\n",
      "items_sold: NA\n",
      "service_provided: NA\n",
      "business_relations: NA\n"
     ]
    },
    {
     "name": "stderr",
     "output_type": "stream",
     "text": [
      "\r",
      "Generating responses:  49%|████▉     | 489/1000 [32:51<33:16,  3.91s/it]"
     ]
    },
    {
     "name": "stdout",
     "output_type": "stream",
     "text": [
      "org: MakerDAO\n",
      "country: NA\n",
      "state: NA\n",
      "city: NA\n",
      "industry: Decentralized finance (DeFi)\n",
      "risks: NA\n",
      "items_sold: NA\n",
      "service_provided: Decentralized money market for borrowing and lending assets\n",
      "business_relations: NA\n"
     ]
    },
    {
     "name": "stderr",
     "output_type": "stream",
     "text": [
      "\r",
      "Generating responses:  49%|████▉     | 490/1000 [32:55<32:33,  3.83s/it]"
     ]
    },
    {
     "name": "stdout",
     "output_type": "stream",
     "text": [
      "NA\n"
     ]
    },
    {
     "name": "stderr",
     "output_type": "stream",
     "text": [
      "\r",
      "Generating responses:  49%|████▉     | 491/1000 [32:56<25:47,  3.04s/it]"
     ]
    },
    {
     "name": "stdout",
     "output_type": "stream",
     "text": [
      "org: Shutterstock Inc.\n",
      "country: NA\n",
      "state: NA\n",
      "city: NA\n",
      "industry: NA\n",
      "risks: Mounting debt; Lower revenue growth\n",
      "items_sold: NA\n",
      "service_provided: NA\n",
      "business_relations: Blackrock Inc.; Vanguard Group, Inc. (The); iShares Core S&P Smallcap ETF; Delaware Ivy Mid Cap Growth Fund\n"
     ]
    },
    {
     "name": "stderr",
     "output_type": "stream",
     "text": [
      "\r",
      "Generating responses:  49%|████▉     | 492/1000 [33:01<28:42,  3.39s/it]"
     ]
    },
    {
     "name": "stdout",
     "output_type": "stream",
     "text": [
      "org: ARC Automotive Inc.\n",
      "country: United States\n",
      "state: Tennessee\n",
      "city: Knoxville\n",
      "industry: Automotive\n",
      "risks: Explosions; Shrapnel; Lawsuit\n",
      "items_sold: Air bag inflators\n",
      "service_provided: NA\n",
      "business_relations: NA\n"
     ]
    },
    {
     "name": "stderr",
     "output_type": "stream",
     "text": [
      "\r",
      "Generating responses:  49%|████▉     | 493/1000 [33:04<29:35,  3.50s/it]"
     ]
    },
    {
     "name": "stdout",
     "output_type": "stream",
     "text": [
      "org: Rocketlane\n",
      "country: NA\n",
      "state: NA\n",
      "city: NA\n",
      "industry: customer onboarding and project management platform\n",
      "risks: NA\n",
      "items_sold: NA\n",
      "service_provided: customer onboarding and project management\n",
      "business_relations: Pramata\n"
     ]
    },
    {
     "name": "stderr",
     "output_type": "stream",
     "text": [
      "\r",
      "Generating responses:  49%|████▉     | 494/1000 [33:08<30:03,  3.56s/it]"
     ]
    },
    {
     "name": "stdout",
     "output_type": "stream",
     "text": [
      "org: New Frontier Data\n",
      "country: NA\n",
      "state: NA\n",
      "city: Washington, D.C.\n",
      "industry: Cannabis data and business intelligence\n",
      "risks: NA\n",
      "items_sold: NA\n",
      "service_provided: Solutions for assessing, understanding, engaging and transacting with the cannabis industry and its consumers\n",
      "business_relations: Partnered with Hearst, a global diversified information, services and media company.\n"
     ]
    },
    {
     "name": "stderr",
     "output_type": "stream",
     "text": [
      "\r",
      "Generating responses:  50%|████▉     | 495/1000 [33:14<35:35,  4.23s/it]"
     ]
    },
    {
     "name": "stdout",
     "output_type": "stream",
     "text": [
      "org: Amazon\n",
      "country: NA\n",
      "state: NA\n",
      "city: NA\n",
      "industry: Technology\n",
      "risks: Child privacy violation; Deceptive practices\n",
      "items_sold: Alexa-enabled devices\n",
      "service_provided: Voice assistant service\n",
      "business_relations: NA\n"
     ]
    },
    {
     "name": "stderr",
     "output_type": "stream",
     "text": [
      "\r",
      "Generating responses:  50%|████▉     | 496/1000 [33:17<33:32,  3.99s/it]"
     ]
    },
    {
     "name": "stdout",
     "output_type": "stream",
     "text": [
      "org: ARC Automotive Inc.\n",
      "country: United States\n",
      "state: Tennessee\n",
      "city: Knoxville\n",
      "industry: Automotive parts manufacturing\n",
      "risks: potential rupture of inflaters; refusal to recall inflaters; fines and potential criminal penalties\n",
      "items_sold: air bag inflaters\n",
      "service_provided: NA\n",
      "business_relations: supplies inflaters to other manufacturers including Chevrolet, Buick, GMC, Ford, Toyota, Stellantis, Volkswagen, Audi, BMW, Porsche, Hyundai, and Kia\n"
     ]
    },
    {
     "name": "stderr",
     "output_type": "stream",
     "text": [
      "\r",
      "Generating responses:  50%|████▉     | 497/1000 [33:23<37:25,  4.46s/it]"
     ]
    },
    {
     "name": "stdout",
     "output_type": "stream",
     "text": [
      "org: Eider Vertical Farming (Eider VF)\n",
      "country: United Kingdom\n",
      "state: Worcestershire\n",
      "city: Kempsey\n",
      "industry: Controlled-environment agriculture\n",
      "risks: Challenging trading conditions\n",
      "items_sold: Leafy greens\n",
      "service_provided: Sustainable growth of leafy produce\n",
      "business_relations: Slate Asset Management\n"
     ]
    },
    {
     "name": "stderr",
     "output_type": "stream",
     "text": [
      "\r",
      "Generating responses:  50%|████▉     | 498/1000 [33:28<38:43,  4.63s/it]"
     ]
    },
    {
     "name": "stdout",
     "output_type": "stream",
     "text": [
      "org: Automation Anywhere\n",
      "country: NA\n",
      "state: NA\n",
      "city: San Jose\n",
      "industry: Cloud-native intelligent automation\n",
      "risks: NA\n",
      "items_sold: NA\n",
      "service_provided: Intelligent automation and generative AI innovations\n",
      "business_relations: Amazon Web Services (AWS)\n"
     ]
    },
    {
     "name": "stderr",
     "output_type": "stream",
     "text": [
      "\r",
      "Generating responses:  50%|████▉     | 499/1000 [33:33<39:44,  4.76s/it]"
     ]
    },
    {
     "name": "stdout",
     "output_type": "stream",
     "text": [
      "org: ARC Automotive Inc.\n",
      "country: NA\n",
      "state: NA\n",
      "city: NA\n",
      "industry: Automotive\n",
      "risks: Exploding inflators; Potential fines\n",
      "items_sold: Air bag inflators\n",
      "service_provided: NA\n",
      "business_relations: NA\n"
     ]
    },
    {
     "name": "stderr",
     "output_type": "stream",
     "text": [
      "\r",
      "Generating responses:  50%|█████     | 500/1000 [33:37<37:09,  4.46s/it]"
     ]
    },
    {
     "name": "stdout",
     "output_type": "stream",
     "text": [
      "org: TaskUs, Inc.\n",
      "country: NA\n",
      "state: Texas\n",
      "city: New Braunfels\n",
      "industry: Outsourced digital services and next-generation customer experience\n",
      "risks: NA\n",
      "items_sold: NA\n",
      "service_provided: Outsourced digital services and next-generation customer experience\n",
      "business_relations: MoneyLion Inc.\n"
     ]
    },
    {
     "name": "stderr",
     "output_type": "stream",
     "text": [
      "\r",
      "Generating responses:  50%|█████     | 501/1000 [33:41<36:27,  4.38s/it]"
     ]
    },
    {
     "name": "stdout",
     "output_type": "stream",
     "text": [
      "org: Automation Anywhere\n",
      "country: NA\n",
      "state: California\n",
      "city: San Jose\n",
      "industry: Cloud-native intelligent automation\n",
      "risks: NA\n",
      "items_sold: Cloud automation platform\n",
      "service_provided: Automation and process intelligence solutions\n",
      "business_relations: Amazon Web Services (AWS)\n"
     ]
    },
    {
     "name": "stderr",
     "output_type": "stream",
     "text": [
      "\r",
      "Generating responses:  50%|█████     | 502/1000 [33:46<37:06,  4.47s/it]"
     ]
    },
    {
     "name": "stdout",
     "output_type": "stream",
     "text": [
      "NA\n"
     ]
    },
    {
     "name": "stderr",
     "output_type": "stream",
     "text": [
      "\r",
      "Generating responses:  50%|█████     | 503/1000 [33:48<31:21,  3.79s/it]"
     ]
    },
    {
     "name": "stdout",
     "output_type": "stream",
     "text": [
      "org: Waste Management, Inc.\n",
      "country: NA\n",
      "state: NA\n",
      "city: NA\n",
      "industry: waste management environmental services\n",
      "risks: NA\n",
      "items_sold: NA\n",
      "service_provided: waste management environmental services\n",
      "business_relations: Vanguard Group Inc.; BlackRock Inc.; Caisse DE Depot ET Placement DU Quebec; Impax Asset Management Group plc; Charles Schwab Investment Management Inc.\n"
     ]
    },
    {
     "name": "stderr",
     "output_type": "stream",
     "text": [
      "\r",
      "Generating responses:  50%|█████     | 504/1000 [33:53<34:02,  4.12s/it]"
     ]
    },
    {
     "name": "stdout",
     "output_type": "stream",
     "text": [
      "org: Astronics Corporation\n",
      "country: NA\n",
      "state: NA\n",
      "city: NA\n",
      "industry: Aerospace and Defense\n",
      "risks: Supply Chain Disruption; Competition; Technological Change\n",
      "items_sold: Power, Connectivity, Lighting, Structures, Interiors, and Test Technologies\n",
      "service_provided: Innovative technology solutions for aerospace, defense, and other mission critical industries\n",
      "business_relations: global airframe manufacturers, airlines, militaries, completion centers and Fortune 500 companies\n"
     ]
    },
    {
     "name": "stderr",
     "output_type": "stream",
     "text": [
      "\r",
      "Generating responses:  50%|█████     | 505/1000 [33:59<39:14,  4.76s/it]"
     ]
    },
    {
     "name": "stdout",
     "output_type": "stream",
     "text": [
      "org: Waste Management, Inc.\n",
      "country: NA\n",
      "state: NA\n",
      "city: NA\n",
      "industry: waste management environmental services\n",
      "risks: NA\n",
      "items_sold: NA\n",
      "service_provided: NA\n",
      "business_relations: NA\n"
     ]
    },
    {
     "name": "stderr",
     "output_type": "stream",
     "text": [
      "\r",
      "Generating responses:  51%|█████     | 506/1000 [34:02<36:00,  4.37s/it]"
     ]
    },
    {
     "name": "stdout",
     "output_type": "stream",
     "text": [
      "org: NA\n"
     ]
    },
    {
     "name": "stderr",
     "output_type": "stream",
     "text": [
      "\r",
      "Generating responses:  51%|█████     | 507/1000 [34:05<31:01,  3.78s/it]"
     ]
    },
    {
     "name": "stdout",
     "output_type": "stream",
     "text": [
      "org: NA\n"
     ]
    },
    {
     "name": "stderr",
     "output_type": "stream",
     "text": [
      "\r",
      "Generating responses:  51%|█████     | 508/1000 [34:07<26:25,  3.22s/it]"
     ]
    },
    {
     "name": "stdout",
     "output_type": "stream",
     "text": [
      "org: Cheche Technology\n",
      "country: NA\n",
      "state: NA\n",
      "city: NA\n",
      "industry: Insurance technology\n",
      "risks: NA\n",
      "items_sold: NA\n",
      "service_provided: Auto insurance\n",
      "business_relations: About 100 domestic insurance companies, including about ten insurance companies that have established API interfaces to collaborate with the electric vehicle manufacturers.\n"
     ]
    },
    {
     "name": "stderr",
     "output_type": "stream",
     "text": [
      "\r",
      "Generating responses:  51%|█████     | 509/1000 [34:12<30:41,  3.75s/it]"
     ]
    },
    {
     "name": "stdout",
     "output_type": "stream",
     "text": [
      "org: Dollar General Corp.\n",
      "country: NA\n",
      "state: NA\n",
      "city: NA\n",
      "industry: Retail\n",
      "risks: Economic downturn; Competition; Supply chain disruptions\n",
      "items_sold: Discounted merchandise\n",
      "service_provided: Discount retail\n",
      "business_relations: NA\n"
     ]
    },
    {
     "name": "stderr",
     "output_type": "stream",
     "text": [
      "\r",
      "Generating responses:  51%|█████     | 510/1000 [34:16<30:58,  3.79s/it]"
     ]
    },
    {
     "name": "stdout",
     "output_type": "stream",
     "text": [
      "org: Wells Fargo\n",
      "country: NA\n",
      "state: NA\n",
      "city: NA\n",
      "industry: Banking\n",
      "risks: CRE events\n",
      "items_sold: NA\n",
      "service_provided: NA\n",
      "business_relations: NA\n"
     ]
    },
    {
     "name": "stderr",
     "output_type": "stream",
     "text": [
      "\r",
      "Generating responses:  51%|█████     | 511/1000 [34:19<31:21,  3.85s/it]"
     ]
    },
    {
     "name": "stdout",
     "output_type": "stream",
     "text": [
      "org: ARC Automotive Inc.\n",
      "country: United States\n",
      "state: Tennessee\n",
      "city: Knoxville\n",
      "industry: Automotive\n",
      "risks: Exploding inflators; Shrapnel expulsion\n",
      "items_sold: NA\n",
      "service_provided: NA\n",
      "business_relations: NA\n"
     ]
    },
    {
     "name": "stderr",
     "output_type": "stream",
     "text": [
      "\r",
      "Generating responses:  51%|█████     | 512/1000 [34:23<30:44,  3.78s/it]"
     ]
    },
    {
     "name": "stdout",
     "output_type": "stream",
     "text": [
      "org: TaskUs, Inc.\n",
      "country: United States\n",
      "state: Texas\n",
      "city: New Braunfels\n",
      "industry: Outsourced digital services and next-generation customer experience\n",
      "risks: NA\n",
      "items_sold: NA\n",
      "service_provided: Outsourced digital services and next-generation customer experience\n",
      "business_relations: MoneyLion Inc.\n"
     ]
    },
    {
     "name": "stderr",
     "output_type": "stream",
     "text": [
      "\r",
      "Generating responses:  51%|█████▏    | 513/1000 [34:28<32:31,  4.01s/it]"
     ]
    },
    {
     "name": "stdout",
     "output_type": "stream",
     "text": [
      "NA\n"
     ]
    },
    {
     "name": "stderr",
     "output_type": "stream",
     "text": [
      "\r",
      "Generating responses:  51%|█████▏    | 514/1000 [34:29<25:32,  3.15s/it]"
     ]
    },
    {
     "name": "stdout",
     "output_type": "stream",
     "text": [
      "NA\n"
     ]
    },
    {
     "name": "stderr",
     "output_type": "stream",
     "text": [
      "\r",
      "Generating responses:  52%|█████▏    | 515/1000 [34:30<21:07,  2.61s/it]"
     ]
    },
    {
     "name": "stdout",
     "output_type": "stream",
     "text": [
      "org: Kohl's\n",
      "country: NA\n",
      "state: NA\n",
      "city: NA\n",
      "industry: Retail\n",
      "risks: Backlash; Boycott; Threats\n",
      "items_sold: LGBTQIA+ Pride Month clothes and products\n",
      "service_provided: NA\n",
      "business_relations: Phluid; TomboyX\n"
     ]
    },
    {
     "name": "stderr",
     "output_type": "stream",
     "text": [
      "\r",
      "Generating responses:  52%|█████▏    | 516/1000 [34:35<25:21,  3.14s/it]"
     ]
    },
    {
     "name": "stdout",
     "output_type": "stream",
     "text": [
      "org: Ingredion Incorporated\n",
      "country: NA\n",
      "state: Illinois\n",
      "city: Westchester\n",
      "industry: ingredient solutions provider\n",
      "risks: NA\n",
      "items_sold: ingredient solutions for food, beverage, animal nutrition, brewing and industrial markets\n",
      "service_provided: NA\n",
      "business_relations: AMS AG / VAT Group; First Solar Inc. / Solaredge Technologies Inc\n"
     ]
    },
    {
     "name": "stderr",
     "output_type": "stream",
     "text": [
      "\r",
      "Generating responses:  52%|█████▏    | 517/1000 [34:39<28:44,  3.57s/it]"
     ]
    },
    {
     "name": "stdout",
     "output_type": "stream",
     "text": [
      "org: ARC Automotive Inc.\n",
      "country: NA\n",
      "state: Tennessee\n",
      "city: Knoxville\n",
      "industry: Automotive\n",
      "risks: Exploding inflators\n",
      "items_sold: Air bag inflators\n",
      "service_provided: NA\n",
      "business_relations: NA\n"
     ]
    },
    {
     "name": "stderr",
     "output_type": "stream",
     "text": [
      "\r",
      "Generating responses:  52%|█████▏    | 518/1000 [34:43<28:20,  3.53s/it]"
     ]
    },
    {
     "name": "stdout",
     "output_type": "stream",
     "text": [
      "org: CGS\n",
      "country: NA\n",
      "state: NA\n",
      "city: New York City\n",
      "industry: Business applications, enterprise learning and outsourcing services\n",
      "risks: NA\n",
      "items_sold: Technical and customer support, tele sales, channel enablement and back-office support\n",
      "service_provided: Business applications, enterprise learning and outsourcing services\n",
      "business_relations: Atento, DXC, Cognizant, and Accenture\n"
     ]
    },
    {
     "name": "stderr",
     "output_type": "stream",
     "text": [
      "\r",
      "Generating responses:  52%|█████▏    | 519/1000 [34:48<32:41,  4.08s/it]"
     ]
    },
    {
     "name": "stdout",
     "output_type": "stream",
     "text": [
      "NA\n"
     ]
    },
    {
     "name": "stderr",
     "output_type": "stream",
     "text": [
      "\r",
      "Generating responses:  52%|█████▏    | 520/1000 [34:50<27:37,  3.45s/it]"
     ]
    },
    {
     "name": "stdout",
     "output_type": "stream",
     "text": [
      "org: ARC Automotive Inc.\n",
      "country: NA\n",
      "state: NA\n",
      "city: NA\n",
      "industry: Automotive\n",
      "risks: Defective airbags\n",
      "items_sold: Airbag inflators\n",
      "service_provided: NA\n",
      "business_relations: NA\n"
     ]
    },
    {
     "name": "stderr",
     "output_type": "stream",
     "text": [
      "\r",
      "Generating responses:  52%|█████▏    | 521/1000 [34:53<27:24,  3.43s/it]"
     ]
    },
    {
     "name": "stdout",
     "output_type": "stream",
     "text": [
      "org: ARC Automotive Inc.\n",
      "country: NA\n",
      "state: Tennessee\n",
      "city: Knoxville\n",
      "industry: Automotive\n",
      "risks: Exploding inflators\n",
      "items_sold: NA\n",
      "service_provided: NA\n",
      "business_relations: NA\n"
     ]
    },
    {
     "name": "stderr",
     "output_type": "stream",
     "text": [
      "\r",
      "Generating responses:  52%|█████▏    | 522/1000 [34:57<26:55,  3.38s/it]"
     ]
    },
    {
     "name": "stdout",
     "output_type": "stream",
     "text": [
      "org: Cambium Networks\n",
      "country: NA\n",
      "state: NA\n",
      "city: Rolling Meadows\n",
      "industry: Networking solutions\n",
      "risks: NA\n",
      "items_sold: NA\n",
      "service_provided: Enables service providers, enterprises, industrial organizations, and governments to deliver exceptional digital experiences and device connectivity with compelling economics.\n",
      "business_relations: NA\n"
     ]
    },
    {
     "name": "stderr",
     "output_type": "stream",
     "text": [
      "\r",
      "Generating responses:  52%|█████▏    | 523/1000 [35:01<28:34,  3.60s/it]"
     ]
    },
    {
     "name": "stdout",
     "output_type": "stream",
     "text": [
      "org: Polymer80\n",
      "country: NA\n",
      "state: Nevada\n",
      "city: NA\n",
      "industry: Firearms\n",
      "risks: Selling without background checks; Misleading advertising\n",
      "items_sold: Gun components\n",
      "service_provided: NA\n",
      "business_relations: NA\n"
     ]
    },
    {
     "name": "stderr",
     "output_type": "stream",
     "text": [
      "\r",
      "Generating responses:  52%|█████▏    | 524/1000 [35:05<29:12,  3.68s/it]"
     ]
    },
    {
     "name": "stdout",
     "output_type": "stream",
     "text": [
      "org: ARC Automotive Inc.\n",
      "country: United States\n",
      "state: Tennessee\n",
      "city: Knoxville\n",
      "industry: Automotive\n",
      "risks: Exploding inflators; Shrapnel expulsion\n",
      "items_sold: NA\n",
      "service_provided: NA\n",
      "business_relations: NA\n"
     ]
    },
    {
     "name": "stderr",
     "output_type": "stream",
     "text": [
      "\r",
      "Generating responses:  52%|█████▎    | 525/1000 [35:08<28:41,  3.62s/it]"
     ]
    },
    {
     "name": "stdout",
     "output_type": "stream",
     "text": [
      "org: ARC Automotive Inc.\n",
      "country: NA\n",
      "state: Tennessee\n",
      "city: Knoxville\n",
      "industry: Automotive\n",
      "risks: Exploding inflators\n",
      "items_sold: NA\n",
      "service_provided: NA\n",
      "business_relations: NA\n"
     ]
    },
    {
     "name": "stderr",
     "output_type": "stream",
     "text": [
      "\r",
      "Generating responses:  53%|█████▎    | 526/1000 [35:12<29:20,  3.71s/it]"
     ]
    },
    {
     "name": "stdout",
     "output_type": "stream",
     "text": [
      "org: ARC Automotive Inc.\n",
      "country: United States\n",
      "state: Tennessee\n",
      "city: Knoxville\n",
      "industry: Automotive\n",
      "risks: potential recall\n",
      "items_sold: air bag inflators\n",
      "service_provided: NA\n",
      "business_relations: NA\n"
     ]
    },
    {
     "name": "stderr",
     "output_type": "stream",
     "text": [
      "\r",
      "Generating responses:  53%|█████▎    | 527/1000 [35:16<30:31,  3.87s/it]"
     ]
    },
    {
     "name": "stdout",
     "output_type": "stream",
     "text": [
      "org: ARC Automotive Inc.\n",
      "country: NA\n",
      "state: Tennessee\n",
      "city: Knoxville\n",
      "industry: Automotive\n",
      "risks: Exploding inflators; Possible court fight\n",
      "items_sold: Air bag inflators\n",
      "service_provided: NA\n",
      "business_relations: NA\n"
     ]
    },
    {
     "name": "stderr",
     "output_type": "stream",
     "text": [
      "\r",
      "Generating responses:  53%|█████▎    | 528/1000 [35:20<30:58,  3.94s/it]"
     ]
    },
    {
     "name": "stdout",
     "output_type": "stream",
     "text": [
      "NA\n"
     ]
    },
    {
     "name": "stderr",
     "output_type": "stream",
     "text": [
      "\r",
      "Generating responses:  53%|█████▎    | 529/1000 [35:21<24:13,  3.09s/it]"
     ]
    },
    {
     "name": "stdout",
     "output_type": "stream",
     "text": [
      "org: Sodexo Engage\n",
      "country: NA\n",
      "state: NA\n",
      "city: NA\n",
      "industry: Employee engagement\n",
      "risks: NA\n",
      "items_sold: Pre-paid cards; Voucher solutions; Employee benefits\n",
      "service_provided: Employee engagement solutions; Employee benefits; Rewards and recognition\n",
      "business_relations: Crown Commercial Service (CCS)\n"
     ]
    },
    {
     "name": "stderr",
     "output_type": "stream",
     "text": [
      "\r",
      "Generating responses:  53%|█████▎    | 530/1000 [35:26<27:27,  3.51s/it]"
     ]
    },
    {
     "name": "stdout",
     "output_type": "stream",
     "text": [
      "org: ARC Automotive Inc.\n",
      "country: United States\n",
      "state: Tennessee\n",
      "city: Knoxville\n",
      "industry: Automotive\n",
      "risks: Exploding inflators\n",
      "items_sold: Air bag inflators\n",
      "service_provided: NA\n",
      "business_relations: NA\n"
     ]
    },
    {
     "name": "stderr",
     "output_type": "stream",
     "text": [
      "\r",
      "Generating responses:  53%|█████▎    | 531/1000 [35:29<27:41,  3.54s/it]"
     ]
    },
    {
     "name": "stdout",
     "output_type": "stream",
     "text": [
      "org: ARC Automotive Inc.\n",
      "country: NA\n",
      "state: Tennessee\n",
      "city: Knoxville\n",
      "industry: Automotive\n",
      "risks: Exploding inflators; Possible court fight\n",
      "items_sold: Air bag inflators\n",
      "service_provided: NA\n",
      "business_relations: NA\n"
     ]
    },
    {
     "name": "stderr",
     "output_type": "stream",
     "text": [
      "\r",
      "Generating responses:  53%|█████▎    | 532/1000 [35:34<29:22,  3.77s/it]"
     ]
    },
    {
     "name": "stdout",
     "output_type": "stream",
     "text": [
      "org: ARC Automotive Inc.\n",
      "country: United States\n",
      "state: Tennessee\n",
      "city: Knoxville\n",
      "industry: Automotive\n",
      "risks: potential recall; fines; court fight\n",
      "items_sold: air bag inflators\n",
      "service_provided: NA\n",
      "business_relations: NA\n"
     ]
    },
    {
     "name": "stderr",
     "output_type": "stream",
     "text": [
      "\r",
      "Generating responses:  53%|█████▎    | 533/1000 [35:37<28:15,  3.63s/it]"
     ]
    },
    {
     "name": "stdout",
     "output_type": "stream",
     "text": [
      "org: Siddha physiotherapy&Rehabilitation centre\n",
      "country: NA\n",
      "state: NA\n",
      "city: NA\n",
      "industry: Healthcare\n",
      "risks: NA\n",
      "items_sold: NA\n",
      "service_provided: Physiotherapy and Rehabilitation services\n",
      "business_relations: NA\n"
     ]
    },
    {
     "name": "stderr",
     "output_type": "stream",
     "text": [
      "\r",
      "Generating responses:  53%|█████▎    | 534/1000 [35:41<29:02,  3.74s/it]"
     ]
    },
    {
     "name": "stdout",
     "output_type": "stream",
     "text": [
      "org: Re/Max\n",
      "country: Canada\n",
      "state: NA\n",
      "city: NA\n",
      "industry: Commercial real estate\n",
      "risks: Higher borrowing costs; Inflation; Office vacancies\n",
      "items_sold: NA\n",
      "service_provided: NA\n",
      "business_relations: NA\n"
     ]
    },
    {
     "name": "stderr",
     "output_type": "stream",
     "text": [
      "\r",
      "Generating responses:  54%|█████▎    | 535/1000 [35:46<31:00,  4.00s/it]"
     ]
    },
    {
     "name": "stdout",
     "output_type": "stream",
     "text": [
      "org: ARC Automotive Inc.\n",
      "country: United States\n",
      "state: Tennessee\n",
      "city: Knoxville\n",
      "industry: Automotive\n",
      "risks: Exploding inflators; Shrapnel expulsion\n",
      "items_sold: NA\n",
      "service_provided: NA\n",
      "business_relations: NA\n"
     ]
    },
    {
     "name": "stderr",
     "output_type": "stream",
     "text": [
      "\r",
      "Generating responses:  54%|█████▎    | 536/1000 [35:50<31:23,  4.06s/it]"
     ]
    },
    {
     "name": "stdout",
     "output_type": "stream",
     "text": [
      "org: Rocketlane\n",
      "country: NA\n",
      "state: California\n",
      "city: San Jose\n",
      "industry: Customer onboarding and project management platform\n",
      "risks: NA\n",
      "items_sold: NA\n",
      "service_provided: Customer onboarding and project management services\n",
      "business_relations: External partners and customers\n"
     ]
    },
    {
     "name": "stderr",
     "output_type": "stream",
     "text": [
      "\r",
      "Generating responses:  54%|█████▎    | 537/1000 [35:55<32:41,  4.24s/it]"
     ]
    },
    {
     "name": "stdout",
     "output_type": "stream",
     "text": [
      "org: NextEra Energy Inc.\n",
      "country: NA\n",
      "state: NA\n",
      "city: NA\n",
      "industry: Energy\n",
      "risks: Debt; Regulatory changes; Competition\n",
      "items_sold: NA\n",
      "service_provided: Energy generation and distribution\n",
      "business_relations: Vanguard Group, Inc.; Blackrock Inc.\n"
     ]
    },
    {
     "name": "stderr",
     "output_type": "stream",
     "text": [
      "\r",
      "Generating responses:  54%|█████▍    | 538/1000 [35:59<33:45,  4.39s/it]"
     ]
    },
    {
     "name": "stdout",
     "output_type": "stream",
     "text": [
      "org: Re/Max\n",
      "country: NA\n",
      "state: NA\n",
      "city: NA\n",
      "industry: Commercial real estate\n",
      "risks: Higher borrowing costs; Inflation; Office vacancies\n",
      "items_sold: NA\n",
      "service_provided: NA\n",
      "business_relations: NA\n"
     ]
    },
    {
     "name": "stderr",
     "output_type": "stream",
     "text": [
      "\r",
      "Generating responses:  54%|█████▍    | 539/1000 [36:04<34:00,  4.43s/it]"
     ]
    },
    {
     "name": "stdout",
     "output_type": "stream",
     "text": [
      "org: U.S. Meat Export Federation\n",
      "country: NA\n",
      "state: NA\n",
      "city: NA\n",
      "industry: Meat Export\n",
      "risks: labor uncertainty; port disruptions; Chinese influence\n",
      "items_sold: red meat\n",
      "service_provided: NA\n",
      "business_relations: NA\n"
     ]
    },
    {
     "name": "stderr",
     "output_type": "stream",
     "text": [
      "\r",
      "Generating responses:  54%|█████▍    | 540/1000 [36:08<34:13,  4.46s/it]"
     ]
    },
    {
     "name": "stdout",
     "output_type": "stream",
     "text": [
      "org: Dollar General Corp.\n",
      "country: NA\n",
      "state: Tennessee\n",
      "city: Goodlettsville\n",
      "industry: Retail\n",
      "risks: Economic pressures; Competitive shifts\n",
      "items_sold: NA\n",
      "service_provided: NA\n",
      "business_relations: Walmart Inc.; Dollar Tree Inc.\n"
     ]
    },
    {
     "name": "stderr",
     "output_type": "stream",
     "text": [
      "\r",
      "Generating responses:  54%|█████▍    | 541/1000 [36:12<32:27,  4.24s/it]"
     ]
    },
    {
     "name": "stdout",
     "output_type": "stream",
     "text": [
      "org: Ambius\n",
      "country: NA\n",
      "state: NA\n",
      "city: Reading\n",
      "industry: creating smarter, healthier spaces through air quality, plants and scenting\n",
      "risks: NA\n",
      "items_sold: indoor air purification, plants, green walls, scenting and holiday decor\n",
      "service_provided: designing exceptional experiences for spaces where people live, work, learn, and play\n",
      "business_relations: rentokil terminix\n"
     ]
    },
    {
     "name": "stderr",
     "output_type": "stream",
     "text": [
      "\r",
      "Generating responses:  54%|█████▍    | 542/1000 [36:17<34:31,  4.52s/it]"
     ]
    },
    {
     "name": "stdout",
     "output_type": "stream",
     "text": [
      "org: ARC Automotive Inc.\n",
      "country: NA\n",
      "state: Tennessee\n",
      "city: Knoxville\n",
      "industry: Automotive\n",
      "risks: Exploding inflators; Shrapnel risk\n",
      "items_sold: Air bag inflators\n",
      "service_provided: NA\n",
      "business_relations: NA\n"
     ]
    },
    {
     "name": "stderr",
     "output_type": "stream",
     "text": [
      "\r",
      "Generating responses:  54%|█████▍    | 543/1000 [36:21<33:22,  4.38s/it]"
     ]
    },
    {
     "name": "stdout",
     "output_type": "stream",
     "text": [
      "org: Re/Max\n",
      "country: Canada\n",
      "state: NA\n",
      "city: NA\n",
      "industry: commercial real estate\n",
      "risks: higher borrowing costs; inflation; office vacancies\n",
      "items_sold: NA\n",
      "service_provided: NA\n",
      "business_relations: NA\n"
     ]
    },
    {
     "name": "stderr",
     "output_type": "stream",
     "text": [
      "\r",
      "Generating responses:  54%|█████▍    | 544/1000 [36:26<33:58,  4.47s/it]"
     ]
    },
    {
     "name": "stdout",
     "output_type": "stream",
     "text": [
      "org: Re/Max\n",
      "country: Canada\n",
      "state: NA\n",
      "city: NA\n",
      "industry: Commercial real estate\n",
      "risks: Higher borrowing costs; Inflation; Office vacancies\n",
      "items_sold: NA\n",
      "service_provided: NA\n",
      "business_relations: NA\n"
     ]
    },
    {
     "name": "stderr",
     "output_type": "stream",
     "text": [
      "\r",
      "Generating responses:  55%|█████▍    | 545/1000 [36:30<32:29,  4.28s/it]"
     ]
    },
    {
     "name": "stdout",
     "output_type": "stream",
     "text": [
      "org: ARC Automotive Inc.\n",
      "country: NA\n",
      "state: NA\n",
      "city: NA\n",
      "industry: Automotive\n",
      "risks: Defective airbags\n",
      "items_sold: Airbag inflators\n",
      "service_provided: NA\n",
      "business_relations: NA\n"
     ]
    },
    {
     "name": "stderr",
     "output_type": "stream",
     "text": [
      "\r",
      "Generating responses:  55%|█████▍    | 546/1000 [36:34<32:51,  4.34s/it]"
     ]
    },
    {
     "name": "stdout",
     "output_type": "stream",
     "text": [
      "org: U.S. Consumer Product Safety Commission (CPSC)\n",
      "country: United States\n",
      "state: Washington\n",
      "city: NA\n",
      "industry: Consumer product safety\n",
      "risks: Failure to extinguish fires; Risk of serious injury or death\n",
      "items_sold: Fire extinguisher balls\n",
      "service_provided: NA\n",
      "business_relations: Amazon.com\n"
     ]
    },
    {
     "name": "stderr",
     "output_type": "stream",
     "text": [
      "\r",
      "Generating responses:  55%|█████▍    | 547/1000 [36:40<34:52,  4.62s/it]"
     ]
    },
    {
     "name": "stdout",
     "output_type": "stream",
     "text": [
      "org: ARC Automotive Inc.\n",
      "country: NA\n",
      "state: NA\n",
      "city: NA\n",
      "industry: Automotive\n",
      "risks: Potentially dangerous airbags\n",
      "items_sold: Air bag inflators\n",
      "service_provided: NA\n",
      "business_relations: NA\n"
     ]
    },
    {
     "name": "stderr",
     "output_type": "stream",
     "text": [
      "\r",
      "Generating responses:  55%|█████▍    | 548/1000 [36:43<32:32,  4.32s/it]"
     ]
    },
    {
     "name": "stdout",
     "output_type": "stream",
     "text": [
      "org: ARC Automotive Inc.\n",
      "country: NA\n",
      "state: NA\n",
      "city: NA\n",
      "industry: Automotive\n",
      "risks: Potentially dangerous air bag inflators\n",
      "items_sold: Air bag inflators\n",
      "service_provided: NA\n",
      "business_relations: NA\n"
     ]
    },
    {
     "name": "stderr",
     "output_type": "stream",
     "text": [
      "\r",
      "Generating responses:  55%|█████▍    | 549/1000 [36:47<31:40,  4.21s/it]"
     ]
    },
    {
     "name": "stdout",
     "output_type": "stream",
     "text": [
      "org: ARC Automotive Inc.\n",
      "country: NA\n",
      "state: NA\n",
      "city: NA\n",
      "industry: Automotive\n",
      "risks: Exploding inflators; Potential fines\n",
      "items_sold: Air bag inflators\n",
      "service_provided: NA\n",
      "business_relations: NA\n"
     ]
    },
    {
     "name": "stderr",
     "output_type": "stream",
     "text": [
      "\r",
      "Generating responses:  55%|█████▌    | 550/1000 [36:51<30:10,  4.02s/it]"
     ]
    },
    {
     "name": "stdout",
     "output_type": "stream",
     "text": [
      "org: ARC Automotive Inc.\n",
      "country: NA\n",
      "state: Tennessee\n",
      "city: Knoxville\n",
      "industry: Automotive\n",
      "risks: Exploding inflators; Shrapnel hazard\n",
      "items_sold: Air bag inflators\n",
      "service_provided: NA\n",
      "business_relations: NA\n"
     ]
    },
    {
     "name": "stderr",
     "output_type": "stream",
     "text": [
      "\r",
      "Generating responses:  55%|█████▌    | 551/1000 [36:55<30:23,  4.06s/it]"
     ]
    },
    {
     "name": "stdout",
     "output_type": "stream",
     "text": [
      "org: ClearOne, Inc.\n",
      "country: NA\n",
      "state: NA\n",
      "city: NA\n",
      "industry: audio and visual communication solutions\n",
      "risks: NA\n",
      "items_sold: conferencing, collaboration, and network streaming solutions\n",
      "service_provided: NA\n",
      "business_relations: Gateway Group, Inc.\n"
     ]
    },
    {
     "name": "stderr",
     "output_type": "stream",
     "text": [
      "\r",
      "Generating responses:  55%|█████▌    | 552/1000 [36:59<29:39,  3.97s/it]"
     ]
    },
    {
     "name": "stdout",
     "output_type": "stream",
     "text": [
      "org: C3.ai Inc.\n",
      "country: NA\n",
      "state: NA\n",
      "city: NA\n",
      "industry: AI software\n",
      "risks: sales outlook\n",
      "items_sold: NA\n",
      "service_provided: NA\n",
      "business_relations: NA\n"
     ]
    },
    {
     "name": "stderr",
     "output_type": "stream",
     "text": [
      "\r",
      "Generating responses:  55%|█████▌    | 553/1000 [37:04<32:47,  4.40s/it]"
     ]
    },
    {
     "name": "stdout",
     "output_type": "stream",
     "text": [
      "org: ARC Automotive Inc.\n",
      "country: NA\n",
      "state: NA\n",
      "city: NA\n",
      "industry: Automotive\n",
      "risks: Safety\n",
      "items_sold: Air bag inflators\n",
      "service_provided: NA\n",
      "business_relations: NA\n"
     ]
    },
    {
     "name": "stderr",
     "output_type": "stream",
     "text": [
      "\r",
      "Generating responses:  55%|█████▌    | 554/1000 [37:08<31:24,  4.22s/it]"
     ]
    },
    {
     "name": "stdout",
     "output_type": "stream",
     "text": [
      "org: Civic Committee of the Commercial Club of Chicago\n",
      "country: United States\n",
      "state: Illinois\n",
      "city: Chicago\n",
      "industry: NA\n",
      "risks: Crime; Public safety\n",
      "items_sold: NA\n",
      "service_provided: NA\n",
      "business_relations: McDonald’s Corp.; Ulta Beauty Inc.; Morningstar Inc.; Citadel hedge fund; CME Group Inc.\n"
     ]
    },
    {
     "name": "stderr",
     "output_type": "stream",
     "text": [
      "\r",
      "Generating responses:  56%|█████▌    | 555/1000 [37:13<33:30,  4.52s/it]"
     ]
    },
    {
     "name": "stdout",
     "output_type": "stream",
     "text": [
      "org: Pure Storage\n",
      "country: NA\n",
      "state: NA\n",
      "city: NA\n",
      "industry: Data storage\n",
      "risks: NA\n",
      "items_sold: All-flash storage products\n",
      "service_provided: Data storage solutions\n",
      "business_relations: NA\n"
     ]
    },
    {
     "name": "stderr",
     "output_type": "stream",
     "text": [
      "\r",
      "Generating responses:  56%|█████▌    | 556/1000 [37:17<31:16,  4.23s/it]"
     ]
    },
    {
     "name": "stdout",
     "output_type": "stream",
     "text": [
      "NA\n"
     ]
    },
    {
     "name": "stderr",
     "output_type": "stream",
     "text": [
      "\r",
      "Generating responses:  56%|█████▌    | 557/1000 [37:18<25:30,  3.46s/it]"
     ]
    },
    {
     "name": "stdout",
     "output_type": "stream",
     "text": [
      "org: ARC Automotive Inc.\n",
      "country: NA\n",
      "state: NA\n",
      "city: NA\n",
      "industry: Automotive\n",
      "risks: Potentially dangerous airbags\n",
      "items_sold: Airbag inflators\n",
      "service_provided: NA\n",
      "business_relations: NA\n"
     ]
    },
    {
     "name": "stderr",
     "output_type": "stream",
     "text": [
      "\r",
      "Generating responses:  56%|█████▌    | 558/1000 [37:22<25:39,  3.48s/it]"
     ]
    },
    {
     "name": "stdout",
     "output_type": "stream",
     "text": [
      "org: U.S. Consumer Product Safety Commission (CPSC)\n",
      "country: United States\n",
      "state: NA\n",
      "city: Washington\n",
      "industry: Consumer product safety\n",
      "risks: Failure to extinguish fires; Risk of serious injury or death\n",
      "items_sold: Fire extinguisher balls\n",
      "service_provided: NA\n",
      "business_relations: Amazon.com\n"
     ]
    },
    {
     "name": "stderr",
     "output_type": "stream",
     "text": [
      "\r",
      "Generating responses:  56%|█████▌    | 559/1000 [37:26<27:39,  3.76s/it]"
     ]
    },
    {
     "name": "stdout",
     "output_type": "stream",
     "text": [
      "org: ARC Automotive Inc.\n",
      "country: NA\n",
      "state: NA\n",
      "city: NA\n",
      "industry: Automotive\n",
      "risks: Safety; Legal\n",
      "items_sold: Air bag inflators\n",
      "service_provided: NA\n",
      "business_relations: NA\n"
     ]
    },
    {
     "name": "stderr",
     "output_type": "stream",
     "text": [
      "\r",
      "Generating responses:  56%|█████▌    | 560/1000 [37:30<26:58,  3.68s/it]"
     ]
    },
    {
     "name": "stdout",
     "output_type": "stream",
     "text": [
      "org: Amazon.com\n",
      "country: NA\n",
      "state: NA\n",
      "city: NA\n",
      "industry: E-commerce\n",
      "risks: Product failure; Burns; Smoke inhalation\n",
      "items_sold: Fire extinguisher balls\n",
      "service_provided: NA\n",
      "business_relations: NA\n"
     ]
    },
    {
     "name": "stderr",
     "output_type": "stream",
     "text": [
      "\r",
      "Generating responses:  56%|█████▌    | 561/1000 [37:33<26:53,  3.68s/it]"
     ]
    },
    {
     "name": "stdout",
     "output_type": "stream",
     "text": [
      "org: Blackrock\n",
      "country: NA\n",
      "state: NA\n",
      "city: NA\n",
      "industry: Investment management\n",
      "risks: Debt ceiling drama\n",
      "items_sold: NA\n",
      "service_provided: NA\n",
      "business_relations: Deutsche Bank, US Federal Reserve, eToro, Fineqia International\n"
     ]
    },
    {
     "name": "stderr",
     "output_type": "stream",
     "text": [
      "\r",
      "Generating responses:  56%|█████▌    | 562/1000 [37:38<28:14,  3.87s/it]"
     ]
    },
    {
     "name": "stdout",
     "output_type": "stream",
     "text": [
      "org: NA\n"
     ]
    },
    {
     "name": "stderr",
     "output_type": "stream",
     "text": [
      "\r",
      "Generating responses:  56%|█████▋    | 563/1000 [37:40<24:06,  3.31s/it]"
     ]
    },
    {
     "name": "stdout",
     "output_type": "stream",
     "text": [
      "org: NA\n"
     ]
    },
    {
     "name": "stderr",
     "output_type": "stream",
     "text": [
      "\r",
      "Generating responses:  56%|█████▋    | 564/1000 [37:41<20:17,  2.79s/it]"
     ]
    },
    {
     "name": "stdout",
     "output_type": "stream",
     "text": [
      "org: ARC Automotive Inc.\n",
      "country: NA\n",
      "state: NA\n",
      "city: NA\n",
      "industry: Automotive\n",
      "risks: Product liability\n",
      "items_sold: Air bag inflators\n",
      "service_provided: NA\n",
      "business_relations: NA\n"
     ]
    },
    {
     "name": "stderr",
     "output_type": "stream",
     "text": [
      "\r",
      "Generating responses:  56%|█████▋    | 565/1000 [37:45<21:33,  2.97s/it]"
     ]
    },
    {
     "name": "stdout",
     "output_type": "stream",
     "text": [
      "NA\n"
     ]
    },
    {
     "name": "stderr",
     "output_type": "stream",
     "text": [
      "\r",
      "Generating responses:  57%|█████▋    | 566/1000 [37:46<17:16,  2.39s/it]"
     ]
    },
    {
     "name": "stdout",
     "output_type": "stream",
     "text": [
      "org: NA\n"
     ]
    },
    {
     "name": "stderr",
     "output_type": "stream",
     "text": [
      "\r",
      "Generating responses:  57%|█████▋    | 567/1000 [37:47<15:33,  2.16s/it]"
     ]
    },
    {
     "name": "stdout",
     "output_type": "stream",
     "text": [
      "org: ARC Automotive Inc.\n",
      "country: NA\n",
      "state: NA\n",
      "city: NA\n",
      "industry: Automotive\n",
      "risks: Potentially dangerous airbags\n",
      "items_sold: Airbag inflators\n",
      "service_provided: NA\n",
      "business_relations: NA\n"
     ]
    },
    {
     "name": "stderr",
     "output_type": "stream",
     "text": [
      "\r",
      "Generating responses:  57%|█████▋    | 568/1000 [37:51<19:25,  2.70s/it]"
     ]
    },
    {
     "name": "stdout",
     "output_type": "stream",
     "text": [
      "org: ARC Automotive Inc.\n",
      "country: NA\n",
      "state: NA\n",
      "city: NA\n",
      "industry: Automotive\n",
      "risks: Safety\n",
      "items_sold: Air bag inflators\n",
      "service_provided: NA\n",
      "business_relations: NA\n"
     ]
    },
    {
     "name": "stderr",
     "output_type": "stream",
     "text": [
      "\r",
      "Generating responses:  57%|█████▋    | 569/1000 [37:54<20:13,  2.82s/it]"
     ]
    },
    {
     "name": "stdout",
     "output_type": "stream",
     "text": [
      "org: NA\n"
     ]
    },
    {
     "name": "stderr",
     "output_type": "stream",
     "text": [
      "\r",
      "Generating responses:  57%|█████▋    | 570/1000 [37:57<18:57,  2.65s/it]"
     ]
    },
    {
     "name": "stdout",
     "output_type": "stream",
     "text": [
      "org: ARC Automotive Inc.\n",
      "country: United States\n",
      "state: Tennessee\n",
      "city: Knoxville\n",
      "industry: Automotive\n",
      "risks: Exploding inflators; Shrapnel hazard\n",
      "items_sold: Inflators\n",
      "service_provided: NA\n",
      "business_relations: NA\n"
     ]
    },
    {
     "name": "stderr",
     "output_type": "stream",
     "text": [
      "\r",
      "Generating responses:  57%|█████▋    | 571/1000 [38:00<21:13,  2.97s/it]"
     ]
    },
    {
     "name": "stdout",
     "output_type": "stream",
     "text": [
      "org: Odyssa Homes & Commercials Pvt Ltd\n",
      "country: India\n",
      "state: Odisha\n",
      "city: Bhubaneswar\n",
      "industry: Real estate\n",
      "risks: Misappropriation of funds; Fraudulent means; Cheating\n",
      "items_sold: Commercial units\n",
      "service_provided: Development, construction, marketing, and sale of commercial units\n",
      "business_relations: Maa Basudha Homes\n"
     ]
    },
    {
     "name": "stderr",
     "output_type": "stream",
     "text": [
      "\r",
      "Generating responses:  57%|█████▋    | 572/1000 [38:06<26:48,  3.76s/it]"
     ]
    },
    {
     "name": "stdout",
     "output_type": "stream",
     "text": [
      "org: Ambius\n",
      "country: NA\n",
      "state: NA\n",
      "city: Reading\n",
      "industry: creating smarter, healthier spaces through air quality, plants and scenting\n",
      "risks: NA\n",
      "items_sold: indoor air purification; plants; green walls; scenting and holiday decor\n",
      "service_provided: designing exceptional experiences for spaces where people live, work, learn, and play\n",
      "business_relations: Rentokil Terminix\n"
     ]
    },
    {
     "name": "stderr",
     "output_type": "stream",
     "text": [
      "\r",
      "Generating responses:  57%|█████▋    | 573/1000 [38:11<29:05,  4.09s/it]"
     ]
    },
    {
     "name": "stdout",
     "output_type": "stream",
     "text": [
      "org: ARC Automotive Inc.\n",
      "country: USA\n",
      "state: Tennessee\n",
      "city: Knoxville\n",
      "industry: Automotive\n",
      "risks: Exploding inflators; Shrapnel hazard\n",
      "items_sold: Air bag inflators\n",
      "service_provided: NA\n",
      "business_relations: NA\n"
     ]
    },
    {
     "name": "stderr",
     "output_type": "stream",
     "text": [
      "\r",
      "Generating responses:  57%|█████▋    | 574/1000 [38:16<31:01,  4.37s/it]"
     ]
    },
    {
     "name": "stdout",
     "output_type": "stream",
     "text": [
      "Error generating response for prompt at index 574: That model is currently overloaded with other requests. You can retry your request, or contact us through our help center at help.openai.com if the error persists. (Please include the request ID 47584106d1f2b2709dd74be9a9f9e43a in your message.)\n",
      "Query: For the main organisation discussed in this article (if any), give me information as follows and nothing else. If there is no organiastion discussed, respond with \"NA\".\n",
      "    ###\n",
      "    Desired response format:\n",
      "    ###\n",
      "    org: <main organisation discussed>\n",
      "    country: <country of main organisation>\n",
      "    state: <state/province of main organisation>\n",
      "    city: <city/town of main organisation>\n",
      "    industry: <industry of the organisation>\n",
      "    risks: <semi-colon-separated list of risks faced by main organisation> Summarise each risk in a phrase of up to 3 words.\n",
      "    items_sold: <semicolon-separated list of items sold by main organisation>\n",
      "    service_provided: <semi-colon-separated list of services provided by organisation>\n",
      "    business_relations: <semi-colon-separated list of organisations with a business relation to the main organisation>\n",
      "    ###\n",
      "    The provided article is:\n",
      "    ###\n",
      "    Who says you can’t go home again? Starting June 1, Tony Tsounakas will again own and operate the Sealy landmark Tony’s Restaurant and is promising big changes to the building and its service to the community. “My decision to come back is to come back to the people that love me and that I loved us for so long,” Tsounakas said.\n",
      "    ###\n",
      "Retrying in 5 seconds...\n",
      "org: Tony's Restaurant\n",
      "country: NA\n",
      "state: NA\n",
      "city: Sealy\n",
      "industry: Food and Beverage\n",
      "risks: NA\n",
      "items_sold: NA\n",
      "service_provided: NA\n",
      "business_relations: NA\n"
     ]
    },
    {
     "name": "stderr",
     "output_type": "stream",
     "text": [
      "\r",
      "Generating responses:  57%|█████▊    | 575/1000 [38:55<1:44:35, 14.77s/it]"
     ]
    },
    {
     "name": "stdout",
     "output_type": "stream",
     "text": [
      "org: Fenwick & West\n",
      "country: NA\n",
      "state: NA\n",
      "city: Silicon Valley\n",
      "industry: Legal Services\n",
      "risks: Work shortage\n",
      "items_sold: NA\n",
      "service_provided: Legal services\n",
      "business_relations: NA\n"
     ]
    },
    {
     "name": "stderr",
     "output_type": "stream",
     "text": [
      "\r",
      "Generating responses:  58%|█████▊    | 576/1000 [38:58<1:20:18, 11.36s/it]"
     ]
    },
    {
     "name": "stdout",
     "output_type": "stream",
     "text": [
      "org: Infobip\n",
      "country: NA\n",
      "state: NA\n",
      "city: NA\n",
      "industry: Cloud communications platform\n",
      "risks: NA\n",
      "items_sold: NA\n",
      "service_provided: Omnichannel engagement, identity, user authentication and contact centre solutions\n",
      "business_relations: NA\n"
     ]
    },
    {
     "name": "stderr",
     "output_type": "stream",
     "text": [
      "\r",
      "Generating responses:  58%|█████▊    | 577/1000 [39:03<1:05:33,  9.30s/it]"
     ]
    },
    {
     "name": "stdout",
     "output_type": "stream",
     "text": [
      "org: Diageo\n",
      "country: NA\n",
      "state: NA\n",
      "city: NA\n",
      "industry: spirits\n",
      "risks: NA\n",
      "items_sold: liquor brands\n",
      "service_provided: NA\n",
      "business_relations: Sean \"Diddy\" Combs\n"
     ]
    },
    {
     "name": "stderr",
     "output_type": "stream",
     "text": [
      "\r",
      "Generating responses:  58%|█████▊    | 578/1000 [39:07<53:43,  7.64s/it]  "
     ]
    },
    {
     "name": "stdout",
     "output_type": "stream",
     "text": [
      "org: ARC Automotive Inc.\n",
      "country: United States\n",
      "state: Tennessee\n",
      "city: Knoxville\n",
      "industry: Automotive\n",
      "risks: Exploding inflators; Shrapnel expulsion\n",
      "items_sold: N/A\n",
      "service_provided: N/A\n",
      "business_relations: N/A\n"
     ]
    },
    {
     "name": "stderr",
     "output_type": "stream",
     "text": [
      "\r",
      "Generating responses:  58%|█████▊    | 579/1000 [39:11<46:28,  6.62s/it]"
     ]
    },
    {
     "name": "stdout",
     "output_type": "stream",
     "text": [
      "org: NA\n"
     ]
    },
    {
     "name": "stderr",
     "output_type": "stream",
     "text": [
      "\r",
      "Generating responses:  58%|█████▊    | 580/1000 [39:13<36:44,  5.25s/it]"
     ]
    },
    {
     "name": "stdout",
     "output_type": "stream",
     "text": [
      "NA\n"
     ]
    },
    {
     "name": "stderr",
     "output_type": "stream",
     "text": [
      "\r",
      "Generating responses:  58%|█████▊    | 581/1000 [39:15<30:01,  4.30s/it]"
     ]
    },
    {
     "name": "stdout",
     "output_type": "stream",
     "text": [
      "org: ResearchAndMarkets.com\n",
      "country: NA\n",
      "state: NA\n",
      "city: NA\n",
      "industry: Market Research\n",
      "risks: NA\n",
      "items_sold: NA\n",
      "service_provided: Market research reports and market data\n",
      "business_relations: NA\n"
     ]
    },
    {
     "name": "stderr",
     "output_type": "stream",
     "text": [
      "\r",
      "Generating responses:  58%|█████▊    | 582/1000 [39:19<28:48,  4.14s/it]"
     ]
    },
    {
     "name": "stdout",
     "output_type": "stream",
     "text": [
      "org: LendingTree®\n",
      "country: NA\n",
      "state: NA\n",
      "city: NA\n",
      "industry: Financial services marketplace\n",
      "risks: NA\n",
      "items_sold: NA\n",
      "service_provided: NA\n",
      "business_relations: NA\n"
     ]
    },
    {
     "name": "stderr",
     "output_type": "stream",
     "text": [
      "\r",
      "Generating responses:  58%|█████▊    | 583/1000 [39:22<27:25,  3.95s/it]"
     ]
    },
    {
     "name": "stdout",
     "output_type": "stream",
     "text": [
      "org: Jainex Stationery India\n",
      "country: India\n",
      "state: NA\n",
      "city: NA\n",
      "industry: Stationery\n",
      "risks: NA\n",
      "items_sold: crayons; sketch pens; coloring pencils; watercolours; glue; highlighter pens; marker pens; ink pen cartridges; mechanical pencils; non-sharpening pencils; wood-free pencils; leads; sharpeners; rulers; roller pen; fountain pen; folders\n",
      "service_provided: coloring and craft options\n",
      "business_relations: NA\n"
     ]
    },
    {
     "name": "stderr",
     "output_type": "stream",
     "text": [
      "\r",
      "Generating responses:  58%|█████▊    | 584/1000 [39:28<31:28,  4.54s/it]"
     ]
    },
    {
     "name": "stdout",
     "output_type": "stream",
     "text": [
      "org: Tractor Supply Company\n",
      "country: NA\n",
      "state: NA\n",
      "city: NA\n",
      "industry: Specialty Retail\n",
      "risks: NA\n",
      "items_sold: NA\n",
      "service_provided: NA\n",
      "business_relations: NA\n"
     ]
    },
    {
     "name": "stderr",
     "output_type": "stream",
     "text": [
      "\r",
      "Generating responses:  58%|█████▊    | 585/1000 [39:32<29:43,  4.30s/it]"
     ]
    },
    {
     "name": "stdout",
     "output_type": "stream",
     "text": [
      "org: Ambarella Inc\n",
      "country: NA\n",
      "state: NA\n",
      "city: NA\n",
      "industry: Semiconductor\n",
      "risks: Disappointing outlook; Short sell restricted; Volatility\n",
      "items_sold: NA\n",
      "service_provided: NA\n",
      "business_relations: NA\n"
     ]
    },
    {
     "name": "stderr",
     "output_type": "stream",
     "text": [
      "\r",
      "Generating responses:  59%|█████▊    | 586/1000 [39:36<28:45,  4.17s/it]"
     ]
    },
    {
     "name": "stdout",
     "output_type": "stream",
     "text": [
      "org: Volta Trucks; Petit Forestier\n",
      "country: NA; France\n",
      "state: NA\n",
      "city: NA\n",
      "industry: Commercial vehicle manufacturing and services; Refrigeration rental and leasing\n",
      "risks: NA\n",
      "items_sold: All-electric 16-tonne and 18-tonne refrigerated trucks\n",
      "service_provided: Refrigerated full-service solutions\n",
      "business_relations: Volta Trucks and Petit Forestier\n"
     ]
    },
    {
     "name": "stderr",
     "output_type": "stream",
     "text": [
      "\r",
      "Generating responses:  59%|█████▊    | 587/1000 [39:40<29:54,  4.34s/it]"
     ]
    },
    {
     "name": "stdout",
     "output_type": "stream",
     "text": [
      "org: Zelis Healthcare\n",
      "country: NA\n",
      "state: NA\n",
      "city: NA\n",
      "industry: Healthcare financial services\n",
      "risks: Legacy payment systems; slow adoption; security concerns\n",
      "items_sold: NA\n",
      "service_provided: Digital payment systems for medical and non-medical payments\n",
      "business_relations: Works with more than 700 payers, including top-5 national health plans, BCBS insurers, regional health plans, TPAs, Property and Casualty Payers, and self-insured employers.\n"
     ]
    },
    {
     "name": "stderr",
     "output_type": "stream",
     "text": [
      "\r",
      "Generating responses:  59%|█████▉    | 588/1000 [39:46<32:37,  4.75s/it]"
     ]
    },
    {
     "name": "stdout",
     "output_type": "stream",
     "text": [
      "org: gogeta\n",
      "country: NA\n",
      "state: NA\n",
      "city: NA\n",
      "industry: Cycle to Work Scheme provider\n",
      "risks: NA\n",
      "items_sold: NA\n",
      "service_provided: Cycle to Work Scheme provider\n",
      "business_relations: partner bike shops\n"
     ]
    },
    {
     "name": "stderr",
     "output_type": "stream",
     "text": [
      "\r",
      "Generating responses:  59%|█████▉    | 589/1000 [39:50<30:57,  4.52s/it]"
     ]
    },
    {
     "name": "stdout",
     "output_type": "stream",
     "text": [
      "org: Ambius\n",
      "country: NA\n",
      "state: NA\n",
      "city: Reading\n",
      "industry: creating smarter, healthier spaces through air quality, plants and scenting\n",
      "risks: NA\n",
      "items_sold: indoor air purification, plants, green walls, scenting and holiday decor\n",
      "service_provided: designing exceptional experiences for spaces where people live, work, learn, and play\n",
      "business_relations: Rentokil Terminix\n"
     ]
    },
    {
     "name": "stderr",
     "output_type": "stream",
     "text": [
      "\r",
      "Generating responses:  59%|█████▉    | 590/1000 [39:56<33:21,  4.88s/it]"
     ]
    },
    {
     "name": "stdout",
     "output_type": "stream",
     "text": [
      "org: Hememics Biotechnologies, Inc.\n",
      "country: NA\n",
      "state: NA\n",
      "city: NA\n",
      "industry: biosensor technology\n",
      "risks: NA\n",
      "items_sold: biosensor system\n",
      "service_provided: lab-quality testing performance\n",
      "business_relations: NA\n"
     ]
    },
    {
     "name": "stderr",
     "output_type": "stream",
     "text": [
      "\r",
      "Generating responses:  59%|█████▉    | 591/1000 [40:01<33:54,  4.97s/it]"
     ]
    },
    {
     "name": "stdout",
     "output_type": "stream",
     "text": [
      "org: NA\n"
     ]
    },
    {
     "name": "stderr",
     "output_type": "stream",
     "text": [
      "\r",
      "Generating responses:  59%|█████▉    | 592/1000 [40:03<28:00,  4.12s/it]"
     ]
    },
    {
     "name": "stdout",
     "output_type": "stream",
     "text": [
      "org: Alucio\n",
      "country: NA\n",
      "state: NA\n",
      "city: NA\n",
      "industry: life sciences\n",
      "risks: NA\n",
      "items_sold: NA\n",
      "service_provided: cloud-based software for the life sciences industry\n",
      "business_relations: Phathom Pharmaceuticals\n"
     ]
    },
    {
     "name": "stderr",
     "output_type": "stream",
     "text": [
      "\r",
      "Generating responses:  59%|█████▉    | 593/1000 [40:08<29:24,  4.34s/it]"
     ]
    },
    {
     "name": "stdout",
     "output_type": "stream",
     "text": [
      "org: CGS\n",
      "country: NA\n",
      "state: NA\n",
      "city: New York City\n",
      "industry: Business applications, enterprise learning and outsourcing services\n",
      "risks: NA\n",
      "items_sold: Technical and customer support, tele sales, channel enablement and back-office support\n",
      "service_provided: Business applications, enterprise learning and outsourcing services\n",
      "business_relations: Atento, DXC, Cognizant, and Accenture\n"
     ]
    },
    {
     "name": "stderr",
     "output_type": "stream",
     "text": [
      "\r",
      "Generating responses:  59%|█████▉    | 594/1000 [40:13<31:26,  4.65s/it]"
     ]
    },
    {
     "name": "stdout",
     "output_type": "stream",
     "text": [
      "org: Lidl\n",
      "country: NA\n",
      "state: NA\n",
      "city: NA\n",
      "industry: Supermarket/Retail\n",
      "risks: Contamination\n",
      "items_sold: Fin Carré Milk Chocolate with Hazelnuts\n",
      "service_provided: NA\n",
      "business_relations: NA\n"
     ]
    },
    {
     "name": "stderr",
     "output_type": "stream",
     "text": [
      "\r",
      "Generating responses:  60%|█████▉    | 595/1000 [40:17<29:52,  4.43s/it]"
     ]
    },
    {
     "name": "stdout",
     "output_type": "stream",
     "text": [
      "org: TaskUs, Inc.\n",
      "country: NA\n",
      "state: NA\n",
      "city: New Braunfels\n",
      "industry: Outsourced digital services and next-generation customer experience\n",
      "risks: NA\n",
      "items_sold: NA\n",
      "service_provided: Outsourced digital services and next-generation customer experience\n",
      "business_relations: MoneyLion Inc.\n"
     ]
    },
    {
     "name": "stderr",
     "output_type": "stream",
     "text": [
      "\r",
      "Generating responses:  60%|█████▉    | 596/1000 [40:22<30:07,  4.47s/it]"
     ]
    },
    {
     "name": "stdout",
     "output_type": "stream",
     "text": [
      "org: T. Rowe Price Group Inc.\n",
      "country: NA\n",
      "state: NA\n",
      "city: NA\n",
      "industry: Asset Management\n",
      "risks: Market volatility; Regulatory changes; Competition\n",
      "items_sold: NA\n",
      "service_provided: NA\n",
      "business_relations: NA\n"
     ]
    },
    {
     "name": "stderr",
     "output_type": "stream",
     "text": [
      "\r",
      "Generating responses:  60%|█████▉    | 597/1000 [40:26<28:48,  4.29s/it]"
     ]
    },
    {
     "name": "stdout",
     "output_type": "stream",
     "text": [
      "org: IHG Hotels & Resorts\n",
      "country: NA\n",
      "state: NA\n",
      "city: NA\n",
      "industry: Hospitality\n",
      "risks: NA\n",
      "items_sold: NA\n",
      "service_provided: Hotel accommodation\n",
      "business_relations: NA\n"
     ]
    },
    {
     "name": "stderr",
     "output_type": "stream",
     "text": [
      "\r",
      "Generating responses:  60%|█████▉    | 598/1000 [40:30<28:26,  4.25s/it]"
     ]
    },
    {
     "name": "stdout",
     "output_type": "stream",
     "text": [
      "NA\n"
     ]
    },
    {
     "name": "stderr",
     "output_type": "stream",
     "text": [
      "\r",
      "Generating responses:  60%|█████▉    | 599/1000 [40:32<24:41,  3.69s/it]"
     ]
    },
    {
     "name": "stdout",
     "output_type": "stream",
     "text": [
      "org: Waste Management, Inc.\n",
      "country: NA\n",
      "state: NA\n",
      "city: NA\n",
      "industry: waste management environmental services\n",
      "risks: NA\n",
      "items_sold: NA\n",
      "service_provided: waste management environmental services\n",
      "business_relations: NA\n"
     ]
    },
    {
     "name": "stderr",
     "output_type": "stream",
     "text": [
      "\r",
      "Generating responses:  60%|██████    | 600/1000 [40:36<25:42,  3.86s/it]"
     ]
    },
    {
     "name": "stdout",
     "output_type": "stream",
     "text": [
      "NA\n"
     ]
    },
    {
     "name": "stderr",
     "output_type": "stream",
     "text": [
      "\r",
      "Generating responses:  60%|██████    | 601/1000 [40:38<20:48,  3.13s/it]"
     ]
    },
    {
     "name": "stdout",
     "output_type": "stream",
     "text": [
      "org: Open AI\n",
      "country: NA\n",
      "state: NA\n",
      "city: NA\n",
      "industry: Technology\n",
      "risks: NA\n",
      "items_sold: NA\n",
      "service_provided: Language translation, content creation, customer service, coding assistance, HR assistance\n",
      "business_relations: NA\n"
     ]
    },
    {
     "name": "stderr",
     "output_type": "stream",
     "text": [
      "\r",
      "Generating responses:  60%|██████    | 602/1000 [40:42<21:57,  3.31s/it]"
     ]
    },
    {
     "name": "stdout",
     "output_type": "stream",
     "text": [
      "org: ARC Automotive Inc.\n",
      "country: NA\n",
      "state: NA\n",
      "city: NA\n",
      "industry: Automotive\n",
      "risks: Product liability\n",
      "items_sold: Air bag inflators\n",
      "service_provided: NA\n",
      "business_relations: NA\n"
     ]
    },
    {
     "name": "stderr",
     "output_type": "stream",
     "text": [
      "\r",
      "Generating responses:  60%|██████    | 603/1000 [40:45<22:31,  3.40s/it]"
     ]
    },
    {
     "name": "stdout",
     "output_type": "stream",
     "text": [
      "org: Enterprise Nation\n",
      "country: NA\n",
      "state: NA\n",
      "city: NA\n",
      "industry: Small business support platform\n",
      "risks: Rising cost pressures; Sales dip; Cost-of-living crisis\n",
      "items_sold: NA\n",
      "service_provided: Business support\n",
      "business_relations: NA\n"
     ]
    },
    {
     "name": "stderr",
     "output_type": "stream",
     "text": [
      "\r",
      "Generating responses:  60%|██████    | 604/1000 [40:50<24:04,  3.65s/it]"
     ]
    },
    {
     "name": "stdout",
     "output_type": "stream",
     "text": [
      "org: Re/Max\n",
      "country: NA\n",
      "state: NA\n",
      "city: NA\n",
      "industry: Commercial Real Estate\n",
      "risks: Higher borrowing costs; Inflation; Office vacancies\n",
      "items_sold: NA\n",
      "service_provided: NA\n",
      "business_relations: NA\n"
     ]
    },
    {
     "name": "stderr",
     "output_type": "stream",
     "text": [
      "\r",
      "Generating responses:  60%|██████    | 605/1000 [40:54<24:46,  3.76s/it]"
     ]
    },
    {
     "name": "stdout",
     "output_type": "stream",
     "text": [
      "org: Warby Parker Inc.\n",
      "country: NA\n",
      "state: NA\n",
      "city: NA\n",
      "industry: NA\n",
      "risks: Mounting debt; competition; market volatility\n",
      "items_sold: NA\n",
      "service_provided: NA\n",
      "business_relations: D1 Capital Partners, LP; Durable Capital Partners Lp; Fidelity Blue Chip Growth Fund; Vanguard Total Stock Market Index Fund\n"
     ]
    },
    {
     "name": "stderr",
     "output_type": "stream",
     "text": [
      "\r",
      "Generating responses:  61%|██████    | 606/1000 [40:59<27:55,  4.25s/it]"
     ]
    },
    {
     "name": "stdout",
     "output_type": "stream",
     "text": [
      "org: Diageo\n",
      "country: UK\n",
      "state: NA\n",
      "city: NA\n",
      "industry: Spirits\n",
      "risks: Racial animus\n",
      "items_sold: Spirits\n",
      "service_provided: NA\n",
      "business_relations: Combs Wines and Spirits LLC\n"
     ]
    },
    {
     "name": "stderr",
     "output_type": "stream",
     "text": [
      "\r",
      "Generating responses:  61%|██████    | 607/1000 [41:03<26:44,  4.08s/it]"
     ]
    },
    {
     "name": "stdout",
     "output_type": "stream",
     "text": [
      "org: Boeing Co\n",
      "country: NA\n",
      "state: NA\n",
      "city: NA\n",
      "industry: Aerospace\n",
      "risks: Trade tensions; Competition; Supply chain disruptions\n",
      "items_sold: Commercial airplanes; Defense products\n",
      "service_provided: NA\n",
      "business_relations: Airbus; China Eastern Airlines\n"
     ]
    },
    {
     "name": "stderr",
     "output_type": "stream",
     "text": [
      "\r",
      "Generating responses:  61%|██████    | 608/1000 [41:06<25:59,  3.98s/it]"
     ]
    },
    {
     "name": "stdout",
     "output_type": "stream",
     "text": [
      "org: NA\n"
     ]
    },
    {
     "name": "stderr",
     "output_type": "stream",
     "text": [
      "\r",
      "Generating responses:  61%|██████    | 609/1000 [41:08<22:00,  3.38s/it]"
     ]
    },
    {
     "name": "stdout",
     "output_type": "stream",
     "text": [
      "org: ARC Automotive\n",
      "country: NA\n",
      "state: Tennessee\n",
      "city: Knoxville\n",
      "industry: Automotive\n",
      "risks: Safety defects\n",
      "items_sold: Air bag inflators\n",
      "service_provided: NA\n",
      "business_relations: NA\n"
     ]
    },
    {
     "name": "stderr",
     "output_type": "stream",
     "text": [
      "\r",
      "Generating responses:  61%|██████    | 610/1000 [41:12<21:45,  3.35s/it]"
     ]
    },
    {
     "name": "stdout",
     "output_type": "stream",
     "text": [
      "org: Avidity Biosciences Inc.\n",
      "country: NA\n",
      "state: NA\n",
      "city: NA\n",
      "industry: NA\n",
      "risks: NA\n",
      "items_sold: NA\n",
      "service_provided: NA\n",
      "business_relations: NA\n"
     ]
    },
    {
     "name": "stderr",
     "output_type": "stream",
     "text": [
      "\r",
      "Generating responses:  61%|██████    | 611/1000 [41:15<21:26,  3.31s/it]"
     ]
    },
    {
     "name": "stdout",
     "output_type": "stream",
     "text": [
      "org: ARC Automotive Inc.\n",
      "country: NA\n",
      "state: Tennessee\n",
      "city: Knoxville\n",
      "industry: Automotive manufacturing\n",
      "risks: Exploding inflators; Shrapnel\n",
      "items_sold: NA\n",
      "service_provided: NA\n",
      "business_relations: NA\n"
     ]
    },
    {
     "name": "stderr",
     "output_type": "stream",
     "text": [
      "\r",
      "Generating responses:  61%|██████    | 612/1000 [41:18<21:32,  3.33s/it]"
     ]
    },
    {
     "name": "stdout",
     "output_type": "stream",
     "text": [
      "org: Norton Rose Fulbright\n",
      "country: NA\n",
      "state: NA\n",
      "city: NA\n",
      "industry: Legal Services\n",
      "risks: NA\n",
      "items_sold: NA\n",
      "service_provided: NA\n",
      "business_relations: NA\n"
     ]
    },
    {
     "name": "stderr",
     "output_type": "stream",
     "text": [
      "\r",
      "Generating responses:  61%|██████▏   | 613/1000 [41:22<22:01,  3.41s/it]"
     ]
    },
    {
     "name": "stdout",
     "output_type": "stream",
     "text": [
      "org: Wesco International\n",
      "country: NA\n",
      "state: NA\n",
      "city: NA\n",
      "industry: Supply chain solutions provider\n",
      "risks: NA\n",
      "items_sold: NA\n",
      "service_provided: IoT advisory services; innovation partner ecosystem; solutions innovation center\n",
      "business_relations: APC, Arcules, Axis Communications, Belden, Bosch, Cisco Meraki, Commscope, Corning, Crestron, DMI, Eaton, Leviton Manufacturing, Panduit\n"
     ]
    },
    {
     "name": "stderr",
     "output_type": "stream",
     "text": [
      "\r",
      "Generating responses:  61%|██████▏   | 614/1000 [41:27<25:25,  3.95s/it]"
     ]
    },
    {
     "name": "stdout",
     "output_type": "stream",
     "text": [
      "org: NA\n"
     ]
    },
    {
     "name": "stderr",
     "output_type": "stream",
     "text": [
      "\r",
      "Generating responses:  62%|██████▏   | 615/1000 [41:29<21:22,  3.33s/it]"
     ]
    },
    {
     "name": "stdout",
     "output_type": "stream",
     "text": [
      "org: GameSquare Holdings Inc.\n",
      "country: NA\n",
      "state: NA\n",
      "city: Frisco\n",
      "industry: Digital media, entertainment and technology\n",
      "risks: Digital eye strain\n",
      "items_sold: NA\n",
      "service_provided: NA\n",
      "business_relations: Vivior, Code Red Esports Ltd., GCN, Zoned, Complexity Gaming, Fourth Frame Studios, Mission Supply, Frankly Media, Stream Hatchet, and Sideqik.\n"
     ]
    },
    {
     "name": "stderr",
     "output_type": "stream",
     "text": [
      "\r",
      "Generating responses:  62%|██████▏   | 616/1000 [41:35<26:58,  4.22s/it]"
     ]
    },
    {
     "name": "stdout",
     "output_type": "stream",
     "text": [
      "org: NA\n"
     ]
    },
    {
     "name": "stderr",
     "output_type": "stream",
     "text": [
      "\r",
      "Generating responses:  62%|██████▏   | 617/1000 [41:37<23:16,  3.65s/it]"
     ]
    },
    {
     "name": "stdout",
     "output_type": "stream",
     "text": [
      "org: ARC Automotive\n",
      "country: NA\n",
      "state: NA\n",
      "city: NA\n",
      "industry: Automotive\n",
      "risks: Safety; Legal\n",
      "items_sold: Air bag inflators\n",
      "service_provided: NA\n",
      "business_relations: NA\n"
     ]
    },
    {
     "name": "stderr",
     "output_type": "stream",
     "text": [
      "\r",
      "Generating responses:  62%|██████▏   | 618/1000 [41:42<23:57,  3.76s/it]"
     ]
    },
    {
     "name": "stdout",
     "output_type": "stream",
     "text": [
      "org: ARC Automotive Inc.\n",
      "country: United States\n",
      "state: Tennessee\n",
      "city: Knoxville\n",
      "industry: Automotive\n",
      "risks: Exploding inflators; Shrapnel expulsion\n",
      "items_sold: Air bag inflators\n",
      "service_provided: NA\n",
      "business_relations: NA\n"
     ]
    },
    {
     "name": "stderr",
     "output_type": "stream",
     "text": [
      "\r",
      "Generating responses:  62%|██████▏   | 619/1000 [41:47<26:30,  4.18s/it]"
     ]
    },
    {
     "name": "stdout",
     "output_type": "stream",
     "text": [
      "org: Ambius\n",
      "country: NA\n",
      "state: NA\n",
      "city: Reading\n",
      "industry: Creating smarter, healthier spaces through air quality, plants and scenting\n",
      "risks: NA\n",
      "items_sold: Indoor air purification, plants, green walls, scenting and holiday decor\n",
      "service_provided: Creating exceptional experiences for spaces where people live, work, learn, and play\n",
      "business_relations: Rentokil Terminix\n"
     ]
    },
    {
     "name": "stderr",
     "output_type": "stream",
     "text": [
      "\r",
      "Generating responses:  62%|██████▏   | 620/1000 [41:52<29:17,  4.62s/it]"
     ]
    },
    {
     "name": "stdout",
     "output_type": "stream",
     "text": [
      "org: Macy's Inc\n",
      "country: NA\n",
      "state: NA\n",
      "city: NA\n",
      "industry: Retail\n",
      "risks: Inflation; Consumer spending\n",
      "items_sold: NA\n",
      "service_provided: NA\n",
      "business_relations: NA\n"
     ]
    },
    {
     "name": "stderr",
     "output_type": "stream",
     "text": [
      "\r",
      "Generating responses:  62%|██████▏   | 621/1000 [41:56<27:44,  4.39s/it]"
     ]
    },
    {
     "name": "stdout",
     "output_type": "stream",
     "text": [
      "org: Jaguar\n",
      "country: NA\n",
      "state: NA\n",
      "city: NA\n",
      "industry: Automotive\n",
      "risks: Fire risk\n",
      "items_sold: Jaguar I-Pace electric SUVs\n",
      "service_provided: NA\n",
      "business_relations: NA\n"
     ]
    },
    {
     "name": "stderr",
     "output_type": "stream",
     "text": [
      "\r",
      "Generating responses:  62%|██████▏   | 622/1000 [42:00<26:30,  4.21s/it]"
     ]
    },
    {
     "name": "stdout",
     "output_type": "stream",
     "text": [
      "org: Macy's\n",
      "country: United States\n",
      "state: NA\n",
      "city: NA\n",
      "industry: Retail\n",
      "risks: Weak consumer demand; Macroeconomic impacts; Decline in sales; Inventory management; Bad debt. \n",
      "items_sold: NA\n",
      "service_provided: NA\n",
      "business_relations: NA\n"
     ]
    },
    {
     "name": "stderr",
     "output_type": "stream",
     "text": [
      "\r",
      "Generating responses:  62%|██████▏   | 623/1000 [42:05<27:14,  4.34s/it]"
     ]
    },
    {
     "name": "stdout",
     "output_type": "stream",
     "text": [
      "org: GMX\n",
      "country: NA\n",
      "state: NA\n",
      "city: NA\n",
      "industry: cryptocurrency exchange\n",
      "risks: NA\n",
      "items_sold: NA\n",
      "service_provided: cryptocurrency exchange services\n",
      "business_relations: NA\n"
     ]
    },
    {
     "name": "stderr",
     "output_type": "stream",
     "text": [
      "\r",
      "Generating responses:  62%|██████▏   | 624/1000 [42:08<25:15,  4.03s/it]"
     ]
    },
    {
     "name": "stdout",
     "output_type": "stream",
     "text": [
      "org: MPLX LP\n",
      "country: NA\n",
      "state: NA\n",
      "city: NA\n",
      "industry: Energy sector\n",
      "risks: NA\n",
      "items_sold: NA\n",
      "service_provided: NA\n",
      "business_relations: NA\n"
     ]
    },
    {
     "name": "stderr",
     "output_type": "stream",
     "text": [
      "\r",
      "Generating responses:  62%|██████▎   | 625/1000 [42:11<23:54,  3.82s/it]"
     ]
    },
    {
     "name": "stdout",
     "output_type": "stream",
     "text": [
      "org: NA\n"
     ]
    },
    {
     "name": "stderr",
     "output_type": "stream",
     "text": [
      "\r",
      "Generating responses:  63%|██████▎   | 626/1000 [42:13<19:21,  3.11s/it]"
     ]
    },
    {
     "name": "stdout",
     "output_type": "stream",
     "text": [
      "org: Revolut\n",
      "country: NA\n",
      "state: NA\n",
      "city: NA\n",
      "industry: Finance app\n",
      "risks: NA\n",
      "items_sold: Peer-to-peer payments; piggy banks; <18 accounts; vacation bookings; fractional ETF trading\n",
      "service_provided: Crypto education\n",
      "business_relations: Upvest\n"
     ]
    },
    {
     "name": "stderr",
     "output_type": "stream",
     "text": [
      "\r",
      "Generating responses:  63%|██████▎   | 627/1000 [42:17<22:12,  3.57s/it]"
     ]
    },
    {
     "name": "stdout",
     "output_type": "stream",
     "text": [
      "org: NA\n"
     ]
    },
    {
     "name": "stderr",
     "output_type": "stream",
     "text": [
      "\r",
      "Generating responses:  63%|██████▎   | 628/1000 [42:19<18:49,  3.04s/it]"
     ]
    },
    {
     "name": "stdout",
     "output_type": "stream",
     "text": [
      "org: Lidl\n",
      "country: NA\n",
      "state: NA\n",
      "city: NA\n",
      "industry: Supermarket/Retail\n",
      "risks: Contamination; Product recall\n",
      "items_sold: Fin Carré Milk Chocolate with Hazelnuts\n",
      "service_provided: NA\n",
      "business_relations: NA\n"
     ]
    },
    {
     "name": "stderr",
     "output_type": "stream",
     "text": [
      "\r",
      "Generating responses:  63%|██████▎   | 629/1000 [42:23<21:09,  3.42s/it]"
     ]
    },
    {
     "name": "stdout",
     "output_type": "stream",
     "text": [
      "org: Target\n",
      "country: NA\n",
      "state: NA\n",
      "city: NA\n",
      "industry: Retail\n",
      "risks: Loss of sales; Public relations disaster\n",
      "items_sold: NA\n",
      "service_provided: NA\n",
      "business_relations: NA\n"
     ]
    },
    {
     "name": "stderr",
     "output_type": "stream",
     "text": [
      "\r",
      "Generating responses:  63%|██████▎   | 630/1000 [42:27<21:12,  3.44s/it]"
     ]
    },
    {
     "name": "stdout",
     "output_type": "stream",
     "text": [
      "org: Dr Martens\n",
      "country: UK\n",
      "state: NA\n",
      "city: NA\n",
      "industry: Footwear\n",
      "risks: Challenging consumer environment; Operational mistakes; Slower revenue growth\n",
      "items_sold: Boots and shoes\n",
      "service_provided: NA\n",
      "business_relations: NA\n"
     ]
    },
    {
     "name": "stderr",
     "output_type": "stream",
     "text": [
      "\r",
      "Generating responses:  63%|██████▎   | 631/1000 [42:32<23:15,  3.78s/it]"
     ]
    },
    {
     "name": "stdout",
     "output_type": "stream",
     "text": [
      "org: G&G\n",
      "country: NA\n",
      "state: NA\n",
      "city: NA\n",
      "industry: printer cartridge\n",
      "risks: NA\n",
      "items_sold: printing supplies\n",
      "service_provided: NA\n",
      "business_relations: Ninestar\n"
     ]
    },
    {
     "name": "stderr",
     "output_type": "stream",
     "text": [
      "\r",
      "Generating responses:  63%|██████▎   | 632/1000 [42:35<22:29,  3.67s/it]"
     ]
    },
    {
     "name": "stdout",
     "output_type": "stream",
     "text": [
      "org: Hyliion Holdings Corp.\n",
      "country: NA\n",
      "state: NA\n",
      "city: NA\n",
      "industry: NA\n",
      "risks: NA\n",
      "items_sold: NA\n",
      "service_provided: NA\n",
      "business_relations: NA\n"
     ]
    },
    {
     "name": "stderr",
     "output_type": "stream",
     "text": [
      "\r",
      "Generating responses:  63%|██████▎   | 633/1000 [42:41<26:15,  4.29s/it]"
     ]
    },
    {
     "name": "stdout",
     "output_type": "stream",
     "text": [
      "org: NA\n"
     ]
    },
    {
     "name": "stderr",
     "output_type": "stream",
     "text": [
      "\r",
      "Generating responses:  63%|██████▎   | 634/1000 [42:43<21:57,  3.60s/it]"
     ]
    },
    {
     "name": "stdout",
     "output_type": "stream",
     "text": [
      "org: BHP\n",
      "country: Australia\n",
      "state: NA\n",
      "city: NA\n",
      "industry: Mining\n",
      "risks: NA\n",
      "items_sold: Metallurgical coal; Iron ore; Nickel; Copper; Potash\n",
      "service_provided: NA\n",
      "business_relations: NA\n"
     ]
    },
    {
     "name": "stderr",
     "output_type": "stream",
     "text": [
      "\r",
      "Generating responses:  64%|██████▎   | 635/1000 [42:47<23:03,  3.79s/it]"
     ]
    },
    {
     "name": "stdout",
     "output_type": "stream",
     "text": [
      "org: Coherent Market Insights\n",
      "country: NA\n",
      "state: NA\n",
      "city: NA\n",
      "industry: Medical Monitor Market Research\n",
      "risks: NA\n",
      "items_sold: NA\n",
      "service_provided: NA\n",
      "business_relations: Ampronix Inc., Barco N.V., Eizo Corporation, KOSTEC CO. LTD., JVCKENWOOD Corporation, Richardson Electronics Ltd., and NEC Display Solutions.\n"
     ]
    },
    {
     "name": "stderr",
     "output_type": "stream",
     "text": [
      "\r",
      "Generating responses:  64%|██████▎   | 636/1000 [42:53<26:31,  4.37s/it]"
     ]
    },
    {
     "name": "stdout",
     "output_type": "stream",
     "text": [
      "NA\n"
     ]
    },
    {
     "name": "stderr",
     "output_type": "stream",
     "text": [
      "\r",
      "Generating responses:  64%|██████▎   | 637/1000 [42:55<22:39,  3.75s/it]"
     ]
    },
    {
     "name": "stdout",
     "output_type": "stream",
     "text": [
      "org: Electric Service Bureau of Addis Ababa City Administration\n",
      "country: Ethiopia\n",
      "state: Addis Ababa\n",
      "city: Addis Ababa\n",
      "industry: Electric power provision services\n",
      "risks: Corruption; Misappropriation of resources; Power disruption; Theft of power cables; Unruly institutions not paying for services; Damages to train transport cables, transformers, meters, and electric power poles\n",
      "items_sold: NA\n",
      "service_provided: Electric power provision services\n",
      "business_relations: NA\n"
     ]
    },
    {
     "name": "stderr",
     "output_type": "stream",
     "text": [
      "\r",
      "Generating responses:  64%|██████▍   | 638/1000 [43:01<26:02,  4.32s/it]"
     ]
    },
    {
     "name": "stdout",
     "output_type": "stream",
     "text": [
      "NA\n"
     ]
    },
    {
     "name": "stderr",
     "output_type": "stream",
     "text": [
      "\r",
      "Generating responses:  64%|██████▍   | 639/1000 [43:02<20:51,  3.47s/it]"
     ]
    },
    {
     "name": "stdout",
     "output_type": "stream",
     "text": [
      "NA\n"
     ]
    },
    {
     "name": "stderr",
     "output_type": "stream",
     "text": [
      "\r",
      "Generating responses:  64%|██████▍   | 640/1000 [43:03<16:46,  2.80s/it]"
     ]
    },
    {
     "name": "stdout",
     "output_type": "stream",
     "text": [
      "org: Nayax UK\n",
      "country: UK\n",
      "state: NA\n",
      "city: NA\n",
      "industry: Cashless payment solutions\n",
      "risks: NA\n",
      "items_sold: NA\n",
      "service_provided: Cashless payment solutions and management platforms\n",
      "business_relations: NA\n"
     ]
    },
    {
     "name": "stderr",
     "output_type": "stream",
     "text": [
      "\r",
      "Generating responses:  64%|██████▍   | 641/1000 [43:07<19:01,  3.18s/it]"
     ]
    },
    {
     "name": "stdout",
     "output_type": "stream",
     "text": [
      "org: HFCL\n",
      "country: India\n",
      "state: Hyderabad\n",
      "city: NA\n",
      "industry: Optical Fiber Cable manufacturing\n",
      "risks: sourcing vagaries; market demand\n",
      "items_sold: NA\n",
      "service_provided: NA\n",
      "business_relations: NA\n"
     ]
    },
    {
     "name": "stderr",
     "output_type": "stream",
     "text": [
      "\r",
      "Generating responses:  64%|██████▍   | 642/1000 [43:11<19:39,  3.29s/it]"
     ]
    },
    {
     "name": "stdout",
     "output_type": "stream",
     "text": [
      "org: London Metal Exchange\n",
      "country: NA\n",
      "state: NA\n",
      "city: NA\n",
      "industry: Metal trading\n",
      "risks: Legal action; Enforcement investigation\n",
      "items_sold: NA\n",
      "service_provided: NA\n",
      "business_relations: Hedge fund Elliott Investment Management; Trading firm Jane Street\n"
     ]
    },
    {
     "name": "stderr",
     "output_type": "stream",
     "text": [
      "\r",
      "Generating responses:  64%|██████▍   | 643/1000 [43:15<21:22,  3.59s/it]"
     ]
    },
    {
     "name": "stdout",
     "output_type": "stream",
     "text": [
      "org: Dr. Martens\n",
      "country: NA\n",
      "state: NA\n",
      "city: NA\n",
      "industry: footwear\n",
      "risks: supply chain disruption; changing consumer preferences; competition\n",
      "items_sold: footwear\n",
      "service_provided: NA\n",
      "business_relations: NA\n"
     ]
    },
    {
     "name": "stderr",
     "output_type": "stream",
     "text": [
      "\r",
      "Generating responses:  64%|██████▍   | 644/1000 [43:20<22:38,  3.82s/it]"
     ]
    },
    {
     "name": "stdout",
     "output_type": "stream",
     "text": [
      "org: Bank of Baroda\n",
      "country: India\n",
      "state: NA\n",
      "city: NA\n",
      "industry: Banking\n",
      "risks: NA\n",
      "items_sold: NA\n",
      "service_provided: NA\n",
      "business_relations: Tech Mahindra\n"
     ]
    },
    {
     "name": "stderr",
     "output_type": "stream",
     "text": [
      "\r",
      "Generating responses:  64%|██████▍   | 645/1000 [43:23<22:18,  3.77s/it]"
     ]
    },
    {
     "name": "stdout",
     "output_type": "stream",
     "text": [
      "org: Kapture CX\n",
      "country: NA\n",
      "state: NA\n",
      "city: NA\n",
      "industry: SaaS-based Customer Experience platform\n",
      "risks: NA\n",
      "items_sold: NA\n",
      "service_provided: CX platform to help brands reach out to their customers based on their preferred medium with a personalised message\n",
      "business_relations: NA\n"
     ]
    },
    {
     "name": "stderr",
     "output_type": "stream",
     "text": [
      "\r",
      "Generating responses:  65%|██████▍   | 646/1000 [43:27<23:08,  3.92s/it]"
     ]
    },
    {
     "name": "stdout",
     "output_type": "stream",
     "text": [
      "org: Lantum\n",
      "country: NA\n",
      "state: NA\n",
      "city: London\n",
      "industry: Healthcare workforce platform\n",
      "risks: data exposure; privacy compliance\n",
      "items_sold: NA\n",
      "service_provided: NA\n",
      "business_relations: Lookout, Inc.\n"
     ]
    },
    {
     "name": "stderr",
     "output_type": "stream",
     "text": [
      "\r",
      "Generating responses:  65%|██████▍   | 647/1000 [43:31<22:22,  3.80s/it]"
     ]
    },
    {
     "name": "stdout",
     "output_type": "stream",
     "text": [
      "org: Macy's Inc\n",
      "country: NA\n",
      "state: NA\n",
      "city: NA\n",
      "industry: Retail\n",
      "risks: Inflation; Decreased spending\n",
      "items_sold: NA\n",
      "service_provided: NA\n",
      "business_relations: NA\n"
     ]
    },
    {
     "name": "stderr",
     "output_type": "stream",
     "text": [
      "\r",
      "Generating responses:  65%|██████▍   | 648/1000 [43:34<21:42,  3.70s/it]"
     ]
    },
    {
     "name": "stdout",
     "output_type": "stream",
     "text": [
      "org: NA\n"
     ]
    },
    {
     "name": "stderr",
     "output_type": "stream",
     "text": [
      "\r",
      "Generating responses:  65%|██████▍   | 649/1000 [43:37<18:55,  3.23s/it]"
     ]
    },
    {
     "name": "stdout",
     "output_type": "stream",
     "text": [
      "org: Nano-X Imaging Ltd.\n",
      "country: NA\n",
      "state: NA\n",
      "city: NA\n",
      "industry: Medical Devices\n",
      "risks: NA\n",
      "items_sold: NA\n",
      "service_provided: NA\n",
      "business_relations: NA\n"
     ]
    },
    {
     "name": "stderr",
     "output_type": "stream",
     "text": [
      "\r",
      "Generating responses:  65%|██████▌   | 650/1000 [43:41<20:06,  3.45s/it]"
     ]
    },
    {
     "name": "stdout",
     "output_type": "stream",
     "text": [
      "org: InQubeta and The Graph\n",
      "country: NA\n",
      "state: NA\n",
      "city: NA\n",
      "industry: Cryptocurrency\n",
      "risks: NA\n",
      "items_sold: NA\n",
      "service_provided: NA\n",
      "business_relations: NA\n"
     ]
    },
    {
     "name": "stderr",
     "output_type": "stream",
     "text": [
      "\r",
      "Generating responses:  65%|██████▌   | 651/1000 [43:44<20:44,  3.57s/it]"
     ]
    },
    {
     "name": "stdout",
     "output_type": "stream",
     "text": [
      "org: NA\n"
     ]
    },
    {
     "name": "stderr",
     "output_type": "stream",
     "text": [
      "\r",
      "Generating responses:  65%|██████▌   | 652/1000 [43:46<16:38,  2.87s/it]"
     ]
    },
    {
     "name": "stdout",
     "output_type": "stream",
     "text": [
      "org: Hostaway\n",
      "country: NA\n",
      "state: NA\n",
      "city: NA\n",
      "industry: Vacation rental software and management system\n",
      "risks: NA\n",
      "items_sold: NA\n",
      "service_provided: Property management software; Two-way API connection to major online travel agencies\n",
      "business_relations: Airbnb; VRBO; Booking.com\n"
     ]
    },
    {
     "name": "stderr",
     "output_type": "stream",
     "text": [
      "\r",
      "Generating responses:  65%|██████▌   | 653/1000 [43:50<19:07,  3.31s/it]"
     ]
    },
    {
     "name": "stdout",
     "output_type": "stream",
     "text": [
      "org: Marvell Technology\n",
      "country: NA\n",
      "state: NA\n",
      "city: NA\n",
      "industry: Technology\n",
      "risks: NA\n",
      "items_sold: Chips\n",
      "service_provided: NA\n",
      "business_relations: NA\n"
     ]
    },
    {
     "name": "stderr",
     "output_type": "stream",
     "text": [
      "\r",
      "Generating responses:  65%|██████▌   | 654/1000 [43:53<19:08,  3.32s/it]"
     ]
    },
    {
     "name": "stdout",
     "output_type": "stream",
     "text": [
      "org: Tesco\n",
      "country: NA\n",
      "state: NA\n",
      "city: NA\n",
      "industry: Retail\n",
      "risks: NA\n",
      "items_sold: Groceries and other household items\n",
      "service_provided: Clubcard loyalty scheme\n",
      "business_relations: Reward Partners such as Pizza Express and Zizzi\n"
     ]
    },
    {
     "name": "stderr",
     "output_type": "stream",
     "text": [
      "\r",
      "Generating responses:  66%|██████▌   | 655/1000 [43:58<21:02,  3.66s/it]"
     ]
    },
    {
     "name": "stdout",
     "output_type": "stream",
     "text": [
      "org: Federal Communications Commission (FCC)\n",
      "country: United States\n",
      "state: NA\n",
      "city: NA\n",
      "industry: Telecommunications\n",
      "risks: NA\n",
      "items_sold: NA\n",
      "service_provided: NA\n",
      "business_relations: NA\n"
     ]
    },
    {
     "name": "stderr",
     "output_type": "stream",
     "text": [
      "\r",
      "Generating responses:  66%|██████▌   | 656/1000 [44:01<21:02,  3.67s/it]"
     ]
    },
    {
     "name": "stdout",
     "output_type": "stream",
     "text": [
      "org: ResearchAndMarkets.com\n",
      "country: NA\n",
      "state: NA\n",
      "city: NA\n",
      "industry: Market Research\n",
      "risks: NA\n",
      "items_sold: Market research reports and market data\n",
      "service_provided: Market research services\n",
      "business_relations: Thermo Fisher Scientific Inc., PerkinElmer Inc., Autoscribe Informatics, Shimadzu Corporation, Novatek International, Benchling, Agaram Technologies Pvt Ltd, Agilent Technologies Inc., LabWare, STARLIMS Corporation.\n"
     ]
    },
    {
     "name": "stderr",
     "output_type": "stream",
     "text": [
      "\r",
      "Generating responses:  66%|██████▌   | 657/1000 [44:08<25:56,  4.54s/it]"
     ]
    },
    {
     "name": "stdout",
     "output_type": "stream",
     "text": [
      "org: Trelleborg Group\n",
      "country: NA\n",
      "state: NA\n",
      "city: NA\n",
      "industry: NA\n",
      "risks: NA\n",
      "items_sold: NA\n",
      "service_provided: NA\n",
      "business_relations: NA\n"
     ]
    },
    {
     "name": "stderr",
     "output_type": "stream",
     "text": [
      "\r",
      "Generating responses:  66%|██████▌   | 658/1000 [44:12<24:37,  4.32s/it]"
     ]
    },
    {
     "name": "stdout",
     "output_type": "stream",
     "text": [
      "org: Tesco\n",
      "country: NA\n",
      "state: NA\n",
      "city: NA\n",
      "industry: Retail\n",
      "risks: NA\n",
      "items_sold: Groceries and other household items\n",
      "service_provided: Clubcard loyalty program\n",
      "business_relations: Reward Partners such as Pizza Express and Zizzi\n"
     ]
    },
    {
     "name": "stderr",
     "output_type": "stream",
     "text": [
      "\r",
      "Generating responses:  66%|██████▌   | 659/1000 [44:16<24:37,  4.33s/it]"
     ]
    },
    {
     "name": "stdout",
     "output_type": "stream",
     "text": [
      "org: Tesco\n",
      "country: NA\n",
      "state: NA\n",
      "city: NA\n",
      "industry: Retail\n",
      "risks: Competition; Economic conditions; Supply chain disruptions\n",
      "items_sold: Groceries; Clothing; Electronics; Home goods\n",
      "service_provided: Clubcard loyalty program; Online grocery shopping; Financial services\n",
      "business_relations: Pizza Express; Zizzi; Reward Partners\n"
     ]
    },
    {
     "name": "stderr",
     "output_type": "stream",
     "text": [
      "\r",
      "Generating responses:  66%|██████▌   | 660/1000 [44:21<25:14,  4.45s/it]"
     ]
    },
    {
     "name": "stdout",
     "output_type": "stream",
     "text": [
      "org: NA\n"
     ]
    },
    {
     "name": "stderr",
     "output_type": "stream",
     "text": [
      "\r",
      "Generating responses:  66%|██████▌   | 661/1000 [44:23<20:50,  3.69s/it]"
     ]
    },
    {
     "name": "stdout",
     "output_type": "stream",
     "text": [
      "org: Technanosoft Technologies\n",
      "country: NA\n",
      "state: NA\n",
      "city: NA\n",
      "industry: Technology\n",
      "risks: NA\n",
      "items_sold: NA\n",
      "service_provided: Salesforce integration services\n",
      "business_relations: NA\n"
     ]
    },
    {
     "name": "stderr",
     "output_type": "stream",
     "text": [
      "\r",
      "Generating responses:  66%|██████▌   | 662/1000 [44:27<20:45,  3.68s/it]"
     ]
    },
    {
     "name": "stdout",
     "output_type": "stream",
     "text": [
      "org: NA\n"
     ]
    },
    {
     "name": "stderr",
     "output_type": "stream",
     "text": [
      "\r",
      "Generating responses:  66%|██████▋   | 663/1000 [44:28<17:03,  3.04s/it]"
     ]
    },
    {
     "name": "stdout",
     "output_type": "stream",
     "text": [
      "org: ResearchAndMarkets.com\n",
      "country: NA\n",
      "state: NA\n",
      "city: Dublin\n",
      "industry: Laboratory Information Management System Market\n",
      "risks: Data complexity; Lack of user-friendly tools; Expense of data administration and software\n",
      "items_sold: NA\n",
      "service_provided: NA\n",
      "business_relations: NA\n"
     ]
    },
    {
     "name": "stderr",
     "output_type": "stream",
     "text": [
      "\r",
      "Generating responses:  66%|██████▋   | 664/1000 [44:32<19:18,  3.45s/it]"
     ]
    },
    {
     "name": "stdout",
     "output_type": "stream",
     "text": [
      "org: NA\n"
     ]
    },
    {
     "name": "stderr",
     "output_type": "stream",
     "text": [
      "\r",
      "Generating responses:  66%|██████▋   | 665/1000 [44:34<15:57,  2.86s/it]"
     ]
    },
    {
     "name": "stdout",
     "output_type": "stream",
     "text": [
      "org: ResearchAndMarkets.com\n",
      "country: NA\n",
      "state: NA\n",
      "city: Dublin\n",
      "industry: Market Research\n",
      "risks: Data complexity; Lack of user-friendly tools; Expense of data administration and software\n",
      "items_sold: NA\n",
      "service_provided: Market research reports and market data\n",
      "business_relations: NA\n"
     ]
    },
    {
     "name": "stderr",
     "output_type": "stream",
     "text": [
      "\r",
      "Generating responses:  67%|██████▋   | 666/1000 [44:40<20:26,  3.67s/it]"
     ]
    },
    {
     "name": "stdout",
     "output_type": "stream",
     "text": [
      "org: STMicroelectronics\n",
      "country: NA\n",
      "state: NA\n",
      "city: NA\n",
      "industry: Electronics\n",
      "risks: NA\n",
      "items_sold: L9961 battery-management-system device\n",
      "service_provided: NA\n",
      "business_relations: NA\n"
     ]
    },
    {
     "name": "stderr",
     "output_type": "stream",
     "text": [
      "\r",
      "Generating responses:  67%|██████▋   | 667/1000 [44:43<20:40,  3.72s/it]"
     ]
    },
    {
     "name": "stdout",
     "output_type": "stream",
     "text": [
      "org: Toray Resins Europe GmbH\n",
      "country: NA\n",
      "state: NA\n",
      "city: NA\n",
      "industry: Marketing and Sales\n",
      "risks: NA\n",
      "items_sold: NA\n",
      "service_provided: NA\n",
      "business_relations: Toray Industries Inc.\n"
     ]
    },
    {
     "name": "stderr",
     "output_type": "stream",
     "text": [
      "\r",
      "Generating responses:  67%|██████▋   | 668/1000 [44:47<20:02,  3.62s/it]"
     ]
    },
    {
     "name": "stdout",
     "output_type": "stream",
     "text": [
      "org: NA\n"
     ]
    },
    {
     "name": "stderr",
     "output_type": "stream",
     "text": [
      "\r",
      "Generating responses:  67%|██████▋   | 669/1000 [44:48<15:59,  2.90s/it]"
     ]
    },
    {
     "name": "stdout",
     "output_type": "stream",
     "text": [
      "org: NA\n"
     ]
    },
    {
     "name": "stderr",
     "output_type": "stream",
     "text": [
      "\r",
      "Generating responses:  67%|██████▋   | 670/1000 [44:49<13:28,  2.45s/it]"
     ]
    },
    {
     "name": "stdout",
     "output_type": "stream",
     "text": [
      "org: FirstEnergy Corp.\n",
      "country: NA\n",
      "state: NA\n",
      "city: Akron\n",
      "industry: Electric power\n",
      "risks: NA\n",
      "items_sold: NA\n",
      "service_provided: NA\n",
      "business_relations: Met-Ed, Penelec and Penn Power\n"
     ]
    },
    {
     "name": "stderr",
     "output_type": "stream",
     "text": [
      "\r",
      "Generating responses:  67%|██████▋   | 671/1000 [44:53<15:03,  2.74s/it]"
     ]
    },
    {
     "name": "stdout",
     "output_type": "stream",
     "text": [
      "org: PharmaLex Ireland Ltd\n",
      "country: Ireland\n",
      "state: NA\n",
      "city: NA\n",
      "industry: pharmaceutical\n",
      "risks: shortage of personnel; navigating legislative requirements; difficulty accessing medicines for rare diseases\n",
      "items_sold: NA\n",
      "service_provided: specialised services to the life sciences industry\n",
      "business_relations: NA\n"
     ]
    },
    {
     "name": "stderr",
     "output_type": "stream",
     "text": [
      "\r",
      "Generating responses:  67%|██████▋   | 672/1000 [44:57<17:50,  3.26s/it]"
     ]
    },
    {
     "name": "stdout",
     "output_type": "stream",
     "text": [
      "org: Me Group\n",
      "country: NA\n",
      "state: NA\n",
      "city: NA\n",
      "industry: instant-service equipment\n",
      "risks: NA\n",
      "items_sold: Photobooths; laundry operations; printing services\n",
      "service_provided: instant-service equipment\n",
      "business_relations: NA\n"
     ]
    },
    {
     "name": "stderr",
     "output_type": "stream",
     "text": [
      "\r",
      "Generating responses:  67%|██████▋   | 673/1000 [45:01<18:47,  3.45s/it]"
     ]
    },
    {
     "name": "stdout",
     "output_type": "stream",
     "text": [
      "org: China Real Estate Information Corp\n",
      "country: China\n",
      "state: NA\n",
      "city: NA\n",
      "industry: Real estate\n",
      "risks: Financial risk\n",
      "items_sold: NA\n",
      "service_provided: NA\n",
      "business_relations: NA\n"
     ]
    },
    {
     "name": "stderr",
     "output_type": "stream",
     "text": [
      "\r",
      "Generating responses:  67%|██████▋   | 674/1000 [45:05<19:20,  3.56s/it]"
     ]
    },
    {
     "name": "stdout",
     "output_type": "stream",
     "text": [
      "org: Sea\n",
      "country: NA\n",
      "state: NA\n",
      "city: NA\n",
      "industry: ecommerce and gaming\n",
      "risks: NA\n",
      "items_sold: NA\n",
      "service_provided: NA\n",
      "business_relations: NA\n"
     ]
    },
    {
     "name": "stderr",
     "output_type": "stream",
     "text": [
      "\r",
      "Generating responses:  68%|██████▊   | 675/1000 [45:09<19:55,  3.68s/it]"
     ]
    },
    {
     "name": "stdout",
     "output_type": "stream",
     "text": [
      "org: Revolut\n",
      "country: NA\n",
      "state: NA\n",
      "city: NA\n",
      "industry: Fintech\n",
      "risks: UK bureaucracy; banking license\n",
      "items_sold: NA\n",
      "service_provided: NA\n",
      "business_relations: NA\n"
     ]
    },
    {
     "name": "stderr",
     "output_type": "stream",
     "text": [
      "\r",
      "Generating responses:  68%|██████▊   | 676/1000 [45:13<20:04,  3.72s/it]"
     ]
    },
    {
     "name": "stdout",
     "output_type": "stream",
     "text": [
      "org: Customology\n",
      "country: Australia\n",
      "state: NA\n",
      "city: NA\n",
      "industry: Marketing\n",
      "risks: Mistrust; Irrelevant messages; Lack of customer recognition; Dishonest communication; Email overload\n",
      "items_sold: NA\n",
      "service_provided: NA\n",
      "business_relations: NA\n"
     ]
    },
    {
     "name": "stderr",
     "output_type": "stream",
     "text": [
      "\r",
      "Generating responses:  68%|██████▊   | 677/1000 [45:17<20:12,  3.75s/it]"
     ]
    },
    {
     "name": "stdout",
     "output_type": "stream",
     "text": [
      "org: Central Bank of Nigeria\n",
      "country: Nigeria\n",
      "state: NA\n",
      "city: NA\n",
      "industry: Banking\n",
      "risks: NA\n",
      "items_sold: NA\n",
      "service_provided: NA\n",
      "business_relations: NA\n"
     ]
    },
    {
     "name": "stderr",
     "output_type": "stream",
     "text": [
      "\r",
      "Generating responses:  68%|██████▊   | 678/1000 [45:20<19:44,  3.68s/it]"
     ]
    },
    {
     "name": "stdout",
     "output_type": "stream",
     "text": [
      "org: NA\n"
     ]
    },
    {
     "name": "stderr",
     "output_type": "stream",
     "text": [
      "\r",
      "Generating responses:  68%|██████▊   | 679/1000 [45:22<16:48,  3.14s/it]"
     ]
    },
    {
     "name": "stdout",
     "output_type": "stream",
     "text": [
      "org: Okta\n",
      "country: US\n",
      "state: NA\n",
      "city: NA\n",
      "industry: Cloud-based identity and access management services and solutions\n",
      "risks: Identity theft; Access control\n",
      "items_sold: NA\n",
      "service_provided: Authentication, authorization, and secure access for applications, devices, and users\n",
      "business_relations: FedEx\n"
     ]
    },
    {
     "name": "stderr",
     "output_type": "stream",
     "text": [
      "\r",
      "Generating responses:  68%|██████▊   | 680/1000 [45:26<18:11,  3.41s/it]"
     ]
    },
    {
     "name": "stdout",
     "output_type": "stream",
     "text": [
      "org: National Highway Traffic Safety Administration\n",
      "country: NA\n",
      "state: NA\n",
      "city: NA\n",
      "industry: NA\n",
      "risks: NA\n",
      "items_sold: NA\n",
      "service_provided: NA\n",
      "business_relations: NA\n"
     ]
    },
    {
     "name": "stderr",
     "output_type": "stream",
     "text": [
      "\r",
      "Generating responses:  68%|██████▊   | 681/1000 [45:29<18:13,  3.43s/it]"
     ]
    },
    {
     "name": "stdout",
     "output_type": "stream",
     "text": [
      "org: Em and J’s Rotisserie Chicken and Grill\n",
      "country: NA\n",
      "state: NA\n",
      "city: Hillsburgh\n",
      "industry: Food and Beverage\n",
      "risks: Construction Delays; Inaccessibility; Lack of Communication\n",
      "items_sold: Rotisserie Chicken; Grill Items\n",
      "service_provided: NA\n",
      "business_relations: Erin Chamber of Commerce\n"
     ]
    },
    {
     "name": "stderr",
     "output_type": "stream",
     "text": [
      "\r",
      "Generating responses:  68%|██████▊   | 682/1000 [45:35<20:53,  3.94s/it]"
     ]
    },
    {
     "name": "stdout",
     "output_type": "stream",
     "text": [
      "org: SSPs\n",
      "country: NA\n",
      "state: NA\n",
      "city: NA\n",
      "industry: adtech\n",
      "risks: NA\n",
      "items_sold: NA\n",
      "service_provided: NA\n",
      "business_relations: NA\n"
     ]
    },
    {
     "name": "stderr",
     "output_type": "stream",
     "text": [
      "\r",
      "Generating responses:  68%|██████▊   | 683/1000 [45:38<20:19,  3.85s/it]"
     ]
    },
    {
     "name": "stdout",
     "output_type": "stream",
     "text": [
      "org: Revolut\n",
      "country: UK\n",
      "state: NA\n",
      "city: NA\n",
      "industry: Financial Services\n",
      "risks: Regulatory; Competition; Cybersecurity\n",
      "items_sold: NA\n",
      "service_provided: Financial Services\n",
      "business_relations: NA\n"
     ]
    },
    {
     "name": "stderr",
     "output_type": "stream",
     "text": [
      "\r",
      "Generating responses:  68%|██████▊   | 684/1000 [45:42<20:44,  3.94s/it]"
     ]
    },
    {
     "name": "stdout",
     "output_type": "stream",
     "text": [
      "org: NA\n"
     ]
    },
    {
     "name": "stderr",
     "output_type": "stream",
     "text": [
      "\r",
      "Generating responses:  68%|██████▊   | 685/1000 [45:44<16:51,  3.21s/it]"
     ]
    },
    {
     "name": "stdout",
     "output_type": "stream",
     "text": [
      "org: Walmart Inc.\n",
      "country: United States\n",
      "state: Arkansas\n",
      "city: Bentonville\n",
      "industry: Retail\n",
      "risks: NA\n",
      "items_sold: NA\n",
      "service_provided: NA\n",
      "business_relations: NA\n"
     ]
    },
    {
     "name": "stderr",
     "output_type": "stream",
     "text": [
      "\r",
      "Generating responses:  69%|██████▊   | 686/1000 [45:47<17:09,  3.28s/it]"
     ]
    },
    {
     "name": "stdout",
     "output_type": "stream",
     "text": [
      "org: Walmart\n",
      "country: United States\n",
      "state: Arkansas\n",
      "city: Bentonville\n",
      "industry: Retail\n",
      "risks: NA\n",
      "items_sold: NA\n",
      "service_provided: NA\n",
      "business_relations: NA\n"
     ]
    },
    {
     "name": "stderr",
     "output_type": "stream",
     "text": [
      "\r",
      "Generating responses:  69%|██████▊   | 687/1000 [45:51<17:24,  3.34s/it]"
     ]
    },
    {
     "name": "stdout",
     "output_type": "stream",
     "text": [
      "org: Infobip\n",
      "country: NA\n",
      "state: NA\n",
      "city: NA\n",
      "industry: Communications Platform as a Service (CPaaS)\n",
      "risks: NA\n",
      "items_sold: NA\n",
      "service_provided: Communications Platform as a Service (CPaaS)\n",
      "business_relations: NA\n"
     ]
    },
    {
     "name": "stderr",
     "output_type": "stream",
     "text": [
      "\r",
      "Generating responses:  69%|██████▉   | 688/1000 [45:55<19:10,  3.69s/it]"
     ]
    },
    {
     "name": "stdout",
     "output_type": "stream",
     "text": [
      "org: Lattice Semiconductor Corporation\n",
      "country: NA\n",
      "state: NA\n",
      "city: NA\n",
      "industry: Technology\n",
      "risks: NA\n",
      "items_sold: NA\n",
      "service_provided: NA\n",
      "business_relations: NA\n"
     ]
    },
    {
     "name": "stderr",
     "output_type": "stream",
     "text": [
      "\r",
      "Generating responses:  69%|██████▉   | 689/1000 [45:59<18:41,  3.60s/it]"
     ]
    },
    {
     "name": "stdout",
     "output_type": "stream",
     "text": [
      "org: Omdia\n",
      "country: NA\n",
      "state: NA\n",
      "city: NA\n",
      "industry: Research and Analysis\n",
      "risks: NA\n",
      "items_sold: NA\n",
      "service_provided: NA\n",
      "business_relations: NA\n"
     ]
    },
    {
     "name": "stderr",
     "output_type": "stream",
     "text": [
      "\r",
      "Generating responses:  69%|██████▉   | 690/1000 [46:02<18:35,  3.60s/it]"
     ]
    },
    {
     "name": "stdout",
     "output_type": "stream",
     "text": [
      "org: NA\n"
     ]
    },
    {
     "name": "stderr",
     "output_type": "stream",
     "text": [
      "\r",
      "Generating responses:  69%|██████▉   | 691/1000 [46:04<15:26,  3.00s/it]"
     ]
    },
    {
     "name": "stdout",
     "output_type": "stream",
     "text": [
      "org: Grand View Research\n",
      "country: NA\n",
      "state: NA\n",
      "city: San Francisco\n",
      "industry: Market research and consulting\n",
      "risks: NA\n",
      "items_sold: Market research reports and consulting services\n",
      "service_provided: Syndicated and customized research reports and consulting services\n",
      "business_relations: Berry Global Inc., Amcor plc, American Eagle Packaging, Sealed Air Corporation, Sigma Plastics Group, Mondi, Sonoco Products Company, Genpak LLC, DS Smith PLC, Westrock Company\n"
     ]
    },
    {
     "name": "stderr",
     "output_type": "stream",
     "text": [
      "\r",
      "Generating responses:  69%|██████▉   | 692/1000 [46:11<21:13,  4.14s/it]"
     ]
    },
    {
     "name": "stdout",
     "output_type": "stream",
     "text": [
      "org: Lloyds Bank\n",
      "country: NA\n",
      "state: NA\n",
      "city: NA\n",
      "industry: Banking and Finance\n",
      "risks: Purchase Scams\n",
      "items_sold: NA\n",
      "service_provided: NA\n",
      "business_relations: Meta (owns Facebook and Instagram)\n"
     ]
    },
    {
     "name": "stderr",
     "output_type": "stream",
     "text": [
      "\r",
      "Generating responses:  69%|██████▉   | 693/1000 [46:15<21:16,  4.16s/it]"
     ]
    },
    {
     "name": "stdout",
     "output_type": "stream",
     "text": [
      "org: Apple\n",
      "country: NA\n",
      "state: NA\n",
      "city: NA\n",
      "industry: Technology\n",
      "risks: Subscription fatigue; Macroeconomic environment\n",
      "items_sold: NA\n",
      "service_provided: Apple Music; Apple TV Plus; Apple Arcade\n",
      "business_relations: NA\n"
     ]
    },
    {
     "name": "stderr",
     "output_type": "stream",
     "text": [
      "\r",
      "Generating responses:  69%|██████▉   | 694/1000 [46:20<22:15,  4.37s/it]"
     ]
    },
    {
     "name": "stdout",
     "output_type": "stream",
     "text": [
      "org: Affectiva\n",
      "country: NA\n",
      "state: NA\n",
      "city: NA\n",
      "industry: Emotional analysis\n",
      "risks: Privacy breaches; Misinterpretation of emotions\n",
      "items_sold: NA\n",
      "service_provided: Emotional analysis through AI technology\n",
      "business_relations: NA\n"
     ]
    },
    {
     "name": "stderr",
     "output_type": "stream",
     "text": [
      "\r",
      "Generating responses:  70%|██████▉   | 695/1000 [46:24<22:09,  4.36s/it]"
     ]
    },
    {
     "name": "stdout",
     "output_type": "stream",
     "text": [
      "org: Tesco\n",
      "country: NA\n",
      "state: NA\n",
      "city: NA\n",
      "industry: Supermarket/Retail\n",
      "risks: NA\n",
      "items_sold: Groceries, fuel, household items, electronics, clothing, etc.\n",
      "service_provided: Clubcard loyalty program, online grocery shopping, financial services (Tesco Bank), mobile network (Tesco Mobile)\n",
      "business_relations: Reward Partners such as Pizza Express, Hotels.com, LeShuttle, Alton Towers Resort.\n"
     ]
    },
    {
     "name": "stderr",
     "output_type": "stream",
     "text": [
      "\r",
      "Generating responses:  70%|██████▉   | 696/1000 [46:30<25:02,  4.94s/it]"
     ]
    },
    {
     "name": "stdout",
     "output_type": "stream",
     "text": [
      "NA\n"
     ]
    },
    {
     "name": "stderr",
     "output_type": "stream",
     "text": [
      "\r",
      "Generating responses:  70%|██████▉   | 697/1000 [46:33<21:08,  4.19s/it]"
     ]
    },
    {
     "name": "stdout",
     "output_type": "stream",
     "text": [
      "NA\n"
     ]
    },
    {
     "name": "stderr",
     "output_type": "stream",
     "text": [
      "\r",
      "Generating responses:  70%|██████▉   | 698/1000 [46:34<16:53,  3.36s/it]"
     ]
    },
    {
     "name": "stdout",
     "output_type": "stream",
     "text": [
      "org: SafeBoda\n",
      "country: Uganda\n",
      "state: NA\n",
      "city: NA\n",
      "industry: Transportation and Financial Services\n",
      "risks: Insecurity; Lack of talent; Cybersecurity issues; Unnecessary competition\n",
      "items_sold: NA\n",
      "service_provided: Boda boda and car transport services; Financial services such as bill payment and parcel delivery\n",
      "business_relations: HiPipo, Level One Project, Mojaloop Foundation, INFITX, Cyberplc Academy, Ideation Corner, Crosslake Technologies, Bill and Melinda Gates Foundation\n"
     ]
    },
    {
     "name": "stderr",
     "output_type": "stream",
     "text": [
      "\r",
      "Generating responses:  70%|██████▉   | 699/1000 [46:41<21:41,  4.32s/it]"
     ]
    },
    {
     "name": "stdout",
     "output_type": "stream",
     "text": [
      "org: WorkLife by OpenMoney; The Advantage Travel Partnership\n",
      "country: UK\n",
      "state: NA\n",
      "city: NA\n",
      "industry: Employee benefits platform; Travel agent partnership\n",
      "risks: NA\n",
      "items_sold: NA\n",
      "service_provided: Financial and health wellbeing benefits; Regulated financial advice; Money management tools; Mental wellbeing support app\n",
      "business_relations: WorkLife by OpenMoney\n"
     ]
    },
    {
     "name": "stderr",
     "output_type": "stream",
     "text": [
      "\r",
      "Generating responses:  70%|███████   | 700/1000 [46:46<22:38,  4.53s/it]"
     ]
    },
    {
     "name": "stdout",
     "output_type": "stream",
     "text": [
      "org: Dr Martens\n",
      "country: NA\n",
      "state: NA\n",
      "city: NA\n",
      "industry: Footwear\n",
      "risks: Supply chain inflation; Operational mistakes; Bottleneck issues\n",
      "items_sold: Boots and shoes\n",
      "service_provided: NA\n",
      "business_relations: NA\n"
     ]
    },
    {
     "name": "stderr",
     "output_type": "stream",
     "text": [
      "\r",
      "Generating responses:  70%|███████   | 701/1000 [46:50<21:28,  4.31s/it]"
     ]
    },
    {
     "name": "stdout",
     "output_type": "stream",
     "text": [
      "org: Treasured\n",
      "country: NA\n",
      "state: NA\n",
      "city: Gourock and Largs\n",
      "industry: Retail\n",
      "risks: spiralling costs; low consumer spending\n",
      "items_sold: NA\n",
      "service_provided: NA\n",
      "business_relations: NA\n"
     ]
    },
    {
     "name": "stderr",
     "output_type": "stream",
     "text": [
      "\r",
      "Generating responses:  70%|███████   | 702/1000 [46:54<20:50,  4.20s/it]"
     ]
    },
    {
     "name": "stdout",
     "output_type": "stream",
     "text": [
      "NA\n"
     ]
    },
    {
     "name": "stderr",
     "output_type": "stream",
     "text": [
      "\r",
      "Generating responses:  70%|███████   | 703/1000 [46:55<16:43,  3.38s/it]"
     ]
    },
    {
     "name": "stdout",
     "output_type": "stream",
     "text": [
      "org: Tether Holdings Ltd.\n",
      "country: British Virgin Islands\n",
      "state: NA\n",
      "city: NA\n",
      "industry: Cryptocurrency\n",
      "risks: Regulatory; Liquidity; Market\n",
      "items_sold: NA\n",
      "service_provided: Stablecoin\n",
      "business_relations: NA\n"
     ]
    },
    {
     "name": "stderr",
     "output_type": "stream",
     "text": [
      "\r",
      "Generating responses:  70%|███████   | 704/1000 [47:00<18:57,  3.84s/it]"
     ]
    },
    {
     "name": "stdout",
     "output_type": "stream",
     "text": [
      "org: Tether Holdings Ltd.\n",
      "country: NA\n",
      "state: NA\n",
      "city: NA\n",
      "industry: Cryptocurrency\n",
      "risks: Regulatory; Market volatility; Cybersecurity\n",
      "items_sold: NA\n",
      "service_provided: Stablecoin\n",
      "business_relations: NA\n"
     ]
    },
    {
     "name": "stderr",
     "output_type": "stream",
     "text": [
      "\r",
      "Generating responses:  70%|███████   | 705/1000 [47:04<19:16,  3.92s/it]"
     ]
    },
    {
     "name": "stdout",
     "output_type": "stream",
     "text": [
      "org: NA\n"
     ]
    },
    {
     "name": "stderr",
     "output_type": "stream",
     "text": [
      "\r",
      "Generating responses:  71%|███████   | 706/1000 [47:07<17:04,  3.48s/it]"
     ]
    },
    {
     "name": "stdout",
     "output_type": "stream",
     "text": [
      "org: AVI Global Trust PLC\n",
      "country: England\n",
      "state: Exeter\n",
      "city: Exeter\n",
      "industry: Investment\n",
      "risks: Silicon Valley Bank collapse\n",
      "items_sold: NA\n",
      "service_provided: NA\n",
      "business_relations: Silicon Valley Bank\n"
     ]
    },
    {
     "name": "stderr",
     "output_type": "stream",
     "text": [
      "\r",
      "Generating responses:  71%|███████   | 707/1000 [47:10<17:18,  3.54s/it]"
     ]
    },
    {
     "name": "stdout",
     "output_type": "stream",
     "text": [
      "org: Revolut\n",
      "country: UK\n",
      "state: NA\n",
      "city: NA\n",
      "industry: Financial technology\n",
      "risks: Regulatory compliance; Cybersecurity; Reputation damage\n",
      "items_sold: Money transfer and exchange services\n",
      "service_provided: Peer-to-peer payments; Saving Vaults; <18 accounts; Stays for holiday booking\n",
      "business_relations: NA\n"
     ]
    },
    {
     "name": "stderr",
     "output_type": "stream",
     "text": [
      "\r",
      "Generating responses:  71%|███████   | 708/1000 [47:15<19:09,  3.94s/it]"
     ]
    },
    {
     "name": "stdout",
     "output_type": "stream",
     "text": [
      "org: TNG International\n",
      "country: NA\n",
      "state: NA\n",
      "city: NA\n",
      "industry: Hospitality technology\n",
      "risks: NA\n",
      "items_sold: Management platform for guest activities (TNG SPA and TNG Golf)\n",
      "service_provided: Streamlining and automating all aspects of guest activities management\n",
      "business_relations: HRS Hospitality & Retail Systems (parent company)\n"
     ]
    },
    {
     "name": "stderr",
     "output_type": "stream",
     "text": [
      "\r",
      "Generating responses:  71%|███████   | 709/1000 [47:20<20:11,  4.16s/it]"
     ]
    },
    {
     "name": "stdout",
     "output_type": "stream",
     "text": [
      "org: Emei Shan Tourism Co; Anhui Jiuhuashan Tourism Development Co; China Sports Industry Group\n",
      "country: China\n",
      "state: NA\n",
      "city: NA\n",
      "industry: Tourism; Sports\n",
      "risks: NA\n",
      "items_sold: NA\n",
      "service_provided: NA\n",
      "business_relations: NA\n"
     ]
    },
    {
     "name": "stderr",
     "output_type": "stream",
     "text": [
      "\r",
      "Generating responses:  71%|███████   | 710/1000 [47:24<20:17,  4.20s/it]"
     ]
    },
    {
     "name": "stdout",
     "output_type": "stream",
     "text": [
      "org: Revolut\n",
      "country: NA\n",
      "state: NA\n",
      "city: NA\n",
      "industry: Financial technology\n",
      "risks: NA\n",
      "items_sold: Money transfer and exchange services\n",
      "service_provided: Peer-to-peer payments, Saving Vaults, <18 accounts, and Stays for holiday booking\n",
      "business_relations: NA\n"
     ]
    },
    {
     "name": "stderr",
     "output_type": "stream",
     "text": [
      "\r",
      "Generating responses:  71%|███████   | 711/1000 [47:28<19:51,  4.12s/it]"
     ]
    },
    {
     "name": "stdout",
     "output_type": "stream",
     "text": [
      "org: TNG\n",
      "country: NA\n",
      "state: NA\n",
      "city: NA\n",
      "industry: Leisure and activities management\n",
      "risks: NA\n",
      "items_sold: NA\n",
      "service_provided: Guest-centric and fully integrated management platform for hoteliers, operation managers, and Spa and Golf course operators\n",
      "business_relations: NA\n"
     ]
    },
    {
     "name": "stderr",
     "output_type": "stream",
     "text": [
      "\r",
      "Generating responses:  71%|███████   | 712/1000 [47:33<20:40,  4.31s/it]"
     ]
    },
    {
     "name": "stdout",
     "output_type": "stream",
     "text": [
      "org: NA\n"
     ]
    },
    {
     "name": "stderr",
     "output_type": "stream",
     "text": [
      "\r",
      "Generating responses:  71%|███████▏  | 713/1000 [47:34<16:59,  3.55s/it]"
     ]
    },
    {
     "name": "stdout",
     "output_type": "stream",
     "text": [
      "org: Network Rail\n",
      "country: NA\n",
      "state: NA\n",
      "city: NA\n",
      "industry: Transportation\n",
      "risks: Funding constraints; Asset reliability; Maintenance backlog\n",
      "items_sold: NA\n",
      "service_provided: Infrastructure management\n",
      "business_relations: NA\n"
     ]
    },
    {
     "name": "stderr",
     "output_type": "stream",
     "text": [
      "\r",
      "Generating responses:  71%|███████▏  | 714/1000 [47:38<16:55,  3.55s/it]"
     ]
    },
    {
     "name": "stdout",
     "output_type": "stream",
     "text": [
      "org: Athena Advisers\n",
      "country: Portugal\n",
      "state: NA\n",
      "city: NA\n",
      "industry: Real estate consultancy\n",
      "risks: NA\n",
      "items_sold: Residential and commercial properties\n",
      "service_provided: Sales, marketing, investment, rental, and personal advice\n",
      "business_relations: NA\n"
     ]
    },
    {
     "name": "stderr",
     "output_type": "stream",
     "text": [
      "\r",
      "Generating responses:  72%|███████▏  | 715/1000 [47:42<17:12,  3.62s/it]"
     ]
    },
    {
     "name": "stdout",
     "output_type": "stream",
     "text": [
      "org: NA\n"
     ]
    },
    {
     "name": "stderr",
     "output_type": "stream",
     "text": [
      "\r",
      "Generating responses:  72%|███████▏  | 716/1000 [47:44<14:26,  3.05s/it]"
     ]
    },
    {
     "name": "stdout",
     "output_type": "stream",
     "text": [
      "org: Tesco\n",
      "country: NA\n",
      "state: NA\n",
      "city: NA\n",
      "industry: Retail\n",
      "risks: NA\n",
      "items_sold: Groceries and household items\n",
      "service_provided: Clubcard loyalty program, access to deals and discounts, personalised coupons, Tesco Mobile\n",
      "business_relations: Reward Partners such as Pizza Express, Hotels.com, LeShuttle, Alton Towers Resort\n"
     ]
    },
    {
     "name": "stderr",
     "output_type": "stream",
     "text": [
      "\r",
      "Generating responses:  72%|███████▏  | 717/1000 [47:49<18:07,  3.84s/it]"
     ]
    },
    {
     "name": "stdout",
     "output_type": "stream",
     "text": [
      "org: Brinker International\n",
      "country: NA\n",
      "state: NA\n",
      "city: NA\n",
      "industry: Restaurant\n",
      "risks: NA\n",
      "items_sold: Food and beverages\n",
      "service_provided: Restaurant services\n",
      "business_relations: NA\n"
     ]
    },
    {
     "name": "stderr",
     "output_type": "stream",
     "text": [
      "\r",
      "Generating responses:  72%|███████▏  | 718/1000 [47:53<17:58,  3.82s/it]"
     ]
    },
    {
     "name": "stdout",
     "output_type": "stream",
     "text": [
      "org: NA\n"
     ]
    },
    {
     "name": "stderr",
     "output_type": "stream",
     "text": [
      "\r",
      "Generating responses:  72%|███████▏  | 719/1000 [47:55<14:49,  3.16s/it]"
     ]
    },
    {
     "name": "stdout",
     "output_type": "stream",
     "text": [
      "org: CME\n",
      "country: NA\n",
      "state: NA\n",
      "city: NA\n",
      "industry: Media and Entertainment\n",
      "risks: Environmental Impact; Social Issues; Ethical Practices\n",
      "items_sold: NA\n",
      "service_provided: NA\n",
      "business_relations: UN Global Compact\n"
     ]
    },
    {
     "name": "stderr",
     "output_type": "stream",
     "text": [
      "\r",
      "Generating responses:  72%|███████▏  | 720/1000 [47:59<17:01,  3.65s/it]"
     ]
    },
    {
     "name": "stdout",
     "output_type": "stream",
     "text": [
      "org: Adapt Commercial Property\n",
      "country: NA\n",
      "state: NA\n",
      "city: Glasgow\n",
      "industry: commercial property agency\n",
      "risks: NA\n",
      "items_sold: NA\n",
      "service_provided: specialist advice on transforming buildings to connect with people\n",
      "business_relations: NA\n"
     ]
    },
    {
     "name": "stderr",
     "output_type": "stream",
     "text": [
      "\r",
      "Generating responses:  72%|███████▏  | 721/1000 [48:03<17:20,  3.73s/it]"
     ]
    },
    {
     "name": "stdout",
     "output_type": "stream",
     "text": [
      "org: Onebeat\n",
      "country: NA\n",
      "state: NA\n",
      "city: NA\n",
      "industry: retail tech\n",
      "risks: NA\n",
      "items_sold: NA\n",
      "service_provided: software for real-time customer market analysis\n",
      "business_relations: well-known brands in Europe, the U.S., Asia-Pacific and Latin America\n"
     ]
    },
    {
     "name": "stderr",
     "output_type": "stream",
     "text": [
      "\r",
      "Generating responses:  72%|███████▏  | 722/1000 [48:08<18:38,  4.03s/it]"
     ]
    },
    {
     "name": "stdout",
     "output_type": "stream",
     "text": [
      "org: Grab\n",
      "country: NA\n",
      "state: NA\n",
      "city: NA\n",
      "industry: ride-hailing and super-app\n",
      "risks: pushback from local taxi competitors (competition); shares trading at less than a quarter of IPO price (market risk); struggling to turn a profit (financial risk)\n",
      "items_sold: insurance, travel bookings, financial services, and more\n",
      "service_provided: ride-hailing, food delivery, digital banking, data-crunching service, advertising brokered via the app, upskilling courses\n",
      "business_relations: Singtel (partner in digital banking)\n"
     ]
    },
    {
     "name": "stderr",
     "output_type": "stream",
     "text": [
      "\r",
      "Generating responses:  72%|███████▏  | 723/1000 [48:15<22:14,  4.82s/it]"
     ]
    },
    {
     "name": "stdout",
     "output_type": "stream",
     "text": [
      "org: NA\n"
     ]
    },
    {
     "name": "stderr",
     "output_type": "stream",
     "text": [
      "\r",
      "Generating responses:  72%|███████▏  | 724/1000 [48:17<18:38,  4.05s/it]"
     ]
    },
    {
     "name": "stdout",
     "output_type": "stream",
     "text": [
      "org: Wildberries\n",
      "country: NA\n",
      "state: NA\n",
      "city: NA\n",
      "industry: E-commerce\n",
      "risks: None mentioned\n",
      "items_sold: NA\n",
      "service_provided: NA\n",
      "business_relations: NA\n"
     ]
    },
    {
     "name": "stderr",
     "output_type": "stream",
     "text": [
      "\r",
      "Generating responses:  72%|███████▎  | 725/1000 [48:21<19:00,  4.15s/it]"
     ]
    },
    {
     "name": "stdout",
     "output_type": "stream",
     "text": [
      "org: Multichain\n",
      "country: NA\n",
      "state: NA\n",
      "city: NA\n",
      "industry: cryptocurrency\n",
      "risks: server access; CEO unavailability\n",
      "items_sold: NA\n",
      "service_provided: protocol maintenance\n",
      "business_relations: NA\n"
     ]
    },
    {
     "name": "stderr",
     "output_type": "stream",
     "text": [
      "\r",
      "Generating responses:  73%|███████▎  | 726/1000 [48:26<19:58,  4.37s/it]"
     ]
    },
    {
     "name": "stdout",
     "output_type": "stream",
     "text": [
      "org: Steris\n",
      "country: NA\n",
      "state: NA\n",
      "city: NA\n",
      "industry: Healthcare\n",
      "risks: NA\n",
      "items_sold: Sterilization chemicals; disinfectants\n",
      "service_provided: NA\n",
      "business_relations: Hospitals\n"
     ]
    },
    {
     "name": "stderr",
     "output_type": "stream",
     "text": [
      "\r",
      "Generating responses:  73%|███████▎  | 727/1000 [48:30<19:41,  4.33s/it]"
     ]
    },
    {
     "name": "stdout",
     "output_type": "stream",
     "text": [
      "org: Huawei\n",
      "country: France\n",
      "state: NA\n",
      "city: Cannes\n",
      "industry: Telecommunications\n",
      "risks: Physical route irregularity; Service availability; Handling increase in nodes\n",
      "items_sold: NA\n",
      "service_provided: NA\n",
      "business_relations: NA\n"
     ]
    },
    {
     "name": "stderr",
     "output_type": "stream",
     "text": [
      "\r",
      "Generating responses:  73%|███████▎  | 728/1000 [48:34<18:40,  4.12s/it]"
     ]
    },
    {
     "name": "stdout",
     "output_type": "stream",
     "text": [
      "org: Ministry of Consumer Affairs\n",
      "country: India\n",
      "state: NA\n",
      "city: NA\n",
      "industry: NA\n",
      "risks: NA\n",
      "items_sold: NA\n",
      "service_provided: NA\n",
      "business_relations: Retailers Association of India (RAI), Federation of Indian Chambers of Commerce & Industry (FICCI), Confederation of Indian Industry (CII)\n"
     ]
    },
    {
     "name": "stderr",
     "output_type": "stream",
     "text": [
      "\r",
      "Generating responses:  73%|███████▎  | 729/1000 [48:39<19:51,  4.40s/it]"
     ]
    },
    {
     "name": "stdout",
     "output_type": "stream",
     "text": [
      "org: Wildberries\n",
      "country: Russia\n",
      "state: NA\n",
      "city: NA\n",
      "industry: E-commerce\n",
      "risks: None mentioned\n",
      "items_sold: NA\n",
      "service_provided: NA\n",
      "business_relations: NA\n"
     ]
    },
    {
     "name": "stderr",
     "output_type": "stream",
     "text": [
      "\r",
      "Generating responses:  73%|███████▎  | 730/1000 [48:43<18:31,  4.12s/it]"
     ]
    },
    {
     "name": "stdout",
     "output_type": "stream",
     "text": [
      "org: Sopra Steria\n",
      "country: NA\n",
      "state: NA\n",
      "city: NA\n",
      "industry: digital services consultancy\n",
      "risks: NA\n",
      "items_sold: NA\n",
      "service_provided: NA\n",
      "business_relations: NA\n"
     ]
    },
    {
     "name": "stderr",
     "output_type": "stream",
     "text": [
      "\r",
      "Generating responses:  73%|███████▎  | 731/1000 [48:46<17:33,  3.91s/it]"
     ]
    },
    {
     "name": "stdout",
     "output_type": "stream",
     "text": [
      "org: Honeywell\n",
      "country: NA\n",
      "state: NA\n",
      "city: NA\n",
      "industry: Industrial Safety Portfolio\n",
      "risks: NA\n",
      "items_sold: RTLS technology and services\n",
      "service_provided: Real-time location services\n",
      "business_relations: companies in a variety of industries\n"
     ]
    },
    {
     "name": "stderr",
     "output_type": "stream",
     "text": [
      "\r",
      "Generating responses:  73%|███████▎  | 732/1000 [48:51<18:27,  4.13s/it]"
     ]
    },
    {
     "name": "stdout",
     "output_type": "stream",
     "text": [
      "org: NA\n"
     ]
    },
    {
     "name": "stderr",
     "output_type": "stream",
     "text": [
      "\r",
      "Generating responses:  73%|███████▎  | 733/1000 [48:52<14:29,  3.26s/it]"
     ]
    },
    {
     "name": "stdout",
     "output_type": "stream",
     "text": [
      "org: Kia America\n",
      "country: United States\n",
      "state: California\n",
      "city: Irvine\n",
      "industry: Automotive\n",
      "risks: NA\n",
      "items_sold: gasoline, hybrid, plug-in hybrid and electrified vehicles\n",
      "service_provided: NA\n",
      "business_relations: NBA (Official Automotive Partner)\n"
     ]
    },
    {
     "name": "stderr",
     "output_type": "stream",
     "text": [
      "\r",
      "Generating responses:  73%|███████▎  | 734/1000 [48:56<15:24,  3.48s/it]"
     ]
    },
    {
     "name": "stdout",
     "output_type": "stream",
     "text": [
      "org: National Association of Public Environmental Companies (ANEPMA)\n",
      "country: Spain\n",
      "state: NA\n",
      "city: NA\n",
      "industry: Environmental Services\n",
      "risks: NA\n",
      "items_sold: NA\n",
      "service_provided: Information and communication resource for circular economy and reuse networks\n",
      "business_relations: REUSEMED, Capannori, Cordoba, New Deir Allaa\n"
     ]
    },
    {
     "name": "stderr",
     "output_type": "stream",
     "text": [
      "\r",
      "Generating responses:  74%|███████▎  | 735/1000 [49:01<17:29,  3.96s/it]"
     ]
    },
    {
     "name": "stdout",
     "output_type": "stream",
     "text": [
      "org: Kia America\n",
      "country: United States\n",
      "state: California\n",
      "city: Irvine\n",
      "industry: Automotive\n",
      "risks: NA\n",
      "items_sold: SUVs, EV6 crossover EV\n",
      "service_provided: NA\n",
      "business_relations: NBA (Official Automotive Partner)\n"
     ]
    },
    {
     "name": "stderr",
     "output_type": "stream",
     "text": [
      "\r",
      "Generating responses:  74%|███████▎  | 736/1000 [49:06<18:24,  4.18s/it]"
     ]
    },
    {
     "name": "stdout",
     "output_type": "stream",
     "text": [
      "org: AVEVA\n",
      "country: NA\n",
      "state: NA\n",
      "city: NA\n",
      "industry: industrial software\n",
      "risks: NA\n",
      "items_sold: NA\n",
      "service_provided: secure industrial cloud platform and applications\n",
      "business_relations: Danone, Henkel, Valmet Automotive, Barry Callebaut, and Borg Manufacturing.\n"
     ]
    },
    {
     "name": "stderr",
     "output_type": "stream",
     "text": [
      "\r",
      "Generating responses:  74%|███████▎  | 737/1000 [49:10<18:32,  4.23s/it]"
     ]
    },
    {
     "name": "stdout",
     "output_type": "stream",
     "text": [
      "org: Dr Martens\n",
      "country: NA\n",
      "state: NA\n",
      "city: NA\n",
      "industry: Footwear\n",
      "risks: Supply chain costs; LA distribution centre problems; Softer consumer sentiment\n",
      "items_sold: Footwear\n",
      "service_provided: NA\n",
      "business_relations: NA\n"
     ]
    },
    {
     "name": "stderr",
     "output_type": "stream",
     "text": [
      "\r",
      "Generating responses:  74%|███████▍  | 738/1000 [49:15<19:00,  4.35s/it]"
     ]
    },
    {
     "name": "stdout",
     "output_type": "stream",
     "text": [
      "org: Danco\n",
      "country: NA\n",
      "state: NA\n",
      "city: NA\n",
      "industry: Home solutions and plumbing repair & plumbing replacement parts\n",
      "risks: NA\n",
      "items_sold: Universal Toilet Replacement Handle\n",
      "service_provided: Plumbing repair parts and replacement parts\n",
      "business_relations: Wal-Mart\n"
     ]
    },
    {
     "name": "stderr",
     "output_type": "stream",
     "text": [
      "\r",
      "Generating responses:  74%|███████▍  | 739/1000 [49:19<19:07,  4.40s/it]"
     ]
    },
    {
     "name": "stdout",
     "output_type": "stream",
     "text": [
      "org: Meta\n",
      "country: NA\n",
      "state: NA\n",
      "city: NA\n",
      "industry: Technology\n",
      "risks: NA\n",
      "items_sold: NA\n",
      "service_provided: NA\n",
      "business_relations: Facebook\n"
     ]
    },
    {
     "name": "stderr",
     "output_type": "stream",
     "text": [
      "\r",
      "Generating responses:  74%|███████▍  | 740/1000 [49:23<17:40,  4.08s/it]"
     ]
    },
    {
     "name": "stdout",
     "output_type": "stream",
     "text": [
      "org: AVEVA\n",
      "country: NA\n",
      "state: NA\n",
      "city: NA\n",
      "industry: industrial software\n",
      "risks: NA\n",
      "items_sold: NA\n",
      "service_provided: secure industrial cloud platform and applications\n",
      "business_relations: Danone, Henkel, Valmet Automotive, Barry Callebaut, and Borg Manufacturing.\n"
     ]
    },
    {
     "name": "stderr",
     "output_type": "stream",
     "text": [
      "\r",
      "Generating responses:  74%|███████▍  | 741/1000 [49:27<18:35,  4.31s/it]"
     ]
    },
    {
     "name": "stdout",
     "output_type": "stream",
     "text": [
      "org: Diageo\n",
      "country: UK\n",
      "state: NA\n",
      "city: NA\n",
      "industry: Alcohol\n",
      "risks: Neglect; Racism\n",
      "items_sold: Tequila\n",
      "service_provided: NA\n",
      "business_relations: Combs Wine and Spirits (in a partnership)\n"
     ]
    },
    {
     "name": "stderr",
     "output_type": "stream",
     "text": [
      "\r",
      "Generating responses:  74%|███████▍  | 742/1000 [49:31<18:17,  4.25s/it]"
     ]
    },
    {
     "name": "stdout",
     "output_type": "stream",
     "text": [
      "org: Lovisa Holdings Ltd\n",
      "country: NA\n",
      "state: NA\n",
      "city: NA\n",
      "industry: Retail (Jewellery)\n",
      "risks: Competition; Economic downturn; Supply chain disruptions\n",
      "items_sold: Jewellery\n",
      "service_provided: NA\n",
      "business_relations: NA\n"
     ]
    },
    {
     "name": "stderr",
     "output_type": "stream",
     "text": [
      "\r",
      "Generating responses:  74%|███████▍  | 743/1000 [49:35<17:39,  4.12s/it]"
     ]
    },
    {
     "name": "stdout",
     "output_type": "stream",
     "text": [
      "org: Nium\n",
      "country: NA\n",
      "state: NA\n",
      "city: NA\n",
      "industry: global payments\n",
      "risks: regulatory complexities; FX fluctuation; potential returns\n",
      "items_sold: NA\n",
      "service_provided: payroll payments solution; competitive FX; built-in compliance; real-time payments; security offerings; zero-deduction wire transfers; multiple market coverage\n",
      "business_relations: Panther\n"
     ]
    },
    {
     "name": "stderr",
     "output_type": "stream",
     "text": [
      "\r",
      "Generating responses:  74%|███████▍  | 744/1000 [49:40<18:45,  4.40s/it]"
     ]
    },
    {
     "name": "stdout",
     "output_type": "stream",
     "text": [
      "org: Wall's Pastry\n",
      "country: NA\n",
      "state: NA\n",
      "city: NA\n",
      "industry: Food and Beverage\n",
      "risks: NA\n",
      "items_sold: Sausage rolls\n",
      "service_provided: NA\n",
      "business_relations: The Compleat Food Group\n"
     ]
    },
    {
     "name": "stderr",
     "output_type": "stream",
     "text": [
      "\r",
      "Generating responses:  74%|███████▍  | 745/1000 [49:44<17:56,  4.22s/it]"
     ]
    },
    {
     "name": "stdout",
     "output_type": "stream",
     "text": [
      "org: Quad/Graphics\n",
      "country: NA\n",
      "state: NA\n",
      "city: NA\n",
      "industry: print solutions, media solutions, and logistics services\n",
      "risks: NA\n",
      "items_sold: catalogs, consumer magazines, special insert publications, direct mail, packaging, commercial, and printed products, retail inserts books, and directories\n",
      "service_provided: NA\n",
      "business_relations: NA\n"
     ]
    },
    {
     "name": "stderr",
     "output_type": "stream",
     "text": [
      "\r",
      "Generating responses:  75%|███████▍  | 746/1000 [49:50<19:18,  4.56s/it]"
     ]
    },
    {
     "name": "stdout",
     "output_type": "stream",
     "text": [
      "org: Emaya\n",
      "country: NA\n",
      "state: NA\n",
      "city: Palma\n",
      "industry: Waste management\n",
      "risks: None mentioned\n",
      "items_sold: NA\n",
      "service_provided: Rubbish collection\n",
      "business_relations: NA\n"
     ]
    },
    {
     "name": "stderr",
     "output_type": "stream",
     "text": [
      "\r",
      "Generating responses:  75%|███████▍  | 747/1000 [49:54<18:53,  4.48s/it]"
     ]
    },
    {
     "name": "stdout",
     "output_type": "stream",
     "text": [
      "org: Ardmore Shipping Corp.\n",
      "country: NA\n",
      "state: NA\n",
      "city: NA\n",
      "industry: Shipping\n",
      "risks: NA\n",
      "items_sold: Tankers\n",
      "service_provided: Seaborne transportation of petroleum products and chemicals\n",
      "business_relations: Oil majors, national oil companies, oil and chemical traders, and chemical companies\n"
     ]
    },
    {
     "name": "stderr",
     "output_type": "stream",
     "text": [
      "\r",
      "Generating responses:  75%|███████▍  | 748/1000 [49:58<19:00,  4.53s/it]"
     ]
    },
    {
     "name": "stdout",
     "output_type": "stream",
     "text": [
      "NA\n"
     ]
    },
    {
     "name": "stderr",
     "output_type": "stream",
     "text": [
      "\r",
      "Generating responses:  75%|███████▍  | 749/1000 [50:00<14:48,  3.54s/it]"
     ]
    },
    {
     "name": "stdout",
     "output_type": "stream",
     "text": [
      "org: SGS\n",
      "country: NA\n",
      "state: NA\n",
      "city: NA\n",
      "industry: Testing, Inspection and Certification\n",
      "risks: NA\n",
      "items_sold: NA\n",
      "service_provided: Physical/mechanical testing, analytical testing, and chemical testing services, consultancy work\n",
      "business_relations: NA\n"
     ]
    },
    {
     "name": "stderr",
     "output_type": "stream",
     "text": [
      "\r",
      "Generating responses:  75%|███████▌  | 750/1000 [50:03<15:03,  3.62s/it]"
     ]
    },
    {
     "name": "stdout",
     "output_type": "stream",
     "text": [
      "org: NA\n"
     ]
    },
    {
     "name": "stderr",
     "output_type": "stream",
     "text": [
      "\r",
      "Generating responses:  75%|███████▌  | 751/1000 [50:06<13:03,  3.15s/it]"
     ]
    },
    {
     "name": "stdout",
     "output_type": "stream",
     "text": [
      "org: Linhas Aéreas de Moçambique (LAM)\n",
      "country: Mozambique\n",
      "state: NA\n",
      "city: NA\n",
      "industry: Airline\n",
      "risks: Financial risk\n",
      "items_sold: NA\n",
      "service_provided: Air transportation services\n",
      "business_relations: Fly Modern Ark\n"
     ]
    },
    {
     "name": "stderr",
     "output_type": "stream",
     "text": [
      "\r",
      "Generating responses:  75%|███████▌  | 752/1000 [50:10<14:51,  3.60s/it]"
     ]
    },
    {
     "name": "stdout",
     "output_type": "stream",
     "text": [
      "org: NA\n"
     ]
    },
    {
     "name": "stderr",
     "output_type": "stream",
     "text": [
      "\r",
      "Generating responses:  75%|███████▌  | 753/1000 [50:12<13:08,  3.19s/it]"
     ]
    },
    {
     "name": "stdout",
     "output_type": "stream",
     "text": [
      "org: GlobalData\n",
      "country: NA\n",
      "state: NA\n",
      "city: NA\n",
      "industry: technology\n",
      "risks: NA\n",
      "items_sold: NA\n",
      "service_provided: NA\n",
      "business_relations: NA\n"
     ]
    },
    {
     "name": "stderr",
     "output_type": "stream",
     "text": [
      "\r",
      "Generating responses:  75%|███████▌  | 754/1000 [50:16<13:14,  3.23s/it]"
     ]
    },
    {
     "name": "stdout",
     "output_type": "stream",
     "text": [
      "org: United Windows Denver\n",
      "country: United States\n",
      "state: Colorado\n",
      "city: Wheat Ridge\n",
      "industry: Window, door, and siding replacement and installation\n",
      "risks: NA\n",
      "items_sold: Windows; doors; siding\n",
      "service_provided: Window, door, and siding replacement and installation\n",
      "business_relations: NA\n"
     ]
    },
    {
     "name": "stderr",
     "output_type": "stream",
     "text": [
      "\r",
      "Generating responses:  76%|███████▌  | 755/1000 [50:20<14:03,  3.44s/it]"
     ]
    },
    {
     "name": "stdout",
     "output_type": "stream",
     "text": [
      "org: Diageo Spirits company\n",
      "country: NA\n",
      "state: NA\n",
      "city: NA\n",
      "industry: Spirits\n",
      "risks: Neglect of DeLeón brand; Racial discrimination; Business dispute\n",
      "items_sold: DeLeón tequila\n",
      "service_provided: NA\n",
      "business_relations: Combs Wines and Spirits company\n"
     ]
    },
    {
     "name": "stderr",
     "output_type": "stream",
     "text": [
      "\r",
      "Generating responses:  76%|███████▌  | 756/1000 [50:24<15:16,  3.76s/it]"
     ]
    },
    {
     "name": "stdout",
     "output_type": "stream",
     "text": [
      "org: United Windows Denver\n",
      "country: United States\n",
      "state: Colorado\n",
      "city: Wheat Ridge\n",
      "industry: Window, doors, and siding replacement and installation\n",
      "risks: NA\n",
      "items_sold: NA\n",
      "service_provided: Door, window, and siding replacement and installation\n",
      "business_relations: NA\n"
     ]
    },
    {
     "name": "stderr",
     "output_type": "stream",
     "text": [
      "\r",
      "Generating responses:  76%|███████▌  | 757/1000 [50:30<17:15,  4.26s/it]"
     ]
    },
    {
     "name": "stdout",
     "output_type": "stream",
     "text": [
      "org: Heathcoat Fabrics\n",
      "country: NA\n",
      "state: Mid Devon\n",
      "city: NA\n",
      "industry: Textiles\n",
      "risks: NA\n",
      "items_sold: NA\n",
      "service_provided: NA\n",
      "business_relations: NA\n"
     ]
    },
    {
     "name": "stderr",
     "output_type": "stream",
     "text": [
      "\r",
      "Generating responses:  76%|███████▌  | 758/1000 [50:33<16:38,  4.13s/it]"
     ]
    },
    {
     "name": "stdout",
     "output_type": "stream",
     "text": [
      "org: Bank of Baroda\n",
      "country: India\n",
      "state: NA\n",
      "city: NA\n",
      "industry: Banking\n",
      "risks: NA\n",
      "items_sold: NA\n",
      "service_provided: NA\n",
      "business_relations: Tech Mahindra\n"
     ]
    },
    {
     "name": "stderr",
     "output_type": "stream",
     "text": [
      "\r",
      "Generating responses:  76%|███████▌  | 759/1000 [50:37<16:01,  3.99s/it]"
     ]
    },
    {
     "name": "stdout",
     "output_type": "stream",
     "text": [
      "org: NA\n"
     ]
    },
    {
     "name": "stderr",
     "output_type": "stream",
     "text": [
      "\r",
      "Generating responses:  76%|███████▌  | 760/1000 [50:39<13:50,  3.46s/it]"
     ]
    },
    {
     "name": "stdout",
     "output_type": "stream",
     "text": [
      "NA\n"
     ]
    },
    {
     "name": "stderr",
     "output_type": "stream",
     "text": [
      "\r",
      "Generating responses:  76%|███████▌  | 761/1000 [50:40<10:49,  2.72s/it]"
     ]
    },
    {
     "name": "stdout",
     "output_type": "stream",
     "text": [
      "org: NA\n"
     ]
    },
    {
     "name": "stderr",
     "output_type": "stream",
     "text": [
      "\r",
      "Generating responses:  76%|███████▌  | 762/1000 [50:42<09:42,  2.45s/it]"
     ]
    },
    {
     "name": "stdout",
     "output_type": "stream",
     "text": [
      "org: Lufax Holding Ltd\n",
      "country: China\n",
      "state: NA\n",
      "city: NA\n",
      "industry: Personal financial services\n",
      "risks: Decrease in stock value; decrease in revenue; competition\n",
      "items_sold: Unsecured loans; secured loans; consumer finance loans\n",
      "service_provided: Wealth management platforms; retail credit facilitation services; technology empowerment solutions for financial institutions\n",
      "business_relations: Caisse DE Depot ET Placement DU Quebec; Principal Financial Group Inc.; PNC Financial Services Group Inc.; California State Teachers Retirement System; American International Group Inc.\n"
     ]
    },
    {
     "name": "stderr",
     "output_type": "stream",
     "text": [
      "\r",
      "Generating responses:  76%|███████▋  | 763/1000 [50:50<16:26,  4.16s/it]"
     ]
    },
    {
     "name": "stdout",
     "output_type": "stream",
     "text": [
      "org: HFCL\n",
      "country: India\n",
      "state: Hyderabad\n",
      "city: NA\n",
      "industry: Optical Fiber Manufacturing\n",
      "risks: sourcing vagaries; market demand\n",
      "items_sold: Optical Fiber Cable\n",
      "service_provided: NA\n",
      "business_relations: NA\n"
     ]
    },
    {
     "name": "stderr",
     "output_type": "stream",
     "text": [
      "\r",
      "Generating responses:  76%|███████▋  | 764/1000 [50:54<15:51,  4.03s/it]"
     ]
    },
    {
     "name": "stdout",
     "output_type": "stream",
     "text": [
      "org: Entrepreneurs Organisation\n",
      "country: NA\n",
      "state: NA\n",
      "city: NA\n",
      "industry: NA\n",
      "risks: NA\n",
      "items_sold: NA\n",
      "service_provided: NA\n",
      "business_relations: NA\n"
     ]
    },
    {
     "name": "stderr",
     "output_type": "stream",
     "text": [
      "\r",
      "Generating responses:  76%|███████▋  | 765/1000 [50:58<15:28,  3.95s/it]"
     ]
    },
    {
     "name": "stdout",
     "output_type": "stream",
     "text": [
      "org: GetYourGuide\n",
      "country: NA\n",
      "state: NA\n",
      "city: NA\n",
      "industry: Travel experiences platform\n",
      "risks: None mentioned\n",
      "items_sold: Travel experiences\n",
      "service_provided: Online booking platform for travel experiences\n",
      "business_relations: Blue Pool Capital, KKR, Temasek\n"
     ]
    },
    {
     "name": "stderr",
     "output_type": "stream",
     "text": [
      "\r",
      "Generating responses:  77%|███████▋  | 766/1000 [51:02<16:10,  4.15s/it]"
     ]
    },
    {
     "name": "stdout",
     "output_type": "stream",
     "text": [
      "NA\n"
     ]
    },
    {
     "name": "stderr",
     "output_type": "stream",
     "text": [
      "\r",
      "Generating responses:  77%|███████▋  | 767/1000 [51:04<13:16,  3.42s/it]"
     ]
    },
    {
     "name": "stdout",
     "output_type": "stream",
     "text": [
      "org: SEDCO\n",
      "country: NA\n",
      "state: NA\n",
      "city: NA\n",
      "industry: customer experience and digital branch transformation solutions\n",
      "risks: NA\n",
      "items_sold: NA\n",
      "service_provided: queue management systems; virtual queuing; self-service solutions\n",
      "business_relations: NA\n"
     ]
    },
    {
     "name": "stderr",
     "output_type": "stream",
     "text": [
      "\r",
      "Generating responses:  77%|███████▋  | 768/1000 [51:08<13:43,  3.55s/it]"
     ]
    },
    {
     "name": "stdout",
     "output_type": "stream",
     "text": [
      "org: Whirlpool\n",
      "country: NA\n",
      "state: Ohio\n",
      "city: Clyde\n",
      "industry: Manufacturing\n",
      "risks: Foreign competition; Market share loss; Higher tariffs\n",
      "items_sold: Washers; Dryers\n",
      "service_provided: NA\n",
      "business_relations: Samsung; LG\n"
     ]
    },
    {
     "name": "stderr",
     "output_type": "stream",
     "text": [
      "\r",
      "Generating responses:  77%|███████▋  | 769/1000 [51:12<13:56,  3.62s/it]"
     ]
    },
    {
     "name": "stdout",
     "output_type": "stream",
     "text": [
      "org: Reckitt\n",
      "country: NA\n",
      "state: NA\n",
      "city: NA\n",
      "industry: Consumer products\n",
      "risks: NA\n",
      "items_sold: Dettol; Mortein; Strepsils; Harpic\n",
      "service_provided: NA\n",
      "business_relations: dentsu; Wavemaker\n"
     ]
    },
    {
     "name": "stderr",
     "output_type": "stream",
     "text": [
      "\r",
      "Generating responses:  77%|███████▋  | 770/1000 [51:17<15:25,  4.03s/it]"
     ]
    },
    {
     "name": "stdout",
     "output_type": "stream",
     "text": [
      "org: NA\n"
     ]
    },
    {
     "name": "stderr",
     "output_type": "stream",
     "text": [
      "\r",
      "Generating responses:  77%|███████▋  | 771/1000 [51:19<13:26,  3.52s/it]"
     ]
    },
    {
     "name": "stdout",
     "output_type": "stream",
     "text": [
      "org: Amazon\n",
      "country: NA\n",
      "state: NA\n",
      "city: NA\n",
      "industry: Technology\n",
      "risks: Violating children's privacy\n",
      "items_sold: NA\n",
      "service_provided: NA\n",
      "business_relations: NA\n"
     ]
    },
    {
     "name": "stderr",
     "output_type": "stream",
     "text": [
      "\r",
      "Generating responses:  77%|███████▋  | 772/1000 [51:23<14:00,  3.68s/it]"
     ]
    },
    {
     "name": "stdout",
     "output_type": "stream",
     "text": [
      "org: Ponderosa Heating & Cooling, Plumbing & Electrical\n",
      "country: NA\n",
      "state: OR\n",
      "city: Sisters\n",
      "industry: Home services\n",
      "risks: NA\n",
      "items_sold: NA\n",
      "service_provided: Installation, maintenance, and repairs for HVAC systems, plumbing, electrical systems, and drains\n",
      "business_relations: NA\n"
     ]
    },
    {
     "name": "stderr",
     "output_type": "stream",
     "text": [
      "\r",
      "Generating responses:  77%|███████▋  | 773/1000 [51:28<15:19,  4.05s/it]"
     ]
    },
    {
     "name": "stdout",
     "output_type": "stream",
     "text": [
      "org: NA\n"
     ]
    },
    {
     "name": "stderr",
     "output_type": "stream",
     "text": [
      "\r",
      "Generating responses:  77%|███████▋  | 774/1000 [51:30<12:23,  3.29s/it]"
     ]
    },
    {
     "name": "stdout",
     "output_type": "stream",
     "text": [
      "org: Nicokick\n",
      "country: NA\n",
      "state: NA\n",
      "city: NA\n",
      "industry: smokeless industry\n",
      "risks: NA\n",
      "items_sold: tobacco-free nicotine pouches, lozenges, gum\n",
      "service_provided: NA\n",
      "business_relations: the Haypp Group\n"
     ]
    },
    {
     "name": "stderr",
     "output_type": "stream",
     "text": [
      "\r",
      "Generating responses:  78%|███████▊  | 775/1000 [51:34<13:25,  3.58s/it]"
     ]
    },
    {
     "name": "stdout",
     "output_type": "stream",
     "text": [
      "org: Comcast RISE\n",
      "country: NA\n",
      "state: NA\n",
      "city: NA\n",
      "industry: NA\n",
      "risks: NA\n",
      "items_sold: NA\n",
      "service_provided: consultation services; educational resources; creative production; media schedule; technology makeover\n",
      "business_relations: NA\n"
     ]
    },
    {
     "name": "stderr",
     "output_type": "stream",
     "text": [
      "\r",
      "Generating responses:  78%|███████▊  | 776/1000 [51:38<14:06,  3.78s/it]"
     ]
    },
    {
     "name": "stdout",
     "output_type": "stream",
     "text": [
      "org: Appen Ltd\n",
      "country: NA\n",
      "state: NA\n",
      "city: NA\n",
      "industry: Artificial Intelligence (AI)\n",
      "risks: NA\n",
      "items_sold: NA\n",
      "service_provided: Data services for the development of machine learning and AI products\n",
      "business_relations: NVIDIA Corporation\n"
     ]
    },
    {
     "name": "stderr",
     "output_type": "stream",
     "text": [
      "\r",
      "Generating responses:  78%|███████▊  | 777/1000 [51:43<14:49,  3.99s/it]"
     ]
    },
    {
     "name": "stdout",
     "output_type": "stream",
     "text": [
      "org: NA\n"
     ]
    },
    {
     "name": "stderr",
     "output_type": "stream",
     "text": [
      "\r",
      "Generating responses:  78%|███████▊  | 778/1000 [51:45<12:37,  3.41s/it]"
     ]
    },
    {
     "name": "stdout",
     "output_type": "stream",
     "text": [
      "org: NA\n"
     ]
    },
    {
     "name": "stderr",
     "output_type": "stream",
     "text": [
      "\r",
      "Generating responses:  78%|███████▊  | 779/1000 [51:47<11:20,  3.08s/it]"
     ]
    },
    {
     "name": "stdout",
     "output_type": "stream",
     "text": [
      "org: PAP town councils\n",
      "country: NA\n",
      "state: NA\n",
      "city: NA\n",
      "industry: NA\n",
      "risks: NA\n",
      "items_sold: NA\n",
      "service_provided: NA\n",
      "business_relations: NA\n"
     ]
    },
    {
     "name": "stderr",
     "output_type": "stream",
     "text": [
      "\r",
      "Generating responses:  78%|███████▊  | 780/1000 [51:52<13:36,  3.71s/it]"
     ]
    },
    {
     "name": "stdout",
     "output_type": "stream",
     "text": [
      "NA\n"
     ]
    },
    {
     "name": "stderr",
     "output_type": "stream",
     "text": [
      "\r",
      "Generating responses:  78%|███████▊  | 781/1000 [51:54<11:31,  3.16s/it]"
     ]
    },
    {
     "name": "stdout",
     "output_type": "stream",
     "text": [
      "org: Eskaton\n",
      "country: NA\n",
      "state: CA\n",
      "city: Carmichael, Sacramento, Fair Oaks\n",
      "industry: Healthcare\n",
      "risks: Economic effects; Workforce shortages; COVID-19\n",
      "items_sold: NA\n",
      "service_provided: Independent living, assisted living, memory care and home care\n",
      "business_relations: Cypress Healthcare Group\n"
     ]
    },
    {
     "name": "stderr",
     "output_type": "stream",
     "text": [
      "\r",
      "Generating responses:  78%|███████▊  | 782/1000 [51:59<13:28,  3.71s/it]"
     ]
    },
    {
     "name": "stdout",
     "output_type": "stream",
     "text": [
      "NA\n"
     ]
    },
    {
     "name": "stderr",
     "output_type": "stream",
     "text": [
      "\r",
      "Generating responses:  78%|███████▊  | 783/1000 [52:01<11:15,  3.11s/it]"
     ]
    },
    {
     "name": "stdout",
     "output_type": "stream",
     "text": [
      "org: NA\n"
     ]
    },
    {
     "name": "stderr",
     "output_type": "stream",
     "text": [
      "\r",
      "Generating responses:  78%|███████▊  | 784/1000 [52:02<09:24,  2.61s/it]"
     ]
    },
    {
     "name": "stdout",
     "output_type": "stream",
     "text": [
      "org: NA\n"
     ]
    },
    {
     "name": "stderr",
     "output_type": "stream",
     "text": [
      "\r",
      "Generating responses:  78%|███████▊  | 785/1000 [52:04<08:22,  2.34s/it]"
     ]
    },
    {
     "name": "stdout",
     "output_type": "stream",
     "text": [
      "org: NA\n"
     ]
    },
    {
     "name": "stderr",
     "output_type": "stream",
     "text": [
      "\r",
      "Generating responses:  79%|███████▊  | 786/1000 [52:06<08:03,  2.26s/it]"
     ]
    },
    {
     "name": "stdout",
     "output_type": "stream",
     "text": [
      "org: NA\n"
     ]
    },
    {
     "name": "stderr",
     "output_type": "stream",
     "text": [
      "\r",
      "Generating responses:  79%|███████▊  | 787/1000 [52:07<07:04,  1.99s/it]"
     ]
    },
    {
     "name": "stdout",
     "output_type": "stream",
     "text": [
      "org: China National Tobacco Corporation (China Tobacco)\n",
      "country: China\n",
      "state: NA\n",
      "city: Beijing\n",
      "industry: tobacco\n",
      "risks: corruption\n",
      "items_sold: cigarettes\n",
      "service_provided: NA\n",
      "business_relations: State Tobacco Monopoly Administration (STMA)\n"
     ]
    },
    {
     "name": "stderr",
     "output_type": "stream",
     "text": [
      "\r",
      "Generating responses:  79%|███████▉  | 788/1000 [52:12<10:10,  2.88s/it]"
     ]
    },
    {
     "name": "stdout",
     "output_type": "stream",
     "text": [
      "org: National Association of Realtors\n",
      "country: NA\n",
      "state: NA\n",
      "city: NA\n",
      "industry: Real Estate\n",
      "risks: Declining Sales; Falling Prices; High Mortgage Rates\n",
      "items_sold: NA\n",
      "service_provided: NA\n",
      "business_relations: NA\n"
     ]
    },
    {
     "name": "stderr",
     "output_type": "stream",
     "text": [
      "\r",
      "Generating responses:  79%|███████▉  | 789/1000 [52:16<11:29,  3.27s/it]"
     ]
    },
    {
     "name": "stdout",
     "output_type": "stream",
     "text": [
      "org: NA\n"
     ]
    },
    {
     "name": "stderr",
     "output_type": "stream",
     "text": [
      "\r",
      "Generating responses:  79%|███████▉  | 790/1000 [52:18<10:11,  2.91s/it]"
     ]
    },
    {
     "name": "stdout",
     "output_type": "stream",
     "text": [
      "NA\n"
     ]
    },
    {
     "name": "stderr",
     "output_type": "stream",
     "text": [
      "\r",
      "Generating responses:  79%|███████▉  | 791/1000 [52:20<08:53,  2.55s/it]"
     ]
    },
    {
     "name": "stdout",
     "output_type": "stream",
     "text": [
      "org: Boomi\n",
      "country: NA\n",
      "state: NA\n",
      "city: NA\n",
      "industry: Cloud-based integration platform as a service (iPaaS)\n",
      "risks: NA\n",
      "items_sold: NA\n",
      "service_provided: Discovering, managing, and orchestrating data while connecting applications, processes, and people\n",
      "business_relations: Accenture, Capgemini, Deloitte, SAP, and Snowflake, among others.\n"
     ]
    },
    {
     "name": "stderr",
     "output_type": "stream",
     "text": [
      "\r",
      "Generating responses:  79%|███████▉  | 792/1000 [52:25<11:27,  3.31s/it]"
     ]
    },
    {
     "name": "stdout",
     "output_type": "stream",
     "text": [
      "org: Lucent Technologies\n",
      "country: NA\n",
      "state: NA\n",
      "city: NA\n",
      "industry: semiconductor\n",
      "risks: low growth; high competition; low margins\n",
      "items_sold: semiconductors\n",
      "service_provided: NA\n",
      "business_relations: Siemens\n"
     ]
    },
    {
     "name": "stderr",
     "output_type": "stream",
     "text": [
      "\r",
      "Generating responses:  79%|███████▉  | 793/1000 [52:29<12:16,  3.56s/it]"
     ]
    },
    {
     "name": "stdout",
     "output_type": "stream",
     "text": [
      "org: Binghatti Holding\n",
      "country: Dubai\n",
      "state: NA\n",
      "city: Dubai\n",
      "industry: Real estate\n",
      "risks: NA\n",
      "items_sold: Properties\n",
      "service_provided: NA\n",
      "business_relations: Bugatti\n"
     ]
    },
    {
     "name": "stderr",
     "output_type": "stream",
     "text": [
      "\r",
      "Generating responses:  79%|███████▉  | 794/1000 [52:33<12:34,  3.66s/it]"
     ]
    },
    {
     "name": "stdout",
     "output_type": "stream",
     "text": [
      "org: Nordstrom\n",
      "country: NA\n",
      "state: NA\n",
      "city: NA\n",
      "industry: Retail\n",
      "risks: Declining sales; Worsening macroeconomic environment; Higher costs of freight\n",
      "items_sold: Designer clothing, shoes, accessories, activewear, beauty products, men's apparel\n",
      "service_provided: Personal styling service (discontinued)\n",
      "business_relations: NA\n"
     ]
    },
    {
     "name": "stderr",
     "output_type": "stream",
     "text": [
      "\r",
      "Generating responses:  80%|███████▉  | 795/1000 [52:39<14:33,  4.26s/it]"
     ]
    },
    {
     "name": "stdout",
     "output_type": "stream",
     "text": [
      "org: Loopring\n",
      "country: NA\n",
      "state: NA\n",
      "city: NA\n",
      "industry: Decentralized finance platform\n",
      "risks: NA\n",
      "items_sold: Loopring tokens\n",
      "service_provided: Low-fee, high-speed trading, swapping, liquidity provision, and payments\n",
      "business_relations: Gemini, GDAX\n"
     ]
    },
    {
     "name": "stderr",
     "output_type": "stream",
     "text": [
      "\r",
      "Generating responses:  80%|███████▉  | 796/1000 [52:44<14:57,  4.40s/it]"
     ]
    },
    {
     "name": "stdout",
     "output_type": "stream",
     "text": [
      "org: Infobip\n",
      "country: N/A\n",
      "state: N/A\n",
      "city: N/A\n",
      "industry: Cloud Communications Platform\n",
      "risks: N/A\n",
      "items_sold: N/A\n",
      "service_provided: CPaaS, SaaS services and support\n",
      "business_relations: N/A\n"
     ]
    },
    {
     "name": "stderr",
     "output_type": "stream",
     "text": [
      "\r",
      "Generating responses:  80%|███████▉  | 797/1000 [52:48<14:36,  4.32s/it]"
     ]
    },
    {
     "name": "stdout",
     "output_type": "stream",
     "text": [
      "org: KPMG\n",
      "country: NA\n",
      "state: NA\n",
      "city: NA\n",
      "industry: NA\n",
      "risks: Lack of succession planning\n",
      "items_sold: NA\n",
      "service_provided: NA\n",
      "business_relations: NA\n"
     ]
    },
    {
     "name": "stderr",
     "output_type": "stream",
     "text": [
      "\r",
      "Generating responses:  80%|███████▉  | 798/1000 [52:51<13:41,  4.06s/it]"
     ]
    },
    {
     "name": "stdout",
     "output_type": "stream",
     "text": [
      "org: Apple\n",
      "country: United States\n",
      "state: NA\n",
      "city: NA\n",
      "industry: Technology\n",
      "risks: NA\n",
      "items_sold: Digital goods and services; Physical goods and services\n",
      "service_provided: Global distribution platform for developers\n",
      "business_relations: NA\n"
     ]
    },
    {
     "name": "stderr",
     "output_type": "stream",
     "text": [
      "\r",
      "Generating responses:  80%|███████▉  | 799/1000 [52:55<13:25,  4.01s/it]"
     ]
    },
    {
     "name": "stdout",
     "output_type": "stream",
     "text": [
      "org: The Sleep Loft\n",
      "country: United States\n",
      "state: New York\n",
      "city: New York City\n",
      "industry: Mattress retail\n",
      "risks: NA\n",
      "items_sold: Mattresses\n",
      "service_provided: \"Try before you buy\" offer; assistance in finding adjustable bases, sheet sets, and pillows\n",
      "business_relations: Leesa, WinkBed, Helix, Brooklyn Bedding, Nest Bedding, Bear, DreamCloud, and other online mattress brands\n"
     ]
    },
    {
     "name": "stderr",
     "output_type": "stream",
     "text": [
      "\r",
      "Generating responses:  80%|████████  | 800/1000 [53:02<16:05,  4.83s/it]"
     ]
    },
    {
     "name": "stdout",
     "output_type": "stream",
     "text": [
      "org: NA\n"
     ]
    },
    {
     "name": "stderr",
     "output_type": "stream",
     "text": [
      "\r",
      "Generating responses:  80%|████████  | 801/1000 [53:03<12:44,  3.84s/it]"
     ]
    },
    {
     "name": "stdout",
     "output_type": "stream",
     "text": [
      "NA\n"
     ]
    },
    {
     "name": "stderr",
     "output_type": "stream",
     "text": [
      "\r",
      "Generating responses:  80%|████████  | 802/1000 [53:05<10:42,  3.24s/it]"
     ]
    },
    {
     "name": "stdout",
     "output_type": "stream",
     "text": [
      "org: The Sleep Loft\n",
      "country: NA\n",
      "state: NY\n",
      "city: New York City\n",
      "industry: Mattress retail\n",
      "risks: NA\n",
      "items_sold: Mattresses\n",
      "service_provided: Assistance in finding the perfect bed-in-a-box, adjustable bases, silky sheet sets, and adaptable pillows\n",
      "business_relations: Leesa, WinkBed, Helix, Brooklyn Bedding, Nest Bedding, Bear, DreamCloud, and other online mattress brands\n"
     ]
    },
    {
     "name": "stderr",
     "output_type": "stream",
     "text": [
      "\r",
      "Generating responses:  80%|████████  | 803/1000 [53:11<12:50,  3.91s/it]"
     ]
    },
    {
     "name": "stdout",
     "output_type": "stream",
     "text": [
      "org: Matriarca\n",
      "country: Argentina\n",
      "state: NA\n",
      "city: Gran Chaco\n",
      "industry: Sustainable goods\n",
      "risks: NA\n",
      "items_sold: Clothing; purses; furniture\n",
      "service_provided: NA\n",
      "business_relations: Redes Chaco (collective of over 250 organizations)\n"
     ]
    },
    {
     "name": "stderr",
     "output_type": "stream",
     "text": [
      "\r",
      "Generating responses:  80%|████████  | 804/1000 [53:15<13:10,  4.03s/it]"
     ]
    },
    {
     "name": "stdout",
     "output_type": "stream",
     "text": [
      "org: Lingham & Sons Sdn Bhd\n",
      "country: Malaysia\n",
      "state: Selangor\n",
      "city: NA\n",
      "industry: Food and Beverage\n",
      "risks: NA\n",
      "items_sold: Lingham's Extra Hot, Lingham's With Garlic, Lingham's With Ginger, Lingham's Sriracha, and Lingham's Worcestershire sauce\n",
      "service_provided: NA\n",
      "business_relations: NA\n"
     ]
    },
    {
     "name": "stderr",
     "output_type": "stream",
     "text": [
      "\r",
      "Generating responses:  80%|████████  | 805/1000 [53:20<14:02,  4.32s/it]"
     ]
    },
    {
     "name": "stdout",
     "output_type": "stream",
     "text": [
      "org: Infobip\n",
      "country: NA\n",
      "state: NA\n",
      "city: NA\n",
      "industry: Cloud communications platform\n",
      "risks: NA\n",
      "items_sold: NA\n",
      "service_provided: Omnichannel engagement, identity, user authentication and contact centre solutions\n",
      "business_relations: NA\n"
     ]
    },
    {
     "name": "stderr",
     "output_type": "stream",
     "text": [
      "\r",
      "Generating responses:  81%|████████  | 806/1000 [53:25<14:22,  4.45s/it]"
     ]
    },
    {
     "name": "stdout",
     "output_type": "stream",
     "text": [
      "NA\n"
     ]
    },
    {
     "name": "stderr",
     "output_type": "stream",
     "text": [
      "\r",
      "Generating responses:  81%|████████  | 807/1000 [53:27<11:52,  3.69s/it]"
     ]
    },
    {
     "name": "stdout",
     "output_type": "stream",
     "text": [
      "org: Accenture Plc\n",
      "country: Ireland\n",
      "state: NA\n",
      "city: Dublin\n",
      "industry: management consulting, technology, and outsourcing services\n",
      "risks: NA\n",
      "items_sold: NA\n",
      "service_provided: management consulting, technology, and outsourcing services\n",
      "business_relations: NA\n"
     ]
    },
    {
     "name": "stderr",
     "output_type": "stream",
     "text": [
      "\r",
      "Generating responses:  81%|████████  | 808/1000 [53:31<12:14,  3.83s/it]"
     ]
    },
    {
     "name": "stdout",
     "output_type": "stream",
     "text": [
      "org: Brinker International\n",
      "country: NA\n",
      "state: NA\n",
      "city: NA\n",
      "industry: Restaurant\n",
      "risks: NA\n",
      "items_sold: Food and beverages\n",
      "service_provided: Restaurant services\n",
      "business_relations: NA\n"
     ]
    },
    {
     "name": "stderr",
     "output_type": "stream",
     "text": [
      "\r",
      "Generating responses:  81%|████████  | 809/1000 [53:35<12:17,  3.86s/it]"
     ]
    },
    {
     "name": "stdout",
     "output_type": "stream",
     "text": [
      "org: Ordinals\n",
      "country: NA\n",
      "state: NA\n",
      "city: NA\n",
      "industry: cryptocurrency\n",
      "risks: volatility\n",
      "items_sold: tokens\n",
      "service_provided: NA\n",
      "business_relations: NA\n"
     ]
    },
    {
     "name": "stderr",
     "output_type": "stream",
     "text": [
      "\r",
      "Generating responses:  81%|████████  | 810/1000 [53:38<11:58,  3.78s/it]"
     ]
    },
    {
     "name": "stdout",
     "output_type": "stream",
     "text": [
      "org: American Superconductor Corporation\n",
      "country: NA\n",
      "state: NA\n",
      "city: NA\n",
      "industry: NA\n",
      "risks: NA\n",
      "items_sold: NA\n",
      "service_provided: NA\n",
      "business_relations: NA\n"
     ]
    },
    {
     "name": "stderr",
     "output_type": "stream",
     "text": [
      "\r",
      "Generating responses:  81%|████████  | 811/1000 [53:43<12:24,  3.94s/it]"
     ]
    },
    {
     "name": "stdout",
     "output_type": "stream",
     "text": [
      "org: Anglo American\n",
      "country: NA\n",
      "state: NA\n",
      "city: NA\n",
      "industry: mining\n",
      "risks: commodity; operational; safety\n",
      "items_sold: NA\n",
      "service_provided: NA\n",
      "business_relations: NA\n"
     ]
    },
    {
     "name": "stderr",
     "output_type": "stream",
     "text": [
      "\r",
      "Generating responses:  81%|████████  | 812/1000 [53:46<11:47,  3.77s/it]"
     ]
    },
    {
     "name": "stdout",
     "output_type": "stream",
     "text": [
      "org: Hybr1d\n",
      "country: Singapore\n",
      "state: NA\n",
      "city: NA\n",
      "industry: Workforce management platform\n",
      "risks: NA\n",
      "items_sold: NA\n",
      "service_provided: IT and HR process automation and streamlining, onboarding, procurement, leave and attendance management\n",
      "business_relations: Carousell, Sleek, CyberSierra, Beam Mobility, Multiplier\n"
     ]
    },
    {
     "name": "stderr",
     "output_type": "stream",
     "text": [
      "\r",
      "Generating responses:  81%|████████▏ | 813/1000 [53:52<13:25,  4.31s/it]"
     ]
    },
    {
     "name": "stdout",
     "output_type": "stream",
     "text": [
      "org: SHB\n",
      "country: NA\n",
      "state: NA\n",
      "city: NA\n",
      "industry: Beauty and personal care packaging\n",
      "risks: NA\n",
      "items_sold: Homecare packaging solutions\n",
      "service_provided: Packaging solutions\n",
      "business_relations: NA\n"
     ]
    },
    {
     "name": "stderr",
     "output_type": "stream",
     "text": [
      "\r",
      "Generating responses:  81%|████████▏ | 814/1000 [53:55<12:48,  4.13s/it]"
     ]
    },
    {
     "name": "stdout",
     "output_type": "stream",
     "text": [
      "org: Purplebricks\n",
      "country: NA\n",
      "state: NA\n",
      "city: NA\n",
      "industry: Real estate\n",
      "risks: Financial instability\n",
      "items_sold: NA\n",
      "service_provided: NA\n",
      "business_relations: Strike, Carphone Warehouse, Talktalk\n"
     ]
    },
    {
     "name": "stderr",
     "output_type": "stream",
     "text": [
      "\r",
      "Generating responses:  82%|████████▏ | 815/1000 [54:00<12:59,  4.21s/it]"
     ]
    },
    {
     "name": "stdout",
     "output_type": "stream",
     "text": [
      "org: KPJ Healthcare Berhad\n",
      "country: Malaysia\n",
      "state: NA\n",
      "city: NA\n",
      "industry: Healthcare\n",
      "risks: regulatory risk; lack of political will; longer-than-expected gestation periods\n",
      "items_sold: NA\n",
      "service_provided: Healthcare services\n",
      "business_relations: NA\n"
     ]
    },
    {
     "name": "stderr",
     "output_type": "stream",
     "text": [
      "\r",
      "Generating responses:  82%|████████▏ | 816/1000 [54:04<12:47,  4.17s/it]"
     ]
    },
    {
     "name": "stdout",
     "output_type": "stream",
     "text": [
      "org: Novatos Construction\n",
      "country: NA\n",
      "state: Oregon\n",
      "city: Portland\n",
      "industry: Construction\n",
      "risks: Legal; Financial\n",
      "items_sold: NA\n",
      "service_provided: NA\n",
      "business_relations: Check cashing business (David Katz)\n"
     ]
    },
    {
     "name": "stderr",
     "output_type": "stream",
     "text": [
      "\r",
      "Generating responses:  82%|████████▏ | 817/1000 [54:08<12:31,  4.11s/it]"
     ]
    },
    {
     "name": "stdout",
     "output_type": "stream",
     "text": [
      "org: Guan Chong\n",
      "country: NA\n",
      "state: NA\n",
      "city: NA\n",
      "industry: NA\n",
      "risks: suppressed butter ratio; declining butter ratio; cocoa powder ratio futures\n",
      "items_sold: NA\n",
      "service_provided: NA\n",
      "business_relations: NA\n"
     ]
    },
    {
     "name": "stderr",
     "output_type": "stream",
     "text": [
      "\r",
      "Generating responses:  82%|████████▏ | 818/1000 [54:11<11:56,  3.93s/it]"
     ]
    },
    {
     "name": "stdout",
     "output_type": "stream",
     "text": [
      "org: Demir Pharma\n",
      "country: TURKEY\n",
      "state: NA\n",
      "city: ISTANBUL, FULYA DIST.\n",
      "industry: Health and personal care\n",
      "risks: NA\n",
      "items_sold: Greft Plus 6 Month Hair Care Set; Greft Plus - Anti Hair Loss Shampoo\n",
      "service_provided: Hair care products; Hair loss solutions; Greft Plus\n",
      "business_relations: Collaborating with reputable clinics worldwide\n"
     ]
    },
    {
     "name": "stderr",
     "output_type": "stream",
     "text": [
      "\r",
      "Generating responses:  82%|████████▏ | 819/1000 [54:17<13:37,  4.51s/it]"
     ]
    },
    {
     "name": "stdout",
     "output_type": "stream",
     "text": [
      "org: NA\n"
     ]
    },
    {
     "name": "stderr",
     "output_type": "stream",
     "text": [
      "\r",
      "Generating responses:  82%|████████▏ | 820/1000 [54:19<11:18,  3.77s/it]"
     ]
    },
    {
     "name": "stdout",
     "output_type": "stream",
     "text": [
      "org: IDC\n",
      "country: NA\n",
      "state: NA\n",
      "city: NA\n",
      "industry: Market Research\n",
      "risks: NA\n",
      "items_sold: NA\n",
      "service_provided: NA\n",
      "business_relations: NA\n"
     ]
    },
    {
     "name": "stderr",
     "output_type": "stream",
     "text": [
      "\r",
      "Generating responses:  82%|████████▏ | 821/1000 [54:22<10:34,  3.55s/it]"
     ]
    },
    {
     "name": "stdout",
     "output_type": "stream",
     "text": [
      "org: SunSirs\n",
      "country: NA\n",
      "state: NA\n",
      "city: NA\n",
      "industry: NA\n",
      "risks: NA\n",
      "items_sold: NA\n",
      "service_provided: NA\n",
      "business_relations: NA\n"
     ]
    },
    {
     "name": "stderr",
     "output_type": "stream",
     "text": [
      "\r",
      "Generating responses:  82%|████████▏ | 822/1000 [54:26<10:43,  3.61s/it]"
     ]
    },
    {
     "name": "stdout",
     "output_type": "stream",
     "text": [
      "org: Boomi\n",
      "country: NA\n",
      "state: NA\n",
      "city: Chesterbrook\n",
      "industry: Intelligent connectivity and automation\n",
      "risks: NA\n",
      "items_sold: Cloud-based integration platform as a service (iPaaS)\n",
      "service_provided: Discovering, managing, and orchestrating data, while connecting applications, processes, and people for better, faster outcomes\n",
      "business_relations: Accenture, Capgemini, Deloitte, SAP, and Snowflake, among others.\n"
     ]
    },
    {
     "name": "stderr",
     "output_type": "stream",
     "text": [
      "\r",
      "Generating responses:  82%|████████▏ | 823/1000 [54:31<12:16,  4.16s/it]"
     ]
    },
    {
     "name": "stdout",
     "output_type": "stream",
     "text": [
      "org: Property Brokers; Real Estate South Canterbury\n",
      "country: NA\n",
      "state: NA\n",
      "city: Temuka\n",
      "industry: Real Estate\n",
      "risks: NA\n",
      "items_sold: NA\n",
      "service_provided: Real estate services\n",
      "business_relations: NA\n"
     ]
    },
    {
     "name": "stderr",
     "output_type": "stream",
     "text": [
      "\r",
      "Generating responses:  82%|████████▏ | 824/1000 [54:35<11:49,  4.03s/it]"
     ]
    },
    {
     "name": "stdout",
     "output_type": "stream",
     "text": [
      "org: Amnesty International\n",
      "country: NA\n",
      "state: NA\n",
      "city: NA\n",
      "industry: Human rights\n",
      "risks: Funding; Political pressure; Cyber attacks\n",
      "items_sold: NA\n",
      "service_provided: Advocacy for human rights\n",
      "business_relations: NA\n"
     ]
    },
    {
     "name": "stderr",
     "output_type": "stream",
     "text": [
      "\r",
      "Generating responses:  82%|████████▎ | 825/1000 [54:40<12:08,  4.16s/it]"
     ]
    },
    {
     "name": "stdout",
     "output_type": "stream",
     "text": [
      "org: Center for AI Safety\n",
      "country: NA\n",
      "state: NA\n",
      "city: NA\n",
      "industry: Nonprofit\n",
      "risks: Existential threat\n",
      "items_sold: NA\n",
      "service_provided: NA\n",
      "business_relations: Geoffrey Hinton, Google DeepMind, Open AI, Anthropic\n"
     ]
    },
    {
     "name": "stderr",
     "output_type": "stream",
     "text": [
      "\r",
      "Generating responses:  83%|████████▎ | 826/1000 [54:44<12:04,  4.17s/it]"
     ]
    },
    {
     "name": "stdout",
     "output_type": "stream",
     "text": [
      "NA\n"
     ]
    },
    {
     "name": "stderr",
     "output_type": "stream",
     "text": [
      "\r",
      "Generating responses:  83%|████████▎ | 827/1000 [54:46<10:11,  3.54s/it]"
     ]
    },
    {
     "name": "stdout",
     "output_type": "stream",
     "text": [
      "org: Nordstrom Inc\n",
      "country: NA\n",
      "state: NA\n",
      "city: NA\n",
      "industry: Retail\n",
      "risks: Inflation; Outdated inventories; Product shortages\n",
      "items_sold: Clothing\n",
      "service_provided: NA\n",
      "business_relations: NA\n"
     ]
    },
    {
     "name": "stderr",
     "output_type": "stream",
     "text": [
      "\r",
      "Generating responses:  83%|████████▎ | 828/1000 [54:50<10:32,  3.68s/it]"
     ]
    },
    {
     "name": "stdout",
     "output_type": "stream",
     "text": [
      "org: Chick-fil-A\n",
      "country: USA\n",
      "state: Georgia\n",
      "city: Atlanta\n",
      "industry: Fast food\n",
      "risks: Boycotts; Negative publicity\n",
      "items_sold: Fried chicken sandwiches; Chicken nuggets; Waffle fries\n",
      "service_provided: Fast food restaurant services\n",
      "business_relations: NA\n"
     ]
    },
    {
     "name": "stderr",
     "output_type": "stream",
     "text": [
      "\r",
      "Generating responses:  83%|████████▎ | 829/1000 [54:55<11:25,  4.01s/it]"
     ]
    },
    {
     "name": "stdout",
     "output_type": "stream",
     "text": [
      "org: NA\n"
     ]
    },
    {
     "name": "stderr",
     "output_type": "stream",
     "text": [
      "\r",
      "Generating responses:  83%|████████▎ | 830/1000 [54:57<09:55,  3.50s/it]"
     ]
    },
    {
     "name": "stdout",
     "output_type": "stream",
     "text": [
      "org: Allen & Overy\n",
      "country: NA\n",
      "state: NA\n",
      "city: London\n",
      "industry: Legal\n",
      "risks: reputational; regulatory; financial\n",
      "items_sold: NA\n",
      "service_provided: Legal services\n",
      "business_relations: NA\n"
     ]
    },
    {
     "name": "stderr",
     "output_type": "stream",
     "text": [
      "\r",
      "Generating responses:  83%|████████▎ | 831/1000 [55:00<09:50,  3.50s/it]"
     ]
    },
    {
     "name": "stdout",
     "output_type": "stream",
     "text": [
      "org: NA\n"
     ]
    },
    {
     "name": "stderr",
     "output_type": "stream",
     "text": [
      "\r",
      "Generating responses:  83%|████████▎ | 832/1000 [55:02<08:17,  2.96s/it]"
     ]
    },
    {
     "name": "stdout",
     "output_type": "stream",
     "text": [
      "org: Energy Regulatory Commission (ERC)\n",
      "country: NA\n",
      "state: NA\n",
      "city: NA\n",
      "industry: Energy regulation\n",
      "risks: Potential administrative penalties; inaccurate fuel charges\n",
      "items_sold: NA\n",
      "service_provided: NA\n",
      "business_relations: NA\n"
     ]
    },
    {
     "name": "stderr",
     "output_type": "stream",
     "text": [
      "\r",
      "Generating responses:  83%|████████▎ | 833/1000 [55:06<09:09,  3.29s/it]"
     ]
    },
    {
     "name": "stdout",
     "output_type": "stream",
     "text": [
      "org: Farm Fresh Bhd\n",
      "country: NA\n",
      "state: NA\n",
      "city: NA\n",
      "industry: Dairy\n",
      "risks: Higher raw material costs\n",
      "items_sold: NA\n",
      "service_provided: NA\n",
      "business_relations: Maybank IB Research; RHB Research\n"
     ]
    },
    {
     "name": "stderr",
     "output_type": "stream",
     "text": [
      "\r",
      "Generating responses:  83%|████████▎ | 834/1000 [55:11<10:18,  3.73s/it]"
     ]
    },
    {
     "name": "stdout",
     "output_type": "stream",
     "text": [
      "org: Nordstrom\n",
      "country: NA\n",
      "state: NA\n",
      "city: Seattle\n",
      "industry: Retail\n",
      "risks: Trademark infringement; Copyright infringement; Unfair competition\n",
      "items_sold: Counterfeit Patagonia sweatshirts and T-shirts\n",
      "service_provided: NA\n",
      "business_relations: Patagonia (previously an authorized dealer)\n"
     ]
    },
    {
     "name": "stderr",
     "output_type": "stream",
     "text": [
      "\r",
      "Generating responses:  84%|████████▎ | 835/1000 [55:15<10:51,  3.95s/it]"
     ]
    },
    {
     "name": "stdout",
     "output_type": "stream",
     "text": [
      "Error generating response for prompt at index 835: That model is currently overloaded with other requests. You can retry your request, or contact us through our help center at help.openai.com if the error persists. (Please include the request ID 459716536556ac7b16e5c497994e0639 in your message.)\n",
      "Query: For the main organisation discussed in this article (if any), give me information as follows and nothing else. If there is no organiastion discussed, respond with \"NA\".\n",
      "    ###\n",
      "    Desired response format:\n",
      "    ###\n",
      "    org: <main organisation discussed>\n",
      "    country: <country of main organisation>\n",
      "    state: <state/province of main organisation>\n",
      "    city: <city/town of main organisation>\n",
      "    industry: <industry of the organisation>\n",
      "    risks: <semi-colon-separated list of risks faced by main organisation> Summarise each risk in a phrase of up to 3 words.\n",
      "    items_sold: <semicolon-separated list of items sold by main organisation>\n",
      "    service_provided: <semi-colon-separated list of services provided by organisation>\n",
      "    business_relations: <semi-colon-separated list of organisations with a business relation to the main organisation>\n",
      "    ###\n",
      "    The provided article is:\n",
      "    ###\n",
      "    Bespoke Vision, Edmond, OK\n",
      "\n",
      "OWNER: Selina McGee, OD; URL: bespokevision.org; FACEBOOK: facebook.com/bespokevisionok; INSTAGRAM: instagram.com/bespokevisionok; FOUNDED: 2014; YEAR OPENED FEATURED LOCATION: 2021; TOP BRANDS: Morel Eyewear, Maui Jim, Tom Ford, Garrett Leight California (GLCO), Etnia Barcelona, Essilor, TearLab, Eyeris; EMPLOYEES: 13 full-time, 3 part-time; AREA: 4,200 sq. ft.; BUILD OUT COST: $2.1 million; ARCHITECT AND DESIGN FIRMS: Fazio Architects, Geri True Interior Design, Ymker Building\n",
      "\n",
      "2023 MARKS 10 years of solo practice ownership for Edmond, OK, eye doctor Selina McGee, and it seems only fitting that we should wrap up our profiles of INVISION’s 2022-23 America’s Finest contest finalists by celebrating her first decade of steady growth and regular milestones.\n",
      "\n",
      "After five years at a tertiary care clinic and another 17 in practice with an ophthalmology partner, McGee struck out on her own and purchased her current practice in 2013, relaunching it a year later as Precision Vision Edmond, then in 2018 introducing eye rejuvenation services.\n",
      "\n",
      "Looking to take things to the next level, the following year she began preparing a new location and brand for the business. In 2021, “after years of detailed and passionate planning,” the practice’s current iteration, BeSpoke Vision, opened its doors in a gorgeous new standalone building in Edmond, an attractive, affluent northern suburb of Oklahoma City that has become something of a fixture in CNBC’s “10 Perfect Suburbs” list.\n",
      "\n",
      "Advertisement\n",
      "\n",
      "Built to look like a house you’d happily live in, BeSpoke has all the creature comforts of home: comfy couches, a communal table for playing games and chatting, a beverage station loaded with everything from champagne for events to coffee, cocoa and tea. McGee’s talents as a Master Gardener are reflected in the design, which brings nature indoors, starting with the natural light that streams in through large windows to bathe the office, and two serenity garden spaces that allow people to literally stop and smell the roses. The name BeSpoke was chosen to convey the patient experience McGee envisioned, “From how the doctors customize treatment plans based on specific complaints to how the optical experts curate frames” and style patients.\n",
      "\n",
      "One of the ways BeSpoke Vision sets itself apart is in the many groundbreaking aesthetic treatments it now offers, including non-invasive eyelid lifts, eye wrinkle reduction and revolutionary dry eye treatments, in its state-of-the-art Aesthetics Suite. “IPL, RF and Botox appointments are all a part of the treatments we are able to offer,” says McGee.\n",
      "\n",
      "A sought-after speaker in organized optometry, McGee is out of the clinic traveling weekly, so she relies on staff to manage her schedule, care for patients, and keep the place humming. In turn, she invests in them “as the amazing individuals they are, not as a staff member, whether it’s our annual Vision Board Workshop, books, certifications, or a well-stocked breakroom.”\n",
      "\n",
      "At BeSpoke, strong team building goes hand in hand with a strong brand, underpinning “who we are, how we see ourselves, how people see us in the real world and how we wish they saw us,” says McGee. A case in point is the “message map” laying out what the practice does and why it matters.\n",
      "\n",
      "When a new team member is onboarded, “we almost immediately give them a copy of the message map. It has lots of cool segments to use when talking to patients or people out and about. If we are working on a new project, we run it through the message map and ensure it helps us in reaching our real goal—to help people be seen for who they really are and help them have their own, unique experiences with us.”\n",
      "\n",
      "McGee was initially worried the extensive rebranding would disrupt the practice’s online presence, expecting a six-month decrease in website traffic, but was pleasantly surprised. “Our web design agency developed and implemented a strategy that instead started growing traffic two weeks after the brand change. The organic traffic for our top 25 pages has increased 215% [month-on-month] since rebranding. This has driven a 110% increase in web-initiated appointments. With the right plan and partner, you don’t have to fear rebranding or moving.” The website also offers virtual styling services and telemedicine appointments via the eyecarelive app.\n",
      "\n",
      "The attention to quality extends to the optical where Morel, Maui Jim, Tom Ford, Garrett Leight California Optical and Etnia Barcelona are currently the stars. McGee also shouts out Eyeris contact lenses, founded by friend and fellow OD, Dr. Jeff Sonsino, for their quality and ease of ordering.\n",
      "\n",
      "Advertisement\n",
      "\n",
      "In line with its core mission of improving not only vision but lives, BeSpoke Vision has established an admirable community presence, financially supporting local businesses and causes, and volunteering with organizations like the Oklahoma Regional Food Bank.\n",
      "\n",
      "McGee likes to point out that the word “bespoke” has its origins in a verb meaning “to speak for something” and has evolved to describe something custom made for an individual. “That word is not only our history, but it is exactly what BeSpoke hopes to offer as long as our doors are open,” she says.\n",
      "\n",
      "Five Cool Things About Bespoke Vision\n",
      "\n",
      "1. ROOM FOR FUN. “We love to have parties and our entire front space has California doors that open onto the patio, allowing food trucks to bring their best!” says McGee.\n",
      "\n",
      "2. VISION THING. An employee favorite is Vision Board Day held every December. “It’s a time to reflect on where we’ve been and make a vision board for where each teammate wants to go for the next year.”\n",
      "\n",
      "Advertisement\n",
      "\n",
      "3. POWER PLAY. For BeSpoke’s annual Empowerment Day, the office is closed so staff can work on growing themselves individually and as a team.\n",
      "\n",
      "4. CHAMPAGNE CAMPAIGN. The Bubbles & Botox event every December draws a large crowd.\n",
      "\n",
      "5. TRULY BESPOKE. Says McGee: “We offer our patients everything from fresh baked cookies to laser resurfacing procedures that help them look and feel their very best.”\n",
      "\n",
      "PHOTO GALLERY (17 IMAGES)\n",
      "\n",
      "JUDGES’ COMMENTS David Duralde, Chief Creative Officer, OGI Eyewear, Minneapolis, MN: Elevating patients’ vision and their lives through communication and engagement are the values that drive the success of this practice. It is clear, this independent practice has made a solid name for itself by building a solid home for a premium eyecare experience.\n",
      "\n",
      "Elevating patients’ vision and their lives through communication and engagement are the values that drive the success of this practice. It is clear, this independent practice has made a solid name for itself by building a solid home for a premium eyecare experience. Jenn Denham, Director of Growth Marketing, Optify, Salt Lake City, UT: BeSpoke’s modern upscale barn building greets you with a warm “welcome home” feeling. Overall, Dr. McGee and team have captured the ability to make you feel at home while having the technology to serve your eyecare and aesthetic needs.\n",
      "\n",
      "BeSpoke’s modern upscale barn building greets you with a warm “welcome home” feeling. Overall, Dr. McGee and team have captured the ability to make you feel at home while having the technology to serve your eyecare and aesthetic needs. Jan Ennis, President/CEO, Ennco Display Group, Redmond, WA: Very clean and creative reception. The combination of texture, logo and feature display behind reception is well done. The informal waiting area is very attractive.\n",
      "    ###\n",
      "Retrying in 5 seconds...\n"
     ]
    },
    {
     "name": "stdout",
     "output_type": "stream",
     "text": [
      "org: BeSpoke Vision\n",
      "country: USA\n",
      "state: Oklahoma\n",
      "city: Edmond\n",
      "industry: Eyecare\n",
      "risks: NA\n",
      "items_sold: Morel Eyewear; Maui Jim; Tom Ford; Garrett Leight California (GLCO); Etnia Barcelona; Essilor; TearLab; Eyeris\n",
      "service_provided: Non-invasive eyelid lifts; Eye wrinkle reduction; Revolutionary dry eye treatments; Virtual styling services; Telemedicine appointments\n",
      "business_relations: NA\n"
     ]
    },
    {
     "name": "stderr",
     "output_type": "stream",
     "text": [
      "\r",
      "Generating responses:  84%|████████▎ | 836/1000 [55:58<42:36, 15.59s/it]"
     ]
    },
    {
     "name": "stdout",
     "output_type": "stream",
     "text": [
      "org: NA\n"
     ]
    },
    {
     "name": "stderr",
     "output_type": "stream",
     "text": [
      "\r",
      "Generating responses:  84%|████████▎ | 837/1000 [56:00<31:13, 11.49s/it]"
     ]
    },
    {
     "name": "stdout",
     "output_type": "stream",
     "text": [
      "org: Intel\n",
      "country: NA\n",
      "state: NA\n",
      "city: NA\n",
      "industry: Technology\n",
      "risks: Competition; Seasonal slowdown\n",
      "items_sold: Microprocessors\n",
      "service_provided: NA\n",
      "business_relations: NA\n"
     ]
    },
    {
     "name": "stderr",
     "output_type": "stream",
     "text": [
      "\r",
      "Generating responses:  84%|████████▍ | 838/1000 [56:04<24:31,  9.08s/it]"
     ]
    },
    {
     "name": "stdout",
     "output_type": "stream",
     "text": [
      "org: NA\n"
     ]
    },
    {
     "name": "stderr",
     "output_type": "stream",
     "text": [
      "\r",
      "Generating responses:  84%|████████▍ | 839/1000 [56:05<18:07,  6.76s/it]"
     ]
    },
    {
     "name": "stdout",
     "output_type": "stream",
     "text": [
      "org: NA\n"
     ]
    },
    {
     "name": "stderr",
     "output_type": "stream",
     "text": [
      "\r",
      "Generating responses:  84%|████████▍ | 840/1000 [56:07<14:10,  5.31s/it]"
     ]
    },
    {
     "name": "stdout",
     "output_type": "stream",
     "text": [
      "org: NA\n"
     ]
    },
    {
     "name": "stderr",
     "output_type": "stream",
     "text": [
      "\r",
      "Generating responses:  84%|████████▍ | 841/1000 [56:09<11:14,  4.24s/it]"
     ]
    },
    {
     "name": "stdout",
     "output_type": "stream",
     "text": [
      "org: NA\n"
     ]
    },
    {
     "name": "stderr",
     "output_type": "stream",
     "text": [
      "\r",
      "Generating responses:  84%|████████▍ | 842/1000 [56:10<08:57,  3.40s/it]"
     ]
    },
    {
     "name": "stdout",
     "output_type": "stream",
     "text": [
      "org: NA\n"
     ]
    },
    {
     "name": "stderr",
     "output_type": "stream",
     "text": [
      "\r",
      "Generating responses:  84%|████████▍ | 843/1000 [56:12<07:38,  2.92s/it]"
     ]
    },
    {
     "name": "stdout",
     "output_type": "stream",
     "text": [
      "org: global client\n",
      "country: NA\n",
      "state: NA\n",
      "city: Macclesfield\n",
      "industry: NA\n",
      "risks: NA\n",
      "items_sold: NA\n",
      "service_provided: NA\n",
      "business_relations: NA\n"
     ]
    },
    {
     "name": "stderr",
     "output_type": "stream",
     "text": [
      "\r",
      "Generating responses:  84%|████████▍ | 844/1000 [56:16<08:28,  3.26s/it]"
     ]
    },
    {
     "name": "stdout",
     "output_type": "stream",
     "text": [
      "org: Bangko Sentral ng Pilipinas (BSP)\n",
      "country: Philippines\n",
      "state: NA\n",
      "city: NA\n",
      "industry: Banking and Finance\n",
      "risks: fraud; scams\n",
      "items_sold: NA\n",
      "service_provided: NA\n",
      "business_relations: NA\n"
     ]
    },
    {
     "name": "stderr",
     "output_type": "stream",
     "text": [
      "\r",
      "Generating responses:  84%|████████▍ | 845/1000 [56:20<08:48,  3.41s/it]"
     ]
    },
    {
     "name": "stdout",
     "output_type": "stream",
     "text": [
      "org: NA\n"
     ]
    },
    {
     "name": "stderr",
     "output_type": "stream",
     "text": [
      "\r",
      "Generating responses:  85%|████████▍ | 846/1000 [56:21<07:10,  2.80s/it]"
     ]
    },
    {
     "name": "stdout",
     "output_type": "stream",
     "text": [
      "org: Communikay Graphics\n",
      "country: NA\n",
      "state: Texas\n",
      "city: Alvin\n",
      "industry: Printing services\n",
      "risks: NA\n",
      "items_sold: Large-format digital, silkscreen, and narrow web flexographic printing services\n",
      "service_provided: Finishing options like inventory, kitting, and fulfillment programs\n",
      "business_relations: Convenience stores, propane retailers, heavy equipment dealers, beverage companies, state lotteries, tobacco, real estate, and industrial market segments.\n"
     ]
    },
    {
     "name": "stderr",
     "output_type": "stream",
     "text": [
      "\r",
      "Generating responses:  85%|████████▍ | 847/1000 [56:27<09:54,  3.89s/it]"
     ]
    },
    {
     "name": "stdout",
     "output_type": "stream",
     "text": [
      "org: NGX All-Share Index\n",
      "country: NA\n",
      "state: NA\n",
      "city: NA\n",
      "industry: NA\n",
      "risks: NA\n",
      "items_sold: NA\n",
      "service_provided: NA\n",
      "business_relations: NA\n"
     ]
    },
    {
     "name": "stderr",
     "output_type": "stream",
     "text": [
      "\r",
      "Generating responses:  85%|████████▍ | 848/1000 [56:32<10:02,  3.96s/it]"
     ]
    },
    {
     "name": "stdout",
     "output_type": "stream",
     "text": [
      "org: NA\n"
     ]
    },
    {
     "name": "stderr",
     "output_type": "stream",
     "text": [
      "\r",
      "Generating responses:  85%|████████▍ | 849/1000 [56:33<07:57,  3.16s/it]"
     ]
    },
    {
     "name": "stdout",
     "output_type": "stream",
     "text": [
      "Error generating response for prompt at index 849: That model is currently overloaded with other requests. You can retry your request, or contact us through our help center at help.openai.com if the error persists. (Please include the request ID bb9cebafbeea81df8fe38d236fc34366 in your message.)\n",
      "Query: For the main organisation discussed in this article (if any), give me information as follows and nothing else. If there is no organiastion discussed, respond with \"NA\".\n",
      "    ###\n",
      "    Desired response format:\n",
      "    ###\n",
      "    org: <main organisation discussed>\n",
      "    country: <country of main organisation>\n",
      "    state: <state/province of main organisation>\n",
      "    city: <city/town of main organisation>\n",
      "    industry: <industry of the organisation>\n",
      "    risks: <semi-colon-separated list of risks faced by main organisation> Summarise each risk in a phrase of up to 3 words.\n",
      "    items_sold: <semicolon-separated list of items sold by main organisation>\n",
      "    service_provided: <semi-colon-separated list of services provided by organisation>\n",
      "    business_relations: <semi-colon-separated list of organisations with a business relation to the main organisation>\n",
      "    ###\n",
      "    The provided article is:\n",
      "    ###\n",
      "    Janna Ingeberg says high inflation has taken a bite out of her budget for healthy food. Sometimes, she can only afford to buy a bag of carrots from the produce aisle.\n",
      "\n",
      "“It’s absolutely mortifying,” she said. “It affects low-income people the most — the people who are already struggling.”\n",
      "\n",
      "Ingeberg said she spends about $100 a week on groceries, and shops at multiple stores to get the best deals. During the weekend, she stopped at a Food Fare location and spent her weekly budget of $75 on cat food, juice, two cans of soup, and something to tuck away in the freezer.\n",
      "\n",
      "Mike Deal / Winnipeg Free Press Janna Ingeberg says high inflation has taken a bite out of her budget for healthy food.\n",
      "\n",
      "“I’ve started making my own bread at home because the cost of bread is ridiculous,” she said. “Even those foods like Kraft Dinner, things that people who are low-income rely on as pantry staples, are hard to afford now.”\n",
      "\n",
      "The most recent Canada Consumer Price Index, published Tuesday, shows food inflation in Manitoba is the highest in the country at 10.4 per cent, compared with 9.1 per cent nationally.\n",
      "\n",
      "Craig Suderman says he spends $50-$75 per week on groceries and has noticed an “astronomical” increase in pet food. He said it becomes more challenging to afford groceries toward the end of his pay period, but tries to cut costs when he can.\n",
      "\n",
      "“I do a lot of scratch cooking, so I cut down a little bit in that way,” said Suderman. “I usually just buy what I need and whatever it costs, it costs.”\n",
      "\n",
      "In March, some 47,000 Manitobans relied on a food bank to meet a portion of their monthly household food security needs, Harvest Manitoba chief executive officer Vince Barletta said.\n",
      "\n",
      "Mike Deal / Winnipeg Free Press Craig Suderman says he spends $50-$75 per week on groceries and has noticed an “astronomical” increase in pet food.\n",
      "\n",
      "That’s more than 22,000 households using a food bank somewhere in the province, he said. There has been a 100 per cent increase in the past year-and-a-half at the Winnipeg non-profit organization, which collects and distributes healthy food to hungry families.\n",
      "\n",
      "“About one in four people that use a food bank these days are folks with jobs and, historically, people on social assistance, people on disability benefits, and others that are facing financial difficulties,” said Barletta.\n",
      "\n",
      "Other reasons as to why more people are needing to access a food bank in the province involve the costs of inflation, the influx of Ukrainian refugees displaced by war, and how the organization is serving more communities in northern Manitoba, he said.\n",
      "\n",
      "Survey data in the 2021-22 Harvest Manitoba report showed 67.5 per cent of food bank clients were predominantly female and were an average age of 49.5 years old.\n",
      "\n",
      "The survey also showed many respondents identified with having an annual income of $10,000-$20,000 per year, with 41 per cent receiving less than $10,000 annually.\n",
      "\n",
      "Ruth Bonneville / Winnipeg Free Press Files In March, some 47,000 Manitobans relied on a food bank to meet a portion of their monthly household food security needs, Harvest Manitoba chief executive officer Vince Barletta said.\n",
      "\n",
      "Munther Zeid, owner of the local Food Fare chain, said he finds most people are making sacrifices on what to purchase off their grocery list. It’s important to compare prices at various stores, he added.\n",
      "\n",
      "“I’m trying to keep my prices fair because my family shops at my store and I want to make it reasonable for them and for everybody else,” said Zeid, who has seven children. “I know what it costs to feed a family and to feed them well without any deprivation.”\n",
      "\n",
      "Winnipeg Free Press | Newsletter Head Start Weekday Mornings A quick glance at the news for the upcoming day. Sign Up I agree to the Terms and Conditions, Cookie and Privacy Policies, and CASL agreement.\n",
      "\n",
      "Because of supply chain issues exposed by the COVID-19 pandemic, Zeid said it can be cheaper to buy a bag of carrots, for example, from B.C. than strictly purchasing supplies from local manufacturers.\n",
      "\n",
      "“We’re trying to keep our prices as low as possible by doing that,” he said.\n",
      "\n",
      "Ultimately, food manufacturers rotate deals, so different store owners can maximize stocking up on key grocery items and offer specials to their customers, said Zeid.\n",
      "\n",
      "Ruth Bonneville / Winnipeg Free Press Files Munther Zeid, owner of the local Food Fare chain, said he finds most people are making sacrifices on what to purchase off their grocery list.\n",
      "\n",
      "Meanwhile, as the price of groceries continues to rise, Ingeberg said Canadians are tired and disgruntled.\n",
      "\n",
      "tessa.adamski@freepress.mb.ca\n",
      "    ###\n",
      "Retrying in 5 seconds...\n",
      "org: Harvest Manitoba\n",
      "country: NA\n",
      "state: NA\n",
      "city: Winnipeg\n",
      "industry: Non-profit organization\n",
      "risks: Financial difficulties; Inflation; Serving more communities\n",
      "items_sold: NA\n",
      "service_provided: Collecting and distributing healthy food to hungry families\n",
      "business_relations: NA\n"
     ]
    },
    {
     "name": "stderr",
     "output_type": "stream",
     "text": [
      "\r",
      "Generating responses:  85%|████████▌ | 850/1000 [57:14<36:03, 14.42s/it]"
     ]
    },
    {
     "name": "stdout",
     "output_type": "stream",
     "text": [
      "org: Snap Junk Removal\n",
      "country: NA\n",
      "state: NA\n",
      "city: NA\n",
      "industry: Waste Management\n",
      "risks: None mentioned\n",
      "items_sold: Dumpster bag pick up service\n",
      "service_provided: Dumpster bag pick up service\n",
      "business_relations: None mentioned\n"
     ]
    },
    {
     "name": "stderr",
     "output_type": "stream",
     "text": [
      "\r",
      "Generating responses:  85%|████████▌ | 851/1000 [57:18<28:27, 11.46s/it]"
     ]
    },
    {
     "name": "stdout",
     "output_type": "stream",
     "text": [
      "org: NA\n"
     ]
    },
    {
     "name": "stderr",
     "output_type": "stream",
     "text": [
      "\r",
      "Generating responses:  85%|████████▌ | 852/1000 [57:19<20:41,  8.39s/it]"
     ]
    },
    {
     "name": "stdout",
     "output_type": "stream",
     "text": [
      "NA\n"
     ]
    },
    {
     "name": "stderr",
     "output_type": "stream",
     "text": [
      "\r",
      "Generating responses:  85%|████████▌ | 853/1000 [57:21<15:28,  6.32s/it]"
     ]
    },
    {
     "name": "stdout",
     "output_type": "stream",
     "text": [
      "org: The Detroit Medical Center Inc. (DMC), Vanguard Health Systems Inc. (Vanguard), and Tenet Healthcare Corporation (Tenet)\n",
      "country: NA\n",
      "state: NA\n",
      "city: Detroit\n",
      "industry: Healthcare\n",
      "risks: Kickbacks; False Claims\n",
      "items_sold: NA\n",
      "service_provided: Healthcare services\n",
      "business_relations: NA\n"
     ]
    },
    {
     "name": "stderr",
     "output_type": "stream",
     "text": [
      "\r",
      "Generating responses:  85%|████████▌ | 854/1000 [57:26<14:20,  5.89s/it]"
     ]
    },
    {
     "name": "stdout",
     "output_type": "stream",
     "text": [
      "org: Genprex Inc.\n",
      "country: NA\n",
      "state: NA\n",
      "city: NA\n",
      "industry: Biotechnology\n",
      "risks: NA\n",
      "items_sold: NA\n",
      "service_provided: NA\n",
      "business_relations: NA\n"
     ]
    },
    {
     "name": "stderr",
     "output_type": "stream",
     "text": [
      "\r",
      "Generating responses:  86%|████████▌ | 855/1000 [57:29<12:25,  5.14s/it]"
     ]
    },
    {
     "name": "stdout",
     "output_type": "stream",
     "text": [
      "org: NA\n"
     ]
    },
    {
     "name": "stderr",
     "output_type": "stream",
     "text": [
      "\r",
      "Generating responses:  86%|████████▌ | 856/1000 [57:31<09:53,  4.12s/it]"
     ]
    },
    {
     "name": "stdout",
     "output_type": "stream",
     "text": [
      "NA\n"
     ]
    },
    {
     "name": "stderr",
     "output_type": "stream",
     "text": [
      "\r",
      "Generating responses:  86%|████████▌ | 857/1000 [57:32<07:56,  3.33s/it]"
     ]
    },
    {
     "name": "stdout",
     "output_type": "stream",
     "text": [
      "org: Customology\n",
      "country: Australia\n",
      "state: NA\n",
      "city: NA\n",
      "industry: Marketing\n",
      "risks: Irrelevant marketing content; high email frequency; pushy sales stance; not utilising other communication channels; not using personal information effectively; lack of customer value; dishonest communication\n",
      "items_sold: NA\n",
      "service_provided: NA\n",
      "business_relations: NA\n"
     ]
    },
    {
     "name": "stderr",
     "output_type": "stream",
     "text": [
      "\r",
      "Generating responses:  86%|████████▌ | 858/1000 [57:37<08:45,  3.70s/it]"
     ]
    },
    {
     "name": "stdout",
     "output_type": "stream",
     "text": [
      "org: OneMain Financial\n",
      "country: United States\n",
      "state: NA\n",
      "city: Evansville\n",
      "industry: Personal loan installment lending\n",
      "risks: Deception; Failure to refund; Upselling\n",
      "items_sold: Loans and add-on products (roadside assistance, unemployment coverage, identity theft coverage, entertainment discounts)\n",
      "service_provided: Personal loans\n",
      "business_relations: OneMain Holdings (parent company)\n"
     ]
    },
    {
     "name": "stderr",
     "output_type": "stream",
     "text": [
      "\r",
      "Generating responses:  86%|████████▌ | 859/1000 [57:43<10:10,  4.33s/it]"
     ]
    },
    {
     "name": "stdout",
     "output_type": "stream",
     "text": [
      "org: Bournemouth Foodbank\n",
      "country: NA\n",
      "state: NA\n",
      "city: Bournemouth\n",
      "industry: Charity\n",
      "risks: Shortage of donations; Increasing demand\n",
      "items_sold: Tinned and dried food, tea or coffee, milk and juice\n",
      "service_provided: Providing food parcels to those in need\n",
      "business_relations: Trussell Trust\n"
     ]
    },
    {
     "name": "stderr",
     "output_type": "stream",
     "text": [
      "\r",
      "Generating responses:  86%|████████▌ | 860/1000 [57:48<10:54,  4.67s/it]"
     ]
    },
    {
     "name": "stdout",
     "output_type": "stream",
     "text": [
      "org: Amazon\n",
      "country: NA\n",
      "state: NA\n",
      "city: NA\n",
      "industry: E-commerce/Technology\n",
      "risks: Privacy violations; Legal penalties\n",
      "items_sold: Multiple products across various categories\n",
      "service_provided: E-commerce platform; Cloud computing services; Streaming services; Voice assistant technology\n",
      "business_relations: NA\n"
     ]
    },
    {
     "name": "stderr",
     "output_type": "stream",
     "text": [
      "\r",
      "Generating responses:  86%|████████▌ | 861/1000 [57:52<10:20,  4.46s/it]"
     ]
    },
    {
     "name": "stdout",
     "output_type": "stream",
     "text": [
      "org: SEB\n",
      "country: Sweden\n",
      "state: NA\n",
      "city: NA\n",
      "industry: Banking\n",
      "risks: Currency fluctuations\n",
      "items_sold: NA\n",
      "service_provided: Banking services\n",
      "business_relations: NA\n"
     ]
    },
    {
     "name": "stderr",
     "output_type": "stream",
     "text": [
      "\r",
      "Generating responses:  86%|████████▌ | 862/1000 [57:56<09:37,  4.19s/it]"
     ]
    },
    {
     "name": "stdout",
     "output_type": "stream",
     "text": [
      "org: Sugarcane Farmers Growers Fund\n",
      "country: Fiji\n",
      "state: NA\n",
      "city: Lautoka\n",
      "industry: Agriculture\n",
      "risks: NA\n",
      "items_sold: NA\n",
      "service_provided: Financial assistance to sugarcane farmers\n",
      "business_relations: Sugarcane Growers Council, Fiji Sugar Cooperation, and the government\n"
     ]
    },
    {
     "name": "stderr",
     "output_type": "stream",
     "text": [
      "\r",
      "Generating responses:  86%|████████▋ | 863/1000 [58:00<09:45,  4.27s/it]"
     ]
    },
    {
     "name": "stdout",
     "output_type": "stream",
     "text": [
      "org: NA\n"
     ]
    },
    {
     "name": "stderr",
     "output_type": "stream",
     "text": [
      "\r",
      "Generating responses:  86%|████████▋ | 864/1000 [58:02<08:13,  3.63s/it]"
     ]
    },
    {
     "name": "stdout",
     "output_type": "stream",
     "text": [
      "org: NA\n"
     ]
    },
    {
     "name": "stderr",
     "output_type": "stream",
     "text": [
      "\r",
      "Generating responses:  86%|████████▋ | 865/1000 [58:04<07:04,  3.14s/it]"
     ]
    },
    {
     "name": "stdout",
     "output_type": "stream",
     "text": [
      "org: Kennametal Inc.\n",
      "country: NA\n",
      "state: NA\n",
      "city: NA\n",
      "industry: Tools & Accessories\n",
      "risks: NA\n",
      "items_sold: NA\n",
      "service_provided: NA\n",
      "business_relations: NA\n"
     ]
    },
    {
     "name": "stderr",
     "output_type": "stream",
     "text": [
      "\r",
      "Generating responses:  87%|████████▋ | 866/1000 [58:09<08:00,  3.59s/it]"
     ]
    },
    {
     "name": "stdout",
     "output_type": "stream",
     "text": [
      "org: Blizzard\n",
      "country: NA\n",
      "state: NA\n",
      "city: NA\n",
      "industry: Video games\n",
      "risks: High prices\n",
      "items_sold: Armor sets; in-game mounts\n",
      "service_provided: NA\n",
      "business_relations: NA\n"
     ]
    },
    {
     "name": "stderr",
     "output_type": "stream",
     "text": [
      "\r",
      "Generating responses:  87%|████████▋ | 867/1000 [58:13<08:17,  3.74s/it]"
     ]
    },
    {
     "name": "stdout",
     "output_type": "stream",
     "text": [
      "NA\n"
     ]
    },
    {
     "name": "stderr",
     "output_type": "stream",
     "text": [
      "\r",
      "Generating responses:  87%|████████▋ | 868/1000 [58:15<07:01,  3.20s/it]"
     ]
    },
    {
     "name": "stdout",
     "output_type": "stream",
     "text": [
      "org: Ruby\n",
      "country: NA\n",
      "state: NA\n",
      "city: NA\n",
      "industry: Virtual receptionist and chat specialist\n",
      "risks: NA\n",
      "items_sold: NA\n",
      "service_provided: Live virtual receptionist and chat specialist services\n",
      "business_relations: NA\n"
     ]
    },
    {
     "name": "stderr",
     "output_type": "stream",
     "text": [
      "\r",
      "Generating responses:  87%|████████▋ | 869/1000 [58:19<07:37,  3.49s/it]"
     ]
    },
    {
     "name": "stdout",
     "output_type": "stream",
     "text": [
      "org: App Store\n",
      "country: NA\n",
      "state: NA\n",
      "city: NA\n",
      "industry: Technology\n",
      "risks: NA\n",
      "items_sold: Physical goods; Digital goods; Services\n",
      "service_provided: Global distribution platform for iOS apps\n",
      "business_relations: NA\n"
     ]
    },
    {
     "name": "stderr",
     "output_type": "stream",
     "text": [
      "\r",
      "Generating responses:  87%|████████▋ | 870/1000 [58:23<07:29,  3.46s/it]"
     ]
    },
    {
     "name": "stdout",
     "output_type": "stream",
     "text": [
      "org: Splash Beverage Group, Inc.\n",
      "country: NA\n",
      "state: NA\n",
      "city: NA\n",
      "industry: beverage\n",
      "risks: noncompliance with NYSE American continued listing standards\n",
      "items_sold: Copa di Vino wine by the glass; SALT flavored tequilas; Pulpoloco sangria; TapouT performance hydration and recovery drink\n",
      "service_provided: NA\n",
      "business_relations: NA\n"
     ]
    },
    {
     "name": "stderr",
     "output_type": "stream",
     "text": [
      "\r",
      "Generating responses:  87%|████████▋ | 871/1000 [58:27<08:15,  3.84s/it]"
     ]
    },
    {
     "name": "stdout",
     "output_type": "stream",
     "text": [
      "NA\n"
     ]
    },
    {
     "name": "stderr",
     "output_type": "stream",
     "text": [
      "\r",
      "Generating responses:  87%|████████▋ | 872/1000 [58:29<06:49,  3.20s/it]"
     ]
    },
    {
     "name": "stdout",
     "output_type": "stream",
     "text": [
      "org: MakerDAO\n",
      "country: NA\n",
      "state: NA\n",
      "city: NA\n",
      "industry: Decentralized finance (DeFi)\n",
      "risks: Market volatility; Smart contract risk; Liquidity risk\n",
      "items_sold: N/A\n",
      "service_provided: Borrowing and lending of assets on a decentralized money market\n",
      "business_relations: N/A\n"
     ]
    },
    {
     "name": "stderr",
     "output_type": "stream",
     "text": [
      "\r",
      "Generating responses:  87%|████████▋ | 873/1000 [58:34<07:43,  3.65s/it]"
     ]
    },
    {
     "name": "stdout",
     "output_type": "stream",
     "text": [
      "org: Target\n",
      "country: NA\n",
      "state: NA\n",
      "city: NA\n",
      "industry: Retail\n",
      "risks: Backlash; Polarization\n",
      "items_sold: NA\n",
      "service_provided: NA\n",
      "business_relations: NA\n"
     ]
    },
    {
     "name": "stderr",
     "output_type": "stream",
     "text": [
      "\r",
      "Generating responses:  87%|████████▋ | 874/1000 [58:37<07:12,  3.44s/it]"
     ]
    },
    {
     "name": "stdout",
     "output_type": "stream",
     "text": [
      "org: NA\n"
     ]
    },
    {
     "name": "stderr",
     "output_type": "stream",
     "text": [
      "\r",
      "Generating responses:  88%|████████▊ | 875/1000 [58:38<06:02,  2.90s/it]"
     ]
    },
    {
     "name": "stdout",
     "output_type": "stream",
     "text": [
      "org: NA\n"
     ]
    },
    {
     "name": "stderr",
     "output_type": "stream",
     "text": [
      "\r",
      "Generating responses:  88%|████████▊ | 876/1000 [58:40<05:15,  2.54s/it]"
     ]
    },
    {
     "name": "stdout",
     "output_type": "stream",
     "text": [
      "org: Amazon\n",
      "country: NA\n",
      "state: NA\n",
      "city: NA\n",
      "industry: Technology\n",
      "risks: Privacy violations; Retention of user data\n",
      "items_sold: NA\n",
      "service_provided: Alexa voice assistant; Ring doorbell cameras\n",
      "business_relations: NA\n"
     ]
    },
    {
     "name": "stderr",
     "output_type": "stream",
     "text": [
      "\r",
      "Generating responses:  88%|████████▊ | 877/1000 [58:44<06:24,  3.13s/it]"
     ]
    },
    {
     "name": "stdout",
     "output_type": "stream",
     "text": [
      "org: Esperion Therapeutics Inc.\n",
      "country: NA\n",
      "state: NA\n",
      "city: NA\n",
      "industry: Drug Manufacturers - Specialty & Generic\n",
      "risks: NA\n",
      "items_sold: NA\n",
      "service_provided: NA\n",
      "business_relations: NA\n"
     ]
    },
    {
     "name": "stderr",
     "output_type": "stream",
     "text": [
      "\r",
      "Generating responses:  88%|████████▊ | 878/1000 [58:48<06:44,  3.32s/it]"
     ]
    },
    {
     "name": "stdout",
     "output_type": "stream",
     "text": [
      "org: Splash Beverage Group, Inc.\n",
      "country: NA\n",
      "state: FL\n",
      "city: Fort Lauderdale\n",
      "industry: Beverage\n",
      "risks: noncompliance with NYSE American continued listing standards\n",
      "items_sold: Copa di Vino wine by the glass; SALT flavored tequilas; Pulpoloco sangria; TapouT performance hydration and recovery drink\n",
      "service_provided: NA\n",
      "business_relations: NA\n"
     ]
    },
    {
     "name": "stderr",
     "output_type": "stream",
     "text": [
      "\r",
      "Generating responses:  88%|████████▊ | 879/1000 [58:54<08:11,  4.07s/it]"
     ]
    },
    {
     "name": "stdout",
     "output_type": "stream",
     "text": [
      "org: NA\n"
     ]
    },
    {
     "name": "stderr",
     "output_type": "stream",
     "text": [
      "\r",
      "Generating responses:  88%|████████▊ | 880/1000 [58:56<06:47,  3.40s/it]"
     ]
    },
    {
     "name": "stdout",
     "output_type": "stream",
     "text": [
      "org: NA\n"
     ]
    },
    {
     "name": "stderr",
     "output_type": "stream",
     "text": [
      "\r",
      "Generating responses:  88%|████████▊ | 881/1000 [58:58<06:15,  3.16s/it]"
     ]
    },
    {
     "name": "stdout",
     "output_type": "stream",
     "text": [
      "org: NA\n"
     ]
    },
    {
     "name": "stderr",
     "output_type": "stream",
     "text": [
      "\r",
      "Generating responses:  88%|████████▊ | 882/1000 [59:00<05:16,  2.68s/it]"
     ]
    },
    {
     "name": "stdout",
     "output_type": "stream",
     "text": [
      "org: NA\n"
     ]
    },
    {
     "name": "stderr",
     "output_type": "stream",
     "text": [
      "\r",
      "Generating responses:  88%|████████▊ | 883/1000 [59:02<04:41,  2.41s/it]"
     ]
    },
    {
     "name": "stdout",
     "output_type": "stream",
     "text": [
      "org: Intellexa\n",
      "country: NA\n",
      "state: NA\n",
      "city: NA\n",
      "industry: Technology\n",
      "risks: Malware; Cybersecurity\n",
      "items_sold: NA\n",
      "service_provided: NA\n",
      "business_relations: NA\n"
     ]
    },
    {
     "name": "stderr",
     "output_type": "stream",
     "text": [
      "\r",
      "Generating responses:  88%|████████▊ | 884/1000 [59:06<05:52,  3.04s/it]"
     ]
    },
    {
     "name": "stdout",
     "output_type": "stream",
     "text": [
      "NA\n"
     ]
    },
    {
     "name": "stderr",
     "output_type": "stream",
     "text": [
      "\r",
      "Generating responses:  88%|████████▊ | 885/1000 [59:08<04:51,  2.54s/it]"
     ]
    },
    {
     "name": "stdout",
     "output_type": "stream",
     "text": [
      "org: Avid Telecom\n",
      "country: NA\n",
      "state: Arizona\n",
      "city: NA\n",
      "industry: Telecommunications\n",
      "risks: Legal action; Reputation damage\n",
      "items_sold: NA\n",
      "service_provided: Telecommunications services for mass robocalls\n",
      "business_relations: NA\n"
     ]
    },
    {
     "name": "stderr",
     "output_type": "stream",
     "text": [
      "\r",
      "Generating responses:  89%|████████▊ | 886/1000 [59:12<05:40,  2.99s/it]"
     ]
    },
    {
     "name": "stdout",
     "output_type": "stream",
     "text": [
      "org: NA\n"
     ]
    },
    {
     "name": "stderr",
     "output_type": "stream",
     "text": [
      "\r",
      "Generating responses:  89%|████████▊ | 887/1000 [59:14<05:10,  2.75s/it]"
     ]
    },
    {
     "name": "stdout",
     "output_type": "stream",
     "text": [
      "NA\n"
     ]
    },
    {
     "name": "stderr",
     "output_type": "stream",
     "text": [
      "\r",
      "Generating responses:  89%|████████▉ | 888/1000 [59:16<04:44,  2.54s/it]"
     ]
    },
    {
     "name": "stdout",
     "output_type": "stream",
     "text": [
      "NA\n"
     ]
    },
    {
     "name": "stderr",
     "output_type": "stream",
     "text": [
      "\r",
      "Generating responses:  89%|████████▉ | 889/1000 [59:18<04:12,  2.27s/it]"
     ]
    },
    {
     "name": "stdout",
     "output_type": "stream",
     "text": [
      "org: NN Inc.\n",
      "country: NA\n",
      "state: NA\n",
      "city: NA\n",
      "industry: Industrials\n",
      "risks: NA\n",
      "items_sold: NA\n",
      "service_provided: NA\n",
      "business_relations: NA\n"
     ]
    },
    {
     "name": "stderr",
     "output_type": "stream",
     "text": [
      "\r",
      "Generating responses:  89%|████████▉ | 890/1000 [59:22<05:15,  2.87s/it]"
     ]
    },
    {
     "name": "stdout",
     "output_type": "stream",
     "text": [
      "org: NA\n"
     ]
    },
    {
     "name": "stderr",
     "output_type": "stream",
     "text": [
      "\r",
      "Generating responses:  89%|████████▉ | 891/1000 [59:24<04:33,  2.51s/it]"
     ]
    },
    {
     "name": "stdout",
     "output_type": "stream",
     "text": [
      "org: Nordstrom\n",
      "country: NA\n",
      "state: NA\n",
      "city: NA\n",
      "industry: Retail\n",
      "risks: Spending drop; Slower sales\n",
      "items_sold: NA\n",
      "service_provided: NA\n",
      "business_relations: NA\n"
     ]
    },
    {
     "name": "stderr",
     "output_type": "stream",
     "text": [
      "\r",
      "Generating responses:  89%|████████▉ | 892/1000 [59:27<04:56,  2.75s/it]"
     ]
    },
    {
     "name": "stdout",
     "output_type": "stream",
     "text": [
      "org: Coalition for Fair Trade in Shopping Bags\n",
      "country: NA\n",
      "state: NA\n",
      "city: NA\n",
      "industry: NA\n",
      "risks: Increased prices; Decreased supply\n",
      "items_sold: Paper shopping bags with handles\n",
      "service_provided: NA\n",
      "business_relations: Novolex Holdings, LLC and the United Steel, Paper and Forestry, Rubber, Manufacturing, Energy, Allied Industrial and Service Workers International Union\n"
     ]
    },
    {
     "name": "stderr",
     "output_type": "stream",
     "text": [
      "\r",
      "Generating responses:  89%|████████▉ | 893/1000 [59:33<06:42,  3.76s/it]"
     ]
    },
    {
     "name": "stdout",
     "output_type": "stream",
     "text": [
      "org: Serta Simmons Bedding\n",
      "country: NA\n",
      "state: NA\n",
      "city: NA\n",
      "industry: bedding\n",
      "risks: NA\n",
      "items_sold: mattresses, pillows\n",
      "service_provided: NA\n",
      "business_relations: NA\n"
     ]
    },
    {
     "name": "stderr",
     "output_type": "stream",
     "text": [
      "\r",
      "Generating responses:  89%|████████▉ | 894/1000 [59:37<06:43,  3.80s/it]"
     ]
    },
    {
     "name": "stdout",
     "output_type": "stream",
     "text": [
      "org: Trans Mountain pipeline\n",
      "country: Canada\n",
      "state: NA\n",
      "city: NA\n",
      "industry: Oil\n",
      "risks: Environmental; Legal; Political\n",
      "items_sold: Oil\n",
      "service_provided: NA\n",
      "business_relations: Canadian government\n"
     ]
    },
    {
     "name": "stderr",
     "output_type": "stream",
     "text": [
      "\r",
      "Generating responses:  90%|████████▉ | 895/1000 [59:41<06:50,  3.91s/it]"
     ]
    },
    {
     "name": "stdout",
     "output_type": "stream",
     "text": [
      "NA\n"
     ]
    },
    {
     "name": "stderr",
     "output_type": "stream",
     "text": [
      "\r",
      "Generating responses:  90%|████████▉ | 896/1000 [59:42<05:29,  3.16s/it]"
     ]
    },
    {
     "name": "stdout",
     "output_type": "stream",
     "text": [
      "org: NA\n"
     ]
    },
    {
     "name": "stderr",
     "output_type": "stream",
     "text": [
      "\r",
      "Generating responses:  90%|████████▉ | 897/1000 [59:44<04:49,  2.81s/it]"
     ]
    },
    {
     "name": "stdout",
     "output_type": "stream",
     "text": [
      "org: Serta Simmons Bedding\n",
      "country: NA\n",
      "state: NA\n",
      "city: NA\n",
      "industry: Bedding\n",
      "risks: NA\n",
      "items_sold: Mattresses, pillows, bedding\n",
      "service_provided: NA\n",
      "business_relations: NA\n"
     ]
    },
    {
     "name": "stderr",
     "output_type": "stream",
     "text": [
      "\r",
      "Generating responses:  90%|████████▉ | 898/1000 [59:49<05:31,  3.25s/it]"
     ]
    },
    {
     "name": "stdout",
     "output_type": "stream",
     "text": [
      "org: Serta Simmons Bedding\n",
      "country: NA\n",
      "state: NA\n",
      "city: NA\n",
      "industry: Bedding\n",
      "risks: NA\n",
      "items_sold: Mattresses, pillows, bedding products\n",
      "service_provided: NA\n",
      "business_relations: NA\n"
     ]
    },
    {
     "name": "stderr",
     "output_type": "stream",
     "text": [
      "\r",
      "Generating responses:  90%|████████▉ | 899/1000 [59:53<05:47,  3.44s/it]"
     ]
    },
    {
     "name": "stdout",
     "output_type": "stream",
     "text": [
      "org: India-Visa-Online\n",
      "country: India\n",
      "state: NA\n",
      "city: NA\n",
      "industry: Visa services\n",
      "risks: NA\n",
      "items_sold: NA\n",
      "service_provided: Visa services\n",
      "business_relations: NA\n"
     ]
    },
    {
     "name": "stderr",
     "output_type": "stream",
     "text": [
      "\r",
      "Generating responses:  90%|█████████ | 900/1000 [59:57<06:01,  3.61s/it]"
     ]
    },
    {
     "name": "stdout",
     "output_type": "stream",
     "text": [
      "org: Ring\n",
      "country: NA\n",
      "state: NA\n",
      "city: NA\n",
      "industry: Smart home security\n",
      "risks: Privacy violations; Data breaches\n",
      "items_sold: Smart doorbells; Security cameras\n",
      "service_provided: Home security\n",
      "business_relations: Amazon\n"
     ]
    },
    {
     "name": "stderr",
     "output_type": "stream",
     "text": [
      "\r",
      "Generating responses:  90%|█████████ | 901/1000 [1:00:00<06:05,  3.69s/it]"
     ]
    },
    {
     "name": "stdout",
     "output_type": "stream",
     "text": [
      "org: Alliant Energy Corporation\n",
      "country: NA\n",
      "state: NA\n",
      "city: NA\n",
      "industry: Utilities - Regulated Electric\n",
      "risks: NA\n",
      "items_sold: NA\n",
      "service_provided: NA\n",
      "business_relations: NA\n"
     ]
    },
    {
     "name": "stderr",
     "output_type": "stream",
     "text": [
      "\r",
      "Generating responses:  90%|█████████ | 902/1000 [1:00:05<06:11,  3.79s/it]"
     ]
    },
    {
     "name": "stdout",
     "output_type": "stream",
     "text": [
      "NA\n"
     ]
    },
    {
     "name": "stderr",
     "output_type": "stream",
     "text": [
      "\r",
      "Generating responses:  90%|█████████ | 903/1000 [1:00:07<05:17,  3.27s/it]"
     ]
    },
    {
     "name": "stdout",
     "output_type": "stream",
     "text": [
      "org: RIDGID\n",
      "country: NA\n",
      "state: NA\n",
      "city: NA\n",
      "industry: Professional Tools\n",
      "risks: NA\n",
      "items_sold: K9-12 FlexShaft Drain Cleaning Machine; RIDGID FlexShafts\n",
      "service_provided: Drain Cleaning Machines\n",
      "business_relations: Emerson\n"
     ]
    },
    {
     "name": "stderr",
     "output_type": "stream",
     "text": [
      "\r",
      "Generating responses:  90%|█████████ | 904/1000 [1:00:11<06:01,  3.77s/it]"
     ]
    },
    {
     "name": "stdout",
     "output_type": "stream",
     "text": [
      "org: NA\n"
     ]
    },
    {
     "name": "stderr",
     "output_type": "stream",
     "text": [
      "\r",
      "Generating responses:  90%|█████████ | 905/1000 [1:00:14<05:14,  3.31s/it]"
     ]
    },
    {
     "name": "stdout",
     "output_type": "stream",
     "text": [
      "org: Ring\n",
      "country: NA\n",
      "state: NA\n",
      "city: NA\n",
      "industry: Home surveillance\n",
      "risks: Credential stuffing; Brute force attacks; Poor password security; Privacy violations\n",
      "items_sold: Indoor networked cameras with two-way communications\n",
      "service_provided: NA\n",
      "business_relations: Amazon (parent company)\n"
     ]
    },
    {
     "name": "stderr",
     "output_type": "stream",
     "text": [
      "\r",
      "Generating responses:  91%|█████████ | 906/1000 [1:00:18<05:37,  3.59s/it]"
     ]
    },
    {
     "name": "stdout",
     "output_type": "stream",
     "text": [
      "org: Amazon\n",
      "country: NA\n",
      "state: NA\n",
      "city: NA\n",
      "industry: Technology/Retail\n",
      "risks: Privacy violations; Data security breaches\n",
      "items_sold: Multiple products including Alexa voice assistant and Ring doorbell cameras\n",
      "service_provided: E-commerce, Cloud computing, Artificial intelligence\n",
      "business_relations: NA\n"
     ]
    },
    {
     "name": "stderr",
     "output_type": "stream",
     "text": [
      "\r",
      "Generating responses:  91%|█████████ | 907/1000 [1:00:23<06:09,  3.98s/it]"
     ]
    },
    {
     "name": "stdout",
     "output_type": "stream",
     "text": [
      "org: 0x\n",
      "country: NA\n",
      "state: NA\n",
      "city: NA\n",
      "industry: Cryptocurrency\n",
      "risks: Volatility\n",
      "items_sold: NA\n",
      "service_provided: Decentralized exchange of Ethereum-based tokens and assets\n",
      "business_relations: NA\n"
     ]
    },
    {
     "name": "stderr",
     "output_type": "stream",
     "text": [
      "\r",
      "Generating responses:  91%|█████████ | 908/1000 [1:00:28<06:37,  4.32s/it]"
     ]
    },
    {
     "name": "stdout",
     "output_type": "stream",
     "text": [
      "org: Rosneft\n",
      "country: Russia\n",
      "state: NA\n",
      "city: NA\n",
      "industry: Oil and Gas\n",
      "risks: NA\n",
      "items_sold: NA\n",
      "service_provided: NA\n",
      "business_relations: NA\n"
     ]
    },
    {
     "name": "stderr",
     "output_type": "stream",
     "text": [
      "\r",
      "Generating responses:  91%|█████████ | 909/1000 [1:00:32<06:23,  4.22s/it]"
     ]
    },
    {
     "name": "stdout",
     "output_type": "stream",
     "text": [
      "org: BrainsWay Ltd.\n",
      "country: NA\n",
      "state: NA\n",
      "city: NA\n",
      "industry: Medical Devices\n",
      "risks: NA\n",
      "items_sold: NA\n",
      "service_provided: NA\n",
      "business_relations: NA\n"
     ]
    },
    {
     "name": "stderr",
     "output_type": "stream",
     "text": [
      "\r",
      "Generating responses:  91%|█████████ | 910/1000 [1:00:36<06:13,  4.15s/it]"
     ]
    },
    {
     "name": "stdout",
     "output_type": "stream",
     "text": [
      "org: Fashion Nova\n",
      "country: NA\n",
      "state: NA\n",
      "city: NA\n",
      "industry: Fashion Retail\n",
      "risks: Misleading customers\n",
      "items_sold: NA\n",
      "service_provided: NA\n",
      "business_relations: NA\n"
     ]
    },
    {
     "name": "stderr",
     "output_type": "stream",
     "text": [
      "\r",
      "Generating responses:  91%|█████████ | 911/1000 [1:00:40<06:03,  4.09s/it]"
     ]
    },
    {
     "name": "stdout",
     "output_type": "stream",
     "text": [
      "org: NA\n"
     ]
    },
    {
     "name": "stderr",
     "output_type": "stream",
     "text": [
      "\r",
      "Generating responses:  91%|█████████ | 912/1000 [1:00:42<05:08,  3.50s/it]"
     ]
    },
    {
     "name": "stdout",
     "output_type": "stream",
     "text": [
      "org: NA\n"
     ]
    },
    {
     "name": "stderr",
     "output_type": "stream",
     "text": [
      "\r",
      "Generating responses:  91%|█████████▏| 913/1000 [1:00:44<04:23,  3.03s/it]"
     ]
    },
    {
     "name": "stdout",
     "output_type": "stream",
     "text": [
      "org: National Housing Corporation (NHC)\n",
      "country: NA\n",
      "state: NA\n",
      "city: NA\n",
      "industry: Housing\n",
      "risks: NA\n",
      "items_sold: NA\n",
      "service_provided: NA\n",
      "business_relations: NA\n"
     ]
    },
    {
     "name": "stderr",
     "output_type": "stream",
     "text": [
      "\r",
      "Generating responses:  91%|█████████▏| 914/1000 [1:00:47<04:31,  3.15s/it]"
     ]
    },
    {
     "name": "stdout",
     "output_type": "stream",
     "text": [
      "org: NA\n"
     ]
    },
    {
     "name": "stderr",
     "output_type": "stream",
     "text": [
      "\r",
      "Generating responses:  92%|█████████▏| 915/1000 [1:00:50<04:04,  2.87s/it]"
     ]
    },
    {
     "name": "stdout",
     "output_type": "stream",
     "text": [
      "org: Hornblower Cruises & Events LLC\n",
      "country: NA\n",
      "state: NA\n",
      "city: Multiple locations including San Francisco, San Diego, Marina del Rey, and Newport Beach\n",
      "industry: Sightseeing cruise and charter yacht\n",
      "risks: NA\n",
      "items_sold: NA\n",
      "service_provided: Sightseeing cruise and charter yacht services\n",
      "business_relations: NA\n"
     ]
    },
    {
     "name": "stderr",
     "output_type": "stream",
     "text": [
      "\r",
      "Generating responses:  92%|█████████▏| 916/1000 [1:00:55<05:04,  3.63s/it]"
     ]
    },
    {
     "name": "stdout",
     "output_type": "stream",
     "text": [
      "org: NA\n"
     ]
    },
    {
     "name": "stderr",
     "output_type": "stream",
     "text": [
      "\r",
      "Generating responses:  92%|█████████▏| 917/1000 [1:00:57<04:24,  3.19s/it]"
     ]
    },
    {
     "name": "stdout",
     "output_type": "stream",
     "text": [
      "org: Multichain\n",
      "country: NA\n",
      "state: NA\n",
      "city: NA\n",
      "industry: Cryptocurrency\n",
      "risks: Absent CEO\n",
      "items_sold: NA\n",
      "service_provided: Cross-chain protocol\n",
      "business_relations: NA\n"
     ]
    },
    {
     "name": "stderr",
     "output_type": "stream",
     "text": [
      "\r",
      "Generating responses:  92%|█████████▏| 918/1000 [1:01:01<04:47,  3.50s/it]"
     ]
    },
    {
     "name": "stdout",
     "output_type": "stream",
     "text": [
      "org: Nordstrom\n",
      "country: NA\n",
      "state: NA\n",
      "city: NA\n",
      "industry: Retail\n",
      "risks: Economic downturn; Competition; Changing consumer preferences\n",
      "items_sold: Clothing; Shoes; Accessories; Beauty products\n",
      "service_provided: In-store shopping; Online shopping; Personal styling\n",
      "business_relations: NA\n"
     ]
    },
    {
     "name": "stderr",
     "output_type": "stream",
     "text": [
      "\r",
      "Generating responses:  92%|█████████▏| 919/1000 [1:01:06<05:03,  3.74s/it]"
     ]
    },
    {
     "name": "stdout",
     "output_type": "stream",
     "text": [
      "org: NA\n"
     ]
    },
    {
     "name": "stderr",
     "output_type": "stream",
     "text": [
      "\r",
      "Generating responses:  92%|█████████▏| 920/1000 [1:01:08<04:12,  3.16s/it]"
     ]
    },
    {
     "name": "stdout",
     "output_type": "stream",
     "text": [
      "org: Target\n",
      "country: NA\n",
      "state: NA\n",
      "city: NA\n",
      "industry: Retail\n",
      "risks: Backlash; Market value loss\n",
      "items_sold: NA\n",
      "service_provided: NA\n",
      "business_relations: LGBT group (unknown name)\n"
     ]
    },
    {
     "name": "stderr",
     "output_type": "stream",
     "text": [
      "\r",
      "Generating responses:  92%|█████████▏| 921/1000 [1:01:11<04:24,  3.35s/it]"
     ]
    },
    {
     "name": "stdout",
     "output_type": "stream",
     "text": [
      "org: Stubbs Contracting\n",
      "country: NA\n",
      "state: NA\n",
      "city: NA\n",
      "industry: Forestry\n",
      "risks: Rising costs; Slim margins; Falling export log prices\n",
      "items_sold: NA\n",
      "service_provided: NA\n",
      "business_relations: NA\n"
     ]
    },
    {
     "name": "stderr",
     "output_type": "stream",
     "text": [
      "\r",
      "Generating responses:  92%|█████████▏| 922/1000 [1:01:16<04:50,  3.73s/it]"
     ]
    },
    {
     "name": "stdout",
     "output_type": "stream",
     "text": [
      "org: Equinor Canada\n",
      "country: Canada\n",
      "state: NA\n",
      "city: NA\n",
      "industry: Energy\n",
      "risks: Delayed project\n",
      "items_sold: NA\n",
      "service_provided: NA\n",
      "business_relations: Energy NL\n"
     ]
    },
    {
     "name": "stderr",
     "output_type": "stream",
     "text": [
      "\r",
      "Generating responses:  92%|█████████▏| 923/1000 [1:01:20<04:51,  3.78s/it]"
     ]
    },
    {
     "name": "stdout",
     "output_type": "stream",
     "text": [
      "org: NA\n"
     ]
    },
    {
     "name": "stderr",
     "output_type": "stream",
     "text": [
      "\r",
      "Generating responses:  92%|█████████▏| 924/1000 [1:01:21<03:48,  3.01s/it]"
     ]
    },
    {
     "name": "stdout",
     "output_type": "stream",
     "text": [
      "org: NA\n"
     ]
    },
    {
     "name": "stderr",
     "output_type": "stream",
     "text": [
      "\r",
      "Generating responses:  92%|█████████▎| 925/1000 [1:01:22<03:09,  2.53s/it]"
     ]
    },
    {
     "name": "stdout",
     "output_type": "stream",
     "text": [
      "NA\n"
     ]
    },
    {
     "name": "stderr",
     "output_type": "stream",
     "text": [
      "\r",
      "Generating responses:  93%|█████████▎| 926/1000 [1:01:24<02:54,  2.36s/it]"
     ]
    },
    {
     "name": "stdout",
     "output_type": "stream",
     "text": [
      "NA\n"
     ]
    },
    {
     "name": "stderr",
     "output_type": "stream",
     "text": [
      "\r",
      "Generating responses:  93%|█████████▎| 927/1000 [1:01:26<02:44,  2.25s/it]"
     ]
    },
    {
     "name": "stdout",
     "output_type": "stream",
     "text": [
      "org: NA\n"
     ]
    },
    {
     "name": "stderr",
     "output_type": "stream",
     "text": [
      "\r",
      "Generating responses:  93%|█████████▎| 928/1000 [1:01:28<02:35,  2.17s/it]"
     ]
    },
    {
     "name": "stdout",
     "output_type": "stream",
     "text": [
      "org: Flashfood\n",
      "country: NA\n",
      "state: NA\n",
      "city: Toronto\n",
      "industry: Food retail\n",
      "risks: Food waste; Slow adoption by grocers\n",
      "items_sold: Meat; Fruit; Vegetables; Other food items\n",
      "service_provided: Connecting consumers with discounted, soon-to-be spoiled food\n",
      "business_relations: Loblaw (partner grocery store)\n"
     ]
    },
    {
     "name": "stderr",
     "output_type": "stream",
     "text": [
      "\r",
      "Generating responses:  93%|█████████▎| 929/1000 [1:01:33<03:20,  2.82s/it]"
     ]
    },
    {
     "name": "stdout",
     "output_type": "stream",
     "text": [
      "org: NA\n"
     ]
    },
    {
     "name": "stderr",
     "output_type": "stream",
     "text": [
      "\r",
      "Generating responses:  93%|█████████▎| 930/1000 [1:01:35<02:59,  2.56s/it]"
     ]
    },
    {
     "name": "stdout",
     "output_type": "stream",
     "text": [
      "NA\n"
     ]
    },
    {
     "name": "stderr",
     "output_type": "stream",
     "text": [
      "\r",
      "Generating responses:  93%|█████████▎| 931/1000 [1:01:37<02:45,  2.40s/it]"
     ]
    },
    {
     "name": "stdout",
     "output_type": "stream",
     "text": [
      "org: Li-Cycle Holdings Corp.\n",
      "country: NA\n",
      "state: NA\n",
      "city: NA\n",
      "industry: Energy transition\n",
      "risks: Debt\n",
      "items_sold: NA\n",
      "service_provided: NA\n",
      "business_relations: Covalis Capital LLP; BNP Paribas Asset Management Holding S.A.; iShares Russell 2000 ETF; Primecap Odyssey Aggressive Growth Fund\n"
     ]
    },
    {
     "name": "stderr",
     "output_type": "stream",
     "text": [
      "\r",
      "Generating responses:  93%|█████████▎| 932/1000 [1:01:42<03:41,  3.25s/it]"
     ]
    },
    {
     "name": "stdout",
     "output_type": "stream",
     "text": [
      "NA\n"
     ]
    },
    {
     "name": "stderr",
     "output_type": "stream",
     "text": [
      "\r",
      "Generating responses:  93%|█████████▎| 933/1000 [1:01:43<02:59,  2.67s/it]"
     ]
    },
    {
     "name": "stdout",
     "output_type": "stream",
     "text": [
      "NA\n"
     ]
    },
    {
     "name": "stderr",
     "output_type": "stream",
     "text": [
      "\r",
      "Generating responses:  93%|█████████▎| 934/1000 [1:01:45<02:44,  2.49s/it]"
     ]
    },
    {
     "name": "stdout",
     "output_type": "stream",
     "text": [
      "org: Placer.ai\n",
      "country: NA\n",
      "state: NA\n",
      "city: NA\n",
      "industry: data analysis\n",
      "risks: NA\n",
      "items_sold: NA\n",
      "service_provided: NA\n",
      "business_relations: NA\n"
     ]
    },
    {
     "name": "stderr",
     "output_type": "stream",
     "text": [
      "\r",
      "Generating responses:  94%|█████████▎| 935/1000 [1:01:49<03:10,  2.93s/it]"
     ]
    },
    {
     "name": "stdout",
     "output_type": "stream",
     "text": [
      "org: Stubbs Contracting\n",
      "country: NA\n",
      "state: NA\n",
      "city: NA\n",
      "industry: Forestry\n",
      "risks: Rising costs; Slim margins; Falling export log prices\n",
      "items_sold: NA\n",
      "service_provided: NA\n",
      "business_relations: NA\n"
     ]
    },
    {
     "name": "stderr",
     "output_type": "stream",
     "text": [
      "\r",
      "Generating responses:  94%|█████████▎| 936/1000 [1:01:54<03:39,  3.43s/it]"
     ]
    },
    {
     "name": "stdout",
     "output_type": "stream",
     "text": [
      "org: Huntsman Corporation\n",
      "country: NA\n",
      "state: NA\n",
      "city: NA\n",
      "industry: Basic Materials\n",
      "risks: NA\n",
      "items_sold: NA\n",
      "service_provided: NA\n",
      "business_relations: NA\n"
     ]
    },
    {
     "name": "stderr",
     "output_type": "stream",
     "text": [
      "\r",
      "Generating responses:  94%|█████████▎| 937/1000 [1:01:57<03:38,  3.46s/it]"
     ]
    },
    {
     "name": "stdout",
     "output_type": "stream",
     "text": [
      "org: Amphenol Corporation\n",
      "country: NA\n",
      "state: NA\n",
      "city: NA\n",
      "industry: Electronic Components\n",
      "risks: NA\n",
      "items_sold: NA\n",
      "service_provided: NA\n",
      "business_relations: NA\n"
     ]
    },
    {
     "name": "stderr",
     "output_type": "stream",
     "text": [
      "\r",
      "Generating responses:  94%|█████████▍| 938/1000 [1:02:01<03:34,  3.47s/it]"
     ]
    },
    {
     "name": "stdout",
     "output_type": "stream",
     "text": [
      "org: NA\n"
     ]
    },
    {
     "name": "stderr",
     "output_type": "stream",
     "text": [
      "\r",
      "Generating responses:  94%|█████████▍| 939/1000 [1:02:03<02:59,  2.95s/it]"
     ]
    },
    {
     "name": "stdout",
     "output_type": "stream",
     "text": [
      "org: Cornhusker Kitchen\n",
      "country: USA\n",
      "state: NA\n",
      "city: NA\n",
      "industry: Food\n",
      "risks: NA\n",
      "items_sold: Duck Fat Spray\n",
      "service_provided: NA\n",
      "business_relations: NA\n"
     ]
    },
    {
     "name": "stderr",
     "output_type": "stream",
     "text": [
      "\r",
      "Generating responses:  94%|█████████▍| 940/1000 [1:02:06<03:01,  3.03s/it]"
     ]
    },
    {
     "name": "stdout",
     "output_type": "stream",
     "text": [
      "org: National Association of Animal Breeders (NAAB)\n",
      "country: NA\n",
      "state: NA\n",
      "city: NA\n",
      "industry: Agriculture\n",
      "risks: NA\n",
      "items_sold: beef units, beef semen\n",
      "service_provided: animal breeding services\n",
      "business_relations: A.I. companies\n"
     ]
    },
    {
     "name": "stderr",
     "output_type": "stream",
     "text": [
      "\r",
      "Generating responses:  94%|█████████▍| 941/1000 [1:02:10<03:26,  3.50s/it]"
     ]
    },
    {
     "name": "stdout",
     "output_type": "stream",
     "text": [
      "org: Workhorse Group Inc.\n",
      "country: NA\n",
      "state: NA\n",
      "city: NA\n",
      "industry: Auto Manufacturers\n",
      "risks: NA\n",
      "items_sold: NA\n",
      "service_provided: NA\n",
      "business_relations: NA\n"
     ]
    },
    {
     "name": "stderr",
     "output_type": "stream",
     "text": [
      "\r",
      "Generating responses:  94%|█████████▍| 942/1000 [1:02:14<03:29,  3.61s/it]"
     ]
    },
    {
     "name": "stdout",
     "output_type": "stream",
     "text": [
      "org: Waste Management, Inc.\n",
      "country: NA\n",
      "state: NA\n",
      "city: NA\n",
      "industry: waste management environmental services\n",
      "risks: NA\n",
      "items_sold: NA\n",
      "service_provided: waste management environmental services\n",
      "business_relations: NA\n"
     ]
    },
    {
     "name": "stderr",
     "output_type": "stream",
     "text": [
      "\r",
      "Generating responses:  94%|█████████▍| 943/1000 [1:02:19<03:35,  3.79s/it]"
     ]
    },
    {
     "name": "stdout",
     "output_type": "stream",
     "text": [
      "org: VIQ Solutions Inc.\n",
      "country: NA\n",
      "state: NA\n",
      "city: NA\n",
      "industry: Technology\n",
      "risks: NA\n",
      "items_sold: NA\n",
      "service_provided: NA\n",
      "business_relations: NA\n"
     ]
    },
    {
     "name": "stderr",
     "output_type": "stream",
     "text": [
      "\r",
      "Generating responses:  94%|█████████▍| 944/1000 [1:02:23<03:36,  3.87s/it]"
     ]
    },
    {
     "name": "stdout",
     "output_type": "stream",
     "text": [
      "org: NA\n"
     ]
    },
    {
     "name": "stderr",
     "output_type": "stream",
     "text": [
      "\r",
      "Generating responses:  94%|█████████▍| 945/1000 [1:02:24<02:56,  3.22s/it]"
     ]
    },
    {
     "name": "stdout",
     "output_type": "stream",
     "text": [
      "org: Hope Gas\n",
      "country: USA\n",
      "state: West Virginia\n",
      "city: Morgantown\n",
      "industry: Energy\n",
      "risks: NA\n",
      "items_sold: NA\n",
      "service_provided: NA\n",
      "business_relations: Equitrans Midstream Corporation\n"
     ]
    },
    {
     "name": "stderr",
     "output_type": "stream",
     "text": [
      "\r",
      "Generating responses:  95%|█████████▍| 946/1000 [1:02:29<03:19,  3.69s/it]"
     ]
    },
    {
     "name": "stdout",
     "output_type": "stream",
     "text": [
      "org: NA\n"
     ]
    },
    {
     "name": "stderr",
     "output_type": "stream",
     "text": [
      "\r",
      "Generating responses:  95%|█████████▍| 947/1000 [1:02:30<02:39,  3.01s/it]"
     ]
    },
    {
     "name": "stdout",
     "output_type": "stream",
     "text": [
      "org: Solari Crisis and Human Services\n",
      "country: NA\n",
      "state: Arizona\n",
      "city: NA\n",
      "industry: Crisis and Human Services\n",
      "risks: None mentioned\n",
      "items_sold: None mentioned\n",
      "service_provided: Crisis and Human Services\n",
      "business_relations: None mentioned\n"
     ]
    },
    {
     "name": "stderr",
     "output_type": "stream",
     "text": [
      "\r",
      "Generating responses:  95%|█████████▍| 948/1000 [1:02:35<02:55,  3.37s/it]"
     ]
    },
    {
     "name": "stdout",
     "output_type": "stream",
     "text": [
      "org: Nordstrom\n",
      "country: NA\n",
      "state: NA\n",
      "city: NA\n",
      "industry: Retail\n",
      "risks: Declining sales; Unsold inventory; Higher markdowns; Higher costs of freight\n",
      "items_sold: Clothing and accessories\n",
      "service_provided: Personal styling service (discontinued)\n",
      "business_relations: NA\n"
     ]
    },
    {
     "name": "stderr",
     "output_type": "stream",
     "text": [
      "\r",
      "Generating responses:  95%|█████████▍| 949/1000 [1:02:39<03:00,  3.55s/it]"
     ]
    },
    {
     "name": "stdout",
     "output_type": "stream",
     "text": [
      "org: OneMain Financial\n",
      "country: NA\n",
      "state: NA\n",
      "city: NA\n",
      "industry: Mortgage lending and servicing\n",
      "risks: Deceptive sales practices; Withholding refunds; Upselling products\n",
      "items_sold: NA\n",
      "service_provided: Mortgage lending and servicing; Roadside assistance; Unemployment coverage; Identity theft coverage\n",
      "business_relations: NA\n"
     ]
    },
    {
     "name": "stderr",
     "output_type": "stream",
     "text": [
      "\r",
      "Generating responses:  95%|█████████▌| 950/1000 [1:02:43<03:15,  3.92s/it]"
     ]
    },
    {
     "name": "stdout",
     "output_type": "stream",
     "text": [
      "org: Workday\n",
      "country: NA\n",
      "state: NA\n",
      "city: NA\n",
      "industry: Enterprise cloud applications for finance and human resources\n",
      "risks: NA\n",
      "items_sold: NA\n",
      "service_provided: Financial management, human resources, planning, spend management, and analytics\n",
      "business_relations: NA\n"
     ]
    },
    {
     "name": "stderr",
     "output_type": "stream",
     "text": [
      "\r",
      "Generating responses:  95%|█████████▌| 951/1000 [1:02:49<03:28,  4.26s/it]"
     ]
    },
    {
     "name": "stdout",
     "output_type": "stream",
     "text": [
      "org: Williams-Sonoma Inc.\n",
      "country: NA\n",
      "state: NA\n",
      "city: San Francisco\n",
      "industry: home goods retail\n",
      "risks: fraud; financial loss\n",
      "items_sold: NA\n",
      "service_provided: NA\n",
      "business_relations: third-party logistics company; commercial real estate brokers; landlords\n"
     ]
    },
    {
     "name": "stderr",
     "output_type": "stream",
     "text": [
      "\r",
      "Generating responses:  95%|█████████▌| 952/1000 [1:02:53<03:26,  4.31s/it]"
     ]
    },
    {
     "name": "stdout",
     "output_type": "stream",
     "text": [
      "org: RoofTec Precision Exteriors\n",
      "country: United States\n",
      "state: Colorado\n",
      "city: Arvada\n",
      "industry: Roofing\n",
      "risks: Hail damage\n",
      "items_sold: NA\n",
      "service_provided: Roof replacement, roof repair, and roof maintenance for commercial and residential buildings\n",
      "business_relations: NA\n"
     ]
    },
    {
     "name": "stderr",
     "output_type": "stream",
     "text": [
      "\r",
      "Generating responses:  95%|█████████▌| 953/1000 [1:02:57<03:25,  4.38s/it]"
     ]
    },
    {
     "name": "stdout",
     "output_type": "stream",
     "text": [
      "org: ResearchAndMarkets.com\n",
      "country: NA\n",
      "state: NA\n",
      "city: NA\n",
      "industry: market research\n",
      "risks: NA\n",
      "items_sold: market research reports and market data\n",
      "service_provided: NA\n",
      "business_relations: NA\n"
     ]
    },
    {
     "name": "stderr",
     "output_type": "stream",
     "text": [
      "\r",
      "Generating responses:  95%|█████████▌| 954/1000 [1:03:01<03:10,  4.14s/it]"
     ]
    },
    {
     "name": "stdout",
     "output_type": "stream",
     "text": [
      "org: Shutterstock Inc.\n",
      "country: NA\n",
      "state: NA\n",
      "city: NA\n",
      "industry: Internet Content & Information\n",
      "risks: NA\n",
      "items_sold: NA\n",
      "service_provided: NA\n",
      "business_relations: NA\n"
     ]
    },
    {
     "name": "stderr",
     "output_type": "stream",
     "text": [
      "\r",
      "Generating responses:  96%|█████████▌| 955/1000 [1:03:05<03:02,  4.05s/it]"
     ]
    },
    {
     "name": "stdout",
     "output_type": "stream",
     "text": [
      "org: ResearchAndMarkets.com\n",
      "country: NA\n",
      "state: NA\n",
      "city: Dublin\n",
      "industry: Market research\n",
      "risks: NA\n",
      "items_sold: Market research reports and market data\n",
      "service_provided: International market research reports and market data\n",
      "business_relations: NA\n"
     ]
    },
    {
     "name": "stderr",
     "output_type": "stream",
     "text": [
      "\r",
      "Generating responses:  96%|█████████▌| 956/1000 [1:03:09<03:00,  4.10s/it]"
     ]
    },
    {
     "name": "stdout",
     "output_type": "stream",
     "text": [
      "org: ResearchAndMarkets.com\n",
      "country: NA\n",
      "state: NA\n",
      "city: Dublin\n",
      "industry: Healthcare\n",
      "risks: Employee burnout; Lack of personalized care; Cost pressures and resource constraints\n",
      "items_sold: NA\n",
      "service_provided: Contact center solutions\n",
      "business_relations: Customer Experience (CX) Client Council; Healthcare Industry Research Practice; Contact Center MindXchanges; Key contact center solutions providers\n"
     ]
    },
    {
     "name": "stderr",
     "output_type": "stream",
     "text": [
      "\r",
      "Generating responses:  96%|█████████▌| 957/1000 [1:03:15<03:20,  4.66s/it]"
     ]
    },
    {
     "name": "stdout",
     "output_type": "stream",
     "text": [
      "org: Target Corp.\n",
      "country: NA\n",
      "state: NA\n",
      "city: NA\n",
      "industry: Retail\n",
      "risks: Competition; Economic downturn\n",
      "items_sold: Various consumer goods\n",
      "service_provided: Retail services\n",
      "business_relations: Walmart Inc.\n"
     ]
    },
    {
     "name": "stderr",
     "output_type": "stream",
     "text": [
      "\r",
      "Generating responses:  96%|█████████▌| 958/1000 [1:03:19<03:08,  4.50s/it]"
     ]
    },
    {
     "name": "stdout",
     "output_type": "stream",
     "text": [
      "NA\n"
     ]
    },
    {
     "name": "stderr",
     "output_type": "stream",
     "text": [
      "\r",
      "Generating responses:  96%|█████████▌| 959/1000 [1:03:21<02:35,  3.78s/it]"
     ]
    },
    {
     "name": "stdout",
     "output_type": "stream",
     "text": [
      "org: VIZIO Holding Corp.\n",
      "country: NA\n",
      "state: NA\n",
      "city: NA\n",
      "industry: Consumer Electronics\n",
      "risks: NA\n",
      "items_sold: NA\n",
      "service_provided: NA\n",
      "business_relations: NA\n"
     ]
    },
    {
     "name": "stderr",
     "output_type": "stream",
     "text": [
      "\r",
      "Generating responses:  96%|█████████▌| 960/1000 [1:03:26<02:38,  3.95s/it]"
     ]
    },
    {
     "name": "stdout",
     "output_type": "stream",
     "text": [
      "org: Nvidia\n",
      "country: NA\n",
      "state: NA\n",
      "city: NA\n",
      "industry: Technology\n",
      "risks: Competition; Dependence; Cyclical demand\n",
      "items_sold: Graphics processing units; Chipsets; System on a chip products\n",
      "service_provided: NA\n",
      "business_relations: Partners with Microsoft; Partners with Intel; Partners with IBM\n"
     ]
    },
    {
     "name": "stderr",
     "output_type": "stream",
     "text": [
      "\r",
      "Generating responses:  96%|█████████▌| 961/1000 [1:03:30<02:34,  3.95s/it]"
     ]
    },
    {
     "name": "stdout",
     "output_type": "stream",
     "text": [
      "org: KPMG Canada\n",
      "country: Canada\n",
      "state: NA\n",
      "city: NA\n",
      "industry: Professional services\n",
      "risks: Data encryption breach; Vulnerabilities assessment; Investment delay\n",
      "items_sold: NA\n",
      "service_provided: NA\n",
      "business_relations: IBM (alliance partner)\n"
     ]
    },
    {
     "name": "stderr",
     "output_type": "stream",
     "text": [
      "\r",
      "Generating responses:  96%|█████████▌| 962/1000 [1:03:34<02:34,  4.07s/it]"
     ]
    },
    {
     "name": "stdout",
     "output_type": "stream",
     "text": [
      "org: NA\n"
     ]
    },
    {
     "name": "stderr",
     "output_type": "stream",
     "text": [
      "\r",
      "Generating responses:  96%|█████████▋| 963/1000 [1:03:36<02:03,  3.33s/it]"
     ]
    },
    {
     "name": "stdout",
     "output_type": "stream",
     "text": [
      "org: Hong Kong Insurance Authority (IA)\n",
      "country: Hong Kong\n",
      "state: NA\n",
      "city: NA\n",
      "industry: Insurance\n",
      "risks: NA\n",
      "items_sold: NA\n",
      "service_provided: NA\n",
      "business_relations: NA\n"
     ]
    },
    {
     "name": "stderr",
     "output_type": "stream",
     "text": [
      "\r",
      "Generating responses:  96%|█████████▋| 964/1000 [1:03:39<02:06,  3.51s/it]"
     ]
    },
    {
     "name": "stdout",
     "output_type": "stream",
     "text": [
      "org: Campbell Soup Company\n",
      "country: NA\n",
      "state: NA\n",
      "city: NA\n",
      "industry: canned soup products\n",
      "risks: NA\n",
      "items_sold: canned soup products\n",
      "service_provided: NA\n",
      "business_relations: Flagstone Foods\n"
     ]
    },
    {
     "name": "stderr",
     "output_type": "stream",
     "text": [
      "\r",
      "Generating responses:  96%|█████████▋| 965/1000 [1:03:43<02:00,  3.45s/it]"
     ]
    },
    {
     "name": "stdout",
     "output_type": "stream",
     "text": [
      "org: Nicokick\n",
      "country: NA\n",
      "state: NA\n",
      "city: NA\n",
      "industry: smokeless industry\n",
      "risks: NA\n",
      "items_sold: pouches; lozenges; gum\n",
      "service_provided: smokeless tobacco products\n",
      "business_relations: the Haypp Group\n"
     ]
    },
    {
     "name": "stderr",
     "output_type": "stream",
     "text": [
      "\r",
      "Generating responses:  97%|█████████▋| 966/1000 [1:03:46<01:59,  3.52s/it]"
     ]
    },
    {
     "name": "stdout",
     "output_type": "stream",
     "text": [
      "org: Costco\n",
      "country: NA\n",
      "state: NA\n",
      "city: NA\n",
      "industry: Retail\n",
      "risks: NA\n",
      "items_sold: Various products including groceries, electronics, and clothing\n",
      "service_provided: Membership-based warehouse club retail\n",
      "business_relations: NA\n"
     ]
    },
    {
     "name": "stderr",
     "output_type": "stream",
     "text": [
      "\r",
      "Generating responses:  97%|█████████▋| 967/1000 [1:03:50<01:54,  3.48s/it]"
     ]
    },
    {
     "name": "stdout",
     "output_type": "stream",
     "text": [
      "NA\n"
     ]
    },
    {
     "name": "stderr",
     "output_type": "stream",
     "text": [
      "\r",
      "Generating responses:  97%|█████████▋| 968/1000 [1:03:52<01:34,  2.95s/it]"
     ]
    },
    {
     "name": "stdout",
     "output_type": "stream",
     "text": [
      "org: Waste Management, Inc.\n",
      "country: NA\n",
      "state: NA\n",
      "city: NA\n",
      "industry: waste management environmental services\n",
      "risks: NA\n",
      "items_sold: NA\n",
      "service_provided: NA\n",
      "business_relations: NA\n"
     ]
    },
    {
     "name": "stderr",
     "output_type": "stream",
     "text": [
      "\r",
      "Generating responses:  97%|█████████▋| 969/1000 [1:03:56<01:41,  3.26s/it]"
     ]
    },
    {
     "name": "stdout",
     "output_type": "stream",
     "text": [
      "org: TalkCounsel\n",
      "country: Nigeria\n",
      "state: NA\n",
      "city: NA\n",
      "industry: Legal Services\n",
      "risks: NA\n",
      "items_sold: NA\n",
      "service_provided: Legal Services\n",
      "business_relations: NA\n"
     ]
    },
    {
     "name": "stderr",
     "output_type": "stream",
     "text": [
      "\r",
      "Generating responses:  97%|█████████▋| 970/1000 [1:03:59<01:40,  3.36s/it]"
     ]
    },
    {
     "name": "stdout",
     "output_type": "stream",
     "text": [
      "org: TIAA\n",
      "country: NA\n",
      "state: NA\n",
      "city: NA\n",
      "industry: Financial services\n",
      "risks: inaccuracies; oversimplification; misleading information\n",
      "items_sold: NA\n",
      "service_provided: NA\n",
      "business_relations: NA\n"
     ]
    },
    {
     "name": "stderr",
     "output_type": "stream",
     "text": [
      "\r",
      "Generating responses:  97%|█████████▋| 971/1000 [1:04:04<01:48,  3.74s/it]"
     ]
    },
    {
     "name": "stdout",
     "output_type": "stream",
     "text": [
      "org: Rosenberg Research\n",
      "country: NA\n",
      "state: NA\n",
      "city: NA\n",
      "industry: Financial research\n",
      "risks: Economic recession; deflation; stock market bubble\n",
      "items_sold: NA\n",
      "service_provided: Financial research and analysis\n",
      "business_relations: NA\n"
     ]
    },
    {
     "name": "stderr",
     "output_type": "stream",
     "text": [
      "\r",
      "Generating responses:  97%|█████████▋| 972/1000 [1:04:07<01:42,  3.67s/it]"
     ]
    },
    {
     "name": "stdout",
     "output_type": "stream",
     "text": [
      "org: Flashfood\n",
      "country: Canada\n",
      "state: Ontario\n",
      "city: Toronto\n",
      "industry: e-commerce, grocery, retail\n",
      "risks: food waste; competition\n",
      "items_sold: meat, fruit, vegetables, and other discounted food items\n",
      "service_provided: connecting consumers with discounted, soon-to-be spoiled food\n",
      "business_relations: Loblaw (partner grocery store)\n"
     ]
    },
    {
     "name": "stderr",
     "output_type": "stream",
     "text": [
      "\r",
      "Generating responses:  97%|█████████▋| 973/1000 [1:04:12<01:51,  4.12s/it]"
     ]
    },
    {
     "name": "stdout",
     "output_type": "stream",
     "text": [
      "org: KPMG Canada\n",
      "country: Canada\n",
      "state: NA\n",
      "city: NA\n",
      "industry: Professional services\n",
      "risks: data encryption breach; vulnerability assessment; investment delay\n",
      "items_sold: NA\n",
      "service_provided: NA\n",
      "business_relations: IBM (alliance partner)\n"
     ]
    },
    {
     "name": "stderr",
     "output_type": "stream",
     "text": [
      "\r",
      "Generating responses:  97%|█████████▋| 974/1000 [1:04:17<01:50,  4.25s/it]"
     ]
    },
    {
     "name": "stdout",
     "output_type": "stream",
     "text": [
      "org: OneMain Financial\n",
      "country: NA\n",
      "state: NA\n",
      "city: Evansville\n",
      "industry: Personal installment lending\n",
      "risks: Deceptive sales practices; Illegal withholding of refunds\n",
      "items_sold: NA\n",
      "service_provided: NA\n",
      "business_relations: NA\n"
     ]
    },
    {
     "name": "stderr",
     "output_type": "stream",
     "text": [
      "\r",
      "Generating responses:  98%|█████████▊| 975/1000 [1:04:21<01:41,  4.08s/it]"
     ]
    },
    {
     "name": "stdout",
     "output_type": "stream",
     "text": [
      "org: Burberry\n",
      "country: Not Applicable\n",
      "state: Not Applicable\n",
      "city: Hong Kong\n",
      "industry: Luxury fashion\n",
      "risks: NA\n",
      "items_sold: Luxury clothing, accessories, and cosmetics\n",
      "service_provided: NA\n",
      "business_relations: NA\n"
     ]
    },
    {
     "name": "stderr",
     "output_type": "stream",
     "text": [
      "\r",
      "Generating responses:  98%|█████████▊| 976/1000 [1:04:24<01:34,  3.96s/it]"
     ]
    },
    {
     "name": "stdout",
     "output_type": "stream",
     "text": [
      "org: Asocamen (Association of Producers, Packers, and Exporters of Garlic, Onions, and Similar Products from Mendoza)\n",
      "country: NA\n",
      "state: Mendoza\n",
      "city: NA\n",
      "industry: Agriculture\n",
      "risks: Unfair competition; Smuggling\n",
      "items_sold: Garlic\n",
      "service_provided: NA\n",
      "business_relations: NA\n"
     ]
    },
    {
     "name": "stderr",
     "output_type": "stream",
     "text": [
      "\r",
      "Generating responses:  98%|█████████▊| 977/1000 [1:04:29<01:37,  4.25s/it]"
     ]
    },
    {
     "name": "stdout",
     "output_type": "stream",
     "text": [
      "org: inSeption Group\n",
      "country: NA\n",
      "state: NA\n",
      "city: NA\n",
      "industry: NA\n",
      "risks: NA\n",
      "items_sold: NA\n",
      "service_provided: cooperativity program; medical writing; regulatory operations; quality control\n",
      "business_relations: NA\n"
     ]
    },
    {
     "name": "stderr",
     "output_type": "stream",
     "text": [
      "\r",
      "Generating responses:  98%|█████████▊| 978/1000 [1:04:34<01:33,  4.24s/it]"
     ]
    },
    {
     "name": "stdout",
     "output_type": "stream",
     "text": [
      "org: NA\n"
     ]
    },
    {
     "name": "stderr",
     "output_type": "stream",
     "text": [
      "\r",
      "Generating responses:  98%|█████████▊| 979/1000 [1:04:35<01:10,  3.36s/it]"
     ]
    },
    {
     "name": "stdout",
     "output_type": "stream",
     "text": [
      "org: China Real Estate Information Corp\n",
      "country: China\n",
      "state: NA\n",
      "city: NA\n",
      "industry: Real estate\n",
      "risks: NA\n",
      "items_sold: NA\n",
      "service_provided: NA\n",
      "business_relations: NA\n"
     ]
    },
    {
     "name": "stderr",
     "output_type": "stream",
     "text": [
      "\r",
      "Generating responses:  98%|█████████▊| 980/1000 [1:04:38<01:05,  3.28s/it]"
     ]
    },
    {
     "name": "stdout",
     "output_type": "stream",
     "text": [
      "org: Darn Tough Vermont®\n",
      "country: NA\n",
      "state: Vermont\n",
      "city: Northfield and Waterbury\n",
      "industry: Sock manufacturing\n",
      "risks: NA\n",
      "items_sold: Socks\n",
      "service_provided: NA\n",
      "business_relations: NA\n"
     ]
    },
    {
     "name": "stderr",
     "output_type": "stream",
     "text": [
      "\r",
      "Generating responses:  98%|█████████▊| 981/1000 [1:04:42<01:07,  3.53s/it]"
     ]
    },
    {
     "name": "stdout",
     "output_type": "stream",
     "text": [
      "org: Hello Seven\n",
      "country: NA\n",
      "state: NA\n",
      "city: NA\n",
      "industry: Business coaching\n",
      "risks: NA\n",
      "items_sold: NA\n",
      "service_provided: NA\n",
      "business_relations: NA\n"
     ]
    },
    {
     "name": "stderr",
     "output_type": "stream",
     "text": [
      "\r",
      "Generating responses:  98%|█████████▊| 982/1000 [1:04:45<01:03,  3.51s/it]"
     ]
    },
    {
     "name": "stdout",
     "output_type": "stream",
     "text": [
      "org: NA\n"
     ]
    },
    {
     "name": "stderr",
     "output_type": "stream",
     "text": [
      "\r",
      "Generating responses:  98%|█████████▊| 983/1000 [1:04:48<00:56,  3.30s/it]"
     ]
    },
    {
     "name": "stdout",
     "output_type": "stream",
     "text": [
      "org: WhatsApp for Business\n",
      "country: NA\n",
      "state: NA\n",
      "city: NA\n",
      "industry: Communication Technology\n",
      "risks: Increased Marketing Costs; Loss of Customers; Reduced Conversations\n",
      "items_sold: NA\n",
      "service_provided: Business Messaging\n",
      "business_relations: Meta (owner)\n"
     ]
    },
    {
     "name": "stderr",
     "output_type": "stream",
     "text": [
      "\r",
      "Generating responses:  98%|█████████▊| 984/1000 [1:04:52<00:56,  3.51s/it]"
     ]
    },
    {
     "name": "stdout",
     "output_type": "stream",
     "text": [
      "org: Halls Creek IGA\n",
      "country: NA\n",
      "state: Western Australia\n",
      "city: Halls Creek\n",
      "industry: Supermarket\n",
      "risks: NA\n",
      "items_sold: groceries\n",
      "service_provided: NA\n",
      "business_relations: Coles Kununurra\n"
     ]
    },
    {
     "name": "stderr",
     "output_type": "stream",
     "text": [
      "\r",
      "Generating responses:  98%|█████████▊| 985/1000 [1:04:56<00:53,  3.57s/it]"
     ]
    },
    {
     "name": "stdout",
     "output_type": "stream",
     "text": [
      "org: Signature Bank\n",
      "country: United States\n",
      "state: New York\n",
      "city: NA\n",
      "industry: Banking\n",
      "risks: Regulatory; Cybersecurity; Market Volatility\n",
      "items_sold: NA\n",
      "service_provided: Banking services\n",
      "business_relations: NA\n"
     ]
    },
    {
     "name": "stderr",
     "output_type": "stream",
     "text": [
      "\r",
      "Generating responses:  99%|█████████▊| 986/1000 [1:05:00<00:50,  3.61s/it]"
     ]
    },
    {
     "name": "stdout",
     "output_type": "stream",
     "text": [
      "org: NA\n"
     ]
    },
    {
     "name": "stderr",
     "output_type": "stream",
     "text": [
      "\r",
      "Generating responses:  99%|█████████▊| 987/1000 [1:05:01<00:38,  2.94s/it]"
     ]
    },
    {
     "name": "stdout",
     "output_type": "stream",
     "text": [
      "org: MEYLE\n",
      "country: NA\n",
      "state: NA\n",
      "city: NA\n",
      "industry: Automotive parts\n",
      "risks: NA\n",
      "items_sold: ABS sensor kits\n",
      "service_provided: NA\n",
      "business_relations: NA\n"
     ]
    },
    {
     "name": "stderr",
     "output_type": "stream",
     "text": [
      "\r",
      "Generating responses:  99%|█████████▉| 988/1000 [1:05:06<00:41,  3.43s/it]"
     ]
    },
    {
     "name": "stdout",
     "output_type": "stream",
     "text": [
      "org: Samsung; SK hynix; Micron\n",
      "country: South Korea; US\n",
      "state: NA\n",
      "city: NA\n",
      "industry: Semiconductor\n",
      "risks: Oversupply; Declining demand; Cyclical market\n",
      "items_sold: DRAM; NAND flash\n",
      "service_provided: NA\n",
      "business_relations: NA\n"
     ]
    },
    {
     "name": "stderr",
     "output_type": "stream",
     "text": [
      "\r",
      "Generating responses:  99%|█████████▉| 989/1000 [1:05:11<00:43,  3.95s/it]"
     ]
    },
    {
     "name": "stdout",
     "output_type": "stream",
     "text": [
      "org: Food Bank of Lincoln\n",
      "country: NA\n",
      "state: Nebraska\n",
      "city: Lincoln\n",
      "industry: Non-profit\n",
      "risks: Hunger\n",
      "items_sold: NA\n",
      "service_provided: Providing meals for neighbors facing hunger in Southeast Nebraska\n",
      "business_relations: Center for People in Need, 38 community organizations, foundations and corporations\n"
     ]
    },
    {
     "name": "stderr",
     "output_type": "stream",
     "text": [
      "\r",
      "Generating responses:  99%|█████████▉| 990/1000 [1:05:15<00:39,  3.95s/it]"
     ]
    },
    {
     "name": "stdout",
     "output_type": "stream",
     "text": [
      "org: Apple\n",
      "country: NA\n",
      "state: NA\n",
      "city: NA\n",
      "industry: Technology\n",
      "risks: Antitrust; Regulatory; Competition\n",
      "items_sold: NA\n",
      "service_provided: NA\n",
      "business_relations: NA\n"
     ]
    },
    {
     "name": "stderr",
     "output_type": "stream",
     "text": [
      "\r",
      "Generating responses:  99%|█████████▉| 991/1000 [1:05:18<00:34,  3.83s/it]"
     ]
    },
    {
     "name": "stdout",
     "output_type": "stream",
     "text": [
      "org: Builders FirstSource Inc.\n",
      "country: NA\n",
      "state: NA\n",
      "city: NA\n",
      "industry: Building Products & Equipment\n",
      "risks: NA\n",
      "items_sold: NA\n",
      "service_provided: NA\n",
      "business_relations: NA\n"
     ]
    },
    {
     "name": "stderr",
     "output_type": "stream",
     "text": [
      "\r",
      "Generating responses:  99%|█████████▉| 992/1000 [1:05:23<00:31,  3.94s/it]"
     ]
    },
    {
     "name": "stdout",
     "output_type": "stream",
     "text": [
      "org: Bitfarms Ltd.\n",
      "country: NA\n",
      "state: NA\n",
      "city: NA\n",
      "industry: Financial sector\n",
      "risks: NA\n",
      "items_sold: NA\n",
      "service_provided: NA\n",
      "business_relations: NA\n"
     ]
    },
    {
     "name": "stderr",
     "output_type": "stream",
     "text": [
      "\r",
      "Generating responses:  99%|█████████▉| 993/1000 [1:05:25<00:25,  3.65s/it]"
     ]
    },
    {
     "name": "stdout",
     "output_type": "stream",
     "text": [
      "org: Ambarella\n",
      "country: NA\n",
      "state: NA\n",
      "city: NA\n",
      "industry: Semiconductor\n",
      "risks: Competition; Market demand; Technological changes\n",
      "items_sold: Specialized semiconductor chips\n",
      "service_provided: NA\n",
      "business_relations: NA\n"
     ]
    },
    {
     "name": "stderr",
     "output_type": "stream",
     "text": [
      "\r",
      "Generating responses:  99%|█████████▉| 994/1000 [1:05:29<00:21,  3.51s/it]"
     ]
    },
    {
     "name": "stdout",
     "output_type": "stream",
     "text": [
      "org: Innovid Corp.\n",
      "country: NA\n",
      "state: NA\n",
      "city: NA\n",
      "industry: NA\n",
      "risks: NA\n",
      "items_sold: NA\n",
      "service_provided: NA\n",
      "business_relations: NA\n"
     ]
    },
    {
     "name": "stderr",
     "output_type": "stream",
     "text": [
      "\r",
      "Generating responses: 100%|█████████▉| 995/1000 [1:05:32<00:17,  3.55s/it]"
     ]
    },
    {
     "name": "stdout",
     "output_type": "stream",
     "text": [
      "org: JPMorgan Chase\n",
      "country: China\n",
      "state: NA\n",
      "city: NA\n",
      "industry: Banking\n",
      "risks: Regulatory; Political; Economic\n",
      "items_sold: NA\n",
      "service_provided: Banking services\n",
      "business_relations: NA\n"
     ]
    },
    {
     "name": "stderr",
     "output_type": "stream",
     "text": [
      "\r",
      "Generating responses: 100%|█████████▉| 996/1000 [1:05:36<00:14,  3.62s/it]"
     ]
    },
    {
     "name": "stdout",
     "output_type": "stream",
     "text": [
      "org: Stori\n",
      "country: Mexico\n",
      "state: NA\n",
      "city: NA\n",
      "industry: Fintech\n",
      "risks: NA\n",
      "items_sold: Credit cards\n",
      "service_provided: Financial inclusion services\n",
      "business_relations: Community Investment Management\n"
     ]
    },
    {
     "name": "stderr",
     "output_type": "stream",
     "text": [
      "\r",
      "Generating responses: 100%|█████████▉| 997/1000 [1:05:40<00:11,  3.67s/it]"
     ]
    },
    {
     "name": "stdout",
     "output_type": "stream",
     "text": [
      "org: ZET public transport company\n",
      "country: NA\n",
      "state: NA\n",
      "city: Zagreb\n",
      "industry: Public transport\n",
      "risks: Low wages; Poor working conditions; State of vehicles\n",
      "items_sold: NA\n",
      "service_provided: Public transport services\n",
      "business_relations: NA\n"
     ]
    },
    {
     "name": "stderr",
     "output_type": "stream",
     "text": [
      "\r",
      "Generating responses: 100%|█████████▉| 998/1000 [1:05:44<00:07,  3.84s/it]"
     ]
    },
    {
     "name": "stdout",
     "output_type": "stream",
     "text": [
      "org: Code and Theory\n",
      "country: NA\n",
      "state: NA\n",
      "city: NA\n",
      "industry: Design and Digital Transformation\n",
      "risks: Status Quo Bias; Risk Avoidance; Hyperbolic Discounting\n",
      "items_sold: NA\n",
      "service_provided: Design Transformation services\n",
      "business_relations: McKinsey, large global investment management firm, large financial institution, auditing firm, one of the largest manufacturers of PCs and mobile devices\n"
     ]
    },
    {
     "name": "stderr",
     "output_type": "stream",
     "text": [
      "\r",
      "Generating responses: 100%|█████████▉| 999/1000 [1:05:50<00:04,  4.39s/it]"
     ]
    },
    {
     "name": "stdout",
     "output_type": "stream",
     "text": [
      "org: Toyota\n",
      "country: NA\n",
      "state: NA\n",
      "city: NA\n",
      "industry: Automotive\n",
      "risks: Data leak; Cybersecurity threats\n",
      "items_sold: Cars and automotive products\n",
      "service_provided: Automotive services\n",
      "business_relations: NA\n"
     ]
    },
    {
     "name": "stderr",
     "output_type": "stream",
     "text": [
      "Generating responses: 100%|██████████| 1000/1000 [1:05:53<00:00,  3.95s/it]\n"
     ]
    }
   ],
   "source": [
    "generate_responses(aylien_5k_input)"
   ]
  },
  {
   "cell_type": "code",
   "execution_count": 32,
   "id": "55a01874",
   "metadata": {
    "scrolled": true
   },
   "outputs": [
    {
     "name": "stdout",
     "output_type": "stream",
     "text": [
      "5000\n"
     ]
    },
    {
     "data": {
      "text/html": [
       "<div>\n",
       "<style scoped>\n",
       "    .dataframe tbody tr th:only-of-type {\n",
       "        vertical-align: middle;\n",
       "    }\n",
       "\n",
       "    .dataframe tbody tr th {\n",
       "        vertical-align: top;\n",
       "    }\n",
       "\n",
       "    .dataframe thead th {\n",
       "        text-align: right;\n",
       "    }\n",
       "</style>\n",
       "<table border=\"1\" class=\"dataframe\">\n",
       "  <thead>\n",
       "    <tr style=\"text-align: right;\">\n",
       "      <th></th>\n",
       "      <th>article_id</th>\n",
       "      <th>title</th>\n",
       "      <th>published_at</th>\n",
       "      <th>source</th>\n",
       "      <th>body</th>\n",
       "      <th>prompt</th>\n",
       "      <th>token_count</th>\n",
       "      <th>responses</th>\n",
       "    </tr>\n",
       "  </thead>\n",
       "  <tbody>\n",
       "    <tr>\n",
       "      <th>0</th>\n",
       "      <td>5709294677</td>\n",
       "      <td>: Nike stock jumps to lead the Dow's premarket...</td>\n",
       "      <td>02-June-2023</td>\n",
       "      <td>Finanzen.ch</td>\n",
       "      <td>Nike  96.41 CHF -1.99%  Charts  News  Analysen...</td>\n",
       "      <td>For the main organisation discussed in this ar...</td>\n",
       "      <td>491</td>\n",
       "      <td>org: Nike Inc.\\ncountry: NA\\nstate: NA\\ncity: ...</td>\n",
       "    </tr>\n",
       "    <tr>\n",
       "      <th>1</th>\n",
       "      <td>5709292390</td>\n",
       "      <td>Renault Customers Planning Criminal Complaint ...</td>\n",
       "      <td>02-June-2023</td>\n",
       "      <td>MarketScreener</td>\n",
       "      <td>Financials EUR USD GBP Sales 2023 50 468 M 54 ...</td>\n",
       "      <td>For the main organisation discussed in this ar...</td>\n",
       "      <td>592</td>\n",
       "      <td>org: RENAULT\\ncountry: NA\\nstate: NA\\ncity: NA...</td>\n",
       "    </tr>\n",
       "    <tr>\n",
       "      <th>2</th>\n",
       "      <td>5709276868</td>\n",
       "      <td>Mersana Therapeutics Inc. (MRSN) last month vo...</td>\n",
       "      <td>02-June-2023</td>\n",
       "      <td>Newsdaemon.com</td>\n",
       "      <td>Search  Search   Search  Search  Sana Meer  Ju...</td>\n",
       "      <td>For the main organisation discussed in this ar...</td>\n",
       "      <td>1479</td>\n",
       "      <td>org: Mersana Therapeutics Inc.\\ncountry: NA\\ns...</td>\n",
       "    </tr>\n",
       "    <tr>\n",
       "      <th>3</th>\n",
       "      <td>5709269010</td>\n",
       "      <td>Mike Novogratz Says Crypto is Lackadaisical Ri...</td>\n",
       "      <td>02-June-2023</td>\n",
       "      <td>Crypto Potato</td>\n",
       "      <td>Michael Novogratz, the founder and CEO of Gala...</td>\n",
       "      <td>For the main organisation discussed in this ar...</td>\n",
       "      <td>703</td>\n",
       "      <td>org: Galaxy Digital\\ncountry: NA\\nstate: NA\\nc...</td>\n",
       "    </tr>\n",
       "    <tr>\n",
       "      <th>4</th>\n",
       "      <td>5709271283</td>\n",
       "      <td>Another Soft Market Is Inevitable</td>\n",
       "      <td>02-June-2023</td>\n",
       "      <td>Carrier Management</td>\n",
       "      <td>New You can now listen to Carrier Management a...</td>\n",
       "      <td>For the main organisation discussed in this ar...</td>\n",
       "      <td>1851</td>\n",
       "      <td>org: RLI Corp.\\ncountry: NA\\nstate: NA\\ncity: ...</td>\n",
       "    </tr>\n",
       "  </tbody>\n",
       "</table>\n",
       "</div>"
      ],
      "text/plain": [
       "   article_id  \\\n",
       "0  5709294677   \n",
       "1  5709292390   \n",
       "2  5709276868   \n",
       "3  5709269010   \n",
       "4  5709271283   \n",
       "\n",
       "                                               title  \\\n",
       "0  : Nike stock jumps to lead the Dow's premarket...   \n",
       "1  Renault Customers Planning Criminal Complaint ...   \n",
       "2  Mersana Therapeutics Inc. (MRSN) last month vo...   \n",
       "3  Mike Novogratz Says Crypto is Lackadaisical Ri...   \n",
       "4                  Another Soft Market Is Inevitable   \n",
       "\n",
       "   published_at              source  \\\n",
       "0  02-June-2023         Finanzen.ch   \n",
       "1  02-June-2023      MarketScreener   \n",
       "2  02-June-2023      Newsdaemon.com   \n",
       "3  02-June-2023       Crypto Potato   \n",
       "4  02-June-2023  Carrier Management   \n",
       "\n",
       "                                                body  \\\n",
       "0  Nike  96.41 CHF -1.99%  Charts  News  Analysen...   \n",
       "1  Financials EUR USD GBP Sales 2023 50 468 M 54 ...   \n",
       "2  Search  Search   Search  Search  Sana Meer  Ju...   \n",
       "3  Michael Novogratz, the founder and CEO of Gala...   \n",
       "4  New You can now listen to Carrier Management a...   \n",
       "\n",
       "                                              prompt  \\\n",
       "0  For the main organisation discussed in this ar...   \n",
       "1  For the main organisation discussed in this ar...   \n",
       "2  For the main organisation discussed in this ar...   \n",
       "3  For the main organisation discussed in this ar...   \n",
       "4  For the main organisation discussed in this ar...   \n",
       "\n",
       "   token_count  \\\n",
       "0          491   \n",
       "1          592   \n",
       "2         1479   \n",
       "3          703   \n",
       "4         1851   \n",
       "\n",
       "                                           responses  \n",
       "0  org: Nike Inc.\\ncountry: NA\\nstate: NA\\ncity: ...  \n",
       "1  org: RENAULT\\ncountry: NA\\nstate: NA\\ncity: NA...  \n",
       "2  org: Mersana Therapeutics Inc.\\ncountry: NA\\ns...  \n",
       "3  org: Galaxy Digital\\ncountry: NA\\nstate: NA\\nc...  \n",
       "4  org: RLI Corp.\\ncountry: NA\\nstate: NA\\ncity: ...  "
      ]
     },
     "execution_count": 32,
     "metadata": {},
     "output_type": "execute_result"
    }
   ],
   "source": [
    "print(len(aylien_5k))\n",
    "aylien_5k_input.head()"
   ]
  },
  {
   "cell_type": "markdown",
   "id": "2a4481bb",
   "metadata": {},
   "source": [
    "## Post-processing & exporting"
   ]
  },
  {
   "cell_type": "code",
   "execution_count": 33,
   "id": "469f60ee",
   "metadata": {},
   "outputs": [
    {
     "name": "stdout",
     "output_type": "stream",
     "text": [
      "Populated schemas saved to ./results/zero_shot_aylien_business_5k_responses.json\n"
     ]
    }
   ],
   "source": [
    "data = []\n",
    "\n",
    "def process_response(response):\n",
    "    # Remove < and > characters and trailing /\n",
    "    response = response.replace('<', '').replace('>', '').replace('#', '')\n",
    "\n",
    "    item = {}\n",
    "    lines = response.split('\\n')\n",
    "    for line in lines:\n",
    "        if ': ' in line:\n",
    "            key, value = line.split(': ', 1)\n",
    "            key = key.lower()  # Convert key to lowercase\n",
    "            if value.strip() in [\"NA\", \"NA.\"]:\n",
    "                item[key] = \"\"\n",
    "            else:\n",
    "                item[key] = value.strip()\n",
    "    data.append(item)\n",
    "    return item\n",
    "\n",
    "# Apply the processing function to the 'responses' column and assign the result to a new column 'responses_PP'\n",
    "aylien_5k_input['responses_PP'] = aylien_5k_input['responses'].apply(process_response)\n",
    "\n",
    "# Save 'responses_PP' column as JSON\n",
    "output_file = \"./results/zero_shot_aylien_business_5k_responses.json\"\n",
    "\n",
    "# Write the 'responses_PP' column data to the JSON file\n",
    "with open(output_file, \"w\") as file:\n",
    "    json.dump(aylien_5k_input['responses_PP'].tolist(), file, indent=2)\n",
    "\n",
    "print(f\"Populated schemas saved to {output_file}\")"
   ]
  },
  {
   "cell_type": "markdown",
   "id": "5bdae4d2",
   "metadata": {},
   "source": [
    "## Export df with responses"
   ]
  },
  {
   "cell_type": "code",
   "execution_count": 34,
   "id": "395c7006",
   "metadata": {},
   "outputs": [
    {
     "data": {
      "text/html": [
       "<div>\n",
       "<style scoped>\n",
       "    .dataframe tbody tr th:only-of-type {\n",
       "        vertical-align: middle;\n",
       "    }\n",
       "\n",
       "    .dataframe tbody tr th {\n",
       "        vertical-align: top;\n",
       "    }\n",
       "\n",
       "    .dataframe thead th {\n",
       "        text-align: right;\n",
       "    }\n",
       "</style>\n",
       "<table border=\"1\" class=\"dataframe\">\n",
       "  <thead>\n",
       "    <tr style=\"text-align: right;\">\n",
       "      <th></th>\n",
       "      <th>article_id</th>\n",
       "      <th>title</th>\n",
       "      <th>published_at</th>\n",
       "      <th>source</th>\n",
       "      <th>body</th>\n",
       "      <th>prompt</th>\n",
       "      <th>token_count</th>\n",
       "      <th>responses</th>\n",
       "      <th>responses_PP</th>\n",
       "    </tr>\n",
       "  </thead>\n",
       "  <tbody>\n",
       "    <tr>\n",
       "      <th>0</th>\n",
       "      <td>5709294677</td>\n",
       "      <td>: Nike stock jumps to lead the Dow's premarket...</td>\n",
       "      <td>02-June-2023</td>\n",
       "      <td>Finanzen.ch</td>\n",
       "      <td>Nike  96.41 CHF -1.99%  Charts  News  Analysen...</td>\n",
       "      <td>For the main organisation discussed in this ar...</td>\n",
       "      <td>491</td>\n",
       "      <td>org: Nike Inc.\\ncountry: NA\\nstate: NA\\ncity: ...</td>\n",
       "      <td>{'org': 'Nike Inc.', 'country': '', 'state': '...</td>\n",
       "    </tr>\n",
       "    <tr>\n",
       "      <th>1</th>\n",
       "      <td>5709292390</td>\n",
       "      <td>Renault Customers Planning Criminal Complaint ...</td>\n",
       "      <td>02-June-2023</td>\n",
       "      <td>MarketScreener</td>\n",
       "      <td>Financials EUR USD GBP Sales 2023 50 468 M 54 ...</td>\n",
       "      <td>For the main organisation discussed in this ar...</td>\n",
       "      <td>592</td>\n",
       "      <td>org: RENAULT\\ncountry: NA\\nstate: NA\\ncity: NA...</td>\n",
       "      <td>{'org': 'RENAULT', 'country': '', 'state': '',...</td>\n",
       "    </tr>\n",
       "  </tbody>\n",
       "</table>\n",
       "</div>"
      ],
      "text/plain": [
       "   article_id  \\\n",
       "0  5709294677   \n",
       "1  5709292390   \n",
       "\n",
       "                                               title  \\\n",
       "0  : Nike stock jumps to lead the Dow's premarket...   \n",
       "1  Renault Customers Planning Criminal Complaint ...   \n",
       "\n",
       "   published_at          source  \\\n",
       "0  02-June-2023     Finanzen.ch   \n",
       "1  02-June-2023  MarketScreener   \n",
       "\n",
       "                                                body  \\\n",
       "0  Nike  96.41 CHF -1.99%  Charts  News  Analysen...   \n",
       "1  Financials EUR USD GBP Sales 2023 50 468 M 54 ...   \n",
       "\n",
       "                                              prompt  \\\n",
       "0  For the main organisation discussed in this ar...   \n",
       "1  For the main organisation discussed in this ar...   \n",
       "\n",
       "   token_count  \\\n",
       "0          491   \n",
       "1          592   \n",
       "\n",
       "                                           responses  \\\n",
       "0  org: Nike Inc.\\ncountry: NA\\nstate: NA\\ncity: ...   \n",
       "1  org: RENAULT\\ncountry: NA\\nstate: NA\\ncity: NA...   \n",
       "\n",
       "                                        responses_PP  \n",
       "0  {'org': 'Nike Inc.', 'country': '', 'state': '...  \n",
       "1  {'org': 'RENAULT', 'country': '', 'state': '',...  "
      ]
     },
     "execution_count": 34,
     "metadata": {},
     "output_type": "execute_result"
    }
   ],
   "source": [
    "aylien_5k_input.head(2)"
   ]
  },
  {
   "cell_type": "code",
   "execution_count": 35,
   "id": "02ad791a",
   "metadata": {},
   "outputs": [],
   "source": [
    "# export to pickle in case of future use.\n",
    "aylien_5k_input.to_pickle(\"./results/zero_shot_aylien_business_5k_responses.pkl\")\n",
    "\n",
    "# export to excel for manual verification:\n",
    "aylien_5k_input.to_excel(\"./results/zero_shot_aylien_business_5k_responses.xlsx\")"
   ]
  },
  {
   "cell_type": "code",
   "execution_count": null,
   "id": "176592b3",
   "metadata": {},
   "outputs": [],
   "source": []
  }
 ],
 "metadata": {
  "kernelspec": {
   "display_name": "Python 3 (ipykernel)",
   "language": "python",
   "name": "python3"
  },
  "language_info": {
   "codemirror_mode": {
    "name": "ipython",
    "version": 3
   },
   "file_extension": ".py",
   "mimetype": "text/x-python",
   "name": "python",
   "nbconvert_exporter": "python",
   "pygments_lexer": "ipython3",
   "version": "3.8.16"
  },
  "toc": {
   "base_numbering": 1,
   "nav_menu": {},
   "number_sections": true,
   "sideBar": true,
   "skip_h1_title": false,
   "title_cell": "Table of Contents",
   "title_sidebar": "Contents",
   "toc_cell": false,
   "toc_position": {
    "height": "calc(100% - 180px)",
    "left": "10px",
    "top": "150px",
    "width": "257.641px"
   },
   "toc_section_display": true,
   "toc_window_display": true
  },
  "varInspector": {
   "cols": {
    "lenName": 16,
    "lenType": 16,
    "lenVar": 40
   },
   "kernels_config": {
    "python": {
     "delete_cmd_postfix": "",
     "delete_cmd_prefix": "del ",
     "library": "var_list.py",
     "varRefreshCmd": "print(var_dic_list())"
    },
    "r": {
     "delete_cmd_postfix": ") ",
     "delete_cmd_prefix": "rm(",
     "library": "var_list.r",
     "varRefreshCmd": "cat(var_dic_list()) "
    }
   },
   "position": {
    "height": "316.844px",
    "left": "1583px",
    "right": "20px",
    "top": "120px",
    "width": "317px"
   },
   "types_to_exclude": [
    "module",
    "function",
    "builtin_function_or_method",
    "instance",
    "_Feature"
   ],
   "window_display": false
  }
 },
 "nbformat": 4,
 "nbformat_minor": 5
}
