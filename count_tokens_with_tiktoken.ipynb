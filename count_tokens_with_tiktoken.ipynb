{
 "cells": [
  {
   "cell_type": "code",
   "execution_count": 1,
   "id": "d8da7342",
   "metadata": {},
   "outputs": [],
   "source": [
    "import tiktoken\n",
    "from typing import List, Tuple"
   ]
  },
  {
   "cell_type": "code",
   "execution_count": 2,
   "id": "300088e3",
   "metadata": {},
   "outputs": [],
   "source": [
    "encoding = tiktoken.encoding_for_model(\"gpt-3.5-turbo\")\n",
    "#encoding = tiktoken.get_encoding(\"cl100k_base\")"
   ]
  },
  {
   "cell_type": "code",
   "execution_count": 3,
   "id": "09f259c4",
   "metadata": {},
   "outputs": [],
   "source": [
    "# fns to count strings in list of prompts:\n",
    "\n",
    "def num_tokens_from_string(string: str, encoding_name: str) -> int:\n",
    "    \"\"\"Returns the number of tokens in a text string.\"\"\"\n",
    "    encoding = tiktoken.get_encoding(encoding_name)\n",
    "    num_tokens = len(encoding.encode(string))\n",
    "    return num_tokens"
   ]
  },
  {
   "cell_type": "code",
   "execution_count": 5,
   "id": "07607a84",
   "metadata": {},
   "outputs": [
    {
     "data": {
      "text/plain": [
       "200"
      ]
     },
     "execution_count": 5,
     "metadata": {},
     "output_type": "execute_result"
    }
   ],
   "source": [
    "# Estimating max response tokens if prompt works correctly (update to reflect prompt used)\n",
    "\n",
    "#num_tokens_from_string(\"facing risk: yes. type of risk: thisis some text for a risk type.\", \"cl100k_base\")\n",
    "\n",
    "num_tokens_from_string(\n",
    "    \n",
    "    '''\n",
    "    org: Silicon Valley Bank\n",
    "    country: U.S.\n",
    "    state: California\n",
    "    city: Santa Clara\n",
    "    industry: tech erogih eroigh erogih ergohi ergohi\n",
    "    risks: political; financial; mismanagement; regulatory, eorigherogi, oeirhgoerihg , eorigheriogh\n",
    "    items_sold: NA, peiorgherhg, eoirgh eroighj er, oierhg, eioprj, eighjowh, rijgio, oeirgjerj ,eoirgj\n",
    "    service_provided: tech-lending; ergoiperg, eorigheropigh, oeighioerhg, oergheroig\n",
    "    business_relations: Credit Suisse, eoprgje, oeirhgerhgho, woiejh, wioehr, fjkr we  d f f, wejfj r \n",
    "    '''\n",
    "                       ,\"cl100k_base\" )"
   ]
  },
  {
   "cell_type": "code",
   "execution_count": null,
   "id": "e9e82764",
   "metadata": {},
   "outputs": [],
   "source": []
  },
  {
   "cell_type": "code",
   "execution_count": null,
   "id": "05e90c5e",
   "metadata": {},
   "outputs": [],
   "source": []
  }
 ],
 "metadata": {
  "kernelspec": {
   "display_name": "Python 3 (ipykernel)",
   "language": "python",
   "name": "python3"
  },
  "language_info": {
   "codemirror_mode": {
    "name": "ipython",
    "version": 3
   },
   "file_extension": ".py",
   "mimetype": "text/x-python",
   "name": "python",
   "nbconvert_exporter": "python",
   "pygments_lexer": "ipython3",
   "version": "3.8.16"
  },
  "toc": {
   "base_numbering": 1,
   "nav_menu": {},
   "number_sections": true,
   "sideBar": true,
   "skip_h1_title": false,
   "title_cell": "Table of Contents",
   "title_sidebar": "Contents",
   "toc_cell": false,
   "toc_position": {},
   "toc_section_display": true,
   "toc_window_display": false
  },
  "varInspector": {
   "cols": {
    "lenName": 16,
    "lenType": 16,
    "lenVar": 40
   },
   "kernels_config": {
    "python": {
     "delete_cmd_postfix": "",
     "delete_cmd_prefix": "del ",
     "library": "var_list.py",
     "varRefreshCmd": "print(var_dic_list())"
    },
    "r": {
     "delete_cmd_postfix": ") ",
     "delete_cmd_prefix": "rm(",
     "library": "var_list.r",
     "varRefreshCmd": "cat(var_dic_list()) "
    }
   },
   "types_to_exclude": [
    "module",
    "function",
    "builtin_function_or_method",
    "instance",
    "_Feature"
   ],
   "window_display": false
  }
 },
 "nbformat": 4,
 "nbformat_minor": 5
}
