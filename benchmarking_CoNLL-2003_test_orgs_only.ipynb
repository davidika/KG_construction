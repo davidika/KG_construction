{
 "cells": [
  {
   "cell_type": "markdown",
   "id": "207471af",
   "metadata": {},
   "source": [
    "# Libraries"
   ]
  },
  {
   "cell_type": "code",
   "execution_count": 2,
   "id": "f5b97276",
   "metadata": {},
   "outputs": [],
   "source": [
    "# using conda library 'ontogpt_fork'; naming irrelevant as this was previously going to be used to work on a different project.\n",
    "\n",
    "# increase cell-width\n",
    "from IPython.display import display, HTML\n",
    "#display(HTML(\"<style>.container { width:100% !important; }</style>\"))\n",
    "\n",
    "import pandas as pd\n",
    "import re\n",
    "import numpy as np\n",
    "import os\n",
    "import glob\n",
    "from tqdm import tqdm # progress bar tracking\n",
    "\n",
    "pd.set_option('display.max_rows', None)\n",
    "pd.set_option('display.width', 50)\n",
    "pd.set_option('display.max_columns', None)\n",
    "pd.set_option('display.max_colwidth', 50)\n",
    "\n",
    "# conll-2003 dataset:\n",
    "from datasets import load_dataset\n",
    "\n",
    "import json\n",
    "import jsonschema\n",
    "from jsonschema import validate\n",
    "\n",
    "# prompts for OpenAI\n",
    "\n",
    "import openai_secret_manager\n",
    "import openai\n",
    "import time\n",
    "import random\n",
    "\n",
    "import tiktoken\n",
    "from typing import List, Tuple\n",
    "\n",
    "from collections import Counter"
   ]
  },
  {
   "cell_type": "markdown",
   "id": "f615246d",
   "metadata": {},
   "source": [
    "# Load CoNLL-2003 dataset to compare NER (benchmark)\n",
    "* CoNLL-2003 is an annotated dataset used to assess NER.\n",
    "\n",
    "* load_dataset produces datafile split into train, test, validation.\n",
    "* accessible by subsetting via conll2003[\"train\"], for example, and converting to pandas df.\n",
    "* furthermore, re ner_tags:\n",
    "In the Hugging Face datasets library's CoNLL-2003 dataset, the integer values in the \"ner_tags\" column correspond to the following named entity tags:\n",
    "\n",
    "\n",
    "    * 0: \"O\" (Outside) - Indicates that a token does not belong to any named entity.\n",
    "    * 1: \"B-PER\" (Beginning of a Person entity) - Marks the beginning of a person's name.\n",
    "    * 2: \"I-PER\" (Inside of a Person entity) - Marks the continuation of a person's name.\n",
    "    * 3: \"B-ORG\" (Beginning of an Organization entity) - Marks the beginning of an organization's name.\n",
    "    * 4: \"I-ORG\" (Inside of an Organization entity) - Marks the continuation of an organization's name.\n",
    "    * 5: \"B-LOC\" (Beginning of a Location entity) - Marks the beginning of a location name.\n",
    "    * 6: \"I-LOC\" (Inside of a Location entity) - Marks the continuation of a location name.\n",
    "    * 7: \"B-MISC\" (Beginning of a Miscellaneous entity) - Marks the beginning of a miscellaneous entity.\n",
    "    * 8: \"I-MISC\" (Inside of a Miscellaneous entity) - Marks the continuation of a miscellaneous entity."
   ]
  },
  {
   "cell_type": "code",
   "execution_count": 3,
   "id": "9f7d76c7",
   "metadata": {},
   "outputs": [
    {
     "name": "stderr",
     "output_type": "stream",
     "text": [
      "Found cached dataset conll2003 (C:/Users/David/.cache/huggingface/datasets/conll2003/conll2003/1.0.0/9a4d16a94f8674ba3466315300359b0acd891b68b6c8743ddf60b9c702adce98)\n"
     ]
    },
    {
     "data": {
      "application/vnd.jupyter.widget-view+json": {
       "model_id": "87cb888e71aa44c790b729e09a6dc667",
       "version_major": 2,
       "version_minor": 0
      },
      "text/plain": [
       "  0%|          | 0/3 [00:00<?, ?it/s]"
      ]
     },
     "metadata": {},
     "output_type": "display_data"
    }
   ],
   "source": [
    "conll2003 = load_dataset(\"conll2003\")"
   ]
  },
  {
   "cell_type": "code",
   "execution_count": 4,
   "id": "4b060d40",
   "metadata": {},
   "outputs": [
    {
     "name": "stdout",
     "output_type": "stream",
     "text": [
      "3453\n"
     ]
    }
   ],
   "source": [
    "# Using only test set.\n",
    "\n",
    "test_subset = conll2003[\"test\"].select(range(len(conll2003[\"test\"])))\n",
    "conll2003_test = test_subset.to_pandas()\n",
    "print(len(conll2003_test))\n",
    "# 3453 records."
   ]
  },
  {
   "cell_type": "code",
   "execution_count": 5,
   "id": "08a5434c",
   "metadata": {},
   "outputs": [
    {
     "data": {
      "text/html": [
       "<div>\n",
       "<style scoped>\n",
       "    .dataframe tbody tr th:only-of-type {\n",
       "        vertical-align: middle;\n",
       "    }\n",
       "\n",
       "    .dataframe tbody tr th {\n",
       "        vertical-align: top;\n",
       "    }\n",
       "\n",
       "    .dataframe thead th {\n",
       "        text-align: right;\n",
       "    }\n",
       "</style>\n",
       "<table border=\"1\" class=\"dataframe\">\n",
       "  <thead>\n",
       "    <tr style=\"text-align: right;\">\n",
       "      <th></th>\n",
       "      <th>sent_id</th>\n",
       "      <th>tokens</th>\n",
       "      <th>pos_tags</th>\n",
       "      <th>chunk_tags</th>\n",
       "      <th>ner_tags</th>\n",
       "    </tr>\n",
       "  </thead>\n",
       "  <tbody>\n",
       "    <tr>\n",
       "      <th>0</th>\n",
       "      <td>0</td>\n",
       "      <td>[SOCCER, -, JAPAN, GET, LUCKY, WIN, ,, CHINA, ...</td>\n",
       "      <td>[21, 8, 22, 37, 22, 22, 6, 22, 15, 12, 21, 7]</td>\n",
       "      <td>[11, 0, 11, 21, 11, 12, 0, 11, 13, 11, 12, 0]</td>\n",
       "      <td>[0, 0, 5, 0, 0, 0, 0, 1, 0, 0, 0, 0]</td>\n",
       "    </tr>\n",
       "    <tr>\n",
       "      <th>1</th>\n",
       "      <td>1</td>\n",
       "      <td>[Nadim, Ladki]</td>\n",
       "      <td>[22, 22]</td>\n",
       "      <td>[11, 12]</td>\n",
       "      <td>[1, 2]</td>\n",
       "    </tr>\n",
       "    <tr>\n",
       "      <th>2</th>\n",
       "      <td>2</td>\n",
       "      <td>[AL-AIN, ,, United, Arab, Emirates, 1996-12-06]</td>\n",
       "      <td>[22, 6, 22, 22, 23, 11]</td>\n",
       "      <td>[11, 0, 11, 12, 12, 12]</td>\n",
       "      <td>[5, 0, 5, 6, 6, 0]</td>\n",
       "    </tr>\n",
       "    <tr>\n",
       "      <th>3</th>\n",
       "      <td>3</td>\n",
       "      <td>[Japan, began, the, defence, of, their, Asian,...</td>\n",
       "      <td>[22, 38, 12, 21, 15, 29, 16, 22, 21, 15, 12, 1...</td>\n",
       "      <td>[11, 21, 11, 12, 13, 11, 12, 12, 12, 13, 11, 1...</td>\n",
       "      <td>[5, 0, 0, 0, 0, 0, 7, 8, 0, 0, 0, 0, 0, 0, 0, ...</td>\n",
       "    </tr>\n",
       "    <tr>\n",
       "      <th>4</th>\n",
       "      <td>4</td>\n",
       "      <td>[But, China, saw, their, luck, desert, them, i...</td>\n",
       "      <td>[10, 22, 38, 29, 21, 37, 28, 15, 12, 21, 21, 1...</td>\n",
       "      <td>[0, 11, 21, 11, 12, 21, 11, 13, 11, 12, 12, 13...</td>\n",
       "      <td>[0, 5, 0, 0, 0, 0, 0, 0, 0, 0, 0, 0, 0, 0, 0, ...</td>\n",
       "    </tr>\n",
       "  </tbody>\n",
       "</table>\n",
       "</div>"
      ],
      "text/plain": [
       "  sent_id  \\\n",
       "0       0   \n",
       "1       1   \n",
       "2       2   \n",
       "3       3   \n",
       "4       4   \n",
       "\n",
       "                                              tokens  \\\n",
       "0  [SOCCER, -, JAPAN, GET, LUCKY, WIN, ,, CHINA, ...   \n",
       "1                                     [Nadim, Ladki]   \n",
       "2    [AL-AIN, ,, United, Arab, Emirates, 1996-12-06]   \n",
       "3  [Japan, began, the, defence, of, their, Asian,...   \n",
       "4  [But, China, saw, their, luck, desert, them, i...   \n",
       "\n",
       "                                            pos_tags  \\\n",
       "0      [21, 8, 22, 37, 22, 22, 6, 22, 15, 12, 21, 7]   \n",
       "1                                           [22, 22]   \n",
       "2                            [22, 6, 22, 22, 23, 11]   \n",
       "3  [22, 38, 12, 21, 15, 29, 16, 22, 21, 15, 12, 1...   \n",
       "4  [10, 22, 38, 29, 21, 37, 28, 15, 12, 21, 21, 1...   \n",
       "\n",
       "                                          chunk_tags  \\\n",
       "0      [11, 0, 11, 21, 11, 12, 0, 11, 13, 11, 12, 0]   \n",
       "1                                           [11, 12]   \n",
       "2                            [11, 0, 11, 12, 12, 12]   \n",
       "3  [11, 21, 11, 12, 13, 11, 12, 12, 12, 13, 11, 1...   \n",
       "4  [0, 11, 21, 11, 12, 21, 11, 13, 11, 12, 12, 13...   \n",
       "\n",
       "                                            ner_tags  \n",
       "0               [0, 0, 5, 0, 0, 0, 0, 1, 0, 0, 0, 0]  \n",
       "1                                             [1, 2]  \n",
       "2                                 [5, 0, 5, 6, 6, 0]  \n",
       "3  [5, 0, 0, 0, 0, 0, 7, 8, 0, 0, 0, 0, 0, 0, 0, ...  \n",
       "4  [0, 5, 0, 0, 0, 0, 0, 0, 0, 0, 0, 0, 0, 0, 0, ...  "
      ]
     },
     "execution_count": 5,
     "metadata": {},
     "output_type": "execute_result"
    }
   ],
   "source": [
    "# Rename the 'id' column to 'sent_id'\n",
    "conll2003_test = conll2003_test.rename(columns={'id': 'sent_id'})\n",
    "\n",
    "conll2003_test.head()"
   ]
  },
  {
   "cell_type": "markdown",
   "id": "81a93735",
   "metadata": {},
   "source": [
    "### Re-map list of ints in ner_tags to the actual tags."
   ]
  },
  {
   "cell_type": "code",
   "execution_count": 6,
   "id": "96cc480f",
   "metadata": {},
   "outputs": [],
   "source": [
    "# Create string of input data from tokens:\n",
    "\n",
    "# Convert comma-split list to a single string\n",
    "conll2003_test['input_text'] = conll2003_test['tokens'].apply(lambda x: ' '.join(x))"
   ]
  },
  {
   "cell_type": "code",
   "execution_count": 7,
   "id": "670a8cc2",
   "metadata": {},
   "outputs": [
    {
     "data": {
      "text/html": [
       "<div>\n",
       "<style scoped>\n",
       "    .dataframe tbody tr th:only-of-type {\n",
       "        vertical-align: middle;\n",
       "    }\n",
       "\n",
       "    .dataframe tbody tr th {\n",
       "        vertical-align: top;\n",
       "    }\n",
       "\n",
       "    .dataframe thead th {\n",
       "        text-align: right;\n",
       "    }\n",
       "</style>\n",
       "<table border=\"1\" class=\"dataframe\">\n",
       "  <thead>\n",
       "    <tr style=\"text-align: right;\">\n",
       "      <th></th>\n",
       "      <th>sent_id</th>\n",
       "      <th>tokens</th>\n",
       "      <th>pos_tags</th>\n",
       "      <th>chunk_tags</th>\n",
       "      <th>ner_tags</th>\n",
       "      <th>input_text</th>\n",
       "    </tr>\n",
       "  </thead>\n",
       "  <tbody>\n",
       "    <tr>\n",
       "      <th>0</th>\n",
       "      <td>0</td>\n",
       "      <td>[SOCCER, -, JAPAN, GET, LUCKY, WIN, ,, CHINA, ...</td>\n",
       "      <td>[21, 8, 22, 37, 22, 22, 6, 22, 15, 12, 21, 7]</td>\n",
       "      <td>[11, 0, 11, 21, 11, 12, 0, 11, 13, 11, 12, 0]</td>\n",
       "      <td>[0, 0, 5, 0, 0, 0, 0, 1, 0, 0, 0, 0]</td>\n",
       "      <td>SOCCER - JAPAN GET LUCKY WIN , CHINA IN SURPRI...</td>\n",
       "    </tr>\n",
       "    <tr>\n",
       "      <th>1</th>\n",
       "      <td>1</td>\n",
       "      <td>[Nadim, Ladki]</td>\n",
       "      <td>[22, 22]</td>\n",
       "      <td>[11, 12]</td>\n",
       "      <td>[1, 2]</td>\n",
       "      <td>Nadim Ladki</td>\n",
       "    </tr>\n",
       "    <tr>\n",
       "      <th>2</th>\n",
       "      <td>2</td>\n",
       "      <td>[AL-AIN, ,, United, Arab, Emirates, 1996-12-06]</td>\n",
       "      <td>[22, 6, 22, 22, 23, 11]</td>\n",
       "      <td>[11, 0, 11, 12, 12, 12]</td>\n",
       "      <td>[5, 0, 5, 6, 6, 0]</td>\n",
       "      <td>AL-AIN , United Arab Emirates 1996-12-06</td>\n",
       "    </tr>\n",
       "    <tr>\n",
       "      <th>3</th>\n",
       "      <td>3</td>\n",
       "      <td>[Japan, began, the, defence, of, their, Asian,...</td>\n",
       "      <td>[22, 38, 12, 21, 15, 29, 16, 22, 21, 15, 12, 1...</td>\n",
       "      <td>[11, 21, 11, 12, 13, 11, 12, 12, 12, 13, 11, 1...</td>\n",
       "      <td>[5, 0, 0, 0, 0, 0, 7, 8, 0, 0, 0, 0, 0, 0, 0, ...</td>\n",
       "      <td>Japan began the defence of their Asian Cup tit...</td>\n",
       "    </tr>\n",
       "    <tr>\n",
       "      <th>4</th>\n",
       "      <td>4</td>\n",
       "      <td>[But, China, saw, their, luck, desert, them, i...</td>\n",
       "      <td>[10, 22, 38, 29, 21, 37, 28, 15, 12, 21, 21, 1...</td>\n",
       "      <td>[0, 11, 21, 11, 12, 21, 11, 13, 11, 12, 12, 13...</td>\n",
       "      <td>[0, 5, 0, 0, 0, 0, 0, 0, 0, 0, 0, 0, 0, 0, 0, ...</td>\n",
       "      <td>But China saw their luck desert them in the se...</td>\n",
       "    </tr>\n",
       "  </tbody>\n",
       "</table>\n",
       "</div>"
      ],
      "text/plain": [
       "  sent_id  \\\n",
       "0       0   \n",
       "1       1   \n",
       "2       2   \n",
       "3       3   \n",
       "4       4   \n",
       "\n",
       "                                              tokens  \\\n",
       "0  [SOCCER, -, JAPAN, GET, LUCKY, WIN, ,, CHINA, ...   \n",
       "1                                     [Nadim, Ladki]   \n",
       "2    [AL-AIN, ,, United, Arab, Emirates, 1996-12-06]   \n",
       "3  [Japan, began, the, defence, of, their, Asian,...   \n",
       "4  [But, China, saw, their, luck, desert, them, i...   \n",
       "\n",
       "                                            pos_tags  \\\n",
       "0      [21, 8, 22, 37, 22, 22, 6, 22, 15, 12, 21, 7]   \n",
       "1                                           [22, 22]   \n",
       "2                            [22, 6, 22, 22, 23, 11]   \n",
       "3  [22, 38, 12, 21, 15, 29, 16, 22, 21, 15, 12, 1...   \n",
       "4  [10, 22, 38, 29, 21, 37, 28, 15, 12, 21, 21, 1...   \n",
       "\n",
       "                                          chunk_tags  \\\n",
       "0      [11, 0, 11, 21, 11, 12, 0, 11, 13, 11, 12, 0]   \n",
       "1                                           [11, 12]   \n",
       "2                            [11, 0, 11, 12, 12, 12]   \n",
       "3  [11, 21, 11, 12, 13, 11, 12, 12, 12, 13, 11, 1...   \n",
       "4  [0, 11, 21, 11, 12, 21, 11, 13, 11, 12, 12, 13...   \n",
       "\n",
       "                                            ner_tags  \\\n",
       "0               [0, 0, 5, 0, 0, 0, 0, 1, 0, 0, 0, 0]   \n",
       "1                                             [1, 2]   \n",
       "2                                 [5, 0, 5, 6, 6, 0]   \n",
       "3  [5, 0, 0, 0, 0, 0, 7, 8, 0, 0, 0, 0, 0, 0, 0, ...   \n",
       "4  [0, 5, 0, 0, 0, 0, 0, 0, 0, 0, 0, 0, 0, 0, 0, ...   \n",
       "\n",
       "                                          input_text  \n",
       "0  SOCCER - JAPAN GET LUCKY WIN , CHINA IN SURPRI...  \n",
       "1                                        Nadim Ladki  \n",
       "2           AL-AIN , United Arab Emirates 1996-12-06  \n",
       "3  Japan began the defence of their Asian Cup tit...  \n",
       "4  But China saw their luck desert them in the se...  "
      ]
     },
     "execution_count": 7,
     "metadata": {},
     "output_type": "execute_result"
    }
   ],
   "source": [
    "conll2003_test.head()"
   ]
  },
  {
   "cell_type": "code",
   "execution_count": 8,
   "id": "61017b90",
   "metadata": {},
   "outputs": [],
   "source": [
    "# Define the mapping dictionary\n",
    "tag_mapping = {\n",
    "    0: \"O\",\n",
    "    1: \"B-PER\",\n",
    "    2: \"I-PER\",\n",
    "    3: \"B-ORG\",\n",
    "    4: \"I-ORG\",\n",
    "    5: \"B-LOC\",\n",
    "    6: \"I-LOC\",\n",
    "    7: \"B-MISC\",\n",
    "    8: \"I-MISC\"\n",
    "}\n",
    "\n",
    "# Map the integers to the corresponding tags\n",
    "conll2003_test['mapped_ner_tags'] = conll2003_test['ner_tags'].map(lambda tags: [tag_mapping[tag] for tag in tags])"
   ]
  },
  {
   "cell_type": "code",
   "execution_count": 9,
   "id": "d37f2786",
   "metadata": {},
   "outputs": [
    {
     "data": {
      "text/html": [
       "<div>\n",
       "<style scoped>\n",
       "    .dataframe tbody tr th:only-of-type {\n",
       "        vertical-align: middle;\n",
       "    }\n",
       "\n",
       "    .dataframe tbody tr th {\n",
       "        vertical-align: top;\n",
       "    }\n",
       "\n",
       "    .dataframe thead th {\n",
       "        text-align: right;\n",
       "    }\n",
       "</style>\n",
       "<table border=\"1\" class=\"dataframe\">\n",
       "  <thead>\n",
       "    <tr style=\"text-align: right;\">\n",
       "      <th></th>\n",
       "      <th>sent_id</th>\n",
       "      <th>tokens</th>\n",
       "      <th>pos_tags</th>\n",
       "      <th>chunk_tags</th>\n",
       "      <th>ner_tags</th>\n",
       "      <th>input_text</th>\n",
       "      <th>mapped_ner_tags</th>\n",
       "    </tr>\n",
       "  </thead>\n",
       "  <tbody>\n",
       "    <tr>\n",
       "      <th>0</th>\n",
       "      <td>0</td>\n",
       "      <td>[SOCCER, -, JAPAN, GET, LUCKY, WIN, ,, CHINA, ...</td>\n",
       "      <td>[21, 8, 22, 37, 22, 22, 6, 22, 15, 12, 21, 7]</td>\n",
       "      <td>[11, 0, 11, 21, 11, 12, 0, 11, 13, 11, 12, 0]</td>\n",
       "      <td>[0, 0, 5, 0, 0, 0, 0, 1, 0, 0, 0, 0]</td>\n",
       "      <td>SOCCER - JAPAN GET LUCKY WIN , CHINA IN SURPRI...</td>\n",
       "      <td>[O, O, B-LOC, O, O, O, O, B-PER, O, O, O, O]</td>\n",
       "    </tr>\n",
       "    <tr>\n",
       "      <th>1</th>\n",
       "      <td>1</td>\n",
       "      <td>[Nadim, Ladki]</td>\n",
       "      <td>[22, 22]</td>\n",
       "      <td>[11, 12]</td>\n",
       "      <td>[1, 2]</td>\n",
       "      <td>Nadim Ladki</td>\n",
       "      <td>[B-PER, I-PER]</td>\n",
       "    </tr>\n",
       "    <tr>\n",
       "      <th>2</th>\n",
       "      <td>2</td>\n",
       "      <td>[AL-AIN, ,, United, Arab, Emirates, 1996-12-06]</td>\n",
       "      <td>[22, 6, 22, 22, 23, 11]</td>\n",
       "      <td>[11, 0, 11, 12, 12, 12]</td>\n",
       "      <td>[5, 0, 5, 6, 6, 0]</td>\n",
       "      <td>AL-AIN , United Arab Emirates 1996-12-06</td>\n",
       "      <td>[B-LOC, O, B-LOC, I-LOC, I-LOC, O]</td>\n",
       "    </tr>\n",
       "    <tr>\n",
       "      <th>3</th>\n",
       "      <td>3</td>\n",
       "      <td>[Japan, began, the, defence, of, their, Asian,...</td>\n",
       "      <td>[22, 38, 12, 21, 15, 29, 16, 22, 21, 15, 12, 1...</td>\n",
       "      <td>[11, 21, 11, 12, 13, 11, 12, 12, 12, 13, 11, 1...</td>\n",
       "      <td>[5, 0, 0, 0, 0, 0, 7, 8, 0, 0, 0, 0, 0, 0, 0, ...</td>\n",
       "      <td>Japan began the defence of their Asian Cup tit...</td>\n",
       "      <td>[B-LOC, O, O, O, O, O, B-MISC, I-MISC, O, O, O...</td>\n",
       "    </tr>\n",
       "    <tr>\n",
       "      <th>4</th>\n",
       "      <td>4</td>\n",
       "      <td>[But, China, saw, their, luck, desert, them, i...</td>\n",
       "      <td>[10, 22, 38, 29, 21, 37, 28, 15, 12, 21, 21, 1...</td>\n",
       "      <td>[0, 11, 21, 11, 12, 21, 11, 13, 11, 12, 12, 13...</td>\n",
       "      <td>[0, 5, 0, 0, 0, 0, 0, 0, 0, 0, 0, 0, 0, 0, 0, ...</td>\n",
       "      <td>But China saw their luck desert them in the se...</td>\n",
       "      <td>[O, B-LOC, O, O, O, O, O, O, O, O, O, O, O, O,...</td>\n",
       "    </tr>\n",
       "  </tbody>\n",
       "</table>\n",
       "</div>"
      ],
      "text/plain": [
       "  sent_id  \\\n",
       "0       0   \n",
       "1       1   \n",
       "2       2   \n",
       "3       3   \n",
       "4       4   \n",
       "\n",
       "                                              tokens  \\\n",
       "0  [SOCCER, -, JAPAN, GET, LUCKY, WIN, ,, CHINA, ...   \n",
       "1                                     [Nadim, Ladki]   \n",
       "2    [AL-AIN, ,, United, Arab, Emirates, 1996-12-06]   \n",
       "3  [Japan, began, the, defence, of, their, Asian,...   \n",
       "4  [But, China, saw, their, luck, desert, them, i...   \n",
       "\n",
       "                                            pos_tags  \\\n",
       "0      [21, 8, 22, 37, 22, 22, 6, 22, 15, 12, 21, 7]   \n",
       "1                                           [22, 22]   \n",
       "2                            [22, 6, 22, 22, 23, 11]   \n",
       "3  [22, 38, 12, 21, 15, 29, 16, 22, 21, 15, 12, 1...   \n",
       "4  [10, 22, 38, 29, 21, 37, 28, 15, 12, 21, 21, 1...   \n",
       "\n",
       "                                          chunk_tags  \\\n",
       "0      [11, 0, 11, 21, 11, 12, 0, 11, 13, 11, 12, 0]   \n",
       "1                                           [11, 12]   \n",
       "2                            [11, 0, 11, 12, 12, 12]   \n",
       "3  [11, 21, 11, 12, 13, 11, 12, 12, 12, 13, 11, 1...   \n",
       "4  [0, 11, 21, 11, 12, 21, 11, 13, 11, 12, 12, 13...   \n",
       "\n",
       "                                            ner_tags  \\\n",
       "0               [0, 0, 5, 0, 0, 0, 0, 1, 0, 0, 0, 0]   \n",
       "1                                             [1, 2]   \n",
       "2                                 [5, 0, 5, 6, 6, 0]   \n",
       "3  [5, 0, 0, 0, 0, 0, 7, 8, 0, 0, 0, 0, 0, 0, 0, ...   \n",
       "4  [0, 5, 0, 0, 0, 0, 0, 0, 0, 0, 0, 0, 0, 0, 0, ...   \n",
       "\n",
       "                                          input_text  \\\n",
       "0  SOCCER - JAPAN GET LUCKY WIN , CHINA IN SURPRI...   \n",
       "1                                        Nadim Ladki   \n",
       "2           AL-AIN , United Arab Emirates 1996-12-06   \n",
       "3  Japan began the defence of their Asian Cup tit...   \n",
       "4  But China saw their luck desert them in the se...   \n",
       "\n",
       "                                     mapped_ner_tags  \n",
       "0       [O, O, B-LOC, O, O, O, O, B-PER, O, O, O, O]  \n",
       "1                                     [B-PER, I-PER]  \n",
       "2                 [B-LOC, O, B-LOC, I-LOC, I-LOC, O]  \n",
       "3  [B-LOC, O, O, O, O, O, B-MISC, I-MISC, O, O, O...  \n",
       "4  [O, B-LOC, O, O, O, O, O, O, O, O, O, O, O, O,...  "
      ]
     },
     "execution_count": 9,
     "metadata": {},
     "output_type": "execute_result"
    }
   ],
   "source": [
    "conll2003_test.head()"
   ]
  },
  {
   "cell_type": "code",
   "execution_count": 10,
   "id": "78a823d8",
   "metadata": {},
   "outputs": [],
   "source": [
    "# create new col being comma-separated list of any detected orgs.\n",
    "def extract_organizations(row):\n",
    "    tokens = row['tokens']\n",
    "    tags = row['mapped_ner_tags']\n",
    "    orgs = []\n",
    "    org = ''\n",
    "    \n",
    "    for i, tag in enumerate(tags):\n",
    "        if tag == 'B-ORG':\n",
    "            org = tokens[i]\n",
    "        elif tag == 'I-ORG':\n",
    "            if org:\n",
    "                org += ' ' + tokens[i]\n",
    "        else:\n",
    "            if org:\n",
    "                orgs.append(org)\n",
    "                org = ''\n",
    "    \n",
    "    if org:\n",
    "        orgs.append(org)\n",
    "    \n",
    "    return ', '.join(orgs)\n",
    "\n",
    "# Apply the function to create the 'orgs' column\n",
    "conll2003_test['orgs'] = conll2003_test.apply(extract_organizations, axis=1)"
   ]
  },
  {
   "cell_type": "code",
   "execution_count": 11,
   "id": "7ac485fe",
   "metadata": {},
   "outputs": [
    {
     "data": {
      "text/html": [
       "<div>\n",
       "<style scoped>\n",
       "    .dataframe tbody tr th:only-of-type {\n",
       "        vertical-align: middle;\n",
       "    }\n",
       "\n",
       "    .dataframe tbody tr th {\n",
       "        vertical-align: top;\n",
       "    }\n",
       "\n",
       "    .dataframe thead th {\n",
       "        text-align: right;\n",
       "    }\n",
       "</style>\n",
       "<table border=\"1\" class=\"dataframe\">\n",
       "  <thead>\n",
       "    <tr style=\"text-align: right;\">\n",
       "      <th></th>\n",
       "      <th>sent_id</th>\n",
       "      <th>tokens</th>\n",
       "      <th>pos_tags</th>\n",
       "      <th>chunk_tags</th>\n",
       "      <th>ner_tags</th>\n",
       "      <th>input_text</th>\n",
       "      <th>mapped_ner_tags</th>\n",
       "      <th>orgs</th>\n",
       "    </tr>\n",
       "  </thead>\n",
       "  <tbody>\n",
       "    <tr>\n",
       "      <th>0</th>\n",
       "      <td>0</td>\n",
       "      <td>[SOCCER, -, JAPAN, GET, LUCKY, WIN, ,, CHINA, ...</td>\n",
       "      <td>[21, 8, 22, 37, 22, 22, 6, 22, 15, 12, 21, 7]</td>\n",
       "      <td>[11, 0, 11, 21, 11, 12, 0, 11, 13, 11, 12, 0]</td>\n",
       "      <td>[0, 0, 5, 0, 0, 0, 0, 1, 0, 0, 0, 0]</td>\n",
       "      <td>SOCCER - JAPAN GET LUCKY WIN , CHINA IN SURPRI...</td>\n",
       "      <td>[O, O, B-LOC, O, O, O, O, B-PER, O, O, O, O]</td>\n",
       "      <td></td>\n",
       "    </tr>\n",
       "    <tr>\n",
       "      <th>1</th>\n",
       "      <td>1</td>\n",
       "      <td>[Nadim, Ladki]</td>\n",
       "      <td>[22, 22]</td>\n",
       "      <td>[11, 12]</td>\n",
       "      <td>[1, 2]</td>\n",
       "      <td>Nadim Ladki</td>\n",
       "      <td>[B-PER, I-PER]</td>\n",
       "      <td></td>\n",
       "    </tr>\n",
       "    <tr>\n",
       "      <th>2</th>\n",
       "      <td>2</td>\n",
       "      <td>[AL-AIN, ,, United, Arab, Emirates, 1996-12-06]</td>\n",
       "      <td>[22, 6, 22, 22, 23, 11]</td>\n",
       "      <td>[11, 0, 11, 12, 12, 12]</td>\n",
       "      <td>[5, 0, 5, 6, 6, 0]</td>\n",
       "      <td>AL-AIN , United Arab Emirates 1996-12-06</td>\n",
       "      <td>[B-LOC, O, B-LOC, I-LOC, I-LOC, O]</td>\n",
       "      <td></td>\n",
       "    </tr>\n",
       "    <tr>\n",
       "      <th>3</th>\n",
       "      <td>3</td>\n",
       "      <td>[Japan, began, the, defence, of, their, Asian,...</td>\n",
       "      <td>[22, 38, 12, 21, 15, 29, 16, 22, 21, 15, 12, 1...</td>\n",
       "      <td>[11, 21, 11, 12, 13, 11, 12, 12, 12, 13, 11, 1...</td>\n",
       "      <td>[5, 0, 0, 0, 0, 0, 7, 8, 0, 0, 0, 0, 0, 0, 0, ...</td>\n",
       "      <td>Japan began the defence of their Asian Cup tit...</td>\n",
       "      <td>[B-LOC, O, O, O, O, O, B-MISC, I-MISC, O, O, O...</td>\n",
       "      <td></td>\n",
       "    </tr>\n",
       "    <tr>\n",
       "      <th>4</th>\n",
       "      <td>4</td>\n",
       "      <td>[But, China, saw, their, luck, desert, them, i...</td>\n",
       "      <td>[10, 22, 38, 29, 21, 37, 28, 15, 12, 21, 21, 1...</td>\n",
       "      <td>[0, 11, 21, 11, 12, 21, 11, 13, 11, 12, 12, 13...</td>\n",
       "      <td>[0, 5, 0, 0, 0, 0, 0, 0, 0, 0, 0, 0, 0, 0, 0, ...</td>\n",
       "      <td>But China saw their luck desert them in the se...</td>\n",
       "      <td>[O, B-LOC, O, O, O, O, O, O, O, O, O, O, O, O,...</td>\n",
       "      <td></td>\n",
       "    </tr>\n",
       "  </tbody>\n",
       "</table>\n",
       "</div>"
      ],
      "text/plain": [
       "  sent_id  \\\n",
       "0       0   \n",
       "1       1   \n",
       "2       2   \n",
       "3       3   \n",
       "4       4   \n",
       "\n",
       "                                              tokens  \\\n",
       "0  [SOCCER, -, JAPAN, GET, LUCKY, WIN, ,, CHINA, ...   \n",
       "1                                     [Nadim, Ladki]   \n",
       "2    [AL-AIN, ,, United, Arab, Emirates, 1996-12-06]   \n",
       "3  [Japan, began, the, defence, of, their, Asian,...   \n",
       "4  [But, China, saw, their, luck, desert, them, i...   \n",
       "\n",
       "                                            pos_tags  \\\n",
       "0      [21, 8, 22, 37, 22, 22, 6, 22, 15, 12, 21, 7]   \n",
       "1                                           [22, 22]   \n",
       "2                            [22, 6, 22, 22, 23, 11]   \n",
       "3  [22, 38, 12, 21, 15, 29, 16, 22, 21, 15, 12, 1...   \n",
       "4  [10, 22, 38, 29, 21, 37, 28, 15, 12, 21, 21, 1...   \n",
       "\n",
       "                                          chunk_tags  \\\n",
       "0      [11, 0, 11, 21, 11, 12, 0, 11, 13, 11, 12, 0]   \n",
       "1                                           [11, 12]   \n",
       "2                            [11, 0, 11, 12, 12, 12]   \n",
       "3  [11, 21, 11, 12, 13, 11, 12, 12, 12, 13, 11, 1...   \n",
       "4  [0, 11, 21, 11, 12, 21, 11, 13, 11, 12, 12, 13...   \n",
       "\n",
       "                                            ner_tags  \\\n",
       "0               [0, 0, 5, 0, 0, 0, 0, 1, 0, 0, 0, 0]   \n",
       "1                                             [1, 2]   \n",
       "2                                 [5, 0, 5, 6, 6, 0]   \n",
       "3  [5, 0, 0, 0, 0, 0, 7, 8, 0, 0, 0, 0, 0, 0, 0, ...   \n",
       "4  [0, 5, 0, 0, 0, 0, 0, 0, 0, 0, 0, 0, 0, 0, 0, ...   \n",
       "\n",
       "                                          input_text  \\\n",
       "0  SOCCER - JAPAN GET LUCKY WIN , CHINA IN SURPRI...   \n",
       "1                                        Nadim Ladki   \n",
       "2           AL-AIN , United Arab Emirates 1996-12-06   \n",
       "3  Japan began the defence of their Asian Cup tit...   \n",
       "4  But China saw their luck desert them in the se...   \n",
       "\n",
       "                                     mapped_ner_tags  \\\n",
       "0       [O, O, B-LOC, O, O, O, O, B-PER, O, O, O, O]   \n",
       "1                                     [B-PER, I-PER]   \n",
       "2                 [B-LOC, O, B-LOC, I-LOC, I-LOC, O]   \n",
       "3  [B-LOC, O, O, O, O, O, B-MISC, I-MISC, O, O, O...   \n",
       "4  [O, B-LOC, O, O, O, O, O, O, O, O, O, O, O, O,...   \n",
       "\n",
       "  orgs  \n",
       "0       \n",
       "1       \n",
       "2       \n",
       "3       \n",
       "4       "
      ]
     },
     "execution_count": 11,
     "metadata": {},
     "output_type": "execute_result"
    }
   ],
   "source": [
    "conll2003_test.head()"
   ]
  },
  {
   "cell_type": "code",
   "execution_count": 12,
   "id": "236d996e",
   "metadata": {
    "scrolled": true
   },
   "outputs": [
    {
     "name": "stdout",
     "output_type": "stream",
     "text": [
      "['Barbarians' '-' '15' '-' 'Tim' 'Stimpson' '(' 'England' ')' ';' '14' '-'\n",
      " 'Nigel' 'Walker' '(' 'Wales' ')' ',' '13' '-' 'Allan' 'Bateman' '('\n",
      " 'Wales' ')' ',' '12' '-' 'Gregor' 'Townsend' '(' 'Scotland' ')' ',' '11'\n",
      " '-' 'Tony' 'Underwood' '(' 'England' ')' ';' '10' '-' 'Rob' 'Andrew' '('\n",
      " 'England' ')' ',' '9' '-' 'Rob' 'Howley' '(' 'Wales' ')' ';' '8' '-'\n",
      " 'Scott' 'Quinnell' '(' 'Wales' ')' ',' '7' '-' 'Neil' 'Back' '('\n",
      " 'England' ')' ',' '6' '-' 'Dale' 'McIntosh' '(' 'Pontypridd' ')' ',' '5'\n",
      " '-' 'Ian' 'Jones' '(' 'New' 'Zealand' ')' ',' '4' '-' 'Craig' 'Quinnell'\n",
      " '(' 'Wales' ')' ',' '3' '-' 'Darren' 'Garforth' '(' 'Leicester' ')' ','\n",
      " '2' '-' 'Norm' 'Hewitt' '(' 'New' 'Zealand' ')' ',' '1' '-' 'Nick'\n",
      " 'Popplewell' '(' 'Ireland' ')' '.']\n",
      "['Australia' '-' '15' '-' 'Matthew' 'Burke' ';' '14' '-' 'Joe' 'Roff' ','\n",
      " '13' '-' 'Daniel' 'Herbert' ',' '12' '-' 'Tim' 'Horan' '(' 'captain' ')'\n",
      " ',' '11' '-' 'David' 'Campese' ';' '10' '-' 'Pat' 'Howard' ',' '9' '-'\n",
      " 'Sam' 'Payne' ';' '8' '-' 'Michael' 'Brial' ',' '7' '-' 'David' 'Wilson'\n",
      " ',' '6' '-' 'Owen' 'Finegan' ',' '5' '-' 'David' 'Giffin' ',' '4' '-'\n",
      " 'Tim' 'Gavin' ',' '3' '-' 'Andrew' 'Blades' ',' '2' '-' 'Marco' 'Caputo'\n",
      " ',' '1' '-' 'Dan' 'Crowley' '.']\n",
      "['South' 'Korea' ':' '1' '-' 'Kim' 'Byung' 'Ji' ';' '2' '-' 'Kim' 'Pan'\n",
      " 'Keun' ';' '5' '-' 'Huh' 'Ki' 'Tae' ';' '8' '-' 'Roh' 'Sang' 'Rae' '('\n",
      " '7' '-' 'Sin' 'Tae' 'Yong' '33' ')' ';' '9' '-' 'Kim' 'Do' 'Hoon' ';'\n",
      " '11' '-' 'Ko' 'Jeong' 'Woon' ';' '17' '-' 'Ha' 'Seok' 'Ju' ';' '18' '-'\n",
      " 'Hwang' 'Sun' 'Hong' ';' '22' '-' 'Lee' 'Young' 'Jin' ';' '23' '-' 'Yoo'\n",
      " 'Sang' 'Chul' ';' '24' '-' 'Kim' 'Joo' 'Sung' '.']\n",
      "['Syria' ':' '24' '-' 'Salem' 'Bitar' ',' '3' '-' 'Bachar' 'Srour' ';' '4'\n",
      " '-' 'Hassan' 'Abbas' ',' '5' '-' 'Tarek' 'Jabban' ',' '6' '-' 'Ammar'\n",
      " 'Awad' '(' '9' '-' 'Louay' 'Taleb' '69' ')' ',' '8' '-' 'Nihad'\n",
      " 'al-Boushi' ',' '10' '-' 'Mohammed' 'Afash' ',' '12' '-' 'Ali' 'Dib' ','\n",
      " '13' '-' 'Abdul' 'Latif' 'Helou' '(' '17' '-' 'Ammar' 'Rihawiy' '46' ')'\n",
      " ',' '14' '-' 'Khaled' 'Zaher' ';' '16' '-' 'Nader' 'Jokhadar' '.']\n",
      "['Japan' ':' '19' '-' 'Kenichi' 'Shimokawa' ',' '2' '-' 'Hiroshige'\n",
      " 'Yanagimoto' ',' '3' '-' 'Naoki' 'Soma' ',' '4' '-' 'Masami' 'Ihara' ','\n",
      " '5' '-' 'Norio' 'Omura' ',' '6' '-' 'Motohiro' 'Yamaguchi' ',' '8' '-'\n",
      " 'Masakiyo' 'Maezono' '(' '7' '-' 'Yasuto' 'Honda' '71' ')' ',' '9' '-'\n",
      " 'Takuya' 'Takagi' ',' '10' '-' 'Hiroshi' 'Nanami' ',' '11' '-'\n",
      " 'Kazuyoshi' 'Miura' ',' '15' '-' 'Hiroaki' 'Morishima' '(' '14' '-'\n",
      " 'Masayuki' 'Okano' '75' ')' '.']\n"
     ]
    }
   ],
   "source": [
    "# Sort the DataFrame in descending order based on the length of the list in 'tokens' column and extract the top 5 rows\n",
    "top_5_rows = conll2003_test.sort_values(by='tokens', key=lambda x: x.apply(len), ascending=False)[:5]\n",
    "\n",
    "for i in top_5_rows['tokens']:\n",
    "    print(i)"
   ]
  },
  {
   "cell_type": "code",
   "execution_count": 13,
   "id": "11c8f9e8",
   "metadata": {},
   "outputs": [
    {
     "name": "stdout",
     "output_type": "stream",
     "text": [
      "1229\n"
     ]
    },
    {
     "data": {
      "text/html": [
       "<div>\n",
       "<style scoped>\n",
       "    .dataframe tbody tr th:only-of-type {\n",
       "        vertical-align: middle;\n",
       "    }\n",
       "\n",
       "    .dataframe tbody tr th {\n",
       "        vertical-align: top;\n",
       "    }\n",
       "\n",
       "    .dataframe thead th {\n",
       "        text-align: right;\n",
       "    }\n",
       "</style>\n",
       "<table border=\"1\" class=\"dataframe\">\n",
       "  <thead>\n",
       "    <tr style=\"text-align: right;\">\n",
       "      <th></th>\n",
       "      <th>sent_id</th>\n",
       "      <th>tokens</th>\n",
       "      <th>pos_tags</th>\n",
       "      <th>chunk_tags</th>\n",
       "      <th>ner_tags</th>\n",
       "      <th>input_text</th>\n",
       "      <th>mapped_ner_tags</th>\n",
       "      <th>orgs</th>\n",
       "    </tr>\n",
       "  </thead>\n",
       "  <tbody>\n",
       "    <tr>\n",
       "      <th>0</th>\n",
       "      <td>19</td>\n",
       "      <td>[Japan, ,, co-hosts, of, the, World, Cup, in, ...</td>\n",
       "      <td>[22, 6, 42, 15, 12, 22, 22, 15, 11, 10, 38, 16...</td>\n",
       "      <td>[11, 0, 21, 13, 11, 12, 12, 13, 11, 0, 21, 11,...</td>\n",
       "      <td>[5, 0, 0, 0, 0, 7, 8, 0, 0, 0, 0, 0, 0, 0, 0, ...</td>\n",
       "      <td>Japan , co-hosts of the World Cup in 2002 and ...</td>\n",
       "      <td>[B-LOC, O, O, O, O, B-MISC, I-MISC, O, O, O, O...</td>\n",
       "      <td>FIFA</td>\n",
       "    </tr>\n",
       "    <tr>\n",
       "      <th>1</th>\n",
       "      <td>22</td>\n",
       "      <td>[RUGBY, UNION, -, CUTTITTA, BACK, FOR, ITALY, ...</td>\n",
       "      <td>[22, 21, 8, 22, 22, 15, 16, 22, 22, 22, 7]</td>\n",
       "      <td>[11, 12, 0, 11, 12, 13, 11, 12, 12, 12, 0]</td>\n",
       "      <td>[3, 4, 0, 1, 0, 0, 5, 0, 0, 0, 0]</td>\n",
       "      <td>RUGBY UNION - CUTTITTA BACK FOR ITALY AFTER A ...</td>\n",
       "      <td>[B-ORG, I-ORG, O, B-PER, O, O, B-LOC, O, O, O, O]</td>\n",
       "      <td>RUGBY UNION</td>\n",
       "    </tr>\n",
       "    <tr>\n",
       "      <th>2</th>\n",
       "      <td>141</td>\n",
       "      <td>[Plymouth, 4, Exeter, 1]</td>\n",
       "      <td>[21, 11, 22, 11]</td>\n",
       "      <td>[11, 12, 12, 12]</td>\n",
       "      <td>[3, 0, 3, 0]</td>\n",
       "      <td>Plymouth 4 Exeter 1</td>\n",
       "      <td>[B-ORG, O, B-ORG, O]</td>\n",
       "      <td>Plymouth, Exeter</td>\n",
       "    </tr>\n",
       "    <tr>\n",
       "      <th>3</th>\n",
       "      <td>144</td>\n",
       "      <td>[Dutch, forward, Reggie, Blinker, had, his, in...</td>\n",
       "      <td>[16, 16, 22, 22, 38, 29, 16, 21, 40, 15, 22, 1...</td>\n",
       "      <td>[11, 12, 12, 12, 21, 11, 12, 12, 21, 13, 11, 1...</td>\n",
       "      <td>[7, 0, 1, 2, 0, 0, 0, 0, 0, 0, 3, 0, 0, 0, 0, ...</td>\n",
       "      <td>Dutch forward Reggie Blinker had his indefinit...</td>\n",
       "      <td>[B-MISC, O, B-PER, I-PER, O, O, O, O, O, O, B-...</td>\n",
       "      <td>FIFA, Sheffield Wednesday, Liverpool</td>\n",
       "    </tr>\n",
       "    <tr>\n",
       "      <th>4</th>\n",
       "      <td>145</td>\n",
       "      <td>[Blinker, missed, his, club, 's, last, two, ga...</td>\n",
       "      <td>[21, 38, 29, 21, 27, 16, 11, 24, 15, 22, 38, 1...</td>\n",
       "      <td>[11, 21, 11, 12, 11, 12, 12, 12, 13, 11, 21, 1...</td>\n",
       "      <td>[1, 0, 0, 0, 0, 0, 0, 0, 0, 3, 0, 0, 0, 0, 0, ...</td>\n",
       "      <td>Blinker missed his club 's last two games afte...</td>\n",
       "      <td>[B-PER, O, O, O, O, O, O, O, O, B-ORG, O, O, O...</td>\n",
       "      <td>FIFA, Wednesday, Udinese, Feyenoord</td>\n",
       "    </tr>\n",
       "  </tbody>\n",
       "</table>\n",
       "</div>"
      ],
      "text/plain": [
       "  sent_id  \\\n",
       "0      19   \n",
       "1      22   \n",
       "2     141   \n",
       "3     144   \n",
       "4     145   \n",
       "\n",
       "                                              tokens  \\\n",
       "0  [Japan, ,, co-hosts, of, the, World, Cup, in, ...   \n",
       "1  [RUGBY, UNION, -, CUTTITTA, BACK, FOR, ITALY, ...   \n",
       "2                           [Plymouth, 4, Exeter, 1]   \n",
       "3  [Dutch, forward, Reggie, Blinker, had, his, in...   \n",
       "4  [Blinker, missed, his, club, 's, last, two, ga...   \n",
       "\n",
       "                                            pos_tags  \\\n",
       "0  [22, 6, 42, 15, 12, 22, 22, 15, 11, 10, 38, 16...   \n",
       "1         [22, 21, 8, 22, 22, 15, 16, 22, 22, 22, 7]   \n",
       "2                                   [21, 11, 22, 11]   \n",
       "3  [16, 16, 22, 22, 38, 29, 16, 21, 40, 15, 22, 1...   \n",
       "4  [21, 38, 29, 21, 27, 16, 11, 24, 15, 22, 38, 1...   \n",
       "\n",
       "                                          chunk_tags  \\\n",
       "0  [11, 0, 21, 13, 11, 12, 12, 13, 11, 0, 21, 11,...   \n",
       "1         [11, 12, 0, 11, 12, 13, 11, 12, 12, 12, 0]   \n",
       "2                                   [11, 12, 12, 12]   \n",
       "3  [11, 12, 12, 12, 21, 11, 12, 12, 21, 13, 11, 1...   \n",
       "4  [11, 21, 11, 12, 11, 12, 12, 12, 13, 11, 21, 1...   \n",
       "\n",
       "                                            ner_tags  \\\n",
       "0  [5, 0, 0, 0, 0, 7, 8, 0, 0, 0, 0, 0, 0, 0, 0, ...   \n",
       "1                  [3, 4, 0, 1, 0, 0, 5, 0, 0, 0, 0]   \n",
       "2                                       [3, 0, 3, 0]   \n",
       "3  [7, 0, 1, 2, 0, 0, 0, 0, 0, 0, 3, 0, 0, 0, 0, ...   \n",
       "4  [1, 0, 0, 0, 0, 0, 0, 0, 0, 3, 0, 0, 0, 0, 0, ...   \n",
       "\n",
       "                                          input_text  \\\n",
       "0  Japan , co-hosts of the World Cup in 2002 and ...   \n",
       "1  RUGBY UNION - CUTTITTA BACK FOR ITALY AFTER A ...   \n",
       "2                                Plymouth 4 Exeter 1   \n",
       "3  Dutch forward Reggie Blinker had his indefinit...   \n",
       "4  Blinker missed his club 's last two games afte...   \n",
       "\n",
       "                                     mapped_ner_tags  \\\n",
       "0  [B-LOC, O, O, O, O, B-MISC, I-MISC, O, O, O, O...   \n",
       "1  [B-ORG, I-ORG, O, B-PER, O, O, B-LOC, O, O, O, O]   \n",
       "2                               [B-ORG, O, B-ORG, O]   \n",
       "3  [B-MISC, O, B-PER, I-PER, O, O, O, O, O, O, B-...   \n",
       "4  [B-PER, O, O, O, O, O, O, O, O, B-ORG, O, O, O...   \n",
       "\n",
       "                                   orgs  \n",
       "0                                  FIFA  \n",
       "1                           RUGBY UNION  \n",
       "2                      Plymouth, Exeter  \n",
       "3  FIFA, Sheffield Wednesday, Liverpool  \n",
       "4   FIFA, Wednesday, Udinese, Feyenoord  "
      ]
     },
     "execution_count": 13,
     "metadata": {},
     "output_type": "execute_result"
    }
   ],
   "source": [
    "conll2003_test_orgs = conll2003_test[conll2003_test['orgs'].str.strip().ne('')]\n",
    "\n",
    "# Reset the index\n",
    "conll2003_test_orgs = conll2003_test_orgs.reset_index(drop=True)\n",
    "\n",
    "print(len(conll2003_test_orgs))\n",
    "conll2003_test_orgs.head()\n",
    "\n",
    "# i.e. 1229 rows in test_conll2003 contain an org (at least 1 B-ORG)"
   ]
  },
  {
   "cell_type": "code",
   "execution_count": 14,
   "id": "807d63f6",
   "metadata": {},
   "outputs": [
    {
     "name": "stdout",
     "output_type": "stream",
     "text": [
      "1\n",
      "63\n"
     ]
    }
   ],
   "source": [
    "# word-count\n",
    "def count_words_without_punctuation(text):\n",
    "    # Remove punctuation using regex pattern\n",
    "    text_without_punctuation = re.sub(r'[^\\w\\s]', '', text)\n",
    "    # Split text into words and return the count\n",
    "    return len(text_without_punctuation.split())\n",
    "\n",
    "conll2003_test_orgs['word_count'] = conll2003_test_orgs['input_text'].apply(count_words_without_punctuation)\n",
    "\n",
    "largest_word_count = conll2003_test_orgs['word_count'].max()\n",
    "smallest_word_count = conll2003_test_orgs['word_count'].min()\n",
    "\n",
    "print(smallest_word_count)\n",
    "print(largest_word_count)"
   ]
  },
  {
   "cell_type": "code",
   "execution_count": 15,
   "id": "9719248d",
   "metadata": {},
   "outputs": [
    {
     "data": {
      "text/html": [
       "<div>\n",
       "<style scoped>\n",
       "    .dataframe tbody tr th:only-of-type {\n",
       "        vertical-align: middle;\n",
       "    }\n",
       "\n",
       "    .dataframe tbody tr th {\n",
       "        vertical-align: top;\n",
       "    }\n",
       "\n",
       "    .dataframe thead th {\n",
       "        text-align: right;\n",
       "    }\n",
       "</style>\n",
       "<table border=\"1\" class=\"dataframe\">\n",
       "  <thead>\n",
       "    <tr style=\"text-align: right;\">\n",
       "      <th></th>\n",
       "      <th>sent_id</th>\n",
       "      <th>tokens</th>\n",
       "      <th>pos_tags</th>\n",
       "      <th>chunk_tags</th>\n",
       "      <th>ner_tags</th>\n",
       "      <th>input_text</th>\n",
       "      <th>mapped_ner_tags</th>\n",
       "      <th>orgs</th>\n",
       "      <th>word_count</th>\n",
       "    </tr>\n",
       "  </thead>\n",
       "  <tbody>\n",
       "    <tr>\n",
       "      <th>42</th>\n",
       "      <td>202</td>\n",
       "      <td>[Barbarians, -, 15, -, Tim, Stimpson, (, Engla...</td>\n",
       "      <td>[22, 8, 11, 8, 22, 22, 4, 22, 5, 8, 11, 8, 22,...</td>\n",
       "      <td>[11, 0, 11, 12, 12, 12, 0, 11, 0, 0, 11, 12, 1...</td>\n",
       "      <td>[3, 0, 0, 0, 1, 2, 0, 5, 0, 0, 0, 0, 1, 2, 0, ...</td>\n",
       "      <td>Barbarians - 15 - Tim Stimpson ( England ) ; 1...</td>\n",
       "      <td>[B-ORG, O, O, O, B-PER, I-PER, O, B-LOC, O, O,...</td>\n",
       "      <td>Barbarians</td>\n",
       "      <td>63</td>\n",
       "    </tr>\n",
       "    <tr>\n",
       "      <th>622</th>\n",
       "      <td>1841</td>\n",
       "      <td>[The, nominees, ,, according, to, diplomats, ,...</td>\n",
       "      <td>[12, 24, 6, 39, 35, 24, 6, 41, 8, 22, 22, 15, ...</td>\n",
       "      <td>[11, 12, 0, 13, 13, 11, 0, 21, 0, 11, 12, 13, ...</td>\n",
       "      <td>[0, 0, 0, 0, 0, 0, 0, 0, 0, 1, 2, 0, 5, 0, 0, ...</td>\n",
       "      <td>The nominees , according to diplomats , are : ...</td>\n",
       "      <td>[O, O, O, O, O, O, O, O, O, B-PER, I-PER, O, B...</td>\n",
       "      <td>U.N., U.N., U.N. General Assembly, Organisatio...</td>\n",
       "      <td>58</td>\n",
       "    </tr>\n",
       "    <tr>\n",
       "      <th>486</th>\n",
       "      <td>1312</td>\n",
       "      <td>[Russian, tax, and, cabinet, authorities, ,, u...</td>\n",
       "      <td>[16, 21, 10, 21, 24, 6, 15, 21, 15, 12, 22, 22...</td>\n",
       "      <td>[11, 12, 12, 12, 12, 0, 13, 11, 13, 11, 12, 12...</td>\n",
       "      <td>[7, 0, 0, 0, 0, 0, 0, 0, 0, 0, 3, 4, 4, 0, 0, ...</td>\n",
       "      <td>Russian tax and cabinet authorities , under pr...</td>\n",
       "      <td>[B-MISC, O, O, O, O, O, O, O, O, O, B-ORG, I-O...</td>\n",
       "      <td>International Monetary Fund</td>\n",
       "      <td>55</td>\n",
       "    </tr>\n",
       "    <tr>\n",
       "      <th>407</th>\n",
       "      <td>1021</td>\n",
       "      <td>[The, government, also, wants, British, Airway...</td>\n",
       "      <td>[12, 21, 30, 42, 22, 22, 35, 37, 12, 21, 15, 2...</td>\n",
       "      <td>[11, 12, 3, 21, 11, 12, 21, 22, 11, 12, 13, 11...</td>\n",
       "      <td>[0, 0, 0, 0, 3, 4, 0, 0, 0, 0, 0, 0, 0, 0, 3, ...</td>\n",
       "      <td>The government also wants British Airways to d...</td>\n",
       "      <td>[O, O, O, O, B-ORG, I-ORG, O, O, O, O, O, O, O...</td>\n",
       "      <td>British Airways, USAir, British Airways, American</td>\n",
       "      <td>53</td>\n",
       "    </tr>\n",
       "    <tr>\n",
       "      <th>382</th>\n",
       "      <td>950</td>\n",
       "      <td>[Company, President, Jean, van, Boxmeer, told,...</td>\n",
       "      <td>[22, 22, 22, 22, 22, 38, 22, 15, 12, 21, 15, 2...</td>\n",
       "      <td>[11, 12, 12, 12, 12, 21, 11, 13, 11, 12, 13, 1...</td>\n",
       "      <td>[0, 0, 1, 2, 2, 0, 3, 0, 0, 0, 0, 0, 0, 0, 0, ...</td>\n",
       "      <td>Company President Jean van Boxmeer told Reuter...</td>\n",
       "      <td>[O, O, B-PER, I-PER, I-PER, O, B-ORG, O, O, O,...</td>\n",
       "      <td>Reuters</td>\n",
       "      <td>52</td>\n",
       "    </tr>\n",
       "  </tbody>\n",
       "</table>\n",
       "</div>"
      ],
      "text/plain": [
       "    sent_id  \\\n",
       "42      202   \n",
       "622    1841   \n",
       "486    1312   \n",
       "407    1021   \n",
       "382     950   \n",
       "\n",
       "                                                tokens  \\\n",
       "42   [Barbarians, -, 15, -, Tim, Stimpson, (, Engla...   \n",
       "622  [The, nominees, ,, according, to, diplomats, ,...   \n",
       "486  [Russian, tax, and, cabinet, authorities, ,, u...   \n",
       "407  [The, government, also, wants, British, Airway...   \n",
       "382  [Company, President, Jean, van, Boxmeer, told,...   \n",
       "\n",
       "                                              pos_tags  \\\n",
       "42   [22, 8, 11, 8, 22, 22, 4, 22, 5, 8, 11, 8, 22,...   \n",
       "622  [12, 24, 6, 39, 35, 24, 6, 41, 8, 22, 22, 15, ...   \n",
       "486  [16, 21, 10, 21, 24, 6, 15, 21, 15, 12, 22, 22...   \n",
       "407  [12, 21, 30, 42, 22, 22, 35, 37, 12, 21, 15, 2...   \n",
       "382  [22, 22, 22, 22, 22, 38, 22, 15, 12, 21, 15, 2...   \n",
       "\n",
       "                                            chunk_tags  \\\n",
       "42   [11, 0, 11, 12, 12, 12, 0, 11, 0, 0, 11, 12, 1...   \n",
       "622  [11, 12, 0, 13, 13, 11, 0, 21, 0, 11, 12, 13, ...   \n",
       "486  [11, 12, 12, 12, 12, 0, 13, 11, 13, 11, 12, 12...   \n",
       "407  [11, 12, 3, 21, 11, 12, 21, 22, 11, 12, 13, 11...   \n",
       "382  [11, 12, 12, 12, 12, 21, 11, 13, 11, 12, 13, 1...   \n",
       "\n",
       "                                              ner_tags  \\\n",
       "42   [3, 0, 0, 0, 1, 2, 0, 5, 0, 0, 0, 0, 1, 2, 0, ...   \n",
       "622  [0, 0, 0, 0, 0, 0, 0, 0, 0, 1, 2, 0, 5, 0, 0, ...   \n",
       "486  [7, 0, 0, 0, 0, 0, 0, 0, 0, 0, 3, 4, 4, 0, 0, ...   \n",
       "407  [0, 0, 0, 0, 3, 4, 0, 0, 0, 0, 0, 0, 0, 0, 3, ...   \n",
       "382  [0, 0, 1, 2, 2, 0, 3, 0, 0, 0, 0, 0, 0, 0, 0, ...   \n",
       "\n",
       "                                            input_text  \\\n",
       "42   Barbarians - 15 - Tim Stimpson ( England ) ; 1...   \n",
       "622  The nominees , according to diplomats , are : ...   \n",
       "486  Russian tax and cabinet authorities , under pr...   \n",
       "407  The government also wants British Airways to d...   \n",
       "382  Company President Jean van Boxmeer told Reuter...   \n",
       "\n",
       "                                       mapped_ner_tags  \\\n",
       "42   [B-ORG, O, O, O, B-PER, I-PER, O, B-LOC, O, O,...   \n",
       "622  [O, O, O, O, O, O, O, O, O, B-PER, I-PER, O, B...   \n",
       "486  [B-MISC, O, O, O, O, O, O, O, O, O, B-ORG, I-O...   \n",
       "407  [O, O, O, O, B-ORG, I-ORG, O, O, O, O, O, O, O...   \n",
       "382  [O, O, B-PER, I-PER, I-PER, O, B-ORG, O, O, O,...   \n",
       "\n",
       "                                                  orgs  \\\n",
       "42                                          Barbarians   \n",
       "622  U.N., U.N., U.N. General Assembly, Organisatio...   \n",
       "486                        International Monetary Fund   \n",
       "407  British Airways, USAir, British Airways, American   \n",
       "382                                            Reuters   \n",
       "\n",
       "     word_count  \n",
       "42           63  \n",
       "622          58  \n",
       "486          55  \n",
       "407          53  \n",
       "382          52  "
      ]
     },
     "execution_count": 15,
     "metadata": {},
     "output_type": "execute_result"
    }
   ],
   "source": [
    "# Sort the DataFrame by word count in descending order\n",
    "df_sorted = conll2003_test_orgs.sort_values(by='word_count', ascending=False)\n",
    "\n",
    "# Print the head of the sorted DataFrame\n",
    "df_sorted.head()"
   ]
  },
  {
   "cell_type": "code",
   "execution_count": 13,
   "id": "84980ee4",
   "metadata": {},
   "outputs": [
    {
     "name": "stdout",
     "output_type": "stream",
     "text": [
      "['Blinker' 'missed' 'his' 'club' \"'s\" 'last' 'two' 'games' 'after' 'FIFA'\n",
      " 'slapped' 'a' 'worldwide' 'ban' 'on' 'him' 'for' 'appearing' 'to' 'sign'\n",
      " 'contracts' 'for' 'both' 'Wednesday' 'and' 'Udinese' 'while' 'he' 'was'\n",
      " 'playing' 'for' 'Feyenoord' '.']\n",
      "\n",
      "\n",
      "['B-PER', 'O', 'O', 'O', 'O', 'O', 'O', 'O', 'O', 'B-ORG', 'O', 'O', 'O', 'O', 'O', 'O', 'O', 'O', 'O', 'O', 'O', 'O', 'O', 'B-ORG', 'O', 'B-ORG', 'O', 'O', 'O', 'O', 'O', 'B-ORG', 'O']\n",
      "\n",
      "\n",
      "FIFA, Wednesday, Udinese, Feyenoord\n"
     ]
    }
   ],
   "source": [
    "index_sample = 4\n",
    "\n",
    "# Print data in 'tokens' column at index 4\n",
    "print(conll2003_test_orgs.at[index_sample, 'tokens'])\n",
    "print('\\n')\n",
    "# Print data in 'orgs' column at index 4\n",
    "print(conll2003_test_orgs.at[index_sample, 'mapped_ner_tags']) # 3-4 indicating org\n",
    "print('\\n')\n",
    "# Print data in 'orgs' column at index 4\n",
    "print(conll2003_test_orgs.at[index_sample, 'orgs'])"
   ]
  },
  {
   "cell_type": "markdown",
   "id": "5261c361",
   "metadata": {},
   "source": [
    "* Initially thought above was an error (Wednesday) however the full sentence possibly implies that it is actually an org."
   ]
  },
  {
   "cell_type": "code",
   "execution_count": 14,
   "id": "67648d7a",
   "metadata": {},
   "outputs": [
    {
     "name": "stdout",
     "output_type": "stream",
     "text": [
      "['Dutch' 'forward' 'Reggie' 'Blinker' 'had' 'his' 'indefinite'\n",
      " 'suspension' 'lifted' 'by' 'FIFA' 'on' 'Friday' 'and' 'was' 'set' 'to'\n",
      " 'make' 'his' 'Sheffield' 'Wednesday' 'comeback' 'against' 'Liverpool'\n",
      " 'on' 'Saturday' '.']\n",
      "\n",
      "\n",
      "['B-MISC', 'O', 'B-PER', 'I-PER', 'O', 'O', 'O', 'O', 'O', 'O', 'B-ORG', 'O', 'O', 'O', 'O', 'O', 'O', 'O', 'O', 'B-ORG', 'I-ORG', 'O', 'O', 'B-ORG', 'O', 'O', 'O']\n",
      "\n",
      "\n",
      "FIFA, Sheffield Wednesday, Liverpool\n"
     ]
    }
   ],
   "source": [
    "# Find the row where 'mapped_ner_tags' contains 'I-ORG'\n",
    "index_sample = conll2003_test_orgs[conll2003_test_orgs['mapped_ner_tags'\n",
    "                                                      ].apply(lambda tags: 'I-ORG' in tags)\n",
    "                                  ].index[1] # change index here for new example.\n",
    "\n",
    "# Print data in 'tokens' column at the identified index\n",
    "print(conll2003_test_orgs.at[index_sample, 'tokens'])\n",
    "print('\\n')\n",
    "\n",
    "# Print data in 'mapped_ner_tags' column at the identified index\n",
    "print(conll2003_test_orgs.at[index_sample, 'mapped_ner_tags'])\n",
    "print('\\n')\n",
    "\n",
    "# Print data in 'orgs' column at the identified index\n",
    "print(conll2003_test_orgs.at[index_sample, 'orgs'])"
   ]
  },
  {
   "cell_type": "markdown",
   "id": "65cf82a6",
   "metadata": {},
   "source": [
    "* Above example confirms previous commentary."
   ]
  },
  {
   "cell_type": "markdown",
   "id": "87080b9f",
   "metadata": {},
   "source": [
    "# Prompt generation to detect only orgs.\n",
    "* Attempting to use similar prompt format as used in main KG_construction, for consistency.\n",
    "* Aim is to benchmark NER.\n",
    "    * Despite the main research being KGC (triple extraction) -- the triples are centres on the main organisation detected in the Aylien article.\n",
    "    * Hence it makes sense to benchmark against NER, focussing on orgs.\n",
    "    * The conll-2003 dataset is also based on news articles.\n",
    "    \n",
    "In this iteration, we only work on the conll2003_test_orgs set, which are sentences that always contained at least 1 org (B-ORG tag)."
   ]
  },
  {
   "cell_type": "code",
   "execution_count": 15,
   "id": "1708c661",
   "metadata": {},
   "outputs": [
    {
     "name": "stdout",
     "output_type": "stream",
     "text": [
      "1229\n"
     ]
    },
    {
     "data": {
      "text/html": [
       "<div>\n",
       "<style scoped>\n",
       "    .dataframe tbody tr th:only-of-type {\n",
       "        vertical-align: middle;\n",
       "    }\n",
       "\n",
       "    .dataframe tbody tr th {\n",
       "        vertical-align: top;\n",
       "    }\n",
       "\n",
       "    .dataframe thead th {\n",
       "        text-align: right;\n",
       "    }\n",
       "</style>\n",
       "<table border=\"1\" class=\"dataframe\">\n",
       "  <thead>\n",
       "    <tr style=\"text-align: right;\">\n",
       "      <th></th>\n",
       "      <th>sent_id</th>\n",
       "      <th>tokens</th>\n",
       "      <th>pos_tags</th>\n",
       "      <th>chunk_tags</th>\n",
       "      <th>ner_tags</th>\n",
       "      <th>input_text</th>\n",
       "      <th>mapped_ner_tags</th>\n",
       "      <th>orgs</th>\n",
       "    </tr>\n",
       "  </thead>\n",
       "  <tbody>\n",
       "    <tr>\n",
       "      <th>0</th>\n",
       "      <td>19</td>\n",
       "      <td>[Japan, ,, co-hosts, of, the, World, Cup, in, ...</td>\n",
       "      <td>[22, 6, 42, 15, 12, 22, 22, 15, 11, 10, 38, 16...</td>\n",
       "      <td>[11, 0, 21, 13, 11, 12, 12, 13, 11, 0, 21, 11,...</td>\n",
       "      <td>[5, 0, 0, 0, 0, 7, 8, 0, 0, 0, 0, 0, 0, 0, 0, ...</td>\n",
       "      <td>Japan , co-hosts of the World Cup in 2002 and ...</td>\n",
       "      <td>[B-LOC, O, O, O, O, B-MISC, I-MISC, O, O, O, O...</td>\n",
       "      <td>FIFA</td>\n",
       "    </tr>\n",
       "    <tr>\n",
       "      <th>1</th>\n",
       "      <td>22</td>\n",
       "      <td>[RUGBY, UNION, -, CUTTITTA, BACK, FOR, ITALY, ...</td>\n",
       "      <td>[22, 21, 8, 22, 22, 15, 16, 22, 22, 22, 7]</td>\n",
       "      <td>[11, 12, 0, 11, 12, 13, 11, 12, 12, 12, 0]</td>\n",
       "      <td>[3, 4, 0, 1, 0, 0, 5, 0, 0, 0, 0]</td>\n",
       "      <td>RUGBY UNION - CUTTITTA BACK FOR ITALY AFTER A ...</td>\n",
       "      <td>[B-ORG, I-ORG, O, B-PER, O, O, B-LOC, O, O, O, O]</td>\n",
       "      <td>RUGBY UNION</td>\n",
       "    </tr>\n",
       "    <tr>\n",
       "      <th>2</th>\n",
       "      <td>141</td>\n",
       "      <td>[Plymouth, 4, Exeter, 1]</td>\n",
       "      <td>[21, 11, 22, 11]</td>\n",
       "      <td>[11, 12, 12, 12]</td>\n",
       "      <td>[3, 0, 3, 0]</td>\n",
       "      <td>Plymouth 4 Exeter 1</td>\n",
       "      <td>[B-ORG, O, B-ORG, O]</td>\n",
       "      <td>Plymouth, Exeter</td>\n",
       "    </tr>\n",
       "    <tr>\n",
       "      <th>3</th>\n",
       "      <td>144</td>\n",
       "      <td>[Dutch, forward, Reggie, Blinker, had, his, in...</td>\n",
       "      <td>[16, 16, 22, 22, 38, 29, 16, 21, 40, 15, 22, 1...</td>\n",
       "      <td>[11, 12, 12, 12, 21, 11, 12, 12, 21, 13, 11, 1...</td>\n",
       "      <td>[7, 0, 1, 2, 0, 0, 0, 0, 0, 0, 3, 0, 0, 0, 0, ...</td>\n",
       "      <td>Dutch forward Reggie Blinker had his indefinit...</td>\n",
       "      <td>[B-MISC, O, B-PER, I-PER, O, O, O, O, O, O, B-...</td>\n",
       "      <td>FIFA, Sheffield Wednesday, Liverpool</td>\n",
       "    </tr>\n",
       "    <tr>\n",
       "      <th>4</th>\n",
       "      <td>145</td>\n",
       "      <td>[Blinker, missed, his, club, 's, last, two, ga...</td>\n",
       "      <td>[21, 38, 29, 21, 27, 16, 11, 24, 15, 22, 38, 1...</td>\n",
       "      <td>[11, 21, 11, 12, 11, 12, 12, 12, 13, 11, 21, 1...</td>\n",
       "      <td>[1, 0, 0, 0, 0, 0, 0, 0, 0, 3, 0, 0, 0, 0, 0, ...</td>\n",
       "      <td>Blinker missed his club 's last two games afte...</td>\n",
       "      <td>[B-PER, O, O, O, O, O, O, O, O, B-ORG, O, O, O...</td>\n",
       "      <td>FIFA, Wednesday, Udinese, Feyenoord</td>\n",
       "    </tr>\n",
       "  </tbody>\n",
       "</table>\n",
       "</div>"
      ],
      "text/plain": [
       "  sent_id  \\\n",
       "0      19   \n",
       "1      22   \n",
       "2     141   \n",
       "3     144   \n",
       "4     145   \n",
       "\n",
       "                                              tokens  \\\n",
       "0  [Japan, ,, co-hosts, of, the, World, Cup, in, ...   \n",
       "1  [RUGBY, UNION, -, CUTTITTA, BACK, FOR, ITALY, ...   \n",
       "2                           [Plymouth, 4, Exeter, 1]   \n",
       "3  [Dutch, forward, Reggie, Blinker, had, his, in...   \n",
       "4  [Blinker, missed, his, club, 's, last, two, ga...   \n",
       "\n",
       "                                            pos_tags  \\\n",
       "0  [22, 6, 42, 15, 12, 22, 22, 15, 11, 10, 38, 16...   \n",
       "1         [22, 21, 8, 22, 22, 15, 16, 22, 22, 22, 7]   \n",
       "2                                   [21, 11, 22, 11]   \n",
       "3  [16, 16, 22, 22, 38, 29, 16, 21, 40, 15, 22, 1...   \n",
       "4  [21, 38, 29, 21, 27, 16, 11, 24, 15, 22, 38, 1...   \n",
       "\n",
       "                                          chunk_tags  \\\n",
       "0  [11, 0, 21, 13, 11, 12, 12, 13, 11, 0, 21, 11,...   \n",
       "1         [11, 12, 0, 11, 12, 13, 11, 12, 12, 12, 0]   \n",
       "2                                   [11, 12, 12, 12]   \n",
       "3  [11, 12, 12, 12, 21, 11, 12, 12, 21, 13, 11, 1...   \n",
       "4  [11, 21, 11, 12, 11, 12, 12, 12, 13, 11, 21, 1...   \n",
       "\n",
       "                                            ner_tags  \\\n",
       "0  [5, 0, 0, 0, 0, 7, 8, 0, 0, 0, 0, 0, 0, 0, 0, ...   \n",
       "1                  [3, 4, 0, 1, 0, 0, 5, 0, 0, 0, 0]   \n",
       "2                                       [3, 0, 3, 0]   \n",
       "3  [7, 0, 1, 2, 0, 0, 0, 0, 0, 0, 3, 0, 0, 0, 0, ...   \n",
       "4  [1, 0, 0, 0, 0, 0, 0, 0, 0, 3, 0, 0, 0, 0, 0, ...   \n",
       "\n",
       "                                          input_text  \\\n",
       "0  Japan , co-hosts of the World Cup in 2002 and ...   \n",
       "1  RUGBY UNION - CUTTITTA BACK FOR ITALY AFTER A ...   \n",
       "2                                Plymouth 4 Exeter 1   \n",
       "3  Dutch forward Reggie Blinker had his indefinit...   \n",
       "4  Blinker missed his club 's last two games afte...   \n",
       "\n",
       "                                     mapped_ner_tags  \\\n",
       "0  [B-LOC, O, O, O, O, B-MISC, I-MISC, O, O, O, O...   \n",
       "1  [B-ORG, I-ORG, O, B-PER, O, O, B-LOC, O, O, O, O]   \n",
       "2                               [B-ORG, O, B-ORG, O]   \n",
       "3  [B-MISC, O, B-PER, I-PER, O, O, O, O, O, O, B-...   \n",
       "4  [B-PER, O, O, O, O, O, O, O, O, B-ORG, O, O, O...   \n",
       "\n",
       "                                   orgs  \n",
       "0                                  FIFA  \n",
       "1                           RUGBY UNION  \n",
       "2                      Plymouth, Exeter  \n",
       "3  FIFA, Sheffield Wednesday, Liverpool  \n",
       "4   FIFA, Wednesday, Udinese, Feyenoord  "
      ]
     },
     "execution_count": 15,
     "metadata": {},
     "output_type": "execute_result"
    }
   ],
   "source": [
    "print(len(conll2003_test_orgs))\n",
    "conll2003_test_orgs.head()"
   ]
  },
  {
   "cell_type": "code",
   "execution_count": 16,
   "id": "7b1be559",
   "metadata": {},
   "outputs": [],
   "source": [
    "# Create a function to generate the prompt based on the row values\n",
    "def generate_prompt(row):\n",
    "\n",
    "    input_text = row['input_text']\n",
    "    \n",
    "    prompt = f'''I need you to show me organisations in the provided sentence. Do not show me any other entity types.\n",
    "    ###\n",
    "    Desired response format: ###\n",
    "    org1, org2, org3\n",
    "    ###\n",
    "    Desired response if no organisations found: ###\n",
    "    no_orgs\n",
    "    ###\n",
    "    For example, if I gave you: ###\n",
    "    \"James, living in Japan, missed his club 's last two games after FIFA slapped a worldwide ban on him for appearing to sign contracts for both Wednesday and Udinese while he was playing for Feyenoord .\",\n",
    "    you would only give me:\n",
    "    FIFA, Wednesday, Udinese, Feyenoord\n",
    "    ###\n",
    "    The provided sentence is: ###\n",
    "    {input_text}\n",
    "    ###\n",
    "    '''\n",
    "    \n",
    "    return prompt\n",
    "\n",
    "# Add a new 'prompt' column by applying the generate_prompt function to each row\n",
    "conll2003_test_orgs['prompt'] = conll2003_test_orgs.apply(generate_prompt, axis=1)\n",
    "conll2003_test_orgs['prompt'] = conll2003_test_orgs['prompt'].astype(str)\n"
   ]
  },
  {
   "cell_type": "code",
   "execution_count": 17,
   "id": "56b933e9",
   "metadata": {},
   "outputs": [
    {
     "name": "stdout",
     "output_type": "stream",
     "text": [
      "1229\n"
     ]
    },
    {
     "data": {
      "text/html": [
       "<div>\n",
       "<style scoped>\n",
       "    .dataframe tbody tr th:only-of-type {\n",
       "        vertical-align: middle;\n",
       "    }\n",
       "\n",
       "    .dataframe tbody tr th {\n",
       "        vertical-align: top;\n",
       "    }\n",
       "\n",
       "    .dataframe thead th {\n",
       "        text-align: right;\n",
       "    }\n",
       "</style>\n",
       "<table border=\"1\" class=\"dataframe\">\n",
       "  <thead>\n",
       "    <tr style=\"text-align: right;\">\n",
       "      <th></th>\n",
       "      <th>sent_id</th>\n",
       "      <th>tokens</th>\n",
       "      <th>pos_tags</th>\n",
       "      <th>chunk_tags</th>\n",
       "      <th>ner_tags</th>\n",
       "      <th>input_text</th>\n",
       "      <th>mapped_ner_tags</th>\n",
       "      <th>orgs</th>\n",
       "      <th>prompt</th>\n",
       "    </tr>\n",
       "  </thead>\n",
       "  <tbody>\n",
       "    <tr>\n",
       "      <th>0</th>\n",
       "      <td>19</td>\n",
       "      <td>[Japan, ,, co-hosts, of, the, World, Cup, in, ...</td>\n",
       "      <td>[22, 6, 42, 15, 12, 22, 22, 15, 11, 10, 38, 16...</td>\n",
       "      <td>[11, 0, 21, 13, 11, 12, 12, 13, 11, 0, 21, 11,...</td>\n",
       "      <td>[5, 0, 0, 0, 0, 7, 8, 0, 0, 0, 0, 0, 0, 0, 0, ...</td>\n",
       "      <td>Japan , co-hosts of the World Cup in 2002 and ...</td>\n",
       "      <td>[B-LOC, O, O, O, O, B-MISC, I-MISC, O, O, O, O...</td>\n",
       "      <td>FIFA</td>\n",
       "      <td>I need you to show me organisations in the pro...</td>\n",
       "    </tr>\n",
       "    <tr>\n",
       "      <th>1</th>\n",
       "      <td>22</td>\n",
       "      <td>[RUGBY, UNION, -, CUTTITTA, BACK, FOR, ITALY, ...</td>\n",
       "      <td>[22, 21, 8, 22, 22, 15, 16, 22, 22, 22, 7]</td>\n",
       "      <td>[11, 12, 0, 11, 12, 13, 11, 12, 12, 12, 0]</td>\n",
       "      <td>[3, 4, 0, 1, 0, 0, 5, 0, 0, 0, 0]</td>\n",
       "      <td>RUGBY UNION - CUTTITTA BACK FOR ITALY AFTER A ...</td>\n",
       "      <td>[B-ORG, I-ORG, O, B-PER, O, O, B-LOC, O, O, O, O]</td>\n",
       "      <td>RUGBY UNION</td>\n",
       "      <td>I need you to show me organisations in the pro...</td>\n",
       "    </tr>\n",
       "    <tr>\n",
       "      <th>2</th>\n",
       "      <td>141</td>\n",
       "      <td>[Plymouth, 4, Exeter, 1]</td>\n",
       "      <td>[21, 11, 22, 11]</td>\n",
       "      <td>[11, 12, 12, 12]</td>\n",
       "      <td>[3, 0, 3, 0]</td>\n",
       "      <td>Plymouth 4 Exeter 1</td>\n",
       "      <td>[B-ORG, O, B-ORG, O]</td>\n",
       "      <td>Plymouth, Exeter</td>\n",
       "      <td>I need you to show me organisations in the pro...</td>\n",
       "    </tr>\n",
       "    <tr>\n",
       "      <th>3</th>\n",
       "      <td>144</td>\n",
       "      <td>[Dutch, forward, Reggie, Blinker, had, his, in...</td>\n",
       "      <td>[16, 16, 22, 22, 38, 29, 16, 21, 40, 15, 22, 1...</td>\n",
       "      <td>[11, 12, 12, 12, 21, 11, 12, 12, 21, 13, 11, 1...</td>\n",
       "      <td>[7, 0, 1, 2, 0, 0, 0, 0, 0, 0, 3, 0, 0, 0, 0, ...</td>\n",
       "      <td>Dutch forward Reggie Blinker had his indefinit...</td>\n",
       "      <td>[B-MISC, O, B-PER, I-PER, O, O, O, O, O, O, B-...</td>\n",
       "      <td>FIFA, Sheffield Wednesday, Liverpool</td>\n",
       "      <td>I need you to show me organisations in the pro...</td>\n",
       "    </tr>\n",
       "    <tr>\n",
       "      <th>4</th>\n",
       "      <td>145</td>\n",
       "      <td>[Blinker, missed, his, club, 's, last, two, ga...</td>\n",
       "      <td>[21, 38, 29, 21, 27, 16, 11, 24, 15, 22, 38, 1...</td>\n",
       "      <td>[11, 21, 11, 12, 11, 12, 12, 12, 13, 11, 21, 1...</td>\n",
       "      <td>[1, 0, 0, 0, 0, 0, 0, 0, 0, 3, 0, 0, 0, 0, 0, ...</td>\n",
       "      <td>Blinker missed his club 's last two games afte...</td>\n",
       "      <td>[B-PER, O, O, O, O, O, O, O, O, B-ORG, O, O, O...</td>\n",
       "      <td>FIFA, Wednesday, Udinese, Feyenoord</td>\n",
       "      <td>I need you to show me organisations in the pro...</td>\n",
       "    </tr>\n",
       "  </tbody>\n",
       "</table>\n",
       "</div>"
      ],
      "text/plain": [
       "  sent_id  \\\n",
       "0      19   \n",
       "1      22   \n",
       "2     141   \n",
       "3     144   \n",
       "4     145   \n",
       "\n",
       "                                              tokens  \\\n",
       "0  [Japan, ,, co-hosts, of, the, World, Cup, in, ...   \n",
       "1  [RUGBY, UNION, -, CUTTITTA, BACK, FOR, ITALY, ...   \n",
       "2                           [Plymouth, 4, Exeter, 1]   \n",
       "3  [Dutch, forward, Reggie, Blinker, had, his, in...   \n",
       "4  [Blinker, missed, his, club, 's, last, two, ga...   \n",
       "\n",
       "                                            pos_tags  \\\n",
       "0  [22, 6, 42, 15, 12, 22, 22, 15, 11, 10, 38, 16...   \n",
       "1         [22, 21, 8, 22, 22, 15, 16, 22, 22, 22, 7]   \n",
       "2                                   [21, 11, 22, 11]   \n",
       "3  [16, 16, 22, 22, 38, 29, 16, 21, 40, 15, 22, 1...   \n",
       "4  [21, 38, 29, 21, 27, 16, 11, 24, 15, 22, 38, 1...   \n",
       "\n",
       "                                          chunk_tags  \\\n",
       "0  [11, 0, 21, 13, 11, 12, 12, 13, 11, 0, 21, 11,...   \n",
       "1         [11, 12, 0, 11, 12, 13, 11, 12, 12, 12, 0]   \n",
       "2                                   [11, 12, 12, 12]   \n",
       "3  [11, 12, 12, 12, 21, 11, 12, 12, 21, 13, 11, 1...   \n",
       "4  [11, 21, 11, 12, 11, 12, 12, 12, 13, 11, 21, 1...   \n",
       "\n",
       "                                            ner_tags  \\\n",
       "0  [5, 0, 0, 0, 0, 7, 8, 0, 0, 0, 0, 0, 0, 0, 0, ...   \n",
       "1                  [3, 4, 0, 1, 0, 0, 5, 0, 0, 0, 0]   \n",
       "2                                       [3, 0, 3, 0]   \n",
       "3  [7, 0, 1, 2, 0, 0, 0, 0, 0, 0, 3, 0, 0, 0, 0, ...   \n",
       "4  [1, 0, 0, 0, 0, 0, 0, 0, 0, 3, 0, 0, 0, 0, 0, ...   \n",
       "\n",
       "                                          input_text  \\\n",
       "0  Japan , co-hosts of the World Cup in 2002 and ...   \n",
       "1  RUGBY UNION - CUTTITTA BACK FOR ITALY AFTER A ...   \n",
       "2                                Plymouth 4 Exeter 1   \n",
       "3  Dutch forward Reggie Blinker had his indefinit...   \n",
       "4  Blinker missed his club 's last two games afte...   \n",
       "\n",
       "                                     mapped_ner_tags  \\\n",
       "0  [B-LOC, O, O, O, O, B-MISC, I-MISC, O, O, O, O...   \n",
       "1  [B-ORG, I-ORG, O, B-PER, O, O, B-LOC, O, O, O, O]   \n",
       "2                               [B-ORG, O, B-ORG, O]   \n",
       "3  [B-MISC, O, B-PER, I-PER, O, O, O, O, O, O, B-...   \n",
       "4  [B-PER, O, O, O, O, O, O, O, O, B-ORG, O, O, O...   \n",
       "\n",
       "                                   orgs  \\\n",
       "0                                  FIFA   \n",
       "1                           RUGBY UNION   \n",
       "2                      Plymouth, Exeter   \n",
       "3  FIFA, Sheffield Wednesday, Liverpool   \n",
       "4   FIFA, Wednesday, Udinese, Feyenoord   \n",
       "\n",
       "                                              prompt  \n",
       "0  I need you to show me organisations in the pro...  \n",
       "1  I need you to show me organisations in the pro...  \n",
       "2  I need you to show me organisations in the pro...  \n",
       "3  I need you to show me organisations in the pro...  \n",
       "4  I need you to show me organisations in the pro...  "
      ]
     },
     "execution_count": 17,
     "metadata": {},
     "output_type": "execute_result"
    }
   ],
   "source": [
    "print(len(conll2003_test_orgs))\n",
    "conll2003_test_orgs.head()"
   ]
  },
  {
   "cell_type": "code",
   "execution_count": 18,
   "id": "48745a93",
   "metadata": {},
   "outputs": [],
   "source": [
    "# export the input data with prompts:\n",
    "\n",
    "conll2003_test_orgs.to_excel('./benchmarking/input/conll2003_test_orgs.xlsx')"
   ]
  },
  {
   "cell_type": "code",
   "execution_count": 19,
   "id": "4590ea26",
   "metadata": {},
   "outputs": [
    {
     "data": {
      "text/plain": [
       "'I need you to show me organisations in the provided sentence. Do not show me any other entity types.\\n    ###\\n    Desired response format: ###\\n    org1, org2, org3\\n    ###\\n    Desired response if no organisations found: ###\\n    no_orgs\\n    ###\\n    For example, if I gave you: ###\\n    \"James, living in Japan, missed his club \\'s last two games after FIFA slapped a worldwide ban on him for appearing to sign contracts for both Wednesday and Udinese while he was playing for Feyenoord .\",\\n    you would only give me:\\n    FIFA, Wednesday, Udinese, Feyenoord\\n    ###\\n    The provided sentence is: ###\\n    Japan , co-hosts of the World Cup in 2002 and ranked 20th in the world by FIFA , are favourites to regain their title here .\\n    ###\\n    '"
      ]
     },
     "execution_count": 19,
     "metadata": {},
     "output_type": "execute_result"
    }
   ],
   "source": [
    "# convert to list to explore prompts:\n",
    "\n",
    "all_prompts = conll2003_test_orgs['prompt'].tolist()\n",
    "all_prompts[0]"
   ]
  },
  {
   "cell_type": "markdown",
   "id": "b7358ddd",
   "metadata": {},
   "source": [
    "# Exploring prompts"
   ]
  },
  {
   "cell_type": "markdown",
   "id": "b8f8f872",
   "metadata": {},
   "source": [
    "## Investigate average length of tokens\n",
    "\n",
    "* Important for pricing forecast and LLM API restrictions"
   ]
  },
  {
   "cell_type": "markdown",
   "id": "d8829216",
   "metadata": {},
   "source": [
    "### with tiktoken"
   ]
  },
  {
   "cell_type": "code",
   "execution_count": 20,
   "id": "300088e3",
   "metadata": {},
   "outputs": [],
   "source": [
    "encoding = tiktoken.encoding_for_model(\"gpt-3.5-turbo\")\n",
    "#encoding = tiktoken.get_encoding(\"cl100k_base\")"
   ]
  },
  {
   "cell_type": "code",
   "execution_count": 21,
   "id": "09f259c4",
   "metadata": {},
   "outputs": [],
   "source": [
    "# fns to count strings in list of prompts:\n",
    "\n",
    "def num_tokens_from_string(string: str, encoding_name: str) -> int:\n",
    "    \"\"\"Returns the number of tokens in a text string.\"\"\"\n",
    "    encoding = tiktoken.get_encoding(encoding_name)\n",
    "    num_tokens = len(encoding.encode(string))\n",
    "    return num_tokens\n",
    "\n",
    "def count_tokens_in_list(prompt_list: list, encoding_name: str) -> list:\n",
    "    \"\"\"Returns a list of integers representing the number of tokens in each string in the input list.\"\"\"\n",
    "    token_counts = []\n",
    "    for prompt in prompt_list:\n",
    "        num_tokens = num_tokens_from_string(prompt, encoding_name)\n",
    "        token_counts.append(num_tokens)\n",
    "    return token_counts\n"
   ]
  },
  {
   "cell_type": "code",
   "execution_count": 22,
   "id": "aec8734b",
   "metadata": {},
   "outputs": [],
   "source": [
    "encoding_name = \"cl100k_base\" # used for gpt-3.5-turbo\n",
    "token_counts = count_tokens_in_list(all_prompts, encoding_name)"
   ]
  },
  {
   "cell_type": "code",
   "execution_count": 23,
   "id": "ab58f212",
   "metadata": {},
   "outputs": [
    {
     "name": "stdout",
     "output_type": "stream",
     "text": [
      "Number of tokens on the smallest prompt: 147\n",
      "Number of tokens on the largest prompt: 300\n",
      "Total number of tokens for all prompts: 204113\n",
      "Average number of tokens in all_prompts: 166.08055329536208\n"
     ]
    }
   ],
   "source": [
    "min_tokens = min(token_counts)\n",
    "max_tokens = max(token_counts)\n",
    "total_tokens = sum(i for i in token_counts if isinstance(i, int))\n",
    "average_tokens = total_tokens / len(all_prompts)\n",
    "\n",
    "print(f\"Number of tokens on the smallest prompt: {min_tokens}\")\n",
    "print(f\"Number of tokens on the largest prompt: {max_tokens}\")\n",
    "print(f\"Total number of tokens for all prompts: {total_tokens}\")\n",
    "print(f\"Average number of tokens in all_prompts: {average_tokens}\")"
   ]
  },
  {
   "cell_type": "code",
   "execution_count": 24,
   "id": "07607a84",
   "metadata": {},
   "outputs": [
    {
     "data": {
      "text/plain": [
       "42"
      ]
     },
     "execution_count": 24,
     "metadata": {},
     "output_type": "execute_result"
    }
   ],
   "source": [
    "# Estimating max response tokens if prompt works correctly (update to reflect prompt used)\n",
    "\n",
    "#num_tokens_from_string(\"facing risk: yes. type of risk: thisis some text for a risk type.\", \"cl100k_base\")\n",
    "\n",
    "num_tokens_from_string(\n",
    "    \n",
    "    '''\n",
    "    [org1, org2, org3, 3oigh3io4gh34, 3o4igh34iogh34, 3o4igh34iogh\n",
    "    '''\n",
    "                       ,\"cl100k_base\" )"
   ]
  },
  {
   "cell_type": "markdown",
   "id": "b8ece9ae",
   "metadata": {},
   "source": [
    "### Truncate tokens of long prompts\n",
    "\n",
    "**** NO NEED TO TRUNCATE PROMPTS WORKING WITH conll2003_test_orgs ****\n",
    "**** All are below token input threshold ****\n",
    "\n",
    "* gpt-3.5-turbo has max tokens of 4,096 tokens\n",
    "* This includes prompt and response tokens combined.\n",
    "* response tokens should be short due to the attempt at prompt restrictions;\n",
    "    * i.e. Provide answers only in the format of <facing risk: <'yes'/'no'>. type of risk: < risk type >.> and nothing else.\n",
    "* so a generous estimate of response tokens would be 100, providing gpt-3.5-turbo successfully adheres to above prompting.\n",
    "* Therefore truncate prompt tokens to 3500 to be safe."
   ]
  },
  {
   "cell_type": "raw",
   "id": "e5b88ae8",
   "metadata": {},
   "source": [
    "def truncate_prompt(prompt: str, encoding_name: str, max_tokens: int) -> str:\n",
    "    \"\"\"Truncates a text string to the specified number of tokens.\"\"\"\n",
    "    encoding = tiktoken.get_encoding(encoding_name)\n",
    "    tokens = encoding.encode(prompt)[:max_tokens]\n",
    "    return encoding.decode(tokens)\n",
    "\n",
    "\n",
    "def count_tokens_for_truncating(prompt_list: list, encoding_name: str, max_tokens: int) -> list:\n",
    "    \"\"\"Returns a list of strings with a maximum of max_tokens tokens.\"\"\"\n",
    "    token_counts = []\n",
    "    truncated_prompts = []\n",
    "    for prompt in prompt_list:\n",
    "        num_tokens = num_tokens_from_string(prompt, encoding_name)\n",
    "        if num_tokens > max_tokens:\n",
    "            truncated_prompt = truncate_prompt(prompt, encoding_name, max_tokens)\n",
    "            token_counts.append(max_tokens)\n",
    "        else:\n",
    "            truncated_prompt = prompt\n",
    "            token_counts.append(num_tokens)\n",
    "        truncated_prompts.append(truncated_prompt)\n",
    "    return truncated_prompts, token_counts\n"
   ]
  },
  {
   "cell_type": "raw",
   "id": "d79bb2a7",
   "metadata": {},
   "source": [
    "encoding_name = \"cl100k_base\" # used for gpt-3.5-turbo\n",
    "# encoding_name = \"r50k_base\" # used for GPT-3 models. todo check this.\n",
    "max_tokens = 3500 # Update this based on model to be used in 'Generating responses' section to correspond to token limitations.\n",
    "#all_prompts = # your list of prompts here\n",
    "\n",
    "truncated_prompts, token_counts = count_tokens_for_truncating(all_prompts, encoding_name, max_tokens)"
   ]
  },
  {
   "cell_type": "raw",
   "id": "4018a089",
   "metadata": {},
   "source": [
    "# Compare output to previous token counts.\n",
    "\n",
    "token_counts_truncated_prompts = count_tokens_in_list(truncated_prompts, encoding_name)\n",
    "min_tokens_truncated_prompts = min(token_counts_truncated_prompts)\n",
    "max_tokens_truncated_prompts = max(token_counts_truncated_prompts)\n",
    "total_tokens_truncated_prompts = sum(i for i in token_counts_truncated_prompts if isinstance(i, int))\n",
    "average_tokens_truncated_prompts = total_tokens_truncated_prompts / len(truncated_prompts)\n",
    "\n",
    "print(f\"Number of tokens on the smallest prompt: {min_tokens_truncated_prompts}\")\n",
    "print(f\"Number of tokens on the largest prompt: {max_tokens_truncated_prompts}\")\n",
    "print(f\"Total number of tokens for all prompts: {total_tokens_truncated_prompts}\")\n",
    "print(f\"Average number of tokens in all_prompts: {average_tokens_truncated_prompts}\")\n",
    "\n",
    "# Compare output to previous output (prior to truncation)."
   ]
  },
  {
   "cell_type": "raw",
   "id": "95772e7a",
   "metadata": {},
   "source": [
    "print(\"Total number of truncated prompts: \",len(truncated_prompts))\n",
    "\n",
    "print(truncated_prompts[:1])"
   ]
  },
  {
   "cell_type": "markdown",
   "id": "5f2db20b",
   "metadata": {},
   "source": [
    "# Feed prompts into LLM\n",
    "\n",
    "* Initially was working from a list of prompts.\n",
    "* Modified to work from df and append response directly to df in new 'responses' col.\n",
    "    * Allows for linking to sent_id without feeding id into prompt."
   ]
  },
  {
   "cell_type": "code",
   "execution_count": 25,
   "id": "8737d98c",
   "metadata": {},
   "outputs": [
    {
     "data": {
      "text/html": [
       "<div>\n",
       "<style scoped>\n",
       "    .dataframe tbody tr th:only-of-type {\n",
       "        vertical-align: middle;\n",
       "    }\n",
       "\n",
       "    .dataframe tbody tr th {\n",
       "        vertical-align: top;\n",
       "    }\n",
       "\n",
       "    .dataframe thead th {\n",
       "        text-align: right;\n",
       "    }\n",
       "</style>\n",
       "<table border=\"1\" class=\"dataframe\">\n",
       "  <thead>\n",
       "    <tr style=\"text-align: right;\">\n",
       "      <th></th>\n",
       "      <th>sent_id</th>\n",
       "      <th>tokens</th>\n",
       "      <th>pos_tags</th>\n",
       "      <th>chunk_tags</th>\n",
       "      <th>ner_tags</th>\n",
       "      <th>input_text</th>\n",
       "      <th>mapped_ner_tags</th>\n",
       "      <th>orgs</th>\n",
       "      <th>prompt</th>\n",
       "    </tr>\n",
       "  </thead>\n",
       "  <tbody>\n",
       "    <tr>\n",
       "      <th>0</th>\n",
       "      <td>19</td>\n",
       "      <td>[Japan, ,, co-hosts, of, the, World, Cup, in, ...</td>\n",
       "      <td>[22, 6, 42, 15, 12, 22, 22, 15, 11, 10, 38, 16...</td>\n",
       "      <td>[11, 0, 21, 13, 11, 12, 12, 13, 11, 0, 21, 11,...</td>\n",
       "      <td>[5, 0, 0, 0, 0, 7, 8, 0, 0, 0, 0, 0, 0, 0, 0, ...</td>\n",
       "      <td>Japan , co-hosts of the World Cup in 2002 and ...</td>\n",
       "      <td>[B-LOC, O, O, O, O, B-MISC, I-MISC, O, O, O, O...</td>\n",
       "      <td>FIFA</td>\n",
       "      <td>I need you to show me organisations in the pro...</td>\n",
       "    </tr>\n",
       "    <tr>\n",
       "      <th>1</th>\n",
       "      <td>22</td>\n",
       "      <td>[RUGBY, UNION, -, CUTTITTA, BACK, FOR, ITALY, ...</td>\n",
       "      <td>[22, 21, 8, 22, 22, 15, 16, 22, 22, 22, 7]</td>\n",
       "      <td>[11, 12, 0, 11, 12, 13, 11, 12, 12, 12, 0]</td>\n",
       "      <td>[3, 4, 0, 1, 0, 0, 5, 0, 0, 0, 0]</td>\n",
       "      <td>RUGBY UNION - CUTTITTA BACK FOR ITALY AFTER A ...</td>\n",
       "      <td>[B-ORG, I-ORG, O, B-PER, O, O, B-LOC, O, O, O, O]</td>\n",
       "      <td>RUGBY UNION</td>\n",
       "      <td>I need you to show me organisations in the pro...</td>\n",
       "    </tr>\n",
       "    <tr>\n",
       "      <th>2</th>\n",
       "      <td>141</td>\n",
       "      <td>[Plymouth, 4, Exeter, 1]</td>\n",
       "      <td>[21, 11, 22, 11]</td>\n",
       "      <td>[11, 12, 12, 12]</td>\n",
       "      <td>[3, 0, 3, 0]</td>\n",
       "      <td>Plymouth 4 Exeter 1</td>\n",
       "      <td>[B-ORG, O, B-ORG, O]</td>\n",
       "      <td>Plymouth, Exeter</td>\n",
       "      <td>I need you to show me organisations in the pro...</td>\n",
       "    </tr>\n",
       "    <tr>\n",
       "      <th>3</th>\n",
       "      <td>144</td>\n",
       "      <td>[Dutch, forward, Reggie, Blinker, had, his, in...</td>\n",
       "      <td>[16, 16, 22, 22, 38, 29, 16, 21, 40, 15, 22, 1...</td>\n",
       "      <td>[11, 12, 12, 12, 21, 11, 12, 12, 21, 13, 11, 1...</td>\n",
       "      <td>[7, 0, 1, 2, 0, 0, 0, 0, 0, 0, 3, 0, 0, 0, 0, ...</td>\n",
       "      <td>Dutch forward Reggie Blinker had his indefinit...</td>\n",
       "      <td>[B-MISC, O, B-PER, I-PER, O, O, O, O, O, O, B-...</td>\n",
       "      <td>FIFA, Sheffield Wednesday, Liverpool</td>\n",
       "      <td>I need you to show me organisations in the pro...</td>\n",
       "    </tr>\n",
       "    <tr>\n",
       "      <th>4</th>\n",
       "      <td>145</td>\n",
       "      <td>[Blinker, missed, his, club, 's, last, two, ga...</td>\n",
       "      <td>[21, 38, 29, 21, 27, 16, 11, 24, 15, 22, 38, 1...</td>\n",
       "      <td>[11, 21, 11, 12, 11, 12, 12, 12, 13, 11, 21, 1...</td>\n",
       "      <td>[1, 0, 0, 0, 0, 0, 0, 0, 0, 3, 0, 0, 0, 0, 0, ...</td>\n",
       "      <td>Blinker missed his club 's last two games afte...</td>\n",
       "      <td>[B-PER, O, O, O, O, O, O, O, O, B-ORG, O, O, O...</td>\n",
       "      <td>FIFA, Wednesday, Udinese, Feyenoord</td>\n",
       "      <td>I need you to show me organisations in the pro...</td>\n",
       "    </tr>\n",
       "  </tbody>\n",
       "</table>\n",
       "</div>"
      ],
      "text/plain": [
       "  sent_id  \\\n",
       "0      19   \n",
       "1      22   \n",
       "2     141   \n",
       "3     144   \n",
       "4     145   \n",
       "\n",
       "                                              tokens  \\\n",
       "0  [Japan, ,, co-hosts, of, the, World, Cup, in, ...   \n",
       "1  [RUGBY, UNION, -, CUTTITTA, BACK, FOR, ITALY, ...   \n",
       "2                           [Plymouth, 4, Exeter, 1]   \n",
       "3  [Dutch, forward, Reggie, Blinker, had, his, in...   \n",
       "4  [Blinker, missed, his, club, 's, last, two, ga...   \n",
       "\n",
       "                                            pos_tags  \\\n",
       "0  [22, 6, 42, 15, 12, 22, 22, 15, 11, 10, 38, 16...   \n",
       "1         [22, 21, 8, 22, 22, 15, 16, 22, 22, 22, 7]   \n",
       "2                                   [21, 11, 22, 11]   \n",
       "3  [16, 16, 22, 22, 38, 29, 16, 21, 40, 15, 22, 1...   \n",
       "4  [21, 38, 29, 21, 27, 16, 11, 24, 15, 22, 38, 1...   \n",
       "\n",
       "                                          chunk_tags  \\\n",
       "0  [11, 0, 21, 13, 11, 12, 12, 13, 11, 0, 21, 11,...   \n",
       "1         [11, 12, 0, 11, 12, 13, 11, 12, 12, 12, 0]   \n",
       "2                                   [11, 12, 12, 12]   \n",
       "3  [11, 12, 12, 12, 21, 11, 12, 12, 21, 13, 11, 1...   \n",
       "4  [11, 21, 11, 12, 11, 12, 12, 12, 13, 11, 21, 1...   \n",
       "\n",
       "                                            ner_tags  \\\n",
       "0  [5, 0, 0, 0, 0, 7, 8, 0, 0, 0, 0, 0, 0, 0, 0, ...   \n",
       "1                  [3, 4, 0, 1, 0, 0, 5, 0, 0, 0, 0]   \n",
       "2                                       [3, 0, 3, 0]   \n",
       "3  [7, 0, 1, 2, 0, 0, 0, 0, 0, 0, 3, 0, 0, 0, 0, ...   \n",
       "4  [1, 0, 0, 0, 0, 0, 0, 0, 0, 3, 0, 0, 0, 0, 0, ...   \n",
       "\n",
       "                                          input_text  \\\n",
       "0  Japan , co-hosts of the World Cup in 2002 and ...   \n",
       "1  RUGBY UNION - CUTTITTA BACK FOR ITALY AFTER A ...   \n",
       "2                                Plymouth 4 Exeter 1   \n",
       "3  Dutch forward Reggie Blinker had his indefinit...   \n",
       "4  Blinker missed his club 's last two games afte...   \n",
       "\n",
       "                                     mapped_ner_tags  \\\n",
       "0  [B-LOC, O, O, O, O, B-MISC, I-MISC, O, O, O, O...   \n",
       "1  [B-ORG, I-ORG, O, B-PER, O, O, B-LOC, O, O, O, O]   \n",
       "2                               [B-ORG, O, B-ORG, O]   \n",
       "3  [B-MISC, O, B-PER, I-PER, O, O, O, O, O, O, B-...   \n",
       "4  [B-PER, O, O, O, O, O, O, O, O, B-ORG, O, O, O...   \n",
       "\n",
       "                                   orgs  \\\n",
       "0                                  FIFA   \n",
       "1                           RUGBY UNION   \n",
       "2                      Plymouth, Exeter   \n",
       "3  FIFA, Sheffield Wednesday, Liverpool   \n",
       "4   FIFA, Wednesday, Udinese, Feyenoord   \n",
       "\n",
       "                                              prompt  \n",
       "0  I need you to show me organisations in the pro...  \n",
       "1  I need you to show me organisations in the pro...  \n",
       "2  I need you to show me organisations in the pro...  \n",
       "3  I need you to show me organisations in the pro...  \n",
       "4  I need you to show me organisations in the pro...  "
      ]
     },
     "execution_count": 25,
     "metadata": {},
     "output_type": "execute_result"
    }
   ],
   "source": [
    "# Create new df to contain responses at corresponding rows.\n",
    "\n",
    "# MODIFY TO SPECIFY AMOUNT OF INPUT.\n",
    "\n",
    "conll2003_test_orgs_responses = conll2003_test_orgs.copy()\n",
    "conll2003_test_orgs_responses.head()"
   ]
  },
  {
   "cell_type": "code",
   "execution_count": 26,
   "id": "f3007230",
   "metadata": {},
   "outputs": [],
   "source": [
    "openai.api_key = os.getenv('OPENAI_KEY')"
   ]
  },
  {
   "cell_type": "code",
   "execution_count": 27,
   "id": "350fca50",
   "metadata": {},
   "outputs": [],
   "source": [
    "# model:\n",
    "GPT_MODEL = \"gpt-3.5-turbo\"\n",
    "\n",
    "# Retry parameters\n",
    "max_retries = 3\n",
    "retry_delay = 5  # in seconds\n",
    "\n",
    "# Initialize a new column 'responses' in the dataframe\n",
    "conll2003_test_orgs_responses.loc[:, 'responses'] = ''\n",
    "\n",
    "def generate_responses(input_df):\n",
    "    for idx, row in tqdm(input_df.iterrows(), total=len(input_df), desc=\"Generating responses\"):\n",
    "        try:\n",
    "            query = row['prompt']\n",
    "\n",
    "            if query is None or query.strip() == '':\n",
    "                print(f\"Empty prompt at index {idx}. Skipping this row.\")\n",
    "                continue\n",
    "\n",
    "            retries = 0\n",
    "            while retries < max_retries:\n",
    "                try:\n",
    "                    response = openai.ChatCompletion.create(\n",
    "                        model=GPT_MODEL,\n",
    "                        messages=[\n",
    "                            {\"role\": \"system\", \"content\": \"You will detect organisations in the provided sentence.\"},\n",
    "                            {\"role\": \"user\", \"content\": query}, # In general, gpt-3.5-turbo-0301 does not pay strong attention to the system message, and therefore important instructions are often better placed in a user message.\n",
    "                        ],\n",
    "                        temperature=0,\n",
    "                        max_tokens=600,  # max tokens in response. token limit (4096) must be < largest query + message content + max_tokens\n",
    "                    )\n",
    "\n",
    "                    response_content = response['choices'][0]['message']['content']\n",
    "                    print(response_content)  # Print just the message content\n",
    "\n",
    "                    # Add the response to the 'responses' column of the dataframe\n",
    "                    input_df.loc[idx, 'responses'] = response_content\n",
    "\n",
    "                    break  # Break out of the retry loop if successful\n",
    "\n",
    "                except Exception as e:\n",
    "                    print(f\"Error generating response for prompt at index {idx}: {str(e)}\")\n",
    "                    print(f\"Query: {query}\")\n",
    "                    retries += 1\n",
    "                    print(f\"Retrying in {retry_delay} seconds...\")\n",
    "                    time.sleep(retry_delay)\n",
    "\n",
    "            if retries == max_retries:\n",
    "                print(f\"Max retries reached for prompt at index {idx}. Skipping this row.\")\n",
    "\n",
    "            # Add a delay between requests to avoid overwhelming the API\n",
    "            time.sleep(random.uniform(0.5, 1.5))\n",
    "\n",
    "        except Exception as e:\n",
    "            print(f\"Error generating response for prompt at index {idx}: {str(e)}\")\n",
    "            print(f\"Query: {query}\")"
   ]
  },
  {
   "cell_type": "code",
   "execution_count": 28,
   "id": "e29c07e2",
   "metadata": {},
   "outputs": [
    {
     "name": "stderr",
     "output_type": "stream",
     "text": [
      "\r",
      "Generating responses:   0%|          | 0/1229 [00:00<?, ?it/s]"
     ]
    },
    {
     "name": "stdout",
     "output_type": "stream",
     "text": [
      "Japan, World Cup, FIFA\n"
     ]
    },
    {
     "name": "stderr",
     "output_type": "stream",
     "text": [
      "\r",
      "Generating responses:   0%|          | 1/1229 [00:03<1:17:20,  3.78s/it]"
     ]
    },
    {
     "name": "stdout",
     "output_type": "stream",
     "text": [
      "ITALY\n"
     ]
    },
    {
     "name": "stderr",
     "output_type": "stream",
     "text": [
      "\r",
      "Generating responses:   0%|          | 2/1229 [00:05<53:18,  2.61s/it]  "
     ]
    },
    {
     "name": "stdout",
     "output_type": "stream",
     "text": [
      "no_orgs\n"
     ]
    },
    {
     "name": "stderr",
     "output_type": "stream",
     "text": [
      "\r",
      "Generating responses:   0%|          | 3/1229 [00:07<47:58,  2.35s/it]"
     ]
    },
    {
     "name": "stdout",
     "output_type": "stream",
     "text": [
      "FIFA, Sheffield Wednesday, Liverpool\n"
     ]
    },
    {
     "name": "stderr",
     "output_type": "stream",
     "text": [
      "\r",
      "Generating responses:   0%|          | 4/1229 [00:09<46:15,  2.27s/it]"
     ]
    },
    {
     "name": "stdout",
     "output_type": "stream",
     "text": [
      "FIFA, Wednesday, Udinese, Feyenoord\n"
     ]
    },
    {
     "name": "stderr",
     "output_type": "stream",
     "text": [
      "\r",
      "Generating responses:   0%|          | 5/1229 [00:12<47:41,  2.34s/it]"
     ]
    },
    {
     "name": "stdout",
     "output_type": "stream",
     "text": [
      "FIFA, Udinese\n"
     ]
    },
    {
     "name": "stderr",
     "output_type": "stream",
     "text": [
      "\r",
      "Generating responses:   0%|          | 6/1229 [00:13<42:06,  2.07s/it]"
     ]
    },
    {
     "name": "stdout",
     "output_type": "stream",
     "text": [
      "Italian club, Feyenoord\n"
     ]
    },
    {
     "name": "stderr",
     "output_type": "stream",
     "text": [
      "\r",
      "Generating responses:   1%|          | 7/1229 [00:15<42:46,  2.10s/it]"
     ]
    },
    {
     "name": "stdout",
     "output_type": "stream",
     "text": [
      "Udinese\n"
     ]
    },
    {
     "name": "stderr",
     "output_type": "stream",
     "text": [
      "\r",
      "Generating responses:   1%|          | 8/1229 [00:18<43:02,  2.12s/it]"
     ]
    },
    {
     "name": "stdout",
     "output_type": "stream",
     "text": [
      "LEEDS\n"
     ]
    },
    {
     "name": "stderr",
     "output_type": "stream",
     "text": [
      "\r",
      "Generating responses:   1%|          | 9/1229 [00:20<43:41,  2.15s/it]"
     ]
    },
    {
     "name": "stdout",
     "output_type": "stream",
     "text": [
      "McDonald's\n"
     ]
    },
    {
     "name": "stderr",
     "output_type": "stream",
     "text": [
      "\r",
      "Generating responses:   1%|          | 10/1229 [00:21<40:40,  2.00s/it]"
     ]
    },
    {
     "name": "stdout",
     "output_type": "stream",
     "text": [
      "Leeds\n"
     ]
    },
    {
     "name": "stderr",
     "output_type": "stream",
     "text": [
      "\r",
      "Generating responses:   1%|          | 11/1229 [00:24<41:13,  2.03s/it]"
     ]
    },
    {
     "name": "stdout",
     "output_type": "stream",
     "text": [
      "Yorkshire club, Middlesbrough\n"
     ]
    },
    {
     "name": "stderr",
     "output_type": "stream",
     "text": [
      "\r",
      "Generating responses:   1%|          | 12/1229 [00:26<43:51,  2.16s/it]"
     ]
    },
    {
     "name": "stdout",
     "output_type": "stream",
     "text": [
      "CSKA Moscow\n"
     ]
    },
    {
     "name": "stderr",
     "output_type": "stream",
     "text": [
      "\r",
      "Generating responses:   1%|          | 13/1229 [00:28<44:09,  2.18s/it]"
     ]
    },
    {
     "name": "stdout",
     "output_type": "stream",
     "text": [
      "Error generating response for prompt at index 13: That model is currently overloaded with other requests. You can retry your request, or contact us through our help center at help.openai.com if the error persists. (Please include the request ID eed23d007973cd261d8a79c02e5ef64f in your message.)\n",
      "Query: I need you to show me organisations in the provided sentence. Do not show me any other entity types.\n",
      "    ###\n",
      "    Desired response format: ###\n",
      "    org1, org2, org3\n",
      "    ###\n",
      "    Desired response if no organisations found: ###\n",
      "    no_orgs\n",
      "    ###\n",
      "    For example, if I gave you: ###\n",
      "    \"James, living in Japan, missed his club 's last two games after FIFA slapped a worldwide ban on him for appearing to sign contracts for both Wednesday and Udinese while he was playing for Feyenoord .\",\n",
      "    you would only give me:\n",
      "    FIFA, Wednesday, Udinese, Feyenoord\n",
      "    ###\n",
      "    The provided sentence is: ###\n",
      "    Stefanel Milan ( Italy ) 9 6 3 15\n",
      "    ###\n",
      "    \n",
      "Retrying in 5 seconds...\n",
      "Error generating response for prompt at index 13: That model is currently overloaded with other requests. You can retry your request, or contact us through our help center at help.openai.com if the error persists. (Please include the request ID 5faea5a4559b4a556220fd73c6c83dd2 in your message.)\n",
      "Query: I need you to show me organisations in the provided sentence. Do not show me any other entity types.\n",
      "    ###\n",
      "    Desired response format: ###\n",
      "    org1, org2, org3\n",
      "    ###\n",
      "    Desired response if no organisations found: ###\n",
      "    no_orgs\n",
      "    ###\n",
      "    For example, if I gave you: ###\n",
      "    \"James, living in Japan, missed his club 's last two games after FIFA slapped a worldwide ban on him for appearing to sign contracts for both Wednesday and Udinese while he was playing for Feyenoord .\",\n",
      "    you would only give me:\n",
      "    FIFA, Wednesday, Udinese, Feyenoord\n",
      "    ###\n",
      "    The provided sentence is: ###\n",
      "    Stefanel Milan ( Italy ) 9 6 3 15\n",
      "    ###\n",
      "    \n",
      "Retrying in 5 seconds...\n",
      "Stefanel Milan\n"
     ]
    },
    {
     "name": "stderr",
     "output_type": "stream",
     "text": [
      "\r",
      "Generating responses:   1%|          | 14/1229 [01:41<7:54:07, 23.41s/it]"
     ]
    },
    {
     "name": "stdout",
     "output_type": "stream",
     "text": [
      "Maccabi Tel Aviv\n"
     ]
    },
    {
     "name": "stderr",
     "output_type": "stream",
     "text": [
      "\r",
      "Generating responses:   1%|          | 15/1229 [01:43<5:42:35, 16.93s/it]"
     ]
    },
    {
     "name": "stdout",
     "output_type": "stream",
     "text": [
      "Ulker Spor\n"
     ]
    },
    {
     "name": "stderr",
     "output_type": "stream",
     "text": [
      "\r",
      "Generating responses:   1%|▏         | 16/1229 [01:45<4:11:23, 12.44s/it]"
     ]
    },
    {
     "name": "stdout",
     "output_type": "stream",
     "text": [
      "Limoges\n"
     ]
    },
    {
     "name": "stderr",
     "output_type": "stream",
     "text": [
      "\r",
      "Generating responses:   1%|▏         | 17/1229 [01:47<3:07:17,  9.27s/it]"
     ]
    },
    {
     "name": "stdout",
     "output_type": "stream",
     "text": [
      "Panionios\n"
     ]
    },
    {
     "name": "stderr",
     "output_type": "stream",
     "text": [
      "\r",
      "Generating responses:   1%|▏         | 18/1229 [01:48<2:20:41,  6.97s/it]"
     ]
    },
    {
     "name": "stdout",
     "output_type": "stream",
     "text": [
      "Teamsystem Bologna\n"
     ]
    },
    {
     "name": "stderr",
     "output_type": "stream",
     "text": [
      "\r",
      "Generating responses:   2%|▏         | 19/1229 [01:50<1:48:17,  5.37s/it]"
     ]
    },
    {
     "name": "stdout",
     "output_type": "stream",
     "text": [
      "Olympiakos\n"
     ]
    },
    {
     "name": "stderr",
     "output_type": "stream",
     "text": [
      "\r",
      "Generating responses:   2%|▏         | 20/1229 [01:52<1:26:20,  4.29s/it]"
     ]
    },
    {
     "name": "stdout",
     "output_type": "stream",
     "text": [
      "Cibona Zagreb\n"
     ]
    },
    {
     "name": "stderr",
     "output_type": "stream",
     "text": [
      "\r",
      "Generating responses:   2%|▏         | 21/1229 [01:54<1:14:21,  3.69s/it]"
     ]
    },
    {
     "name": "stdout",
     "output_type": "stream",
     "text": [
      "Alba Berlin\n"
     ]
    },
    {
     "name": "stderr",
     "output_type": "stream",
     "text": [
      "\r",
      "Generating responses:   2%|▏         | 22/1229 [01:56<1:02:41,  3.12s/it]"
     ]
    },
    {
     "name": "stdout",
     "output_type": "stream",
     "text": [
      "Estudiantes Madrid\n"
     ]
    },
    {
     "name": "stderr",
     "output_type": "stream",
     "text": [
      "\r",
      "Generating responses:   2%|▏         | 23/1229 [01:58<58:01,  2.89s/it]  "
     ]
    },
    {
     "name": "stdout",
     "output_type": "stream",
     "text": [
      "Error generating response for prompt at index 23: That model is currently overloaded with other requests. You can retry your request, or contact us through our help center at help.openai.com if the error persists. (Please include the request ID c0d54dc0ade978f2c75f21cf65da5f07 in your message.)\n",
      "Query: I need you to show me organisations in the provided sentence. Do not show me any other entity types.\n",
      "    ###\n",
      "    Desired response format: ###\n",
      "    org1, org2, org3\n",
      "    ###\n",
      "    Desired response if no organisations found: ###\n",
      "    no_orgs\n",
      "    ###\n",
      "    For example, if I gave you: ###\n",
      "    \"James, living in Japan, missed his club 's last two games after FIFA slapped a worldwide ban on him for appearing to sign contracts for both Wednesday and Udinese while he was playing for Feyenoord .\",\n",
      "    you would only give me:\n",
      "    FIFA, Wednesday, Udinese, Feyenoord\n",
      "    ###\n",
      "    The provided sentence is: ###\n",
      "    Charleroi ( Belgium ) 9 0 9 9\n",
      "    ###\n",
      "    \n",
      "Retrying in 5 seconds...\n",
      "Charleroi\n"
     ]
    },
    {
     "name": "stderr",
     "output_type": "stream",
     "text": [
      "\r",
      "Generating responses:   2%|▏         | 24/1229 [02:36<4:27:55, 13.34s/it]"
     ]
    },
    {
     "name": "stdout",
     "output_type": "stream",
     "text": [
      "Panathinaikos\n"
     ]
    },
    {
     "name": "stderr",
     "output_type": "stream",
     "text": [
      "\r",
      "Generating responses:   2%|▏         | 25/1229 [02:38<3:18:26,  9.89s/it]"
     ]
    },
    {
     "name": "stdout",
     "output_type": "stream",
     "text": [
      "no_orgs\n"
     ]
    },
    {
     "name": "stderr",
     "output_type": "stream",
     "text": [
      "\r",
      "Generating responses:   2%|▏         | 26/1229 [02:39<2:27:25,  7.35s/it]"
     ]
    },
    {
     "name": "stdout",
     "output_type": "stream",
     "text": [
      "Villeurbanne\n"
     ]
    },
    {
     "name": "stderr",
     "output_type": "stream",
     "text": [
      "\r",
      "Generating responses:   2%|▏         | 27/1229 [02:41<1:54:25,  5.71s/it]"
     ]
    },
    {
     "name": "stdout",
     "output_type": "stream",
     "text": [
      "Barcelona\n"
     ]
    },
    {
     "name": "stderr",
     "output_type": "stream",
     "text": [
      "\r",
      "Generating responses:   2%|▏         | 28/1229 [02:42<1:29:31,  4.47s/it]"
     ]
    },
    {
     "name": "stdout",
     "output_type": "stream",
     "text": [
      "no_orgs\n"
     ]
    },
    {
     "name": "stderr",
     "output_type": "stream",
     "text": [
      "\r",
      "Generating responses:   2%|▏         | 29/1229 [02:44<1:12:45,  3.64s/it]"
     ]
    },
    {
     "name": "stdout",
     "output_type": "stream",
     "text": [
      "Bayer Leverkusen\n"
     ]
    },
    {
     "name": "stderr",
     "output_type": "stream",
     "text": [
      "\r",
      "Generating responses:   2%|▏         | 30/1229 [02:47<1:09:01,  3.45s/it]"
     ]
    },
    {
     "name": "stdout",
     "output_type": "stream",
     "text": [
      "Efes Pilsen\n"
     ]
    },
    {
     "name": "stderr",
     "output_type": "stream",
     "text": [
      "\r",
      "Generating responses:   3%|▎         | 31/1229 [02:49<58:47,  2.94s/it]  "
     ]
    },
    {
     "name": "stdout",
     "output_type": "stream",
     "text": [
      "Pau-Orthez\n"
     ]
    },
    {
     "name": "stderr",
     "output_type": "stream",
     "text": [
      "\r",
      "Generating responses:   3%|▎         | 32/1229 [02:51<51:16,  2.57s/it]"
     ]
    },
    {
     "name": "stdout",
     "output_type": "stream",
     "text": [
      "Partizan Belgrade\n"
     ]
    },
    {
     "name": "stderr",
     "output_type": "stream",
     "text": [
      "\r",
      "Generating responses:   3%|▎         | 33/1229 [02:52<46:32,  2.34s/it]"
     ]
    },
    {
     "name": "stdout",
     "output_type": "stream",
     "text": [
      "Kinder Bologna\n"
     ]
    },
    {
     "name": "stderr",
     "output_type": "stream",
     "text": [
      "\r",
      "Generating responses:   3%|▎         | 34/1229 [02:55<46:04,  2.31s/it]"
     ]
    },
    {
     "name": "stdout",
     "output_type": "stream",
     "text": [
      "Sevilla\n"
     ]
    },
    {
     "name": "stderr",
     "output_type": "stream",
     "text": [
      "\r",
      "Generating responses:   3%|▎         | 35/1229 [02:57<43:29,  2.19s/it]"
     ]
    },
    {
     "name": "stdout",
     "output_type": "stream",
     "text": [
      "Dynamo Moscow\n"
     ]
    },
    {
     "name": "stderr",
     "output_type": "stream",
     "text": [
      "\r",
      "Generating responses:   3%|▎         | 36/1229 [02:59<47:36,  2.39s/it]"
     ]
    },
    {
     "name": "stdout",
     "output_type": "stream",
     "text": [
      "no_orgs\n"
     ]
    },
    {
     "name": "stderr",
     "output_type": "stream",
     "text": [
      "\r",
      "Generating responses:   3%|▎         | 37/1229 [03:02<45:42,  2.30s/it]"
     ]
    },
    {
     "name": "stdout",
     "output_type": "stream",
     "text": [
      "Australia, Barbarians, Twickenham.\n"
     ]
    },
    {
     "name": "stderr",
     "output_type": "stream",
     "text": [
      "\r",
      "Generating responses:   3%|▎         | 38/1229 [03:04<47:43,  2.40s/it]"
     ]
    },
    {
     "name": "stdout",
     "output_type": "stream",
     "text": [
      "Wallabies, European tour, David Campese, Australian colours.\n"
     ]
    },
    {
     "name": "stderr",
     "output_type": "stream",
     "text": [
      "\r",
      "Generating responses:   3%|▎         | 39/1229 [03:07<47:44,  2.41s/it]"
     ]
    },
    {
     "name": "stdout",
     "output_type": "stream",
     "text": [
      "Wallabies\n"
     ]
    },
    {
     "name": "stderr",
     "output_type": "stream",
     "text": [
      "\r",
      "Generating responses:   3%|▎         | 40/1229 [03:09<49:13,  2.48s/it]"
     ]
    },
    {
     "name": "stdout",
     "output_type": "stream",
     "text": [
      "Campese, Barbarians, Australia, World Cup\n"
     ]
    },
    {
     "name": "stderr",
     "output_type": "stream",
     "text": [
      "\r",
      "Generating responses:   3%|▎         | 41/1229 [03:11<47:40,  2.41s/it]"
     ]
    },
    {
     "name": "stdout",
     "output_type": "stream",
     "text": [
      "Barbarians\n"
     ]
    },
    {
     "name": "stderr",
     "output_type": "stream",
     "text": [
      "\r",
      "Generating responses:   3%|▎         | 42/1229 [03:14<48:23,  2.45s/it]"
     ]
    },
    {
     "name": "stdout",
     "output_type": "stream",
     "text": [
      "Barbarians, Pontypridd, Leicester\n"
     ]
    },
    {
     "name": "stderr",
     "output_type": "stream",
     "text": [
      "\r",
      "Generating responses:   3%|▎         | 43/1229 [03:17<51:17,  2.59s/it]"
     ]
    },
    {
     "name": "stdout",
     "output_type": "stream",
     "text": [
      "Otelul Galati, National Bucharest\n"
     ]
    },
    {
     "name": "stderr",
     "output_type": "stream",
     "text": [
      "\r",
      "Generating responses:   4%|▎         | 44/1229 [03:20<51:43,  2.62s/it]"
     ]
    },
    {
     "name": "stdout",
     "output_type": "stream",
     "text": [
      "National Bucharest, Otelul Galati\n"
     ]
    },
    {
     "name": "stderr",
     "output_type": "stream",
     "text": [
      "\r",
      "Generating responses:   4%|▎         | 45/1229 [03:22<51:32,  2.61s/it]"
     ]
    },
    {
     "name": "stdout",
     "output_type": "stream",
     "text": [
      "Steaua Bucharest\n"
     ]
    },
    {
     "name": "stderr",
     "output_type": "stream",
     "text": [
      "\r",
      "Generating responses:   4%|▎         | 46/1229 [03:24<46:18,  2.35s/it]"
     ]
    },
    {
     "name": "stdout",
     "output_type": "stream",
     "text": [
      "Steaua, Galatasaray\n"
     ]
    },
    {
     "name": "stderr",
     "output_type": "stream",
     "text": [
      "\r",
      "Generating responses:   4%|▍         | 47/1229 [03:26<43:54,  2.23s/it]"
     ]
    },
    {
     "name": "stdout",
     "output_type": "stream",
     "text": [
      "no_orgs\n"
     ]
    },
    {
     "name": "stderr",
     "output_type": "stream",
     "text": [
      "\r",
      "Generating responses:   4%|▍         | 48/1229 [03:27<39:07,  1.99s/it]"
     ]
    },
    {
     "name": "stdout",
     "output_type": "stream",
     "text": [
      "Goias, Gremio\n"
     ]
    },
    {
     "name": "stderr",
     "output_type": "stream",
     "text": [
      "\r",
      "Generating responses:   4%|▍         | 49/1229 [03:30<42:39,  2.17s/it]"
     ]
    },
    {
     "name": "stdout",
     "output_type": "stream",
     "text": [
      "Atletico Mineiro\n"
     ]
    },
    {
     "name": "stderr",
     "output_type": "stream",
     "text": [
      "\r",
      "Generating responses:   4%|▍         | 50/1229 [03:32<41:27,  2.11s/it]"
     ]
    },
    {
     "name": "stdout",
     "output_type": "stream",
     "text": [
      "Tasmania, Victoria\n"
     ]
    },
    {
     "name": "stderr",
     "output_type": "stream",
     "text": [
      "\r",
      "Generating responses:   4%|▍         | 51/1229 [03:34<41:22,  2.11s/it]"
     ]
    },
    {
     "name": "stdout",
     "output_type": "stream",
     "text": [
      "Arab Contractors, Sodigraf\n"
     ]
    },
    {
     "name": "stderr",
     "output_type": "stream",
     "text": [
      "\r",
      "Generating responses:   4%|▍         | 52/1229 [03:36<39:34,  2.02s/it]"
     ]
    },
    {
     "name": "stdout",
     "output_type": "stream",
     "text": [
      "NHL\n"
     ]
    },
    {
     "name": "stderr",
     "output_type": "stream",
     "text": [
      "\r",
      "Generating responses:   4%|▍         | 53/1229 [03:38<38:16,  1.95s/it]"
     ]
    },
    {
     "name": "stdout",
     "output_type": "stream",
     "text": [
      "no_orgs\n"
     ]
    },
    {
     "name": "stderr",
     "output_type": "stream",
     "text": [
      "\r",
      "Generating responses:   4%|▍         | 54/1229 [03:40<39:47,  2.03s/it]"
     ]
    },
    {
     "name": "stdout",
     "output_type": "stream",
     "text": [
      "no_orgs\n"
     ]
    },
    {
     "name": "stderr",
     "output_type": "stream",
     "text": [
      "\r",
      "Generating responses:   4%|▍         | 55/1229 [03:42<40:30,  2.07s/it]"
     ]
    },
    {
     "name": "stdout",
     "output_type": "stream",
     "text": [
      "no_orgs\n"
     ]
    },
    {
     "name": "stderr",
     "output_type": "stream",
     "text": [
      "\r",
      "Generating responses:   5%|▍         | 56/1229 [03:44<38:21,  1.96s/it]"
     ]
    },
    {
     "name": "stdout",
     "output_type": "stream",
     "text": [
      "Error generating response for prompt at index 56: That model is currently overloaded with other requests. You can retry your request, or contact us through our help center at help.openai.com if the error persists. (Please include the request ID 14ff89a3917d4331e19f52d8ae01b264 in your message.)\n",
      "Query: I need you to show me organisations in the provided sentence. Do not show me any other entity types.\n",
      "    ###\n",
      "    Desired response format: ###\n",
      "    org1, org2, org3\n",
      "    ###\n",
      "    Desired response if no organisations found: ###\n",
      "    no_orgs\n",
      "    ###\n",
      "    For example, if I gave you: ###\n",
      "    \"James, living in Japan, missed his club 's last two games after FIFA slapped a worldwide ban on him for appearing to sign contracts for both Wednesday and Udinese while he was playing for Feyenoord .\",\n",
      "    you would only give me:\n",
      "    FIFA, Wednesday, Udinese, Feyenoord\n",
      "    ###\n",
      "    The provided sentence is: ###\n",
      "    BUFFALO 13 12 1 77 76 27\n",
      "    ###\n",
      "    \n",
      "Retrying in 5 seconds...\n",
      "no_orgs\n"
     ]
    },
    {
     "name": "stderr",
     "output_type": "stream",
     "text": [
      "\r",
      "Generating responses:   5%|▍         | 57/1229 [04:21<4:05:12, 12.55s/it]"
     ]
    },
    {
     "name": "stdout",
     "output_type": "stream",
     "text": [
      "no_orgs\n"
     ]
    },
    {
     "name": "stderr",
     "output_type": "stream",
     "text": [
      "\r",
      "Generating responses:   5%|▍         | 58/1229 [04:24<3:08:23,  9.65s/it]"
     ]
    },
    {
     "name": "stdout",
     "output_type": "stream",
     "text": [
      "Error generating response for prompt at index 58: That model is currently overloaded with other requests. You can retry your request, or contact us through our help center at help.openai.com if the error persists. (Please include the request ID c59bdeabacfe25d8232fde93248da50d in your message.)\n",
      "Query: I need you to show me organisations in the provided sentence. Do not show me any other entity types.\n",
      "    ###\n",
      "    Desired response format: ###\n",
      "    org1, org2, org3\n",
      "    ###\n",
      "    Desired response if no organisations found: ###\n",
      "    no_orgs\n",
      "    ###\n",
      "    For example, if I gave you: ###\n",
      "    \"James, living in Japan, missed his club 's last two games after FIFA slapped a worldwide ban on him for appearing to sign contracts for both Wednesday and Udinese while he was playing for Feyenoord .\",\n",
      "    you would only give me:\n",
      "    FIFA, Wednesday, Udinese, Feyenoord\n",
      "    ###\n",
      "    The provided sentence is: ###\n",
      "    MONTREAL 10 14 4 96 103 24\n",
      "    ###\n",
      "    \n",
      "Retrying in 5 seconds...\n",
      "no_orgs\n"
     ]
    },
    {
     "name": "stderr",
     "output_type": "stream",
     "text": [
      "\r",
      "Generating responses:   5%|▍         | 59/1229 [05:01<5:48:05, 17.85s/it]"
     ]
    },
    {
     "name": "stdout",
     "output_type": "stream",
     "text": [
      "no_orgs\n"
     ]
    },
    {
     "name": "stderr",
     "output_type": "stream",
     "text": [
      "\r",
      "Generating responses:   5%|▍         | 60/1229 [05:03<4:13:34, 13.01s/it]"
     ]
    },
    {
     "name": "stdout",
     "output_type": "stream",
     "text": [
      "no_orgs\n"
     ]
    },
    {
     "name": "stderr",
     "output_type": "stream",
     "text": [
      "\r",
      "Generating responses:   5%|▍         | 61/1229 [05:05<3:10:35,  9.79s/it]"
     ]
    },
    {
     "name": "stdout",
     "output_type": "stream",
     "text": [
      "no_orgs\n"
     ]
    },
    {
     "name": "stderr",
     "output_type": "stream",
     "text": [
      "\r",
      "Generating responses:   5%|▌         | 62/1229 [05:07<2:23:12,  7.36s/it]"
     ]
    },
    {
     "name": "stdout",
     "output_type": "stream",
     "text": [
      "no_orgs\n"
     ]
    },
    {
     "name": "stderr",
     "output_type": "stream",
     "text": [
      "\r",
      "Generating responses:   5%|▌         | 63/1229 [05:08<1:49:11,  5.62s/it]"
     ]
    },
    {
     "name": "stdout",
     "output_type": "stream",
     "text": [
      "no_orgs\n"
     ]
    },
    {
     "name": "stderr",
     "output_type": "stream",
     "text": [
      "\r",
      "Generating responses:   5%|▌         | 64/1229 [05:11<1:31:33,  4.72s/it]"
     ]
    },
    {
     "name": "stdout",
     "output_type": "stream",
     "text": [
      "no_orgs\n"
     ]
    },
    {
     "name": "stderr",
     "output_type": "stream",
     "text": [
      "\r",
      "Generating responses:   5%|▌         | 65/1229 [05:13<1:17:16,  3.98s/it]"
     ]
    },
    {
     "name": "stdout",
     "output_type": "stream",
     "text": [
      "no_orgs\n"
     ]
    },
    {
     "name": "stderr",
     "output_type": "stream",
     "text": [
      "\r",
      "Generating responses:   5%|▌         | 66/1229 [05:15<1:06:52,  3.45s/it]"
     ]
    },
    {
     "name": "stdout",
     "output_type": "stream",
     "text": [
      "no_orgs\n"
     ]
    },
    {
     "name": "stderr",
     "output_type": "stream",
     "text": [
      "\r",
      "Generating responses:   5%|▌         | 67/1229 [05:17<58:00,  3.00s/it]  "
     ]
    },
    {
     "name": "stdout",
     "output_type": "stream",
     "text": [
      "no_orgs\n"
     ]
    },
    {
     "name": "stderr",
     "output_type": "stream",
     "text": [
      "\r",
      "Generating responses:   6%|▌         | 68/1229 [05:19<51:32,  2.66s/it]"
     ]
    },
    {
     "name": "stdout",
     "output_type": "stream",
     "text": [
      "no_orgs\n"
     ]
    },
    {
     "name": "stderr",
     "output_type": "stream",
     "text": [
      "\r",
      "Generating responses:   6%|▌         | 69/1229 [05:21<47:04,  2.43s/it]"
     ]
    },
    {
     "name": "stdout",
     "output_type": "stream",
     "text": [
      "no_orgs\n"
     ]
    },
    {
     "name": "stderr",
     "output_type": "stream",
     "text": [
      "\r",
      "Generating responses:   6%|▌         | 70/1229 [05:22<41:32,  2.15s/it]"
     ]
    },
    {
     "name": "stdout",
     "output_type": "stream",
     "text": [
      "no_orgs\n"
     ]
    },
    {
     "name": "stderr",
     "output_type": "stream",
     "text": [
      "\r",
      "Generating responses:   6%|▌         | 71/1229 [05:24<37:12,  1.93s/it]"
     ]
    },
    {
     "name": "stdout",
     "output_type": "stream",
     "text": [
      "no_orgs\n"
     ]
    },
    {
     "name": "stderr",
     "output_type": "stream",
     "text": [
      "\r",
      "Generating responses:   6%|▌         | 72/1229 [05:26<39:04,  2.03s/it]"
     ]
    },
    {
     "name": "stdout",
     "output_type": "stream",
     "text": [
      "no_orgs\n"
     ]
    },
    {
     "name": "stderr",
     "output_type": "stream",
     "text": [
      "\r",
      "Generating responses:   6%|▌         | 73/1229 [05:28<36:00,  1.87s/it]"
     ]
    },
    {
     "name": "stdout",
     "output_type": "stream",
     "text": [
      "no_orgs\n"
     ]
    },
    {
     "name": "stderr",
     "output_type": "stream",
     "text": [
      "\r",
      "Generating responses:   6%|▌         | 74/1229 [05:29<33:29,  1.74s/it]"
     ]
    },
    {
     "name": "stdout",
     "output_type": "stream",
     "text": [
      "no_orgs\n"
     ]
    },
    {
     "name": "stderr",
     "output_type": "stream",
     "text": [
      "\r",
      "Generating responses:   6%|▌         | 75/1229 [05:32<40:18,  2.10s/it]"
     ]
    },
    {
     "name": "stdout",
     "output_type": "stream",
     "text": [
      "Error generating response for prompt at index 75: That model is currently overloaded with other requests. You can retry your request, or contact us through our help center at help.openai.com if the error persists. (Please include the request ID 81074a8d8e11fd0da4d9483b2cb3cf17 in your message.)\n",
      "Query: I need you to show me organisations in the provided sentence. Do not show me any other entity types.\n",
      "    ###\n",
      "    Desired response format: ###\n",
      "    org1, org2, org3\n",
      "    ###\n",
      "    Desired response if no organisations found: ###\n",
      "    no_orgs\n",
      "    ###\n",
      "    For example, if I gave you: ###\n",
      "    \"James, living in Japan, missed his club 's last two games after FIFA slapped a worldwide ban on him for appearing to sign contracts for both Wednesday and Udinese while he was playing for Feyenoord .\",\n",
      "    you would only give me:\n",
      "    FIFA, Wednesday, Udinese, Feyenoord\n",
      "    ###\n",
      "    The provided sentence is: ###\n",
      "    VANCOUVER 14 11 1 84 83 29\n",
      "    ###\n",
      "    \n",
      "Retrying in 5 seconds...\n",
      "no_orgs\n"
     ]
    },
    {
     "name": "stderr",
     "output_type": "stream",
     "text": [
      "\r",
      "Generating responses:   6%|▌         | 76/1229 [06:09<4:02:29, 12.62s/it]"
     ]
    },
    {
     "name": "stdout",
     "output_type": "stream",
     "text": [
      "no_orgs\n"
     ]
    },
    {
     "name": "stderr",
     "output_type": "stream",
     "text": [
      "\r",
      "Generating responses:   6%|▋         | 77/1229 [06:11<3:02:36,  9.51s/it]"
     ]
    },
    {
     "name": "stdout",
     "output_type": "stream",
     "text": [
      "no_orgs\n"
     ]
    },
    {
     "name": "stderr",
     "output_type": "stream",
     "text": [
      "\r",
      "Generating responses:   6%|▋         | 78/1229 [06:14<2:22:12,  7.41s/it]"
     ]
    },
    {
     "name": "stdout",
     "output_type": "stream",
     "text": [
      "no_orgs\n"
     ]
    },
    {
     "name": "stderr",
     "output_type": "stream",
     "text": [
      "\r",
      "Generating responses:   6%|▋         | 79/1229 [06:16<1:52:37,  5.88s/it]"
     ]
    },
    {
     "name": "stdout",
     "output_type": "stream",
     "text": [
      "no_orgs\n"
     ]
    },
    {
     "name": "stderr",
     "output_type": "stream",
     "text": [
      "\r",
      "Generating responses:   7%|▋         | 80/1229 [06:19<1:32:37,  4.84s/it]"
     ]
    },
    {
     "name": "stdout",
     "output_type": "stream",
     "text": [
      "no_orgs\n"
     ]
    },
    {
     "name": "stderr",
     "output_type": "stream",
     "text": [
      "\r",
      "Generating responses:   7%|▋         | 81/1229 [06:20<1:13:48,  3.86s/it]"
     ]
    },
    {
     "name": "stdout",
     "output_type": "stream",
     "text": [
      "ANAHEIM, BUFFALO\n"
     ]
    },
    {
     "name": "stderr",
     "output_type": "stream",
     "text": [
      "\r",
      "Generating responses:   7%|▋         | 82/1229 [06:23<1:05:40,  3.44s/it]"
     ]
    },
    {
     "name": "stdout",
     "output_type": "stream",
     "text": [
      "TORONTO, NY RANGERS\n"
     ]
    },
    {
     "name": "stderr",
     "output_type": "stream",
     "text": [
      "\r",
      "Generating responses:   7%|▋         | 83/1229 [06:25<57:25,  3.01s/it]  "
     ]
    },
    {
     "name": "stdout",
     "output_type": "stream",
     "text": [
      "no_orgs\n"
     ]
    },
    {
     "name": "stderr",
     "output_type": "stream",
     "text": [
      "\r",
      "Generating responses:   7%|▋         | 84/1229 [06:27<54:23,  2.85s/it]"
     ]
    },
    {
     "name": "stdout",
     "output_type": "stream",
     "text": [
      "MONTREAL, CHICAGO\n"
     ]
    },
    {
     "name": "stderr",
     "output_type": "stream",
     "text": [
      "\r",
      "Generating responses:   7%|▋         | 85/1229 [06:32<1:07:05,  3.52s/it]"
     ]
    },
    {
     "name": "stdout",
     "output_type": "stream",
     "text": [
      "PHILADELPHIA, DALLAS\n"
     ]
    },
    {
     "name": "stderr",
     "output_type": "stream",
     "text": [
      "\r",
      "Generating responses:   7%|▋         | 86/1229 [06:34<1:00:10,  3.16s/it]"
     ]
    },
    {
     "name": "stdout",
     "output_type": "stream",
     "text": [
      "ST LOUIS, COLORADO\n"
     ]
    },
    {
     "name": "stderr",
     "output_type": "stream",
     "text": [
      "\r",
      "Generating responses:   7%|▋         | 87/1229 [06:36<51:43,  2.72s/it]  "
     ]
    },
    {
     "name": "stdout",
     "output_type": "stream",
     "text": [
      "OTTAWA, EDMONTON\n"
     ]
    },
    {
     "name": "stderr",
     "output_type": "stream",
     "text": [
      "\r",
      "Generating responses:   7%|▋         | 88/1229 [06:39<50:24,  2.65s/it]"
     ]
    },
    {
     "name": "stdout",
     "output_type": "stream",
     "text": [
      "NHL\n"
     ]
    },
    {
     "name": "stderr",
     "output_type": "stream",
     "text": [
      "\r",
      "Generating responses:   7%|▋         | 89/1229 [06:40<45:03,  2.37s/it]"
     ]
    },
    {
     "name": "stdout",
     "output_type": "stream",
     "text": [
      "NHL, La Clippers, Ny Islanders\n"
     ]
    },
    {
     "name": "stderr",
     "output_type": "stream",
     "text": [
      "\r",
      "Generating responses:   7%|▋         | 90/1229 [06:43<46:33,  2.45s/it]"
     ]
    },
    {
     "name": "stdout",
     "output_type": "stream",
     "text": [
      "Error generating response for prompt at index 90: That model is currently overloaded with other requests. You can retry your request, or contact us through our help center at help.openai.com if the error persists. (Please include the request ID fd02b6499b9f49160ab0fbcaceae14a9 in your message.)\n",
      "Query: I need you to show me organisations in the provided sentence. Do not show me any other entity types.\n",
      "    ###\n",
      "    Desired response format: ###\n",
      "    org1, org2, org3\n",
      "    ###\n",
      "    Desired response if no organisations found: ###\n",
      "    no_orgs\n",
      "    ###\n",
      "    For example, if I gave you: ###\n",
      "    \"James, living in Japan, missed his club 's last two games after FIFA slapped a worldwide ban on him for appearing to sign contracts for both Wednesday and Udinese while he was playing for Feyenoord .\",\n",
      "    you would only give me:\n",
      "    FIFA, Wednesday, Udinese, Feyenoord\n",
      "    ###\n",
      "    The provided sentence is: ###\n",
      "    Results of National Hockey\n",
      "    ###\n",
      "    \n",
      "Retrying in 5 seconds...\n",
      "no_orgs\n"
     ]
    },
    {
     "name": "stderr",
     "output_type": "stream",
     "text": [
      "\r",
      "Generating responses:   7%|▋         | 91/1229 [08:10<8:44:46, 27.67s/it]"
     ]
    },
    {
     "name": "stdout",
     "output_type": "stream",
     "text": [
      "no_orgs\n"
     ]
    },
    {
     "name": "stderr",
     "output_type": "stream",
     "text": [
      "\r",
      "Generating responses:   7%|▋         | 92/1229 [08:12<6:19:36, 20.03s/it]"
     ]
    },
    {
     "name": "stdout",
     "output_type": "stream",
     "text": [
      "BOSTON\n"
     ]
    },
    {
     "name": "stderr",
     "output_type": "stream",
     "text": [
      "\r",
      "Generating responses:   8%|▊         | 93/1229 [08:14<4:35:47, 14.57s/it]"
     ]
    },
    {
     "name": "stdout",
     "output_type": "stream",
     "text": [
      "FLORIDA, Ny Islanders\n"
     ]
    },
    {
     "name": "stderr",
     "output_type": "stream",
     "text": [
      "\r",
      "Generating responses:   8%|▊         | 94/1229 [08:16<3:26:34, 10.92s/it]"
     ]
    },
    {
     "name": "stdout",
     "output_type": "stream",
     "text": [
      "no_orgs\n"
     ]
    },
    {
     "name": "stderr",
     "output_type": "stream",
     "text": [
      "\r",
      "Generating responses:   8%|▊         | 95/1229 [08:18<2:34:07,  8.16s/it]"
     ]
    },
    {
     "name": "stdout",
     "output_type": "stream",
     "text": [
      "no_orgs\n"
     ]
    },
    {
     "name": "stderr",
     "output_type": "stream",
     "text": [
      "\r",
      "Generating responses:   8%|▊         | 96/1229 [08:20<1:59:57,  6.35s/it]"
     ]
    },
    {
     "name": "stdout",
     "output_type": "stream",
     "text": [
      "no_orgs\n"
     ]
    },
    {
     "name": "stderr",
     "output_type": "stream",
     "text": [
      "\r",
      "Generating responses:   8%|▊         | 97/1229 [08:21<1:31:38,  4.86s/it]"
     ]
    },
    {
     "name": "stdout",
     "output_type": "stream",
     "text": [
      "COLTS, EAGLES\n"
     ]
    },
    {
     "name": "stderr",
     "output_type": "stream",
     "text": [
      "\r",
      "Generating responses:   8%|▊         | 98/1229 [08:23<1:16:36,  4.06s/it]"
     ]
    },
    {
     "name": "stdout",
     "output_type": "stream",
     "text": [
      "Indianapolis Colts, Philadelphia Eagles\n"
     ]
    },
    {
     "name": "stderr",
     "output_type": "stream",
     "text": [
      "\r",
      "Generating responses:   8%|▊         | 99/1229 [08:25<1:04:52,  3.45s/it]"
     ]
    },
    {
     "name": "stdout",
     "output_type": "stream",
     "text": [
      "Colts, Eagles\n"
     ]
    },
    {
     "name": "stderr",
     "output_type": "stream",
     "text": [
      "\r",
      "Generating responses:   8%|▊         | 100/1229 [08:27<55:19,  2.94s/it] "
     ]
    },
    {
     "name": "stdout",
     "output_type": "stream",
     "text": [
      "Colts\n"
     ]
    },
    {
     "name": "stderr",
     "output_type": "stream",
     "text": [
      "\r",
      "Generating responses:   8%|▊         | 101/1229 [08:29<49:02,  2.61s/it]"
     ]
    },
    {
     "name": "stdout",
     "output_type": "stream",
     "text": [
      "no_orgs\n"
     ]
    },
    {
     "name": "stderr",
     "output_type": "stream",
     "text": [
      "\r",
      "Generating responses:   8%|▊         | 102/1229 [08:31<44:14,  2.36s/it]"
     ]
    },
    {
     "name": "stdout",
     "output_type": "stream",
     "text": [
      "Philadelphia, Dallas Cowboys, Washington Redskins, New York Jets, Arizona\n"
     ]
    },
    {
     "name": "stderr",
     "output_type": "stream",
     "text": [
      "\r",
      "Generating responses:   8%|▊         | 103/1229 [08:34<47:48,  2.55s/it]"
     ]
    },
    {
     "name": "stdout",
     "output_type": "stream",
     "text": [
      "Philadelphia Eagles, Green Bay Packers, NFC\n"
     ]
    },
    {
     "name": "stderr",
     "output_type": "stream",
     "text": [
      "\r",
      "Generating responses:   8%|▊         | 104/1229 [08:36<45:20,  2.42s/it]"
     ]
    },
    {
     "name": "stdout",
     "output_type": "stream",
     "text": [
      "Error generating response for prompt at index 104: That model is currently overloaded with other requests. You can retry your request, or contact us through our help center at help.openai.com if the error persists. (Please include the request ID 2c27cad0b072a08f056aebf8a31a7cca in your message.)\n",
      "Query: I need you to show me organisations in the provided sentence. Do not show me any other entity types.\n",
      "    ###\n",
      "    Desired response format: ###\n",
      "    org1, org2, org3\n",
      "    ###\n",
      "    Desired response if no organisations found: ###\n",
      "    no_orgs\n",
      "    ###\n",
      "    For example, if I gave you: ###\n",
      "    \"James, living in Japan, missed his club 's last two games after FIFA slapped a worldwide ban on him for appearing to sign contracts for both Wednesday and Udinese while he was playing for Feyenoord .\",\n",
      "    you would only give me:\n",
      "    FIFA, Wednesday, Udinese, Feyenoord\n",
      "    ###\n",
      "    The provided sentence is: ###\n",
      "    The Colts won despite the absence of injured starting defensive tackle Tony Siragusa , cornerback Ray Buchanan and linebacker Quentin Coryatt .\n",
      "    ###\n",
      "    \n",
      "Retrying in 5 seconds...\n",
      "The Colts\n"
     ]
    },
    {
     "name": "stderr",
     "output_type": "stream",
     "text": [
      "\r",
      "Generating responses:   9%|▊         | 105/1229 [09:13<3:59:07, 12.76s/it]"
     ]
    },
    {
     "name": "stdout",
     "output_type": "stream",
     "text": [
      "Miami Dolphins, NFL, Marvin Harrison\n"
     ]
    },
    {
     "name": "stderr",
     "output_type": "stream",
     "text": [
      "\r",
      "Generating responses:   9%|▊         | 106/1229 [09:15<3:00:43,  9.66s/it]"
     ]
    },
    {
     "name": "stdout",
     "output_type": "stream",
     "text": [
      "Eagles\n"
     ]
    },
    {
     "name": "stderr",
     "output_type": "stream",
     "text": [
      "\r",
      "Generating responses:   9%|▊         | 107/1229 [09:17<2:17:25,  7.35s/it]"
     ]
    },
    {
     "name": "stdout",
     "output_type": "stream",
     "text": [
      "NBA BASKETBALL\n"
     ]
    },
    {
     "name": "stderr",
     "output_type": "stream",
     "text": [
      "\r",
      "Generating responses:   9%|▉         | 108/1229 [09:19<1:47:44,  5.77s/it]"
     ]
    },
    {
     "name": "stdout",
     "output_type": "stream",
     "text": [
      "no_orgs\n"
     ]
    },
    {
     "name": "stderr",
     "output_type": "stream",
     "text": [
      "\r",
      "Generating responses:   9%|▉         | 109/1229 [09:21<1:25:25,  4.58s/it]"
     ]
    },
    {
     "name": "stdout",
     "output_type": "stream",
     "text": [
      "Basketball Association\n"
     ]
    },
    {
     "name": "stderr",
     "output_type": "stream",
     "text": [
      "\r",
      "Generating responses:   9%|▉         | 110/1229 [09:23<1:12:49,  3.91s/it]"
     ]
    },
    {
     "name": "stdout",
     "output_type": "stream",
     "text": [
      "no_orgs\n"
     ]
    },
    {
     "name": "stderr",
     "output_type": "stream",
     "text": [
      "\r",
      "Generating responses:   9%|▉         | 111/1229 [09:25<1:01:47,  3.32s/it]"
     ]
    },
    {
     "name": "stdout",
     "output_type": "stream",
     "text": [
      "no_orgs\n"
     ]
    },
    {
     "name": "stderr",
     "output_type": "stream",
     "text": [
      "\r",
      "Generating responses:   9%|▉         | 112/1229 [09:27<54:45,  2.94s/it]  "
     ]
    },
    {
     "name": "stdout",
     "output_type": "stream",
     "text": [
      "no_orgs\n"
     ]
    },
    {
     "name": "stderr",
     "output_type": "stream",
     "text": [
      "\r",
      "Generating responses:   9%|▉         | 113/1229 [09:29<45:40,  2.46s/it]"
     ]
    },
    {
     "name": "stdout",
     "output_type": "stream",
     "text": [
      "no_orgs\n"
     ]
    },
    {
     "name": "stderr",
     "output_type": "stream",
     "text": [
      "\r",
      "Generating responses:   9%|▉         | 114/1229 [09:31<43:05,  2.32s/it]"
     ]
    },
    {
     "name": "stdout",
     "output_type": "stream",
     "text": [
      "no_orgs\n"
     ]
    },
    {
     "name": "stderr",
     "output_type": "stream",
     "text": [
      "\r",
      "Generating responses:   9%|▉         | 115/1229 [09:33<40:36,  2.19s/it]"
     ]
    },
    {
     "name": "stdout",
     "output_type": "stream",
     "text": [
      "no_orgs\n"
     ]
    },
    {
     "name": "stderr",
     "output_type": "stream",
     "text": [
      "\r",
      "Generating responses:   9%|▉         | 116/1229 [09:34<36:27,  1.97s/it]"
     ]
    },
    {
     "name": "stdout",
     "output_type": "stream",
     "text": [
      "no_orgs\n"
     ]
    },
    {
     "name": "stderr",
     "output_type": "stream",
     "text": [
      "\r",
      "Generating responses:  10%|▉         | 117/1229 [09:36<38:03,  2.05s/it]"
     ]
    },
    {
     "name": "stdout",
     "output_type": "stream",
     "text": [
      "no_orgs\n"
     ]
    },
    {
     "name": "stderr",
     "output_type": "stream",
     "text": [
      "\r",
      "Generating responses:  10%|▉         | 118/1229 [09:38<38:38,  2.09s/it]"
     ]
    },
    {
     "name": "stdout",
     "output_type": "stream",
     "text": [
      "no_orgs\n"
     ]
    },
    {
     "name": "stderr",
     "output_type": "stream",
     "text": [
      "\r",
      "Generating responses:  10%|▉         | 119/1229 [09:40<34:45,  1.88s/it]"
     ]
    },
    {
     "name": "stdout",
     "output_type": "stream",
     "text": [
      "no_orgs\n"
     ]
    },
    {
     "name": "stderr",
     "output_type": "stream",
     "text": [
      "\r",
      "Generating responses:  10%|▉         | 120/1229 [09:41<33:24,  1.81s/it]"
     ]
    },
    {
     "name": "stdout",
     "output_type": "stream",
     "text": [
      "no_orgs\n"
     ]
    },
    {
     "name": "stderr",
     "output_type": "stream",
     "text": [
      "\r",
      "Generating responses:  10%|▉         | 121/1229 [09:43<31:11,  1.69s/it]"
     ]
    },
    {
     "name": "stdout",
     "output_type": "stream",
     "text": [
      "no_orgs\n"
     ]
    },
    {
     "name": "stderr",
     "output_type": "stream",
     "text": [
      "\r",
      "Generating responses:  10%|▉         | 122/1229 [09:45<34:56,  1.89s/it]"
     ]
    },
    {
     "name": "stdout",
     "output_type": "stream",
     "text": [
      "no_orgs\n"
     ]
    },
    {
     "name": "stderr",
     "output_type": "stream",
     "text": [
      "\r",
      "Generating responses:  10%|█         | 123/1229 [09:47<34:00,  1.85s/it]"
     ]
    },
    {
     "name": "stdout",
     "output_type": "stream",
     "text": [
      "no_orgs\n"
     ]
    },
    {
     "name": "stderr",
     "output_type": "stream",
     "text": [
      "\r",
      "Generating responses:  10%|█         | 124/1229 [09:48<31:43,  1.72s/it]"
     ]
    },
    {
     "name": "stdout",
     "output_type": "stream",
     "text": [
      "no_orgs\n"
     ]
    },
    {
     "name": "stderr",
     "output_type": "stream",
     "text": [
      "\r",
      "Generating responses:  10%|█         | 125/1229 [09:50<31:43,  1.72s/it]"
     ]
    },
    {
     "name": "stdout",
     "output_type": "stream",
     "text": [
      "no_orgs\n"
     ]
    },
    {
     "name": "stderr",
     "output_type": "stream",
     "text": [
      "\r",
      "Generating responses:  10%|█         | 126/1229 [09:52<31:53,  1.73s/it]"
     ]
    },
    {
     "name": "stdout",
     "output_type": "stream",
     "text": [
      "no_orgs\n"
     ]
    },
    {
     "name": "stderr",
     "output_type": "stream",
     "text": [
      "\r",
      "Generating responses:  10%|█         | 127/1229 [09:54<35:39,  1.94s/it]"
     ]
    },
    {
     "name": "stdout",
     "output_type": "stream",
     "text": [
      "no_orgs\n"
     ]
    },
    {
     "name": "stderr",
     "output_type": "stream",
     "text": [
      "\r",
      "Generating responses:  10%|█         | 128/1229 [09:56<35:52,  1.95s/it]"
     ]
    },
    {
     "name": "stdout",
     "output_type": "stream",
     "text": [
      "no_orgs\n"
     ]
    },
    {
     "name": "stderr",
     "output_type": "stream",
     "text": [
      "\r",
      "Generating responses:  10%|█         | 129/1229 [09:58<32:01,  1.75s/it]"
     ]
    },
    {
     "name": "stdout",
     "output_type": "stream",
     "text": [
      "no_orgs\n"
     ]
    },
    {
     "name": "stderr",
     "output_type": "stream",
     "text": [
      "\r",
      "Generating responses:  11%|█         | 130/1229 [09:59<30:41,  1.68s/it]"
     ]
    },
    {
     "name": "stdout",
     "output_type": "stream",
     "text": [
      "no_orgs\n"
     ]
    },
    {
     "name": "stderr",
     "output_type": "stream",
     "text": [
      "\r",
      "Generating responses:  11%|█         | 131/1229 [10:01<33:18,  1.82s/it]"
     ]
    },
    {
     "name": "stdout",
     "output_type": "stream",
     "text": [
      "no_orgs\n"
     ]
    },
    {
     "name": "stderr",
     "output_type": "stream",
     "text": [
      "\r",
      "Generating responses:  11%|█         | 132/1229 [10:03<33:54,  1.85s/it]"
     ]
    },
    {
     "name": "stdout",
     "output_type": "stream",
     "text": [
      "no_orgs\n"
     ]
    },
    {
     "name": "stderr",
     "output_type": "stream",
     "text": [
      "\r",
      "Generating responses:  11%|█         | 133/1229 [10:05<34:01,  1.86s/it]"
     ]
    },
    {
     "name": "stdout",
     "output_type": "stream",
     "text": [
      "LA LAKERS\n"
     ]
    },
    {
     "name": "stderr",
     "output_type": "stream",
     "text": [
      "\r",
      "Generating responses:  11%|█         | 134/1229 [10:07<33:39,  1.84s/it]"
     ]
    },
    {
     "name": "stdout",
     "output_type": "stream",
     "text": [
      "no_orgs\n"
     ]
    },
    {
     "name": "stderr",
     "output_type": "stream",
     "text": [
      "\r",
      "Generating responses:  11%|█         | 135/1229 [10:08<32:03,  1.76s/it]"
     ]
    },
    {
     "name": "stdout",
     "output_type": "stream",
     "text": [
      "no_orgs\n"
     ]
    },
    {
     "name": "stderr",
     "output_type": "stream",
     "text": [
      "\r",
      "Generating responses:  11%|█         | 136/1229 [10:10<29:51,  1.64s/it]"
     ]
    },
    {
     "name": "stdout",
     "output_type": "stream",
     "text": [
      "no_orgs\n"
     ]
    },
    {
     "name": "stderr",
     "output_type": "stream",
     "text": [
      "\r",
      "Generating responses:  11%|█         | 137/1229 [10:13<37:11,  2.04s/it]"
     ]
    },
    {
     "name": "stdout",
     "output_type": "stream",
     "text": [
      "no_orgs\n"
     ]
    },
    {
     "name": "stderr",
     "output_type": "stream",
     "text": [
      "\r",
      "Generating responses:  11%|█         | 138/1229 [10:15<37:58,  2.09s/it]"
     ]
    },
    {
     "name": "stdout",
     "output_type": "stream",
     "text": [
      "no_orgs\n"
     ]
    },
    {
     "name": "stderr",
     "output_type": "stream",
     "text": [
      "\r",
      "Generating responses:  11%|█▏        | 139/1229 [10:17<37:17,  2.05s/it]"
     ]
    },
    {
     "name": "stdout",
     "output_type": "stream",
     "text": [
      "no_orgs\n"
     ]
    },
    {
     "name": "stderr",
     "output_type": "stream",
     "text": [
      "\r",
      "Generating responses:  11%|█▏        | 140/1229 [10:19<34:50,  1.92s/it]"
     ]
    },
    {
     "name": "stdout",
     "output_type": "stream",
     "text": [
      "no_orgs\n"
     ]
    },
    {
     "name": "stderr",
     "output_type": "stream",
     "text": [
      "\r",
      "Generating responses:  11%|█▏        | 141/1229 [10:20<32:58,  1.82s/it]"
     ]
    },
    {
     "name": "stdout",
     "output_type": "stream",
     "text": [
      "no_orgs\n"
     ]
    },
    {
     "name": "stderr",
     "output_type": "stream",
     "text": [
      "\r",
      "Generating responses:  12%|█▏        | 142/1229 [10:22<32:48,  1.81s/it]"
     ]
    },
    {
     "name": "stdout",
     "output_type": "stream",
     "text": [
      "PHOENIX, SACRAMENTO\n"
     ]
    },
    {
     "name": "stderr",
     "output_type": "stream",
     "text": [
      "\r",
      "Generating responses:  12%|█▏        | 143/1229 [10:24<36:33,  2.02s/it]"
     ]
    },
    {
     "name": "stdout",
     "output_type": "stream",
     "text": [
      "VANCOUVER, SAN ANTONIO\n"
     ]
    },
    {
     "name": "stderr",
     "output_type": "stream",
     "text": [
      "\r",
      "Generating responses:  12%|█▏        | 144/1229 [10:27<37:46,  2.09s/it]"
     ]
    },
    {
     "name": "stdout",
     "output_type": "stream",
     "text": [
      "MINNESOTA, UTAH\n"
     ]
    },
    {
     "name": "stderr",
     "output_type": "stream",
     "text": [
      "\r",
      "Generating responses:  12%|█▏        | 145/1229 [10:29<38:26,  2.13s/it]"
     ]
    },
    {
     "name": "stdout",
     "output_type": "stream",
     "text": [
      "no_orgs\n"
     ]
    },
    {
     "name": "stderr",
     "output_type": "stream",
     "text": [
      "\r",
      "Generating responses:  12%|█▏        | 146/1229 [10:31<36:38,  2.03s/it]"
     ]
    },
    {
     "name": "stdout",
     "output_type": "stream",
     "text": [
      "INDIANA, GOLDEN STATE\n"
     ]
    },
    {
     "name": "stderr",
     "output_type": "stream",
     "text": [
      "\r",
      "Generating responses:  12%|█▏        | 147/1229 [10:33<39:38,  2.20s/it]"
     ]
    },
    {
     "name": "stdout",
     "output_type": "stream",
     "text": [
      "ORLANDO, LA LAKERS\n"
     ]
    },
    {
     "name": "stderr",
     "output_type": "stream",
     "text": [
      "\r",
      "Generating responses:  12%|█▏        | 148/1229 [10:36<44:36,  2.48s/it]"
     ]
    },
    {
     "name": "stdout",
     "output_type": "stream",
     "text": [
      "NFL\n"
     ]
    },
    {
     "name": "stderr",
     "output_type": "stream",
     "text": [
      "\r",
      "Generating responses:  12%|█▏        | 149/1229 [10:38<39:34,  2.20s/it]"
     ]
    },
    {
     "name": "stdout",
     "output_type": "stream",
     "text": [
      "National Football League\n"
     ]
    },
    {
     "name": "stderr",
     "output_type": "stream",
     "text": [
      "\r",
      "Generating responses:  12%|█▏        | 150/1229 [10:40<38:17,  2.13s/it]"
     ]
    },
    {
     "name": "stdout",
     "output_type": "stream",
     "text": [
      "no_orgs\n"
     ]
    },
    {
     "name": "stderr",
     "output_type": "stream",
     "text": [
      "\r",
      "Generating responses:  12%|█▏        | 151/1229 [10:42<38:07,  2.12s/it]"
     ]
    },
    {
     "name": "stdout",
     "output_type": "stream",
     "text": [
      "no_orgs\n"
     ]
    },
    {
     "name": "stderr",
     "output_type": "stream",
     "text": [
      "\r",
      "Generating responses:  12%|█▏        | 152/1229 [10:46<48:58,  2.73s/it]"
     ]
    },
    {
     "name": "stdout",
     "output_type": "stream",
     "text": [
      "no_orgs\n"
     ]
    },
    {
     "name": "stderr",
     "output_type": "stream",
     "text": [
      "\r",
      "Generating responses:  12%|█▏        | 153/1229 [10:48<44:41,  2.49s/it]"
     ]
    },
    {
     "name": "stdout",
     "output_type": "stream",
     "text": [
      "no_orgs\n"
     ]
    },
    {
     "name": "stderr",
     "output_type": "stream",
     "text": [
      "\r",
      "Generating responses:  13%|█▎        | 154/1229 [10:50<43:26,  2.42s/it]"
     ]
    },
    {
     "name": "stdout",
     "output_type": "stream",
     "text": [
      "no_orgs\n"
     ]
    },
    {
     "name": "stderr",
     "output_type": "stream",
     "text": [
      "\r",
      "Generating responses:  13%|█▎        | 155/1229 [10:53<43:23,  2.42s/it]"
     ]
    },
    {
     "name": "stdout",
     "output_type": "stream",
     "text": [
      "no_orgs\n"
     ]
    },
    {
     "name": "stderr",
     "output_type": "stream",
     "text": [
      "\r",
      "Generating responses:  13%|█▎        | 156/1229 [10:54<39:09,  2.19s/it]"
     ]
    },
    {
     "name": "stdout",
     "output_type": "stream",
     "text": [
      "no_orgs\n"
     ]
    },
    {
     "name": "stderr",
     "output_type": "stream",
     "text": [
      "\r",
      "Generating responses:  13%|█▎        | 157/1229 [10:56<36:17,  2.03s/it]"
     ]
    },
    {
     "name": "stdout",
     "output_type": "stream",
     "text": [
      "no_orgs\n"
     ]
    },
    {
     "name": "stderr",
     "output_type": "stream",
     "text": [
      "\r",
      "Generating responses:  13%|█▎        | 158/1229 [10:58<33:37,  1.88s/it]"
     ]
    },
    {
     "name": "stdout",
     "output_type": "stream",
     "text": [
      "no_orgs\n"
     ]
    },
    {
     "name": "stderr",
     "output_type": "stream",
     "text": [
      "\r",
      "Generating responses:  13%|█▎        | 159/1229 [11:00<34:08,  1.91s/it]"
     ]
    },
    {
     "name": "stdout",
     "output_type": "stream",
     "text": [
      "no_orgs\n"
     ]
    },
    {
     "name": "stderr",
     "output_type": "stream",
     "text": [
      "\r",
      "Generating responses:  13%|█▎        | 160/1229 [11:02<33:59,  1.91s/it]"
     ]
    },
    {
     "name": "stdout",
     "output_type": "stream",
     "text": [
      "no_orgs\n"
     ]
    },
    {
     "name": "stderr",
     "output_type": "stream",
     "text": [
      "\r",
      "Generating responses:  13%|█▎        | 161/1229 [11:04<35:27,  1.99s/it]"
     ]
    },
    {
     "name": "stdout",
     "output_type": "stream",
     "text": [
      "no_orgs\n"
     ]
    },
    {
     "name": "stderr",
     "output_type": "stream",
     "text": [
      "\r",
      "Generating responses:  13%|█▎        | 162/1229 [11:06<35:58,  2.02s/it]"
     ]
    },
    {
     "name": "stdout",
     "output_type": "stream",
     "text": [
      "no_orgs\n"
     ]
    },
    {
     "name": "stderr",
     "output_type": "stream",
     "text": [
      "\r",
      "Generating responses:  13%|█▎        | 163/1229 [11:08<36:29,  2.05s/it]"
     ]
    },
    {
     "name": "stdout",
     "output_type": "stream",
     "text": [
      "no_orgs\n"
     ]
    },
    {
     "name": "stderr",
     "output_type": "stream",
     "text": [
      "\r",
      "Generating responses:  13%|█▎        | 164/1229 [11:09<33:40,  1.90s/it]"
     ]
    },
    {
     "name": "stdout",
     "output_type": "stream",
     "text": [
      "no_orgs\n"
     ]
    },
    {
     "name": "stderr",
     "output_type": "stream",
     "text": [
      "\r",
      "Generating responses:  13%|█▎        | 165/1229 [11:11<32:49,  1.85s/it]"
     ]
    },
    {
     "name": "stdout",
     "output_type": "stream",
     "text": [
      "no_orgs\n"
     ]
    },
    {
     "name": "stderr",
     "output_type": "stream",
     "text": [
      "\r",
      "Generating responses:  14%|█▎        | 166/1229 [11:13<32:38,  1.84s/it]"
     ]
    },
    {
     "name": "stdout",
     "output_type": "stream",
     "text": [
      "no_orgs\n"
     ]
    },
    {
     "name": "stderr",
     "output_type": "stream",
     "text": [
      "\r",
      "Generating responses:  14%|█▎        | 167/1229 [11:15<34:54,  1.97s/it]"
     ]
    },
    {
     "name": "stdout",
     "output_type": "stream",
     "text": [
      "no_orgs\n"
     ]
    },
    {
     "name": "stderr",
     "output_type": "stream",
     "text": [
      "\r",
      "Generating responses:  14%|█▎        | 168/1229 [11:17<34:49,  1.97s/it]"
     ]
    },
    {
     "name": "stdout",
     "output_type": "stream",
     "text": [
      "no_orgs\n"
     ]
    },
    {
     "name": "stderr",
     "output_type": "stream",
     "text": [
      "\r",
      "Generating responses:  14%|█▍        | 169/1229 [11:19<34:50,  1.97s/it]"
     ]
    },
    {
     "name": "stdout",
     "output_type": "stream",
     "text": [
      "no_orgs\n"
     ]
    },
    {
     "name": "stderr",
     "output_type": "stream",
     "text": [
      "\r",
      "Generating responses:  14%|█▍        | 170/1229 [11:21<34:14,  1.94s/it]"
     ]
    },
    {
     "name": "stdout",
     "output_type": "stream",
     "text": [
      "no_orgs\n"
     ]
    },
    {
     "name": "stderr",
     "output_type": "stream",
     "text": [
      "\r",
      "Generating responses:  14%|█▍        | 171/1229 [11:24<37:34,  2.13s/it]"
     ]
    },
    {
     "name": "stdout",
     "output_type": "stream",
     "text": [
      "no_orgs\n"
     ]
    },
    {
     "name": "stderr",
     "output_type": "stream",
     "text": [
      "\r",
      "Generating responses:  14%|█▍        | 172/1229 [11:26<38:44,  2.20s/it]"
     ]
    },
    {
     "name": "stdout",
     "output_type": "stream",
     "text": [
      "no_orgs\n"
     ]
    },
    {
     "name": "stderr",
     "output_type": "stream",
     "text": [
      "\r",
      "Generating responses:  14%|█▍        | 173/1229 [11:28<36:58,  2.10s/it]"
     ]
    },
    {
     "name": "stdout",
     "output_type": "stream",
     "text": [
      "no_orgs\n"
     ]
    },
    {
     "name": "stderr",
     "output_type": "stream",
     "text": [
      "\r",
      "Generating responses:  14%|█▍        | 174/1229 [11:30<38:03,  2.16s/it]"
     ]
    },
    {
     "name": "stdout",
     "output_type": "stream",
     "text": [
      "no_orgs\n"
     ]
    },
    {
     "name": "stderr",
     "output_type": "stream",
     "text": [
      "\r",
      "Generating responses:  14%|█▍        | 175/1229 [11:32<33:57,  1.93s/it]"
     ]
    },
    {
     "name": "stdout",
     "output_type": "stream",
     "text": [
      "no_orgs\n"
     ]
    },
    {
     "name": "stderr",
     "output_type": "stream",
     "text": [
      "\r",
      "Generating responses:  14%|█▍        | 176/1229 [11:33<32:25,  1.85s/it]"
     ]
    },
    {
     "name": "stdout",
     "output_type": "stream",
     "text": [
      "no_orgs\n"
     ]
    },
    {
     "name": "stderr",
     "output_type": "stream",
     "text": [
      "\r",
      "Generating responses:  14%|█▍        | 177/1229 [11:35<32:55,  1.88s/it]"
     ]
    },
    {
     "name": "stdout",
     "output_type": "stream",
     "text": [
      "no_orgs\n"
     ]
    },
    {
     "name": "stderr",
     "output_type": "stream",
     "text": [
      "\r",
      "Generating responses:  14%|█▍        | 178/1229 [11:37<31:02,  1.77s/it]"
     ]
    },
    {
     "name": "stdout",
     "output_type": "stream",
     "text": [
      "no_orgs\n"
     ]
    },
    {
     "name": "stderr",
     "output_type": "stream",
     "text": [
      "\r",
      "Generating responses:  15%|█▍        | 179/1229 [11:38<29:56,  1.71s/it]"
     ]
    },
    {
     "name": "stdout",
     "output_type": "stream",
     "text": [
      "ST LOUIS, CHICAGO\n"
     ]
    },
    {
     "name": "stderr",
     "output_type": "stream",
     "text": [
      "\r",
      "Generating responses:  15%|█▍        | 180/1229 [11:41<34:37,  1.98s/it]"
     ]
    },
    {
     "name": "stdout",
     "output_type": "stream",
     "text": [
      "no_orgs\n"
     ]
    },
    {
     "name": "stderr",
     "output_type": "stream",
     "text": [
      "\r",
      "Generating responses:  15%|█▍        | 181/1229 [11:44<40:49,  2.34s/it]"
     ]
    },
    {
     "name": "stdout",
     "output_type": "stream",
     "text": [
      "no_orgs\n"
     ]
    },
    {
     "name": "stderr",
     "output_type": "stream",
     "text": [
      "\r",
      "Generating responses:  15%|█▍        | 182/1229 [11:46<39:25,  2.26s/it]"
     ]
    },
    {
     "name": "stdout",
     "output_type": "stream",
     "text": [
      "JACKSONVILLE, HOUSTON\n"
     ]
    },
    {
     "name": "stderr",
     "output_type": "stream",
     "text": [
      "\r",
      "Generating responses:  15%|█▍        | 183/1229 [11:48<38:56,  2.23s/it]"
     ]
    },
    {
     "name": "stdout",
     "output_type": "stream",
     "text": [
      "NY GIANTS, MIAMI\n"
     ]
    },
    {
     "name": "stderr",
     "output_type": "stream",
     "text": [
      "\r",
      "Generating responses:  15%|█▍        | 184/1229 [11:50<37:04,  2.13s/it]"
     ]
    },
    {
     "name": "stdout",
     "output_type": "stream",
     "text": [
      "no_orgs\n"
     ]
    },
    {
     "name": "stderr",
     "output_type": "stream",
     "text": [
      "\r",
      "Generating responses:  15%|█▌        | 185/1229 [11:52<35:23,  2.03s/it]"
     ]
    },
    {
     "name": "stdout",
     "output_type": "stream",
     "text": [
      "Error generating response for prompt at index 185: That model is currently overloaded with other requests. You can retry your request, or contact us through our help center at help.openai.com if the error persists. (Please include the request ID 1a145e559e17f8b0b2f8782de42a49c1 in your message.)\n",
      "Query: I need you to show me organisations in the provided sentence. Do not show me any other entity types.\n",
      "    ###\n",
      "    Desired response format: ###\n",
      "    org1, org2, org3\n",
      "    ###\n",
      "    Desired response if no organisations found: ###\n",
      "    no_orgs\n",
      "    ###\n",
      "    For example, if I gave you: ###\n",
      "    \"James, living in Japan, missed his club 's last two games after FIFA slapped a worldwide ban on him for appearing to sign contracts for both Wednesday and Udinese while he was playing for Feyenoord .\",\n",
      "    you would only give me:\n",
      "    FIFA, Wednesday, Udinese, Feyenoord\n",
      "    ###\n",
      "    The provided sentence is: ###\n",
      "    SAN DIEGO AT PITTSBURGH\n",
      "    ###\n",
      "    \n",
      "Retrying in 5 seconds...\n",
      "SAN DIEGO, PITTSBURGH\n"
     ]
    },
    {
     "name": "stderr",
     "output_type": "stream",
     "text": [
      "\r",
      "Generating responses:  15%|█▌        | 186/1229 [12:30<3:43:46, 12.87s/it]"
     ]
    },
    {
     "name": "stdout",
     "output_type": "stream",
     "text": [
      "no_orgs\n"
     ]
    },
    {
     "name": "stderr",
     "output_type": "stream",
     "text": [
      "\r",
      "Generating responses:  15%|█▌        | 187/1229 [12:32<2:47:52,  9.67s/it]"
     ]
    },
    {
     "name": "stdout",
     "output_type": "stream",
     "text": [
      "DALLAS, ARIZONA\n"
     ]
    },
    {
     "name": "stderr",
     "output_type": "stream",
     "text": [
      "\r",
      "Generating responses:  15%|█▌        | 188/1229 [12:34<2:07:43,  7.36s/it]"
     ]
    },
    {
     "name": "stdout",
     "output_type": "stream",
     "text": [
      "NY JETS, NEW ENGLAND\n"
     ]
    },
    {
     "name": "stderr",
     "output_type": "stream",
     "text": [
      "\r",
      "Generating responses:  15%|█▌        | 189/1229 [12:36<1:39:45,  5.76s/it]"
     ]
    },
    {
     "name": "stdout",
     "output_type": "stream",
     "text": [
      "BUFFALO, SEATTLE\n"
     ]
    },
    {
     "name": "stderr",
     "output_type": "stream",
     "text": [
      "\r",
      "Generating responses:  15%|█▌        | 190/1229 [12:38<1:20:44,  4.66s/it]"
     ]
    },
    {
     "name": "stdout",
     "output_type": "stream",
     "text": [
      "CAROLINA, SAN FRANCISCO\n"
     ]
    },
    {
     "name": "stderr",
     "output_type": "stream",
     "text": [
      "\r",
      "Generating responses:  16%|█▌        | 191/1229 [12:41<1:08:47,  3.98s/it]"
     ]
    },
    {
     "name": "stdout",
     "output_type": "stream",
     "text": [
      "MINNESOTA, DETROIT\n"
     ]
    },
    {
     "name": "stderr",
     "output_type": "stream",
     "text": [
      "\r",
      "Generating responses:  16%|█▌        | 192/1229 [12:44<1:03:10,  3.66s/it]"
     ]
    },
    {
     "name": "stdout",
     "output_type": "stream",
     "text": [
      "Error generating response for prompt at index 192: That model is currently overloaded with other requests. You can retry your request, or contact us through our help center at help.openai.com if the error persists. (Please include the request ID f5eda5c98734ceae25d64bf4bdad2b6a in your message.)\n",
      "Query: I need you to show me organisations in the provided sentence. Do not show me any other entity types.\n",
      "    ###\n",
      "    Desired response format: ###\n",
      "    org1, org2, org3\n",
      "    ###\n",
      "    Desired response if no organisations found: ###\n",
      "    no_orgs\n",
      "    ###\n",
      "    For example, if I gave you: ###\n",
      "    \"James, living in Japan, missed his club 's last two games after FIFA slapped a worldwide ban on him for appearing to sign contracts for both Wednesday and Udinese while he was playing for Feyenoord .\",\n",
      "    you would only give me:\n",
      "    FIFA, Wednesday, Udinese, Feyenoord\n",
      "    ###\n",
      "    The provided sentence is: ###\n",
      "    KANSAS CITY AT OAKLAND\n",
      "    ###\n",
      "    \n",
      "Retrying in 5 seconds...\n",
      "no_orgs\n"
     ]
    },
    {
     "name": "stderr",
     "output_type": "stream",
     "text": [
      "\r",
      "Generating responses:  16%|█▌        | 193/1229 [13:21<3:58:30, 13.81s/it]"
     ]
    },
    {
     "name": "stdout",
     "output_type": "stream",
     "text": [
      "NFL\n"
     ]
    },
    {
     "name": "stderr",
     "output_type": "stream",
     "text": [
      "\r",
      "Generating responses:  16%|█▌        | 194/1229 [13:23<2:57:17, 10.28s/it]"
     ]
    },
    {
     "name": "stdout",
     "output_type": "stream",
     "text": [
      "no_orgs\n"
     ]
    },
    {
     "name": "stderr",
     "output_type": "stream",
     "text": [
      "\r",
      "Generating responses:  16%|█▌        | 195/1229 [13:25<2:13:44,  7.76s/it]"
     ]
    },
    {
     "name": "stdout",
     "output_type": "stream",
     "text": [
      "no_orgs\n"
     ]
    },
    {
     "name": "stderr",
     "output_type": "stream",
     "text": [
      "\r",
      "Generating responses:  16%|█▌        | 196/1229 [13:27<1:44:51,  6.09s/it]"
     ]
    },
    {
     "name": "stdout",
     "output_type": "stream",
     "text": [
      "NCAA, OHIO STATE\n"
     ]
    },
    {
     "name": "stderr",
     "output_type": "stream",
     "text": [
      "\r",
      "Generating responses:  16%|█▌        | 197/1229 [13:30<1:28:27,  5.14s/it]"
     ]
    },
    {
     "name": "stdout",
     "output_type": "stream",
     "text": [
      "Ohio State, Rotary Club of Houston\n"
     ]
    },
    {
     "name": "stderr",
     "output_type": "stream",
     "text": [
      "\r",
      "Generating responses:  16%|█▌        | 198/1229 [13:33<1:14:04,  4.31s/it]"
     ]
    },
    {
     "name": "stdout",
     "output_type": "stream",
     "text": [
      "Ohio State, Rose Bowl, Arizona State.\n"
     ]
    },
    {
     "name": "stderr",
     "output_type": "stream",
     "text": [
      "\r",
      "Generating responses:  16%|█▌        | 199/1229 [13:35<1:05:51,  3.84s/it]"
     ]
    },
    {
     "name": "stdout",
     "output_type": "stream",
     "text": [
      "Virginia Tech, Arizona State, Nebraska\n"
     ]
    },
    {
     "name": "stderr",
     "output_type": "stream",
     "text": [
      "\r",
      "Generating responses:  16%|█▋        | 200/1229 [13:37<55:26,  3.23s/it]  "
     ]
    },
    {
     "name": "stdout",
     "output_type": "stream",
     "text": [
      "The Lombardi Award, Green Bay Packers\n"
     ]
    },
    {
     "name": "stderr",
     "output_type": "stream",
     "text": [
      "\r",
      "Generating responses:  16%|█▋        | 201/1229 [13:40<52:07,  3.04s/it]"
     ]
    },
    {
     "name": "stdout",
     "output_type": "stream",
     "text": [
      "RKC Waalwijk, Willem II Tilburg\n"
     ]
    },
    {
     "name": "stderr",
     "output_type": "stream",
     "text": [
      "\r",
      "Generating responses:  16%|█▋        | 202/1229 [13:42<49:49,  2.91s/it]"
     ]
    },
    {
     "name": "stdout",
     "output_type": "stream",
     "text": [
      "PSV Eindhoven\n"
     ]
    },
    {
     "name": "stderr",
     "output_type": "stream",
     "text": [
      "\r",
      "Generating responses:  17%|█▋        | 203/1229 [13:44<41:46,  2.44s/it]"
     ]
    },
    {
     "name": "stdout",
     "output_type": "stream",
     "text": [
      "Feyenoord\n"
     ]
    },
    {
     "name": "stderr",
     "output_type": "stream",
     "text": [
      "\r",
      "Generating responses:  17%|█▋        | 204/1229 [13:45<37:04,  2.17s/it]"
     ]
    },
    {
     "name": "stdout",
     "output_type": "stream",
     "text": [
      "Twente Enschede\n"
     ]
    },
    {
     "name": "stderr",
     "output_type": "stream",
     "text": [
      "\r",
      "Generating responses:  17%|█▋        | 205/1229 [13:48<38:29,  2.26s/it]"
     ]
    },
    {
     "name": "stdout",
     "output_type": "stream",
     "text": [
      "Graafschap Doetinchem\n"
     ]
    },
    {
     "name": "stderr",
     "output_type": "stream",
     "text": [
      "\r",
      "Generating responses:  17%|█▋        | 206/1229 [13:50<39:45,  2.33s/it]"
     ]
    },
    {
     "name": "stdout",
     "output_type": "stream",
     "text": [
      "Vitesse Arnhem\n"
     ]
    },
    {
     "name": "stderr",
     "output_type": "stream",
     "text": [
      "\r",
      "Generating responses:  17%|█▋        | 207/1229 [13:52<38:48,  2.28s/it]"
     ]
    },
    {
     "name": "stdout",
     "output_type": "stream",
     "text": [
      "Ajax Amsterdam\n"
     ]
    },
    {
     "name": "stderr",
     "output_type": "stream",
     "text": [
      "\r",
      "Generating responses:  17%|█▋        | 208/1229 [13:54<34:07,  2.01s/it]"
     ]
    },
    {
     "name": "stdout",
     "output_type": "stream",
     "text": [
      "Heerenveen\n"
     ]
    },
    {
     "name": "stderr",
     "output_type": "stream",
     "text": [
      "\r",
      "Generating responses:  17%|█▋        | 209/1229 [13:55<31:11,  1.83s/it]"
     ]
    },
    {
     "name": "stdout",
     "output_type": "stream",
     "text": [
      "Roda JC Kerkrade\n"
     ]
    },
    {
     "name": "stderr",
     "output_type": "stream",
     "text": [
      "\r",
      "Generating responses:  17%|█▋        | 210/1229 [13:57<31:16,  1.84s/it]"
     ]
    },
    {
     "name": "stdout",
     "output_type": "stream",
     "text": [
      "no_orgs\n"
     ]
    },
    {
     "name": "stderr",
     "output_type": "stream",
     "text": [
      "\r",
      "Generating responses:  17%|█▋        | 211/1229 [13:59<28:58,  1.71s/it]"
     ]
    },
    {
     "name": "stdout",
     "output_type": "stream",
     "text": [
      "no_orgs\n"
     ]
    },
    {
     "name": "stderr",
     "output_type": "stream",
     "text": [
      "\r",
      "Generating responses:  17%|█▋        | 212/1229 [14:00<28:39,  1.69s/it]"
     ]
    },
    {
     "name": "stdout",
     "output_type": "stream",
     "text": [
      "Sparta Rotterdam\n"
     ]
    },
    {
     "name": "stderr",
     "output_type": "stream",
     "text": [
      "\r",
      "Generating responses:  17%|█▋        | 213/1229 [14:02<30:25,  1.80s/it]"
     ]
    },
    {
     "name": "stdout",
     "output_type": "stream",
     "text": [
      "NAC Breda\n"
     ]
    },
    {
     "name": "stderr",
     "output_type": "stream",
     "text": [
      "\r",
      "Generating responses:  17%|█▋        | 214/1229 [14:05<33:01,  1.95s/it]"
     ]
    },
    {
     "name": "stdout",
     "output_type": "stream",
     "text": [
      "Willem II Tilburg\n"
     ]
    },
    {
     "name": "stderr",
     "output_type": "stream",
     "text": [
      "\r",
      "Generating responses:  17%|█▋        | 215/1229 [14:07<35:31,  2.10s/it]"
     ]
    },
    {
     "name": "stdout",
     "output_type": "stream",
     "text": [
      "no_orgs\n"
     ]
    },
    {
     "name": "stderr",
     "output_type": "stream",
     "text": [
      "\r",
      "Generating responses:  18%|█▊        | 216/1229 [14:09<35:55,  2.13s/it]"
     ]
    },
    {
     "name": "stdout",
     "output_type": "stream",
     "text": [
      "AZ Alkmaar\n"
     ]
    },
    {
     "name": "stderr",
     "output_type": "stream",
     "text": [
      "\r",
      "Generating responses:  18%|█▊        | 217/1229 [14:11<34:43,  2.06s/it]"
     ]
    },
    {
     "name": "stdout",
     "output_type": "stream",
     "text": [
      "Fortuna Sittard\n"
     ]
    },
    {
     "name": "stderr",
     "output_type": "stream",
     "text": [
      "\r",
      "Generating responses:  18%|█▊        | 218/1229 [14:13<34:38,  2.06s/it]"
     ]
    },
    {
     "name": "stdout",
     "output_type": "stream",
     "text": [
      "NEC Nijmegen\n"
     ]
    },
    {
     "name": "stderr",
     "output_type": "stream",
     "text": [
      "\r",
      "Generating responses:  18%|█▊        | 219/1229 [14:15<32:58,  1.96s/it]"
     ]
    },
    {
     "name": "stdout",
     "output_type": "stream",
     "text": [
      "RKC Waalwijk\n"
     ]
    },
    {
     "name": "stderr",
     "output_type": "stream",
     "text": [
      "\r",
      "Generating responses:  18%|█▊        | 220/1229 [14:17<33:31,  1.99s/it]"
     ]
    },
    {
     "name": "stdout",
     "output_type": "stream",
     "text": [
      "Bochum, Bayer Leverkusen\n"
     ]
    },
    {
     "name": "stderr",
     "output_type": "stream",
     "text": [
      "\r",
      "Generating responses:  18%|█▊        | 221/1229 [14:19<35:20,  2.10s/it]"
     ]
    },
    {
     "name": "stdout",
     "output_type": "stream",
     "text": [
      "Werder Bremen, 1860 Munich\n"
     ]
    },
    {
     "name": "stderr",
     "output_type": "stream",
     "text": [
      "\r",
      "Generating responses:  18%|█▊        | 222/1229 [14:22<38:24,  2.29s/it]"
     ]
    },
    {
     "name": "stdout",
     "output_type": "stream",
     "text": [
      "no_orgs\n"
     ]
    },
    {
     "name": "stderr",
     "output_type": "stream",
     "text": [
      "\r",
      "Generating responses:  18%|█▊        | 223/1229 [14:25<40:07,  2.39s/it]"
     ]
    },
    {
     "name": "stdout",
     "output_type": "stream",
     "text": [
      "Schalke, Hansa Rostock\n"
     ]
    },
    {
     "name": "stderr",
     "output_type": "stream",
     "text": [
      "\r",
      "Generating responses:  18%|█▊        | 224/1229 [14:27<40:28,  2.42s/it]"
     ]
    },
    {
     "name": "stdout",
     "output_type": "stream",
     "text": [
      "Bayer Leverkusen\n"
     ]
    },
    {
     "name": "stderr",
     "output_type": "stream",
     "text": [
      "\r",
      "Generating responses:  18%|█▊        | 225/1229 [14:30<42:05,  2.52s/it]"
     ]
    },
    {
     "name": "stdout",
     "output_type": "stream",
     "text": [
      "Bayern Munich\n"
     ]
    },
    {
     "name": "stderr",
     "output_type": "stream",
     "text": [
      "\r",
      "Generating responses:  18%|█▊        | 226/1229 [14:32<38:58,  2.33s/it]"
     ]
    },
    {
     "name": "stdout",
     "output_type": "stream",
     "text": [
      "VfB Stuttgart\n"
     ]
    },
    {
     "name": "stderr",
     "output_type": "stream",
     "text": [
      "\r",
      "Generating responses:  18%|█▊        | 227/1229 [14:33<35:59,  2.15s/it]"
     ]
    },
    {
     "name": "stdout",
     "output_type": "stream",
     "text": [
      "Borussia Dortmund\n"
     ]
    },
    {
     "name": "stderr",
     "output_type": "stream",
     "text": [
      "\r",
      "Generating responses:  19%|█▊        | 228/1229 [14:36<36:58,  2.22s/it]"
     ]
    },
    {
     "name": "stdout",
     "output_type": "stream",
     "text": [
      "no_orgs\n"
     ]
    },
    {
     "name": "stderr",
     "output_type": "stream",
     "text": [
      "\r",
      "Generating responses:  19%|█▊        | 229/1229 [14:37<33:57,  2.04s/it]"
     ]
    },
    {
     "name": "stdout",
     "output_type": "stream",
     "text": [
      "VfL Bochum\n"
     ]
    },
    {
     "name": "stderr",
     "output_type": "stream",
     "text": [
      "\r",
      "Generating responses:  19%|█▊        | 230/1229 [14:40<36:33,  2.20s/it]"
     ]
    },
    {
     "name": "stdout",
     "output_type": "stream",
     "text": [
      "FC Cologne\n"
     ]
    },
    {
     "name": "stderr",
     "output_type": "stream",
     "text": [
      "\r",
      "Generating responses:  19%|█▉        | 231/1229 [14:42<36:07,  2.17s/it]"
     ]
    },
    {
     "name": "stdout",
     "output_type": "stream",
     "text": [
      "no_orgs\n"
     ]
    },
    {
     "name": "stderr",
     "output_type": "stream",
     "text": [
      "\r",
      "Generating responses:  19%|█▉        | 232/1229 [14:44<36:03,  2.17s/it]"
     ]
    },
    {
     "name": "stdout",
     "output_type": "stream",
     "text": [
      "Werder Bremen\n"
     ]
    },
    {
     "name": "stderr",
     "output_type": "stream",
     "text": [
      "\r",
      "Generating responses:  19%|█▉        | 233/1229 [14:46<33:48,  2.04s/it]"
     ]
    },
    {
     "name": "stdout",
     "output_type": "stream",
     "text": [
      "MSV Duisburg\n"
     ]
    },
    {
     "name": "stderr",
     "output_type": "stream",
     "text": [
      "\r",
      "Generating responses:  19%|█▉        | 234/1229 [14:48<34:21,  2.07s/it]"
     ]
    },
    {
     "name": "stdout",
     "output_type": "stream",
     "text": [
      "SV 1860 Munich\n"
     ]
    },
    {
     "name": "stderr",
     "output_type": "stream",
     "text": [
      "\r",
      "Generating responses:  19%|█▉        | 235/1229 [14:51<35:53,  2.17s/it]"
     ]
    },
    {
     "name": "stdout",
     "output_type": "stream",
     "text": [
      "FC St. Pauli\n"
     ]
    },
    {
     "name": "stderr",
     "output_type": "stream",
     "text": [
      "\r",
      "Generating responses:  19%|█▉        | 236/1229 [14:53<36:42,  2.22s/it]"
     ]
    },
    {
     "name": "stdout",
     "output_type": "stream",
     "text": [
      "Fortuna Dusseldorf\n"
     ]
    },
    {
     "name": "stderr",
     "output_type": "stream",
     "text": [
      "\r",
      "Generating responses:  19%|█▉        | 237/1229 [14:55<37:55,  2.29s/it]"
     ]
    },
    {
     "name": "stdout",
     "output_type": "stream",
     "text": [
      "Hamburger SV\n"
     ]
    },
    {
     "name": "stderr",
     "output_type": "stream",
     "text": [
      "\r",
      "Generating responses:  19%|█▉        | 238/1229 [14:57<36:01,  2.18s/it]"
     ]
    },
    {
     "name": "stdout",
     "output_type": "stream",
     "text": [
      "Arminia Bielefeld\n"
     ]
    },
    {
     "name": "stderr",
     "output_type": "stream",
     "text": [
      "\r",
      "Generating responses:  19%|█▉        | 239/1229 [15:00<38:01,  2.30s/it]"
     ]
    },
    {
     "name": "stdout",
     "output_type": "stream",
     "text": [
      "FC Hansa Rostock\n"
     ]
    },
    {
     "name": "stderr",
     "output_type": "stream",
     "text": [
      "\r",
      "Generating responses:  20%|█▉        | 240/1229 [15:02<34:58,  2.12s/it]"
     ]
    },
    {
     "name": "stdout",
     "output_type": "stream",
     "text": [
      "Borussia Monchengladbach\n"
     ]
    },
    {
     "name": "stderr",
     "output_type": "stream",
     "text": [
      "\r",
      "Generating responses:  20%|█▉        | 241/1229 [15:04<36:47,  2.23s/it]"
     ]
    },
    {
     "name": "stdout",
     "output_type": "stream",
     "text": [
      "SC Freiburg\n"
     ]
    },
    {
     "name": "stderr",
     "output_type": "stream",
     "text": [
      "\r",
      "Generating responses:  20%|█▉        | 242/1229 [15:07<38:26,  2.34s/it]"
     ]
    },
    {
     "name": "stdout",
     "output_type": "stream",
     "text": [
      "Lens, Nantes\n"
     ]
    },
    {
     "name": "stderr",
     "output_type": "stream",
     "text": [
      "\r",
      "Generating responses:  20%|█▉        | 243/1229 [15:08<33:28,  2.04s/it]"
     ]
    },
    {
     "name": "stdout",
     "output_type": "stream",
     "text": [
      "Paris St Germain, Nancy\n"
     ]
    },
    {
     "name": "stderr",
     "output_type": "stream",
     "text": [
      "\r",
      "Generating responses:  20%|█▉        | 244/1229 [15:10<35:19,  2.15s/it]"
     ]
    },
    {
     "name": "stdout",
     "output_type": "stream",
     "text": [
      "RKC Waalwijk, Willem II Tilburg\n"
     ]
    },
    {
     "name": "stderr",
     "output_type": "stream",
     "text": [
      "\r",
      "Generating responses:  20%|█▉        | 245/1229 [15:13<38:27,  2.35s/it]"
     ]
    },
    {
     "name": "stdout",
     "output_type": "stream",
     "text": [
      "Paris Saint-Germain\n"
     ]
    },
    {
     "name": "stderr",
     "output_type": "stream",
     "text": [
      "\r",
      "Generating responses:  20%|██        | 246/1229 [15:16<39:59,  2.44s/it]"
     ]
    },
    {
     "name": "stdout",
     "output_type": "stream",
     "text": [
      "no_orgs\n"
     ]
    },
    {
     "name": "stderr",
     "output_type": "stream",
     "text": [
      "\r",
      "Generating responses:  20%|██        | 247/1229 [15:18<36:13,  2.21s/it]"
     ]
    },
    {
     "name": "stdout",
     "output_type": "stream",
     "text": [
      "no_orgs\n"
     ]
    },
    {
     "name": "stderr",
     "output_type": "stream",
     "text": [
      "\r",
      "Generating responses:  20%|██        | 248/1229 [15:20<35:28,  2.17s/it]"
     ]
    },
    {
     "name": "stdout",
     "output_type": "stream",
     "text": [
      "no_orgs\n"
     ]
    },
    {
     "name": "stderr",
     "output_type": "stream",
     "text": [
      "\r",
      "Generating responses:  20%|██        | 249/1229 [15:22<34:52,  2.13s/it]"
     ]
    },
    {
     "name": "stdout",
     "output_type": "stream",
     "text": [
      "no_orgs\n"
     ]
    },
    {
     "name": "stderr",
     "output_type": "stream",
     "text": [
      "\r",
      "Generating responses:  20%|██        | 250/1229 [15:23<31:45,  1.95s/it]"
     ]
    },
    {
     "name": "stdout",
     "output_type": "stream",
     "text": [
      "no_orgs\n"
     ]
    },
    {
     "name": "stderr",
     "output_type": "stream",
     "text": [
      "\r",
      "Generating responses:  20%|██        | 251/1229 [15:26<33:34,  2.06s/it]"
     ]
    },
    {
     "name": "stdout",
     "output_type": "stream",
     "text": [
      "no_orgs\n"
     ]
    },
    {
     "name": "stderr",
     "output_type": "stream",
     "text": [
      "\r",
      "Generating responses:  21%|██        | 252/1229 [15:27<32:03,  1.97s/it]"
     ]
    },
    {
     "name": "stdout",
     "output_type": "stream",
     "text": [
      "no_orgs\n"
     ]
    },
    {
     "name": "stderr",
     "output_type": "stream",
     "text": [
      "\r",
      "Generating responses:  21%|██        | 253/1229 [15:29<33:07,  2.04s/it]"
     ]
    },
    {
     "name": "stdout",
     "output_type": "stream",
     "text": [
      "Guingamp\n"
     ]
    },
    {
     "name": "stderr",
     "output_type": "stream",
     "text": [
      "\r",
      "Generating responses:  21%|██        | 254/1229 [15:31<32:38,  2.01s/it]"
     ]
    },
    {
     "name": "stdout",
     "output_type": "stream",
     "text": [
      "no_orgs\n"
     ]
    },
    {
     "name": "stderr",
     "output_type": "stream",
     "text": [
      "\r",
      "Generating responses:  21%|██        | 255/1229 [15:33<30:45,  1.89s/it]"
     ]
    },
    {
     "name": "stdout",
     "output_type": "stream",
     "text": [
      "no_orgs\n"
     ]
    },
    {
     "name": "stderr",
     "output_type": "stream",
     "text": [
      "\r",
      "Generating responses:  21%|██        | 256/1229 [15:35<28:37,  1.77s/it]"
     ]
    },
    {
     "name": "stdout",
     "output_type": "stream",
     "text": [
      "no_orgs\n"
     ]
    },
    {
     "name": "stderr",
     "output_type": "stream",
     "text": [
      "\r",
      "Generating responses:  21%|██        | 257/1229 [15:37<31:02,  1.92s/it]"
     ]
    },
    {
     "name": "stdout",
     "output_type": "stream",
     "text": [
      "no_orgs\n"
     ]
    },
    {
     "name": "stderr",
     "output_type": "stream",
     "text": [
      "\r",
      "Generating responses:  21%|██        | 258/1229 [15:39<31:36,  1.95s/it]"
     ]
    },
    {
     "name": "stdout",
     "output_type": "stream",
     "text": [
      "no_orgs\n"
     ]
    },
    {
     "name": "stderr",
     "output_type": "stream",
     "text": [
      "\r",
      "Generating responses:  21%|██        | 259/1229 [15:41<31:14,  1.93s/it]"
     ]
    },
    {
     "name": "stdout",
     "output_type": "stream",
     "text": [
      "no_orgs\n"
     ]
    },
    {
     "name": "stderr",
     "output_type": "stream",
     "text": [
      "\r",
      "Generating responses:  21%|██        | 260/1229 [15:42<30:01,  1.86s/it]"
     ]
    },
    {
     "name": "stdout",
     "output_type": "stream",
     "text": [
      "no_orgs\n"
     ]
    },
    {
     "name": "stderr",
     "output_type": "stream",
     "text": [
      "\r",
      "Generating responses:  21%|██        | 261/1229 [15:44<29:42,  1.84s/it]"
     ]
    },
    {
     "name": "stdout",
     "output_type": "stream",
     "text": [
      "no_orgs\n"
     ]
    },
    {
     "name": "stderr",
     "output_type": "stream",
     "text": [
      "\r",
      "Generating responses:  21%|██▏       | 262/1229 [15:46<30:17,  1.88s/it]"
     ]
    },
    {
     "name": "stdout",
     "output_type": "stream",
     "text": [
      "no_orgs\n"
     ]
    },
    {
     "name": "stderr",
     "output_type": "stream",
     "text": [
      "\r",
      "Generating responses:  21%|██▏       | 263/1229 [15:48<29:53,  1.86s/it]"
     ]
    },
    {
     "name": "stdout",
     "output_type": "stream",
     "text": [
      "no_orgs\n"
     ]
    },
    {
     "name": "stderr",
     "output_type": "stream",
     "text": [
      "\r",
      "Generating responses:  21%|██▏       | 264/1229 [15:50<30:57,  1.92s/it]"
     ]
    },
    {
     "name": "stdout",
     "output_type": "stream",
     "text": [
      "no_orgs\n"
     ]
    },
    {
     "name": "stderr",
     "output_type": "stream",
     "text": [
      "\r",
      "Generating responses:  22%|██▏       | 265/1229 [15:52<30:24,  1.89s/it]"
     ]
    },
    {
     "name": "stdout",
     "output_type": "stream",
     "text": [
      "Lens, Nantes\n"
     ]
    },
    {
     "name": "stderr",
     "output_type": "stream",
     "text": [
      "\r",
      "Generating responses:  22%|██▏       | 266/1229 [15:54<32:00,  1.99s/it]"
     ]
    },
    {
     "name": "stdout",
     "output_type": "stream",
     "text": [
      "Paris St Germain, Nancy\n"
     ]
    },
    {
     "name": "stderr",
     "output_type": "stream",
     "text": [
      "\r",
      "Generating responses:  22%|██▏       | 267/1229 [15:56<29:36,  1.85s/it]"
     ]
    },
    {
     "name": "stdout",
     "output_type": "stream",
     "text": [
      "Bochum, Bayer Leverkusen\n"
     ]
    },
    {
     "name": "stderr",
     "output_type": "stream",
     "text": [
      "\r",
      "Generating responses:  22%|██▏       | 268/1229 [15:57<29:23,  1.83s/it]"
     ]
    },
    {
     "name": "stdout",
     "output_type": "stream",
     "text": [
      "Werder Bremen, 1860 Munich\n"
     ]
    },
    {
     "name": "stderr",
     "output_type": "stream",
     "text": [
      "\r",
      "Generating responses:  22%|██▏       | 269/1229 [15:59<29:42,  1.86s/it]"
     ]
    },
    {
     "name": "stdout",
     "output_type": "stream",
     "text": [
      "Karlsruhe, Freiburg\n"
     ]
    },
    {
     "name": "stderr",
     "output_type": "stream",
     "text": [
      "\r",
      "Generating responses:  22%|██▏       | 270/1229 [16:02<34:29,  2.16s/it]"
     ]
    },
    {
     "name": "stdout",
     "output_type": "stream",
     "text": [
      "Schalke, Hansa Rostock\n"
     ]
    },
    {
     "name": "stderr",
     "output_type": "stream",
     "text": [
      "\r",
      "Generating responses:  22%|██▏       | 271/1229 [16:07<46:05,  2.89s/it]"
     ]
    },
    {
     "name": "stdout",
     "output_type": "stream",
     "text": [
      "Porto\n"
     ]
    },
    {
     "name": "stderr",
     "output_type": "stream",
     "text": [
      "\r",
      "Generating responses:  22%|██▏       | 272/1229 [16:08<40:04,  2.51s/it]"
     ]
    },
    {
     "name": "stdout",
     "output_type": "stream",
     "text": [
      "AC Milan, European Champions' League\n"
     ]
    },
    {
     "name": "stderr",
     "output_type": "stream",
     "text": [
      "\r",
      "Generating responses:  22%|██▏       | 273/1229 [16:11<38:41,  2.43s/it]"
     ]
    },
    {
     "name": "stdout",
     "output_type": "stream",
     "text": [
      "Barcelona, Braga\n"
     ]
    },
    {
     "name": "stderr",
     "output_type": "stream",
     "text": [
      "\r",
      "Generating responses:  22%|██▏       | 274/1229 [16:12<34:46,  2.18s/it]"
     ]
    },
    {
     "name": "stdout",
     "output_type": "stream",
     "text": [
      "Porto, Sporting, Barcelona, Deportivo Coruna, Juventus, Real Madrid\n"
     ]
    },
    {
     "name": "stderr",
     "output_type": "stream",
     "text": [
      "\r",
      "Generating responses:  22%|██▏       | 275/1229 [16:15<38:27,  2.42s/it]"
     ]
    },
    {
     "name": "stdout",
     "output_type": "stream",
     "text": [
      "Porto, Barcelona, Oviedo, Salamanca\n"
     ]
    },
    {
     "name": "stderr",
     "output_type": "stream",
     "text": [
      "\r",
      "Generating responses:  22%|██▏       | 276/1229 [16:18<38:19,  2.41s/it]"
     ]
    },
    {
     "name": "stdout",
     "output_type": "stream",
     "text": [
      "Porto, Benfica, Sporting, Fiorentina, Celtic Glasgow\n"
     ]
    },
    {
     "name": "stderr",
     "output_type": "stream",
     "text": [
      "\r",
      "Generating responses:  23%|██▎       | 277/1229 [16:21<40:40,  2.56s/it]"
     ]
    },
    {
     "name": "stdout",
     "output_type": "stream",
     "text": [
      "REAL MADRID, BARCELONA\n"
     ]
    },
    {
     "name": "stderr",
     "output_type": "stream",
     "text": [
      "\r",
      "Generating responses:  23%|██▎       | 278/1229 [16:23<38:29,  2.43s/it]"
     ]
    },
    {
     "name": "stdout",
     "output_type": "stream",
     "text": [
      "Real Madrid, Barcelona\n"
     ]
    },
    {
     "name": "stderr",
     "output_type": "stream",
     "text": [
      "\r",
      "Generating responses:  23%|██▎       | 279/1229 [16:24<34:22,  2.17s/it]"
     ]
    },
    {
     "name": "stdout",
     "output_type": "stream",
     "text": [
      "no_orgs\n"
     ]
    },
    {
     "name": "stderr",
     "output_type": "stream",
     "text": [
      "\r",
      "Generating responses:  23%|██▎       | 280/1229 [16:26<32:10,  2.03s/it]"
     ]
    },
    {
     "name": "stdout",
     "output_type": "stream",
     "text": [
      "Real Madrid, Barcelona\n"
     ]
    },
    {
     "name": "stderr",
     "output_type": "stream",
     "text": [
      "\r",
      "Generating responses:  23%|██▎       | 281/1229 [16:28<31:44,  2.01s/it]"
     ]
    },
    {
     "name": "stdout",
     "output_type": "stream",
     "text": [
      "Real Madrid, Real Madrid\n"
     ]
    },
    {
     "name": "stderr",
     "output_type": "stream",
     "text": [
      "\r",
      "Generating responses:  23%|██▎       | 282/1229 [16:30<32:24,  2.05s/it]"
     ]
    },
    {
     "name": "stdout",
     "output_type": "stream",
     "text": [
      "no_orgs\n"
     ]
    },
    {
     "name": "stderr",
     "output_type": "stream",
     "text": [
      "\r",
      "Generating responses:  23%|██▎       | 283/1229 [16:32<33:09,  2.10s/it]"
     ]
    },
    {
     "name": "stdout",
     "output_type": "stream",
     "text": [
      "Real Madrid, Barcelona\n"
     ]
    },
    {
     "name": "stderr",
     "output_type": "stream",
     "text": [
      "\r",
      "Generating responses:  23%|██▎       | 284/1229 [16:34<30:34,  1.94s/it]"
     ]
    },
    {
     "name": "stdout",
     "output_type": "stream",
     "text": [
      "no_orgs\n"
     ]
    },
    {
     "name": "stderr",
     "output_type": "stream",
     "text": [
      "\r",
      "Generating responses:  23%|██▎       | 285/1229 [16:35<27:29,  1.75s/it]"
     ]
    },
    {
     "name": "stdout",
     "output_type": "stream",
     "text": [
      "no_orgs\n"
     ]
    },
    {
     "name": "stderr",
     "output_type": "stream",
     "text": [
      "\r",
      "Generating responses:  23%|██▎       | 286/1229 [16:37<29:17,  1.86s/it]"
     ]
    },
    {
     "name": "stdout",
     "output_type": "stream",
     "text": [
      "no_orgs\n"
     ]
    },
    {
     "name": "stderr",
     "output_type": "stream",
     "text": [
      "\r",
      "Generating responses:  23%|██▎       | 287/1229 [16:39<29:20,  1.87s/it]"
     ]
    },
    {
     "name": "stdout",
     "output_type": "stream",
     "text": [
      "no_orgs\n"
     ]
    },
    {
     "name": "stderr",
     "output_type": "stream",
     "text": [
      "\r",
      "Generating responses:  23%|██▎       | 288/1229 [16:42<35:12,  2.25s/it]"
     ]
    },
    {
     "name": "stdout",
     "output_type": "stream",
     "text": [
      "Barcelona\n"
     ]
    },
    {
     "name": "stderr",
     "output_type": "stream",
     "text": [
      "\r",
      "Generating responses:  24%|██▎       | 289/1229 [16:44<34:48,  2.22s/it]"
     ]
    },
    {
     "name": "stdout",
     "output_type": "stream",
     "text": [
      "Real Madrid, Barcelona\n"
     ]
    },
    {
     "name": "stderr",
     "output_type": "stream",
     "text": [
      "\r",
      "Generating responses:  24%|██▎       | 290/1229 [16:46<32:28,  2.07s/it]"
     ]
    },
    {
     "name": "stdout",
     "output_type": "stream",
     "text": [
      "Real Madrid, Barcelona, El Mundo\n"
     ]
    },
    {
     "name": "stderr",
     "output_type": "stream",
     "text": [
      "\r",
      "Generating responses:  24%|██▎       | 291/1229 [16:48<32:40,  2.09s/it]"
     ]
    },
    {
     "name": "stdout",
     "output_type": "stream",
     "text": [
      "Error generating response for prompt at index 291: That model is currently overloaded with other requests. You can retry your request, or contact us through our help center at help.openai.com if the error persists. (Please include the request ID fac34caf54f34ce568b6cb34fd550dac in your message.)\n",
      "Query: I need you to show me organisations in the provided sentence. Do not show me any other entity types.\n",
      "    ###\n",
      "    Desired response format: ###\n",
      "    org1, org2, org3\n",
      "    ###\n",
      "    Desired response if no organisations found: ###\n",
      "    no_orgs\n",
      "    ###\n",
      "    For example, if I gave you: ###\n",
      "    \"James, living in Japan, missed his club 's last two games after FIFA slapped a worldwide ban on him for appearing to sign contracts for both Wednesday and Udinese while he was playing for Feyenoord .\",\n",
      "    you would only give me:\n",
      "    FIFA, Wednesday, Udinese, Feyenoord\n",
      "    ###\n",
      "    The provided sentence is: ###\n",
      "    Real Madrid 15 10 5 0 31 12 35\n",
      "    ###\n",
      "    \n",
      "Retrying in 5 seconds...\n",
      "no_orgs\n"
     ]
    },
    {
     "name": "stderr",
     "output_type": "stream",
     "text": [
      "\r",
      "Generating responses:  24%|██▍       | 292/1229 [17:25<3:15:14, 12.50s/it]"
     ]
    },
    {
     "name": "stdout",
     "output_type": "stream",
     "text": [
      "no_orgs\n"
     ]
    },
    {
     "name": "stderr",
     "output_type": "stream",
     "text": [
      "\r",
      "Generating responses:  24%|██▍       | 293/1229 [17:28<2:29:37,  9.59s/it]"
     ]
    },
    {
     "name": "stdout",
     "output_type": "stream",
     "text": [
      "Deportivo Coruna\n"
     ]
    },
    {
     "name": "stderr",
     "output_type": "stream",
     "text": [
      "\r",
      "Generating responses:  24%|██▍       | 294/1229 [17:30<1:53:50,  7.31s/it]"
     ]
    },
    {
     "name": "stdout",
     "output_type": "stream",
     "text": [
      "Real Betis\n"
     ]
    },
    {
     "name": "stderr",
     "output_type": "stream",
     "text": [
      "\r",
      "Generating responses:  24%|██▍       | 295/1229 [17:31<1:25:41,  5.50s/it]"
     ]
    },
    {
     "name": "stdout",
     "output_type": "stream",
     "text": [
      "Atletico Madrid\n"
     ]
    },
    {
     "name": "stderr",
     "output_type": "stream",
     "text": [
      "\r",
      "Generating responses:  24%|██▍       | 296/1229 [17:33<1:07:15,  4.33s/it]"
     ]
    },
    {
     "name": "stdout",
     "output_type": "stream",
     "text": [
      "Athletic Bilbao\n"
     ]
    },
    {
     "name": "stderr",
     "output_type": "stream",
     "text": [
      "\r",
      "Generating responses:  24%|██▍       | 297/1229 [17:35<55:39,  3.58s/it]  "
     ]
    },
    {
     "name": "stdout",
     "output_type": "stream",
     "text": [
      "Real Sociedad\n"
     ]
    },
    {
     "name": "stderr",
     "output_type": "stream",
     "text": [
      "\r",
      "Generating responses:  24%|██▍       | 298/1229 [17:36<47:25,  3.06s/it]"
     ]
    },
    {
     "name": "stdout",
     "output_type": "stream",
     "text": [
      "no_orgs\n"
     ]
    },
    {
     "name": "stderr",
     "output_type": "stream",
     "text": [
      "\r",
      "Generating responses:  24%|██▍       | 299/1229 [17:38<39:31,  2.55s/it]"
     ]
    },
    {
     "name": "stdout",
     "output_type": "stream",
     "text": [
      "Racing Santander\n"
     ]
    },
    {
     "name": "stderr",
     "output_type": "stream",
     "text": [
      "\r",
      "Generating responses:  24%|██▍       | 300/1229 [17:40<36:47,  2.38s/it]"
     ]
    },
    {
     "name": "stdout",
     "output_type": "stream",
     "text": [
      "Rayo Vallecano\n"
     ]
    },
    {
     "name": "stderr",
     "output_type": "stream",
     "text": [
      "\r",
      "Generating responses:  24%|██▍       | 301/1229 [17:42<36:36,  2.37s/it]"
     ]
    },
    {
     "name": "stdout",
     "output_type": "stream",
     "text": [
      "no_orgs\n"
     ]
    },
    {
     "name": "stderr",
     "output_type": "stream",
     "text": [
      "\r",
      "Generating responses:  25%|██▍       | 302/1229 [17:44<35:45,  2.31s/it]"
     ]
    },
    {
     "name": "stdout",
     "output_type": "stream",
     "text": [
      "Celta Vigo\n"
     ]
    },
    {
     "name": "stderr",
     "output_type": "stream",
     "text": [
      "\r",
      "Generating responses:  25%|██▍       | 303/1229 [17:47<37:12,  2.41s/it]"
     ]
    },
    {
     "name": "stdout",
     "output_type": "stream",
     "text": [
      "no_orgs\n"
     ]
    },
    {
     "name": "stderr",
     "output_type": "stream",
     "text": [
      "\r",
      "Generating responses:  25%|██▍       | 304/1229 [17:49<35:31,  2.30s/it]"
     ]
    },
    {
     "name": "stdout",
     "output_type": "stream",
     "text": [
      "Espanyol\n"
     ]
    },
    {
     "name": "stderr",
     "output_type": "stream",
     "text": [
      "\r",
      "Generating responses:  25%|██▍       | 305/1229 [17:52<37:53,  2.46s/it]"
     ]
    },
    {
     "name": "stdout",
     "output_type": "stream",
     "text": [
      "no_orgs\n"
     ]
    },
    {
     "name": "stderr",
     "output_type": "stream",
     "text": [
      "\r",
      "Generating responses:  25%|██▍       | 306/1229 [17:54<34:29,  2.24s/it]"
     ]
    },
    {
     "name": "stdout",
     "output_type": "stream",
     "text": [
      "Sporting Gijon\n"
     ]
    },
    {
     "name": "stderr",
     "output_type": "stream",
     "text": [
      "\r",
      "Generating responses:  25%|██▍       | 307/1229 [17:56<33:28,  2.18s/it]"
     ]
    },
    {
     "name": "stdout",
     "output_type": "stream",
     "text": [
      "no_orgs\n"
     ]
    },
    {
     "name": "stderr",
     "output_type": "stream",
     "text": [
      "\r",
      "Generating responses:  25%|██▌       | 308/1229 [17:58<32:20,  2.11s/it]"
     ]
    },
    {
     "name": "stdout",
     "output_type": "stream",
     "text": [
      "no_orgs\n"
     ]
    },
    {
     "name": "stderr",
     "output_type": "stream",
     "text": [
      "\r",
      "Generating responses:  25%|██▌       | 309/1229 [18:00<33:00,  2.15s/it]"
     ]
    },
    {
     "name": "stdout",
     "output_type": "stream",
     "text": [
      "no_orgs\n"
     ]
    },
    {
     "name": "stderr",
     "output_type": "stream",
     "text": [
      "\r",
      "Generating responses:  25%|██▌       | 310/1229 [18:02<32:50,  2.14s/it]"
     ]
    },
    {
     "name": "stdout",
     "output_type": "stream",
     "text": [
      "no_orgs\n"
     ]
    },
    {
     "name": "stderr",
     "output_type": "stream",
     "text": [
      "\r",
      "Generating responses:  25%|██▌       | 311/1229 [18:04<31:14,  2.04s/it]"
     ]
    },
    {
     "name": "stdout",
     "output_type": "stream",
     "text": [
      "no_orgs\n"
     ]
    },
    {
     "name": "stderr",
     "output_type": "stream",
     "text": [
      "\r",
      "Generating responses:  25%|██▌       | 312/1229 [18:05<29:08,  1.91s/it]"
     ]
    },
    {
     "name": "stdout",
     "output_type": "stream",
     "text": [
      "no_orgs\n"
     ]
    },
    {
     "name": "stderr",
     "output_type": "stream",
     "text": [
      "\r",
      "Generating responses:  25%|██▌       | 313/1229 [18:07<29:10,  1.91s/it]"
     ]
    },
    {
     "name": "stdout",
     "output_type": "stream",
     "text": [
      "Deportivo Coruna\n"
     ]
    },
    {
     "name": "stderr",
     "output_type": "stream",
     "text": [
      "\r",
      "Generating responses:  26%|██▌       | 314/1229 [18:09<28:58,  1.90s/it]"
     ]
    },
    {
     "name": "stdout",
     "output_type": "stream",
     "text": [
      "Atletico Madrid\n"
     ]
    },
    {
     "name": "stderr",
     "output_type": "stream",
     "text": [
      "\r",
      "Generating responses:  26%|██▌       | 315/1229 [18:11<29:42,  1.95s/it]"
     ]
    },
    {
     "name": "stdout",
     "output_type": "stream",
     "text": [
      "FIFA\n"
     ]
    },
    {
     "name": "stderr",
     "output_type": "stream",
     "text": [
      "\r",
      "Generating responses:  26%|██▌       | 316/1229 [18:13<29:39,  1.95s/it]"
     ]
    },
    {
     "name": "stdout",
     "output_type": "stream",
     "text": [
      "FIFA, AC Milan, Porto\n"
     ]
    },
    {
     "name": "stderr",
     "output_type": "stream",
     "text": [
      "\r",
      "Generating responses:  26%|██▌       | 317/1229 [18:16<31:49,  2.09s/it]"
     ]
    },
    {
     "name": "stdout",
     "output_type": "stream",
     "text": [
      "Gazzetta dello Sport\n"
     ]
    },
    {
     "name": "stderr",
     "output_type": "stream",
     "text": [
      "\r",
      "Generating responses:  26%|██▌       | 318/1229 [18:18<33:38,  2.22s/it]"
     ]
    },
    {
     "name": "stdout",
     "output_type": "stream",
     "text": [
      "FIFA\n"
     ]
    },
    {
     "name": "stderr",
     "output_type": "stream",
     "text": [
      "\r",
      "Generating responses:  26%|██▌       | 319/1229 [18:20<33:12,  2.19s/it]"
     ]
    },
    {
     "name": "stdout",
     "output_type": "stream",
     "text": [
      "Error generating response for prompt at index 319: That model is currently overloaded with other requests. You can retry your request, or contact us through our help center at help.openai.com if the error persists. (Please include the request ID 2150e3c0a3d470d762d82f5866b2487e in your message.)\n",
      "Query: I need you to show me organisations in the provided sentence. Do not show me any other entity types.\n",
      "    ###\n",
      "    Desired response format: ###\n",
      "    org1, org2, org3\n",
      "    ###\n",
      "    Desired response if no organisations found: ###\n",
      "    no_orgs\n",
      "    ###\n",
      "    For example, if I gave you: ###\n",
      "    \"James, living in Japan, missed his club 's last two games after FIFA slapped a worldwide ban on him for appearing to sign contracts for both Wednesday and Udinese while he was playing for Feyenoord .\",\n",
      "    you would only give me:\n",
      "    FIFA, Wednesday, Udinese, Feyenoord\n",
      "    ###\n",
      "    The provided sentence is: ###\n",
      "    Weah was suspended for one match by UEFA , European soccer 's governing body , pending a fuller investigation .\n",
      "    ###\n",
      "    \n",
      "Retrying in 5 seconds...\n",
      "UEFA\n"
     ]
    },
    {
     "name": "stderr",
     "output_type": "stream",
     "text": [
      "\r",
      "Generating responses:  26%|██▌       | 320/1229 [18:58<3:13:20, 12.76s/it]"
     ]
    },
    {
     "name": "stdout",
     "output_type": "stream",
     "text": [
      "Milan, Rosenborg\n"
     ]
    },
    {
     "name": "stderr",
     "output_type": "stream",
     "text": [
      "\r",
      "Generating responses:  26%|██▌       | 321/1229 [18:59<2:22:03,  9.39s/it]"
     ]
    },
    {
     "name": "stdout",
     "output_type": "stream",
     "text": [
      "MANCHESTER UNITED\n"
     ]
    },
    {
     "name": "stderr",
     "output_type": "stream",
     "text": [
      "\r",
      "Generating responses:  26%|██▌       | 322/1229 [19:01<1:48:16,  7.16s/it]"
     ]
    },
    {
     "name": "stdout",
     "output_type": "stream",
     "text": [
      "Manchester United\n"
     ]
    },
    {
     "name": "stderr",
     "output_type": "stream",
     "text": [
      "\r",
      "Generating responses:  26%|██▋       | 323/1229 [19:03<1:26:36,  5.74s/it]"
     ]
    },
    {
     "name": "stdout",
     "output_type": "stream",
     "text": [
      "no_orgs\n"
     ]
    },
    {
     "name": "stderr",
     "output_type": "stream",
     "text": [
      "\r",
      "Generating responses:  26%|██▋       | 324/1229 [19:05<1:09:12,  4.59s/it]"
     ]
    },
    {
     "name": "stdout",
     "output_type": "stream",
     "text": [
      "Rapid Vienna\n"
     ]
    },
    {
     "name": "stderr",
     "output_type": "stream",
     "text": [
      "\r",
      "Generating responses:  26%|██▋       | 325/1229 [19:07<56:29,  3.75s/it]  "
     ]
    },
    {
     "name": "stdout",
     "output_type": "stream",
     "text": [
      "Manchester United\n"
     ]
    },
    {
     "name": "stderr",
     "output_type": "stream",
     "text": [
      "\r",
      "Generating responses:  27%|██▋       | 326/1229 [19:08<45:25,  3.02s/it]"
     ]
    },
    {
     "name": "stdout",
     "output_type": "stream",
     "text": [
      "Bologna, Piacenza\n"
     ]
    },
    {
     "name": "stderr",
     "output_type": "stream",
     "text": [
      "\r",
      "Generating responses:  27%|██▋       | 327/1229 [19:10<39:36,  2.63s/it]"
     ]
    },
    {
     "name": "stdout",
     "output_type": "stream",
     "text": [
      "Vicenza, Bologna\n"
     ]
    },
    {
     "name": "stderr",
     "output_type": "stream",
     "text": [
      "\r",
      "Generating responses:  27%|██▋       | 328/1229 [19:12<36:36,  2.44s/it]"
     ]
    },
    {
     "name": "stdout",
     "output_type": "stream",
     "text": [
      "Bologna, Piacenza, AC Milan\n"
     ]
    },
    {
     "name": "stderr",
     "output_type": "stream",
     "text": [
      "\r",
      "Generating responses:  27%|██▋       | 329/1229 [19:14<35:31,  2.37s/it]"
     ]
    },
    {
     "name": "stdout",
     "output_type": "stream",
     "text": [
      "Cagliari, Reggiana\n"
     ]
    },
    {
     "name": "stderr",
     "output_type": "stream",
     "text": [
      "\r",
      "Generating responses:  27%|██▋       | 330/1229 [19:16<32:34,  2.17s/it]"
     ]
    },
    {
     "name": "stdout",
     "output_type": "stream",
     "text": [
      "Cagliari, Napoli, Inter\n"
     ]
    },
    {
     "name": "stderr",
     "output_type": "stream",
     "text": [
      "\r",
      "Generating responses:  27%|██▋       | 331/1229 [19:18<32:05,  2.14s/it]"
     ]
    },
    {
     "name": "stdout",
     "output_type": "stream",
     "text": [
      "Reggiana\n"
     ]
    },
    {
     "name": "stderr",
     "output_type": "stream",
     "text": [
      "\r",
      "Generating responses:  27%|██▋       | 332/1229 [19:20<29:37,  1.98s/it]"
     ]
    },
    {
     "name": "stdout",
     "output_type": "stream",
     "text": [
      "Fiorentina, Perugia\n"
     ]
    },
    {
     "name": "stderr",
     "output_type": "stream",
     "text": [
      "\r",
      "Generating responses:  27%|██▋       | 333/1229 [19:21<27:59,  1.87s/it]"
     ]
    },
    {
     "name": "stdout",
     "output_type": "stream",
     "text": [
      "Fiorentina, Perugia\n"
     ]
    },
    {
     "name": "stderr",
     "output_type": "stream",
     "text": [
      "\r",
      "Generating responses:  27%|██▋       | 334/1229 [19:24<29:34,  1.98s/it]"
     ]
    },
    {
     "name": "stdout",
     "output_type": "stream",
     "text": [
      "Lazio, AS Roma\n"
     ]
    },
    {
     "name": "stderr",
     "output_type": "stream",
     "text": [
      "\r",
      "Generating responses:  27%|██▋       | 335/1229 [19:25<27:17,  1.83s/it]"
     ]
    },
    {
     "name": "stdout",
     "output_type": "stream",
     "text": [
      "Lazio, Roma\n"
     ]
    },
    {
     "name": "stderr",
     "output_type": "stream",
     "text": [
      "\r",
      "Generating responses:  27%|██▋       | 336/1229 [19:27<28:56,  1.94s/it]"
     ]
    },
    {
     "name": "stdout",
     "output_type": "stream",
     "text": [
      "AC Milan, Udinese\n"
     ]
    },
    {
     "name": "stderr",
     "output_type": "stream",
     "text": [
      "\r",
      "Generating responses:  27%|██▋       | 337/1229 [19:29<28:04,  1.89s/it]"
     ]
    },
    {
     "name": "stdout",
     "output_type": "stream",
     "text": [
      "no_orgs\n"
     ]
    },
    {
     "name": "stderr",
     "output_type": "stream",
     "text": [
      "\r",
      "Generating responses:  28%|██▊       | 338/1229 [19:31<29:25,  1.98s/it]"
     ]
    },
    {
     "name": "stdout",
     "output_type": "stream",
     "text": [
      "Rosenborg, Champions' League\n"
     ]
    },
    {
     "name": "stderr",
     "output_type": "stream",
     "text": [
      "\r",
      "Generating responses:  28%|██▊       | 339/1229 [19:34<31:57,  2.15s/it]"
     ]
    },
    {
     "name": "stdout",
     "output_type": "stream",
     "text": [
      "Milan\n"
     ]
    },
    {
     "name": "stderr",
     "output_type": "stream",
     "text": [
      "\r",
      "Generating responses:  28%|██▊       | 340/1229 [19:36<32:12,  2.17s/it]"
     ]
    },
    {
     "name": "stdout",
     "output_type": "stream",
     "text": [
      "Milan, Udinese\n"
     ]
    },
    {
     "name": "stderr",
     "output_type": "stream",
     "text": [
      "\r",
      "Generating responses:  28%|██▊       | 341/1229 [19:38<33:02,  2.23s/it]"
     ]
    },
    {
     "name": "stdout",
     "output_type": "stream",
     "text": [
      "Napoli, Verona\n"
     ]
    },
    {
     "name": "stderr",
     "output_type": "stream",
     "text": [
      "\r",
      "Generating responses:  28%|██▊       | 342/1229 [19:41<33:40,  2.28s/it]"
     ]
    },
    {
     "name": "stdout",
     "output_type": "stream",
     "text": [
      "Napoli, Verona\n"
     ]
    },
    {
     "name": "stderr",
     "output_type": "stream",
     "text": [
      "\r",
      "Generating responses:  28%|██▊       | 343/1229 [19:43<33:28,  2.27s/it]"
     ]
    },
    {
     "name": "stdout",
     "output_type": "stream",
     "text": [
      "Verona\n"
     ]
    },
    {
     "name": "stderr",
     "output_type": "stream",
     "text": [
      "\r",
      "Generating responses:  28%|██▊       | 344/1229 [19:45<32:21,  2.19s/it]"
     ]
    },
    {
     "name": "stdout",
     "output_type": "stream",
     "text": [
      "Parma, Atlalanta\n"
     ]
    },
    {
     "name": "stderr",
     "output_type": "stream",
     "text": [
      "\r",
      "Generating responses:  28%|██▊       | 345/1229 [19:48<35:03,  2.38s/it]"
     ]
    },
    {
     "name": "stdout",
     "output_type": "stream",
     "text": [
      "Parma\n"
     ]
    },
    {
     "name": "stderr",
     "output_type": "stream",
     "text": [
      "\r",
      "Generating responses:  28%|██▊       | 346/1229 [19:49<31:12,  2.12s/it]"
     ]
    },
    {
     "name": "stdout",
     "output_type": "stream",
     "text": [
      "Parma\n"
     ]
    },
    {
     "name": "stderr",
     "output_type": "stream",
     "text": [
      "\r",
      "Generating responses:  28%|██▊       | 347/1229 [19:51<30:13,  2.06s/it]"
     ]
    },
    {
     "name": "stdout",
     "output_type": "stream",
     "text": [
      "Atalanta\n"
     ]
    },
    {
     "name": "stderr",
     "output_type": "stream",
     "text": [
      "\r",
      "Generating responses:  28%|██▊       | 348/1229 [19:54<30:45,  2.09s/it]"
     ]
    },
    {
     "name": "stdout",
     "output_type": "stream",
     "text": [
      "Sampdoria, Juventus\n"
     ]
    },
    {
     "name": "stderr",
     "output_type": "stream",
     "text": [
      "\r",
      "Generating responses:  28%|██▊       | 349/1229 [19:56<31:54,  2.18s/it]"
     ]
    },
    {
     "name": "stdout",
     "output_type": "stream",
     "text": [
      "Juventus\n"
     ]
    },
    {
     "name": "stderr",
     "output_type": "stream",
     "text": [
      "\r",
      "Generating responses:  28%|██▊       | 350/1229 [19:58<29:45,  2.03s/it]"
     ]
    },
    {
     "name": "stdout",
     "output_type": "stream",
     "text": [
      "Sampdoria\n"
     ]
    },
    {
     "name": "stderr",
     "output_type": "stream",
     "text": [
      "\r",
      "Generating responses:  29%|██▊       | 351/1229 [20:00<30:34,  2.09s/it]"
     ]
    },
    {
     "name": "stdout",
     "output_type": "stream",
     "text": [
      "Vicenza, Internazionale\n"
     ]
    },
    {
     "name": "stderr",
     "output_type": "stream",
     "text": [
      "\r",
      "Generating responses:  29%|██▊       | 352/1229 [20:02<32:07,  2.20s/it]"
     ]
    },
    {
     "name": "stdout",
     "output_type": "stream",
     "text": [
      "Vicenza, Inter\n"
     ]
    },
    {
     "name": "stderr",
     "output_type": "stream",
     "text": [
      "\r",
      "Generating responses:  29%|██▊       | 353/1229 [20:05<33:56,  2.32s/it]"
     ]
    },
    {
     "name": "stdout",
     "output_type": "stream",
     "text": [
      "Inter\n"
     ]
    },
    {
     "name": "stderr",
     "output_type": "stream",
     "text": [
      "\r",
      "Generating responses:  29%|██▉       | 354/1229 [20:06<29:07,  2.00s/it]"
     ]
    },
    {
     "name": "stdout",
     "output_type": "stream",
     "text": [
      "Charleroi, Estudiantes Madrid\n"
     ]
    },
    {
     "name": "stderr",
     "output_type": "stream",
     "text": [
      "\r",
      "Generating responses:  29%|██▉       | 355/1229 [20:09<31:55,  2.19s/it]"
     ]
    },
    {
     "name": "stdout",
     "output_type": "stream",
     "text": [
      "Charleroi\n"
     ]
    },
    {
     "name": "stderr",
     "output_type": "stream",
     "text": [
      "\r",
      "Generating responses:  29%|██▉       | 356/1229 [20:11<33:15,  2.29s/it]"
     ]
    },
    {
     "name": "stdout",
     "output_type": "stream",
     "text": [
      "Estudiantes\n"
     ]
    },
    {
     "name": "stderr",
     "output_type": "stream",
     "text": [
      "\r",
      "Generating responses:  29%|██▉       | 357/1229 [20:12<28:31,  1.96s/it]"
     ]
    },
    {
     "name": "stdout",
     "output_type": "stream",
     "text": [
      "Partizan Belgrade, Kinder Bologna\n"
     ]
    },
    {
     "name": "stderr",
     "output_type": "stream",
     "text": [
      "\r",
      "Generating responses:  29%|██▉       | 358/1229 [20:15<29:51,  2.06s/it]"
     ]
    },
    {
     "name": "stdout",
     "output_type": "stream",
     "text": [
      "Partizan\n"
     ]
    },
    {
     "name": "stderr",
     "output_type": "stream",
     "text": [
      "\r",
      "Generating responses:  29%|██▉       | 359/1229 [20:17<30:42,  2.12s/it]"
     ]
    },
    {
     "name": "stdout",
     "output_type": "stream",
     "text": [
      "ANC\n"
     ]
    },
    {
     "name": "stderr",
     "output_type": "stream",
     "text": [
      "\r",
      "Generating responses:  29%|██▉       | 360/1229 [20:19<30:33,  2.11s/it]"
     ]
    },
    {
     "name": "stdout",
     "output_type": "stream",
     "text": [
      "Reuters\n"
     ]
    },
    {
     "name": "stderr",
     "output_type": "stream",
     "text": [
      "\r",
      "Generating responses:  29%|██▉       | 361/1229 [20:21<30:16,  2.09s/it]"
     ]
    },
    {
     "name": "stdout",
     "output_type": "stream",
     "text": [
      "ANC, Inkatha Freedom Party\n"
     ]
    },
    {
     "name": "stderr",
     "output_type": "stream",
     "text": [
      "\r",
      "Generating responses:  29%|██▉       | 362/1229 [20:23<30:22,  2.10s/it]"
     ]
    },
    {
     "name": "stdout",
     "output_type": "stream",
     "text": [
      "Havel, Reuters\n"
     ]
    },
    {
     "name": "stderr",
     "output_type": "stream",
     "text": [
      "\r",
      "Generating responses:  30%|██▉       | 363/1229 [20:25<28:51,  2.00s/it]"
     ]
    },
    {
     "name": "stdout",
     "output_type": "stream",
     "text": [
      "Albright, U.S. ambassador, United Nations\n"
     ]
    },
    {
     "name": "stderr",
     "output_type": "stream",
     "text": [
      "\r",
      "Generating responses:  30%|██▉       | 364/1229 [20:27<29:58,  2.08s/it]"
     ]
    },
    {
     "name": "stdout",
     "output_type": "stream",
     "text": [
      "Czech diplomats, NATO, Albright, Soveit-bloc countries.\n"
     ]
    },
    {
     "name": "stderr",
     "output_type": "stream",
     "text": [
      "\r",
      "Generating responses:  30%|██▉       | 365/1229 [20:29<30:26,  2.11s/it]"
     ]
    },
    {
     "name": "stdout",
     "output_type": "stream",
     "text": [
      "Europe, US, Reuters\n"
     ]
    },
    {
     "name": "stderr",
     "output_type": "stream",
     "text": [
      "\r",
      "Generating responses:  30%|██▉       | 366/1229 [20:31<28:56,  2.01s/it]"
     ]
    },
    {
     "name": "stdout",
     "output_type": "stream",
     "text": [
      "NATO\n"
     ]
    },
    {
     "name": "stderr",
     "output_type": "stream",
     "text": [
      "\r",
      "Generating responses:  30%|██▉       | 367/1229 [20:33<25:53,  1.80s/it]"
     ]
    },
    {
     "name": "stdout",
     "output_type": "stream",
     "text": [
      "Czech ambassador, United Nations, Mlada Fronta Dnes\n"
     ]
    },
    {
     "name": "stderr",
     "output_type": "stream",
     "text": [
      "\r",
      "Generating responses:  30%|██▉       | 368/1229 [20:35<27:05,  1.89s/it]"
     ]
    },
    {
     "name": "stdout",
     "output_type": "stream",
     "text": [
      "RADIO ROMANIA\n"
     ]
    },
    {
     "name": "stderr",
     "output_type": "stream",
     "text": [
      "\r",
      "Generating responses:  30%|███       | 369/1229 [20:37<28:07,  1.96s/it]"
     ]
    },
    {
     "name": "stdout",
     "output_type": "stream",
     "text": [
      "no_orgs\n"
     ]
    },
    {
     "name": "stderr",
     "output_type": "stream",
     "text": [
      "\r",
      "Generating responses:  30%|███       | 370/1229 [20:38<26:12,  1.83s/it]"
     ]
    },
    {
     "name": "stdout",
     "output_type": "stream",
     "text": [
      "The Democratic Convention, Social Democratic Union, Hungarian Democratic Union, UDMR\n"
     ]
    },
    {
     "name": "stderr",
     "output_type": "stream",
     "text": [
      "\r",
      "Generating responses:  30%|███       | 371/1229 [20:41<31:51,  2.23s/it]"
     ]
    },
    {
     "name": "stdout",
     "output_type": "stream",
     "text": [
      "UDMR\n"
     ]
    },
    {
     "name": "stderr",
     "output_type": "stream",
     "text": [
      "\r",
      "Generating responses:  30%|███       | 372/1229 [20:43<27:34,  1.93s/it]"
     ]
    },
    {
     "name": "stdout",
     "output_type": "stream",
     "text": [
      "no_orgs\n"
     ]
    },
    {
     "name": "stderr",
     "output_type": "stream",
     "text": [
      "\r",
      "Generating responses:  30%|███       | 373/1229 [20:45<28:28,  2.00s/it]"
     ]
    },
    {
     "name": "stdout",
     "output_type": "stream",
     "text": [
      "ODS\n"
     ]
    },
    {
     "name": "stderr",
     "output_type": "stream",
     "text": [
      "\r",
      "Generating responses:  30%|███       | 374/1229 [20:47<27:21,  1.92s/it]"
     ]
    },
    {
     "name": "stdout",
     "output_type": "stream",
     "text": [
      "Zieleniec, Reuters.\n"
     ]
    },
    {
     "name": "stderr",
     "output_type": "stream",
     "text": [
      "\r",
      "Generating responses:  31%|███       | 375/1229 [20:48<25:47,  1.81s/it]"
     ]
    },
    {
     "name": "stdout",
     "output_type": "stream",
     "text": [
      "Error generating response for prompt at index 375: That model is currently overloaded with other requests. You can retry your request, or contact us through our help center at help.openai.com if the error persists. (Please include the request ID 63bb5150304cea062ffaf5c2d5a9d066 in your message.)\n",
      "Query: I need you to show me organisations in the provided sentence. Do not show me any other entity types.\n",
      "    ###\n",
      "    Desired response format: ###\n",
      "    org1, org2, org3\n",
      "    ###\n",
      "    Desired response if no organisations found: ###\n",
      "    no_orgs\n",
      "    ###\n",
      "    For example, if I gave you: ###\n",
      "    \"James, living in Japan, missed his club 's last two games after FIFA slapped a worldwide ban on him for appearing to sign contracts for both Wednesday and Udinese while he was playing for Feyenoord .\",\n",
      "    you would only give me:\n",
      "    FIFA, Wednesday, Udinese, Feyenoord\n",
      "    ###\n",
      "    The provided sentence is: ###\n",
      "    He said after June general elections in which the ruling three-party coalition lost its parliamentary majority , the ODS executive , led by Prime Minister Vaclav Klaus , had developed proposals on these subjects to present at the congress on Saturday in the Czech second city Brno .\n",
      "    ###\n",
      "    \n",
      "Retrying in 5 seconds...\n",
      "ODS\n"
     ]
    },
    {
     "name": "stderr",
     "output_type": "stream",
     "text": [
      "\r",
      "Generating responses:  31%|███       | 376/1229 [21:25<2:54:25, 12.27s/it]"
     ]
    },
    {
     "name": "stdout",
     "output_type": "stream",
     "text": [
      "ODS\n"
     ]
    },
    {
     "name": "stderr",
     "output_type": "stream",
     "text": [
      "\r",
      "Generating responses:  31%|███       | 377/1229 [21:27<2:10:29,  9.19s/it]"
     ]
    },
    {
     "name": "stdout",
     "output_type": "stream",
     "text": [
      "ODS\n"
     ]
    },
    {
     "name": "stderr",
     "output_type": "stream",
     "text": [
      "\r",
      "Generating responses:  31%|███       | 378/1229 [21:29<1:39:54,  7.04s/it]"
     ]
    },
    {
     "name": "stdout",
     "output_type": "stream",
     "text": [
      "Prague Newsroom\n"
     ]
    },
    {
     "name": "stderr",
     "output_type": "stream",
     "text": [
      "\r",
      "Generating responses:  31%|███       | 379/1229 [21:31<1:17:24,  5.46s/it]"
     ]
    },
    {
     "name": "stdout",
     "output_type": "stream",
     "text": [
      "Switzerland, U.S. Senate Banking Committee, Poland\n"
     ]
    },
    {
     "name": "stderr",
     "output_type": "stream",
     "text": [
      "\r",
      "Generating responses:  31%|███       | 380/1229 [21:33<1:04:11,  4.54s/it]"
     ]
    },
    {
     "name": "stdout",
     "output_type": "stream",
     "text": [
      "The conservative Radical Democrats, FDP, Swiss banks, Jewish groups, charitable organisations.\n"
     ]
    },
    {
     "name": "stderr",
     "output_type": "stream",
     "text": [
      "\r",
      "Generating responses:  31%|███       | 381/1229 [21:37<1:00:39,  4.29s/it]"
     ]
    },
    {
     "name": "stdout",
     "output_type": "stream",
     "text": [
      "Zywiec\n"
     ]
    },
    {
     "name": "stderr",
     "output_type": "stream",
     "text": [
      "\r",
      "Generating responses:  31%|███       | 382/1229 [21:39<51:04,  3.62s/it]  "
     ]
    },
    {
     "name": "stdout",
     "output_type": "stream",
     "text": [
      "Reuters\n"
     ]
    },
    {
     "name": "stderr",
     "output_type": "stream",
     "text": [
      "\r",
      "Generating responses:  31%|███       | 383/1229 [21:41<43:18,  3.07s/it]"
     ]
    },
    {
     "name": "stdout",
     "output_type": "stream",
     "text": [
      "Zywiec, Zaklady Piwowarskie w Zywcu SA\n"
     ]
    },
    {
     "name": "stderr",
     "output_type": "stream",
     "text": [
      "\r",
      "Generating responses:  31%|███       | 384/1229 [21:44<44:00,  3.12s/it]"
     ]
    },
    {
     "name": "stdout",
     "output_type": "stream",
     "text": [
      "Heineken, Carlsberg, Okocim\n"
     ]
    },
    {
     "name": "stderr",
     "output_type": "stream",
     "text": [
      "\r",
      "Generating responses:  31%|███▏      | 385/1229 [21:46<41:24,  2.94s/it]"
     ]
    },
    {
     "name": "stdout",
     "output_type": "stream",
     "text": [
      "SAB, Lech, Tychy, Brewpole BV, Elbrewery Company Ltd, EB\n"
     ]
    },
    {
     "name": "stderr",
     "output_type": "stream",
     "text": [
      "\r",
      "Generating responses:  31%|███▏      | 386/1229 [21:50<44:56,  3.20s/it]"
     ]
    },
    {
     "name": "stdout",
     "output_type": "stream",
     "text": [
      "Zywiec\n"
     ]
    },
    {
     "name": "stderr",
     "output_type": "stream",
     "text": [
      "\r",
      "Generating responses:  31%|███▏      | 387/1229 [21:52<37:42,  2.69s/it]"
     ]
    },
    {
     "name": "stdout",
     "output_type": "stream",
     "text": [
      "CEFTA, Czech\n"
     ]
    },
    {
     "name": "stderr",
     "output_type": "stream",
     "text": [
      "\r",
      "Generating responses:  32%|███▏      | 388/1229 [21:54<36:17,  2.59s/it]"
     ]
    },
    {
     "name": "stdout",
     "output_type": "stream",
     "text": [
      "Zywiec, Okocim, Carlsberg, Heineken\n"
     ]
    },
    {
     "name": "stderr",
     "output_type": "stream",
     "text": [
      "\r",
      "Generating responses:  32%|███▏      | 389/1229 [21:57<36:50,  2.63s/it]"
     ]
    },
    {
     "name": "stdout",
     "output_type": "stream",
     "text": [
      "Zywiec Full Light\n"
     ]
    },
    {
     "name": "stderr",
     "output_type": "stream",
     "text": [
      "\r",
      "Generating responses:  32%|███▏      | 390/1229 [21:58<32:23,  2.32s/it]"
     ]
    },
    {
     "name": "stdout",
     "output_type": "stream",
     "text": [
      "Heineken\n"
     ]
    },
    {
     "name": "stderr",
     "output_type": "stream",
     "text": [
      "\r",
      "Generating responses:  32%|███▏      | 391/1229 [22:00<30:42,  2.20s/it]"
     ]
    },
    {
     "name": "stdout",
     "output_type": "stream",
     "text": [
      "Zywiec\n"
     ]
    },
    {
     "name": "stderr",
     "output_type": "stream",
     "text": [
      "\r",
      "Generating responses:  32%|███▏      | 392/1229 [22:02<28:22,  2.03s/it]"
     ]
    },
    {
     "name": "stdout",
     "output_type": "stream",
     "text": [
      "Warsaw Newsroom\n"
     ]
    },
    {
     "name": "stderr",
     "output_type": "stream",
     "text": [
      "\r",
      "Generating responses:  32%|███▏      | 393/1229 [22:04<29:46,  2.14s/it]"
     ]
    },
    {
     "name": "stdout",
     "output_type": "stream",
     "text": [
      "UK Department of Transport\n"
     ]
    },
    {
     "name": "stderr",
     "output_type": "stream",
     "text": [
      "\r",
      "Generating responses:  32%|███▏      | 394/1229 [22:06<27:34,  1.98s/it]"
     ]
    },
    {
     "name": "stdout",
     "output_type": "stream",
     "text": [
      "DOT, Reuters\n"
     ]
    },
    {
     "name": "stderr",
     "output_type": "stream",
     "text": [
      "\r",
      "Generating responses:  32%|███▏      | 395/1229 [22:08<28:37,  2.06s/it]"
     ]
    },
    {
     "name": "stdout",
     "output_type": "stream",
     "text": [
      "Tambang Timah\n"
     ]
    },
    {
     "name": "stderr",
     "output_type": "stream",
     "text": [
      "\r",
      "Generating responses:  32%|███▏      | 396/1229 [22:10<26:02,  1.88s/it]"
     ]
    },
    {
     "name": "stdout",
     "output_type": "stream",
     "text": [
      "PT Tambang Timah\n"
     ]
    },
    {
     "name": "stderr",
     "output_type": "stream",
     "text": [
      "\r",
      "Generating responses:  32%|███▏      | 397/1229 [22:12<27:21,  1.97s/it]"
     ]
    },
    {
     "name": "stdout",
     "output_type": "stream",
     "text": [
      "Telkom\n"
     ]
    },
    {
     "name": "stderr",
     "output_type": "stream",
     "text": [
      "\r",
      "Generating responses:  32%|███▏      | 398/1229 [22:13<24:04,  1.74s/it]"
     ]
    },
    {
     "name": "stdout",
     "output_type": "stream",
     "text": [
      "PT Telekomunikasi Indonesia, Telkom\n"
     ]
    },
    {
     "name": "stderr",
     "output_type": "stream",
     "text": [
      "\r",
      "Generating responses:  32%|███▏      | 399/1229 [22:15<25:14,  1.82s/it]"
     ]
    },
    {
     "name": "stdout",
     "output_type": "stream",
     "text": [
      "Irish Republican Army, Belfast Police\n"
     ]
    },
    {
     "name": "stderr",
     "output_type": "stream",
     "text": [
      "\r",
      "Generating responses:  33%|███▎      | 400/1229 [22:17<26:34,  1.92s/it]"
     ]
    },
    {
     "name": "stdout",
     "output_type": "stream",
     "text": [
      "British Airways Plc, American Airlines, Monopolies and Mergers Commission\n"
     ]
    },
    {
     "name": "stderr",
     "output_type": "stream",
     "text": [
      "\r",
      "Generating responses:  33%|███▎      | 401/1229 [22:20<29:05,  2.11s/it]"
     ]
    },
    {
     "name": "stdout",
     "output_type": "stream",
     "text": [
      "Trade and Industry Secretary, British Airways, United Airlines, Britain, United States\n"
     ]
    },
    {
     "name": "stderr",
     "output_type": "stream",
     "text": [
      "\r",
      "Generating responses:  33%|███▎      | 402/1229 [22:22<30:20,  2.20s/it]"
     ]
    },
    {
     "name": "stdout",
     "output_type": "stream",
     "text": [
      "Office of Fair Trading, Britain\n"
     ]
    },
    {
     "name": "stderr",
     "output_type": "stream",
     "text": [
      "\r",
      "Generating responses:  33%|███▎      | 403/1229 [22:25<31:07,  2.26s/it]"
     ]
    },
    {
     "name": "stdout",
     "output_type": "stream",
     "text": [
      "BA, AA\n"
     ]
    },
    {
     "name": "stderr",
     "output_type": "stream",
     "text": [
      "\r",
      "Generating responses:  33%|███▎      | 404/1229 [22:27<30:28,  2.22s/it]"
     ]
    },
    {
     "name": "stdout",
     "output_type": "stream",
     "text": [
      "British Airways, American\n"
     ]
    },
    {
     "name": "stderr",
     "output_type": "stream",
     "text": [
      "\r",
      "Generating responses:  33%|███▎      | 405/1229 [22:28<28:46,  2.10s/it]"
     ]
    },
    {
     "name": "stdout",
     "output_type": "stream",
     "text": [
      "AMR Corp.\n"
     ]
    },
    {
     "name": "stderr",
     "output_type": "stream",
     "text": [
      "\r",
      "Generating responses:  33%|███▎      | 406/1229 [22:31<29:03,  2.12s/it]"
     ]
    },
    {
     "name": "stdout",
     "output_type": "stream",
     "text": [
      "British Airways\n"
     ]
    },
    {
     "name": "stderr",
     "output_type": "stream",
     "text": [
      "\r",
      "Generating responses:  33%|███▎      | 407/1229 [22:32<25:19,  1.85s/it]"
     ]
    },
    {
     "name": "stdout",
     "output_type": "stream",
     "text": [
      "Error generating response for prompt at index 407: That model is currently overloaded with other requests. You can retry your request, or contact us through our help center at help.openai.com if the error persists. (Please include the request ID e0b0ea55c14a2b0ae5f66034a61ed351 in your message.)\n",
      "Query: I need you to show me organisations in the provided sentence. Do not show me any other entity types.\n",
      "    ###\n",
      "    Desired response format: ###\n",
      "    org1, org2, org3\n",
      "    ###\n",
      "    Desired response if no organisations found: ###\n",
      "    no_orgs\n",
      "    ###\n",
      "    For example, if I gave you: ###\n",
      "    \"James, living in Japan, missed his club 's last two games after FIFA slapped a worldwide ban on him for appearing to sign contracts for both Wednesday and Udinese while he was playing for Feyenoord .\",\n",
      "    you would only give me:\n",
      "    FIFA, Wednesday, Udinese, Feyenoord\n",
      "    ###\n",
      "    The provided sentence is: ###\n",
      "    The government also wants British Airways to drop a clause in its agreement with USAir that bars it from competing on trans-Atlantic routes , and said both British Airways and American should be prepared to reduce services on the London to Dallas-Fort Worth route in the event that a new entrant wishes to enter .\n",
      "    ###\n",
      "    \n",
      "Retrying in 5 seconds...\n",
      "British Airways, USAir, American\n"
     ]
    },
    {
     "name": "stderr",
     "output_type": "stream",
     "text": [
      "\r",
      "Generating responses:  33%|███▎      | 408/1229 [23:09<2:49:43, 12.40s/it]"
     ]
    },
    {
     "name": "stdout",
     "output_type": "stream",
     "text": [
      "Office of Fair Trade, British Airways, American\n"
     ]
    },
    {
     "name": "stderr",
     "output_type": "stream",
     "text": [
      "\r",
      "Generating responses:  33%|███▎      | 409/1229 [23:12<2:09:52,  9.50s/it]"
     ]
    },
    {
     "name": "stdout",
     "output_type": "stream",
     "text": [
      "Office of Fair Trading\n"
     ]
    },
    {
     "name": "stderr",
     "output_type": "stream",
     "text": [
      "\r",
      "Generating responses:  33%|███▎      | 410/1229 [23:13<1:37:14,  7.12s/it]"
     ]
    },
    {
     "name": "stdout",
     "output_type": "stream",
     "text": [
      "Elf\n"
     ]
    },
    {
     "name": "stderr",
     "output_type": "stream",
     "text": [
      "\r",
      "Generating responses:  33%|███▎      | 411/1229 [23:15<1:15:54,  5.57s/it]"
     ]
    },
    {
     "name": "stdout",
     "output_type": "stream",
     "text": [
      "Elf\n"
     ]
    },
    {
     "name": "stderr",
     "output_type": "stream",
     "text": [
      "\r",
      "Generating responses:  34%|███▎      | 412/1229 [23:17<1:00:57,  4.48s/it]"
     ]
    },
    {
     "name": "stdout",
     "output_type": "stream",
     "text": [
      "no_orgs\n"
     ]
    },
    {
     "name": "stderr",
     "output_type": "stream",
     "text": [
      "\r",
      "Generating responses:  34%|███▎      | 413/1229 [23:19<50:42,  3.73s/it]  "
     ]
    },
    {
     "name": "stdout",
     "output_type": "stream",
     "text": [
      "Elf\n"
     ]
    },
    {
     "name": "stderr",
     "output_type": "stream",
     "text": [
      "\r",
      "Generating responses:  34%|███▎      | 414/1229 [23:20<40:28,  2.98s/it]"
     ]
    },
    {
     "name": "stdout",
     "output_type": "stream",
     "text": [
      "Elf, Med\n"
     ]
    },
    {
     "name": "stderr",
     "output_type": "stream",
     "text": [
      "\r",
      "Generating responses:  34%|███▍      | 415/1229 [23:22<36:06,  2.66s/it]"
     ]
    },
    {
     "name": "stdout",
     "output_type": "stream",
     "text": [
      "Sale Grammar School, Manchester\n"
     ]
    },
    {
     "name": "stderr",
     "output_type": "stream",
     "text": [
      "\r",
      "Generating responses:  34%|███▍      | 416/1229 [23:24<31:13,  2.30s/it]"
     ]
    },
    {
     "name": "stdout",
     "output_type": "stream",
     "text": [
      "Major, House of Commons\n"
     ]
    },
    {
     "name": "stderr",
     "output_type": "stream",
     "text": [
      "\r",
      "Generating responses:  34%|███▍      | 417/1229 [23:25<28:09,  2.08s/it]"
     ]
    },
    {
     "name": "stdout",
     "output_type": "stream",
     "text": [
      "government, House of Commons\n"
     ]
    },
    {
     "name": "stderr",
     "output_type": "stream",
     "text": [
      "\r",
      "Generating responses:  34%|███▍      | 418/1229 [23:27<27:34,  2.04s/it]"
     ]
    },
    {
     "name": "stdout",
     "output_type": "stream",
     "text": [
      "Electronic Data\n"
     ]
    },
    {
     "name": "stderr",
     "output_type": "stream",
     "text": [
      "\r",
      "Generating responses:  34%|███▍      | 419/1229 [23:29<26:47,  1.98s/it]"
     ]
    },
    {
     "name": "stdout",
     "output_type": "stream",
     "text": [
      "Electronic Data Systems, Private Finance Initiative\n"
     ]
    },
    {
     "name": "stderr",
     "output_type": "stream",
     "text": [
      "\r",
      "Generating responses:  34%|███▍      | 420/1229 [23:32<29:26,  2.18s/it]"
     ]
    },
    {
     "name": "stdout",
     "output_type": "stream",
     "text": [
      "EDS\n"
     ]
    },
    {
     "name": "stderr",
     "output_type": "stream",
     "text": [
      "\r",
      "Generating responses:  34%|███▍      | 421/1229 [23:34<28:57,  2.15s/it]"
     ]
    },
    {
     "name": "stdout",
     "output_type": "stream",
     "text": [
      "National Air Traffic Services Ltd, Civil Aviation Authority\n"
     ]
    },
    {
     "name": "stderr",
     "output_type": "stream",
     "text": [
      "\r",
      "Generating responses:  34%|███▍      | 422/1229 [23:36<30:42,  2.28s/it]"
     ]
    },
    {
     "name": "stdout",
     "output_type": "stream",
     "text": [
      "London Newsroom\n"
     ]
    },
    {
     "name": "stderr",
     "output_type": "stream",
     "text": [
      "\r",
      "Generating responses:  34%|███▍      | 423/1229 [23:38<28:17,  2.11s/it]"
     ]
    },
    {
     "name": "stdout",
     "output_type": "stream",
     "text": [
      "Australia, West Indies\n"
     ]
    },
    {
     "name": "stderr",
     "output_type": "stream",
     "text": [
      "\r",
      "Generating responses:  34%|███▍      | 424/1229 [23:40<27:28,  2.05s/it]"
     ]
    },
    {
     "name": "stdout",
     "output_type": "stream",
     "text": [
      "Sydney Newsroom\n"
     ]
    },
    {
     "name": "stderr",
     "output_type": "stream",
     "text": [
      "\r",
      "Generating responses:  35%|███▍      | 425/1229 [23:42<26:12,  1.96s/it]"
     ]
    },
    {
     "name": "stdout",
     "output_type": "stream",
     "text": [
      "Manitoba Pork\n"
     ]
    },
    {
     "name": "stderr",
     "output_type": "stream",
     "text": [
      "\r",
      "Generating responses:  35%|███▍      | 426/1229 [23:44<27:16,  2.04s/it]"
     ]
    },
    {
     "name": "stdout",
     "output_type": "stream",
     "text": [
      "Manitoba Pork\n"
     ]
    },
    {
     "name": "stderr",
     "output_type": "stream",
     "text": [
      "\r",
      "Generating responses:  35%|███▍      | 427/1229 [23:46<27:39,  2.07s/it]"
     ]
    },
    {
     "name": "stdout",
     "output_type": "stream",
     "text": [
      "Manitoba Government\n"
     ]
    },
    {
     "name": "stderr",
     "output_type": "stream",
     "text": [
      "\r",
      "Generating responses:  35%|███▍      | 428/1229 [23:48<25:56,  1.94s/it]"
     ]
    },
    {
     "name": "stdout",
     "output_type": "stream",
     "text": [
      "Manitoba\n"
     ]
    },
    {
     "name": "stderr",
     "output_type": "stream",
     "text": [
      "\r",
      "Generating responses:  35%|███▍      | 429/1229 [23:50<26:38,  2.00s/it]"
     ]
    },
    {
     "name": "stdout",
     "output_type": "stream",
     "text": [
      "Manitoba Pork.\n"
     ]
    },
    {
     "name": "stderr",
     "output_type": "stream",
     "text": [
      "\r",
      "Generating responses:  35%|███▍      | 430/1229 [23:52<25:42,  1.93s/it]"
     ]
    },
    {
     "name": "stdout",
     "output_type": "stream",
     "text": [
      "Canadian Wheat Board\n"
     ]
    },
    {
     "name": "stderr",
     "output_type": "stream",
     "text": [
      "\r",
      "Generating responses:  35%|███▌      | 431/1229 [23:53<23:09,  1.74s/it]"
     ]
    },
    {
     "name": "stdout",
     "output_type": "stream",
     "text": [
      "New York Commodities Desk\n"
     ]
    },
    {
     "name": "stderr",
     "output_type": "stream",
     "text": [
      "\r",
      "Generating responses:  35%|███▌      | 432/1229 [23:55<26:11,  1.97s/it]"
     ]
    },
    {
     "name": "stdout",
     "output_type": "stream",
     "text": [
      "China Steel.\n"
     ]
    },
    {
     "name": "stderr",
     "output_type": "stream",
     "text": [
      "\r",
      "Generating responses:  35%|███▌      | 433/1229 [23:57<23:30,  1.77s/it]"
     ]
    },
    {
     "name": "stdout",
     "output_type": "stream",
     "text": [
      "New York Commodities Desk\n"
     ]
    },
    {
     "name": "stderr",
     "output_type": "stream",
     "text": [
      "\r",
      "Generating responses:  35%|███▌      | 434/1229 [23:59<23:47,  1.80s/it]"
     ]
    },
    {
     "name": "stdout",
     "output_type": "stream",
     "text": [
      "Caribs, Mobil\n"
     ]
    },
    {
     "name": "stderr",
     "output_type": "stream",
     "text": [
      "\r",
      "Generating responses:  35%|███▌      | 435/1229 [24:00<22:31,  1.70s/it]"
     ]
    },
    {
     "name": "stdout",
     "output_type": "stream",
     "text": [
      "New York Commodities Desk\n"
     ]
    },
    {
     "name": "stderr",
     "output_type": "stream",
     "text": [
      "\r",
      "Generating responses:  35%|███▌      | 436/1229 [24:03<25:42,  1.95s/it]"
     ]
    },
    {
     "name": "stdout",
     "output_type": "stream",
     "text": [
      "Thai Resource, Mobil\n"
     ]
    },
    {
     "name": "stderr",
     "output_type": "stream",
     "text": [
      "\r",
      "Generating responses:  36%|███▌      | 437/1229 [24:04<23:51,  1.81s/it]"
     ]
    },
    {
     "name": "stdout",
     "output_type": "stream",
     "text": [
      "Exxon.\n"
     ]
    },
    {
     "name": "stderr",
     "output_type": "stream",
     "text": [
      "\r",
      "Generating responses:  36%|███▌      | 438/1229 [24:06<23:52,  1.81s/it]"
     ]
    },
    {
     "name": "stdout",
     "output_type": "stream",
     "text": [
      "Exxon\n"
     ]
    },
    {
     "name": "stderr",
     "output_type": "stream",
     "text": [
      "\r",
      "Generating responses:  36%|███▌      | 439/1229 [24:07<22:31,  1.71s/it]"
     ]
    },
    {
     "name": "stdout",
     "output_type": "stream",
     "text": [
      "Exxon\n"
     ]
    },
    {
     "name": "stderr",
     "output_type": "stream",
     "text": [
      "\r",
      "Generating responses:  36%|███▌      | 440/1229 [24:09<20:59,  1.60s/it]"
     ]
    },
    {
     "name": "stdout",
     "output_type": "stream",
     "text": [
      "New York Commodities Desk\n"
     ]
    },
    {
     "name": "stderr",
     "output_type": "stream",
     "text": [
      "\r",
      "Generating responses:  36%|███▌      | 441/1229 [24:10<21:44,  1.66s/it]"
     ]
    },
    {
     "name": "stdout",
     "output_type": "stream",
     "text": [
      "Goldman Sachs\n"
     ]
    },
    {
     "name": "stderr",
     "output_type": "stream",
     "text": [
      "\r",
      "Generating responses:  36%|███▌      | 442/1229 [24:13<24:40,  1.88s/it]"
     ]
    },
    {
     "name": "stdout",
     "output_type": "stream",
     "text": [
      "New York City, London Stock Exchange\n"
     ]
    },
    {
     "name": "stderr",
     "output_type": "stream",
     "text": [
      "\r",
      "Generating responses:  36%|███▌      | 443/1229 [24:15<25:13,  1.93s/it]"
     ]
    },
    {
     "name": "stdout",
     "output_type": "stream",
     "text": [
      "USDA\n"
     ]
    },
    {
     "name": "stderr",
     "output_type": "stream",
     "text": [
      "\r",
      "Generating responses:  36%|███▌      | 444/1229 [24:17<26:07,  2.00s/it]"
     ]
    },
    {
     "name": "stdout",
     "output_type": "stream",
     "text": [
      "USDA\n"
     ]
    },
    {
     "name": "stderr",
     "output_type": "stream",
     "text": [
      "\r",
      "Generating responses:  36%|███▌      | 445/1229 [24:19<25:01,  1.92s/it]"
     ]
    },
    {
     "name": "stdout",
     "output_type": "stream",
     "text": [
      "Homestake Mining Co, Wall Street, Santa Fe Pacific Gold Corp, Newmont Mining Corp\n"
     ]
    },
    {
     "name": "stderr",
     "output_type": "stream",
     "text": [
      "\r",
      "Generating responses:  36%|███▋      | 446/1229 [24:22<29:26,  2.26s/it]"
     ]
    },
    {
     "name": "stdout",
     "output_type": "stream",
     "text": [
      "Santa Fe, Newmont\n"
     ]
    },
    {
     "name": "stderr",
     "output_type": "stream",
     "text": [
      "\r",
      "Generating responses:  36%|███▋      | 447/1229 [24:24<29:40,  2.28s/it]"
     ]
    },
    {
     "name": "stdout",
     "output_type": "stream",
     "text": [
      "Error generating response for prompt at index 447: That model is currently overloaded with other requests. You can retry your request, or contact us through our help center at help.openai.com if the error persists. (Please include the request ID c8e823f861666702227aaeea64cd0630 in your message.)\n",
      "Query: I need you to show me organisations in the provided sentence. Do not show me any other entity types.\n",
      "    ###\n",
      "    Desired response format: ###\n",
      "    org1, org2, org3\n",
      "    ###\n",
      "    Desired response if no organisations found: ###\n",
      "    no_orgs\n",
      "    ###\n",
      "    For example, if I gave you: ###\n",
      "    \"James, living in Japan, missed his club 's last two games after FIFA slapped a worldwide ban on him for appearing to sign contracts for both Wednesday and Udinese while he was playing for Feyenoord .\",\n",
      "    you would only give me:\n",
      "    FIFA, Wednesday, Udinese, Feyenoord\n",
      "    ###\n",
      "    The provided sentence is: ###\n",
      "    Wall Street , since the bid , has speculated that any deal between Newmont and Santa Fe would be a \" bear hug , \" or a reluctantly negotiated agreement where the buyer is not necessarily a friendly suitor .\n",
      "    ###\n",
      "    \n",
      "Retrying in 5 seconds...\n",
      "Wall Street, Newmont, Santa Fe\n"
     ]
    },
    {
     "name": "stderr",
     "output_type": "stream",
     "text": [
      "\r",
      "Generating responses:  36%|███▋      | 448/1229 [25:02<2:47:13, 12.85s/it]"
     ]
    },
    {
     "name": "stdout",
     "output_type": "stream",
     "text": [
      "Error generating response for prompt at index 448: That model is currently overloaded with other requests. You can retry your request, or contact us through our help center at help.openai.com if the error persists. (Please include the request ID 79eb9985d3d30b8604459b1f7f915650 in your message.)\n",
      "Query: I need you to show me organisations in the provided sentence. Do not show me any other entity types.\n",
      "    ###\n",
      "    Desired response format: ###\n",
      "    org1, org2, org3\n",
      "    ###\n",
      "    Desired response if no organisations found: ###\n",
      "    no_orgs\n",
      "    ###\n",
      "    For example, if I gave you: ###\n",
      "    \"James, living in Japan, missed his club 's last two games after FIFA slapped a worldwide ban on him for appearing to sign contracts for both Wednesday and Udinese while he was playing for Feyenoord .\",\n",
      "    you would only give me:\n",
      "    FIFA, Wednesday, Udinese, Feyenoord\n",
      "    ###\n",
      "    The provided sentence is: ###\n",
      "    Newmont said the companies have had previous contact , though declined to detail the encounters .\n",
      "    ###\n",
      "    \n",
      "Retrying in 5 seconds...\n",
      "Newmont\n"
     ]
    },
    {
     "name": "stderr",
     "output_type": "stream",
     "text": [
      "\r",
      "Generating responses:  37%|███▋      | 449/1229 [25:39<4:21:27, 20.11s/it]"
     ]
    },
    {
     "name": "stdout",
     "output_type": "stream",
     "text": [
      "Santa Fe, Newmont\n"
     ]
    },
    {
     "name": "stderr",
     "output_type": "stream",
     "text": [
      "\r",
      "Generating responses:  37%|███▋      | 450/1229 [25:41<3:12:02, 14.79s/it]"
     ]
    },
    {
     "name": "stdout",
     "output_type": "stream",
     "text": [
      "Newmont, Santa Fe\n"
     ]
    },
    {
     "name": "stderr",
     "output_type": "stream",
     "text": [
      "\r",
      "Generating responses:  37%|███▋      | 451/1229 [25:43<2:22:44, 11.01s/it]"
     ]
    },
    {
     "name": "stdout",
     "output_type": "stream",
     "text": [
      "Newmont, Santa Fe\n"
     ]
    },
    {
     "name": "stderr",
     "output_type": "stream",
     "text": [
      "\r",
      "Generating responses:  37%|███▋      | 452/1229 [25:46<1:49:00,  8.42s/it]"
     ]
    },
    {
     "name": "stdout",
     "output_type": "stream",
     "text": [
      "Barrick Gold Corp, Bre-X Minerals Ltd, Santa Fe, Indonesia's Busang\n"
     ]
    },
    {
     "name": "stderr",
     "output_type": "stream",
     "text": [
      "\r",
      "Generating responses:  37%|███▋      | 453/1229 [25:49<1:28:23,  6.83s/it]"
     ]
    },
    {
     "name": "stdout",
     "output_type": "stream",
     "text": [
      "Placer Dome Inc, Santa Fe\n"
     ]
    },
    {
     "name": "stderr",
     "output_type": "stream",
     "text": [
      "\r",
      "Generating responses:  37%|███▋      | 454/1229 [25:51<1:08:54,  5.34s/it]"
     ]
    },
    {
     "name": "stdout",
     "output_type": "stream",
     "text": [
      "Homestake\n"
     ]
    },
    {
     "name": "stderr",
     "output_type": "stream",
     "text": [
      "\r",
      "Generating responses:  37%|███▋      | 455/1229 [25:53<56:34,  4.39s/it]  "
     ]
    },
    {
     "name": "stdout",
     "output_type": "stream",
     "text": [
      "Homestake\n"
     ]
    },
    {
     "name": "stderr",
     "output_type": "stream",
     "text": [
      "\r",
      "Generating responses:  37%|███▋      | 456/1229 [25:55<47:58,  3.72s/it]"
     ]
    },
    {
     "name": "stdout",
     "output_type": "stream",
     "text": [
      "Santa Fe\n"
     ]
    },
    {
     "name": "stderr",
     "output_type": "stream",
     "text": [
      "\r",
      "Generating responses:  37%|███▋      | 457/1229 [25:57<40:37,  3.16s/it]"
     ]
    },
    {
     "name": "stdout",
     "output_type": "stream",
     "text": [
      "Santa Fe, Nevada, California, Montana, Canada, Brazil, Australia, Chile, Kazakstan, Mexico, Ghana\n"
     ]
    },
    {
     "name": "stderr",
     "output_type": "stream",
     "text": [
      "\r",
      "Generating responses:  37%|███▋      | 458/1229 [26:00<40:56,  3.19s/it]"
     ]
    },
    {
     "name": "stdout",
     "output_type": "stream",
     "text": [
      "PaineWebber, Newmont, Santa Fe\n"
     ]
    },
    {
     "name": "stderr",
     "output_type": "stream",
     "text": [
      "\r",
      "Generating responses:  37%|███▋      | 459/1229 [26:02<37:24,  2.91s/it]"
     ]
    },
    {
     "name": "stdout",
     "output_type": "stream",
     "text": [
      "Homestake, Newmont\n"
     ]
    },
    {
     "name": "stderr",
     "output_type": "stream",
     "text": [
      "\r",
      "Generating responses:  37%|███▋      | 460/1229 [26:05<35:36,  2.78s/it]"
     ]
    },
    {
     "name": "stdout",
     "output_type": "stream",
     "text": [
      "Santa Fe\n"
     ]
    },
    {
     "name": "stderr",
     "output_type": "stream",
     "text": [
      "\r",
      "Generating responses:  38%|███▊      | 461/1229 [26:07<33:32,  2.62s/it]"
     ]
    },
    {
     "name": "stdout",
     "output_type": "stream",
     "text": [
      "Newmont, Santa Fe\n"
     ]
    },
    {
     "name": "stderr",
     "output_type": "stream",
     "text": [
      "\r",
      "Generating responses:  38%|███▊      | 462/1229 [26:09<30:26,  2.38s/it]"
     ]
    },
    {
     "name": "stdout",
     "output_type": "stream",
     "text": [
      "Error generating response for prompt at index 462: That model is currently overloaded with other requests. You can retry your request, or contact us through our help center at help.openai.com if the error persists. (Please include the request ID 083dd505b140b7c5edddb22adbd71649 in your message.)\n",
      "Query: I need you to show me organisations in the provided sentence. Do not show me any other entity types.\n",
      "    ###\n",
      "    Desired response format: ###\n",
      "    org1, org2, org3\n",
      "    ###\n",
      "    Desired response if no organisations found: ###\n",
      "    no_orgs\n",
      "    ###\n",
      "    For example, if I gave you: ###\n",
      "    \"James, living in Japan, missed his club 's last two games after FIFA slapped a worldwide ban on him for appearing to sign contracts for both Wednesday and Udinese while he was playing for Feyenoord .\",\n",
      "    you would only give me:\n",
      "    FIFA, Wednesday, Udinese, Feyenoord\n",
      "    ###\n",
      "    The provided sentence is: ###\n",
      "    In Friday New York Stock Exchange trade , Newmonth was off 1/2 to 46-5/8 while Santa Fe added 1/4 to 15-1/8 .\n",
      "    ###\n",
      "    \n",
      "Retrying in 5 seconds...\n",
      "Newmonth, Santa Fe, New York Stock Exchange\n"
     ]
    },
    {
     "name": "stderr",
     "output_type": "stream",
     "text": [
      "\r",
      "Generating responses:  38%|███▊      | 463/1229 [26:47<2:47:45, 13.14s/it]"
     ]
    },
    {
     "name": "stdout",
     "output_type": "stream",
     "text": [
      "Newmont, Santa Fe\n"
     ]
    },
    {
     "name": "stderr",
     "output_type": "stream",
     "text": [
      "\r",
      "Generating responses:  38%|███▊      | 464/1229 [26:49<2:06:08,  9.89s/it]"
     ]
    },
    {
     "name": "stdout",
     "output_type": "stream",
     "text": [
      "Newmont, Santa Fe\n"
     ]
    },
    {
     "name": "stderr",
     "output_type": "stream",
     "text": [
      "\r",
      "Generating responses:  38%|███▊      | 465/1229 [26:52<1:38:42,  7.75s/it]"
     ]
    },
    {
     "name": "stdout",
     "output_type": "stream",
     "text": [
      "Wall Street Desk\n"
     ]
    },
    {
     "name": "stderr",
     "output_type": "stream",
     "text": [
      "\r",
      "Generating responses:  38%|███▊      | 466/1229 [26:54<1:17:21,  6.08s/it]"
     ]
    },
    {
     "name": "stdout",
     "output_type": "stream",
     "text": [
      "Russ Berrie\n"
     ]
    },
    {
     "name": "stderr",
     "output_type": "stream",
     "text": [
      "\r",
      "Generating responses:  38%|███▊      | 467/1229 [26:56<1:00:49,  4.79s/it]"
     ]
    },
    {
     "name": "stdout",
     "output_type": "stream",
     "text": [
      "Russ Berrie and Co Inc\n"
     ]
    },
    {
     "name": "stderr",
     "output_type": "stream",
     "text": [
      "\r",
      "Generating responses:  38%|███▊      | 468/1229 [26:58<48:31,  3.83s/it]  "
     ]
    },
    {
     "name": "stdout",
     "output_type": "stream",
     "text": [
      "U.N., Security Council\n"
     ]
    },
    {
     "name": "stderr",
     "output_type": "stream",
     "text": [
      "\r",
      "Generating responses:  38%|███▊      | 469/1229 [27:00<42:05,  3.32s/it]"
     ]
    },
    {
     "name": "stdout",
     "output_type": "stream",
     "text": [
      "Medecins sans Frontieres\n"
     ]
    },
    {
     "name": "stderr",
     "output_type": "stream",
     "text": [
      "\r",
      "Generating responses:  38%|███▊      | 470/1229 [27:02<38:59,  3.08s/it]"
     ]
    },
    {
     "name": "stdout",
     "output_type": "stream",
     "text": [
      "U.N.\n"
     ]
    },
    {
     "name": "stderr",
     "output_type": "stream",
     "text": [
      "\r",
      "Generating responses:  38%|███▊      | 471/1229 [27:05<36:04,  2.86s/it]"
     ]
    },
    {
     "name": "stdout",
     "output_type": "stream",
     "text": [
      "United Nations\n"
     ]
    },
    {
     "name": "stderr",
     "output_type": "stream",
     "text": [
      "\r",
      "Generating responses:  38%|███▊      | 472/1229 [27:06<31:00,  2.46s/it]"
     ]
    },
    {
     "name": "stdout",
     "output_type": "stream",
     "text": [
      "U.N. refugee agency UNHCR\n"
     ]
    },
    {
     "name": "stderr",
     "output_type": "stream",
     "text": [
      "\r",
      "Generating responses:  38%|███▊      | 473/1229 [27:08<28:48,  2.29s/it]"
     ]
    },
    {
     "name": "stdout",
     "output_type": "stream",
     "text": [
      "Senegal, U.N.\n"
     ]
    },
    {
     "name": "stderr",
     "output_type": "stream",
     "text": [
      "\r",
      "Generating responses:  39%|███▊      | 474/1229 [27:11<29:39,  2.36s/it]"
     ]
    },
    {
     "name": "stdout",
     "output_type": "stream",
     "text": [
      "United Nations,\n"
     ]
    },
    {
     "name": "stderr",
     "output_type": "stream",
     "text": [
      "\r",
      "Generating responses:  39%|███▊      | 475/1229 [27:12<26:34,  2.11s/it]"
     ]
    },
    {
     "name": "stdout",
     "output_type": "stream",
     "text": [
      "United Nations\n"
     ]
    },
    {
     "name": "stderr",
     "output_type": "stream",
     "text": [
      "\r",
      "Generating responses:  39%|███▊      | 476/1229 [27:14<25:19,  2.02s/it]"
     ]
    },
    {
     "name": "stdout",
     "output_type": "stream",
     "text": [
      "national Red Cross\n"
     ]
    },
    {
     "name": "stderr",
     "output_type": "stream",
     "text": [
      "\r",
      "Generating responses:  39%|███▉      | 477/1229 [27:16<24:20,  1.94s/it]"
     ]
    },
    {
     "name": "stdout",
     "output_type": "stream",
     "text": [
      "CIS airports, Russian Weather Service\n"
     ]
    },
    {
     "name": "stderr",
     "output_type": "stream",
     "text": [
      "\r",
      "Generating responses:  39%|███▉      | 478/1229 [27:18<23:50,  1.90s/it]"
     ]
    },
    {
     "name": "stdout",
     "output_type": "stream",
     "text": [
      "Moscow Newsroom\n"
     ]
    },
    {
     "name": "stderr",
     "output_type": "stream",
     "text": [
      "\r",
      "Generating responses:  39%|███▉      | 479/1229 [27:19<23:22,  1.87s/it]"
     ]
    },
    {
     "name": "stdout",
     "output_type": "stream",
     "text": [
      "Bratislava, Reuters\n"
     ]
    },
    {
     "name": "stderr",
     "output_type": "stream",
     "text": [
      "\r",
      "Generating responses:  39%|███▉      | 480/1229 [27:22<24:48,  1.99s/it]"
     ]
    },
    {
     "name": "stdout",
     "output_type": "stream",
     "text": [
      "the Democratic Left Alliance, the Catholic Church\n"
     ]
    },
    {
     "name": "stderr",
     "output_type": "stream",
     "text": [
      "\r",
      "Generating responses:  39%|███▉      | 481/1229 [27:25<28:06,  2.25s/it]"
     ]
    },
    {
     "name": "stdout",
     "output_type": "stream",
     "text": [
      "Norilsk\n"
     ]
    },
    {
     "name": "stderr",
     "output_type": "stream",
     "text": [
      "\r",
      "Generating responses:  39%|███▉      | 482/1229 [27:26<26:46,  2.15s/it]"
     ]
    },
    {
     "name": "stdout",
     "output_type": "stream",
     "text": [
      "Norilsk Nickel\n"
     ]
    },
    {
     "name": "stderr",
     "output_type": "stream",
     "text": [
      "\r",
      "Generating responses:  39%|███▉      | 483/1229 [27:28<24:47,  1.99s/it]"
     ]
    },
    {
     "name": "stdout",
     "output_type": "stream",
     "text": [
      "Norilsk, federal, regional, Moscow brokerage Rinaco Plus\n"
     ]
    },
    {
     "name": "stderr",
     "output_type": "stream",
     "text": [
      "\r",
      "Generating responses:  39%|███▉      | 484/1229 [27:31<28:57,  2.33s/it]"
     ]
    },
    {
     "name": "stdout",
     "output_type": "stream",
     "text": [
      "RAO Norilsky Nikel\n"
     ]
    },
    {
     "name": "stderr",
     "output_type": "stream",
     "text": [
      "\r",
      "Generating responses:  39%|███▉      | 485/1229 [27:34<29:03,  2.34s/it]"
     ]
    },
    {
     "name": "stdout",
     "output_type": "stream",
     "text": [
      "United City Bank\n"
     ]
    },
    {
     "name": "stderr",
     "output_type": "stream",
     "text": [
      "\r",
      "Generating responses:  40%|███▉      | 486/1229 [27:35<26:40,  2.15s/it]"
     ]
    },
    {
     "name": "stdout",
     "output_type": "stream",
     "text": [
      "International Monetary Fund\n"
     ]
    },
    {
     "name": "stderr",
     "output_type": "stream",
     "text": [
      "\r",
      "Generating responses:  40%|███▉      | 487/1229 [27:37<25:00,  2.02s/it]"
     ]
    },
    {
     "name": "stdout",
     "output_type": "stream",
     "text": [
      "Norilsk\n"
     ]
    },
    {
     "name": "stderr",
     "output_type": "stream",
     "text": [
      "\r",
      "Generating responses:  40%|███▉      | 488/1229 [27:39<24:34,  1.99s/it]"
     ]
    },
    {
     "name": "stdout",
     "output_type": "stream",
     "text": [
      "Norilsk\n"
     ]
    },
    {
     "name": "stderr",
     "output_type": "stream",
     "text": [
      "\r",
      "Generating responses:  40%|███▉      | 489/1229 [27:41<24:13,  1.96s/it]"
     ]
    },
    {
     "name": "stdout",
     "output_type": "stream",
     "text": [
      "Norilsk\n"
     ]
    },
    {
     "name": "stderr",
     "output_type": "stream",
     "text": [
      "\r",
      "Generating responses:  40%|███▉      | 490/1229 [27:42<23:12,  1.88s/it]"
     ]
    },
    {
     "name": "stdout",
     "output_type": "stream",
     "text": [
      "Norilsk\n"
     ]
    },
    {
     "name": "stderr",
     "output_type": "stream",
     "text": [
      "\r",
      "Generating responses:  40%|███▉      | 491/1229 [27:44<23:15,  1.89s/it]"
     ]
    },
    {
     "name": "stdout",
     "output_type": "stream",
     "text": [
      "Norilsk\n"
     ]
    },
    {
     "name": "stderr",
     "output_type": "stream",
     "text": [
      "\r",
      "Generating responses:  40%|████      | 492/1229 [27:46<21:22,  1.74s/it]"
     ]
    },
    {
     "name": "stdout",
     "output_type": "stream",
     "text": [
      "Norilsk\n"
     ]
    },
    {
     "name": "stderr",
     "output_type": "stream",
     "text": [
      "\r",
      "Generating responses:  40%|████      | 493/1229 [27:48<21:32,  1.76s/it]"
     ]
    },
    {
     "name": "stdout",
     "output_type": "stream",
     "text": [
      "Norilsk\n"
     ]
    },
    {
     "name": "stderr",
     "output_type": "stream",
     "text": [
      "\r",
      "Generating responses:  40%|████      | 494/1229 [27:50<22:34,  1.84s/it]"
     ]
    },
    {
     "name": "stdout",
     "output_type": "stream",
     "text": [
      "Norilsk\n"
     ]
    },
    {
     "name": "stderr",
     "output_type": "stream",
     "text": [
      "\r",
      "Generating responses:  40%|████      | 495/1229 [27:51<21:34,  1.76s/it]"
     ]
    },
    {
     "name": "stdout",
     "output_type": "stream",
     "text": [
      "Norilsk, Uneximbank, Interrosimpex\n"
     ]
    },
    {
     "name": "stderr",
     "output_type": "stream",
     "text": [
      "\r",
      "Generating responses:  40%|████      | 496/1229 [27:55<27:29,  2.25s/it]"
     ]
    },
    {
     "name": "stdout",
     "output_type": "stream",
     "text": [
      "Norilsk\n"
     ]
    },
    {
     "name": "stderr",
     "output_type": "stream",
     "text": [
      "\r",
      "Generating responses:  40%|████      | 497/1229 [27:57<27:07,  2.22s/it]"
     ]
    },
    {
     "name": "stdout",
     "output_type": "stream",
     "text": [
      "Uneximbank\n"
     ]
    },
    {
     "name": "stderr",
     "output_type": "stream",
     "text": [
      "\r",
      "Generating responses:  41%|████      | 498/1229 [27:58<25:14,  2.07s/it]"
     ]
    },
    {
     "name": "stdout",
     "output_type": "stream",
     "text": [
      "Norilsk\n"
     ]
    },
    {
     "name": "stderr",
     "output_type": "stream",
     "text": [
      "\r",
      "Generating responses:  41%|████      | 499/1229 [28:01<25:30,  2.10s/it]"
     ]
    },
    {
     "name": "stdout",
     "output_type": "stream",
     "text": [
      "Moscow Newsroom\n"
     ]
    },
    {
     "name": "stderr",
     "output_type": "stream",
     "text": [
      "\r",
      "Generating responses:  41%|████      | 500/1229 [28:02<23:00,  1.89s/it]"
     ]
    },
    {
     "name": "stdout",
     "output_type": "stream",
     "text": [
      "Tallinna Pank\n"
     ]
    },
    {
     "name": "stderr",
     "output_type": "stream",
     "text": [
      "\r",
      "Generating responses:  41%|████      | 501/1229 [28:04<24:11,  1.99s/it]"
     ]
    },
    {
     "name": "stdout",
     "output_type": "stream",
     "text": [
      "Tallinna Pank\n"
     ]
    },
    {
     "name": "stderr",
     "output_type": "stream",
     "text": [
      "\r",
      "Generating responses:  41%|████      | 502/1229 [28:07<25:35,  2.11s/it]"
     ]
    },
    {
     "name": "stdout",
     "output_type": "stream",
     "text": [
      "Tallinna Pank\n"
     ]
    },
    {
     "name": "stderr",
     "output_type": "stream",
     "text": [
      "\r",
      "Generating responses:  41%|████      | 503/1229 [28:09<26:33,  2.20s/it]"
     ]
    },
    {
     "name": "stdout",
     "output_type": "stream",
     "text": [
      "Riga Newsroom\n"
     ]
    },
    {
     "name": "stderr",
     "output_type": "stream",
     "text": [
      "\r",
      "Generating responses:  41%|████      | 504/1229 [28:12<29:56,  2.48s/it]"
     ]
    },
    {
     "name": "stdout",
     "output_type": "stream",
     "text": [
      "Interfax news agency, Moscow, Albright\n"
     ]
    },
    {
     "name": "stderr",
     "output_type": "stream",
     "text": [
      "\r",
      "Generating responses:  41%|████      | 505/1229 [28:14<27:49,  2.31s/it]"
     ]
    },
    {
     "name": "stdout",
     "output_type": "stream",
     "text": [
      "Russian foreign ministry, Russian-U.S. relations, Interfax.\n"
     ]
    },
    {
     "name": "stderr",
     "output_type": "stream",
     "text": [
      "\r",
      "Generating responses:  41%|████      | 506/1229 [28:17<29:54,  2.48s/it]"
     ]
    },
    {
     "name": "stdout",
     "output_type": "stream",
     "text": [
      "Interfax, NATO, United Nations\n"
     ]
    },
    {
     "name": "stderr",
     "output_type": "stream",
     "text": [
      "\r",
      "Generating responses:  41%|████▏     | 507/1229 [28:20<33:13,  2.76s/it]"
     ]
    },
    {
     "name": "stdout",
     "output_type": "stream",
     "text": [
      "Russia, NATO, Soviet-led Warsaw Pact\n"
     ]
    },
    {
     "name": "stderr",
     "output_type": "stream",
     "text": [
      "\r",
      "Generating responses:  41%|████▏     | 508/1229 [28:22<30:46,  2.56s/it]"
     ]
    },
    {
     "name": "stdout",
     "output_type": "stream",
     "text": [
      "Boris Yeltsin, Interfax\n"
     ]
    },
    {
     "name": "stderr",
     "output_type": "stream",
     "text": [
      "\r",
      "Generating responses:  41%|████▏     | 509/1229 [28:25<30:09,  2.51s/it]"
     ]
    },
    {
     "name": "stdout",
     "output_type": "stream",
     "text": [
      "Itar-Tass\n"
     ]
    },
    {
     "name": "stderr",
     "output_type": "stream",
     "text": [
      "\r",
      "Generating responses:  41%|████▏     | 510/1229 [28:26<26:46,  2.23s/it]"
     ]
    },
    {
     "name": "stdout",
     "output_type": "stream",
     "text": [
      "TASR\n"
     ]
    },
    {
     "name": "stderr",
     "output_type": "stream",
     "text": [
      "\r",
      "Generating responses:  42%|████▏     | 511/1229 [28:29<26:20,  2.20s/it]"
     ]
    },
    {
     "name": "stdout",
     "output_type": "stream",
     "text": [
      "Movement for a Democratic Slovakia\n"
     ]
    },
    {
     "name": "stderr",
     "output_type": "stream",
     "text": [
      "\r",
      "Generating responses:  42%|████▏     | 512/1229 [28:30<25:11,  2.11s/it]"
     ]
    },
    {
     "name": "stdout",
     "output_type": "stream",
     "text": [
      "TASR\n"
     ]
    },
    {
     "name": "stderr",
     "output_type": "stream",
     "text": [
      "\r",
      "Generating responses:  42%|████▏     | 513/1229 [28:32<24:06,  2.02s/it]"
     ]
    },
    {
     "name": "stdout",
     "output_type": "stream",
     "text": [
      "Error generating response for prompt at index 513: That model is currently overloaded with other requests. You can retry your request, or contact us through our help center at help.openai.com if the error persists. (Please include the request ID 2296724199cdb1b8df53b4102ec478b3 in your message.)\n",
      "Query: I need you to show me organisations in the provided sentence. Do not show me any other entity types.\n",
      "    ###\n",
      "    Desired response format: ###\n",
      "    org1, org2, org3\n",
      "    ###\n",
      "    Desired response if no organisations found: ###\n",
      "    no_orgs\n",
      "    ###\n",
      "    For example, if I gave you: ###\n",
      "    \"James, living in Japan, missed his club 's last two games after FIFA slapped a worldwide ban on him for appearing to sign contracts for both Wednesday and Udinese while he was playing for Feyenoord .\",\n",
      "    you would only give me:\n",
      "    FIFA, Wednesday, Udinese, Feyenoord\n",
      "    ###\n",
      "    The provided sentence is: ###\n",
      "    Then once we saw the Dow ( Jones industrial average ) was not about to crash , some buyers stepped in , \" said a trader , referring to Federal Reserve Chairman Alan Greenspan , whose comments that assets were \" irrationally exhuberant \" upset financial markets worldwide .\n",
      "    ###\n",
      "    \n",
      "Retrying in 5 seconds...\n",
      "Dow Jones industrial average, Federal Reserve, Alan Greenspan\n"
     ]
    },
    {
     "name": "stderr",
     "output_type": "stream",
     "text": [
      "\r",
      "Generating responses:  42%|████▏     | 514/1229 [29:11<2:34:11, 12.94s/it]"
     ]
    },
    {
     "name": "stdout",
     "output_type": "stream",
     "text": [
      "U.S. Treasury\n"
     ]
    },
    {
     "name": "stderr",
     "output_type": "stream",
     "text": [
      "\r",
      "Generating responses:  42%|████▏     | 515/1229 [29:13<1:56:18,  9.77s/it]"
     ]
    },
    {
     "name": "stdout",
     "output_type": "stream",
     "text": [
      "Simec, Sidek\n"
     ]
    },
    {
     "name": "stderr",
     "output_type": "stream",
     "text": [
      "\r",
      "Generating responses:  42%|████▏     | 516/1229 [29:15<1:28:54,  7.48s/it]"
     ]
    },
    {
     "name": "stdout",
     "output_type": "stream",
     "text": [
      "no_orgs\n"
     ]
    },
    {
     "name": "stderr",
     "output_type": "stream",
     "text": [
      "\r",
      "Generating responses:  42%|████▏     | 517/1229 [29:17<1:08:43,  5.79s/it]"
     ]
    },
    {
     "name": "stdout",
     "output_type": "stream",
     "text": [
      "Telmex, Televisa\n"
     ]
    },
    {
     "name": "stderr",
     "output_type": "stream",
     "text": [
      "\r",
      "Generating responses:  42%|████▏     | 518/1229 [29:19<54:31,  4.60s/it]  "
     ]
    },
    {
     "name": "stdout",
     "output_type": "stream",
     "text": [
      "Brazilian Plastic Surgery Society (SBCP)\n"
     ]
    },
    {
     "name": "stderr",
     "output_type": "stream",
     "text": [
      "\r",
      "Generating responses:  42%|████▏     | 519/1229 [29:22<48:30,  4.10s/it]"
     ]
    },
    {
     "name": "stdout",
     "output_type": "stream",
     "text": [
      "SBCP\n"
     ]
    },
    {
     "name": "stderr",
     "output_type": "stream",
     "text": [
      "\r",
      "Generating responses:  42%|████▏     | 520/1229 [29:24<42:24,  3.59s/it]"
     ]
    },
    {
     "name": "stdout",
     "output_type": "stream",
     "text": [
      "SBCP, United States\n"
     ]
    },
    {
     "name": "stderr",
     "output_type": "stream",
     "text": [
      "\r",
      "Generating responses:  42%|████▏     | 521/1229 [29:26<37:05,  3.14s/it]"
     ]
    },
    {
     "name": "stdout",
     "output_type": "stream",
     "text": [
      "Buenos Aires Newsroom\n"
     ]
    },
    {
     "name": "stderr",
     "output_type": "stream",
     "text": [
      "\r",
      "Generating responses:  42%|████▏     | 522/1229 [29:28<32:01,  2.72s/it]"
     ]
    },
    {
     "name": "stdout",
     "output_type": "stream",
     "text": [
      "Communications and Transportation Ministry\n"
     ]
    },
    {
     "name": "stderr",
     "output_type": "stream",
     "text": [
      "\r",
      "Generating responses:  43%|████▎     | 523/1229 [29:30<30:06,  2.56s/it]"
     ]
    },
    {
     "name": "stdout",
     "output_type": "stream",
     "text": [
      "Rio de Janeiro state university, O Globo\n"
     ]
    },
    {
     "name": "stderr",
     "output_type": "stream",
     "text": [
      "\r",
      "Generating responses:  43%|████▎     | 524/1229 [29:33<29:38,  2.52s/it]"
     ]
    },
    {
     "name": "stdout",
     "output_type": "stream",
     "text": [
      "no_orgs\n"
     ]
    },
    {
     "name": "stderr",
     "output_type": "stream",
     "text": [
      "\r",
      "Generating responses:  43%|████▎     | 525/1229 [29:34<25:10,  2.15s/it]"
     ]
    },
    {
     "name": "stdout",
     "output_type": "stream",
     "text": [
      "Chile, Mexico\n"
     ]
    },
    {
     "name": "stderr",
     "output_type": "stream",
     "text": [
      "\r",
      "Generating responses:  43%|████▎     | 526/1229 [29:36<24:03,  2.05s/it]"
     ]
    },
    {
     "name": "stdout",
     "output_type": "stream",
     "text": [
      "Organisation of the Islamic Conference (OIC)\n"
     ]
    },
    {
     "name": "stderr",
     "output_type": "stream",
     "text": [
      "\r",
      "Generating responses:  43%|████▎     | 527/1229 [29:38<24:24,  2.09s/it]"
     ]
    },
    {
     "name": "stdout",
     "output_type": "stream",
     "text": [
      "United Nations, Jakarta\n"
     ]
    },
    {
     "name": "stderr",
     "output_type": "stream",
     "text": [
      "\r",
      "Generating responses:  43%|████▎     | 528/1229 [29:40<23:46,  2.03s/it]"
     ]
    },
    {
     "name": "stdout",
     "output_type": "stream",
     "text": [
      "State Council, Xinhua\n"
     ]
    },
    {
     "name": "stderr",
     "output_type": "stream",
     "text": [
      "\r",
      "Generating responses:  43%|████▎     | 529/1229 [29:42<24:29,  2.10s/it]"
     ]
    },
    {
     "name": "stdout",
     "output_type": "stream",
     "text": [
      "Xinhua\n"
     ]
    },
    {
     "name": "stderr",
     "output_type": "stream",
     "text": [
      "\r",
      "Generating responses:  43%|████▎     | 530/1229 [29:44<25:00,  2.15s/it]"
     ]
    },
    {
     "name": "stdout",
     "output_type": "stream",
     "text": [
      "Wenchang, Xinhua\n"
     ]
    },
    {
     "name": "stderr",
     "output_type": "stream",
     "text": [
      "\r",
      "Generating responses:  43%|████▎     | 531/1229 [29:47<25:43,  2.21s/it]"
     ]
    },
    {
     "name": "stdout",
     "output_type": "stream",
     "text": [
      "Ranyon University\n"
     ]
    },
    {
     "name": "stderr",
     "output_type": "stream",
     "text": [
      "\r",
      "Generating responses:  43%|████▎     | 532/1229 [29:49<24:18,  2.09s/it]"
     ]
    },
    {
     "name": "stdout",
     "output_type": "stream",
     "text": [
      "Rangoon University\n"
     ]
    },
    {
     "name": "stderr",
     "output_type": "stream",
     "text": [
      "\r",
      "Generating responses:  43%|████▎     | 533/1229 [29:51<24:33,  2.12s/it]"
     ]
    },
    {
     "name": "stdout",
     "output_type": "stream",
     "text": [
      "University of Yangon, Yangon Institute of Technology\n"
     ]
    },
    {
     "name": "stderr",
     "output_type": "stream",
     "text": [
      "\r",
      "Generating responses:  43%|████▎     | 534/1229 [29:53<23:30,  2.03s/it]"
     ]
    },
    {
     "name": "stdout",
     "output_type": "stream",
     "text": [
      "YIT, Reuters\n"
     ]
    },
    {
     "name": "stderr",
     "output_type": "stream",
     "text": [
      "\r",
      "Generating responses:  44%|████▎     | 535/1229 [29:54<22:27,  1.94s/it]"
     ]
    },
    {
     "name": "stdout",
     "output_type": "stream",
     "text": [
      "University of Yangon\n"
     ]
    },
    {
     "name": "stderr",
     "output_type": "stream",
     "text": [
      "\r",
      "Generating responses:  44%|████▎     | 536/1229 [29:56<22:32,  1.95s/it]"
     ]
    },
    {
     "name": "stdout",
     "output_type": "stream",
     "text": [
      "SLORC\n"
     ]
    },
    {
     "name": "stderr",
     "output_type": "stream",
     "text": [
      "\r",
      "Generating responses:  44%|████▎     | 537/1229 [29:58<23:12,  2.01s/it]"
     ]
    },
    {
     "name": "stdout",
     "output_type": "stream",
     "text": [
      "National League for Democracy (NLD)\n"
     ]
    },
    {
     "name": "stderr",
     "output_type": "stream",
     "text": [
      "\r",
      "Generating responses:  44%|████▍     | 538/1229 [30:00<22:41,  1.97s/it]"
     ]
    },
    {
     "name": "stdout",
     "output_type": "stream",
     "text": [
      "Suu Kyi, NLD\n"
     ]
    },
    {
     "name": "stderr",
     "output_type": "stream",
     "text": [
      "\r",
      "Generating responses:  44%|████▍     | 539/1229 [30:02<21:42,  1.89s/it]"
     ]
    },
    {
     "name": "stdout",
     "output_type": "stream",
     "text": [
      "ILO, WTO, Union\n"
     ]
    },
    {
     "name": "stderr",
     "output_type": "stream",
     "text": [
      "\r",
      "Generating responses:  44%|████▍     | 540/1229 [30:04<23:43,  2.07s/it]"
     ]
    },
    {
     "name": "stdout",
     "output_type": "stream",
     "text": [
      "International Labour Organisation (ILO), WTO\n"
     ]
    },
    {
     "name": "stderr",
     "output_type": "stream",
     "text": [
      "\r",
      "Generating responses:  44%|████▍     | 541/1229 [30:07<24:23,  2.13s/it]"
     ]
    },
    {
     "name": "stdout",
     "output_type": "stream",
     "text": [
      "International Confederation of Free Trade Unions (ICFTU), WTO, ILO\n"
     ]
    },
    {
     "name": "stderr",
     "output_type": "stream",
     "text": [
      "\r",
      "Generating responses:  44%|████▍     | 542/1229 [30:10<27:12,  2.38s/it]"
     ]
    },
    {
     "name": "stdout",
     "output_type": "stream",
     "text": [
      "World Trade Organisation (WTO)\n"
     ]
    },
    {
     "name": "stderr",
     "output_type": "stream",
     "text": [
      "\r",
      "Generating responses:  44%|████▍     | 543/1229 [30:11<24:32,  2.15s/it]"
     ]
    },
    {
     "name": "stdout",
     "output_type": "stream",
     "text": [
      "ICFTU\n"
     ]
    },
    {
     "name": "stderr",
     "output_type": "stream",
     "text": [
      "\r",
      "Generating responses:  44%|████▍     | 544/1229 [30:13<23:01,  2.02s/it]"
     ]
    },
    {
     "name": "stdout",
     "output_type": "stream",
     "text": [
      "trade union, WTO\n"
     ]
    },
    {
     "name": "stderr",
     "output_type": "stream",
     "text": [
      "\r",
      "Generating responses:  44%|████▍     | 545/1229 [30:15<24:21,  2.14s/it]"
     ]
    },
    {
     "name": "stdout",
     "output_type": "stream",
     "text": [
      "WTO\n"
     ]
    },
    {
     "name": "stderr",
     "output_type": "stream",
     "text": [
      "\r",
      "Generating responses:  44%|████▍     | 546/1229 [30:17<21:20,  1.87s/it]"
     ]
    },
    {
     "name": "stdout",
     "output_type": "stream",
     "text": [
      "ICFTU, WTO\n"
     ]
    },
    {
     "name": "stderr",
     "output_type": "stream",
     "text": [
      "\r",
      "Generating responses:  45%|████▍     | 547/1229 [30:19<22:00,  1.94s/it]"
     ]
    },
    {
     "name": "stdout",
     "output_type": "stream",
     "text": [
      "ILO Workers Group, Reuters\n"
     ]
    },
    {
     "name": "stderr",
     "output_type": "stream",
     "text": [
      "\r",
      "Generating responses:  45%|████▍     | 548/1229 [30:21<22:48,  2.01s/it]"
     ]
    },
    {
     "name": "stdout",
     "output_type": "stream",
     "text": [
      "Association of Southeast Asian Nations (ASEAN), ILO\n"
     ]
    },
    {
     "name": "stderr",
     "output_type": "stream",
     "text": [
      "\r",
      "Generating responses:  45%|████▍     | 549/1229 [30:23<23:07,  2.04s/it]"
     ]
    },
    {
     "name": "stdout",
     "output_type": "stream",
     "text": [
      "ASEAN, Brunei, Indonesia, Malaysia, the Philippines, Singapore, Thailand, Vietnam\n"
     ]
    },
    {
     "name": "stderr",
     "output_type": "stream",
     "text": [
      "\r",
      "Generating responses:  45%|████▍     | 550/1229 [30:26<25:48,  2.28s/it]"
     ]
    },
    {
     "name": "stdout",
     "output_type": "stream",
     "text": [
      "ILO, WTO\n"
     ]
    },
    {
     "name": "stderr",
     "output_type": "stream",
     "text": [
      "\r",
      "Generating responses:  45%|████▍     | 551/1229 [30:28<23:57,  2.12s/it]"
     ]
    },
    {
     "name": "stdout",
     "output_type": "stream",
     "text": [
      "ICFTU, WTO\n"
     ]
    },
    {
     "name": "stderr",
     "output_type": "stream",
     "text": [
      "\r",
      "Generating responses:  45%|████▍     | 552/1229 [30:30<23:12,  2.06s/it]"
     ]
    },
    {
     "name": "stdout",
     "output_type": "stream",
     "text": [
      "WTO, ILO\n"
     ]
    },
    {
     "name": "stderr",
     "output_type": "stream",
     "text": [
      "\r",
      "Generating responses:  45%|████▍     | 553/1229 [30:31<22:36,  2.01s/it]"
     ]
    },
    {
     "name": "stdout",
     "output_type": "stream",
     "text": [
      "Rubber Board of India\n"
     ]
    },
    {
     "name": "stderr",
     "output_type": "stream",
     "text": [
      "\r",
      "Generating responses:  45%|████▌     | 554/1229 [30:34<23:19,  2.07s/it]"
     ]
    },
    {
     "name": "stdout",
     "output_type": "stream",
     "text": [
      "Rubber Board\n"
     ]
    },
    {
     "name": "stderr",
     "output_type": "stream",
     "text": [
      "\r",
      "Generating responses:  45%|████▌     | 555/1229 [30:35<21:22,  1.90s/it]"
     ]
    },
    {
     "name": "stdout",
     "output_type": "stream",
     "text": [
      "Singapore Newsroom\n"
     ]
    },
    {
     "name": "stderr",
     "output_type": "stream",
     "text": [
      "\r",
      "Generating responses:  45%|████▌     | 556/1229 [30:37<22:13,  1.98s/it]"
     ]
    },
    {
     "name": "stdout",
     "output_type": "stream",
     "text": [
      "BOJ\n"
     ]
    },
    {
     "name": "stderr",
     "output_type": "stream",
     "text": [
      "\r",
      "Generating responses:  45%|████▌     | 557/1229 [30:39<21:39,  1.93s/it]"
     ]
    },
    {
     "name": "stdout",
     "output_type": "stream",
     "text": [
      "Finance Ministry\n"
     ]
    },
    {
     "name": "stderr",
     "output_type": "stream",
     "text": [
      "\r",
      "Generating responses:  45%|████▌     | 558/1229 [30:41<20:10,  1.80s/it]"
     ]
    },
    {
     "name": "stdout",
     "output_type": "stream",
     "text": [
      "U.S. Treasury, Sumitomo Bank\n"
     ]
    },
    {
     "name": "stderr",
     "output_type": "stream",
     "text": [
      "\r",
      "Generating responses:  45%|████▌     | 559/1229 [30:43<21:45,  1.95s/it]"
     ]
    },
    {
     "name": "stdout",
     "output_type": "stream",
     "text": [
      "Sumitomo\n"
     ]
    },
    {
     "name": "stderr",
     "output_type": "stream",
     "text": [
      "\r",
      "Generating responses:  46%|████▌     | 560/1229 [30:45<23:01,  2.07s/it]"
     ]
    },
    {
     "name": "stdout",
     "output_type": "stream",
     "text": [
      "Union Bank of Switzerland\n"
     ]
    },
    {
     "name": "stderr",
     "output_type": "stream",
     "text": [
      "\r",
      "Generating responses:  46%|████▌     | 561/1229 [30:47<21:59,  1.97s/it]"
     ]
    },
    {
     "name": "stdout",
     "output_type": "stream",
     "text": [
      "ministry, International Finance Bureau\n"
     ]
    },
    {
     "name": "stderr",
     "output_type": "stream",
     "text": [
      "\r",
      "Generating responses:  46%|████▌     | 562/1229 [30:49<21:38,  1.95s/it]"
     ]
    },
    {
     "name": "stdout",
     "output_type": "stream",
     "text": [
      "BOJ\n"
     ]
    },
    {
     "name": "stderr",
     "output_type": "stream",
     "text": [
      "\r",
      "Generating responses:  46%|████▌     | 563/1229 [30:51<22:13,  2.00s/it]"
     ]
    },
    {
     "name": "stdout",
     "output_type": "stream",
     "text": [
      "Matsushita, Nihon Keizai Shimbun\n"
     ]
    },
    {
     "name": "stderr",
     "output_type": "stream",
     "text": [
      "\r",
      "Generating responses:  46%|████▌     | 564/1229 [30:53<22:51,  2.06s/it]"
     ]
    },
    {
     "name": "stdout",
     "output_type": "stream",
     "text": [
      "Toyo Trust & Banking Co.\n"
     ]
    },
    {
     "name": "stderr",
     "output_type": "stream",
     "text": [
      "\r",
      "Generating responses:  46%|████▌     | 565/1229 [30:55<22:43,  2.05s/it]"
     ]
    },
    {
     "name": "stdout",
     "output_type": "stream",
     "text": [
      "BOJ, Credit Suisse\n"
     ]
    },
    {
     "name": "stderr",
     "output_type": "stream",
     "text": [
      "\r",
      "Generating responses:  46%|████▌     | 566/1229 [30:58<24:28,  2.21s/it]"
     ]
    },
    {
     "name": "stdout",
     "output_type": "stream",
     "text": [
      "BOJ\n"
     ]
    },
    {
     "name": "stderr",
     "output_type": "stream",
     "text": [
      "\r",
      "Generating responses:  46%|████▌     | 567/1229 [30:59<21:10,  1.92s/it]"
     ]
    },
    {
     "name": "stdout",
     "output_type": "stream",
     "text": [
      "BOJ, Reuters\n"
     ]
    },
    {
     "name": "stderr",
     "output_type": "stream",
     "text": [
      "\r",
      "Generating responses:  46%|████▌     | 568/1229 [31:01<22:22,  2.03s/it]"
     ]
    },
    {
     "name": "stdout",
     "output_type": "stream",
     "text": [
      "no_orgs\n"
     ]
    },
    {
     "name": "stderr",
     "output_type": "stream",
     "text": [
      "\r",
      "Generating responses:  46%|████▋     | 569/1229 [31:03<21:12,  1.93s/it]"
     ]
    },
    {
     "name": "stdout",
     "output_type": "stream",
     "text": [
      "General Antoine Lahd, South Lebanon Army (SLA), Israel, Lebanon\n"
     ]
    },
    {
     "name": "stderr",
     "output_type": "stream",
     "text": [
      "\r",
      "Generating responses:  46%|████▋     | 570/1229 [31:06<24:34,  2.24s/it]"
     ]
    },
    {
     "name": "stdout",
     "output_type": "stream",
     "text": [
      "SLA\n"
     ]
    },
    {
     "name": "stderr",
     "output_type": "stream",
     "text": [
      "\r",
      "Generating responses:  46%|████▋     | 571/1229 [31:08<23:57,  2.18s/it]"
     ]
    },
    {
     "name": "stdout",
     "output_type": "stream",
     "text": [
      "SLA\n"
     ]
    },
    {
     "name": "stderr",
     "output_type": "stream",
     "text": [
      "\r",
      "Generating responses:  47%|████▋     | 572/1229 [31:11<26:41,  2.44s/it]"
     ]
    },
    {
     "name": "stdout",
     "output_type": "stream",
     "text": [
      "Israel, Lahd, SLA, Jewish states\n"
     ]
    },
    {
     "name": "stderr",
     "output_type": "stream",
     "text": [
      "\r",
      "Generating responses:  47%|████▋     | 573/1229 [31:14<28:29,  2.61s/it]"
     ]
    },
    {
     "name": "stdout",
     "output_type": "stream",
     "text": [
      "SLA, Lebanese army\n"
     ]
    },
    {
     "name": "stderr",
     "output_type": "stream",
     "text": [
      "\r",
      "Generating responses:  47%|████▋     | 574/1229 [31:16<27:01,  2.48s/it]"
     ]
    },
    {
     "name": "stdout",
     "output_type": "stream",
     "text": [
      "Shimon Peres, SLA\n"
     ]
    },
    {
     "name": "stderr",
     "output_type": "stream",
     "text": [
      "\r",
      "Generating responses:  47%|████▋     | 575/1229 [31:19<26:29,  2.43s/it]"
     ]
    },
    {
     "name": "stdout",
     "output_type": "stream",
     "text": [
      "Peres, Benjamin Netanyahu, SLA\n"
     ]
    },
    {
     "name": "stderr",
     "output_type": "stream",
     "text": [
      "\r",
      "Generating responses:  47%|████▋     | 576/1229 [31:21<27:15,  2.50s/it]"
     ]
    },
    {
     "name": "stdout",
     "output_type": "stream",
     "text": [
      "Guardians of the Cedars\n"
     ]
    },
    {
     "name": "stderr",
     "output_type": "stream",
     "text": [
      "\r",
      "Generating responses:  47%|████▋     | 577/1229 [31:24<27:10,  2.50s/it]"
     ]
    },
    {
     "name": "stdout",
     "output_type": "stream",
     "text": [
      "USDA\n"
     ]
    },
    {
     "name": "stderr",
     "output_type": "stream",
     "text": [
      "\r",
      "Generating responses:  47%|████▋     | 578/1229 [31:25<23:35,  2.17s/it]"
     ]
    },
    {
     "name": "stdout",
     "output_type": "stream",
     "text": [
      "USDA\n"
     ]
    },
    {
     "name": "stderr",
     "output_type": "stream",
     "text": [
      "\r",
      "Generating responses:  47%|████▋     | 579/1229 [31:27<23:35,  2.18s/it]"
     ]
    },
    {
     "name": "stdout",
     "output_type": "stream",
     "text": [
      "USDA\n"
     ]
    },
    {
     "name": "stderr",
     "output_type": "stream",
     "text": [
      "\r",
      "Generating responses:  47%|████▋     | 580/1229 [31:30<23:11,  2.14s/it]"
     ]
    },
    {
     "name": "stdout",
     "output_type": "stream",
     "text": [
      "USDA\n"
     ]
    },
    {
     "name": "stderr",
     "output_type": "stream",
     "text": [
      "\r",
      "Generating responses:  47%|████▋     | 581/1229 [31:31<21:48,  2.02s/it]"
     ]
    },
    {
     "name": "stdout",
     "output_type": "stream",
     "text": [
      "no_orgs\n"
     ]
    },
    {
     "name": "stderr",
     "output_type": "stream",
     "text": [
      "\r",
      "Generating responses:  47%|████▋     | 582/1229 [31:33<20:06,  1.87s/it]"
     ]
    },
    {
     "name": "stdout",
     "output_type": "stream",
     "text": [
      "MOODY'S, S&P\n"
     ]
    },
    {
     "name": "stderr",
     "output_type": "stream",
     "text": [
      "\r",
      "Generating responses:  47%|████▋     | 583/1229 [31:35<20:11,  1.88s/it]"
     ]
    },
    {
     "name": "stdout",
     "output_type": "stream",
     "text": [
      "FSA\n"
     ]
    },
    {
     "name": "stderr",
     "output_type": "stream",
     "text": [
      "\r",
      "Generating responses:  48%|████▊     | 584/1229 [31:36<18:46,  1.75s/it]"
     ]
    },
    {
     "name": "stdout",
     "output_type": "stream",
     "text": [
      "State Street Bank and Trust Company\n"
     ]
    },
    {
     "name": "stderr",
     "output_type": "stream",
     "text": [
      "\r",
      "Generating responses:  48%|████▊     | 585/1229 [31:38<19:29,  1.82s/it]"
     ]
    },
    {
     "name": "stdout",
     "output_type": "stream",
     "text": [
      "Prudential Securities Incorporated\n"
     ]
    },
    {
     "name": "stderr",
     "output_type": "stream",
     "text": [
      "\r",
      "Generating responses:  48%|████▊     | 586/1229 [31:40<19:32,  1.82s/it]"
     ]
    },
    {
     "name": "stdout",
     "output_type": "stream",
     "text": [
      "PaineWebber Incorporated\n"
     ]
    },
    {
     "name": "stderr",
     "output_type": "stream",
     "text": [
      "\r",
      "Generating responses:  48%|████▊     | 587/1229 [31:42<19:15,  1.80s/it]"
     ]
    },
    {
     "name": "stdout",
     "output_type": "stream",
     "text": [
      "First Union Capital Markets Corp.\n"
     ]
    },
    {
     "name": "stderr",
     "output_type": "stream",
     "text": [
      "\r",
      "Generating responses:  48%|████▊     | 588/1229 [31:44<20:40,  1.94s/it]"
     ]
    },
    {
     "name": "stdout",
     "output_type": "stream",
     "text": [
      "U.S. Municipal Desk\n"
     ]
    },
    {
     "name": "stderr",
     "output_type": "stream",
     "text": [
      "\r",
      "Generating responses:  48%|████▊     | 589/1229 [31:46<21:04,  1.98s/it]"
     ]
    },
    {
     "name": "stdout",
     "output_type": "stream",
     "text": [
      "Department of Corrections\n"
     ]
    },
    {
     "name": "stderr",
     "output_type": "stream",
     "text": [
      "\r",
      "Generating responses:  48%|████▊     | 590/1229 [31:47<19:02,  1.79s/it]"
     ]
    },
    {
     "name": "stdout",
     "output_type": "stream",
     "text": [
      "Florida, U.S. Supreme Court\n"
     ]
    },
    {
     "name": "stderr",
     "output_type": "stream",
     "text": [
      "\r",
      "Generating responses:  48%|████▊     | 591/1229 [31:49<20:00,  1.88s/it]"
     ]
    },
    {
     "name": "stdout",
     "output_type": "stream",
     "text": [
      "Florida Supreme Court\n"
     ]
    },
    {
     "name": "stderr",
     "output_type": "stream",
     "text": [
      "\r",
      "Generating responses:  48%|████▊     | 592/1229 [31:51<19:55,  1.88s/it]"
     ]
    },
    {
     "name": "stdout",
     "output_type": "stream",
     "text": [
      "Error generating response for prompt at index 592: That model is currently overloaded with other requests. You can retry your request, or contact us through our help center at help.openai.com if the error persists. (Please include the request ID 69601dea41ec819999801e74e19ff2d6 in your message.)\n",
      "Query: I need you to show me organisations in the provided sentence. Do not show me any other entity types.\n",
      "    ###\n",
      "    Desired response format: ###\n",
      "    org1, org2, org3\n",
      "    ###\n",
      "    Desired response if no organisations found: ###\n",
      "    no_orgs\n",
      "    ###\n",
      "    For example, if I gave you: ###\n",
      "    \"James, living in Japan, missed his club 's last two games after FIFA slapped a worldwide ban on him for appearing to sign contracts for both Wednesday and Udinese while he was playing for Feyenoord .\",\n",
      "    you would only give me:\n",
      "    FIFA, Wednesday, Udinese, Feyenoord\n",
      "    ###\n",
      "    The provided sentence is: ###\n",
      "    On Thursday , the 11th Circuit U.S. Court of Appeals in Atlanta denied his appeal in federal court .\n",
      "    ###\n",
      "    \n",
      "Retrying in 5 seconds...\n",
      "11th Circuit U.S. Court of Appeals\n"
     ]
    },
    {
     "name": "stderr",
     "output_type": "stream",
     "text": [
      "\r",
      "Generating responses:  48%|████▊     | 593/1229 [32:30<2:15:29, 12.78s/it]"
     ]
    },
    {
     "name": "stdout",
     "output_type": "stream",
     "text": [
      "New York Commodities Desk\n"
     ]
    },
    {
     "name": "stderr",
     "output_type": "stream",
     "text": [
      "\r",
      "Generating responses:  48%|████▊     | 594/1229 [32:31<1:39:51,  9.44s/it]"
     ]
    },
    {
     "name": "stdout",
     "output_type": "stream",
     "text": [
      "USDA\n"
     ]
    },
    {
     "name": "stderr",
     "output_type": "stream",
     "text": [
      "\r",
      "Generating responses:  48%|████▊     | 595/1229 [32:33<1:14:41,  7.07s/it]"
     ]
    },
    {
     "name": "stdout",
     "output_type": "stream",
     "text": [
      "no_orgs\n"
     ]
    },
    {
     "name": "stderr",
     "output_type": "stream",
     "text": [
      "\r",
      "Generating responses:  48%|████▊     | 596/1229 [32:35<59:11,  5.61s/it]  "
     ]
    },
    {
     "name": "stdout",
     "output_type": "stream",
     "text": [
      "Error generating response for prompt at index 596: That model is currently overloaded with other requests. You can retry your request, or contact us through our help center at help.openai.com if the error persists. (Please include the request ID 5cd664bc5f03bab1e049e0f02a9dc7a4 in your message.)\n",
      "Query: I need you to show me organisations in the provided sentence. Do not show me any other entity types.\n",
      "    ###\n",
      "    Desired response format: ###\n",
      "    org1, org2, org3\n",
      "    ###\n",
      "    Desired response if no organisations found: ###\n",
      "    no_orgs\n",
      "    ###\n",
      "    For example, if I gave you: ###\n",
      "    \"James, living in Japan, missed his club 's last two games after FIFA slapped a worldwide ban on him for appearing to sign contracts for both Wednesday and Udinese while he was playing for Feyenoord .\",\n",
      "    you would only give me:\n",
      "    FIFA, Wednesday, Udinese, Feyenoord\n",
      "    ###\n",
      "    The provided sentence is: ###\n",
      "    - Canadian Grain Commission\n",
      "    ###\n",
      "    \n",
      "Retrying in 5 seconds...\n",
      "Canadian Grain Commission\n"
     ]
    },
    {
     "name": "stderr",
     "output_type": "stream",
     "text": [
      "\r",
      "Generating responses:  49%|████▊     | 597/1229 [33:12<2:37:35, 14.96s/it]"
     ]
    },
    {
     "name": "stdout",
     "output_type": "stream",
     "text": [
      "Statistics Canada\n"
     ]
    },
    {
     "name": "stderr",
     "output_type": "stream",
     "text": [
      "\r",
      "Generating responses:  49%|████▊     | 598/1229 [33:14<1:56:59, 11.12s/it]"
     ]
    },
    {
     "name": "stdout",
     "output_type": "stream",
     "text": [
      "NYMEX\n"
     ]
    },
    {
     "name": "stderr",
     "output_type": "stream",
     "text": [
      "\r",
      "Generating responses:  49%|████▊     | 599/1229 [33:17<1:32:30,  8.81s/it]"
     ]
    },
    {
     "name": "stdout",
     "output_type": "stream",
     "text": [
      "NYMEX, Henry Hub, National Weather Service\n"
     ]
    },
    {
     "name": "stderr",
     "output_type": "stream",
     "text": [
      "\r",
      "Generating responses:  49%|████▉     | 600/1229 [33:20<1:11:46,  6.85s/it]"
     ]
    },
    {
     "name": "stdout",
     "output_type": "stream",
     "text": [
      "National Weather Service\n"
     ]
    },
    {
     "name": "stderr",
     "output_type": "stream",
     "text": [
      "\r",
      "Generating responses:  49%|████▉     | 601/1229 [33:21<55:49,  5.33s/it]  "
     ]
    },
    {
     "name": "stdout",
     "output_type": "stream",
     "text": [
      "NWS\n"
     ]
    },
    {
     "name": "stderr",
     "output_type": "stream",
     "text": [
      "\r",
      "Generating responses:  49%|████▉     | 602/1229 [33:24<46:15,  4.43s/it]"
     ]
    },
    {
     "name": "stdout",
     "output_type": "stream",
     "text": [
      "NYMEX, Hub\n"
     ]
    },
    {
     "name": "stderr",
     "output_type": "stream",
     "text": [
      "\r",
      "Generating responses:  49%|████▉     | 603/1229 [33:26<38:40,  3.71s/it]"
     ]
    },
    {
     "name": "stdout",
     "output_type": "stream",
     "text": [
      "NYMEX\n"
     ]
    },
    {
     "name": "stderr",
     "output_type": "stream",
     "text": [
      "\r",
      "Generating responses:  49%|████▉     | 604/1229 [33:27<31:54,  3.06s/it]"
     ]
    },
    {
     "name": "stdout",
     "output_type": "stream",
     "text": [
      "AECO\n"
     ]
    },
    {
     "name": "stderr",
     "output_type": "stream",
     "text": [
      "\r",
      "Generating responses:  49%|████▉     | 605/1229 [33:29<26:47,  2.58s/it]"
     ]
    },
    {
     "name": "stdout",
     "output_type": "stream",
     "text": [
      "NYMEX\n"
     ]
    },
    {
     "name": "stderr",
     "output_type": "stream",
     "text": [
      "\r",
      "Generating responses:  49%|████▉     | 606/1229 [33:30<23:16,  2.24s/it]"
     ]
    },
    {
     "name": "stdout",
     "output_type": "stream",
     "text": [
      "KCBT\n"
     ]
    },
    {
     "name": "stderr",
     "output_type": "stream",
     "text": [
      "\r",
      "Generating responses:  49%|████▉     | 607/1229 [33:32<21:06,  2.04s/it]"
     ]
    },
    {
     "name": "stdout",
     "output_type": "stream",
     "text": [
      "NYMEX\n"
     ]
    },
    {
     "name": "stderr",
     "output_type": "stream",
     "text": [
      "\r",
      "Generating responses:  49%|████▉     | 608/1229 [33:33<19:13,  1.86s/it]"
     ]
    },
    {
     "name": "stdout",
     "output_type": "stream",
     "text": [
      "New York Power Desk\n"
     ]
    },
    {
     "name": "stderr",
     "output_type": "stream",
     "text": [
      "\r",
      "Generating responses:  50%|████▉     | 609/1229 [33:35<17:58,  1.74s/it]"
     ]
    },
    {
     "name": "stdout",
     "output_type": "stream",
     "text": [
      "CBOT\n"
     ]
    },
    {
     "name": "stderr",
     "output_type": "stream",
     "text": [
      "\r",
      "Generating responses:  50%|████▉     | 610/1229 [33:36<17:31,  1.70s/it]"
     ]
    },
    {
     "name": "stdout",
     "output_type": "stream",
     "text": [
      "Chicago Board of Trade\n"
     ]
    },
    {
     "name": "stderr",
     "output_type": "stream",
     "text": [
      "\r",
      "Generating responses:  50%|████▉     | 611/1229 [33:38<18:15,  1.77s/it]"
     ]
    },
    {
     "name": "stdout",
     "output_type": "stream",
     "text": [
      "Chicago Newsdesk\n"
     ]
    },
    {
     "name": "stderr",
     "output_type": "stream",
     "text": [
      "\r",
      "Generating responses:  50%|████▉     | 612/1229 [33:40<19:50,  1.93s/it]"
     ]
    },
    {
     "name": "stdout",
     "output_type": "stream",
     "text": [
      "Action Performance Cos Inc, Motorsport Traditions Ltd, Creative Marketing & Promotions Inc\n"
     ]
    },
    {
     "name": "stderr",
     "output_type": "stream",
     "text": [
      "\r",
      "Generating responses:  50%|████▉     | 613/1229 [33:43<22:27,  2.19s/it]"
     ]
    },
    {
     "name": "stdout",
     "output_type": "stream",
     "text": [
      "Glencoe Animal Hospital, Columbus, American Veterinary Medical Association\n"
     ]
    },
    {
     "name": "stderr",
     "output_type": "stream",
     "text": [
      "\r",
      "Generating responses:  50%|████▉     | 614/1229 [33:46<24:39,  2.41s/it]"
     ]
    },
    {
     "name": "stdout",
     "output_type": "stream",
     "text": [
      "National Animal Control Association\n"
     ]
    },
    {
     "name": "stderr",
     "output_type": "stream",
     "text": [
      "\r",
      "Generating responses:  50%|█████     | 615/1229 [33:48<22:21,  2.19s/it]"
     ]
    },
    {
     "name": "stdout",
     "output_type": "stream",
     "text": [
      "USDA\n"
     ]
    },
    {
     "name": "stderr",
     "output_type": "stream",
     "text": [
      "\r",
      "Generating responses:  50%|█████     | 616/1229 [33:49<19:59,  1.96s/it]"
     ]
    },
    {
     "name": "stdout",
     "output_type": "stream",
     "text": [
      "USDA\n"
     ]
    },
    {
     "name": "stderr",
     "output_type": "stream",
     "text": [
      "\r",
      "Generating responses:  50%|█████     | 617/1229 [33:51<18:31,  1.82s/it]"
     ]
    },
    {
     "name": "stdout",
     "output_type": "stream",
     "text": [
      "USDA\n"
     ]
    },
    {
     "name": "stderr",
     "output_type": "stream",
     "text": [
      "\r",
      "Generating responses:  50%|█████     | 618/1229 [33:53<19:11,  1.88s/it]"
     ]
    },
    {
     "name": "stdout",
     "output_type": "stream",
     "text": [
      "USDA\n"
     ]
    },
    {
     "name": "stderr",
     "output_type": "stream",
     "text": [
      "\r",
      "Generating responses:  50%|█████     | 619/1229 [33:54<18:28,  1.82s/it]"
     ]
    },
    {
     "name": "stdout",
     "output_type": "stream",
     "text": [
      "U.N.\n"
     ]
    },
    {
     "name": "stderr",
     "output_type": "stream",
     "text": [
      "\r",
      "Generating responses:  50%|█████     | 620/1229 [33:56<19:12,  1.89s/it]"
     ]
    },
    {
     "name": "stdout",
     "output_type": "stream",
     "text": [
      "UNITED NATIONS\n"
     ]
    },
    {
     "name": "stderr",
     "output_type": "stream",
     "text": [
      "\r",
      "Generating responses:  51%|█████     | 621/1229 [33:58<18:38,  1.84s/it]"
     ]
    },
    {
     "name": "stdout",
     "output_type": "stream",
     "text": [
      "U.N.\n"
     ]
    },
    {
     "name": "stderr",
     "output_type": "stream",
     "text": [
      "\r",
      "Generating responses:  51%|█████     | 622/1229 [34:00<18:43,  1.85s/it]"
     ]
    },
    {
     "name": "stdout",
     "output_type": "stream",
     "text": [
      "Kofi Annan, U.N., Ahmedou Ould Abdallah, U.N., Burundi, Amara Essy, Ivory Coast, U.N. General Assembly, Hamid Algabid, Organisation of the Islamic Conference\n"
     ]
    },
    {
     "name": "stderr",
     "output_type": "stream",
     "text": [
      "\r",
      "Generating responses:  51%|█████     | 623/1229 [34:06<30:29,  3.02s/it]"
     ]
    },
    {
     "name": "stdout",
     "output_type": "stream",
     "text": [
      "U.N., Ghana, Ivory Coast, Mauritania, Niger, Security Council, Italy\n"
     ]
    },
    {
     "name": "stderr",
     "output_type": "stream",
     "text": [
      "\r",
      "Generating responses:  51%|█████     | 624/1229 [34:09<30:39,  3.04s/it]"
     ]
    },
    {
     "name": "stdout",
     "output_type": "stream",
     "text": [
      "Nigeria, U.N., General Assembly\n"
     ]
    },
    {
     "name": "stderr",
     "output_type": "stream",
     "text": [
      "\r",
      "Generating responses:  51%|█████     | 625/1229 [34:11<27:36,  2.74s/it]"
     ]
    },
    {
     "name": "stdout",
     "output_type": "stream",
     "text": [
      "United States, Security Council\n"
     ]
    },
    {
     "name": "stderr",
     "output_type": "stream",
     "text": [
      "\r",
      "Generating responses:  51%|█████     | 626/1229 [34:13<24:19,  2.42s/it]"
     ]
    },
    {
     "name": "stdout",
     "output_type": "stream",
     "text": [
      "Security Council, General Assembly, Boutros-Ghali\n"
     ]
    },
    {
     "name": "stderr",
     "output_type": "stream",
     "text": [
      "\r",
      "Generating responses:  51%|█████     | 627/1229 [34:15<23:11,  2.31s/it]"
     ]
    },
    {
     "name": "stdout",
     "output_type": "stream",
     "text": [
      "Herri Batasuna, ETA\n"
     ]
    },
    {
     "name": "stderr",
     "output_type": "stream",
     "text": [
      "\r",
      "Generating responses:  51%|█████     | 628/1229 [34:17<23:17,  2.33s/it]"
     ]
    },
    {
     "name": "stdout",
     "output_type": "stream",
     "text": [
      "National Alliance (AN)\n"
     ]
    },
    {
     "name": "stderr",
     "output_type": "stream",
     "text": [
      "\r",
      "Generating responses:  51%|█████     | 629/1229 [34:20<25:31,  2.55s/it]"
     ]
    },
    {
     "name": "stdout",
     "output_type": "stream",
     "text": [
      "AN\n"
     ]
    },
    {
     "name": "stderr",
     "output_type": "stream",
     "text": [
      "\r",
      "Generating responses:  51%|█████▏    | 630/1229 [34:21<21:34,  2.16s/it]"
     ]
    },
    {
     "name": "stdout",
     "output_type": "stream",
     "text": [
      "AN, RAI, Chamber of Deputies\n"
     ]
    },
    {
     "name": "stderr",
     "output_type": "stream",
     "text": [
      "\r",
      "Generating responses:  51%|█████▏    | 631/1229 [34:24<24:14,  2.43s/it]"
     ]
    },
    {
     "name": "stdout",
     "output_type": "stream",
     "text": [
      "AN\n"
     ]
    },
    {
     "name": "stderr",
     "output_type": "stream",
     "text": [
      "\r",
      "Generating responses:  51%|█████▏    | 632/1229 [34:27<23:08,  2.33s/it]"
     ]
    },
    {
     "name": "stdout",
     "output_type": "stream",
     "text": [
      "AN, La Stampa, MS-Fiamma, Social Movement\n"
     ]
    },
    {
     "name": "stderr",
     "output_type": "stream",
     "text": [
      "\r",
      "Generating responses:  52%|█████▏    | 633/1229 [34:29<23:24,  2.36s/it]"
     ]
    },
    {
     "name": "stdout",
     "output_type": "stream",
     "text": [
      "Italian upper house Senate budget commission\n"
     ]
    },
    {
     "name": "stderr",
     "output_type": "stream",
     "text": [
      "\r",
      "Generating responses:  52%|█████▏    | 634/1229 [34:31<21:50,  2.20s/it]"
     ]
    },
    {
     "name": "stdout",
     "output_type": "stream",
     "text": [
      "Senate\n"
     ]
    },
    {
     "name": "stderr",
     "output_type": "stream",
     "text": [
      "\r",
      "Generating responses:  52%|█████▏    | 635/1229 [34:32<20:19,  2.05s/it]"
     ]
    },
    {
     "name": "stdout",
     "output_type": "stream",
     "text": [
      "EU, Poland\n"
     ]
    },
    {
     "name": "stderr",
     "output_type": "stream",
     "text": [
      "\r",
      "Generating responses:  52%|█████▏    | 636/1229 [34:34<18:20,  1.86s/it]"
     ]
    },
    {
     "name": "stdout",
     "output_type": "stream",
     "text": [
      "The European Union, Poland, European Commission\n"
     ]
    },
    {
     "name": "stderr",
     "output_type": "stream",
     "text": [
      "\r",
      "Generating responses:  52%|█████▏    | 637/1229 [34:37<20:37,  2.09s/it]"
     ]
    },
    {
     "name": "stdout",
     "output_type": "stream",
     "text": [
      "EU, Poland\n"
     ]
    },
    {
     "name": "stderr",
     "output_type": "stream",
     "text": [
      "\r",
      "Generating responses:  52%|█████▏    | 638/1229 [34:39<21:14,  2.16s/it]"
     ]
    },
    {
     "name": "stdout",
     "output_type": "stream",
     "text": [
      "EU, Poland\n"
     ]
    },
    {
     "name": "stderr",
     "output_type": "stream",
     "text": [
      "\r",
      "Generating responses:  52%|█████▏    | 639/1229 [34:41<21:41,  2.21s/it]"
     ]
    },
    {
     "name": "stdout",
     "output_type": "stream",
     "text": [
      "EU, Poland\n"
     ]
    },
    {
     "name": "stderr",
     "output_type": "stream",
     "text": [
      "\r",
      "Generating responses:  52%|█████▏    | 640/1229 [34:43<21:59,  2.24s/it]"
     ]
    },
    {
     "name": "stdout",
     "output_type": "stream",
     "text": [
      "Bharatiya Janata Party (BJP)\n"
     ]
    },
    {
     "name": "stderr",
     "output_type": "stream",
     "text": [
      "\r",
      "Generating responses:  52%|█████▏    | 641/1229 [34:46<22:57,  2.34s/it]"
     ]
    },
    {
     "name": "stdout",
     "output_type": "stream",
     "text": [
      "BJP, Suraj Bhan\n"
     ]
    },
    {
     "name": "stderr",
     "output_type": "stream",
     "text": [
      "\r",
      "Generating responses:  52%|█████▏    | 642/1229 [34:49<24:15,  2.48s/it]"
     ]
    },
    {
     "name": "stdout",
     "output_type": "stream",
     "text": [
      "BJP\n"
     ]
    },
    {
     "name": "stderr",
     "output_type": "stream",
     "text": [
      "\r",
      "Generating responses:  52%|█████▏    | 643/1229 [34:50<21:08,  2.16s/it]"
     ]
    },
    {
     "name": "stdout",
     "output_type": "stream",
     "text": [
      "BJP\n"
     ]
    },
    {
     "name": "stderr",
     "output_type": "stream",
     "text": [
      "\r",
      "Generating responses:  52%|█████▏    | 644/1229 [34:53<21:23,  2.19s/it]"
     ]
    },
    {
     "name": "stdout",
     "output_type": "stream",
     "text": [
      "Brussels Newsroom\n"
     ]
    },
    {
     "name": "stderr",
     "output_type": "stream",
     "text": [
      "\r",
      "Generating responses:  52%|█████▏    | 645/1229 [34:55<21:36,  2.22s/it]"
     ]
    },
    {
     "name": "stdout",
     "output_type": "stream",
     "text": [
      "COAL, Hay Point, Newcastle, Kaohsiung, China Steel\n"
     ]
    },
    {
     "name": "stderr",
     "output_type": "stream",
     "text": [
      "\r",
      "Generating responses:  53%|█████▎    | 646/1229 [34:58<23:43,  2.44s/it]"
     ]
    },
    {
     "name": "stdout",
     "output_type": "stream",
     "text": [
      "Royal Clipper, Coe, Clerici\n"
     ]
    },
    {
     "name": "stderr",
     "output_type": "stream",
     "text": [
      "\r",
      "Generating responses:  53%|█████▎    | 647/1229 [35:00<23:30,  2.42s/it]"
     ]
    },
    {
     "name": "stdout",
     "output_type": "stream",
     "text": [
      "ORE, IMC, TBN, Dampier, Kaohsiung, China Steel\n"
     ]
    },
    {
     "name": "stderr",
     "output_type": "stream",
     "text": [
      "\r",
      "Generating responses:  53%|█████▎    | 648/1229 [35:04<26:47,  2.77s/it]"
     ]
    },
    {
     "name": "stdout",
     "output_type": "stream",
     "text": [
      "Labour\n"
     ]
    },
    {
     "name": "stderr",
     "output_type": "stream",
     "text": [
      "\r",
      "Generating responses:  53%|█████▎    | 649/1229 [35:05<23:01,  2.38s/it]"
     ]
    },
    {
     "name": "stdout",
     "output_type": "stream",
     "text": [
      "London Newsroom\n"
     ]
    },
    {
     "name": "stderr",
     "output_type": "stream",
     "text": [
      "\r",
      "Generating responses:  53%|█████▎    | 650/1229 [35:07<22:26,  2.33s/it]"
     ]
    },
    {
     "name": "stdout",
     "output_type": "stream",
     "text": [
      "Salomon\n"
     ]
    },
    {
     "name": "stderr",
     "output_type": "stream",
     "text": [
      "\r",
      "Generating responses:  53%|█████▎    | 651/1229 [35:09<21:24,  2.22s/it]"
     ]
    },
    {
     "name": "stdout",
     "output_type": "stream",
     "text": [
      "Salomon Brothers\n"
     ]
    },
    {
     "name": "stderr",
     "output_type": "stream",
     "text": [
      "\r",
      "Generating responses:  53%|█████▎    | 652/1229 [35:11<19:03,  1.98s/it]"
     ]
    },
    {
     "name": "stdout",
     "output_type": "stream",
     "text": [
      "Salomon Brothers\n"
     ]
    },
    {
     "name": "stderr",
     "output_type": "stream",
     "text": [
      "\r",
      "Generating responses:  53%|█████▎    | 653/1229 [35:12<17:09,  1.79s/it]"
     ]
    },
    {
     "name": "stdout",
     "output_type": "stream",
     "text": [
      "Salomon\n"
     ]
    },
    {
     "name": "stderr",
     "output_type": "stream",
     "text": [
      "\r",
      "Generating responses:  53%|█████▎    | 654/1229 [35:14<18:37,  1.94s/it]"
     ]
    },
    {
     "name": "stdout",
     "output_type": "stream",
     "text": [
      "International Bonds\n"
     ]
    },
    {
     "name": "stderr",
     "output_type": "stream",
     "text": [
      "\r",
      "Generating responses:  53%|█████▎    | 655/1229 [35:16<18:23,  1.92s/it]"
     ]
    },
    {
     "name": "stdout",
     "output_type": "stream",
     "text": [
      "OPEC\n"
     ]
    },
    {
     "name": "stderr",
     "output_type": "stream",
     "text": [
      "\r",
      "Generating responses:  53%|█████▎    | 656/1229 [35:18<17:29,  1.83s/it]"
     ]
    },
    {
     "name": "stdout",
     "output_type": "stream",
     "text": [
      "OPEC, OPECNA\n"
     ]
    },
    {
     "name": "stderr",
     "output_type": "stream",
     "text": [
      "\r",
      "Generating responses:  53%|█████▎    | 657/1229 [35:20<18:43,  1.96s/it]"
     ]
    },
    {
     "name": "stdout",
     "output_type": "stream",
     "text": [
      "London Newsroom\n"
     ]
    },
    {
     "name": "stderr",
     "output_type": "stream",
     "text": [
      "\r",
      "Generating responses:  54%|█████▎    | 658/1229 [35:23<19:51,  2.09s/it]"
     ]
    },
    {
     "name": "stdout",
     "output_type": "stream",
     "text": [
      "PLO\n"
     ]
    },
    {
     "name": "stderr",
     "output_type": "stream",
     "text": [
      "\r",
      "Generating responses:  54%|█████▎    | 659/1229 [35:25<19:55,  2.10s/it]"
     ]
    },
    {
     "name": "stdout",
     "output_type": "stream",
     "text": [
      "PLO, Palestinian Authority, Israeli, Egyptian\n"
     ]
    },
    {
     "name": "stderr",
     "output_type": "stream",
     "text": [
      "\r",
      "Generating responses:  54%|█████▎    | 660/1229 [35:27<21:36,  2.28s/it]"
     ]
    },
    {
     "name": "stdout",
     "output_type": "stream",
     "text": [
      "President Mubarak, PLO, Reuters\n"
     ]
    },
    {
     "name": "stderr",
     "output_type": "stream",
     "text": [
      "\r",
      "Generating responses:  54%|█████▍    | 661/1229 [35:30<23:26,  2.48s/it]"
     ]
    },
    {
     "name": "stdout",
     "output_type": "stream",
     "text": [
      "The Palestine Liberation Organisation, PLO, Israel\n"
     ]
    },
    {
     "name": "stderr",
     "output_type": "stream",
     "text": [
      "\r",
      "Generating responses:  54%|█████▍    | 662/1229 [35:33<23:06,  2.45s/it]"
     ]
    },
    {
     "name": "stdout",
     "output_type": "stream",
     "text": [
      "Palestinian Authority\n"
     ]
    },
    {
     "name": "stderr",
     "output_type": "stream",
     "text": [
      "\r",
      "Generating responses:  54%|█████▍    | 663/1229 [35:35<22:28,  2.38s/it]"
     ]
    },
    {
     "name": "stdout",
     "output_type": "stream",
     "text": [
      "Reuters\n"
     ]
    },
    {
     "name": "stderr",
     "output_type": "stream",
     "text": [
      "\r",
      "Generating responses:  54%|█████▍    | 664/1229 [35:36<19:06,  2.03s/it]"
     ]
    },
    {
     "name": "stdout",
     "output_type": "stream",
     "text": [
      "Kurdistan Workers Party (PKK)\n"
     ]
    },
    {
     "name": "stderr",
     "output_type": "stream",
     "text": [
      "\r",
      "Generating responses:  54%|█████▍    | 665/1229 [35:38<19:43,  2.10s/it]"
     ]
    },
    {
     "name": "stdout",
     "output_type": "stream",
     "text": [
      "PKK, Syria\n"
     ]
    },
    {
     "name": "stderr",
     "output_type": "stream",
     "text": [
      "\r",
      "Generating responses:  54%|█████▍    | 666/1229 [35:41<19:53,  2.12s/it]"
     ]
    },
    {
     "name": "stdout",
     "output_type": "stream",
     "text": [
      "The PKK, Turkey, northern Iraq.\n"
     ]
    },
    {
     "name": "stderr",
     "output_type": "stream",
     "text": [
      "\r",
      "Generating responses:  54%|█████▍    | 667/1229 [35:43<20:49,  2.22s/it]"
     ]
    },
    {
     "name": "stdout",
     "output_type": "stream",
     "text": [
      "Kurdistan Workers Party (PKK)\n"
     ]
    },
    {
     "name": "stderr",
     "output_type": "stream",
     "text": [
      "\r",
      "Generating responses:  54%|█████▍    | 668/1229 [35:45<19:57,  2.14s/it]"
     ]
    },
    {
     "name": "stdout",
     "output_type": "stream",
     "text": [
      "Turkish security forces, PKK\n"
     ]
    },
    {
     "name": "stderr",
     "output_type": "stream",
     "text": [
      "\r",
      "Generating responses:  54%|█████▍    | 669/1229 [35:47<19:10,  2.05s/it]"
     ]
    },
    {
     "name": "stdout",
     "output_type": "stream",
     "text": [
      "USDA\n"
     ]
    },
    {
     "name": "stderr",
     "output_type": "stream",
     "text": [
      "\r",
      "Generating responses:  55%|█████▍    | 670/1229 [35:49<19:10,  2.06s/it]"
     ]
    },
    {
     "name": "stdout",
     "output_type": "stream",
     "text": [
      "USDA\n"
     ]
    },
    {
     "name": "stderr",
     "output_type": "stream",
     "text": [
      "\r",
      "Generating responses:  55%|█████▍    | 671/1229 [35:51<20:11,  2.17s/it]"
     ]
    },
    {
     "name": "stdout",
     "output_type": "stream",
     "text": [
      "USDA\n"
     ]
    },
    {
     "name": "stderr",
     "output_type": "stream",
     "text": [
      "\r",
      "Generating responses:  55%|█████▍    | 672/1229 [35:53<19:18,  2.08s/it]"
     ]
    },
    {
     "name": "stdout",
     "output_type": "stream",
     "text": [
      "USDA\n"
     ]
    },
    {
     "name": "stderr",
     "output_type": "stream",
     "text": [
      "\r",
      "Generating responses:  55%|█████▍    | 673/1229 [35:55<17:26,  1.88s/it]"
     ]
    },
    {
     "name": "stdout",
     "output_type": "stream",
     "text": [
      "Delphis Hanover\n"
     ]
    },
    {
     "name": "stderr",
     "output_type": "stream",
     "text": [
      "\r",
      "Generating responses:  55%|█████▍    | 674/1229 [35:57<17:46,  1.92s/it]"
     ]
    },
    {
     "name": "stdout",
     "output_type": "stream",
     "text": [
      "Delphis Hanover\n"
     ]
    },
    {
     "name": "stderr",
     "output_type": "stream",
     "text": [
      "\r",
      "Generating responses:  55%|█████▍    | 675/1229 [35:58<17:12,  1.86s/it]"
     ]
    },
    {
     "name": "stdout",
     "output_type": "stream",
     "text": [
      "U.S. Municipal Desk\n"
     ]
    },
    {
     "name": "stderr",
     "output_type": "stream",
     "text": [
      "\r",
      "Generating responses:  55%|█████▌    | 676/1229 [36:01<17:58,  1.95s/it]"
     ]
    },
    {
     "name": "stdout",
     "output_type": "stream",
     "text": [
      "no_orgs\n"
     ]
    },
    {
     "name": "stderr",
     "output_type": "stream",
     "text": [
      "\r",
      "Generating responses:  55%|█████▌    | 677/1229 [36:03<18:32,  2.02s/it]"
     ]
    },
    {
     "name": "stdout",
     "output_type": "stream",
     "text": [
      "NYMEX\n"
     ]
    },
    {
     "name": "stderr",
     "output_type": "stream",
     "text": [
      "\r",
      "Generating responses:  55%|█████▌    | 678/1229 [36:04<16:59,  1.85s/it]"
     ]
    },
    {
     "name": "stdout",
     "output_type": "stream",
     "text": [
      "NYMEX\n"
     ]
    },
    {
     "name": "stderr",
     "output_type": "stream",
     "text": [
      "\r",
      "Generating responses:  55%|█████▌    | 679/1229 [36:06<17:32,  1.91s/it]"
     ]
    },
    {
     "name": "stdout",
     "output_type": "stream",
     "text": [
      "State Department\n"
     ]
    },
    {
     "name": "stderr",
     "output_type": "stream",
     "text": [
      "\r",
      "Generating responses:  55%|█████▌    | 680/1229 [36:08<16:07,  1.76s/it]"
     ]
    },
    {
     "name": "stdout",
     "output_type": "stream",
     "text": [
      "Korydallos maximum security prison, Olympic Airways, Cairo, Tunis, Palestine Liberation Organisation\n"
     ]
    },
    {
     "name": "stderr",
     "output_type": "stream",
     "text": [
      "\r",
      "Generating responses:  55%|█████▌    | 681/1229 [36:10<18:49,  2.06s/it]"
     ]
    },
    {
     "name": "stdout",
     "output_type": "stream",
     "text": [
      "FBI, Pan American, TWA\n"
     ]
    },
    {
     "name": "stderr",
     "output_type": "stream",
     "text": [
      "\r",
      "Generating responses:  55%|█████▌    | 682/1229 [36:13<19:56,  2.19s/it]"
     ]
    },
    {
     "name": "stdout",
     "output_type": "stream",
     "text": [
      "St Pius X High School, Albuquerque\n"
     ]
    },
    {
     "name": "stderr",
     "output_type": "stream",
     "text": [
      "\r",
      "Generating responses:  56%|█████▌    | 683/1229 [36:16<22:19,  2.45s/it]"
     ]
    },
    {
     "name": "stdout",
     "output_type": "stream",
     "text": [
      "New Mexico Activities Association\n"
     ]
    },
    {
     "name": "stderr",
     "output_type": "stream",
     "text": [
      "\r",
      "Generating responses:  56%|█████▌    | 684/1229 [36:18<21:38,  2.38s/it]"
     ]
    },
    {
     "name": "stdout",
     "output_type": "stream",
     "text": [
      "Information Technology Association of America\n"
     ]
    },
    {
     "name": "stderr",
     "output_type": "stream",
     "text": [
      "\r",
      "Generating responses:  56%|█████▌    | 685/1229 [36:20<20:55,  2.31s/it]"
     ]
    },
    {
     "name": "stdout",
     "output_type": "stream",
     "text": [
      "MCI Communications Corporation\n"
     ]
    },
    {
     "name": "stderr",
     "output_type": "stream",
     "text": [
      "\r",
      "Generating responses:  56%|█████▌    | 686/1229 [36:22<20:05,  2.22s/it]"
     ]
    },
    {
     "name": "stdout",
     "output_type": "stream",
     "text": [
      "Foreign Ministry, Garamba national park, Zaire, Ugandan, Kampala, Italian embassy\n"
     ]
    },
    {
     "name": "stderr",
     "output_type": "stream",
     "text": [
      "\r",
      "Generating responses:  56%|█████▌    | 687/1229 [36:26<22:39,  2.51s/it]"
     ]
    },
    {
     "name": "stdout",
     "output_type": "stream",
     "text": [
      "Italian President, Northern League\n"
     ]
    },
    {
     "name": "stderr",
     "output_type": "stream",
     "text": [
      "\r",
      "Generating responses:  56%|█████▌    | 688/1229 [36:28<21:46,  2.41s/it]"
     ]
    },
    {
     "name": "stdout",
     "output_type": "stream",
     "text": [
      "League\n"
     ]
    },
    {
     "name": "stderr",
     "output_type": "stream",
     "text": [
      "\r",
      "Generating responses:  56%|█████▌    | 689/1229 [36:29<19:32,  2.17s/it]"
     ]
    },
    {
     "name": "stdout",
     "output_type": "stream",
     "text": [
      "The League, April\n"
     ]
    },
    {
     "name": "stderr",
     "output_type": "stream",
     "text": [
      "\r",
      "Generating responses:  56%|█████▌    | 690/1229 [36:31<18:45,  2.09s/it]"
     ]
    },
    {
     "name": "stdout",
     "output_type": "stream",
     "text": [
      "Radiometer\n"
     ]
    },
    {
     "name": "stderr",
     "output_type": "stream",
     "text": [
      "\r",
      "Generating responses:  56%|█████▌    | 691/1229 [36:33<17:03,  1.90s/it]"
     ]
    },
    {
     "name": "stdout",
     "output_type": "stream",
     "text": [
      "official Algerian news agency APS\n"
     ]
    },
    {
     "name": "stderr",
     "output_type": "stream",
     "text": [
      "\r",
      "Generating responses:  56%|█████▋    | 692/1229 [36:35<18:25,  2.06s/it]"
     ]
    },
    {
     "name": "stdout",
     "output_type": "stream",
     "text": [
      "Police, public prosecutor's office, Antwerp\n"
     ]
    },
    {
     "name": "stderr",
     "output_type": "stream",
     "text": [
      "\r",
      "Generating responses:  56%|█████▋    | 693/1229 [36:38<21:22,  2.39s/it]"
     ]
    },
    {
     "name": "stdout",
     "output_type": "stream",
     "text": [
      "Turkish man, Antwerp, Spain, France, Germany\n"
     ]
    },
    {
     "name": "stderr",
     "output_type": "stream",
     "text": [
      "\r",
      "Generating responses:  56%|█████▋    | 694/1229 [36:41<23:29,  2.63s/it]"
     ]
    },
    {
     "name": "stdout",
     "output_type": "stream",
     "text": [
      "Lloyds Shipping\n"
     ]
    },
    {
     "name": "stderr",
     "output_type": "stream",
     "text": [
      "\r",
      "Generating responses:  57%|█████▋    | 695/1229 [36:43<21:03,  2.37s/it]"
     ]
    },
    {
     "name": "stdout",
     "output_type": "stream",
     "text": [
      "DKV coffee association\n"
     ]
    },
    {
     "name": "stderr",
     "output_type": "stream",
     "text": [
      "\r",
      "Generating responses:  57%|█████▋    | 696/1229 [36:45<18:50,  2.12s/it]"
     ]
    },
    {
     "name": "stdout",
     "output_type": "stream",
     "text": [
      "Munich Re\n"
     ]
    },
    {
     "name": "stderr",
     "output_type": "stream",
     "text": [
      "\r",
      "Generating responses:  57%|█████▋    | 697/1229 [36:46<17:32,  1.98s/it]"
     ]
    },
    {
     "name": "stdout",
     "output_type": "stream",
     "text": [
      "Muenchener Rueckversicherungs AG\n"
     ]
    },
    {
     "name": "stderr",
     "output_type": "stream",
     "text": [
      "\r",
      "Generating responses:  57%|█████▋    | 698/1229 [36:49<19:40,  2.22s/it]"
     ]
    },
    {
     "name": "stdout",
     "output_type": "stream",
     "text": [
      "Munich Re\n"
     ]
    },
    {
     "name": "stderr",
     "output_type": "stream",
     "text": [
      "\r",
      "Generating responses:  57%|█████▋    | 699/1229 [36:51<19:40,  2.23s/it]"
     ]
    },
    {
     "name": "stdout",
     "output_type": "stream",
     "text": [
      "Munich Re\n"
     ]
    },
    {
     "name": "stderr",
     "output_type": "stream",
     "text": [
      "\r",
      "Generating responses:  57%|█████▋    | 700/1229 [36:54<19:36,  2.22s/it]"
     ]
    },
    {
     "name": "stdout",
     "output_type": "stream",
     "text": [
      "Munich Re, DAX\n"
     ]
    },
    {
     "name": "stderr",
     "output_type": "stream",
     "text": [
      "\r",
      "Generating responses:  57%|█████▋    | 701/1229 [36:56<18:54,  2.15s/it]"
     ]
    },
    {
     "name": "stdout",
     "output_type": "stream",
     "text": [
      "Frankfurt Newsroom\n"
     ]
    },
    {
     "name": "stderr",
     "output_type": "stream",
     "text": [
      "\r",
      "Generating responses:  57%|█████▋    | 702/1229 [36:58<18:23,  2.09s/it]"
     ]
    },
    {
     "name": "stdout",
     "output_type": "stream",
     "text": [
      "EU\n"
     ]
    },
    {
     "name": "stderr",
     "output_type": "stream",
     "text": [
      "\r",
      "Generating responses:  57%|█████▋    | 703/1229 [37:00<18:21,  2.09s/it]"
     ]
    },
    {
     "name": "stdout",
     "output_type": "stream",
     "text": [
      "European Union\n"
     ]
    },
    {
     "name": "stderr",
     "output_type": "stream",
     "text": [
      "\r",
      "Generating responses:  57%|█████▋    | 704/1229 [37:02<18:01,  2.06s/it]"
     ]
    },
    {
     "name": "stdout",
     "output_type": "stream",
     "text": [
      "Brussels Newsroom\n"
     ]
    },
    {
     "name": "stderr",
     "output_type": "stream",
     "text": [
      "\r",
      "Generating responses:  57%|█████▋    | 705/1229 [37:03<16:39,  1.91s/it]"
     ]
    },
    {
     "name": "stdout",
     "output_type": "stream",
     "text": [
      "Bundesbank\n"
     ]
    },
    {
     "name": "stderr",
     "output_type": "stream",
     "text": [
      "\r",
      "Generating responses:  57%|█████▋    | 706/1229 [37:05<16:58,  1.95s/it]"
     ]
    },
    {
     "name": "stdout",
     "output_type": "stream",
     "text": [
      "John Lewis\n"
     ]
    },
    {
     "name": "stderr",
     "output_type": "stream",
     "text": [
      "\r",
      "Generating responses:  58%|█████▊    | 707/1229 [37:07<16:06,  1.85s/it]"
     ]
    },
    {
     "name": "stdout",
     "output_type": "stream",
     "text": [
      "Waitrose\n"
     ]
    },
    {
     "name": "stderr",
     "output_type": "stream",
     "text": [
      "\r",
      "Generating responses:  58%|█████▊    | 708/1229 [37:08<14:49,  1.71s/it]"
     ]
    },
    {
     "name": "stdout",
     "output_type": "stream",
     "text": [
      "London Newsroom\n"
     ]
    },
    {
     "name": "stderr",
     "output_type": "stream",
     "text": [
      "\r",
      "Generating responses:  58%|█████▊    | 709/1229 [37:10<14:05,  1.63s/it]"
     ]
    },
    {
     "name": "stdout",
     "output_type": "stream",
     "text": [
      "no_orgs\n"
     ]
    },
    {
     "name": "stderr",
     "output_type": "stream",
     "text": [
      "\r",
      "Generating responses:  58%|█████▊    | 710/1229 [37:12<15:58,  1.85s/it]"
     ]
    },
    {
     "name": "stdout",
     "output_type": "stream",
     "text": [
      "PT Tambang Timah\n"
     ]
    },
    {
     "name": "stderr",
     "output_type": "stream",
     "text": [
      "\r",
      "Generating responses:  58%|█████▊    | 711/1229 [37:14<15:22,  1.78s/it]"
     ]
    },
    {
     "name": "stdout",
     "output_type": "stream",
     "text": [
      "no_orgs\n"
     ]
    },
    {
     "name": "stderr",
     "output_type": "stream",
     "text": [
      "\r",
      "Generating responses:  58%|█████▊    | 712/1229 [37:15<14:20,  1.66s/it]"
     ]
    },
    {
     "name": "stdout",
     "output_type": "stream",
     "text": [
      "BBC\n"
     ]
    },
    {
     "name": "stderr",
     "output_type": "stream",
     "text": [
      "\r",
      "Generating responses:  58%|█████▊    | 713/1229 [37:17<14:58,  1.74s/it]"
     ]
    },
    {
     "name": "stdout",
     "output_type": "stream",
     "text": [
      "Conservative Party, BBC\n"
     ]
    },
    {
     "name": "stderr",
     "output_type": "stream",
     "text": [
      "\r",
      "Generating responses:  58%|█████▊    | 714/1229 [37:18<14:15,  1.66s/it]"
     ]
    },
    {
     "name": "stdout",
     "output_type": "stream",
     "text": [
      "Foreign Affairs Department\n"
     ]
    },
    {
     "name": "stderr",
     "output_type": "stream",
     "text": [
      "\r",
      "Generating responses:  58%|█████▊    | 715/1229 [37:20<13:47,  1.61s/it]"
     ]
    },
    {
     "name": "stdout",
     "output_type": "stream",
     "text": [
      "Foreign Affairs Minister, government\n"
     ]
    },
    {
     "name": "stderr",
     "output_type": "stream",
     "text": [
      "\r",
      "Generating responses:  58%|█████▊    | 716/1229 [37:22<14:44,  1.72s/it]"
     ]
    },
    {
     "name": "stdout",
     "output_type": "stream",
     "text": [
      "New South Wales Supreme Court\n"
     ]
    },
    {
     "name": "stderr",
     "output_type": "stream",
     "text": [
      "\r",
      "Generating responses:  58%|█████▊    | 717/1229 [37:24<14:54,  1.75s/it]"
     ]
    },
    {
     "name": "stdout",
     "output_type": "stream",
     "text": [
      "National, NZ First\n"
     ]
    },
    {
     "name": "stderr",
     "output_type": "stream",
     "text": [
      "\r",
      "Generating responses:  58%|█████▊    | 718/1229 [37:26<15:02,  1.77s/it]"
     ]
    },
    {
     "name": "stdout",
     "output_type": "stream",
     "text": [
      "New Zealand First, National, Labour\n"
     ]
    },
    {
     "name": "stderr",
     "output_type": "stream",
     "text": [
      "\r",
      "Generating responses:  59%|█████▊    | 719/1229 [37:28<15:33,  1.83s/it]"
     ]
    },
    {
     "name": "stdout",
     "output_type": "stream",
     "text": [
      "NZ First, National, Labour\n"
     ]
    },
    {
     "name": "stderr",
     "output_type": "stream",
     "text": [
      "\r",
      "Generating responses:  59%|█████▊    | 720/1229 [37:29<15:50,  1.87s/it]"
     ]
    },
    {
     "name": "stdout",
     "output_type": "stream",
     "text": [
      "Reuters\n"
     ]
    },
    {
     "name": "stderr",
     "output_type": "stream",
     "text": [
      "\r",
      "Generating responses:  59%|█████▊    | 721/1229 [37:31<15:12,  1.80s/it]"
     ]
    },
    {
     "name": "stdout",
     "output_type": "stream",
     "text": [
      "Labour, National\n"
     ]
    },
    {
     "name": "stderr",
     "output_type": "stream",
     "text": [
      "\r",
      "Generating responses:  59%|█████▊    | 722/1229 [37:33<14:22,  1.70s/it]"
     ]
    },
    {
     "name": "stdout",
     "output_type": "stream",
     "text": [
      "Australian MP John Langmore\n"
     ]
    },
    {
     "name": "stderr",
     "output_type": "stream",
     "text": [
      "\r",
      "Generating responses:  59%|█████▉    | 723/1229 [37:34<13:40,  1.62s/it]"
     ]
    },
    {
     "name": "stdout",
     "output_type": "stream",
     "text": [
      "John Langmore, House of Representatives\n"
     ]
    },
    {
     "name": "stderr",
     "output_type": "stream",
     "text": [
      "\r",
      "Generating responses:  59%|█████▉    | 724/1229 [37:37<15:45,  1.87s/it]"
     ]
    },
    {
     "name": "stdout",
     "output_type": "stream",
     "text": [
      "Mr John Vance Langmore, House of Representatives, Fraser, Australian Capital Territory\n"
     ]
    },
    {
     "name": "stderr",
     "output_type": "stream",
     "text": [
      "\r",
      "Generating responses:  59%|█████▉    | 725/1229 [37:40<19:10,  2.28s/it]"
     ]
    },
    {
     "name": "stdout",
     "output_type": "stream",
     "text": [
      "Australia, United Nations\n"
     ]
    },
    {
     "name": "stderr",
     "output_type": "stream",
     "text": [
      "\r",
      "Generating responses:  59%|█████▉    | 726/1229 [37:42<19:03,  2.27s/it]"
     ]
    },
    {
     "name": "stdout",
     "output_type": "stream",
     "text": [
      "U.N., Copenhagen, U.N. Development Programme\n"
     ]
    },
    {
     "name": "stderr",
     "output_type": "stream",
     "text": [
      "\r",
      "Generating responses:  59%|█████▉    | 727/1229 [37:44<18:04,  2.16s/it]"
     ]
    },
    {
     "name": "stdout",
     "output_type": "stream",
     "text": [
      "YIT, University of Yangon\n"
     ]
    },
    {
     "name": "stderr",
     "output_type": "stream",
     "text": [
      "\r",
      "Generating responses:  59%|█████▉    | 728/1229 [37:46<16:45,  2.01s/it]"
     ]
    },
    {
     "name": "stdout",
     "output_type": "stream",
     "text": [
      "YIT, university\n"
     ]
    },
    {
     "name": "stderr",
     "output_type": "stream",
     "text": [
      "\r",
      "Generating responses:  59%|█████▉    | 729/1229 [37:48<17:05,  2.05s/it]"
     ]
    },
    {
     "name": "stdout",
     "output_type": "stream",
     "text": [
      "SLORC\n"
     ]
    },
    {
     "name": "stderr",
     "output_type": "stream",
     "text": [
      "\r",
      "Generating responses:  59%|█████▉    | 730/1229 [37:50<16:47,  2.02s/it]"
     ]
    },
    {
     "name": "stdout",
     "output_type": "stream",
     "text": [
      "Thai Commerce Ministry\n"
     ]
    },
    {
     "name": "stderr",
     "output_type": "stream",
     "text": [
      "\r",
      "Generating responses:  59%|█████▉    | 731/1229 [37:51<15:26,  1.86s/it]"
     ]
    },
    {
     "name": "stdout",
     "output_type": "stream",
     "text": [
      "Tianjin, Wen Hui Bao\n"
     ]
    },
    {
     "name": "stderr",
     "output_type": "stream",
     "text": [
      "\r",
      "Generating responses:  60%|█████▉    | 732/1229 [37:53<15:37,  1.89s/it]"
     ]
    },
    {
     "name": "stdout",
     "output_type": "stream",
     "text": [
      "Hyundai Heavy, Koram Bank\n"
     ]
    },
    {
     "name": "stderr",
     "output_type": "stream",
     "text": [
      "\r",
      "Generating responses:  60%|█████▉    | 733/1229 [37:55<15:53,  1.92s/it]"
     ]
    },
    {
     "name": "stdout",
     "output_type": "stream",
     "text": [
      "Guilin, Guangxi, Xinhua\n"
     ]
    },
    {
     "name": "stderr",
     "output_type": "stream",
     "text": [
      "\r",
      "Generating responses:  60%|█████▉    | 734/1229 [37:57<16:50,  2.04s/it]"
     ]
    },
    {
     "name": "stdout",
     "output_type": "stream",
     "text": [
      "State Council's Port Office, Civil Aviation Administration of China, General Administration of Customs, Xinhua\n"
     ]
    },
    {
     "name": "stderr",
     "output_type": "stream",
     "text": [
      "\r",
      "Generating responses:  60%|█████▉    | 735/1229 [38:00<18:40,  2.27s/it]"
     ]
    },
    {
     "name": "stdout",
     "output_type": "stream",
     "text": [
      "EPA\n"
     ]
    },
    {
     "name": "stderr",
     "output_type": "stream",
     "text": [
      "\r",
      "Generating responses:  60%|█████▉    | 736/1229 [38:02<17:25,  2.12s/it]"
     ]
    },
    {
     "name": "stdout",
     "output_type": "stream",
     "text": [
      "Economic Planning Agency, EPA\n"
     ]
    },
    {
     "name": "stderr",
     "output_type": "stream",
     "text": [
      "\r",
      "Generating responses:  60%|█████▉    | 737/1229 [38:04<17:11,  2.10s/it]"
     ]
    },
    {
     "name": "stdout",
     "output_type": "stream",
     "text": [
      "Sangetsu\n"
     ]
    },
    {
     "name": "stderr",
     "output_type": "stream",
     "text": [
      "\r",
      "Generating responses:  60%|██████    | 738/1229 [38:05<15:16,  1.87s/it]"
     ]
    },
    {
     "name": "stdout",
     "output_type": "stream",
     "text": [
      "Sangetsu Co Ltd\n"
     ]
    },
    {
     "name": "stderr",
     "output_type": "stream",
     "text": [
      "\r",
      "Generating responses:  60%|██████    | 739/1229 [38:07<14:39,  1.79s/it]"
     ]
    },
    {
     "name": "stdout",
     "output_type": "stream",
     "text": [
      "Bre-X, Barrick\n"
     ]
    },
    {
     "name": "stderr",
     "output_type": "stream",
     "text": [
      "\r",
      "Generating responses:  60%|██████    | 740/1229 [38:09<14:10,  1.74s/it]"
     ]
    },
    {
     "name": "stdout",
     "output_type": "stream",
     "text": [
      "Bre-X Minerals Ltd, Barrick Gold Corp\n"
     ]
    },
    {
     "name": "stderr",
     "output_type": "stream",
     "text": [
      "\r",
      "Generating responses:  60%|██████    | 741/1229 [38:11<15:34,  1.92s/it]"
     ]
    },
    {
     "name": "stdout",
     "output_type": "stream",
     "text": [
      "Toronto, Jakarta, Reuters\n"
     ]
    },
    {
     "name": "stderr",
     "output_type": "stream",
     "text": [
      "\r",
      "Generating responses:  60%|██████    | 742/1229 [38:14<17:48,  2.19s/it]"
     ]
    },
    {
     "name": "stdout",
     "output_type": "stream",
     "text": [
      "Bre-X, Barrick, Toronto\n"
     ]
    },
    {
     "name": "stderr",
     "output_type": "stream",
     "text": [
      "\r",
      "Generating responses:  60%|██████    | 743/1229 [38:15<16:18,  2.01s/it]"
     ]
    },
    {
     "name": "stdout",
     "output_type": "stream",
     "text": [
      "Bre-X, Barrick, Mines and Energy Ministry, Busang, East Kalimantan.\n"
     ]
    },
    {
     "name": "stderr",
     "output_type": "stream",
     "text": [
      "\r",
      "Generating responses:  61%|██████    | 744/1229 [38:19<20:08,  2.49s/it]"
     ]
    },
    {
     "name": "stdout",
     "output_type": "stream",
     "text": [
      "Bre-X, Indonesian Mines and Energy Ministry\n"
     ]
    },
    {
     "name": "stderr",
     "output_type": "stream",
     "text": [
      "\r",
      "Generating responses:  61%|██████    | 745/1229 [38:21<19:40,  2.44s/it]"
     ]
    },
    {
     "name": "stdout",
     "output_type": "stream",
     "text": [
      "Bre-X\n"
     ]
    },
    {
     "name": "stderr",
     "output_type": "stream",
     "text": [
      "\r",
      "Generating responses:  61%|██████    | 746/1229 [38:23<17:26,  2.17s/it]"
     ]
    },
    {
     "name": "stdout",
     "output_type": "stream",
     "text": [
      "Bre-X, government\n"
     ]
    },
    {
     "name": "stderr",
     "output_type": "stream",
     "text": [
      "\r",
      "Generating responses:  61%|██████    | 747/1229 [38:25<16:48,  2.09s/it]"
     ]
    },
    {
     "name": "stdout",
     "output_type": "stream",
     "text": [
      "Bre-X, Indonesian government\n"
     ]
    },
    {
     "name": "stderr",
     "output_type": "stream",
     "text": [
      "\r",
      "Generating responses:  61%|██████    | 748/1229 [38:26<15:31,  1.94s/it]"
     ]
    },
    {
     "name": "stdout",
     "output_type": "stream",
     "text": [
      "Bre-X, Barrick\n"
     ]
    },
    {
     "name": "stderr",
     "output_type": "stream",
     "text": [
      "\r",
      "Generating responses:  61%|██████    | 749/1229 [38:28<14:58,  1.87s/it]"
     ]
    },
    {
     "name": "stdout",
     "output_type": "stream",
     "text": [
      "Bre-X\n"
     ]
    },
    {
     "name": "stderr",
     "output_type": "stream",
     "text": [
      "\r",
      "Generating responses:  61%|██████    | 750/1229 [38:29<13:26,  1.68s/it]"
     ]
    },
    {
     "name": "stdout",
     "output_type": "stream",
     "text": [
      "Bre-X, Barrick, Mines and Energy Ministry\n"
     ]
    },
    {
     "name": "stderr",
     "output_type": "stream",
     "text": [
      "\r",
      "Generating responses:  61%|██████    | 751/1229 [38:32<15:53,  1.99s/it]"
     ]
    },
    {
     "name": "stdout",
     "output_type": "stream",
     "text": [
      "Ministry, Bre-X, Barrick\n"
     ]
    },
    {
     "name": "stderr",
     "output_type": "stream",
     "text": [
      "\r",
      "Generating responses:  61%|██████    | 752/1229 [38:34<16:13,  2.04s/it]"
     ]
    },
    {
     "name": "stdout",
     "output_type": "stream",
     "text": [
      "Bre-X, Barrick, Ministry\n"
     ]
    },
    {
     "name": "stderr",
     "output_type": "stream",
     "text": [
      "\r",
      "Generating responses:  61%|██████▏   | 753/1229 [38:37<17:29,  2.21s/it]"
     ]
    },
    {
     "name": "stdout",
     "output_type": "stream",
     "text": [
      "companies, government\n"
     ]
    },
    {
     "name": "stderr",
     "output_type": "stream",
     "text": [
      "\r",
      "Generating responses:  61%|██████▏   | 754/1229 [38:39<17:08,  2.17s/it]"
     ]
    },
    {
     "name": "stdout",
     "output_type": "stream",
     "text": [
      "Bre-X, PT Panutan Duta, Panutan Group, Busang\n"
     ]
    },
    {
     "name": "stderr",
     "output_type": "stream",
     "text": [
      "\r",
      "Generating responses:  61%|██████▏   | 755/1229 [38:41<17:41,  2.24s/it]"
     ]
    },
    {
     "name": "stdout",
     "output_type": "stream",
     "text": [
      "Barrick, Citra Group, Suharto, partnership\n"
     ]
    },
    {
     "name": "stderr",
     "output_type": "stream",
     "text": [
      "\r",
      "Generating responses:  62%|██████▏   | 756/1229 [38:44<19:21,  2.46s/it]"
     ]
    },
    {
     "name": "stdout",
     "output_type": "stream",
     "text": [
      "Honda Motor Co Ltd\n"
     ]
    },
    {
     "name": "stderr",
     "output_type": "stream",
     "text": [
      "\r",
      "Generating responses:  62%|██████▏   | 757/1229 [38:47<19:05,  2.43s/it]"
     ]
    },
    {
     "name": "stdout",
     "output_type": "stream",
     "text": [
      "Honda\n"
     ]
    },
    {
     "name": "stderr",
     "output_type": "stream",
     "text": [
      "\r",
      "Generating responses:  62%|██████▏   | 758/1229 [38:48<17:23,  2.22s/it]"
     ]
    },
    {
     "name": "stdout",
     "output_type": "stream",
     "text": [
      "WTO\n"
     ]
    },
    {
     "name": "stderr",
     "output_type": "stream",
     "text": [
      "\r",
      "Generating responses:  62%|██████▏   | 759/1229 [38:50<17:21,  2.21s/it]"
     ]
    },
    {
     "name": "stdout",
     "output_type": "stream",
     "text": [
      "Singapore, World Trade Organisation (WTO)\n"
     ]
    },
    {
     "name": "stderr",
     "output_type": "stream",
     "text": [
      "\r",
      "Generating responses:  62%|██████▏   | 760/1229 [38:53<18:22,  2.35s/it]"
     ]
    },
    {
     "name": "stdout",
     "output_type": "stream",
     "text": [
      "Singapore, WTO, I.D.E.A.\n"
     ]
    },
    {
     "name": "stderr",
     "output_type": "stream",
     "text": [
      "\r",
      "Generating responses:  62%|██████▏   | 761/1229 [38:55<17:40,  2.27s/it]"
     ]
    },
    {
     "name": "stdout",
     "output_type": "stream",
     "text": [
      "Singapore, WTO\n"
     ]
    },
    {
     "name": "stderr",
     "output_type": "stream",
     "text": [
      "\r",
      "Generating responses:  62%|██████▏   | 762/1229 [38:58<17:53,  2.30s/it]"
     ]
    },
    {
     "name": "stdout",
     "output_type": "stream",
     "text": [
      "WTO\n"
     ]
    },
    {
     "name": "stderr",
     "output_type": "stream",
     "text": [
      "\r",
      "Generating responses:  62%|██████▏   | 763/1229 [39:00<17:50,  2.30s/it]"
     ]
    },
    {
     "name": "stdout",
     "output_type": "stream",
     "text": [
      "Institute of Policy Studies, ISEAS\n"
     ]
    },
    {
     "name": "stderr",
     "output_type": "stream",
     "text": [
      "\r",
      "Generating responses:  62%|██████▏   | 764/1229 [39:02<18:10,  2.34s/it]"
     ]
    },
    {
     "name": "stdout",
     "output_type": "stream",
     "text": [
      "National University of Singapore\n"
     ]
    },
    {
     "name": "stderr",
     "output_type": "stream",
     "text": [
      "\r",
      "Generating responses:  62%|██████▏   | 765/1229 [39:04<17:30,  2.26s/it]"
     ]
    },
    {
     "name": "stdout",
     "output_type": "stream",
     "text": [
      "WTO, GATT\n"
     ]
    },
    {
     "name": "stderr",
     "output_type": "stream",
     "text": [
      "\r",
      "Generating responses:  62%|██████▏   | 766/1229 [39:07<17:40,  2.29s/it]"
     ]
    },
    {
     "name": "stdout",
     "output_type": "stream",
     "text": [
      "WTO, European Union\n"
     ]
    },
    {
     "name": "stderr",
     "output_type": "stream",
     "text": [
      "\r",
      "Generating responses:  62%|██████▏   | 767/1229 [39:09<16:34,  2.15s/it]"
     ]
    },
    {
     "name": "stdout",
     "output_type": "stream",
     "text": [
      "Singapore government, WTO\n"
     ]
    },
    {
     "name": "stderr",
     "output_type": "stream",
     "text": [
      "\r",
      "Generating responses:  62%|██████▏   | 768/1229 [39:11<16:59,  2.21s/it]"
     ]
    },
    {
     "name": "stdout",
     "output_type": "stream",
     "text": [
      "NTT\n"
     ]
    },
    {
     "name": "stderr",
     "output_type": "stream",
     "text": [
      "\r",
      "Generating responses:  63%|██████▎   | 769/1229 [39:13<16:20,  2.13s/it]"
     ]
    },
    {
     "name": "stdout",
     "output_type": "stream",
     "text": [
      "NTT\n"
     ]
    },
    {
     "name": "stderr",
     "output_type": "stream",
     "text": [
      "\r",
      "Generating responses:  63%|██████▎   | 770/1229 [39:15<16:01,  2.10s/it]"
     ]
    },
    {
     "name": "stdout",
     "output_type": "stream",
     "text": [
      "Reuters\n"
     ]
    },
    {
     "name": "stderr",
     "output_type": "stream",
     "text": [
      "\r",
      "Generating responses:  63%|██████▎   | 771/1229 [39:17<15:52,  2.08s/it]"
     ]
    },
    {
     "name": "stdout",
     "output_type": "stream",
     "text": [
      "NTT\n"
     ]
    },
    {
     "name": "stderr",
     "output_type": "stream",
     "text": [
      "\r",
      "Generating responses:  63%|██████▎   | 772/1229 [39:19<15:21,  2.02s/it]"
     ]
    },
    {
     "name": "stdout",
     "output_type": "stream",
     "text": [
      "NTT\n"
     ]
    },
    {
     "name": "stderr",
     "output_type": "stream",
     "text": [
      "\r",
      "Generating responses:  63%|██████▎   | 773/1229 [39:21<14:53,  1.96s/it]"
     ]
    },
    {
     "name": "stdout",
     "output_type": "stream",
     "text": [
      "NTT\n"
     ]
    },
    {
     "name": "stderr",
     "output_type": "stream",
     "text": [
      "\r",
      "Generating responses:  63%|██████▎   | 774/1229 [39:22<14:19,  1.89s/it]"
     ]
    },
    {
     "name": "stdout",
     "output_type": "stream",
     "text": [
      "Ahold\n"
     ]
    },
    {
     "name": "stderr",
     "output_type": "stream",
     "text": [
      "\r",
      "Generating responses:  63%|██████▎   | 775/1229 [39:25<14:57,  1.98s/it]"
     ]
    },
    {
     "name": "stdout",
     "output_type": "stream",
     "text": [
      "Ahold NV, BILO\n"
     ]
    },
    {
     "name": "stderr",
     "output_type": "stream",
     "text": [
      "\r",
      "Generating responses:  63%|██████▎   | 776/1229 [39:26<14:52,  1.97s/it]"
     ]
    },
    {
     "name": "stdout",
     "output_type": "stream",
     "text": [
      "BILO, Ahold, TOPS\n"
     ]
    },
    {
     "name": "stderr",
     "output_type": "stream",
     "text": [
      "\r",
      "Generating responses:  63%|██████▎   | 777/1229 [39:29<16:46,  2.23s/it]"
     ]
    },
    {
     "name": "stdout",
     "output_type": "stream",
     "text": [
      "Ahold, TOPS, BILO\n"
     ]
    },
    {
     "name": "stderr",
     "output_type": "stream",
     "text": [
      "\r",
      "Generating responses:  63%|██████▎   | 778/1229 [39:31<16:10,  2.15s/it]"
     ]
    },
    {
     "name": "stdout",
     "output_type": "stream",
     "text": [
      "Ahold\n"
     ]
    },
    {
     "name": "stderr",
     "output_type": "stream",
     "text": [
      "\r",
      "Generating responses:  63%|██████▎   | 779/1229 [39:33<15:23,  2.05s/it]"
     ]
    },
    {
     "name": "stdout",
     "output_type": "stream",
     "text": [
      "Ahold\n"
     ]
    },
    {
     "name": "stderr",
     "output_type": "stream",
     "text": [
      "\r",
      "Generating responses:  63%|██████▎   | 780/1229 [39:35<15:45,  2.11s/it]"
     ]
    },
    {
     "name": "stdout",
     "output_type": "stream",
     "text": [
      "PGA, LPGA\n"
     ]
    },
    {
     "name": "stderr",
     "output_type": "stream",
     "text": [
      "\r",
      "Generating responses:  64%|██████▎   | 781/1229 [39:37<14:51,  1.99s/it]"
     ]
    },
    {
     "name": "stdout",
     "output_type": "stream",
     "text": [
      "USA III\n"
     ]
    },
    {
     "name": "stderr",
     "output_type": "stream",
     "text": [
      "\r",
      "Generating responses:  64%|██████▎   | 782/1229 [39:38<13:15,  1.78s/it]"
     ]
    },
    {
     "name": "stdout",
     "output_type": "stream",
     "text": [
      "USA III, World Cup\n"
     ]
    },
    {
     "name": "stderr",
     "output_type": "stream",
     "text": [
      "\r",
      "Generating responses:  64%|██████▎   | 783/1229 [39:41<14:31,  1.95s/it]"
     ]
    },
    {
     "name": "stdout",
     "output_type": "stream",
     "text": [
      "Canada I, Pierre Lueders, Dave MacEachern, Italians\n"
     ]
    },
    {
     "name": "stderr",
     "output_type": "stream",
     "text": [
      "\r",
      "Generating responses:  64%|██████▍   | 784/1229 [39:43<15:52,  2.14s/it]"
     ]
    },
    {
     "name": "stdout",
     "output_type": "stream",
     "text": [
      "no_orgs\n"
     ]
    },
    {
     "name": "stderr",
     "output_type": "stream",
     "text": [
      "\r",
      "Generating responses:  64%|██████▍   | 785/1229 [39:46<16:19,  2.21s/it]"
     ]
    },
    {
     "name": "stdout",
     "output_type": "stream",
     "text": [
      "United States III, Brian Shimer, Randy Jones\n"
     ]
    },
    {
     "name": "stderr",
     "output_type": "stream",
     "text": [
      "\r",
      "Generating responses:  64%|██████▍   | 786/1229 [39:48<17:39,  2.39s/it]"
     ]
    },
    {
     "name": "stdout",
     "output_type": "stream",
     "text": [
      "Guenther Huber, Antonio Tartaglia\n"
     ]
    },
    {
     "name": "stderr",
     "output_type": "stream",
     "text": [
      "\r",
      "Generating responses:  64%|██████▍   | 787/1229 [39:52<20:26,  2.78s/it]"
     ]
    },
    {
     "name": "stdout",
     "output_type": "stream",
     "text": [
      "Pierre Lueders, Dave MacEachern\n"
     ]
    },
    {
     "name": "stderr",
     "output_type": "stream",
     "text": [
      "\r",
      "Generating responses:  64%|██████▍   | 788/1229 [39:55<19:52,  2.70s/it]"
     ]
    },
    {
     "name": "stdout",
     "output_type": "stream",
     "text": [
      "Sepp Dostthaler, Thomas Lebsa\n"
     ]
    },
    {
     "name": "stderr",
     "output_type": "stream",
     "text": [
      "\r",
      "Generating responses:  64%|██████▍   | 789/1229 [39:57<19:09,  2.61s/it]"
     ]
    },
    {
     "name": "stdout",
     "output_type": "stream",
     "text": [
      "Switzerland I\n"
     ]
    },
    {
     "name": "stderr",
     "output_type": "stream",
     "text": [
      "\r",
      "Generating responses:  64%|██████▍   | 790/1229 [39:59<18:29,  2.53s/it]"
     ]
    },
    {
     "name": "stdout",
     "output_type": "stream",
     "text": [
      "Dirk Wiese, Jakobs Marco\n"
     ]
    },
    {
     "name": "stderr",
     "output_type": "stream",
     "text": [
      "\r",
      "Generating responses:  64%|██████▍   | 791/1229 [40:02<18:13,  2.50s/it]"
     ]
    },
    {
     "name": "stdout",
     "output_type": "stream",
     "text": [
      "Jiri Dzmura, Pavel Polomsky\n"
     ]
    },
    {
     "name": "stderr",
     "output_type": "stream",
     "text": [
      "\r",
      "Generating responses:  64%|██████▍   | 792/1229 [40:04<17:26,  2.40s/it]"
     ]
    },
    {
     "name": "stdout",
     "output_type": "stream",
     "text": [
      "Austria I\n"
     ]
    },
    {
     "name": "stderr",
     "output_type": "stream",
     "text": [
      "\r",
      "Generating responses:  65%|██████▍   | 793/1229 [40:05<15:25,  2.12s/it]"
     ]
    },
    {
     "name": "stdout",
     "output_type": "stream",
     "text": [
      "no_orgs\n"
     ]
    },
    {
     "name": "stderr",
     "output_type": "stream",
     "text": [
      "\r",
      "Generating responses:  65%|██████▍   | 794/1229 [40:08<15:37,  2.16s/it]"
     ]
    },
    {
     "name": "stdout",
     "output_type": "stream",
     "text": [
      "United States\n"
     ]
    },
    {
     "name": "stderr",
     "output_type": "stream",
     "text": [
      "\r",
      "Generating responses:  65%|██████▍   | 795/1229 [40:10<15:00,  2.07s/it]"
     ]
    },
    {
     "name": "stdout",
     "output_type": "stream",
     "text": [
      "no_orgs\n"
     ]
    },
    {
     "name": "stderr",
     "output_type": "stream",
     "text": [
      "\r",
      "Generating responses:  65%|██████▍   | 796/1229 [40:11<13:32,  1.88s/it]"
     ]
    },
    {
     "name": "stdout",
     "output_type": "stream",
     "text": [
      "Aberdeen, Celtic\n"
     ]
    },
    {
     "name": "stderr",
     "output_type": "stream",
     "text": [
      "\r",
      "Generating responses:  65%|██████▍   | 797/1229 [40:13<14:08,  1.96s/it]"
     ]
    },
    {
     "name": "stdout",
     "output_type": "stream",
     "text": [
      "Rangers\n"
     ]
    },
    {
     "name": "stderr",
     "output_type": "stream",
     "text": [
      "\r",
      "Generating responses:  65%|██████▍   | 798/1229 [40:15<14:22,  2.00s/it]"
     ]
    },
    {
     "name": "stdout",
     "output_type": "stream",
     "text": [
      "Kilmarnock, Rangers\n"
     ]
    },
    {
     "name": "stderr",
     "output_type": "stream",
     "text": [
      "\r",
      "Generating responses:  65%|██████▌   | 799/1229 [40:17<14:47,  2.06s/it]"
     ]
    },
    {
     "name": "stdout",
     "output_type": "stream",
     "text": [
      "Celtic, Aberdeen\n"
     ]
    },
    {
     "name": "stderr",
     "output_type": "stream",
     "text": [
      "\r",
      "Generating responses:  65%|██████▌   | 800/1229 [40:19<13:35,  1.90s/it]"
     ]
    },
    {
     "name": "stdout",
     "output_type": "stream",
     "text": [
      "Rangers\n"
     ]
    },
    {
     "name": "stderr",
     "output_type": "stream",
     "text": [
      "\r",
      "Generating responses:  65%|██████▌   | 801/1229 [40:21<14:41,  2.06s/it]"
     ]
    },
    {
     "name": "stdout",
     "output_type": "stream",
     "text": [
      "Hibernian\n"
     ]
    },
    {
     "name": "stderr",
     "output_type": "stream",
     "text": [
      "\r",
      "Generating responses:  65%|██████▌   | 802/1229 [40:24<15:14,  2.14s/it]"
     ]
    },
    {
     "name": "stdout",
     "output_type": "stream",
     "text": [
      "Rangers\n"
     ]
    },
    {
     "name": "stderr",
     "output_type": "stream",
     "text": [
      "\r",
      "Generating responses:  65%|██████▌   | 803/1229 [40:25<13:33,  1.91s/it]"
     ]
    },
    {
     "name": "stdout",
     "output_type": "stream",
     "text": [
      "Dunfermline, Hearts\n"
     ]
    },
    {
     "name": "stderr",
     "output_type": "stream",
     "text": [
      "\r",
      "Generating responses:  65%|██████▌   | 804/1229 [40:27<13:37,  1.92s/it]"
     ]
    },
    {
     "name": "stdout",
     "output_type": "stream",
     "text": [
      "Dundee United, Celtic\n"
     ]
    },
    {
     "name": "stderr",
     "output_type": "stream",
     "text": [
      "\r",
      "Generating responses:  66%|██████▌   | 805/1229 [40:29<14:00,  1.98s/it]"
     ]
    },
    {
     "name": "stdout",
     "output_type": "stream",
     "text": [
      "Arsenal\n"
     ]
    },
    {
     "name": "stderr",
     "output_type": "stream",
     "text": [
      "\r",
      "Generating responses:  66%|██████▌   | 806/1229 [40:31<13:49,  1.96s/it]"
     ]
    },
    {
     "name": "stdout",
     "output_type": "stream",
     "text": [
      "Middlesbrough\n"
     ]
    },
    {
     "name": "stderr",
     "output_type": "stream",
     "text": [
      "\r",
      "Generating responses:  66%|██████▌   | 807/1229 [40:32<12:33,  1.79s/it]"
     ]
    },
    {
     "name": "stdout",
     "output_type": "stream",
     "text": [
      "Newcastle\n"
     ]
    },
    {
     "name": "stderr",
     "output_type": "stream",
     "text": [
      "\r",
      "Generating responses:  66%|██████▌   | 808/1229 [40:34<12:26,  1.77s/it]"
     ]
    },
    {
     "name": "stdout",
     "output_type": "stream",
     "text": [
      "Southampton, Aston\n"
     ]
    },
    {
     "name": "stderr",
     "output_type": "stream",
     "text": [
      "\r",
      "Generating responses:  66%|██████▌   | 809/1229 [40:36<12:06,  1.73s/it]"
     ]
    },
    {
     "name": "stdout",
     "output_type": "stream",
     "text": [
      "Villa, Newcastle, Wimbledon\n"
     ]
    },
    {
     "name": "stderr",
     "output_type": "stream",
     "text": [
      "\r",
      "Generating responses:  66%|██████▌   | 810/1229 [40:38<12:47,  1.83s/it]"
     ]
    },
    {
     "name": "stdout",
     "output_type": "stream",
     "text": [
      "Chelsea\n"
     ]
    },
    {
     "name": "stderr",
     "output_type": "stream",
     "text": [
      "\r",
      "Generating responses:  66%|██████▌   | 811/1229 [40:40<12:25,  1.78s/it]"
     ]
    },
    {
     "name": "stdout",
     "output_type": "stream",
     "text": [
      "Wimbledon, Newcastle\n"
     ]
    },
    {
     "name": "stderr",
     "output_type": "stream",
     "text": [
      "\r",
      "Generating responses:  66%|██████▌   | 812/1229 [40:42<13:04,  1.88s/it]"
     ]
    },
    {
     "name": "stdout",
     "output_type": "stream",
     "text": [
      "Wimbledon, Everton\n"
     ]
    },
    {
     "name": "stderr",
     "output_type": "stream",
     "text": [
      "\r",
      "Generating responses:  66%|██████▌   | 813/1229 [40:44<14:15,  2.06s/it]"
     ]
    },
    {
     "name": "stdout",
     "output_type": "stream",
     "text": [
      "Sutton, Blackburn\n"
     ]
    },
    {
     "name": "stderr",
     "output_type": "stream",
     "text": [
      "\r",
      "Generating responses:  66%|██████▌   | 814/1229 [40:46<13:36,  1.97s/it]"
     ]
    },
    {
     "name": "stdout",
     "output_type": "stream",
     "text": [
      "Liverpool\n"
     ]
    },
    {
     "name": "stderr",
     "output_type": "stream",
     "text": [
      "\r",
      "Generating responses:  66%|██████▋   | 815/1229 [40:48<12:59,  1.88s/it]"
     ]
    },
    {
     "name": "stdout",
     "output_type": "stream",
     "text": [
      "Newcastle\n"
     ]
    },
    {
     "name": "stderr",
     "output_type": "stream",
     "text": [
      "\r",
      "Generating responses:  66%|██████▋   | 816/1229 [40:49<12:44,  1.85s/it]"
     ]
    },
    {
     "name": "stdout",
     "output_type": "stream",
     "text": [
      "Ards, Crusaders\n"
     ]
    },
    {
     "name": "stderr",
     "output_type": "stream",
     "text": [
      "\r",
      "Generating responses:  66%|██████▋   | 817/1229 [40:51<13:09,  1.92s/it]"
     ]
    },
    {
     "name": "stdout",
     "output_type": "stream",
     "text": [
      "Cliftonville, Portadown\n"
     ]
    },
    {
     "name": "stderr",
     "output_type": "stream",
     "text": [
      "\r",
      "Generating responses:  67%|██████▋   | 818/1229 [40:54<13:59,  2.04s/it]"
     ]
    },
    {
     "name": "stdout",
     "output_type": "stream",
     "text": [
      "Glenavon, Linfield\n"
     ]
    },
    {
     "name": "stderr",
     "output_type": "stream",
     "text": [
      "\r",
      "Generating responses:  67%|██████▋   | 819/1229 [40:56<14:13,  2.08s/it]"
     ]
    },
    {
     "name": "stdout",
     "output_type": "stream",
     "text": [
      "Glentoran, Coleraine\n"
     ]
    },
    {
     "name": "stderr",
     "output_type": "stream",
     "text": [
      "\r",
      "Generating responses:  67%|██████▋   | 820/1229 [40:58<14:49,  2.17s/it]"
     ]
    },
    {
     "name": "stdout",
     "output_type": "stream",
     "text": [
      "Error generating response for prompt at index 820: That model is currently overloaded with other requests. You can retry your request, or contact us through our help center at help.openai.com if the error persists. (Please include the request ID fae0785fdf2b07b9be4235041804cd17 in your message.)\n",
      "Query: I need you to show me organisations in the provided sentence. Do not show me any other entity types.\n",
      "    ###\n",
      "    Desired response format: ###\n",
      "    org1, org2, org3\n",
      "    ###\n",
      "    Desired response if no organisations found: ###\n",
      "    no_orgs\n",
      "    ###\n",
      "    For example, if I gave you: ###\n",
      "    \"James, living in Japan, missed his club 's last two games after FIFA slapped a worldwide ban on him for appearing to sign contracts for both Wednesday and Udinese while he was playing for Feyenoord .\",\n",
      "    you would only give me:\n",
      "    FIFA, Wednesday, Udinese, Feyenoord\n",
      "    ###\n",
      "    The provided sentence is: ###\n",
      "    Coleraine 10 7 1 2 18 11 22\n",
      "    ###\n",
      "    \n",
      "Retrying in 5 seconds...\n",
      "no_orgs\n"
     ]
    },
    {
     "name": "stderr",
     "output_type": "stream",
     "text": [
      "\r",
      "Generating responses:  67%|██████▋   | 821/1229 [41:36<1:27:13, 12.83s/it]"
     ]
    },
    {
     "name": "stdout",
     "output_type": "stream",
     "text": [
      "no_orgs\n"
     ]
    },
    {
     "name": "stderr",
     "output_type": "stream",
     "text": [
      "\r",
      "Generating responses:  67%|██████▋   | 822/1229 [41:38<1:04:32,  9.51s/it]"
     ]
    },
    {
     "name": "stdout",
     "output_type": "stream",
     "text": [
      "no_orgs\n"
     ]
    },
    {
     "name": "stderr",
     "output_type": "stream",
     "text": [
      "\r",
      "Generating responses:  67%|██████▋   | 823/1229 [41:40<48:50,  7.22s/it]  "
     ]
    },
    {
     "name": "stdout",
     "output_type": "stream",
     "text": [
      "no_orgs\n"
     ]
    },
    {
     "name": "stderr",
     "output_type": "stream",
     "text": [
      "\r",
      "Generating responses:  67%|██████▋   | 824/1229 [41:42<38:35,  5.72s/it]"
     ]
    },
    {
     "name": "stdout",
     "output_type": "stream",
     "text": [
      "Glentoran\n"
     ]
    },
    {
     "name": "stderr",
     "output_type": "stream",
     "text": [
      "\r",
      "Generating responses:  67%|██████▋   | 825/1229 [41:43<29:59,  4.45s/it]"
     ]
    },
    {
     "name": "stdout",
     "output_type": "stream",
     "text": [
      "no_orgs\n"
     ]
    },
    {
     "name": "stderr",
     "output_type": "stream",
     "text": [
      "\r",
      "Generating responses:  67%|██████▋   | 826/1229 [41:46<25:11,  3.75s/it]"
     ]
    },
    {
     "name": "stdout",
     "output_type": "stream",
     "text": [
      "no_orgs\n"
     ]
    },
    {
     "name": "stderr",
     "output_type": "stream",
     "text": [
      "\r",
      "Generating responses:  67%|██████▋   | 827/1229 [41:47<20:21,  3.04s/it]"
     ]
    },
    {
     "name": "stdout",
     "output_type": "stream",
     "text": [
      "no_orgs\n"
     ]
    },
    {
     "name": "stderr",
     "output_type": "stream",
     "text": [
      "\r",
      "Generating responses:  67%|██████▋   | 828/1229 [41:48<17:04,  2.56s/it]"
     ]
    },
    {
     "name": "stdout",
     "output_type": "stream",
     "text": [
      "no_orgs\n"
     ]
    },
    {
     "name": "stderr",
     "output_type": "stream",
     "text": [
      "\r",
      "Generating responses:  67%|██████▋   | 829/1229 [41:50<15:26,  2.32s/it]"
     ]
    },
    {
     "name": "stdout",
     "output_type": "stream",
     "text": [
      "Reading, Widnes\n"
     ]
    },
    {
     "name": "stderr",
     "output_type": "stream",
     "text": [
      "\r",
      "Generating responses:  68%|██████▊   | 830/1229 [41:52<13:45,  2.07s/it]"
     ]
    },
    {
     "name": "stdout",
     "output_type": "stream",
     "text": [
      "no_orgs\n"
     ]
    },
    {
     "name": "stderr",
     "output_type": "stream",
     "text": [
      "\r",
      "Generating responses:  68%|██████▊   | 831/1229 [41:54<13:57,  2.10s/it]"
     ]
    },
    {
     "name": "stdout",
     "output_type": "stream",
     "text": [
      "Gloucester, London Irish\n"
     ]
    },
    {
     "name": "stderr",
     "output_type": "stream",
     "text": [
      "\r",
      "Generating responses:  68%|██████▊   | 832/1229 [41:57<15:15,  2.31s/it]"
     ]
    },
    {
     "name": "stdout",
     "output_type": "stream",
     "text": [
      "no_orgs\n"
     ]
    },
    {
     "name": "stderr",
     "output_type": "stream",
     "text": [
      "\r",
      "Generating responses:  68%|██████▊   | 833/1229 [41:59<14:48,  2.24s/it]"
     ]
    },
    {
     "name": "stdout",
     "output_type": "stream",
     "text": [
      "Wasps, Bristol\n"
     ]
    },
    {
     "name": "stderr",
     "output_type": "stream",
     "text": [
      "\r",
      "Generating responses:  68%|██████▊   | 834/1229 [42:00<13:49,  2.10s/it]"
     ]
    },
    {
     "name": "stdout",
     "output_type": "stream",
     "text": [
      "no_orgs\n"
     ]
    },
    {
     "name": "stderr",
     "output_type": "stream",
     "text": [
      "\r",
      "Generating responses:  68%|██████▊   | 835/1229 [42:02<12:50,  1.96s/it]"
     ]
    },
    {
     "name": "stdout",
     "output_type": "stream",
     "text": [
      "no_orgs\n"
     ]
    },
    {
     "name": "stderr",
     "output_type": "stream",
     "text": [
      "\r",
      "Generating responses:  68%|██████▊   | 836/1229 [42:03<11:42,  1.79s/it]"
     ]
    },
    {
     "name": "stdout",
     "output_type": "stream",
     "text": [
      "no_orgs\n"
     ]
    },
    {
     "name": "stderr",
     "output_type": "stream",
     "text": [
      "\r",
      "Generating responses:  68%|██████▊   | 837/1229 [42:05<11:18,  1.73s/it]"
     ]
    },
    {
     "name": "stdout",
     "output_type": "stream",
     "text": [
      "no_orgs\n"
     ]
    },
    {
     "name": "stderr",
     "output_type": "stream",
     "text": [
      "\r",
      "Generating responses:  68%|██████▊   | 838/1229 [42:07<11:46,  1.81s/it]"
     ]
    },
    {
     "name": "stdout",
     "output_type": "stream",
     "text": [
      "no_orgs\n"
     ]
    },
    {
     "name": "stderr",
     "output_type": "stream",
     "text": [
      "\r",
      "Generating responses:  68%|██████▊   | 839/1229 [42:09<11:11,  1.72s/it]"
     ]
    },
    {
     "name": "stdout",
     "output_type": "stream",
     "text": [
      "no_orgs\n"
     ]
    },
    {
     "name": "stderr",
     "output_type": "stream",
     "text": [
      "\r",
      "Generating responses:  68%|██████▊   | 840/1229 [42:10<10:33,  1.63s/it]"
     ]
    },
    {
     "name": "stdout",
     "output_type": "stream",
     "text": [
      "Boroughmuir, Watsonians\n"
     ]
    },
    {
     "name": "stderr",
     "output_type": "stream",
     "text": [
      "\r",
      "Generating responses:  68%|██████▊   | 841/1229 [42:12<12:21,  1.91s/it]"
     ]
    },
    {
     "name": "stdout",
     "output_type": "stream",
     "text": [
      "Dunfermline, Aberdeen\n"
     ]
    },
    {
     "name": "stderr",
     "output_type": "stream",
     "text": [
      "\r",
      "Generating responses:  69%|██████▊   | 842/1229 [42:14<11:53,  1.84s/it]"
     ]
    },
    {
     "name": "stdout",
     "output_type": "stream",
     "text": [
      "no_orgs\n"
     ]
    },
    {
     "name": "stderr",
     "output_type": "stream",
     "text": [
      "\r",
      "Generating responses:  69%|██████▊   | 843/1229 [42:16<11:05,  1.72s/it]"
     ]
    },
    {
     "name": "stdout",
     "output_type": "stream",
     "text": [
      "Error generating response for prompt at index 843: Bad gateway. {\"error\":{\"code\":502,\"message\":\"Bad gateway.\",\"param\":null,\"type\":\"cf_bad_gateway\"}} 502 {'error': {'code': 502, 'message': 'Bad gateway.', 'param': None, 'type': 'cf_bad_gateway'}} {'Date': 'Sat, 27 May 2023 18:40:28 GMT', 'Content-Type': 'application/json', 'Content-Length': '84', 'Connection': 'keep-alive', 'X-Frame-Options': 'SAMEORIGIN', 'Referrer-Policy': 'same-origin', 'Cache-Control': 'private, max-age=0, no-store, no-cache, must-revalidate, post-check=0, pre-check=0', 'Expires': 'Thu, 01 Jan 1970 00:00:01 GMT', 'Server': 'cloudflare', 'CF-RAY': '7ce05b5b1ad18ac7-PER', 'alt-svc': 'h3=\":443\"; ma=86400'}\n",
      "Query: I need you to show me organisations in the provided sentence. Do not show me any other entity types.\n",
      "    ###\n",
      "    Desired response format: ###\n",
      "    org1, org2, org3\n",
      "    ###\n",
      "    Desired response if no organisations found: ###\n",
      "    no_orgs\n",
      "    ###\n",
      "    For example, if I gave you: ###\n",
      "    \"James, living in Japan, missed his club 's last two games after FIFA slapped a worldwide ban on him for appearing to sign contracts for both Wednesday and Udinese while he was playing for Feyenoord .\",\n",
      "    you would only give me:\n",
      "    FIFA, Wednesday, Udinese, Feyenoord\n",
      "    ###\n",
      "    The provided sentence is: ###\n",
      "    Kilmarnock 0 Dundee United 2 ( Olafsson 22 , 51 ) .\n",
      "    ###\n",
      "    \n",
      "Retrying in 5 seconds...\n",
      "Kilmarnock, Dundee United\n"
     ]
    },
    {
     "name": "stderr",
     "output_type": "stream",
     "text": [
      "\r",
      "Generating responses:  69%|██████▊   | 844/1229 [47:33<10:19:22, 96.52s/it]"
     ]
    },
    {
     "name": "stdout",
     "output_type": "stream",
     "text": [
      "Motherwell, Celtic\n"
     ]
    },
    {
     "name": "stderr",
     "output_type": "stream",
     "text": [
      "\r",
      "Generating responses:  69%|██████▉   | 845/1229 [47:36<7:16:38, 68.22s/it] "
     ]
    },
    {
     "name": "stdout",
     "output_type": "stream",
     "text": [
      "Rangers, Hibernian\n"
     ]
    },
    {
     "name": "stderr",
     "output_type": "stream",
     "text": [
      "\r",
      "Generating responses:  69%|██████▉   | 846/1229 [47:37<5:08:14, 48.29s/it]"
     ]
    },
    {
     "name": "stdout",
     "output_type": "stream",
     "text": [
      "CAMPESE\n"
     ]
    },
    {
     "name": "stderr",
     "output_type": "stream",
     "text": [
      "\r",
      "Generating responses:  69%|██████▉   | 847/1229 [47:39<3:38:20, 34.29s/it]"
     ]
    },
    {
     "name": "stdout",
     "output_type": "stream",
     "text": [
      "Wallaby, Saracens, Francois Pienaar, Michael Lynagh, Philippe Sella\n"
     ]
    },
    {
     "name": "stderr",
     "output_type": "stream",
     "text": [
      "\r",
      "Generating responses:  69%|██████▉   | 848/1229 [47:42<2:37:57, 24.88s/it]"
     ]
    },
    {
     "name": "stdout",
     "output_type": "stream",
     "text": [
      "New South Wales\n"
     ]
    },
    {
     "name": "stderr",
     "output_type": "stream",
     "text": [
      "\r",
      "Generating responses:  69%|██████▉   | 849/1229 [47:44<1:54:14, 18.04s/it]"
     ]
    },
    {
     "name": "stdout",
     "output_type": "stream",
     "text": [
      "Nick Farr-Jones\n"
     ]
    },
    {
     "name": "stderr",
     "output_type": "stream",
     "text": [
      "\r",
      "Generating responses:  69%|██████▉   | 850/1229 [47:46<1:23:31, 13.22s/it]"
     ]
    },
    {
     "name": "stdout",
     "output_type": "stream",
     "text": [
      "Arsenal, Derby\n"
     ]
    },
    {
     "name": "stderr",
     "output_type": "stream",
     "text": [
      "\r",
      "Generating responses:  69%|██████▉   | 851/1229 [47:48<1:02:19,  9.89s/it]"
     ]
    },
    {
     "name": "stdout",
     "output_type": "stream",
     "text": [
      "Chelsea, Everton\n"
     ]
    },
    {
     "name": "stderr",
     "output_type": "stream",
     "text": [
      "\r",
      "Generating responses:  69%|██████▉   | 852/1229 [47:50<46:37,  7.42s/it]  "
     ]
    },
    {
     "name": "stdout",
     "output_type": "stream",
     "text": [
      "Coventry, Tottenham\n"
     ]
    },
    {
     "name": "stderr",
     "output_type": "stream",
     "text": [
      "\r",
      "Generating responses:  69%|██████▉   | 853/1229 [47:52<36:33,  5.83s/it]"
     ]
    },
    {
     "name": "stdout",
     "output_type": "stream",
     "text": [
      "Leicester, Blackburn\n"
     ]
    },
    {
     "name": "stderr",
     "output_type": "stream",
     "text": [
      "\r",
      "Generating responses:  69%|██████▉   | 854/1229 [47:54<30:05,  4.82s/it]"
     ]
    },
    {
     "name": "stdout",
     "output_type": "stream",
     "text": [
      "Sheffield Wednesday, Liverpool\n"
     ]
    },
    {
     "name": "stderr",
     "output_type": "stream",
     "text": [
      "\r",
      "Generating responses:  70%|██████▉   | 855/1229 [47:57<25:47,  4.14s/it]"
     ]
    },
    {
     "name": "stdout",
     "output_type": "stream",
     "text": [
      "no_orgs\n"
     ]
    },
    {
     "name": "stderr",
     "output_type": "stream",
     "text": [
      "\r",
      "Generating responses:  70%|██████▉   | 856/1229 [47:59<21:26,  3.45s/it]"
     ]
    },
    {
     "name": "stdout",
     "output_type": "stream",
     "text": [
      "Southampton, Aston Villa\n"
     ]
    },
    {
     "name": "stderr",
     "output_type": "stream",
     "text": [
      "\r",
      "Generating responses:  70%|██████▉   | 857/1229 [48:02<21:04,  3.40s/it]"
     ]
    },
    {
     "name": "stdout",
     "output_type": "stream",
     "text": [
      "Sunderland, Wimbledon\n"
     ]
    },
    {
     "name": "stderr",
     "output_type": "stream",
     "text": [
      "\r",
      "Generating responses:  70%|██████▉   | 858/1229 [48:04<17:59,  2.91s/it]"
     ]
    },
    {
     "name": "stdout",
     "output_type": "stream",
     "text": [
      "no_orgs\n"
     ]
    },
    {
     "name": "stderr",
     "output_type": "stream",
     "text": [
      "\r",
      "Generating responses:  70%|██████▉   | 859/1229 [48:05<15:12,  2.47s/it]"
     ]
    },
    {
     "name": "stdout",
     "output_type": "stream",
     "text": [
      "no_orgs\n"
     ]
    },
    {
     "name": "stderr",
     "output_type": "stream",
     "text": [
      "\r",
      "Generating responses:  70%|██████▉   | 860/1229 [48:07<13:33,  2.20s/it]"
     ]
    },
    {
     "name": "stdout",
     "output_type": "stream",
     "text": [
      "no_orgs\n"
     ]
    },
    {
     "name": "stderr",
     "output_type": "stream",
     "text": [
      "\r",
      "Generating responses:  70%|███████   | 861/1229 [48:09<13:39,  2.23s/it]"
     ]
    },
    {
     "name": "stdout",
     "output_type": "stream",
     "text": [
      "no_orgs\n"
     ]
    },
    {
     "name": "stderr",
     "output_type": "stream",
     "text": [
      "\r",
      "Generating responses:  70%|███████   | 862/1229 [48:11<12:47,  2.09s/it]"
     ]
    },
    {
     "name": "stdout",
     "output_type": "stream",
     "text": [
      "no_orgs\n"
     ]
    },
    {
     "name": "stderr",
     "output_type": "stream",
     "text": [
      "\r",
      "Generating responses:  70%|███████   | 863/1229 [48:13<12:04,  1.98s/it]"
     ]
    },
    {
     "name": "stdout",
     "output_type": "stream",
     "text": [
      "no_orgs\n"
     ]
    },
    {
     "name": "stderr",
     "output_type": "stream",
     "text": [
      "\r",
      "Generating responses:  70%|███████   | 864/1229 [48:15<12:10,  2.00s/it]"
     ]
    },
    {
     "name": "stdout",
     "output_type": "stream",
     "text": [
      "no_orgs\n"
     ]
    },
    {
     "name": "stderr",
     "output_type": "stream",
     "text": [
      "\r",
      "Generating responses:  70%|███████   | 865/1229 [48:16<11:44,  1.93s/it]"
     ]
    },
    {
     "name": "stdout",
     "output_type": "stream",
     "text": [
      "no_orgs\n"
     ]
    },
    {
     "name": "stderr",
     "output_type": "stream",
     "text": [
      "\r",
      "Generating responses:  70%|███████   | 866/1229 [48:18<10:45,  1.78s/it]"
     ]
    },
    {
     "name": "stdout",
     "output_type": "stream",
     "text": [
      "no_orgs\n"
     ]
    },
    {
     "name": "stderr",
     "output_type": "stream",
     "text": [
      "\r",
      "Generating responses:  71%|███████   | 867/1229 [48:20<11:33,  1.91s/it]"
     ]
    },
    {
     "name": "stdout",
     "output_type": "stream",
     "text": [
      "no_orgs\n"
     ]
    },
    {
     "name": "stderr",
     "output_type": "stream",
     "text": [
      "\r",
      "Generating responses:  71%|███████   | 868/1229 [48:22<11:27,  1.90s/it]"
     ]
    },
    {
     "name": "stdout",
     "output_type": "stream",
     "text": [
      "St Johnstone\n"
     ]
    },
    {
     "name": "stderr",
     "output_type": "stream",
     "text": [
      "\r",
      "Generating responses:  71%|███████   | 869/1229 [48:24<12:23,  2.06s/it]"
     ]
    },
    {
     "name": "stdout",
     "output_type": "stream",
     "text": [
      "no_orgs\n"
     ]
    },
    {
     "name": "stderr",
     "output_type": "stream",
     "text": [
      "\r",
      "Generating responses:  71%|███████   | 870/1229 [48:26<11:56,  2.00s/it]"
     ]
    },
    {
     "name": "stdout",
     "output_type": "stream",
     "text": [
      "Airdrieonians\n"
     ]
    },
    {
     "name": "stderr",
     "output_type": "stream",
     "text": [
      "\r",
      "Generating responses:  71%|███████   | 871/1229 [48:29<12:34,  2.11s/it]"
     ]
    },
    {
     "name": "stdout",
     "output_type": "stream",
     "text": [
      "no_orgs\n"
     ]
    },
    {
     "name": "stderr",
     "output_type": "stream",
     "text": [
      "\r",
      "Generating responses:  71%|███████   | 872/1229 [48:30<11:17,  1.90s/it]"
     ]
    },
    {
     "name": "stdout",
     "output_type": "stream",
     "text": [
      "no_orgs\n"
     ]
    },
    {
     "name": "stderr",
     "output_type": "stream",
     "text": [
      "\r",
      "Generating responses:  71%|███████   | 873/1229 [48:32<11:36,  1.96s/it]"
     ]
    },
    {
     "name": "stdout",
     "output_type": "stream",
     "text": [
      "St Mirren\n"
     ]
    },
    {
     "name": "stderr",
     "output_type": "stream",
     "text": [
      "\r",
      "Generating responses:  71%|███████   | 874/1229 [48:33<10:39,  1.80s/it]"
     ]
    },
    {
     "name": "stdout",
     "output_type": "stream",
     "text": [
      "no_orgs\n"
     ]
    },
    {
     "name": "stderr",
     "output_type": "stream",
     "text": [
      "\r",
      "Generating responses:  71%|███████   | 875/1229 [48:36<11:18,  1.92s/it]"
     ]
    },
    {
     "name": "stdout",
     "output_type": "stream",
     "text": [
      "no_orgs\n"
     ]
    },
    {
     "name": "stderr",
     "output_type": "stream",
     "text": [
      "\r",
      "Generating responses:  71%|███████▏  | 876/1229 [48:38<11:51,  2.02s/it]"
     ]
    },
    {
     "name": "stdout",
     "output_type": "stream",
     "text": [
      "no_orgs\n"
     ]
    },
    {
     "name": "stderr",
     "output_type": "stream",
     "text": [
      "\r",
      "Generating responses:  71%|███████▏  | 877/1229 [48:40<11:30,  1.96s/it]"
     ]
    },
    {
     "name": "stdout",
     "output_type": "stream",
     "text": [
      "no_orgs\n"
     ]
    },
    {
     "name": "stderr",
     "output_type": "stream",
     "text": [
      "\r",
      "Generating responses:  71%|███████▏  | 878/1229 [48:41<10:43,  1.83s/it]"
     ]
    },
    {
     "name": "stdout",
     "output_type": "stream",
     "text": [
      "no_orgs\n"
     ]
    },
    {
     "name": "stderr",
     "output_type": "stream",
     "text": [
      "\r",
      "Generating responses:  72%|███████▏  | 879/1229 [48:43<10:27,  1.79s/it]"
     ]
    },
    {
     "name": "stdout",
     "output_type": "stream",
     "text": [
      "no_orgs\n"
     ]
    },
    {
     "name": "stderr",
     "output_type": "stream",
     "text": [
      "\r",
      "Generating responses:  72%|███████▏  | 880/1229 [48:44<09:33,  1.64s/it]"
     ]
    },
    {
     "name": "stdout",
     "output_type": "stream",
     "text": [
      "no_orgs\n"
     ]
    },
    {
     "name": "stderr",
     "output_type": "stream",
     "text": [
      "\r",
      "Generating responses:  72%|███████▏  | 881/1229 [48:46<09:05,  1.57s/it]"
     ]
    },
    {
     "name": "stdout",
     "output_type": "stream",
     "text": [
      "no_orgs\n"
     ]
    },
    {
     "name": "stderr",
     "output_type": "stream",
     "text": [
      "\r",
      "Generating responses:  72%|███████▏  | 882/1229 [48:47<08:58,  1.55s/it]"
     ]
    },
    {
     "name": "stdout",
     "output_type": "stream",
     "text": [
      "no_orgs\n"
     ]
    },
    {
     "name": "stderr",
     "output_type": "stream",
     "text": [
      "\r",
      "Generating responses:  72%|███████▏  | 883/1229 [48:49<08:51,  1.54s/it]"
     ]
    },
    {
     "name": "stdout",
     "output_type": "stream",
     "text": [
      "no_orgs\n"
     ]
    },
    {
     "name": "stderr",
     "output_type": "stream",
     "text": [
      "\r",
      "Generating responses:  72%|███████▏  | 884/1229 [48:51<10:06,  1.76s/it]"
     ]
    },
    {
     "name": "stdout",
     "output_type": "stream",
     "text": [
      "no_orgs\n"
     ]
    },
    {
     "name": "stderr",
     "output_type": "stream",
     "text": [
      "\r",
      "Generating responses:  72%|███████▏  | 885/1229 [48:53<10:29,  1.83s/it]"
     ]
    },
    {
     "name": "stdout",
     "output_type": "stream",
     "text": [
      "no_orgs\n"
     ]
    },
    {
     "name": "stderr",
     "output_type": "stream",
     "text": [
      "\r",
      "Generating responses:  72%|███████▏  | 886/1229 [48:54<09:53,  1.73s/it]"
     ]
    },
    {
     "name": "stdout",
     "output_type": "stream",
     "text": [
      "no_orgs\n"
     ]
    },
    {
     "name": "stderr",
     "output_type": "stream",
     "text": [
      "\r",
      "Generating responses:  72%|███████▏  | 887/1229 [48:56<10:20,  1.81s/it]"
     ]
    },
    {
     "name": "stdout",
     "output_type": "stream",
     "text": [
      "no_orgs\n"
     ]
    },
    {
     "name": "stderr",
     "output_type": "stream",
     "text": [
      "\r",
      "Generating responses:  72%|███████▏  | 888/1229 [48:58<10:19,  1.82s/it]"
     ]
    },
    {
     "name": "stdout",
     "output_type": "stream",
     "text": [
      "no_orgs\n"
     ]
    },
    {
     "name": "stderr",
     "output_type": "stream",
     "text": [
      "\r",
      "Generating responses:  72%|███████▏  | 889/1229 [49:01<11:08,  1.97s/it]"
     ]
    },
    {
     "name": "stdout",
     "output_type": "stream",
     "text": [
      "no_orgs\n"
     ]
    },
    {
     "name": "stderr",
     "output_type": "stream",
     "text": [
      "\r",
      "Generating responses:  72%|███████▏  | 890/1229 [49:03<11:19,  2.01s/it]"
     ]
    },
    {
     "name": "stdout",
     "output_type": "stream",
     "text": [
      "no_orgs\n"
     ]
    },
    {
     "name": "stderr",
     "output_type": "stream",
     "text": [
      "\r",
      "Generating responses:  72%|███████▏  | 891/1229 [49:05<11:33,  2.05s/it]"
     ]
    },
    {
     "name": "stdout",
     "output_type": "stream",
     "text": [
      "no_orgs\n"
     ]
    },
    {
     "name": "stderr",
     "output_type": "stream",
     "text": [
      "\r",
      "Generating responses:  73%|███████▎  | 892/1229 [49:07<11:39,  2.08s/it]"
     ]
    },
    {
     "name": "stdout",
     "output_type": "stream",
     "text": [
      "no_orgs\n"
     ]
    },
    {
     "name": "stderr",
     "output_type": "stream",
     "text": [
      "\r",
      "Generating responses:  73%|███████▎  | 893/1229 [49:09<11:34,  2.07s/it]"
     ]
    },
    {
     "name": "stdout",
     "output_type": "stream",
     "text": [
      "no_orgs\n"
     ]
    },
    {
     "name": "stderr",
     "output_type": "stream",
     "text": [
      "\r",
      "Generating responses:  73%|███████▎  | 894/1229 [49:11<11:23,  2.04s/it]"
     ]
    },
    {
     "name": "stdout",
     "output_type": "stream",
     "text": [
      "no_orgs\n"
     ]
    },
    {
     "name": "stderr",
     "output_type": "stream",
     "text": [
      "\r",
      "Generating responses:  73%|███████▎  | 895/1229 [49:13<12:00,  2.16s/it]"
     ]
    },
    {
     "name": "stdout",
     "output_type": "stream",
     "text": [
      "Queen's Park\n"
     ]
    },
    {
     "name": "stderr",
     "output_type": "stream",
     "text": [
      "\r",
      "Generating responses:  73%|███████▎  | 896/1229 [49:16<12:04,  2.18s/it]"
     ]
    },
    {
     "name": "stdout",
     "output_type": "stream",
     "text": [
      "no_orgs\n"
     ]
    },
    {
     "name": "stderr",
     "output_type": "stream",
     "text": [
      "\r",
      "Generating responses:  73%|███████▎  | 897/1229 [49:17<11:03,  2.00s/it]"
     ]
    },
    {
     "name": "stdout",
     "output_type": "stream",
     "text": [
      "no_orgs\n"
     ]
    },
    {
     "name": "stderr",
     "output_type": "stream",
     "text": [
      "\r",
      "Generating responses:  73%|███████▎  | 898/1229 [49:19<10:25,  1.89s/it]"
     ]
    },
    {
     "name": "stdout",
     "output_type": "stream",
     "text": [
      "no_orgs\n"
     ]
    },
    {
     "name": "stderr",
     "output_type": "stream",
     "text": [
      "\r",
      "Generating responses:  73%|███████▎  | 899/1229 [49:21<11:08,  2.03s/it]"
     ]
    },
    {
     "name": "stdout",
     "output_type": "stream",
     "text": [
      "Error generating response for prompt at index 899: That model is currently overloaded with other requests. You can retry your request, or contact us through our help center at help.openai.com if the error persists. (Please include the request ID c79b989f753c410a8775b71eb7381a79 in your message.)\n",
      "Query: I need you to show me organisations in the provided sentence. Do not show me any other entity types.\n",
      "    ###\n",
      "    Desired response format: ###\n",
      "    org1, org2, org3\n",
      "    ###\n",
      "    Desired response if no organisations found: ###\n",
      "    no_orgs\n",
      "    ###\n",
      "    For example, if I gave you: ###\n",
      "    \"James, living in Japan, missed his club 's last two games after FIFA slapped a worldwide ban on him for appearing to sign contracts for both Wednesday and Udinese while he was playing for Feyenoord .\",\n",
      "    you would only give me:\n",
      "    FIFA, Wednesday, Udinese, Feyenoord\n",
      "    ###\n",
      "    The provided sentence is: ###\n",
      "    Wimbledon 16 9 4 3 29 17 31\n",
      "    ###\n",
      "    \n",
      "Retrying in 5 seconds...\n",
      "no_orgs\n"
     ]
    },
    {
     "name": "stderr",
     "output_type": "stream",
     "text": [
      "\r",
      "Generating responses:  73%|███████▎  | 900/1229 [49:59<1:09:20, 12.65s/it]"
     ]
    },
    {
     "name": "stdout",
     "output_type": "stream",
     "text": [
      "no_orgs\n"
     ]
    },
    {
     "name": "stderr",
     "output_type": "stream",
     "text": [
      "\r",
      "Generating responses:  73%|███████▎  | 901/1229 [50:01<52:01,  9.52s/it]  "
     ]
    },
    {
     "name": "stdout",
     "output_type": "stream",
     "text": [
      "no_orgs\n"
     ]
    },
    {
     "name": "stderr",
     "output_type": "stream",
     "text": [
      "\r",
      "Generating responses:  73%|███████▎  | 902/1229 [50:03<39:41,  7.28s/it]"
     ]
    },
    {
     "name": "stdout",
     "output_type": "stream",
     "text": [
      "no_orgs\n"
     ]
    },
    {
     "name": "stderr",
     "output_type": "stream",
     "text": [
      "\r",
      "Generating responses:  73%|███████▎  | 903/1229 [50:05<31:19,  5.77s/it]"
     ]
    },
    {
     "name": "stdout",
     "output_type": "stream",
     "text": [
      "no_orgs\n"
     ]
    },
    {
     "name": "stderr",
     "output_type": "stream",
     "text": [
      "\r",
      "Generating responses:  74%|███████▎  | 904/1229 [50:07<25:38,  4.73s/it]"
     ]
    },
    {
     "name": "stdout",
     "output_type": "stream",
     "text": [
      "no_orgs\n"
     ]
    },
    {
     "name": "stderr",
     "output_type": "stream",
     "text": [
      "\r",
      "Generating responses:  74%|███████▎  | 905/1229 [50:10<21:14,  3.93s/it]"
     ]
    },
    {
     "name": "stdout",
     "output_type": "stream",
     "text": [
      "no_orgs\n"
     ]
    },
    {
     "name": "stderr",
     "output_type": "stream",
     "text": [
      "\r",
      "Generating responses:  74%|███████▎  | 906/1229 [50:11<17:40,  3.28s/it]"
     ]
    },
    {
     "name": "stdout",
     "output_type": "stream",
     "text": [
      "Error generating response for prompt at index 906: That model is currently overloaded with other requests. You can retry your request, or contact us through our help center at help.openai.com if the error persists. (Please include the request ID 79a4567ce04b8b65d274fbef17ac0820 in your message.)\n",
      "Query: I need you to show me organisations in the provided sentence. Do not show me any other entity types.\n",
      "    ###\n",
      "    Desired response format: ###\n",
      "    org1, org2, org3\n",
      "    ###\n",
      "    Desired response if no organisations found: ###\n",
      "    no_orgs\n",
      "    ###\n",
      "    For example, if I gave you: ###\n",
      "    \"James, living in Japan, missed his club 's last two games after FIFA slapped a worldwide ban on him for appearing to sign contracts for both Wednesday and Udinese while he was playing for Feyenoord .\",\n",
      "    you would only give me:\n",
      "    FIFA, Wednesday, Udinese, Feyenoord\n",
      "    ###\n",
      "    The provided sentence is: ###\n",
      "    Sheffield Wednesday 16 6 6 4 17 18 24\n",
      "    ###\n",
      "    \n",
      "Retrying in 5 seconds...\n",
      "Sheffield Wednesday\n"
     ]
    },
    {
     "name": "stderr",
     "output_type": "stream",
     "text": [
      "\r",
      "Generating responses:  74%|███████▍  | 907/1229 [50:48<1:11:38, 13.35s/it]"
     ]
    },
    {
     "name": "stdout",
     "output_type": "stream",
     "text": [
      "no_orgs\n"
     ]
    },
    {
     "name": "stderr",
     "output_type": "stream",
     "text": [
      "\r",
      "Generating responses:  74%|███████▍  | 908/1229 [50:50<52:49,  9.87s/it]  "
     ]
    },
    {
     "name": "stdout",
     "output_type": "stream",
     "text": [
      "no_orgs\n"
     ]
    },
    {
     "name": "stderr",
     "output_type": "stream",
     "text": [
      "\r",
      "Generating responses:  74%|███████▍  | 909/1229 [50:51<39:16,  7.36s/it]"
     ]
    },
    {
     "name": "stdout",
     "output_type": "stream",
     "text": [
      "no_orgs\n"
     ]
    },
    {
     "name": "stderr",
     "output_type": "stream",
     "text": [
      "\r",
      "Generating responses:  74%|███████▍  | 910/1229 [50:54<31:03,  5.84s/it]"
     ]
    },
    {
     "name": "stdout",
     "output_type": "stream",
     "text": [
      "no_orgs\n"
     ]
    },
    {
     "name": "stderr",
     "output_type": "stream",
     "text": [
      "\r",
      "Generating responses:  74%|███████▍  | 911/1229 [50:55<24:22,  4.60s/it]"
     ]
    },
    {
     "name": "stdout",
     "output_type": "stream",
     "text": [
      "no_orgs\n"
     ]
    },
    {
     "name": "stderr",
     "output_type": "stream",
     "text": [
      "\r",
      "Generating responses:  74%|███████▍  | 912/1229 [50:58<21:31,  4.07s/it]"
     ]
    },
    {
     "name": "stdout",
     "output_type": "stream",
     "text": [
      "no_orgs\n"
     ]
    },
    {
     "name": "stderr",
     "output_type": "stream",
     "text": [
      "\r",
      "Generating responses:  74%|███████▍  | 913/1229 [51:00<17:12,  3.27s/it]"
     ]
    },
    {
     "name": "stdout",
     "output_type": "stream",
     "text": [
      "no_orgs\n"
     ]
    },
    {
     "name": "stderr",
     "output_type": "stream",
     "text": [
      "\r",
      "Generating responses:  74%|███████▍  | 914/1229 [51:02<15:24,  2.94s/it]"
     ]
    },
    {
     "name": "stdout",
     "output_type": "stream",
     "text": [
      "no_orgs\n"
     ]
    },
    {
     "name": "stderr",
     "output_type": "stream",
     "text": [
      "\r",
      "Generating responses:  74%|███████▍  | 915/1229 [51:04<13:56,  2.66s/it]"
     ]
    },
    {
     "name": "stdout",
     "output_type": "stream",
     "text": [
      "no_orgs\n"
     ]
    },
    {
     "name": "stderr",
     "output_type": "stream",
     "text": [
      "\r",
      "Generating responses:  75%|███████▍  | 916/1229 [51:05<11:42,  2.25s/it]"
     ]
    },
    {
     "name": "stdout",
     "output_type": "stream",
     "text": [
      "no_orgs\n"
     ]
    },
    {
     "name": "stderr",
     "output_type": "stream",
     "text": [
      "\r",
      "Generating responses:  75%|███████▍  | 917/1229 [51:07<10:40,  2.05s/it]"
     ]
    },
    {
     "name": "stdout",
     "output_type": "stream",
     "text": [
      "no_orgs\n"
     ]
    },
    {
     "name": "stderr",
     "output_type": "stream",
     "text": [
      "\r",
      "Generating responses:  75%|███████▍  | 918/1229 [51:09<10:33,  2.04s/it]"
     ]
    },
    {
     "name": "stdout",
     "output_type": "stream",
     "text": [
      "no_orgs\n"
     ]
    },
    {
     "name": "stderr",
     "output_type": "stream",
     "text": [
      "\r",
      "Generating responses:  75%|███████▍  | 919/1229 [51:11<10:14,  1.98s/it]"
     ]
    },
    {
     "name": "stdout",
     "output_type": "stream",
     "text": [
      "no_orgs\n"
     ]
    },
    {
     "name": "stderr",
     "output_type": "stream",
     "text": [
      "\r",
      "Generating responses:  75%|███████▍  | 920/1229 [51:13<10:21,  2.01s/it]"
     ]
    },
    {
     "name": "stdout",
     "output_type": "stream",
     "text": [
      "no_orgs\n"
     ]
    },
    {
     "name": "stderr",
     "output_type": "stream",
     "text": [
      "\r",
      "Generating responses:  75%|███████▍  | 921/1229 [51:14<09:32,  1.86s/it]"
     ]
    },
    {
     "name": "stdout",
     "output_type": "stream",
     "text": [
      "Error generating response for prompt at index 921: That model is currently overloaded with other requests. You can retry your request, or contact us through our help center at help.openai.com if the error persists. (Please include the request ID ca511249d5f8828720172fc1dda2c7e7 in your message.)\n",
      "Query: I need you to show me organisations in the provided sentence. Do not show me any other entity types.\n",
      "    ###\n",
      "    Desired response format: ###\n",
      "    org1, org2, org3\n",
      "    ###\n",
      "    Desired response if no organisations found: ###\n",
      "    no_orgs\n",
      "    ###\n",
      "    For example, if I gave you: ###\n",
      "    \"James, living in Japan, missed his club 's last two games after FIFA slapped a worldwide ban on him for appearing to sign contracts for both Wednesday and Udinese while he was playing for Feyenoord .\",\n",
      "    you would only give me:\n",
      "    FIFA, Wednesday, Udinese, Feyenoord\n",
      "    ###\n",
      "    The provided sentence is: ###\n",
      "    Crystal Palace 21 9 8 4 46 22 35\n",
      "    ###\n",
      "    \n",
      "Retrying in 5 seconds...\n",
      "no_orgs\n"
     ]
    },
    {
     "name": "stderr",
     "output_type": "stream",
     "text": [
      "\r",
      "Generating responses:  75%|███████▌  | 922/1229 [51:52<1:04:33, 12.62s/it]"
     ]
    },
    {
     "name": "stdout",
     "output_type": "stream",
     "text": [
      "no_orgs\n"
     ]
    },
    {
     "name": "stderr",
     "output_type": "stream",
     "text": [
      "\r",
      "Generating responses:  75%|███████▌  | 923/1229 [51:54<48:42,  9.55s/it]  "
     ]
    },
    {
     "name": "stdout",
     "output_type": "stream",
     "text": [
      "no_orgs\n"
     ]
    },
    {
     "name": "stderr",
     "output_type": "stream",
     "text": [
      "\r",
      "Generating responses:  75%|███████▌  | 924/1229 [51:56<36:50,  7.25s/it]"
     ]
    },
    {
     "name": "stdout",
     "output_type": "stream",
     "text": [
      "no_orgs\n"
     ]
    },
    {
     "name": "stderr",
     "output_type": "stream",
     "text": [
      "\r",
      "Generating responses:  75%|███████▌  | 925/1229 [51:58<27:52,  5.50s/it]"
     ]
    },
    {
     "name": "stdout",
     "output_type": "stream",
     "text": [
      "no_orgs\n"
     ]
    },
    {
     "name": "stderr",
     "output_type": "stream",
     "text": [
      "\r",
      "Generating responses:  75%|███████▌  | 926/1229 [52:00<22:38,  4.49s/it]"
     ]
    },
    {
     "name": "stdout",
     "output_type": "stream",
     "text": [
      "no_orgs\n"
     ]
    },
    {
     "name": "stderr",
     "output_type": "stream",
     "text": [
      "\r",
      "Generating responses:  75%|███████▌  | 927/1229 [52:01<18:16,  3.63s/it]"
     ]
    },
    {
     "name": "stdout",
     "output_type": "stream",
     "text": [
      "no_orgs\n"
     ]
    },
    {
     "name": "stderr",
     "output_type": "stream",
     "text": [
      "\r",
      "Generating responses:  76%|███████▌  | 928/1229 [52:03<15:53,  3.17s/it]"
     ]
    },
    {
     "name": "stdout",
     "output_type": "stream",
     "text": [
      "no_orgs\n"
     ]
    },
    {
     "name": "stderr",
     "output_type": "stream",
     "text": [
      "\r",
      "Generating responses:  76%|███████▌  | 929/1229 [52:05<13:56,  2.79s/it]"
     ]
    },
    {
     "name": "stdout",
     "output_type": "stream",
     "text": [
      "no_orgs\n"
     ]
    },
    {
     "name": "stderr",
     "output_type": "stream",
     "text": [
      "\r",
      "Generating responses:  76%|███████▌  | 930/1229 [52:07<12:35,  2.53s/it]"
     ]
    },
    {
     "name": "stdout",
     "output_type": "stream",
     "text": [
      "Queens Park Rangers\n"
     ]
    },
    {
     "name": "stderr",
     "output_type": "stream",
     "text": [
      "\r",
      "Generating responses:  76%|███████▌  | 931/1229 [52:09<11:42,  2.36s/it]"
     ]
    },
    {
     "name": "stdout",
     "output_type": "stream",
     "text": [
      "no_orgs\n"
     ]
    },
    {
     "name": "stderr",
     "output_type": "stream",
     "text": [
      "\r",
      "Generating responses:  76%|███████▌  | 932/1229 [52:10<10:06,  2.04s/it]"
     ]
    },
    {
     "name": "stdout",
     "output_type": "stream",
     "text": [
      "no_orgs\n"
     ]
    },
    {
     "name": "stderr",
     "output_type": "stream",
     "text": [
      "\r",
      "Generating responses:  76%|███████▌  | 933/1229 [52:12<09:37,  1.95s/it]"
     ]
    },
    {
     "name": "stdout",
     "output_type": "stream",
     "text": [
      "no_orgs\n"
     ]
    },
    {
     "name": "stderr",
     "output_type": "stream",
     "text": [
      "\r",
      "Generating responses:  76%|███████▌  | 934/1229 [52:14<08:42,  1.77s/it]"
     ]
    },
    {
     "name": "stdout",
     "output_type": "stream",
     "text": [
      "no_orgs\n"
     ]
    },
    {
     "name": "stderr",
     "output_type": "stream",
     "text": [
      "\r",
      "Generating responses:  76%|███████▌  | 935/1229 [52:16<09:03,  1.85s/it]"
     ]
    },
    {
     "name": "stdout",
     "output_type": "stream",
     "text": [
      "no_orgs\n"
     ]
    },
    {
     "name": "stderr",
     "output_type": "stream",
     "text": [
      "\r",
      "Generating responses:  76%|███████▌  | 936/1229 [52:19<11:10,  2.29s/it]"
     ]
    },
    {
     "name": "stdout",
     "output_type": "stream",
     "text": [
      "no_orgs\n"
     ]
    },
    {
     "name": "stderr",
     "output_type": "stream",
     "text": [
      "\r",
      "Generating responses:  76%|███████▌  | 937/1229 [52:20<09:46,  2.01s/it]"
     ]
    },
    {
     "name": "stdout",
     "output_type": "stream",
     "text": [
      "no_orgs\n"
     ]
    },
    {
     "name": "stderr",
     "output_type": "stream",
     "text": [
      "\r",
      "Generating responses:  76%|███████▋  | 938/1229 [52:22<09:51,  2.03s/it]"
     ]
    },
    {
     "name": "stdout",
     "output_type": "stream",
     "text": [
      "no_orgs\n"
     ]
    },
    {
     "name": "stderr",
     "output_type": "stream",
     "text": [
      "\r",
      "Generating responses:  76%|███████▋  | 939/1229 [52:25<10:17,  2.13s/it]"
     ]
    },
    {
     "name": "stdout",
     "output_type": "stream",
     "text": [
      "no_orgs\n"
     ]
    },
    {
     "name": "stderr",
     "output_type": "stream",
     "text": [
      "\r",
      "Generating responses:  76%|███████▋  | 940/1229 [52:27<10:28,  2.18s/it]"
     ]
    },
    {
     "name": "stdout",
     "output_type": "stream",
     "text": [
      "no_orgs\n"
     ]
    },
    {
     "name": "stderr",
     "output_type": "stream",
     "text": [
      "\r",
      "Generating responses:  77%|███████▋  | 941/1229 [52:29<09:30,  1.98s/it]"
     ]
    },
    {
     "name": "stdout",
     "output_type": "stream",
     "text": [
      "no_orgs\n"
     ]
    },
    {
     "name": "stderr",
     "output_type": "stream",
     "text": [
      "\r",
      "Generating responses:  77%|███████▋  | 942/1229 [52:30<08:51,  1.85s/it]"
     ]
    },
    {
     "name": "stdout",
     "output_type": "stream",
     "text": [
      "no_orgs\n"
     ]
    },
    {
     "name": "stderr",
     "output_type": "stream",
     "text": [
      "\r",
      "Generating responses:  77%|███████▋  | 943/1229 [52:31<08:09,  1.71s/it]"
     ]
    },
    {
     "name": "stdout",
     "output_type": "stream",
     "text": [
      "no_orgs\n"
     ]
    },
    {
     "name": "stderr",
     "output_type": "stream",
     "text": [
      "\r",
      "Generating responses:  77%|███████▋  | 944/1229 [52:33<08:36,  1.81s/it]"
     ]
    },
    {
     "name": "stdout",
     "output_type": "stream",
     "text": [
      "no_orgs\n"
     ]
    },
    {
     "name": "stderr",
     "output_type": "stream",
     "text": [
      "\r",
      "Generating responses:  77%|███████▋  | 945/1229 [52:35<08:34,  1.81s/it]"
     ]
    },
    {
     "name": "stdout",
     "output_type": "stream",
     "text": [
      "no_orgs\n"
     ]
    },
    {
     "name": "stderr",
     "output_type": "stream",
     "text": [
      "\r",
      "Generating responses:  77%|███████▋  | 946/1229 [52:38<09:12,  1.95s/it]"
     ]
    },
    {
     "name": "stdout",
     "output_type": "stream",
     "text": [
      "Error generating response for prompt at index 946: That model is currently overloaded with other requests. You can retry your request, or contact us through our help center at help.openai.com if the error persists. (Please include the request ID eb7a24918ebd11ed06b640bb85345bea in your message.)\n",
      "Query: I need you to show me organisations in the provided sentence. Do not show me any other entity types.\n",
      "    ###\n",
      "    Desired response format: ###\n",
      "    org1, org2, org3\n",
      "    ###\n",
      "    Desired response if no organisations found: ###\n",
      "    no_orgs\n",
      "    ###\n",
      "    For example, if I gave you: ###\n",
      "    \"James, living in Japan, missed his club 's last two games after FIFA slapped a worldwide ban on him for appearing to sign contracts for both Wednesday and Udinese while he was playing for Feyenoord .\",\n",
      "    you would only give me:\n",
      "    FIFA, Wednesday, Udinese, Feyenoord\n",
      "    ###\n",
      "    The provided sentence is: ###\n",
      "    Stockport 22 10 6 6 29 25 36\n",
      "    ###\n",
      "    \n",
      "Retrying in 5 seconds...\n",
      "no_orgs\n"
     ]
    },
    {
     "name": "stderr",
     "output_type": "stream",
     "text": [
      "\r",
      "Generating responses:  77%|███████▋  | 947/1229 [53:15<58:37, 12.47s/it]"
     ]
    },
    {
     "name": "stdout",
     "output_type": "stream",
     "text": [
      "no_orgs\n"
     ]
    },
    {
     "name": "stderr",
     "output_type": "stream",
     "text": [
      "\r",
      "Generating responses:  77%|███████▋  | 948/1229 [53:16<43:29,  9.29s/it]"
     ]
    },
    {
     "name": "stdout",
     "output_type": "stream",
     "text": [
      "no_orgs\n"
     ]
    },
    {
     "name": "stderr",
     "output_type": "stream",
     "text": [
      "\r",
      "Generating responses:  77%|███████▋  | 949/1229 [53:18<32:53,  7.05s/it]"
     ]
    },
    {
     "name": "stdout",
     "output_type": "stream",
     "text": [
      "no_orgs\n"
     ]
    },
    {
     "name": "stderr",
     "output_type": "stream",
     "text": [
      "\r",
      "Generating responses:  77%|███████▋  | 950/1229 [53:20<25:59,  5.59s/it]"
     ]
    },
    {
     "name": "stdout",
     "output_type": "stream",
     "text": [
      "no_orgs\n"
     ]
    },
    {
     "name": "stderr",
     "output_type": "stream",
     "text": [
      "\r",
      "Generating responses:  77%|███████▋  | 951/1229 [53:22<20:27,  4.41s/it]"
     ]
    },
    {
     "name": "stdout",
     "output_type": "stream",
     "text": [
      "no_orgs\n"
     ]
    },
    {
     "name": "stderr",
     "output_type": "stream",
     "text": [
      "\r",
      "Generating responses:  77%|███████▋  | 952/1229 [53:24<17:04,  3.70s/it]"
     ]
    },
    {
     "name": "stdout",
     "output_type": "stream",
     "text": [
      "no_orgs\n"
     ]
    },
    {
     "name": "stderr",
     "output_type": "stream",
     "text": [
      "\r",
      "Generating responses:  78%|███████▊  | 953/1229 [53:26<13:52,  3.02s/it]"
     ]
    },
    {
     "name": "stdout",
     "output_type": "stream",
     "text": [
      "no_orgs\n"
     ]
    },
    {
     "name": "stderr",
     "output_type": "stream",
     "text": [
      "\r",
      "Generating responses:  78%|███████▊  | 954/1229 [53:27<11:43,  2.56s/it]"
     ]
    },
    {
     "name": "stdout",
     "output_type": "stream",
     "text": [
      "no_orgs\n"
     ]
    },
    {
     "name": "stderr",
     "output_type": "stream",
     "text": [
      "\r",
      "Generating responses:  78%|███████▊  | 955/1229 [53:28<09:57,  2.18s/it]"
     ]
    },
    {
     "name": "stdout",
     "output_type": "stream",
     "text": [
      "no_orgs\n"
     ]
    },
    {
     "name": "stderr",
     "output_type": "stream",
     "text": [
      "\r",
      "Generating responses:  78%|███████▊  | 956/1229 [53:31<09:50,  2.16s/it]"
     ]
    },
    {
     "name": "stdout",
     "output_type": "stream",
     "text": [
      "no_orgs\n"
     ]
    },
    {
     "name": "stderr",
     "output_type": "stream",
     "text": [
      "\r",
      "Generating responses:  78%|███████▊  | 957/1229 [53:32<09:26,  2.08s/it]"
     ]
    },
    {
     "name": "stdout",
     "output_type": "stream",
     "text": [
      "no_orgs\n"
     ]
    },
    {
     "name": "stderr",
     "output_type": "stream",
     "text": [
      "\r",
      "Generating responses:  78%|███████▊  | 958/1229 [53:34<08:38,  1.91s/it]"
     ]
    },
    {
     "name": "stdout",
     "output_type": "stream",
     "text": [
      "Error generating response for prompt at index 958: That model is currently overloaded with other requests. You can retry your request, or contact us through our help center at help.openai.com if the error persists. (Please include the request ID 2100974359068b8ed3c9f554a102fdf8 in your message.)\n",
      "Query: I need you to show me organisations in the provided sentence. Do not show me any other entity types.\n",
      "    ###\n",
      "    Desired response format: ###\n",
      "    org1, org2, org3\n",
      "    ###\n",
      "    Desired response if no organisations found: ###\n",
      "    no_orgs\n",
      "    ###\n",
      "    For example, if I gave you: ###\n",
      "    \"James, living in Japan, missed his club 's last two games after FIFA slapped a worldwide ban on him for appearing to sign contracts for both Wednesday and Udinese while he was playing for Feyenoord .\",\n",
      "    you would only give me:\n",
      "    FIFA, Wednesday, Udinese, Feyenoord\n",
      "    ###\n",
      "    The provided sentence is: ###\n",
      "    Bournemouth 22 7 4 11 20 27 25\n",
      "    ###\n",
      "    \n",
      "Retrying in 5 seconds...\n",
      "no_orgs\n"
     ]
    },
    {
     "name": "stderr",
     "output_type": "stream",
     "text": [
      "\r",
      "Generating responses:  78%|███████▊  | 959/1229 [54:11<55:38, 12.37s/it]"
     ]
    },
    {
     "name": "stdout",
     "output_type": "stream",
     "text": [
      "no_orgs\n"
     ]
    },
    {
     "name": "stderr",
     "output_type": "stream",
     "text": [
      "\r",
      "Generating responses:  78%|███████▊  | 960/1229 [54:12<41:01,  9.15s/it]"
     ]
    },
    {
     "name": "stdout",
     "output_type": "stream",
     "text": [
      "no_orgs\n"
     ]
    },
    {
     "name": "stderr",
     "output_type": "stream",
     "text": [
      "\r",
      "Generating responses:  78%|███████▊  | 961/1229 [54:15<31:47,  7.12s/it]"
     ]
    },
    {
     "name": "stdout",
     "output_type": "stream",
     "text": [
      "no_orgs\n"
     ]
    },
    {
     "name": "stderr",
     "output_type": "stream",
     "text": [
      "\r",
      "Generating responses:  78%|███████▊  | 962/1229 [54:16<24:17,  5.46s/it]"
     ]
    },
    {
     "name": "stdout",
     "output_type": "stream",
     "text": [
      "no_orgs\n"
     ]
    },
    {
     "name": "stderr",
     "output_type": "stream",
     "text": [
      "\r",
      "Generating responses:  78%|███████▊  | 963/1229 [54:19<19:57,  4.50s/it]"
     ]
    },
    {
     "name": "stdout",
     "output_type": "stream",
     "text": [
      "no_orgs\n"
     ]
    },
    {
     "name": "stderr",
     "output_type": "stream",
     "text": [
      "\r",
      "Generating responses:  78%|███████▊  | 964/1229 [54:20<15:41,  3.55s/it]"
     ]
    },
    {
     "name": "stdout",
     "output_type": "stream",
     "text": [
      "no_orgs\n"
     ]
    },
    {
     "name": "stderr",
     "output_type": "stream",
     "text": [
      "\r",
      "Generating responses:  79%|███████▊  | 965/1229 [54:21<12:47,  2.91s/it]"
     ]
    },
    {
     "name": "stdout",
     "output_type": "stream",
     "text": [
      "no_orgs\n"
     ]
    },
    {
     "name": "stderr",
     "output_type": "stream",
     "text": [
      "\r",
      "Generating responses:  79%|███████▊  | 966/1229 [54:23<11:40,  2.66s/it]"
     ]
    },
    {
     "name": "stdout",
     "output_type": "stream",
     "text": [
      "no_orgs\n"
     ]
    },
    {
     "name": "stderr",
     "output_type": "stream",
     "text": [
      "\r",
      "Generating responses:  79%|███████▊  | 967/1229 [54:25<10:00,  2.29s/it]"
     ]
    },
    {
     "name": "stdout",
     "output_type": "stream",
     "text": [
      "no_orgs\n"
     ]
    },
    {
     "name": "stderr",
     "output_type": "stream",
     "text": [
      "\r",
      "Generating responses:  79%|███████▉  | 968/1229 [54:27<09:52,  2.27s/it]"
     ]
    },
    {
     "name": "stdout",
     "output_type": "stream",
     "text": [
      "no_orgs\n"
     ]
    },
    {
     "name": "stderr",
     "output_type": "stream",
     "text": [
      "\r",
      "Generating responses:  79%|███████▉  | 969/1229 [54:29<09:25,  2.18s/it]"
     ]
    },
    {
     "name": "stdout",
     "output_type": "stream",
     "text": [
      "no_orgs\n"
     ]
    },
    {
     "name": "stderr",
     "output_type": "stream",
     "text": [
      "\r",
      "Generating responses:  79%|███████▉  | 970/1229 [54:31<08:46,  2.03s/it]"
     ]
    },
    {
     "name": "stdout",
     "output_type": "stream",
     "text": [
      "no_orgs\n"
     ]
    },
    {
     "name": "stderr",
     "output_type": "stream",
     "text": [
      "\r",
      "Generating responses:  79%|███████▉  | 971/1229 [54:33<09:29,  2.21s/it]"
     ]
    },
    {
     "name": "stdout",
     "output_type": "stream",
     "text": [
      "no_orgs\n"
     ]
    },
    {
     "name": "stderr",
     "output_type": "stream",
     "text": [
      "\r",
      "Generating responses:  79%|███████▉  | 972/1229 [54:35<09:18,  2.17s/it]"
     ]
    },
    {
     "name": "stdout",
     "output_type": "stream",
     "text": [
      "no_orgs\n"
     ]
    },
    {
     "name": "stderr",
     "output_type": "stream",
     "text": [
      "\r",
      "Generating responses:  79%|███████▉  | 973/1229 [54:37<09:08,  2.14s/it]"
     ]
    },
    {
     "name": "stdout",
     "output_type": "stream",
     "text": [
      "no_orgs\n"
     ]
    },
    {
     "name": "stderr",
     "output_type": "stream",
     "text": [
      "\r",
      "Generating responses:  79%|███████▉  | 974/1229 [54:41<11:10,  2.63s/it]"
     ]
    },
    {
     "name": "stdout",
     "output_type": "stream",
     "text": [
      "no_orgs\n"
     ]
    },
    {
     "name": "stderr",
     "output_type": "stream",
     "text": [
      "\r",
      "Generating responses:  79%|███████▉  | 975/1229 [54:43<10:26,  2.47s/it]"
     ]
    },
    {
     "name": "stdout",
     "output_type": "stream",
     "text": [
      "no_orgs\n"
     ]
    },
    {
     "name": "stderr",
     "output_type": "stream",
     "text": [
      "\r",
      "Generating responses:  79%|███████▉  | 976/1229 [54:45<09:43,  2.31s/it]"
     ]
    },
    {
     "name": "stdout",
     "output_type": "stream",
     "text": [
      "no_orgs\n"
     ]
    },
    {
     "name": "stderr",
     "output_type": "stream",
     "text": [
      "\r",
      "Generating responses:  79%|███████▉  | 977/1229 [54:47<09:22,  2.23s/it]"
     ]
    },
    {
     "name": "stdout",
     "output_type": "stream",
     "text": [
      "no_orgs\n"
     ]
    },
    {
     "name": "stderr",
     "output_type": "stream",
     "text": [
      "\r",
      "Generating responses:  80%|███████▉  | 978/1229 [54:49<08:56,  2.14s/it]"
     ]
    },
    {
     "name": "stdout",
     "output_type": "stream",
     "text": [
      "no_orgs\n"
     ]
    },
    {
     "name": "stderr",
     "output_type": "stream",
     "text": [
      "\r",
      "Generating responses:  80%|███████▉  | 979/1229 [54:51<08:55,  2.14s/it]"
     ]
    },
    {
     "name": "stdout",
     "output_type": "stream",
     "text": [
      "no_orgs\n"
     ]
    },
    {
     "name": "stderr",
     "output_type": "stream",
     "text": [
      "\r",
      "Generating responses:  80%|███████▉  | 980/1229 [54:53<08:24,  2.03s/it]"
     ]
    },
    {
     "name": "stdout",
     "output_type": "stream",
     "text": [
      "no_orgs\n"
     ]
    },
    {
     "name": "stderr",
     "output_type": "stream",
     "text": [
      "\r",
      "Generating responses:  80%|███████▉  | 981/1229 [54:55<07:47,  1.88s/it]"
     ]
    },
    {
     "name": "stdout",
     "output_type": "stream",
     "text": [
      "no_orgs\n"
     ]
    },
    {
     "name": "stderr",
     "output_type": "stream",
     "text": [
      "\r",
      "Generating responses:  80%|███████▉  | 982/1229 [54:56<07:33,  1.83s/it]"
     ]
    },
    {
     "name": "stdout",
     "output_type": "stream",
     "text": [
      "no_orgs\n"
     ]
    },
    {
     "name": "stderr",
     "output_type": "stream",
     "text": [
      "\r",
      "Generating responses:  80%|███████▉  | 983/1229 [54:58<07:33,  1.84s/it]"
     ]
    },
    {
     "name": "stdout",
     "output_type": "stream",
     "text": [
      "no_orgs\n"
     ]
    },
    {
     "name": "stderr",
     "output_type": "stream",
     "text": [
      "\r",
      "Generating responses:  80%|████████  | 984/1229 [55:00<07:23,  1.81s/it]"
     ]
    },
    {
     "name": "stdout",
     "output_type": "stream",
     "text": [
      "no_orgs\n"
     ]
    },
    {
     "name": "stderr",
     "output_type": "stream",
     "text": [
      "\r",
      "Generating responses:  80%|████████  | 985/1229 [55:02<07:54,  1.94s/it]"
     ]
    },
    {
     "name": "stdout",
     "output_type": "stream",
     "text": [
      "no_orgs\n"
     ]
    },
    {
     "name": "stderr",
     "output_type": "stream",
     "text": [
      "\r",
      "Generating responses:  80%|████████  | 986/1229 [55:04<08:08,  2.01s/it]"
     ]
    },
    {
     "name": "stdout",
     "output_type": "stream",
     "text": [
      "no_orgs\n"
     ]
    },
    {
     "name": "stderr",
     "output_type": "stream",
     "text": [
      "\r",
      "Generating responses:  80%|████████  | 987/1229 [55:06<07:52,  1.95s/it]"
     ]
    },
    {
     "name": "stdout",
     "output_type": "stream",
     "text": [
      "no_orgs\n"
     ]
    },
    {
     "name": "stderr",
     "output_type": "stream",
     "text": [
      "\r",
      "Generating responses:  80%|████████  | 988/1229 [55:08<07:41,  1.91s/it]"
     ]
    },
    {
     "name": "stdout",
     "output_type": "stream",
     "text": [
      "ARSENAL\n"
     ]
    },
    {
     "name": "stderr",
     "output_type": "stream",
     "text": [
      "\r",
      "Generating responses:  80%|████████  | 989/1229 [55:10<07:47,  1.95s/it]"
     ]
    },
    {
     "name": "stdout",
     "output_type": "stream",
     "text": [
      "Arsenal, Derby\n"
     ]
    },
    {
     "name": "stderr",
     "output_type": "stream",
     "text": [
      "\r",
      "Generating responses:  81%|████████  | 990/1229 [55:12<07:56,  2.00s/it]"
     ]
    },
    {
     "name": "stdout",
     "output_type": "stream",
     "text": [
      "Arsenal, London club\n"
     ]
    },
    {
     "name": "stderr",
     "output_type": "stream",
     "text": [
      "\r",
      "Generating responses:  81%|████████  | 991/1229 [55:15<08:18,  2.10s/it]"
     ]
    },
    {
     "name": "stdout",
     "output_type": "stream",
     "text": [
      "Liverpool, Sheffield Wednesday\n"
     ]
    },
    {
     "name": "stderr",
     "output_type": "stream",
     "text": [
      "\r",
      "Generating responses:  81%|████████  | 992/1229 [55:16<08:00,  2.03s/it]"
     ]
    },
    {
     "name": "stdout",
     "output_type": "stream",
     "text": [
      "Wimbledon, Liverpool, Sunderland\n"
     ]
    },
    {
     "name": "stderr",
     "output_type": "stream",
     "text": [
      "\r",
      "Generating responses:  81%|████████  | 993/1229 [55:18<07:24,  1.88s/it]"
     ]
    },
    {
     "name": "stdout",
     "output_type": "stream",
     "text": [
      "Wimbledon, Arsenal\n"
     ]
    },
    {
     "name": "stderr",
     "output_type": "stream",
     "text": [
      "\r",
      "Generating responses:  81%|████████  | 994/1229 [55:20<07:29,  1.91s/it]"
     ]
    },
    {
     "name": "stdout",
     "output_type": "stream",
     "text": [
      "Aberdeen, Dunfermline\n"
     ]
    },
    {
     "name": "stderr",
     "output_type": "stream",
     "text": [
      "\r",
      "Generating responses:  81%|████████  | 995/1229 [55:22<07:36,  1.95s/it]"
     ]
    },
    {
     "name": "stdout",
     "output_type": "stream",
     "text": [
      "no_orgs\n"
     ]
    },
    {
     "name": "stderr",
     "output_type": "stream",
     "text": [
      "\r",
      "Generating responses:  81%|████████  | 996/1229 [55:24<07:26,  1.92s/it]"
     ]
    },
    {
     "name": "stdout",
     "output_type": "stream",
     "text": [
      "Kilmarnock, Dundee United\n"
     ]
    },
    {
     "name": "stderr",
     "output_type": "stream",
     "text": [
      "\r",
      "Generating responses:  81%|████████  | 997/1229 [55:26<07:40,  1.99s/it]"
     ]
    },
    {
     "name": "stdout",
     "output_type": "stream",
     "text": [
      "Motherwell, Celtic\n"
     ]
    },
    {
     "name": "stderr",
     "output_type": "stream",
     "text": [
      "\r",
      "Generating responses:  81%|████████  | 998/1229 [55:28<07:43,  2.01s/it]"
     ]
    },
    {
     "name": "stdout",
     "output_type": "stream",
     "text": [
      "Rangers, Hibernian\n"
     ]
    },
    {
     "name": "stderr",
     "output_type": "stream",
     "text": [
      "\r",
      "Generating responses:  81%|████████▏ | 999/1229 [55:30<07:57,  2.08s/it]"
     ]
    },
    {
     "name": "stdout",
     "output_type": "stream",
     "text": [
      "no_orgs\n"
     ]
    },
    {
     "name": "stderr",
     "output_type": "stream",
     "text": [
      "\r",
      "Generating responses:  81%|████████▏ | 1000/1229 [55:32<07:15,  1.90s/it]"
     ]
    },
    {
     "name": "stdout",
     "output_type": "stream",
     "text": [
      "Greenock Morton, St Johnstone\n"
     ]
    },
    {
     "name": "stderr",
     "output_type": "stream",
     "text": [
      "\r",
      "Generating responses:  81%|████████▏ | 1001/1229 [55:34<07:51,  2.07s/it]"
     ]
    },
    {
     "name": "stdout",
     "output_type": "stream",
     "text": [
      "Airdrieonians, Clydebank\n"
     ]
    },
    {
     "name": "stderr",
     "output_type": "stream",
     "text": [
      "\r",
      "Generating responses:  82%|████████▏ | 1002/1229 [55:36<07:46,  2.05s/it]"
     ]
    },
    {
     "name": "stdout",
     "output_type": "stream",
     "text": [
      "Fife, Partick, Stirling, St Mirren\n"
     ]
    },
    {
     "name": "stderr",
     "output_type": "stream",
     "text": [
      "\r",
      "Generating responses:  82%|████████▏ | 1003/1229 [55:39<08:12,  2.18s/it]"
     ]
    },
    {
     "name": "stdout",
     "output_type": "stream",
     "text": [
      "no_orgs\n"
     ]
    },
    {
     "name": "stderr",
     "output_type": "stream",
     "text": [
      "\r",
      "Generating responses:  82%|████████▏ | 1004/1229 [55:41<08:10,  2.18s/it]"
     ]
    },
    {
     "name": "stdout",
     "output_type": "stream",
     "text": [
      "no_orgs\n"
     ]
    },
    {
     "name": "stderr",
     "output_type": "stream",
     "text": [
      "\r",
      "Generating responses:  82%|████████▏ | 1005/1229 [55:43<08:13,  2.20s/it]"
     ]
    },
    {
     "name": "stdout",
     "output_type": "stream",
     "text": [
      "Ross County, Montrose\n"
     ]
    },
    {
     "name": "stderr",
     "output_type": "stream",
     "text": [
      "\r",
      "Generating responses:  82%|████████▏ | 1006/1229 [55:45<07:31,  2.02s/it]"
     ]
    },
    {
     "name": "stdout",
     "output_type": "stream",
     "text": [
      "Forfar, Alloa, Inverness Thistle, Queen's Park\n"
     ]
    },
    {
     "name": "stderr",
     "output_type": "stream",
     "text": [
      "\r",
      "Generating responses:  82%|████████▏ | 1007/1229 [55:48<08:53,  2.40s/it]"
     ]
    },
    {
     "name": "stdout",
     "output_type": "stream",
     "text": [
      "no_orgs\n"
     ]
    },
    {
     "name": "stderr",
     "output_type": "stream",
     "text": [
      "\r",
      "Generating responses:  82%|████████▏ | 1008/1229 [55:50<08:38,  2.35s/it]"
     ]
    },
    {
     "name": "stdout",
     "output_type": "stream",
     "text": [
      "Elgin City, Whitehill\n"
     ]
    },
    {
     "name": "stderr",
     "output_type": "stream",
     "text": [
      "\r",
      "Generating responses:  82%|████████▏ | 1009/1229 [55:52<08:28,  2.31s/it]"
     ]
    },
    {
     "name": "stdout",
     "output_type": "stream",
     "text": [
      "Albion, Forfar, Huntly, Clyde\n"
     ]
    },
    {
     "name": "stderr",
     "output_type": "stream",
     "text": [
      "\r",
      "Generating responses:  82%|████████▏ | 1010/1229 [55:55<08:23,  2.30s/it]"
     ]
    },
    {
     "name": "stdout",
     "output_type": "stream",
     "text": [
      "Arsenal, Derby\n"
     ]
    },
    {
     "name": "stderr",
     "output_type": "stream",
     "text": [
      "\r",
      "Generating responses:  82%|████████▏ | 1011/1229 [55:57<08:11,  2.26s/it]"
     ]
    },
    {
     "name": "stdout",
     "output_type": "stream",
     "text": [
      "Chelsea, Everton\n"
     ]
    },
    {
     "name": "stderr",
     "output_type": "stream",
     "text": [
      "\r",
      "Generating responses:  82%|████████▏ | 1012/1229 [55:59<07:29,  2.07s/it]"
     ]
    },
    {
     "name": "stdout",
     "output_type": "stream",
     "text": [
      "no_orgs\n"
     ]
    },
    {
     "name": "stderr",
     "output_type": "stream",
     "text": [
      "\r",
      "Generating responses:  82%|████████▏ | 1013/1229 [56:00<06:50,  1.90s/it]"
     ]
    },
    {
     "name": "stdout",
     "output_type": "stream",
     "text": [
      "Error generating response for prompt at index 1013: That model is currently overloaded with other requests. You can retry your request, or contact us through our help center at help.openai.com if the error persists. (Please include the request ID 96b0aecfdb42bd5e505bc8b345a2a4e4 in your message.)\n",
      "Query: I need you to show me organisations in the provided sentence. Do not show me any other entity types.\n",
      "    ###\n",
      "    Desired response format: ###\n",
      "    org1, org2, org3\n",
      "    ###\n",
      "    Desired response if no organisations found: ###\n",
      "    no_orgs\n",
      "    ###\n",
      "    For example, if I gave you: ###\n",
      "    \"James, living in Japan, missed his club 's last two games after FIFA slapped a worldwide ban on him for appearing to sign contracts for both Wednesday and Udinese while he was playing for Feyenoord .\",\n",
      "    you would only give me:\n",
      "    FIFA, Wednesday, Udinese, Feyenoord\n",
      "    ###\n",
      "    The provided sentence is: ###\n",
      "    Leicester 1 Blackburn 1\n",
      "    ###\n",
      "    \n",
      "Retrying in 5 seconds...\n",
      "no_orgs\n"
     ]
    },
    {
     "name": "stderr",
     "output_type": "stream",
     "text": [
      "\r",
      "Generating responses:  83%|████████▎ | 1014/1229 [56:38<45:20, 12.65s/it]"
     ]
    },
    {
     "name": "stdout",
     "output_type": "stream",
     "text": [
      "Sheffield Wednesday\n"
     ]
    },
    {
     "name": "stderr",
     "output_type": "stream",
     "text": [
      "\r",
      "Generating responses:  83%|████████▎ | 1015/1229 [56:39<33:21,  9.35s/it]"
     ]
    },
    {
     "name": "stdout",
     "output_type": "stream",
     "text": [
      "no_orgs\n"
     ]
    },
    {
     "name": "stderr",
     "output_type": "stream",
     "text": [
      "\r",
      "Generating responses:  83%|████████▎ | 1016/1229 [56:42<25:25,  7.16s/it]"
     ]
    },
    {
     "name": "stdout",
     "output_type": "stream",
     "text": [
      "Southampton, Aston Villa\n"
     ]
    },
    {
     "name": "stderr",
     "output_type": "stream",
     "text": [
      "\r",
      "Generating responses:  83%|████████▎ | 1017/1229 [56:43<19:48,  5.61s/it]"
     ]
    },
    {
     "name": "stdout",
     "output_type": "stream",
     "text": [
      "Sunderland, Wimbledon\n"
     ]
    },
    {
     "name": "stderr",
     "output_type": "stream",
     "text": [
      "\r",
      "Generating responses:  83%|████████▎ | 1018/1229 [56:46<16:20,  4.65s/it]"
     ]
    },
    {
     "name": "stdout",
     "output_type": "stream",
     "text": [
      "no_orgs\n"
     ]
    },
    {
     "name": "stderr",
     "output_type": "stream",
     "text": [
      "\r",
      "Generating responses:  83%|████████▎ | 1019/1229 [56:48<13:48,  3.95s/it]"
     ]
    },
    {
     "name": "stdout",
     "output_type": "stream",
     "text": [
      "no_orgs\n"
     ]
    },
    {
     "name": "stderr",
     "output_type": "stream",
     "text": [
      "\r",
      "Generating responses:  83%|████████▎ | 1020/1229 [56:50<11:50,  3.40s/it]"
     ]
    },
    {
     "name": "stdout",
     "output_type": "stream",
     "text": [
      "no_orgs\n"
     ]
    },
    {
     "name": "stderr",
     "output_type": "stream",
     "text": [
      "\r",
      "Generating responses:  83%|████████▎ | 1021/1229 [56:52<09:52,  2.85s/it]"
     ]
    },
    {
     "name": "stdout",
     "output_type": "stream",
     "text": [
      "Crystal Palace, Oxford\n"
     ]
    },
    {
     "name": "stderr",
     "output_type": "stream",
     "text": [
      "\r",
      "Generating responses:  83%|████████▎ | 1022/1229 [56:54<08:58,  2.60s/it]"
     ]
    },
    {
     "name": "stdout",
     "output_type": "stream",
     "text": [
      "Huddersfield, Norwich\n"
     ]
    },
    {
     "name": "stderr",
     "output_type": "stream",
     "text": [
      "\r",
      "Generating responses:  83%|████████▎ | 1023/1229 [56:56<08:17,  2.41s/it]"
     ]
    },
    {
     "name": "stdout",
     "output_type": "stream",
     "text": [
      "no_orgs\n"
     ]
    },
    {
     "name": "stderr",
     "output_type": "stream",
     "text": [
      "\r",
      "Generating responses:  83%|████████▎ | 1024/1229 [56:58<07:48,  2.28s/it]"
     ]
    },
    {
     "name": "stdout",
     "output_type": "stream",
     "text": [
      "Manchester City, Bradford\n"
     ]
    },
    {
     "name": "stderr",
     "output_type": "stream",
     "text": [
      "\r",
      "Generating responses:  83%|████████▎ | 1025/1229 [57:00<07:20,  2.16s/it]"
     ]
    },
    {
     "name": "stdout",
     "output_type": "stream",
     "text": [
      "Queens Park Rangers\n"
     ]
    },
    {
     "name": "stderr",
     "output_type": "stream",
     "text": [
      "\r",
      "Generating responses:  83%|████████▎ | 1026/1229 [57:02<06:56,  2.05s/it]"
     ]
    },
    {
     "name": "stdout",
     "output_type": "stream",
     "text": [
      "no_orgs\n"
     ]
    },
    {
     "name": "stderr",
     "output_type": "stream",
     "text": [
      "\r",
      "Generating responses:  84%|████████▎ | 1027/1229 [57:03<06:24,  1.90s/it]"
     ]
    },
    {
     "name": "stdout",
     "output_type": "stream",
     "text": [
      "Sheffield United, Portsmouth\n"
     ]
    },
    {
     "name": "stderr",
     "output_type": "stream",
     "text": [
      "\r",
      "Generating responses:  84%|████████▎ | 1028/1229 [57:05<06:12,  1.85s/it]"
     ]
    },
    {
     "name": "stdout",
     "output_type": "stream",
     "text": [
      "no_orgs\n"
     ]
    },
    {
     "name": "stderr",
     "output_type": "stream",
     "text": [
      "\r",
      "Generating responses:  84%|████████▎ | 1029/1229 [57:07<06:43,  2.02s/it]"
     ]
    },
    {
     "name": "stdout",
     "output_type": "stream",
     "text": [
      "West Bromwich, Bolton\n"
     ]
    },
    {
     "name": "stderr",
     "output_type": "stream",
     "text": [
      "\r",
      "Generating responses:  84%|████████▍ | 1030/1229 [57:09<06:44,  2.03s/it]"
     ]
    },
    {
     "name": "stdout",
     "output_type": "stream",
     "text": [
      "no_orgs\n"
     ]
    },
    {
     "name": "stderr",
     "output_type": "stream",
     "text": [
      "\r",
      "Generating responses:  84%|████████▍ | 1031/1229 [57:11<06:51,  2.08s/it]"
     ]
    },
    {
     "name": "stdout",
     "output_type": "stream",
     "text": [
      "Hednesford\n"
     ]
    },
    {
     "name": "stderr",
     "output_type": "stream",
     "text": [
      "\r",
      "Generating responses:  84%|████████▍ | 1032/1229 [57:13<06:43,  2.05s/it]"
     ]
    },
    {
     "name": "stdout",
     "output_type": "stream",
     "text": [
      "Bristol City, St Albans\n"
     ]
    },
    {
     "name": "stderr",
     "output_type": "stream",
     "text": [
      "\r",
      "Generating responses:  84%|████████▍ | 1033/1229 [57:15<06:33,  2.01s/it]"
     ]
    },
    {
     "name": "stdout",
     "output_type": "stream",
     "text": [
      "Cambridge United, Woking\n"
     ]
    },
    {
     "name": "stderr",
     "output_type": "stream",
     "text": [
      "\r",
      "Generating responses:  84%|████████▍ | 1034/1229 [57:18<07:28,  2.30s/it]"
     ]
    },
    {
     "name": "stdout",
     "output_type": "stream",
     "text": [
      "no_orgs\n"
     ]
    },
    {
     "name": "stderr",
     "output_type": "stream",
     "text": [
      "\r",
      "Generating responses:  84%|████████▍ | 1035/1229 [57:20<07:07,  2.21s/it]"
     ]
    },
    {
     "name": "stdout",
     "output_type": "stream",
     "text": [
      "no_orgs\n"
     ]
    },
    {
     "name": "stderr",
     "output_type": "stream",
     "text": [
      "\r",
      "Generating responses:  84%|████████▍ | 1036/1229 [57:22<06:39,  2.07s/it]"
     ]
    },
    {
     "name": "stdout",
     "output_type": "stream",
     "text": [
      "no_orgs\n"
     ]
    },
    {
     "name": "stderr",
     "output_type": "stream",
     "text": [
      "\r",
      "Generating responses:  84%|████████▍ | 1037/1229 [57:24<06:49,  2.13s/it]"
     ]
    },
    {
     "name": "stdout",
     "output_type": "stream",
     "text": [
      "no_orgs\n"
     ]
    },
    {
     "name": "stderr",
     "output_type": "stream",
     "text": [
      "\r",
      "Generating responses:  84%|████████▍ | 1038/1229 [57:26<05:54,  1.85s/it]"
     ]
    },
    {
     "name": "stdout",
     "output_type": "stream",
     "text": [
      "no_orgs\n"
     ]
    },
    {
     "name": "stderr",
     "output_type": "stream",
     "text": [
      "\r",
      "Generating responses:  85%|████████▍ | 1039/1229 [57:27<05:42,  1.80s/it]"
     ]
    },
    {
     "name": "stdout",
     "output_type": "stream",
     "text": [
      "Leyton Orient, Stevenage\n"
     ]
    },
    {
     "name": "stderr",
     "output_type": "stream",
     "text": [
      "\r",
      "Generating responses:  85%|████████▍ | 1040/1229 [57:30<06:29,  2.06s/it]"
     ]
    },
    {
     "name": "stdout",
     "output_type": "stream",
     "text": [
      "no_orgs\n"
     ]
    },
    {
     "name": "stderr",
     "output_type": "stream",
     "text": [
      "\r",
      "Generating responses:  85%|████████▍ | 1041/1229 [57:31<05:40,  1.81s/it]"
     ]
    },
    {
     "name": "stdout",
     "output_type": "stream",
     "text": [
      "no_orgs\n"
     ]
    },
    {
     "name": "stderr",
     "output_type": "stream",
     "text": [
      "\r",
      "Generating responses:  85%|████████▍ | 1042/1229 [57:33<05:39,  1.81s/it]"
     ]
    },
    {
     "name": "stdout",
     "output_type": "stream",
     "text": [
      "Notts County, Rochdale\n"
     ]
    },
    {
     "name": "stderr",
     "output_type": "stream",
     "text": [
      "\r",
      "Generating responses:  85%|████████▍ | 1043/1229 [57:35<05:56,  1.91s/it]"
     ]
    },
    {
     "name": "stdout",
     "output_type": "stream",
     "text": [
      "no_orgs\n"
     ]
    },
    {
     "name": "stderr",
     "output_type": "stream",
     "text": [
      "\r",
      "Generating responses:  85%|████████▍ | 1044/1229 [57:37<06:01,  1.95s/it]"
     ]
    },
    {
     "name": "stdout",
     "output_type": "stream",
     "text": [
      "Brentford, Sudbury Town\n"
     ]
    },
    {
     "name": "stderr",
     "output_type": "stream",
     "text": [
      "\r",
      "Generating responses:  85%|████████▌ | 1045/1229 [57:40<06:26,  2.10s/it]"
     ]
    },
    {
     "name": "stdout",
     "output_type": "stream",
     "text": [
      "Walsall, Burnley\n"
     ]
    },
    {
     "name": "stderr",
     "output_type": "stream",
     "text": [
      "\r",
      "Generating responses:  85%|████████▌ | 1046/1229 [57:42<06:35,  2.16s/it]"
     ]
    },
    {
     "name": "stdout",
     "output_type": "stream",
     "text": [
      "Watford, Ashford Town\n"
     ]
    },
    {
     "name": "stderr",
     "output_type": "stream",
     "text": [
      "\r",
      "Generating responses:  85%|████████▌ | 1047/1229 [57:43<06:01,  1.99s/it]"
     ]
    },
    {
     "name": "stdout",
     "output_type": "stream",
     "text": [
      "Wrexham, Scunthorpe\n"
     ]
    },
    {
     "name": "stderr",
     "output_type": "stream",
     "text": [
      "\r",
      "Generating responses:  85%|████████▌ | 1048/1229 [57:47<07:11,  2.38s/it]"
     ]
    },
    {
     "name": "stdout",
     "output_type": "stream",
     "text": [
      "no_orgs\n"
     ]
    },
    {
     "name": "stderr",
     "output_type": "stream",
     "text": [
      "\r",
      "Generating responses:  85%|████████▌ | 1049/1229 [57:48<06:12,  2.07s/it]"
     ]
    },
    {
     "name": "stdout",
     "output_type": "stream",
     "text": [
      "CAMPESE, WALLABY\n"
     ]
    },
    {
     "name": "stderr",
     "output_type": "stream",
     "text": [
      "\r",
      "Generating responses:  85%|████████▌ | 1050/1229 [57:50<06:17,  2.11s/it]"
     ]
    },
    {
     "name": "stdout",
     "output_type": "stream",
     "text": [
      "David Campese, Barbarians\n"
     ]
    },
    {
     "name": "stderr",
     "output_type": "stream",
     "text": [
      "\r",
      "Generating responses:  86%|████████▌ | 1051/1229 [57:53<06:20,  2.14s/it]"
     ]
    },
    {
     "name": "stdout",
     "output_type": "stream",
     "text": [
      "Wallabies\n"
     ]
    },
    {
     "name": "stderr",
     "output_type": "stream",
     "text": [
      "\r",
      "Generating responses:  86%|████████▌ | 1052/1229 [57:54<05:33,  1.89s/it]"
     ]
    },
    {
     "name": "stdout",
     "output_type": "stream",
     "text": [
      "The Barbarians, Wallaby\n"
     ]
    },
    {
     "name": "stderr",
     "output_type": "stream",
     "text": [
      "\r",
      "Generating responses:  86%|████████▌ | 1053/1229 [57:56<06:01,  2.05s/it]"
     ]
    },
    {
     "name": "stdout",
     "output_type": "stream",
     "text": [
      "AUSTRALIA, BARBARIANS\n"
     ]
    },
    {
     "name": "stderr",
     "output_type": "stream",
     "text": [
      "\r",
      "Generating responses:  86%|████████▌ | 1054/1229 [57:59<06:13,  2.13s/it]"
     ]
    },
    {
     "name": "stdout",
     "output_type": "stream",
     "text": [
      "Australia, Barbarians\n"
     ]
    },
    {
     "name": "stderr",
     "output_type": "stream",
     "text": [
      "\r",
      "Generating responses:  86%|████████▌ | 1055/1229 [58:00<05:40,  1.95s/it]"
     ]
    },
    {
     "name": "stdout",
     "output_type": "stream",
     "text": [
      "Barbarians\n"
     ]
    },
    {
     "name": "stderr",
     "output_type": "stream",
     "text": [
      "\r",
      "Generating responses:  86%|████████▌ | 1056/1229 [58:02<05:54,  2.05s/it]"
     ]
    },
    {
     "name": "stdout",
     "output_type": "stream",
     "text": [
      "FIFA\n"
     ]
    },
    {
     "name": "stderr",
     "output_type": "stream",
     "text": [
      "\r",
      "Generating responses:  86%|████████▌ | 1057/1229 [58:05<05:56,  2.07s/it]"
     ]
    },
    {
     "name": "stdout",
     "output_type": "stream",
     "text": [
      "Albanian Football Association, FIFA\n"
     ]
    },
    {
     "name": "stderr",
     "output_type": "stream",
     "text": [
      "\r",
      "Generating responses:  86%|████████▌ | 1058/1229 [58:08<06:42,  2.36s/it]"
     ]
    },
    {
     "name": "stdout",
     "output_type": "stream",
     "text": [
      "VICTORIA\n"
     ]
    },
    {
     "name": "stderr",
     "output_type": "stream",
     "text": [
      "\r",
      "Generating responses:  86%|████████▌ | 1059/1229 [58:10<06:24,  2.26s/it]"
     ]
    },
    {
     "name": "stdout",
     "output_type": "stream",
     "text": [
      "Victoria, Sheffield Shield, Tasmania\n"
     ]
    },
    {
     "name": "stderr",
     "output_type": "stream",
     "text": [
      "\r",
      "Generating responses:  86%|████████▌ | 1060/1229 [58:11<06:02,  2.15s/it]"
     ]
    },
    {
     "name": "stdout",
     "output_type": "stream",
     "text": [
      "Tasmania, Victoria, Bellerive Oval, Sheffield Shield\n"
     ]
    },
    {
     "name": "stderr",
     "output_type": "stream",
     "text": [
      "\r",
      "Generating responses:  86%|████████▋ | 1061/1229 [58:14<06:14,  2.23s/it]"
     ]
    },
    {
     "name": "stdout",
     "output_type": "stream",
     "text": [
      "Tasmania, Victoria\n"
     ]
    },
    {
     "name": "stderr",
     "output_type": "stream",
     "text": [
      "\r",
      "Generating responses:  86%|████████▋ | 1062/1229 [58:15<05:26,  1.96s/it]"
     ]
    },
    {
     "name": "stdout",
     "output_type": "stream",
     "text": [
      "Zafririm Holon, Hapoel Petah Tikva\n"
     ]
    },
    {
     "name": "stderr",
     "output_type": "stream",
     "text": [
      "\r",
      "Generating responses:  86%|████████▋ | 1063/1229 [58:18<06:07,  2.21s/it]"
     ]
    },
    {
     "name": "stdout",
     "output_type": "stream",
     "text": [
      "Maccabi Haifa, Hapoel Taibe\n"
     ]
    },
    {
     "name": "stderr",
     "output_type": "stream",
     "text": [
      "\r",
      "Generating responses:  87%|████████▋ | 1064/1229 [58:20<05:55,  2.15s/it]"
     ]
    },
    {
     "name": "stdout",
     "output_type": "stream",
     "text": [
      "Hapoel Kfar Sava, Bnei Yehuda\n"
     ]
    },
    {
     "name": "stderr",
     "output_type": "stream",
     "text": [
      "\r",
      "Generating responses:  87%|████████▋ | 1065/1229 [58:23<06:08,  2.25s/it]"
     ]
    },
    {
     "name": "stdout",
     "output_type": "stream",
     "text": [
      "Hapoel Tel Aviv, Betar Jerusalem\n"
     ]
    },
    {
     "name": "stderr",
     "output_type": "stream",
     "text": [
      "\r",
      "Generating responses:  87%|████████▋ | 1066/1229 [58:25<06:05,  2.24s/it]"
     ]
    },
    {
     "name": "stdout",
     "output_type": "stream",
     "text": [
      "Hapoel Jerusalem, Maccabi Tel Aviv\n"
     ]
    },
    {
     "name": "stderr",
     "output_type": "stream",
     "text": [
      "\r",
      "Generating responses:  87%|████████▋ | 1067/1229 [58:27<05:48,  2.15s/it]"
     ]
    },
    {
     "name": "stdout",
     "output_type": "stream",
     "text": [
      "Ironi Rishon Lezion, Maccabi Herzliya\n"
     ]
    },
    {
     "name": "stderr",
     "output_type": "stream",
     "text": [
      "\r",
      "Generating responses:  87%|████████▋ | 1068/1229 [58:30<06:37,  2.47s/it]"
     ]
    },
    {
     "name": "stdout",
     "output_type": "stream",
     "text": [
      "Hapoel Beit She'an, Hapoel Beersheba\n"
     ]
    },
    {
     "name": "stderr",
     "output_type": "stream",
     "text": [
      "\r",
      "Generating responses:  87%|████████▋ | 1069/1229 [58:33<07:20,  2.75s/it]"
     ]
    },
    {
     "name": "stdout",
     "output_type": "stream",
     "text": [
      "Maccabi Petah Tikva, Hapoel Haifa\n"
     ]
    },
    {
     "name": "stderr",
     "output_type": "stream",
     "text": [
      "\r",
      "Generating responses:  87%|████████▋ | 1070/1229 [58:36<07:19,  2.76s/it]"
     ]
    },
    {
     "name": "stdout",
     "output_type": "stream",
     "text": [
      "Betar Jerusalem\n"
     ]
    },
    {
     "name": "stderr",
     "output_type": "stream",
     "text": [
      "\r",
      "Generating responses:  87%|████████▋ | 1071/1229 [58:38<06:26,  2.45s/it]"
     ]
    },
    {
     "name": "stdout",
     "output_type": "stream",
     "text": [
      "Hapoel Petah Tikva\n"
     ]
    },
    {
     "name": "stderr",
     "output_type": "stream",
     "text": [
      "\r",
      "Generating responses:  87%|████████▋ | 1072/1229 [58:40<06:10,  2.36s/it]"
     ]
    },
    {
     "name": "stdout",
     "output_type": "stream",
     "text": [
      "Hapoel Beersheba\n"
     ]
    },
    {
     "name": "stderr",
     "output_type": "stream",
     "text": [
      "\r",
      "Generating responses:  87%|████████▋ | 1073/1229 [58:42<05:35,  2.15s/it]"
     ]
    },
    {
     "name": "stdout",
     "output_type": "stream",
     "text": [
      "Maccabi Tel Aviv\n"
     ]
    },
    {
     "name": "stderr",
     "output_type": "stream",
     "text": [
      "\r",
      "Generating responses:  87%|████████▋ | 1074/1229 [58:44<05:43,  2.21s/it]"
     ]
    },
    {
     "name": "stdout",
     "output_type": "stream",
     "text": [
      "Maccabi Petah Tikva\n"
     ]
    },
    {
     "name": "stderr",
     "output_type": "stream",
     "text": [
      "\r",
      "Generating responses:  87%|████████▋ | 1075/1229 [58:46<05:43,  2.23s/it]"
     ]
    },
    {
     "name": "stdout",
     "output_type": "stream",
     "text": [
      "Bnei Yehuda\n"
     ]
    },
    {
     "name": "stderr",
     "output_type": "stream",
     "text": [
      "\r",
      "Generating responses:  88%|████████▊ | 1076/1229 [58:48<05:13,  2.05s/it]"
     ]
    },
    {
     "name": "stdout",
     "output_type": "stream",
     "text": [
      "Hapoel Haifa\n"
     ]
    },
    {
     "name": "stderr",
     "output_type": "stream",
     "text": [
      "\r",
      "Generating responses:  88%|████████▊ | 1077/1229 [58:50<05:26,  2.15s/it]"
     ]
    },
    {
     "name": "stdout",
     "output_type": "stream",
     "text": [
      "Maccabi Haifa\n"
     ]
    },
    {
     "name": "stderr",
     "output_type": "stream",
     "text": [
      "\r",
      "Generating responses:  88%|████████▊ | 1078/1229 [58:53<05:30,  2.19s/it]"
     ]
    },
    {
     "name": "stdout",
     "output_type": "stream",
     "text": [
      "Hapoel Kfar Sava\n"
     ]
    },
    {
     "name": "stderr",
     "output_type": "stream",
     "text": [
      "\r",
      "Generating responses:  88%|████████▊ | 1079/1229 [58:55<05:28,  2.19s/it]"
     ]
    },
    {
     "name": "stdout",
     "output_type": "stream",
     "text": [
      "Hapoel Jerusalem\n"
     ]
    },
    {
     "name": "stderr",
     "output_type": "stream",
     "text": [
      "\r",
      "Generating responses:  88%|████████▊ | 1080/1229 [58:57<05:39,  2.28s/it]"
     ]
    },
    {
     "name": "stdout",
     "output_type": "stream",
     "text": [
      "Ironi Rishon Lezion\n"
     ]
    },
    {
     "name": "stderr",
     "output_type": "stream",
     "text": [
      "\r",
      "Generating responses:  88%|████████▊ | 1081/1229 [59:00<05:48,  2.35s/it]"
     ]
    },
    {
     "name": "stdout",
     "output_type": "stream",
     "text": [
      "Error generating response for prompt at index 1081: That model is currently overloaded with other requests. You can retry your request, or contact us through our help center at help.openai.com if the error persists. (Please include the request ID edff2d8228e603da519f60b78a104b8f in your message.)\n",
      "Query: I need you to show me organisations in the provided sentence. Do not show me any other entity types.\n",
      "    ###\n",
      "    Desired response format: ###\n",
      "    org1, org2, org3\n",
      "    ###\n",
      "    Desired response if no organisations found: ###\n",
      "    no_orgs\n",
      "    ###\n",
      "    For example, if I gave you: ###\n",
      "    \"James, living in Japan, missed his club 's last two games after FIFA slapped a worldwide ban on him for appearing to sign contracts for both Wednesday and Udinese while he was playing for Feyenoord .\",\n",
      "    you would only give me:\n",
      "    FIFA, Wednesday, Udinese, Feyenoord\n",
      "    ###\n",
      "    The provided sentence is: ###\n",
      "    Zafririm Holon 12 2 4 6 8 14 10\n",
      "    ###\n",
      "    \n",
      "Retrying in 5 seconds...\n",
      "no_orgs\n"
     ]
    },
    {
     "name": "stderr",
     "output_type": "stream",
     "text": [
      "\r",
      "Generating responses:  88%|████████▊ | 1082/1229 [59:37<31:22, 12.81s/it]"
     ]
    },
    {
     "name": "stdout",
     "output_type": "stream",
     "text": [
      "Maccabi Herzliya\n"
     ]
    },
    {
     "name": "stderr",
     "output_type": "stream",
     "text": [
      "\r",
      "Generating responses:  88%|████████▊ | 1083/1229 [59:39<23:20,  9.60s/it]"
     ]
    },
    {
     "name": "stdout",
     "output_type": "stream",
     "text": [
      "Hapoel Taiba\n"
     ]
    },
    {
     "name": "stderr",
     "output_type": "stream",
     "text": [
      "\r",
      "Generating responses:  88%|████████▊ | 1084/1229 [59:41<17:42,  7.33s/it]"
     ]
    },
    {
     "name": "stdout",
     "output_type": "stream",
     "text": [
      "Hapoel Beit She'an\n"
     ]
    },
    {
     "name": "stderr",
     "output_type": "stream",
     "text": [
      "\r",
      "Generating responses:  88%|████████▊ | 1085/1229 [59:44<14:06,  5.88s/it]"
     ]
    },
    {
     "name": "stdout",
     "output_type": "stream",
     "text": [
      "Hapoel Tel Aviv\n"
     ]
    },
    {
     "name": "stderr",
     "output_type": "stream",
     "text": [
      "\r",
      "Generating responses:  88%|████████▊ | 1086/1229 [59:46<11:10,  4.69s/it]"
     ]
    },
    {
     "name": "stdout",
     "output_type": "stream",
     "text": [
      "NBA BASKETBALL\n"
     ]
    },
    {
     "name": "stderr",
     "output_type": "stream",
     "text": [
      "\r",
      "Generating responses:  88%|████████▊ | 1087/1229 [59:47<08:56,  3.78s/it]"
     ]
    },
    {
     "name": "stdout",
     "output_type": "stream",
     "text": [
      "no_orgs\n"
     ]
    },
    {
     "name": "stderr",
     "output_type": "stream",
     "text": [
      "\r",
      "Generating responses:  89%|████████▊ | 1088/1229 [59:49<07:42,  3.28s/it]"
     ]
    },
    {
     "name": "stdout",
     "output_type": "stream",
     "text": [
      "Basketball Association\n"
     ]
    },
    {
     "name": "stderr",
     "output_type": "stream",
     "text": [
      "\r",
      "Generating responses:  89%|████████▊ | 1089/1229 [59:51<06:38,  2.84s/it]"
     ]
    },
    {
     "name": "stdout",
     "output_type": "stream",
     "text": [
      "Error generating response for prompt at index 1089: That model is currently overloaded with other requests. You can retry your request, or contact us through our help center at help.openai.com if the error persists. (Please include the request ID a2a29b06eead221fe2728fb3073897a4 in your message.)\n",
      "Query: I need you to show me organisations in the provided sentence. Do not show me any other entity types.\n",
      "    ###\n",
      "    Desired response format: ###\n",
      "    org1, org2, org3\n",
      "    ###\n",
      "    Desired response if no organisations found: ###\n",
      "    no_orgs\n",
      "    ###\n",
      "    For example, if I gave you: ###\n",
      "    \"James, living in Japan, missed his club 's last two games after FIFA slapped a worldwide ban on him for appearing to sign contracts for both Wednesday and Udinese while he was playing for Feyenoord .\",\n",
      "    you would only give me:\n",
      "    FIFA, Wednesday, Udinese, Feyenoord\n",
      "    ###\n",
      "    The provided sentence is: ###\n",
      "    MIAMI 14 5 .737 -\n",
      "    ###\n",
      "    \n",
      "Retrying in 5 seconds...\n",
      "no_orgs\n"
     ]
    },
    {
     "name": "stderr",
     "output_type": "stream",
     "text": [
      "\r",
      "Generating responses:  89%|████████▊ | 1090/1229 [1:00:29<30:46, 13.28s/it]"
     ]
    },
    {
     "name": "stdout",
     "output_type": "stream",
     "text": [
      "Error generating response for prompt at index 1090: That model is currently overloaded with other requests. You can retry your request, or contact us through our help center at help.openai.com if the error persists. (Please include the request ID 5e403e64f13cccacbc8ac3cea7f0cd3b in your message.)\n",
      "Query: I need you to show me organisations in the provided sentence. Do not show me any other entity types.\n",
      "    ###\n",
      "    Desired response format: ###\n",
      "    org1, org2, org3\n",
      "    ###\n",
      "    Desired response if no organisations found: ###\n",
      "    no_orgs\n",
      "    ###\n",
      "    For example, if I gave you: ###\n",
      "    \"James, living in Japan, missed his club 's last two games after FIFA slapped a worldwide ban on him for appearing to sign contracts for both Wednesday and Udinese while he was playing for Feyenoord .\",\n",
      "    you would only give me:\n",
      "    FIFA, Wednesday, Udinese, Feyenoord\n",
      "    ###\n",
      "    The provided sentence is: ###\n",
      "    NEW YORK 11 6 .647 2\n",
      "    ###\n",
      "    \n",
      "Retrying in 5 seconds...\n",
      "no_orgs\n"
     ]
    },
    {
     "name": "stderr",
     "output_type": "stream",
     "text": [
      "\r",
      "Generating responses:  89%|████████▉ | 1091/1229 [1:01:06<47:03, 20.46s/it]"
     ]
    },
    {
     "name": "stdout",
     "output_type": "stream",
     "text": [
      "no_orgs\n"
     ]
    },
    {
     "name": "stderr",
     "output_type": "stream",
     "text": [
      "\r",
      "Generating responses:  89%|████████▉ | 1092/1229 [1:01:08<34:26, 15.08s/it]"
     ]
    },
    {
     "name": "stdout",
     "output_type": "stream",
     "text": [
      "no_orgs\n"
     ]
    },
    {
     "name": "stderr",
     "output_type": "stream",
     "text": [
      "\r",
      "Generating responses:  89%|████████▉ | 1093/1229 [1:01:10<25:04, 11.06s/it]"
     ]
    },
    {
     "name": "stdout",
     "output_type": "stream",
     "text": [
      "no_orgs\n"
     ]
    },
    {
     "name": "stderr",
     "output_type": "stream",
     "text": [
      "\r",
      "Generating responses:  89%|████████▉ | 1094/1229 [1:01:12<18:48,  8.36s/it]"
     ]
    },
    {
     "name": "stdout",
     "output_type": "stream",
     "text": [
      "no_orgs\n"
     ]
    },
    {
     "name": "stderr",
     "output_type": "stream",
     "text": [
      "\r",
      "Generating responses:  89%|████████▉ | 1095/1229 [1:01:14<14:33,  6.52s/it]"
     ]
    },
    {
     "name": "stdout",
     "output_type": "stream",
     "text": [
      "no_orgs\n"
     ]
    },
    {
     "name": "stderr",
     "output_type": "stream",
     "text": [
      "\r",
      "Generating responses:  89%|████████▉ | 1096/1229 [1:01:16<10:56,  4.93s/it]"
     ]
    },
    {
     "name": "stdout",
     "output_type": "stream",
     "text": [
      "no_orgs\n"
     ]
    },
    {
     "name": "stderr",
     "output_type": "stream",
     "text": [
      "\r",
      "Generating responses:  89%|████████▉ | 1097/1229 [1:01:17<08:46,  3.99s/it]"
     ]
    },
    {
     "name": "stdout",
     "output_type": "stream",
     "text": [
      "no_orgs\n"
     ]
    },
    {
     "name": "stderr",
     "output_type": "stream",
     "text": [
      "\r",
      "Generating responses:  89%|████████▉ | 1098/1229 [1:01:20<07:42,  3.53s/it]"
     ]
    },
    {
     "name": "stdout",
     "output_type": "stream",
     "text": [
      "no_orgs\n"
     ]
    },
    {
     "name": "stderr",
     "output_type": "stream",
     "text": [
      "\r",
      "Generating responses:  89%|████████▉ | 1099/1229 [1:01:22<06:44,  3.11s/it]"
     ]
    },
    {
     "name": "stdout",
     "output_type": "stream",
     "text": [
      "no_orgs\n"
     ]
    },
    {
     "name": "stderr",
     "output_type": "stream",
     "text": [
      "\r",
      "Generating responses:  90%|████████▉ | 1100/1229 [1:01:24<05:53,  2.74s/it]"
     ]
    },
    {
     "name": "stdout",
     "output_type": "stream",
     "text": [
      "no_orgs\n"
     ]
    },
    {
     "name": "stderr",
     "output_type": "stream",
     "text": [
      "\r",
      "Generating responses:  90%|████████▉ | 1101/1229 [1:01:25<04:55,  2.31s/it]"
     ]
    },
    {
     "name": "stdout",
     "output_type": "stream",
     "text": [
      "no_orgs\n"
     ]
    },
    {
     "name": "stderr",
     "output_type": "stream",
     "text": [
      "\r",
      "Generating responses:  90%|████████▉ | 1102/1229 [1:01:28<04:57,  2.34s/it]"
     ]
    },
    {
     "name": "stdout",
     "output_type": "stream",
     "text": [
      "no_orgs\n"
     ]
    },
    {
     "name": "stderr",
     "output_type": "stream",
     "text": [
      "\r",
      "Generating responses:  90%|████████▉ | 1103/1229 [1:01:29<04:24,  2.10s/it]"
     ]
    },
    {
     "name": "stdout",
     "output_type": "stream",
     "text": [
      "no_orgs\n"
     ]
    },
    {
     "name": "stderr",
     "output_type": "stream",
     "text": [
      "\r",
      "Generating responses:  90%|████████▉ | 1104/1229 [1:01:31<04:09,  1.99s/it]"
     ]
    },
    {
     "name": "stdout",
     "output_type": "stream",
     "text": [
      "no_orgs\n"
     ]
    },
    {
     "name": "stderr",
     "output_type": "stream",
     "text": [
      "\r",
      "Generating responses:  90%|████████▉ | 1105/1229 [1:01:33<04:13,  2.05s/it]"
     ]
    },
    {
     "name": "stdout",
     "output_type": "stream",
     "text": [
      "no_orgs\n"
     ]
    },
    {
     "name": "stderr",
     "output_type": "stream",
     "text": [
      "\r",
      "Generating responses:  90%|████████▉ | 1106/1229 [1:01:35<04:06,  2.00s/it]"
     ]
    },
    {
     "name": "stdout",
     "output_type": "stream",
     "text": [
      "no_orgs\n"
     ]
    },
    {
     "name": "stderr",
     "output_type": "stream",
     "text": [
      "\r",
      "Generating responses:  90%|█████████ | 1107/1229 [1:01:37<04:07,  2.03s/it]"
     ]
    },
    {
     "name": "stdout",
     "output_type": "stream",
     "text": [
      "no_orgs\n"
     ]
    },
    {
     "name": "stderr",
     "output_type": "stream",
     "text": [
      "\r",
      "Generating responses:  90%|█████████ | 1108/1229 [1:01:39<03:51,  1.91s/it]"
     ]
    },
    {
     "name": "stdout",
     "output_type": "stream",
     "text": [
      "no_orgs\n"
     ]
    },
    {
     "name": "stderr",
     "output_type": "stream",
     "text": [
      "\r",
      "Generating responses:  90%|█████████ | 1109/1229 [1:01:40<03:39,  1.83s/it]"
     ]
    },
    {
     "name": "stdout",
     "output_type": "stream",
     "text": [
      "no_orgs\n"
     ]
    },
    {
     "name": "stderr",
     "output_type": "stream",
     "text": [
      "\r",
      "Generating responses:  90%|█████████ | 1110/1229 [1:01:42<03:35,  1.81s/it]"
     ]
    },
    {
     "name": "stdout",
     "output_type": "stream",
     "text": [
      "no_orgs\n"
     ]
    },
    {
     "name": "stderr",
     "output_type": "stream",
     "text": [
      "\r",
      "Generating responses:  90%|█████████ | 1111/1229 [1:01:44<03:21,  1.71s/it]"
     ]
    },
    {
     "name": "stdout",
     "output_type": "stream",
     "text": [
      "no_orgs\n"
     ]
    },
    {
     "name": "stderr",
     "output_type": "stream",
     "text": [
      "\r",
      "Generating responses:  90%|█████████ | 1112/1229 [1:01:46<03:37,  1.86s/it]"
     ]
    },
    {
     "name": "stdout",
     "output_type": "stream",
     "text": [
      "LA LAKERS\n"
     ]
    },
    {
     "name": "stderr",
     "output_type": "stream",
     "text": [
      "\r",
      "Generating responses:  91%|█████████ | 1113/1229 [1:01:48<03:55,  2.03s/it]"
     ]
    },
    {
     "name": "stdout",
     "output_type": "stream",
     "text": [
      "no_orgs\n"
     ]
    },
    {
     "name": "stderr",
     "output_type": "stream",
     "text": [
      "\r",
      "Generating responses:  91%|█████████ | 1114/1229 [1:01:51<04:01,  2.10s/it]"
     ]
    },
    {
     "name": "stdout",
     "output_type": "stream",
     "text": [
      "no_orgs\n"
     ]
    },
    {
     "name": "stderr",
     "output_type": "stream",
     "text": [
      "\r",
      "Generating responses:  91%|█████████ | 1115/1229 [1:01:52<03:51,  2.03s/it]"
     ]
    },
    {
     "name": "stdout",
     "output_type": "stream",
     "text": [
      "no_orgs\n"
     ]
    },
    {
     "name": "stderr",
     "output_type": "stream",
     "text": [
      "\r",
      "Generating responses:  91%|█████████ | 1116/1229 [1:01:54<03:37,  1.92s/it]"
     ]
    },
    {
     "name": "stdout",
     "output_type": "stream",
     "text": [
      "no_orgs\n"
     ]
    },
    {
     "name": "stderr",
     "output_type": "stream",
     "text": [
      "\r",
      "Generating responses:  91%|█████████ | 1117/1229 [1:01:56<03:39,  1.96s/it]"
     ]
    },
    {
     "name": "stdout",
     "output_type": "stream",
     "text": [
      "no_orgs\n"
     ]
    },
    {
     "name": "stderr",
     "output_type": "stream",
     "text": [
      "\r",
      "Generating responses:  91%|█████████ | 1118/1229 [1:01:58<03:32,  1.91s/it]"
     ]
    },
    {
     "name": "stdout",
     "output_type": "stream",
     "text": [
      "TORONTO, ATLANTA\n"
     ]
    },
    {
     "name": "stderr",
     "output_type": "stream",
     "text": [
      "\r",
      "Generating responses:  91%|█████████ | 1119/1229 [1:02:00<03:45,  2.05s/it]"
     ]
    },
    {
     "name": "stdout",
     "output_type": "stream",
     "text": [
      "LA CLIPPERS, NEW YORK\n"
     ]
    },
    {
     "name": "stderr",
     "output_type": "stream",
     "text": [
      "\r",
      "Generating responses:  91%|█████████ | 1120/1229 [1:02:03<03:58,  2.19s/it]"
     ]
    },
    {
     "name": "stdout",
     "output_type": "stream",
     "text": [
      "MILWAUKEE, WASHINGTON\n"
     ]
    },
    {
     "name": "stderr",
     "output_type": "stream",
     "text": [
      "\r",
      "Generating responses:  91%|█████████ | 1121/1229 [1:02:05<04:08,  2.30s/it]"
     ]
    },
    {
     "name": "stdout",
     "output_type": "stream",
     "text": [
      "DETROIT, NEW JERSEY\n"
     ]
    },
    {
     "name": "stderr",
     "output_type": "stream",
     "text": [
      "\r",
      "Generating responses:  91%|█████████▏| 1122/1229 [1:02:08<04:14,  2.38s/it]"
     ]
    },
    {
     "name": "stdout",
     "output_type": "stream",
     "text": [
      "no_orgs\n"
     ]
    },
    {
     "name": "stderr",
     "output_type": "stream",
     "text": [
      "\r",
      "Generating responses:  91%|█████████▏| 1123/1229 [1:02:10<03:55,  2.22s/it]"
     ]
    },
    {
     "name": "stdout",
     "output_type": "stream",
     "text": [
      "VANCOUVER, DALLAS\n"
     ]
    },
    {
     "name": "stderr",
     "output_type": "stream",
     "text": [
      "\r",
      "Generating responses:  91%|█████████▏| 1124/1229 [1:02:12<03:53,  2.22s/it]"
     ]
    },
    {
     "name": "stdout",
     "output_type": "stream",
     "text": [
      "PHILADELPHIA, HOUSTON\n"
     ]
    },
    {
     "name": "stderr",
     "output_type": "stream",
     "text": [
      "\r",
      "Generating responses:  92%|█████████▏| 1125/1229 [1:02:14<03:44,  2.16s/it]"
     ]
    },
    {
     "name": "stdout",
     "output_type": "stream",
     "text": [
      "UTAH, DENVER\n"
     ]
    },
    {
     "name": "stderr",
     "output_type": "stream",
     "text": [
      "\r",
      "Generating responses:  92%|█████████▏| 1126/1229 [1:02:16<03:39,  2.14s/it]"
     ]
    },
    {
     "name": "stdout",
     "output_type": "stream",
     "text": [
      "no_orgs\n"
     ]
    },
    {
     "name": "stderr",
     "output_type": "stream",
     "text": [
      "\r",
      "Generating responses:  92%|█████████▏| 1127/1229 [1:02:18<03:31,  2.08s/it]"
     ]
    },
    {
     "name": "stdout",
     "output_type": "stream",
     "text": [
      "NBA BASKETBALL\n"
     ]
    },
    {
     "name": "stderr",
     "output_type": "stream",
     "text": [
      "\r",
      "Generating responses:  92%|█████████▏| 1128/1229 [1:02:20<03:32,  2.10s/it]"
     ]
    },
    {
     "name": "stdout",
     "output_type": "stream",
     "text": [
      "no_orgs\n"
     ]
    },
    {
     "name": "stderr",
     "output_type": "stream",
     "text": [
      "\r",
      "Generating responses:  92%|█████████▏| 1129/1229 [1:02:22<03:35,  2.15s/it]"
     ]
    },
    {
     "name": "stdout",
     "output_type": "stream",
     "text": [
      "no_orgs\n"
     ]
    },
    {
     "name": "stderr",
     "output_type": "stream",
     "text": [
      "\r",
      "Generating responses:  92%|█████████▏| 1130/1229 [1:02:24<03:16,  1.98s/it]"
     ]
    },
    {
     "name": "stdout",
     "output_type": "stream",
     "text": [
      "no_orgs\n"
     ]
    },
    {
     "name": "stderr",
     "output_type": "stream",
     "text": [
      "\r",
      "Generating responses:  92%|█████████▏| 1131/1229 [1:02:26<03:09,  1.93s/it]"
     ]
    },
    {
     "name": "stdout",
     "output_type": "stream",
     "text": [
      "no_orgs\n"
     ]
    },
    {
     "name": "stderr",
     "output_type": "stream",
     "text": [
      "\r",
      "Generating responses:  92%|█████████▏| 1132/1229 [1:02:28<03:01,  1.87s/it]"
     ]
    },
    {
     "name": "stdout",
     "output_type": "stream",
     "text": [
      "no_orgs\n"
     ]
    },
    {
     "name": "stderr",
     "output_type": "stream",
     "text": [
      "\r",
      "Generating responses:  92%|█████████▏| 1133/1229 [1:02:29<02:50,  1.78s/it]"
     ]
    },
    {
     "name": "stdout",
     "output_type": "stream",
     "text": [
      "no_orgs\n"
     ]
    },
    {
     "name": "stderr",
     "output_type": "stream",
     "text": [
      "\r",
      "Generating responses:  92%|█████████▏| 1134/1229 [1:02:31<02:40,  1.69s/it]"
     ]
    },
    {
     "name": "stdout",
     "output_type": "stream",
     "text": [
      "no_orgs\n"
     ]
    },
    {
     "name": "stderr",
     "output_type": "stream",
     "text": [
      "\r",
      "Generating responses:  92%|█████████▏| 1135/1229 [1:02:32<02:34,  1.64s/it]"
     ]
    },
    {
     "name": "stdout",
     "output_type": "stream",
     "text": [
      "no_orgs\n"
     ]
    },
    {
     "name": "stderr",
     "output_type": "stream",
     "text": [
      "\r",
      "Generating responses:  92%|█████████▏| 1136/1229 [1:02:34<02:42,  1.75s/it]"
     ]
    },
    {
     "name": "stdout",
     "output_type": "stream",
     "text": [
      "no_orgs\n"
     ]
    },
    {
     "name": "stderr",
     "output_type": "stream",
     "text": [
      "\r",
      "Generating responses:  93%|█████████▎| 1137/1229 [1:02:36<02:57,  1.93s/it]"
     ]
    },
    {
     "name": "stdout",
     "output_type": "stream",
     "text": [
      "no_orgs\n"
     ]
    },
    {
     "name": "stderr",
     "output_type": "stream",
     "text": [
      "\r",
      "Generating responses:  93%|█████████▎| 1138/1229 [1:02:39<03:02,  2.01s/it]"
     ]
    },
    {
     "name": "stdout",
     "output_type": "stream",
     "text": [
      "LA LAKERS, Orlando\n"
     ]
    },
    {
     "name": "stderr",
     "output_type": "stream",
     "text": [
      "\r",
      "Generating responses:  93%|█████████▎| 1139/1229 [1:02:41<03:09,  2.10s/it]"
     ]
    },
    {
     "name": "stdout",
     "output_type": "stream",
     "text": [
      "NHL\n"
     ]
    },
    {
     "name": "stderr",
     "output_type": "stream",
     "text": [
      "\r",
      "Generating responses:  93%|█████████▎| 1140/1229 [1:02:43<03:04,  2.07s/it]"
     ]
    },
    {
     "name": "stdout",
     "output_type": "stream",
     "text": [
      "no_orgs\n"
     ]
    },
    {
     "name": "stderr",
     "output_type": "stream",
     "text": [
      "\r",
      "Generating responses:  93%|█████████▎| 1141/1229 [1:02:45<03:03,  2.08s/it]"
     ]
    },
    {
     "name": "stdout",
     "output_type": "stream",
     "text": [
      "no_orgs\n"
     ]
    },
    {
     "name": "stderr",
     "output_type": "stream",
     "text": [
      "\r",
      "Generating responses:  93%|█████████▎| 1142/1229 [1:02:47<02:53,  2.00s/it]"
     ]
    },
    {
     "name": "stdout",
     "output_type": "stream",
     "text": [
      "no_orgs\n"
     ]
    },
    {
     "name": "stderr",
     "output_type": "stream",
     "text": [
      "\r",
      "Generating responses:  93%|█████████▎| 1143/1229 [1:02:48<02:31,  1.76s/it]"
     ]
    },
    {
     "name": "stdout",
     "output_type": "stream",
     "text": [
      "no_orgs\n"
     ]
    },
    {
     "name": "stderr",
     "output_type": "stream",
     "text": [
      "\r",
      "Generating responses:  93%|█████████▎| 1144/1229 [1:02:50<02:23,  1.68s/it]"
     ]
    },
    {
     "name": "stdout",
     "output_type": "stream",
     "text": [
      "no_orgs\n"
     ]
    },
    {
     "name": "stderr",
     "output_type": "stream",
     "text": [
      "\r",
      "Generating responses:  93%|█████████▎| 1145/1229 [1:02:52<02:32,  1.82s/it]"
     ]
    },
    {
     "name": "stdout",
     "output_type": "stream",
     "text": [
      "no_orgs\n"
     ]
    },
    {
     "name": "stderr",
     "output_type": "stream",
     "text": [
      "\r",
      "Generating responses:  93%|█████████▎| 1146/1229 [1:02:53<02:20,  1.70s/it]"
     ]
    },
    {
     "name": "stdout",
     "output_type": "stream",
     "text": [
      "no_orgs\n"
     ]
    },
    {
     "name": "stderr",
     "output_type": "stream",
     "text": [
      "\r",
      "Generating responses:  93%|█████████▎| 1147/1229 [1:02:55<02:17,  1.67s/it]"
     ]
    },
    {
     "name": "stdout",
     "output_type": "stream",
     "text": [
      "no_orgs\n"
     ]
    },
    {
     "name": "stderr",
     "output_type": "stream",
     "text": [
      "\r",
      "Generating responses:  93%|█████████▎| 1148/1229 [1:02:56<02:07,  1.57s/it]"
     ]
    },
    {
     "name": "stdout",
     "output_type": "stream",
     "text": [
      "no_orgs\n"
     ]
    },
    {
     "name": "stderr",
     "output_type": "stream",
     "text": [
      "\r",
      "Generating responses:  93%|█████████▎| 1149/1229 [1:02:58<02:06,  1.58s/it]"
     ]
    },
    {
     "name": "stdout",
     "output_type": "stream",
     "text": [
      "no_orgs\n"
     ]
    },
    {
     "name": "stderr",
     "output_type": "stream",
     "text": [
      "\r",
      "Generating responses:  94%|█████████▎| 1150/1229 [1:02:59<02:04,  1.57s/it]"
     ]
    },
    {
     "name": "stdout",
     "output_type": "stream",
     "text": [
      "no_orgs\n"
     ]
    },
    {
     "name": "stderr",
     "output_type": "stream",
     "text": [
      "\r",
      "Generating responses:  94%|█████████▎| 1151/1229 [1:03:01<02:17,  1.76s/it]"
     ]
    },
    {
     "name": "stdout",
     "output_type": "stream",
     "text": [
      "no_orgs\n"
     ]
    },
    {
     "name": "stderr",
     "output_type": "stream",
     "text": [
      "\r",
      "Generating responses:  94%|█████████▎| 1152/1229 [1:03:04<02:25,  1.88s/it]"
     ]
    },
    {
     "name": "stdout",
     "output_type": "stream",
     "text": [
      "no_orgs\n"
     ]
    },
    {
     "name": "stderr",
     "output_type": "stream",
     "text": [
      "\r",
      "Generating responses:  94%|█████████▍| 1153/1229 [1:03:06<02:39,  2.10s/it]"
     ]
    },
    {
     "name": "stdout",
     "output_type": "stream",
     "text": [
      "no_orgs\n"
     ]
    },
    {
     "name": "stderr",
     "output_type": "stream",
     "text": [
      "\r",
      "Generating responses:  94%|█████████▍| 1154/1229 [1:03:09<02:40,  2.15s/it]"
     ]
    },
    {
     "name": "stdout",
     "output_type": "stream",
     "text": [
      "no_orgs\n"
     ]
    },
    {
     "name": "stderr",
     "output_type": "stream",
     "text": [
      "\r",
      "Generating responses:  94%|█████████▍| 1155/1229 [1:03:10<02:34,  2.08s/it]"
     ]
    },
    {
     "name": "stdout",
     "output_type": "stream",
     "text": [
      "no_orgs\n"
     ]
    },
    {
     "name": "stderr",
     "output_type": "stream",
     "text": [
      "\r",
      "Generating responses:  94%|█████████▍| 1156/1229 [1:03:12<02:15,  1.86s/it]"
     ]
    },
    {
     "name": "stdout",
     "output_type": "stream",
     "text": [
      "no_orgs\n"
     ]
    },
    {
     "name": "stderr",
     "output_type": "stream",
     "text": [
      "\r",
      "Generating responses:  94%|█████████▍| 1157/1229 [1:03:14<02:17,  1.91s/it]"
     ]
    },
    {
     "name": "stdout",
     "output_type": "stream",
     "text": [
      "no_orgs\n"
     ]
    },
    {
     "name": "stderr",
     "output_type": "stream",
     "text": [
      "\r",
      "Generating responses:  94%|█████████▍| 1158/1229 [1:03:16<02:13,  1.88s/it]"
     ]
    },
    {
     "name": "stdout",
     "output_type": "stream",
     "text": [
      "no_orgs\n"
     ]
    },
    {
     "name": "stderr",
     "output_type": "stream",
     "text": [
      "\r",
      "Generating responses:  94%|█████████▍| 1159/1229 [1:03:17<02:02,  1.75s/it]"
     ]
    },
    {
     "name": "stdout",
     "output_type": "stream",
     "text": [
      "no_orgs\n"
     ]
    },
    {
     "name": "stderr",
     "output_type": "stream",
     "text": [
      "\r",
      "Generating responses:  94%|█████████▍| 1160/1229 [1:03:19<01:59,  1.73s/it]"
     ]
    },
    {
     "name": "stdout",
     "output_type": "stream",
     "text": [
      "no_orgs\n"
     ]
    },
    {
     "name": "stderr",
     "output_type": "stream",
     "text": [
      "\r",
      "Generating responses:  94%|█████████▍| 1161/1229 [1:03:21<02:00,  1.78s/it]"
     ]
    },
    {
     "name": "stdout",
     "output_type": "stream",
     "text": [
      "no_orgs\n"
     ]
    },
    {
     "name": "stderr",
     "output_type": "stream",
     "text": [
      "\r",
      "Generating responses:  95%|█████████▍| 1162/1229 [1:03:23<02:01,  1.81s/it]"
     ]
    },
    {
     "name": "stdout",
     "output_type": "stream",
     "text": [
      "no_orgs\n"
     ]
    },
    {
     "name": "stderr",
     "output_type": "stream",
     "text": [
      "\r",
      "Generating responses:  95%|█████████▍| 1163/1229 [1:03:24<01:58,  1.80s/it]"
     ]
    },
    {
     "name": "stdout",
     "output_type": "stream",
     "text": [
      "no_orgs\n"
     ]
    },
    {
     "name": "stderr",
     "output_type": "stream",
     "text": [
      "\r",
      "Generating responses:  95%|█████████▍| 1164/1229 [1:03:26<01:51,  1.71s/it]"
     ]
    },
    {
     "name": "stdout",
     "output_type": "stream",
     "text": [
      "no_orgs\n"
     ]
    },
    {
     "name": "stderr",
     "output_type": "stream",
     "text": [
      "\r",
      "Generating responses:  95%|█████████▍| 1165/1229 [1:03:28<01:50,  1.72s/it]"
     ]
    },
    {
     "name": "stdout",
     "output_type": "stream",
     "text": [
      "no_orgs\n"
     ]
    },
    {
     "name": "stderr",
     "output_type": "stream",
     "text": [
      "\r",
      "Generating responses:  95%|█████████▍| 1166/1229 [1:03:29<01:50,  1.76s/it]"
     ]
    },
    {
     "name": "stdout",
     "output_type": "stream",
     "text": [
      "no_orgs\n"
     ]
    },
    {
     "name": "stderr",
     "output_type": "stream",
     "text": [
      "\r",
      "Generating responses:  95%|█████████▍| 1167/1229 [1:03:31<01:49,  1.76s/it]"
     ]
    },
    {
     "name": "stdout",
     "output_type": "stream",
     "text": [
      "no_orgs\n"
     ]
    },
    {
     "name": "stderr",
     "output_type": "stream",
     "text": [
      "\r",
      "Generating responses:  95%|█████████▌| 1168/1229 [1:03:33<01:52,  1.84s/it]"
     ]
    },
    {
     "name": "stdout",
     "output_type": "stream",
     "text": [
      "PHOENIX, NEW JERSEY\n"
     ]
    },
    {
     "name": "stderr",
     "output_type": "stream",
     "text": [
      "\r",
      "Generating responses:  95%|█████████▌| 1169/1229 [1:03:36<01:59,  1.99s/it]"
     ]
    },
    {
     "name": "stdout",
     "output_type": "stream",
     "text": [
      "CALGARY, BOSTON\n"
     ]
    },
    {
     "name": "stderr",
     "output_type": "stream",
     "text": [
      "\r",
      "Generating responses:  95%|█████████▌| 1170/1229 [1:03:38<02:00,  2.04s/it]"
     ]
    },
    {
     "name": "stdout",
     "output_type": "stream",
     "text": [
      "BUFFALO, HARTFORD\n"
     ]
    },
    {
     "name": "stderr",
     "output_type": "stream",
     "text": [
      "\r",
      "Generating responses:  95%|█████████▌| 1171/1229 [1:03:40<01:59,  2.06s/it]"
     ]
    },
    {
     "name": "stdout",
     "output_type": "stream",
     "text": [
      "WASHINGTON, NY ISLANDERS\n"
     ]
    },
    {
     "name": "stderr",
     "output_type": "stream",
     "text": [
      "\r",
      "Generating responses:  95%|█████████▌| 1172/1229 [1:03:42<01:56,  2.05s/it]"
     ]
    },
    {
     "name": "stdout",
     "output_type": "stream",
     "text": [
      "no_orgs\n"
     ]
    },
    {
     "name": "stderr",
     "output_type": "stream",
     "text": [
      "\r",
      "Generating responses:  95%|█████████▌| 1173/1229 [1:03:44<01:50,  1.98s/it]"
     ]
    },
    {
     "name": "stdout",
     "output_type": "stream",
     "text": [
      "NY RANGERS, TORONTO\n"
     ]
    },
    {
     "name": "stderr",
     "output_type": "stream",
     "text": [
      "\r",
      "Generating responses:  96%|█████████▌| 1174/1229 [1:03:46<02:01,  2.20s/it]"
     ]
    },
    {
     "name": "stdout",
     "output_type": "stream",
     "text": [
      "ANAHEIM, PITTSBURGH\n"
     ]
    },
    {
     "name": "stderr",
     "output_type": "stream",
     "text": [
      "\r",
      "Generating responses:  96%|█████████▌| 1175/1229 [1:03:49<02:10,  2.41s/it]"
     ]
    },
    {
     "name": "stdout",
     "output_type": "stream",
     "text": [
      "COLORADO, LOS ANGELES\n"
     ]
    },
    {
     "name": "stderr",
     "output_type": "stream",
     "text": [
      "\r",
      "Generating responses:  96%|█████████▌| 1176/1229 [1:03:51<01:57,  2.22s/it]"
     ]
    },
    {
     "name": "stdout",
     "output_type": "stream",
     "text": [
      "TAMPA BAY, SAN JOSE\n"
     ]
    },
    {
     "name": "stderr",
     "output_type": "stream",
     "text": [
      "\r",
      "Generating responses:  96%|█████████▌| 1177/1229 [1:03:54<01:59,  2.30s/it]"
     ]
    },
    {
     "name": "stdout",
     "output_type": "stream",
     "text": [
      "no_orgs\n"
     ]
    },
    {
     "name": "stderr",
     "output_type": "stream",
     "text": [
      "\r",
      "Generating responses:  96%|█████████▌| 1178/1229 [1:03:55<01:41,  2.00s/it]"
     ]
    },
    {
     "name": "stdout",
     "output_type": "stream",
     "text": [
      "NHL\n"
     ]
    },
    {
     "name": "stderr",
     "output_type": "stream",
     "text": [
      "\r",
      "Generating responses:  96%|█████████▌| 1179/1229 [1:03:57<01:39,  1.99s/it]"
     ]
    },
    {
     "name": "stdout",
     "output_type": "stream",
     "text": [
      "no_orgs\n"
     ]
    },
    {
     "name": "stderr",
     "output_type": "stream",
     "text": [
      "\r",
      "Generating responses:  96%|█████████▌| 1180/1229 [1:03:58<01:28,  1.82s/it]"
     ]
    },
    {
     "name": "stdout",
     "output_type": "stream",
     "text": [
      "no_orgs\n"
     ]
    },
    {
     "name": "stderr",
     "output_type": "stream",
     "text": [
      "\r",
      "Generating responses:  96%|█████████▌| 1181/1229 [1:04:00<01:22,  1.71s/it]"
     ]
    },
    {
     "name": "stdout",
     "output_type": "stream",
     "text": [
      "NY RANGERS, Toronto\n"
     ]
    },
    {
     "name": "stderr",
     "output_type": "stream",
     "text": [
      "\r",
      "Generating responses:  96%|█████████▌| 1182/1229 [1:04:02<01:30,  1.92s/it]"
     ]
    },
    {
     "name": "stdout",
     "output_type": "stream",
     "text": [
      "no_orgs\n"
     ]
    },
    {
     "name": "stderr",
     "output_type": "stream",
     "text": [
      "\r",
      "Generating responses:  96%|█████████▋| 1183/1229 [1:04:04<01:25,  1.86s/it]"
     ]
    },
    {
     "name": "stdout",
     "output_type": "stream",
     "text": [
      "Error generating response for prompt at index 1183: That model is currently overloaded with other requests. You can retry your request, or contact us through our help center at help.openai.com if the error persists. (Please include the request ID b24c74293d842167ce2ff135ec82e582 in your message.)\n",
      "Query: I need you to show me organisations in the provided sentence. Do not show me any other entity types.\n",
      "    ###\n",
      "    Desired response format: ###\n",
      "    org1, org2, org3\n",
      "    ###\n",
      "    Desired response if no organisations found: ###\n",
      "    no_orgs\n",
      "    ###\n",
      "    For example, if I gave you: ###\n",
      "    \"James, living in Japan, missed his club 's last two games after FIFA slapped a worldwide ban on him for appearing to sign contracts for both Wednesday and Udinese while he was playing for Feyenoord .\",\n",
      "    you would only give me:\n",
      "    FIFA, Wednesday, Udinese, Feyenoord\n",
      "    ###\n",
      "    The provided sentence is: ###\n",
      "    Pittsburgh 5 WASHINGTON 3\n",
      "    ###\n",
      "    \n",
      "Retrying in 5 seconds...\n",
      "no_orgs\n"
     ]
    },
    {
     "name": "stderr",
     "output_type": "stream",
     "text": [
      "\r",
      "Generating responses:  96%|█████████▋| 1184/1229 [1:04:41<09:23, 12.53s/it]"
     ]
    },
    {
     "name": "stdout",
     "output_type": "stream",
     "text": [
      "CHICAGO\n"
     ]
    },
    {
     "name": "stderr",
     "output_type": "stream",
     "text": [
      "\r",
      "Generating responses:  96%|█████████▋| 1185/1229 [1:04:44<06:58,  9.51s/it]"
     ]
    },
    {
     "name": "stdout",
     "output_type": "stream",
     "text": [
      "CANUCKS\n"
     ]
    },
    {
     "name": "stderr",
     "output_type": "stream",
     "text": [
      "\r",
      "Generating responses:  97%|█████████▋| 1186/1229 [1:04:46<05:13,  7.29s/it]"
     ]
    },
    {
     "name": "stdout",
     "output_type": "stream",
     "text": [
      "Vancouver Canucks, National Hockey League, Buffalo Sabres\n"
     ]
    },
    {
     "name": "stderr",
     "output_type": "stream",
     "text": [
      "\r",
      "Generating responses:  97%|█████████▋| 1187/1229 [1:04:48<04:00,  5.74s/it]"
     ]
    },
    {
     "name": "stdout",
     "output_type": "stream",
     "text": [
      "Vancouver, Buffalo\n"
     ]
    },
    {
     "name": "stderr",
     "output_type": "stream",
     "text": [
      "\r",
      "Generating responses:  97%|█████████▋| 1188/1229 [1:04:50<03:08,  4.61s/it]"
     ]
    },
    {
     "name": "stdout",
     "output_type": "stream",
     "text": [
      "NHL\n"
     ]
    },
    {
     "name": "stderr",
     "output_type": "stream",
     "text": [
      "\r",
      "Generating responses:  97%|█████████▋| 1189/1229 [1:04:52<02:31,  3.79s/it]"
     ]
    },
    {
     "name": "stdout",
     "output_type": "stream",
     "text": [
      "Bure, Ottawa.\n"
     ]
    },
    {
     "name": "stderr",
     "output_type": "stream",
     "text": [
      "\r",
      "Generating responses:  97%|█████████▋| 1190/1229 [1:04:54<02:08,  3.31s/it]"
     ]
    },
    {
     "name": "stdout",
     "output_type": "stream",
     "text": [
      "IBF\n"
     ]
    },
    {
     "name": "stderr",
     "output_type": "stream",
     "text": [
      "\r",
      "Generating responses:  97%|█████████▋| 1191/1229 [1:04:55<01:45,  2.78s/it]"
     ]
    },
    {
     "name": "stdout",
     "output_type": "stream",
     "text": [
      "International Boxing Federation\n"
     ]
    },
    {
     "name": "stderr",
     "output_type": "stream",
     "text": [
      "\r",
      "Generating responses:  97%|█████████▋| 1192/1229 [1:04:57<01:29,  2.43s/it]"
     ]
    },
    {
     "name": "stdout",
     "output_type": "stream",
     "text": [
      "Real Madrid, Barcelona\n"
     ]
    },
    {
     "name": "stderr",
     "output_type": "stream",
     "text": [
      "\r",
      "Generating responses:  97%|█████████▋| 1193/1229 [1:04:59<01:22,  2.28s/it]"
     ]
    },
    {
     "name": "stdout",
     "output_type": "stream",
     "text": [
      "BALKAN STRIKE FORCE, OLD FIRM, REAL\n"
     ]
    },
    {
     "name": "stderr",
     "output_type": "stream",
     "text": [
      "\r",
      "Generating responses:  97%|█████████▋| 1194/1229 [1:05:02<01:24,  2.40s/it]"
     ]
    },
    {
     "name": "stdout",
     "output_type": "stream",
     "text": [
      "Real Madrid, Barcelona\n"
     ]
    },
    {
     "name": "stderr",
     "output_type": "stream",
     "text": [
      "\r",
      "Generating responses:  97%|█████████▋| 1195/1229 [1:05:03<01:13,  2.16s/it]"
     ]
    },
    {
     "name": "stdout",
     "output_type": "stream",
     "text": [
      "Real Madrid, Barcelona\n"
     ]
    },
    {
     "name": "stderr",
     "output_type": "stream",
     "text": [
      "\r",
      "Generating responses:  97%|█████████▋| 1196/1229 [1:05:05<01:07,  2.05s/it]"
     ]
    },
    {
     "name": "stdout",
     "output_type": "stream",
     "text": [
      "Real\n"
     ]
    },
    {
     "name": "stderr",
     "output_type": "stream",
     "text": [
      "\r",
      "Generating responses:  97%|█████████▋| 1197/1229 [1:05:07<01:03,  1.99s/it]"
     ]
    },
    {
     "name": "stdout",
     "output_type": "stream",
     "text": [
      "Barcelona\n"
     ]
    },
    {
     "name": "stderr",
     "output_type": "stream",
     "text": [
      "\r",
      "Generating responses:  97%|█████████▋| 1198/1229 [1:05:09<01:03,  2.03s/it]"
     ]
    },
    {
     "name": "stdout",
     "output_type": "stream",
     "text": [
      "Barcelona\n"
     ]
    },
    {
     "name": "stderr",
     "output_type": "stream",
     "text": [
      "\r",
      "Generating responses:  98%|█████████▊| 1199/1229 [1:05:11<00:57,  1.92s/it]"
     ]
    },
    {
     "name": "stdout",
     "output_type": "stream",
     "text": [
      "PSV, Volendam\n"
     ]
    },
    {
     "name": "stderr",
     "output_type": "stream",
     "text": [
      "\r",
      "Generating responses:  98%|█████████▊| 1200/1229 [1:05:12<00:54,  1.86s/it]"
     ]
    },
    {
     "name": "stdout",
     "output_type": "stream",
     "text": [
      "PSV Eindhoven, Volendam\n"
     ]
    },
    {
     "name": "stderr",
     "output_type": "stream",
     "text": [
      "\r",
      "Generating responses:  98%|█████████▊| 1201/1229 [1:05:15<00:54,  1.94s/it]"
     ]
    },
    {
     "name": "stdout",
     "output_type": "stream",
     "text": [
      "PSV\n"
     ]
    },
    {
     "name": "stderr",
     "output_type": "stream",
     "text": [
      "\r",
      "Generating responses:  98%|█████████▊| 1202/1229 [1:05:16<00:51,  1.89s/it]"
     ]
    },
    {
     "name": "stdout",
     "output_type": "stream",
     "text": [
      "Feyenoord, Ajax Amsterdam, PSV\n"
     ]
    },
    {
     "name": "stderr",
     "output_type": "stream",
     "text": [
      "\r",
      "Generating responses:  98%|█████████▊| 1203/1229 [1:05:19<00:55,  2.14s/it]"
     ]
    },
    {
     "name": "stdout",
     "output_type": "stream",
     "text": [
      "Ajax, AZ Alkmaar, Feyenoord, UEFA, Tenerife, De Graafschap Doetinchem.\n"
     ]
    },
    {
     "name": "stderr",
     "output_type": "stream",
     "text": [
      "\r",
      "Generating responses:  98%|█████████▊| 1204/1229 [1:05:23<01:08,  2.72s/it]"
     ]
    },
    {
     "name": "stdout",
     "output_type": "stream",
     "text": [
      "Doetinchem side\n"
     ]
    },
    {
     "name": "stderr",
     "output_type": "stream",
     "text": [
      "\r",
      "Generating responses:  98%|█████████▊| 1205/1229 [1:05:25<00:59,  2.49s/it]"
     ]
    },
    {
     "name": "stdout",
     "output_type": "stream",
     "text": [
      "Real Madrid, Barcelona\n"
     ]
    },
    {
     "name": "stderr",
     "output_type": "stream",
     "text": [
      "\r",
      "Generating responses:  98%|█████████▊| 1206/1229 [1:05:27<00:54,  2.39s/it]"
     ]
    },
    {
     "name": "stdout",
     "output_type": "stream",
     "text": [
      "no_orgs\n"
     ]
    },
    {
     "name": "stderr",
     "output_type": "stream",
     "text": [
      "\r",
      "Generating responses:  98%|█████████▊| 1207/1229 [1:05:29<00:46,  2.11s/it]"
     ]
    },
    {
     "name": "stdout",
     "output_type": "stream",
     "text": [
      "no_orgs\n"
     ]
    },
    {
     "name": "stderr",
     "output_type": "stream",
     "text": [
      "\r",
      "Generating responses:  98%|█████████▊| 1208/1229 [1:05:31<00:44,  2.11s/it]"
     ]
    },
    {
     "name": "stdout",
     "output_type": "stream",
     "text": [
      "Deportivo Coruna\n"
     ]
    },
    {
     "name": "stderr",
     "output_type": "stream",
     "text": [
      "\r",
      "Generating responses:  98%|█████████▊| 1209/1229 [1:05:33<00:42,  2.10s/it]"
     ]
    },
    {
     "name": "stdout",
     "output_type": "stream",
     "text": [
      "Real Betis\n"
     ]
    },
    {
     "name": "stderr",
     "output_type": "stream",
     "text": [
      "\r",
      "Generating responses:  98%|█████████▊| 1210/1229 [1:05:35<00:39,  2.10s/it]"
     ]
    },
    {
     "name": "stdout",
     "output_type": "stream",
     "text": [
      "Atletico Madrid\n"
     ]
    },
    {
     "name": "stderr",
     "output_type": "stream",
     "text": [
      "\r",
      "Generating responses:  99%|█████████▊| 1211/1229 [1:05:37<00:34,  1.93s/it]"
     ]
    },
    {
     "name": "stdout",
     "output_type": "stream",
     "text": [
      "Athletic Bilbao\n"
     ]
    },
    {
     "name": "stderr",
     "output_type": "stream",
     "text": [
      "\r",
      "Generating responses:  99%|█████████▊| 1212/1229 [1:05:38<00:31,  1.85s/it]"
     ]
    },
    {
     "name": "stdout",
     "output_type": "stream",
     "text": [
      "Real Sociedad\n"
     ]
    },
    {
     "name": "stderr",
     "output_type": "stream",
     "text": [
      "\r",
      "Generating responses:  99%|█████████▊| 1213/1229 [1:05:40<00:29,  1.82s/it]"
     ]
    },
    {
     "name": "stdout",
     "output_type": "stream",
     "text": [
      "no_orgs\n"
     ]
    },
    {
     "name": "stderr",
     "output_type": "stream",
     "text": [
      "\r",
      "Generating responses:  99%|█████████▉| 1214/1229 [1:05:41<00:25,  1.69s/it]"
     ]
    },
    {
     "name": "stdout",
     "output_type": "stream",
     "text": [
      "Racing Santander\n"
     ]
    },
    {
     "name": "stderr",
     "output_type": "stream",
     "text": [
      "\r",
      "Generating responses:  99%|█████████▉| 1215/1229 [1:05:43<00:23,  1.66s/it]"
     ]
    },
    {
     "name": "stdout",
     "output_type": "stream",
     "text": [
      "Rayo Vallecano\n"
     ]
    },
    {
     "name": "stderr",
     "output_type": "stream",
     "text": [
      "\r",
      "Generating responses:  99%|█████████▉| 1216/1229 [1:05:45<00:23,  1.83s/it]"
     ]
    },
    {
     "name": "stdout",
     "output_type": "stream",
     "text": [
      "no_orgs\n"
     ]
    },
    {
     "name": "stderr",
     "output_type": "stream",
     "text": [
      "\r",
      "Generating responses:  99%|█████████▉| 1217/1229 [1:05:47<00:23,  1.94s/it]"
     ]
    },
    {
     "name": "stdout",
     "output_type": "stream",
     "text": [
      "Celta Vigo\n"
     ]
    },
    {
     "name": "stderr",
     "output_type": "stream",
     "text": [
      "\r",
      "Generating responses:  99%|█████████▉| 1218/1229 [1:05:50<00:23,  2.14s/it]"
     ]
    },
    {
     "name": "stdout",
     "output_type": "stream",
     "text": [
      "no_orgs\n"
     ]
    },
    {
     "name": "stderr",
     "output_type": "stream",
     "text": [
      "\r",
      "Generating responses:  99%|█████████▉| 1219/1229 [1:05:52<00:19,  1.98s/it]"
     ]
    },
    {
     "name": "stdout",
     "output_type": "stream",
     "text": [
      "Espanyol\n"
     ]
    },
    {
     "name": "stderr",
     "output_type": "stream",
     "text": [
      "\r",
      "Generating responses:  99%|█████████▉| 1220/1229 [1:05:53<00:16,  1.86s/it]"
     ]
    },
    {
     "name": "stdout",
     "output_type": "stream",
     "text": [
      "no_orgs\n"
     ]
    },
    {
     "name": "stderr",
     "output_type": "stream",
     "text": [
      "\r",
      "Generating responses:  99%|█████████▉| 1221/1229 [1:05:55<00:14,  1.75s/it]"
     ]
    },
    {
     "name": "stdout",
     "output_type": "stream",
     "text": [
      "Sporting Gijon\n"
     ]
    },
    {
     "name": "stderr",
     "output_type": "stream",
     "text": [
      "\r",
      "Generating responses:  99%|█████████▉| 1222/1229 [1:05:57<00:13,  1.91s/it]"
     ]
    },
    {
     "name": "stdout",
     "output_type": "stream",
     "text": [
      "no_orgs\n"
     ]
    },
    {
     "name": "stderr",
     "output_type": "stream",
     "text": [
      "\r",
      "Generating responses: 100%|█████████▉| 1223/1229 [1:05:59<00:12,  2.02s/it]"
     ]
    },
    {
     "name": "stdout",
     "output_type": "stream",
     "text": [
      "no_orgs\n"
     ]
    },
    {
     "name": "stderr",
     "output_type": "stream",
     "text": [
      "\r",
      "Generating responses: 100%|█████████▉| 1224/1229 [1:06:01<00:10,  2.03s/it]"
     ]
    },
    {
     "name": "stdout",
     "output_type": "stream",
     "text": [
      "no_orgs\n"
     ]
    },
    {
     "name": "stderr",
     "output_type": "stream",
     "text": [
      "\r",
      "Generating responses: 100%|█████████▉| 1225/1229 [1:06:03<00:07,  2.00s/it]"
     ]
    },
    {
     "name": "stdout",
     "output_type": "stream",
     "text": [
      "no_orgs\n"
     ]
    },
    {
     "name": "stderr",
     "output_type": "stream",
     "text": [
      "\r",
      "Generating responses: 100%|█████████▉| 1226/1229 [1:06:05<00:05,  1.84s/it]"
     ]
    },
    {
     "name": "stdout",
     "output_type": "stream",
     "text": [
      "no_orgs\n"
     ]
    },
    {
     "name": "stderr",
     "output_type": "stream",
     "text": [
      "\r",
      "Generating responses: 100%|█████████▉| 1227/1229 [1:06:06<00:03,  1.75s/it]"
     ]
    },
    {
     "name": "stdout",
     "output_type": "stream",
     "text": [
      "no_orgs\n"
     ]
    },
    {
     "name": "stderr",
     "output_type": "stream",
     "text": [
      "\r",
      "Generating responses: 100%|█████████▉| 1228/1229 [1:06:08<00:01,  1.63s/it]"
     ]
    },
    {
     "name": "stdout",
     "output_type": "stream",
     "text": [
      "Leeds United, England, World Cup\n"
     ]
    },
    {
     "name": "stderr",
     "output_type": "stream",
     "text": [
      "Generating responses: 100%|██████████| 1229/1229 [1:06:10<00:00,  3.23s/it]\n"
     ]
    }
   ],
   "source": [
    "generate_responses(conll2003_test_orgs_responses)"
   ]
  },
  {
   "cell_type": "code",
   "execution_count": 29,
   "id": "9172e7c1",
   "metadata": {},
   "outputs": [
    {
     "data": {
      "text/html": [
       "<div>\n",
       "<style scoped>\n",
       "    .dataframe tbody tr th:only-of-type {\n",
       "        vertical-align: middle;\n",
       "    }\n",
       "\n",
       "    .dataframe tbody tr th {\n",
       "        vertical-align: top;\n",
       "    }\n",
       "\n",
       "    .dataframe thead th {\n",
       "        text-align: right;\n",
       "    }\n",
       "</style>\n",
       "<table border=\"1\" class=\"dataframe\">\n",
       "  <thead>\n",
       "    <tr style=\"text-align: right;\">\n",
       "      <th></th>\n",
       "      <th>sent_id</th>\n",
       "      <th>tokens</th>\n",
       "      <th>pos_tags</th>\n",
       "      <th>chunk_tags</th>\n",
       "      <th>ner_tags</th>\n",
       "      <th>input_text</th>\n",
       "      <th>mapped_ner_tags</th>\n",
       "      <th>orgs</th>\n",
       "      <th>prompt</th>\n",
       "      <th>responses</th>\n",
       "    </tr>\n",
       "  </thead>\n",
       "  <tbody>\n",
       "    <tr>\n",
       "      <th>0</th>\n",
       "      <td>19</td>\n",
       "      <td>[Japan, ,, co-hosts, of, the, World, Cup, in, ...</td>\n",
       "      <td>[22, 6, 42, 15, 12, 22, 22, 15, 11, 10, 38, 16...</td>\n",
       "      <td>[11, 0, 21, 13, 11, 12, 12, 13, 11, 0, 21, 11,...</td>\n",
       "      <td>[5, 0, 0, 0, 0, 7, 8, 0, 0, 0, 0, 0, 0, 0, 0, ...</td>\n",
       "      <td>Japan , co-hosts of the World Cup in 2002 and ...</td>\n",
       "      <td>[B-LOC, O, O, O, O, B-MISC, I-MISC, O, O, O, O...</td>\n",
       "      <td>FIFA</td>\n",
       "      <td>I need you to show me organisations in the pro...</td>\n",
       "      <td>Japan, World Cup, FIFA</td>\n",
       "    </tr>\n",
       "    <tr>\n",
       "      <th>1</th>\n",
       "      <td>22</td>\n",
       "      <td>[RUGBY, UNION, -, CUTTITTA, BACK, FOR, ITALY, ...</td>\n",
       "      <td>[22, 21, 8, 22, 22, 15, 16, 22, 22, 22, 7]</td>\n",
       "      <td>[11, 12, 0, 11, 12, 13, 11, 12, 12, 12, 0]</td>\n",
       "      <td>[3, 4, 0, 1, 0, 0, 5, 0, 0, 0, 0]</td>\n",
       "      <td>RUGBY UNION - CUTTITTA BACK FOR ITALY AFTER A ...</td>\n",
       "      <td>[B-ORG, I-ORG, O, B-PER, O, O, B-LOC, O, O, O, O]</td>\n",
       "      <td>RUGBY UNION</td>\n",
       "      <td>I need you to show me organisations in the pro...</td>\n",
       "      <td>ITALY</td>\n",
       "    </tr>\n",
       "    <tr>\n",
       "      <th>2</th>\n",
       "      <td>141</td>\n",
       "      <td>[Plymouth, 4, Exeter, 1]</td>\n",
       "      <td>[21, 11, 22, 11]</td>\n",
       "      <td>[11, 12, 12, 12]</td>\n",
       "      <td>[3, 0, 3, 0]</td>\n",
       "      <td>Plymouth 4 Exeter 1</td>\n",
       "      <td>[B-ORG, O, B-ORG, O]</td>\n",
       "      <td>Plymouth, Exeter</td>\n",
       "      <td>I need you to show me organisations in the pro...</td>\n",
       "      <td>no_orgs</td>\n",
       "    </tr>\n",
       "    <tr>\n",
       "      <th>3</th>\n",
       "      <td>144</td>\n",
       "      <td>[Dutch, forward, Reggie, Blinker, had, his, in...</td>\n",
       "      <td>[16, 16, 22, 22, 38, 29, 16, 21, 40, 15, 22, 1...</td>\n",
       "      <td>[11, 12, 12, 12, 21, 11, 12, 12, 21, 13, 11, 1...</td>\n",
       "      <td>[7, 0, 1, 2, 0, 0, 0, 0, 0, 0, 3, 0, 0, 0, 0, ...</td>\n",
       "      <td>Dutch forward Reggie Blinker had his indefinit...</td>\n",
       "      <td>[B-MISC, O, B-PER, I-PER, O, O, O, O, O, O, B-...</td>\n",
       "      <td>FIFA, Sheffield Wednesday, Liverpool</td>\n",
       "      <td>I need you to show me organisations in the pro...</td>\n",
       "      <td>FIFA, Sheffield Wednesday, Liverpool</td>\n",
       "    </tr>\n",
       "    <tr>\n",
       "      <th>4</th>\n",
       "      <td>145</td>\n",
       "      <td>[Blinker, missed, his, club, 's, last, two, ga...</td>\n",
       "      <td>[21, 38, 29, 21, 27, 16, 11, 24, 15, 22, 38, 1...</td>\n",
       "      <td>[11, 21, 11, 12, 11, 12, 12, 12, 13, 11, 21, 1...</td>\n",
       "      <td>[1, 0, 0, 0, 0, 0, 0, 0, 0, 3, 0, 0, 0, 0, 0, ...</td>\n",
       "      <td>Blinker missed his club 's last two games afte...</td>\n",
       "      <td>[B-PER, O, O, O, O, O, O, O, O, B-ORG, O, O, O...</td>\n",
       "      <td>FIFA, Wednesday, Udinese, Feyenoord</td>\n",
       "      <td>I need you to show me organisations in the pro...</td>\n",
       "      <td>FIFA, Wednesday, Udinese, Feyenoord</td>\n",
       "    </tr>\n",
       "  </tbody>\n",
       "</table>\n",
       "</div>"
      ],
      "text/plain": [
       "  sent_id  \\\n",
       "0      19   \n",
       "1      22   \n",
       "2     141   \n",
       "3     144   \n",
       "4     145   \n",
       "\n",
       "                                              tokens  \\\n",
       "0  [Japan, ,, co-hosts, of, the, World, Cup, in, ...   \n",
       "1  [RUGBY, UNION, -, CUTTITTA, BACK, FOR, ITALY, ...   \n",
       "2                           [Plymouth, 4, Exeter, 1]   \n",
       "3  [Dutch, forward, Reggie, Blinker, had, his, in...   \n",
       "4  [Blinker, missed, his, club, 's, last, two, ga...   \n",
       "\n",
       "                                            pos_tags  \\\n",
       "0  [22, 6, 42, 15, 12, 22, 22, 15, 11, 10, 38, 16...   \n",
       "1         [22, 21, 8, 22, 22, 15, 16, 22, 22, 22, 7]   \n",
       "2                                   [21, 11, 22, 11]   \n",
       "3  [16, 16, 22, 22, 38, 29, 16, 21, 40, 15, 22, 1...   \n",
       "4  [21, 38, 29, 21, 27, 16, 11, 24, 15, 22, 38, 1...   \n",
       "\n",
       "                                          chunk_tags  \\\n",
       "0  [11, 0, 21, 13, 11, 12, 12, 13, 11, 0, 21, 11,...   \n",
       "1         [11, 12, 0, 11, 12, 13, 11, 12, 12, 12, 0]   \n",
       "2                                   [11, 12, 12, 12]   \n",
       "3  [11, 12, 12, 12, 21, 11, 12, 12, 21, 13, 11, 1...   \n",
       "4  [11, 21, 11, 12, 11, 12, 12, 12, 13, 11, 21, 1...   \n",
       "\n",
       "                                            ner_tags  \\\n",
       "0  [5, 0, 0, 0, 0, 7, 8, 0, 0, 0, 0, 0, 0, 0, 0, ...   \n",
       "1                  [3, 4, 0, 1, 0, 0, 5, 0, 0, 0, 0]   \n",
       "2                                       [3, 0, 3, 0]   \n",
       "3  [7, 0, 1, 2, 0, 0, 0, 0, 0, 0, 3, 0, 0, 0, 0, ...   \n",
       "4  [1, 0, 0, 0, 0, 0, 0, 0, 0, 3, 0, 0, 0, 0, 0, ...   \n",
       "\n",
       "                                          input_text  \\\n",
       "0  Japan , co-hosts of the World Cup in 2002 and ...   \n",
       "1  RUGBY UNION - CUTTITTA BACK FOR ITALY AFTER A ...   \n",
       "2                                Plymouth 4 Exeter 1   \n",
       "3  Dutch forward Reggie Blinker had his indefinit...   \n",
       "4  Blinker missed his club 's last two games afte...   \n",
       "\n",
       "                                     mapped_ner_tags  \\\n",
       "0  [B-LOC, O, O, O, O, B-MISC, I-MISC, O, O, O, O...   \n",
       "1  [B-ORG, I-ORG, O, B-PER, O, O, B-LOC, O, O, O, O]   \n",
       "2                               [B-ORG, O, B-ORG, O]   \n",
       "3  [B-MISC, O, B-PER, I-PER, O, O, O, O, O, O, B-...   \n",
       "4  [B-PER, O, O, O, O, O, O, O, O, B-ORG, O, O, O...   \n",
       "\n",
       "                                   orgs  \\\n",
       "0                                  FIFA   \n",
       "1                           RUGBY UNION   \n",
       "2                      Plymouth, Exeter   \n",
       "3  FIFA, Sheffield Wednesday, Liverpool   \n",
       "4   FIFA, Wednesday, Udinese, Feyenoord   \n",
       "\n",
       "                                              prompt  \\\n",
       "0  I need you to show me organisations in the pro...   \n",
       "1  I need you to show me organisations in the pro...   \n",
       "2  I need you to show me organisations in the pro...   \n",
       "3  I need you to show me organisations in the pro...   \n",
       "4  I need you to show me organisations in the pro...   \n",
       "\n",
       "                              responses  \n",
       "0                Japan, World Cup, FIFA  \n",
       "1                                 ITALY  \n",
       "2                               no_orgs  \n",
       "3  FIFA, Sheffield Wednesday, Liverpool  \n",
       "4   FIFA, Wednesday, Udinese, Feyenoord  "
      ]
     },
     "execution_count": 29,
     "metadata": {},
     "output_type": "execute_result"
    }
   ],
   "source": [
    "conll2003_test_orgs_responses.head()"
   ]
  },
  {
   "cell_type": "markdown",
   "id": "f7ef2014",
   "metadata": {},
   "source": [
    "### Minor post-processing of responses"
   ]
  },
  {
   "cell_type": "code",
   "execution_count": 30,
   "id": "aeb6ceab",
   "metadata": {},
   "outputs": [],
   "source": [
    "conll2003_test_orgs_responses.loc[conll2003_test_orgs_responses['responses'] == 'no_orgs', 'responses'] = \"\""
   ]
  },
  {
   "cell_type": "markdown",
   "id": "4403399d",
   "metadata": {},
   "source": [
    "## Identify hard matches between 'orgs' and 'responses_orgs_only'.\n",
    "* orgs being the organisations detected in the conll2003_test dataset.\n",
    "* responses_orgs_only being the orgs detected by LLM."
   ]
  },
  {
   "cell_type": "code",
   "execution_count": 31,
   "id": "88009df5",
   "metadata": {},
   "outputs": [
    {
     "name": "stdout",
     "output_type": "stream",
     "text": [
      "Count where 'hard_match' is True: 507\n"
     ]
    }
   ],
   "source": [
    "# Sorting the items in the 'orgs' column\n",
    "conll2003_test_orgs_responses['orgs'] = conll2003_test_orgs_responses['orgs'].apply(lambda x: ','.join(sorted(x.split(','))) if pd.notnull(x) else x)\n",
    "\n",
    "# Sorting the items in the 'responses' column\n",
    "conll2003_test_orgs_responses['responses'] = conll2003_test_orgs_responses['responses'].apply(lambda x: ','.join(sorted(x.split(','))) if pd.notnull(x) else x)\n",
    "\n",
    "# Computing the 'hard_match' column\n",
    "conll2003_test_orgs_responses['hard_match'] = conll2003_test_orgs_responses.apply(lambda row: np.all(row['orgs'] == row['responses']), axis=1)\n",
    "\n",
    "# Counting the True values in the 'hard_match' column\n",
    "true_count = conll2003_test_orgs_responses['hard_match'].sum()\n",
    "print(\"Count where 'hard_match' is True:\", true_count)"
   ]
  },
  {
   "cell_type": "markdown",
   "id": "91724751",
   "metadata": {},
   "source": [
    "## Identify partial matches\n",
    "* Defined where at least one, but not all, items in the 'orgs' col (list of orgs) is present in the 'responses_orgs_only' col"
   ]
  },
  {
   "cell_type": "code",
   "execution_count": 32,
   "id": "4922e450",
   "metadata": {},
   "outputs": [
    {
     "name": "stdout",
     "output_type": "stream",
     "text": [
      "Sum where 'partial_match' is True: 19\n"
     ]
    },
    {
     "data": {
      "text/html": [
       "<div>\n",
       "<style scoped>\n",
       "    .dataframe tbody tr th:only-of-type {\n",
       "        vertical-align: middle;\n",
       "    }\n",
       "\n",
       "    .dataframe tbody tr th {\n",
       "        vertical-align: top;\n",
       "    }\n",
       "\n",
       "    .dataframe thead th {\n",
       "        text-align: right;\n",
       "    }\n",
       "</style>\n",
       "<table border=\"1\" class=\"dataframe\">\n",
       "  <thead>\n",
       "    <tr style=\"text-align: right;\">\n",
       "      <th></th>\n",
       "      <th>sent_id</th>\n",
       "      <th>tokens</th>\n",
       "      <th>pos_tags</th>\n",
       "      <th>chunk_tags</th>\n",
       "      <th>ner_tags</th>\n",
       "      <th>input_text</th>\n",
       "      <th>mapped_ner_tags</th>\n",
       "      <th>orgs</th>\n",
       "      <th>prompt</th>\n",
       "      <th>responses</th>\n",
       "      <th>hard_match</th>\n",
       "      <th>partial_match</th>\n",
       "    </tr>\n",
       "  </thead>\n",
       "  <tbody>\n",
       "    <tr>\n",
       "      <th>0</th>\n",
       "      <td>19</td>\n",
       "      <td>[Japan, ,, co-hosts, of, the, World, Cup, in, ...</td>\n",
       "      <td>[22, 6, 42, 15, 12, 22, 22, 15, 11, 10, 38, 16...</td>\n",
       "      <td>[11, 0, 21, 13, 11, 12, 12, 13, 11, 0, 21, 11,...</td>\n",
       "      <td>[5, 0, 0, 0, 0, 7, 8, 0, 0, 0, 0, 0, 0, 0, 0, ...</td>\n",
       "      <td>Japan , co-hosts of the World Cup in 2002 and ...</td>\n",
       "      <td>[B-LOC, O, O, O, O, B-MISC, I-MISC, O, O, O, O...</td>\n",
       "      <td>FIFA</td>\n",
       "      <td>I need you to show me organisations in the pro...</td>\n",
       "      <td>FIFA, World Cup,Japan</td>\n",
       "      <td>False</td>\n",
       "      <td>False</td>\n",
       "    </tr>\n",
       "    <tr>\n",
       "      <th>1</th>\n",
       "      <td>22</td>\n",
       "      <td>[RUGBY, UNION, -, CUTTITTA, BACK, FOR, ITALY, ...</td>\n",
       "      <td>[22, 21, 8, 22, 22, 15, 16, 22, 22, 22, 7]</td>\n",
       "      <td>[11, 12, 0, 11, 12, 13, 11, 12, 12, 12, 0]</td>\n",
       "      <td>[3, 4, 0, 1, 0, 0, 5, 0, 0, 0, 0]</td>\n",
       "      <td>RUGBY UNION - CUTTITTA BACK FOR ITALY AFTER A ...</td>\n",
       "      <td>[B-ORG, I-ORG, O, B-PER, O, O, B-LOC, O, O, O, O]</td>\n",
       "      <td>RUGBY UNION</td>\n",
       "      <td>I need you to show me organisations in the pro...</td>\n",
       "      <td>ITALY</td>\n",
       "      <td>False</td>\n",
       "      <td>False</td>\n",
       "    </tr>\n",
       "    <tr>\n",
       "      <th>2</th>\n",
       "      <td>141</td>\n",
       "      <td>[Plymouth, 4, Exeter, 1]</td>\n",
       "      <td>[21, 11, 22, 11]</td>\n",
       "      <td>[11, 12, 12, 12]</td>\n",
       "      <td>[3, 0, 3, 0]</td>\n",
       "      <td>Plymouth 4 Exeter 1</td>\n",
       "      <td>[B-ORG, O, B-ORG, O]</td>\n",
       "      <td>Exeter,Plymouth</td>\n",
       "      <td>I need you to show me organisations in the pro...</td>\n",
       "      <td></td>\n",
       "      <td>False</td>\n",
       "      <td>False</td>\n",
       "    </tr>\n",
       "    <tr>\n",
       "      <th>3</th>\n",
       "      <td>144</td>\n",
       "      <td>[Dutch, forward, Reggie, Blinker, had, his, in...</td>\n",
       "      <td>[16, 16, 22, 22, 38, 29, 16, 21, 40, 15, 22, 1...</td>\n",
       "      <td>[11, 12, 12, 12, 21, 11, 12, 12, 21, 13, 11, 1...</td>\n",
       "      <td>[7, 0, 1, 2, 0, 0, 0, 0, 0, 0, 3, 0, 0, 0, 0, ...</td>\n",
       "      <td>Dutch forward Reggie Blinker had his indefinit...</td>\n",
       "      <td>[B-MISC, O, B-PER, I-PER, O, O, O, O, O, O, B-...</td>\n",
       "      <td>Liverpool, Sheffield Wednesday,FIFA</td>\n",
       "      <td>I need you to show me organisations in the pro...</td>\n",
       "      <td>Liverpool, Sheffield Wednesday,FIFA</td>\n",
       "      <td>True</td>\n",
       "      <td>False</td>\n",
       "    </tr>\n",
       "    <tr>\n",
       "      <th>4</th>\n",
       "      <td>145</td>\n",
       "      <td>[Blinker, missed, his, club, 's, last, two, ga...</td>\n",
       "      <td>[21, 38, 29, 21, 27, 16, 11, 24, 15, 22, 38, 1...</td>\n",
       "      <td>[11, 21, 11, 12, 11, 12, 12, 12, 13, 11, 21, 1...</td>\n",
       "      <td>[1, 0, 0, 0, 0, 0, 0, 0, 0, 3, 0, 0, 0, 0, 0, ...</td>\n",
       "      <td>Blinker missed his club 's last two games afte...</td>\n",
       "      <td>[B-PER, O, O, O, O, O, O, O, O, B-ORG, O, O, O...</td>\n",
       "      <td>Feyenoord, Udinese, Wednesday,FIFA</td>\n",
       "      <td>I need you to show me organisations in the pro...</td>\n",
       "      <td>Feyenoord, Udinese, Wednesday,FIFA</td>\n",
       "      <td>True</td>\n",
       "      <td>False</td>\n",
       "    </tr>\n",
       "  </tbody>\n",
       "</table>\n",
       "</div>"
      ],
      "text/plain": [
       "  sent_id  \\\n",
       "0      19   \n",
       "1      22   \n",
       "2     141   \n",
       "3     144   \n",
       "4     145   \n",
       "\n",
       "                                              tokens  \\\n",
       "0  [Japan, ,, co-hosts, of, the, World, Cup, in, ...   \n",
       "1  [RUGBY, UNION, -, CUTTITTA, BACK, FOR, ITALY, ...   \n",
       "2                           [Plymouth, 4, Exeter, 1]   \n",
       "3  [Dutch, forward, Reggie, Blinker, had, his, in...   \n",
       "4  [Blinker, missed, his, club, 's, last, two, ga...   \n",
       "\n",
       "                                            pos_tags  \\\n",
       "0  [22, 6, 42, 15, 12, 22, 22, 15, 11, 10, 38, 16...   \n",
       "1         [22, 21, 8, 22, 22, 15, 16, 22, 22, 22, 7]   \n",
       "2                                   [21, 11, 22, 11]   \n",
       "3  [16, 16, 22, 22, 38, 29, 16, 21, 40, 15, 22, 1...   \n",
       "4  [21, 38, 29, 21, 27, 16, 11, 24, 15, 22, 38, 1...   \n",
       "\n",
       "                                          chunk_tags  \\\n",
       "0  [11, 0, 21, 13, 11, 12, 12, 13, 11, 0, 21, 11,...   \n",
       "1         [11, 12, 0, 11, 12, 13, 11, 12, 12, 12, 0]   \n",
       "2                                   [11, 12, 12, 12]   \n",
       "3  [11, 12, 12, 12, 21, 11, 12, 12, 21, 13, 11, 1...   \n",
       "4  [11, 21, 11, 12, 11, 12, 12, 12, 13, 11, 21, 1...   \n",
       "\n",
       "                                            ner_tags  \\\n",
       "0  [5, 0, 0, 0, 0, 7, 8, 0, 0, 0, 0, 0, 0, 0, 0, ...   \n",
       "1                  [3, 4, 0, 1, 0, 0, 5, 0, 0, 0, 0]   \n",
       "2                                       [3, 0, 3, 0]   \n",
       "3  [7, 0, 1, 2, 0, 0, 0, 0, 0, 0, 3, 0, 0, 0, 0, ...   \n",
       "4  [1, 0, 0, 0, 0, 0, 0, 0, 0, 3, 0, 0, 0, 0, 0, ...   \n",
       "\n",
       "                                          input_text  \\\n",
       "0  Japan , co-hosts of the World Cup in 2002 and ...   \n",
       "1  RUGBY UNION - CUTTITTA BACK FOR ITALY AFTER A ...   \n",
       "2                                Plymouth 4 Exeter 1   \n",
       "3  Dutch forward Reggie Blinker had his indefinit...   \n",
       "4  Blinker missed his club 's last two games afte...   \n",
       "\n",
       "                                     mapped_ner_tags  \\\n",
       "0  [B-LOC, O, O, O, O, B-MISC, I-MISC, O, O, O, O...   \n",
       "1  [B-ORG, I-ORG, O, B-PER, O, O, B-LOC, O, O, O, O]   \n",
       "2                               [B-ORG, O, B-ORG, O]   \n",
       "3  [B-MISC, O, B-PER, I-PER, O, O, O, O, O, O, B-...   \n",
       "4  [B-PER, O, O, O, O, O, O, O, O, B-ORG, O, O, O...   \n",
       "\n",
       "                                   orgs  \\\n",
       "0                                  FIFA   \n",
       "1                           RUGBY UNION   \n",
       "2                       Exeter,Plymouth   \n",
       "3   Liverpool, Sheffield Wednesday,FIFA   \n",
       "4    Feyenoord, Udinese, Wednesday,FIFA   \n",
       "\n",
       "                                              prompt  \\\n",
       "0  I need you to show me organisations in the pro...   \n",
       "1  I need you to show me organisations in the pro...   \n",
       "2  I need you to show me organisations in the pro...   \n",
       "3  I need you to show me organisations in the pro...   \n",
       "4  I need you to show me organisations in the pro...   \n",
       "\n",
       "                              responses  \\\n",
       "0                 FIFA, World Cup,Japan   \n",
       "1                                 ITALY   \n",
       "2                                         \n",
       "3   Liverpool, Sheffield Wednesday,FIFA   \n",
       "4    Feyenoord, Udinese, Wednesday,FIFA   \n",
       "\n",
       "   hard_match  partial_match  \n",
       "0       False          False  \n",
       "1       False          False  \n",
       "2       False          False  \n",
       "3        True          False  \n",
       "4        True          False  "
      ]
     },
     "execution_count": 32,
     "metadata": {},
     "output_type": "execute_result"
    }
   ],
   "source": [
    "conll2003_test_orgs_responses['partial_match'] = False  # Initialize the column with False values\n",
    "\n",
    "# Iterate over each row using .iterrows()\n",
    "for idx, row in conll2003_test_orgs_responses.iterrows():\n",
    "    orgs = row['orgs']\n",
    "    responses_orgs_only = row['responses']\n",
    "    partial_match = (\n",
    "        (any(org in responses_orgs_only.split(', ') for org in orgs) and\n",
    "         not all(org in responses_orgs_only.split(', ') for org in orgs))\n",
    "    ) or (\n",
    "        any(org in orgs.split(', ') for org in responses_orgs_only.split(', ')) and\n",
    "        not all(org in orgs.split(', ') for org in responses_orgs_only.split(', '))\n",
    "    )\n",
    "    conll2003_test_orgs_responses.loc[idx, 'partial_match'] = partial_match\n",
    "\n",
    "# Calculate the sum where 'partial_match' is True\n",
    "soft_true_count = conll2003_test_orgs_responses['partial_match'].sum()\n",
    "print(\"Sum where 'partial_match' is True:\", soft_true_count)\n",
    "\n",
    "# Display the updated DataFrame\n",
    "conll2003_test_orgs_responses.head()\n"
   ]
  },
  {
   "cell_type": "markdown",
   "id": "38adf24d",
   "metadata": {},
   "source": [
    "## Identify additional orgs found\n",
    "* Being where responses_orgs_only contains an item (word in comma-separated list) that is not in the orgs col (which is also a comma-separated list of orgs)\n",
    "* 2 new cols: additional_orgs_found, with a list of any new orgs found.\n",
    "* count_new_orgs_found, being sum of any new orgs in each row."
   ]
  },
  {
   "cell_type": "code",
   "execution_count": 33,
   "id": "b156bbed",
   "metadata": {},
   "outputs": [
    {
     "name": "stdout",
     "output_type": "stream",
     "text": [
      "Sum of 'count_new_orgs_found': 359\n"
     ]
    },
    {
     "data": {
      "text/html": [
       "<div>\n",
       "<style scoped>\n",
       "    .dataframe tbody tr th:only-of-type {\n",
       "        vertical-align: middle;\n",
       "    }\n",
       "\n",
       "    .dataframe tbody tr th {\n",
       "        vertical-align: top;\n",
       "    }\n",
       "\n",
       "    .dataframe thead th {\n",
       "        text-align: right;\n",
       "    }\n",
       "</style>\n",
       "<table border=\"1\" class=\"dataframe\">\n",
       "  <thead>\n",
       "    <tr style=\"text-align: right;\">\n",
       "      <th></th>\n",
       "      <th>sent_id</th>\n",
       "      <th>tokens</th>\n",
       "      <th>pos_tags</th>\n",
       "      <th>chunk_tags</th>\n",
       "      <th>ner_tags</th>\n",
       "      <th>input_text</th>\n",
       "      <th>mapped_ner_tags</th>\n",
       "      <th>orgs</th>\n",
       "      <th>prompt</th>\n",
       "      <th>responses</th>\n",
       "      <th>hard_match</th>\n",
       "      <th>partial_match</th>\n",
       "      <th>additional_orgs_found</th>\n",
       "      <th>count_new_orgs_found</th>\n",
       "    </tr>\n",
       "  </thead>\n",
       "  <tbody>\n",
       "    <tr>\n",
       "      <th>0</th>\n",
       "      <td>19</td>\n",
       "      <td>[Japan, ,, co-hosts, of, the, World, Cup, in, ...</td>\n",
       "      <td>[22, 6, 42, 15, 12, 22, 22, 15, 11, 10, 38, 16...</td>\n",
       "      <td>[11, 0, 21, 13, 11, 12, 12, 13, 11, 0, 21, 11,...</td>\n",
       "      <td>[5, 0, 0, 0, 0, 7, 8, 0, 0, 0, 0, 0, 0, 0, 0, ...</td>\n",
       "      <td>Japan , co-hosts of the World Cup in 2002 and ...</td>\n",
       "      <td>[B-LOC, O, O, O, O, B-MISC, I-MISC, O, O, O, O...</td>\n",
       "      <td>FIFA</td>\n",
       "      <td>I need you to show me organisations in the pro...</td>\n",
       "      <td>FIFA, World Cup,Japan</td>\n",
       "      <td>False</td>\n",
       "      <td>False</td>\n",
       "      <td>[ FIFA, World Cup,Japan]</td>\n",
       "      <td>2</td>\n",
       "    </tr>\n",
       "    <tr>\n",
       "      <th>1</th>\n",
       "      <td>22</td>\n",
       "      <td>[RUGBY, UNION, -, CUTTITTA, BACK, FOR, ITALY, ...</td>\n",
       "      <td>[22, 21, 8, 22, 22, 15, 16, 22, 22, 22, 7]</td>\n",
       "      <td>[11, 12, 0, 11, 12, 13, 11, 12, 12, 12, 0]</td>\n",
       "      <td>[3, 4, 0, 1, 0, 0, 5, 0, 0, 0, 0]</td>\n",
       "      <td>RUGBY UNION - CUTTITTA BACK FOR ITALY AFTER A ...</td>\n",
       "      <td>[B-ORG, I-ORG, O, B-PER, O, O, B-LOC, O, O, O, O]</td>\n",
       "      <td>RUGBY UNION</td>\n",
       "      <td>I need you to show me organisations in the pro...</td>\n",
       "      <td>ITALY</td>\n",
       "      <td>False</td>\n",
       "      <td>False</td>\n",
       "      <td>[ITALY]</td>\n",
       "      <td>1</td>\n",
       "    </tr>\n",
       "    <tr>\n",
       "      <th>2</th>\n",
       "      <td>141</td>\n",
       "      <td>[Plymouth, 4, Exeter, 1]</td>\n",
       "      <td>[21, 11, 22, 11]</td>\n",
       "      <td>[11, 12, 12, 12]</td>\n",
       "      <td>[3, 0, 3, 0]</td>\n",
       "      <td>Plymouth 4 Exeter 1</td>\n",
       "      <td>[B-ORG, O, B-ORG, O]</td>\n",
       "      <td>Exeter,Plymouth</td>\n",
       "      <td>I need you to show me organisations in the pro...</td>\n",
       "      <td></td>\n",
       "      <td>False</td>\n",
       "      <td>False</td>\n",
       "      <td>[]</td>\n",
       "      <td>0</td>\n",
       "    </tr>\n",
       "    <tr>\n",
       "      <th>3</th>\n",
       "      <td>144</td>\n",
       "      <td>[Dutch, forward, Reggie, Blinker, had, his, in...</td>\n",
       "      <td>[16, 16, 22, 22, 38, 29, 16, 21, 40, 15, 22, 1...</td>\n",
       "      <td>[11, 12, 12, 12, 21, 11, 12, 12, 21, 13, 11, 1...</td>\n",
       "      <td>[7, 0, 1, 2, 0, 0, 0, 0, 0, 0, 3, 0, 0, 0, 0, ...</td>\n",
       "      <td>Dutch forward Reggie Blinker had his indefinit...</td>\n",
       "      <td>[B-MISC, O, B-PER, I-PER, O, O, O, O, O, O, B-...</td>\n",
       "      <td>Liverpool, Sheffield Wednesday,FIFA</td>\n",
       "      <td>I need you to show me organisations in the pro...</td>\n",
       "      <td>Liverpool, Sheffield Wednesday,FIFA</td>\n",
       "      <td>True</td>\n",
       "      <td>False</td>\n",
       "      <td>[]</td>\n",
       "      <td>0</td>\n",
       "    </tr>\n",
       "    <tr>\n",
       "      <th>4</th>\n",
       "      <td>145</td>\n",
       "      <td>[Blinker, missed, his, club, 's, last, two, ga...</td>\n",
       "      <td>[21, 38, 29, 21, 27, 16, 11, 24, 15, 22, 38, 1...</td>\n",
       "      <td>[11, 21, 11, 12, 11, 12, 12, 12, 13, 11, 21, 1...</td>\n",
       "      <td>[1, 0, 0, 0, 0, 0, 0, 0, 0, 3, 0, 0, 0, 0, 0, ...</td>\n",
       "      <td>Blinker missed his club 's last two games afte...</td>\n",
       "      <td>[B-PER, O, O, O, O, O, O, O, O, B-ORG, O, O, O...</td>\n",
       "      <td>Feyenoord, Udinese, Wednesday,FIFA</td>\n",
       "      <td>I need you to show me organisations in the pro...</td>\n",
       "      <td>Feyenoord, Udinese, Wednesday,FIFA</td>\n",
       "      <td>True</td>\n",
       "      <td>False</td>\n",
       "      <td>[]</td>\n",
       "      <td>0</td>\n",
       "    </tr>\n",
       "  </tbody>\n",
       "</table>\n",
       "</div>"
      ],
      "text/plain": [
       "  sent_id  \\\n",
       "0      19   \n",
       "1      22   \n",
       "2     141   \n",
       "3     144   \n",
       "4     145   \n",
       "\n",
       "                                              tokens  \\\n",
       "0  [Japan, ,, co-hosts, of, the, World, Cup, in, ...   \n",
       "1  [RUGBY, UNION, -, CUTTITTA, BACK, FOR, ITALY, ...   \n",
       "2                           [Plymouth, 4, Exeter, 1]   \n",
       "3  [Dutch, forward, Reggie, Blinker, had, his, in...   \n",
       "4  [Blinker, missed, his, club, 's, last, two, ga...   \n",
       "\n",
       "                                            pos_tags  \\\n",
       "0  [22, 6, 42, 15, 12, 22, 22, 15, 11, 10, 38, 16...   \n",
       "1         [22, 21, 8, 22, 22, 15, 16, 22, 22, 22, 7]   \n",
       "2                                   [21, 11, 22, 11]   \n",
       "3  [16, 16, 22, 22, 38, 29, 16, 21, 40, 15, 22, 1...   \n",
       "4  [21, 38, 29, 21, 27, 16, 11, 24, 15, 22, 38, 1...   \n",
       "\n",
       "                                          chunk_tags  \\\n",
       "0  [11, 0, 21, 13, 11, 12, 12, 13, 11, 0, 21, 11,...   \n",
       "1         [11, 12, 0, 11, 12, 13, 11, 12, 12, 12, 0]   \n",
       "2                                   [11, 12, 12, 12]   \n",
       "3  [11, 12, 12, 12, 21, 11, 12, 12, 21, 13, 11, 1...   \n",
       "4  [11, 21, 11, 12, 11, 12, 12, 12, 13, 11, 21, 1...   \n",
       "\n",
       "                                            ner_tags  \\\n",
       "0  [5, 0, 0, 0, 0, 7, 8, 0, 0, 0, 0, 0, 0, 0, 0, ...   \n",
       "1                  [3, 4, 0, 1, 0, 0, 5, 0, 0, 0, 0]   \n",
       "2                                       [3, 0, 3, 0]   \n",
       "3  [7, 0, 1, 2, 0, 0, 0, 0, 0, 0, 3, 0, 0, 0, 0, ...   \n",
       "4  [1, 0, 0, 0, 0, 0, 0, 0, 0, 3, 0, 0, 0, 0, 0, ...   \n",
       "\n",
       "                                          input_text  \\\n",
       "0  Japan , co-hosts of the World Cup in 2002 and ...   \n",
       "1  RUGBY UNION - CUTTITTA BACK FOR ITALY AFTER A ...   \n",
       "2                                Plymouth 4 Exeter 1   \n",
       "3  Dutch forward Reggie Blinker had his indefinit...   \n",
       "4  Blinker missed his club 's last two games afte...   \n",
       "\n",
       "                                     mapped_ner_tags  \\\n",
       "0  [B-LOC, O, O, O, O, B-MISC, I-MISC, O, O, O, O...   \n",
       "1  [B-ORG, I-ORG, O, B-PER, O, O, B-LOC, O, O, O, O]   \n",
       "2                               [B-ORG, O, B-ORG, O]   \n",
       "3  [B-MISC, O, B-PER, I-PER, O, O, O, O, O, O, B-...   \n",
       "4  [B-PER, O, O, O, O, O, O, O, O, B-ORG, O, O, O...   \n",
       "\n",
       "                                   orgs  \\\n",
       "0                                  FIFA   \n",
       "1                           RUGBY UNION   \n",
       "2                       Exeter,Plymouth   \n",
       "3   Liverpool, Sheffield Wednesday,FIFA   \n",
       "4    Feyenoord, Udinese, Wednesday,FIFA   \n",
       "\n",
       "                                              prompt  \\\n",
       "0  I need you to show me organisations in the pro...   \n",
       "1  I need you to show me organisations in the pro...   \n",
       "2  I need you to show me organisations in the pro...   \n",
       "3  I need you to show me organisations in the pro...   \n",
       "4  I need you to show me organisations in the pro...   \n",
       "\n",
       "                              responses  \\\n",
       "0                 FIFA, World Cup,Japan   \n",
       "1                                 ITALY   \n",
       "2                                         \n",
       "3   Liverpool, Sheffield Wednesday,FIFA   \n",
       "4    Feyenoord, Udinese, Wednesday,FIFA   \n",
       "\n",
       "   hard_match  partial_match  \\\n",
       "0       False          False   \n",
       "1       False          False   \n",
       "2       False          False   \n",
       "3        True          False   \n",
       "4        True          False   \n",
       "\n",
       "      additional_orgs_found  \\\n",
       "0  [ FIFA, World Cup,Japan]   \n",
       "1                   [ITALY]   \n",
       "2                        []   \n",
       "3                        []   \n",
       "4                        []   \n",
       "\n",
       "   count_new_orgs_found  \n",
       "0                     2  \n",
       "1                     1  \n",
       "2                     0  \n",
       "3                     0  \n",
       "4                     0  "
      ]
     },
     "execution_count": 33,
     "metadata": {},
     "output_type": "execute_result"
    }
   ],
   "source": [
    "conll2003_test_orgs_responses['additional_orgs_found'] = conll2003_test_orgs_responses.apply(lambda row: [org for org in row['responses'].split(', ') if org not in row['orgs']], axis=1)\n",
    "\n",
    "conll2003_test_orgs_responses.loc[:, 'count_new_orgs_found'] = conll2003_test_orgs_responses['additional_orgs_found'].apply(lambda x: len(x))\n",
    "\n",
    "sum_count_new_orgs_found = conll2003_test_orgs_responses['count_new_orgs_found'].sum()\n",
    "print(\"Sum of 'count_new_orgs_found':\", sum_count_new_orgs_found)\n",
    "\n",
    "# Display the updated DataFrame\n",
    "conll2003_test_orgs_responses.head()\n"
   ]
  },
  {
   "cell_type": "markdown",
   "id": "520ce1ec",
   "metadata": {},
   "source": [
    "# Final export for manual verification"
   ]
  },
  {
   "cell_type": "code",
   "execution_count": 34,
   "id": "15e819d7",
   "metadata": {},
   "outputs": [],
   "source": [
    "# export to excel for manual verification:\n",
    "conll2003_test_orgs_responses.to_excel(\"./benchmarking/results/conll2003_test_orgs_RESPONSES.xlsx\")\n",
    "\n",
    "# export to pickle in case of future use.\n",
    "conll2003_test_orgs_responses.to_pickle(\"./benchmarking/results/conll2003_test_orgs_RESPONSES.pkl\")"
   ]
  },
  {
   "cell_type": "code",
   "execution_count": null,
   "id": "c8ba5a44",
   "metadata": {},
   "outputs": [],
   "source": []
  }
 ],
 "metadata": {
  "kernelspec": {
   "display_name": "Python 3 (ipykernel)",
   "language": "python",
   "name": "python3"
  },
  "language_info": {
   "codemirror_mode": {
    "name": "ipython",
    "version": 3
   },
   "file_extension": ".py",
   "mimetype": "text/x-python",
   "name": "python",
   "nbconvert_exporter": "python",
   "pygments_lexer": "ipython3",
   "version": "3.8.16"
  },
  "toc": {
   "base_numbering": 1,
   "nav_menu": {},
   "number_sections": true,
   "sideBar": true,
   "skip_h1_title": false,
   "title_cell": "Table of Contents",
   "title_sidebar": "Contents",
   "toc_cell": false,
   "toc_position": {
    "height": "calc(100% - 180px)",
    "left": "10px",
    "top": "150px",
    "width": "426.625px"
   },
   "toc_section_display": true,
   "toc_window_display": true
  },
  "varInspector": {
   "cols": {
    "lenName": 16,
    "lenType": 16,
    "lenVar": 40
   },
   "kernels_config": {
    "python": {
     "delete_cmd_postfix": "",
     "delete_cmd_prefix": "del ",
     "library": "var_list.py",
     "varRefreshCmd": "print(var_dic_list())"
    },
    "r": {
     "delete_cmd_postfix": ") ",
     "delete_cmd_prefix": "rm(",
     "library": "var_list.r",
     "varRefreshCmd": "cat(var_dic_list()) "
    }
   },
   "position": {
    "height": "316.84px",
    "left": "1543.99px",
    "right": "20px",
    "top": "120px",
    "width": "316.997px"
   },
   "types_to_exclude": [
    "module",
    "function",
    "builtin_function_or_method",
    "instance",
    "_Feature"
   ],
   "window_display": false
  }
 },
 "nbformat": 4,
 "nbformat_minor": 5
}
